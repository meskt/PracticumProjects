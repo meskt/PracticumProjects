{
 "cells": [
  {
   "cell_type": "markdown",
   "metadata": {},
   "source": [
    "# Определение стоимости автомобилей"
   ]
  },
  {
   "cell_type": "markdown",
   "metadata": {},
   "source": [
    "Сервис по продаже автомобилей с пробегом «Не бит, не крашен» разрабатывает приложение для привлечения новых клиентов. В нём можно быстро узнать рыночную стоимость своего автомобиля. В вашем распоряжении исторические данные: технические характеристики, комплектации и цены автомобилей. Вам нужно построить модель для определения стоимости. \n",
    "\n",
    "Заказчику важны:\n",
    "\n",
    "- качество предсказания;\n",
    "- скорость предсказания;\n",
    "- время обучения."
   ]
  },
  {
   "cell_type": "markdown",
   "metadata": {},
   "source": [
    "## Подготовка данных"
   ]
  },
  {
   "cell_type": "markdown",
   "metadata": {},
   "source": [
    "### Описание данных"
   ]
  },
  {
   "cell_type": "code",
   "execution_count": 1,
   "metadata": {},
   "outputs": [
    {
     "name": "stdout",
     "output_type": "stream",
     "text": [
      "Requirement already satisfied: scikit-learn==1.1.3 in /opt/conda/lib/python3.9/site-packages (1.1.3)\n",
      "Requirement already satisfied: threadpoolctl>=2.0.0 in /opt/conda/lib/python3.9/site-packages (from scikit-learn==1.1.3) (3.1.0)\n",
      "Requirement already satisfied: scipy>=1.3.2 in /opt/conda/lib/python3.9/site-packages (from scikit-learn==1.1.3) (1.9.1)\n",
      "Requirement already satisfied: numpy>=1.17.3 in /opt/conda/lib/python3.9/site-packages (from scikit-learn==1.1.3) (1.21.1)\n",
      "Requirement already satisfied: joblib>=1.0.0 in /opt/conda/lib/python3.9/site-packages (from scikit-learn==1.1.3) (1.1.0)\n"
     ]
    }
   ],
   "source": [
    "!pip install scikit-learn==1.1.3"
   ]
  },
  {
   "cell_type": "code",
   "execution_count": 2,
   "metadata": {},
   "outputs": [],
   "source": [
    "import pandas as pd\n",
    "import numpy as np\n",
    "import matplotlib.pyplot as plt\n",
    "from sklearn.preprocessing import OrdinalEncoder\n",
    "from sklearn.model_selection import train_test_split\n",
    "from sklearn.metrics import mean_squared_error as mse\n",
    "from sklearn.linear_model import LinearRegression\n",
    "from sklearn.metrics import mean_absolute_error\n",
    "from lightgbm import LGBMRegressor\n",
    "from sklearn.linear_model import LogisticRegression\n",
    "from catboost import CatBoostRegressor\n",
    "from sklearn.preprocessing import OneHotEncoder\n",
    "from sklearn.compose import make_column_transformer\n",
    "from sklearn.preprocessing import StandardScaler\n",
    "from sklearn.model_selection import GridSearchCV, RandomizedSearchCV\n",
    "from sklearn.ensemble import RandomForestRegressor\n",
    "\n",
    "import warnings\n",
    "warnings.filterwarnings(\"ignore\")"
   ]
  },
  {
   "cell_type": "code",
   "execution_count": 3,
   "metadata": {},
   "outputs": [],
   "source": [
    "data = pd.read_csv('/datasets/autos.csv')"
   ]
  },
  {
   "cell_type": "code",
   "execution_count": 4,
   "metadata": {},
   "outputs": [
    {
     "name": "stdout",
     "output_type": "stream",
     "text": [
      "<class 'pandas.core.frame.DataFrame'>\n",
      "RangeIndex: 354369 entries, 0 to 354368\n",
      "Data columns (total 16 columns):\n",
      " #   Column             Non-Null Count   Dtype \n",
      "---  ------             --------------   ----- \n",
      " 0   DateCrawled        354369 non-null  object\n",
      " 1   Price              354369 non-null  int64 \n",
      " 2   VehicleType        316879 non-null  object\n",
      " 3   RegistrationYear   354369 non-null  int64 \n",
      " 4   Gearbox            334536 non-null  object\n",
      " 5   Power              354369 non-null  int64 \n",
      " 6   Model              334664 non-null  object\n",
      " 7   Kilometer          354369 non-null  int64 \n",
      " 8   RegistrationMonth  354369 non-null  int64 \n",
      " 9   FuelType           321474 non-null  object\n",
      " 10  Brand              354369 non-null  object\n",
      " 11  Repaired           283215 non-null  object\n",
      " 12  DateCreated        354369 non-null  object\n",
      " 13  NumberOfPictures   354369 non-null  int64 \n",
      " 14  PostalCode         354369 non-null  int64 \n",
      " 15  LastSeen           354369 non-null  object\n",
      "dtypes: int64(7), object(9)\n",
      "memory usage: 43.3+ MB\n"
     ]
    }
   ],
   "source": [
    "data.info()"
   ]
  },
  {
   "cell_type": "code",
   "execution_count": 5,
   "metadata": {},
   "outputs": [
    {
     "data": {
      "text/html": [
       "<div>\n",
       "<style scoped>\n",
       "    .dataframe tbody tr th:only-of-type {\n",
       "        vertical-align: middle;\n",
       "    }\n",
       "\n",
       "    .dataframe tbody tr th {\n",
       "        vertical-align: top;\n",
       "    }\n",
       "\n",
       "    .dataframe thead th {\n",
       "        text-align: right;\n",
       "    }\n",
       "</style>\n",
       "<table border=\"1\" class=\"dataframe\">\n",
       "  <thead>\n",
       "    <tr style=\"text-align: right;\">\n",
       "      <th></th>\n",
       "      <th>Price</th>\n",
       "      <th>RegistrationYear</th>\n",
       "      <th>Power</th>\n",
       "      <th>Kilometer</th>\n",
       "      <th>RegistrationMonth</th>\n",
       "      <th>NumberOfPictures</th>\n",
       "      <th>PostalCode</th>\n",
       "    </tr>\n",
       "  </thead>\n",
       "  <tbody>\n",
       "    <tr>\n",
       "      <th>count</th>\n",
       "      <td>354369.000000</td>\n",
       "      <td>354369.000000</td>\n",
       "      <td>354369.000000</td>\n",
       "      <td>354369.000000</td>\n",
       "      <td>354369.000000</td>\n",
       "      <td>354369.0</td>\n",
       "      <td>354369.000000</td>\n",
       "    </tr>\n",
       "    <tr>\n",
       "      <th>mean</th>\n",
       "      <td>4416.656776</td>\n",
       "      <td>2004.234448</td>\n",
       "      <td>110.094337</td>\n",
       "      <td>128211.172535</td>\n",
       "      <td>5.714645</td>\n",
       "      <td>0.0</td>\n",
       "      <td>50508.689087</td>\n",
       "    </tr>\n",
       "    <tr>\n",
       "      <th>std</th>\n",
       "      <td>4514.158514</td>\n",
       "      <td>90.227958</td>\n",
       "      <td>189.850405</td>\n",
       "      <td>37905.341530</td>\n",
       "      <td>3.726421</td>\n",
       "      <td>0.0</td>\n",
       "      <td>25783.096248</td>\n",
       "    </tr>\n",
       "    <tr>\n",
       "      <th>min</th>\n",
       "      <td>0.000000</td>\n",
       "      <td>1000.000000</td>\n",
       "      <td>0.000000</td>\n",
       "      <td>5000.000000</td>\n",
       "      <td>0.000000</td>\n",
       "      <td>0.0</td>\n",
       "      <td>1067.000000</td>\n",
       "    </tr>\n",
       "    <tr>\n",
       "      <th>25%</th>\n",
       "      <td>1050.000000</td>\n",
       "      <td>1999.000000</td>\n",
       "      <td>69.000000</td>\n",
       "      <td>125000.000000</td>\n",
       "      <td>3.000000</td>\n",
       "      <td>0.0</td>\n",
       "      <td>30165.000000</td>\n",
       "    </tr>\n",
       "    <tr>\n",
       "      <th>50%</th>\n",
       "      <td>2700.000000</td>\n",
       "      <td>2003.000000</td>\n",
       "      <td>105.000000</td>\n",
       "      <td>150000.000000</td>\n",
       "      <td>6.000000</td>\n",
       "      <td>0.0</td>\n",
       "      <td>49413.000000</td>\n",
       "    </tr>\n",
       "    <tr>\n",
       "      <th>75%</th>\n",
       "      <td>6400.000000</td>\n",
       "      <td>2008.000000</td>\n",
       "      <td>143.000000</td>\n",
       "      <td>150000.000000</td>\n",
       "      <td>9.000000</td>\n",
       "      <td>0.0</td>\n",
       "      <td>71083.000000</td>\n",
       "    </tr>\n",
       "    <tr>\n",
       "      <th>max</th>\n",
       "      <td>20000.000000</td>\n",
       "      <td>9999.000000</td>\n",
       "      <td>20000.000000</td>\n",
       "      <td>150000.000000</td>\n",
       "      <td>12.000000</td>\n",
       "      <td>0.0</td>\n",
       "      <td>99998.000000</td>\n",
       "    </tr>\n",
       "  </tbody>\n",
       "</table>\n",
       "</div>"
      ],
      "text/plain": [
       "               Price  RegistrationYear          Power      Kilometer  \\\n",
       "count  354369.000000     354369.000000  354369.000000  354369.000000   \n",
       "mean     4416.656776       2004.234448     110.094337  128211.172535   \n",
       "std      4514.158514         90.227958     189.850405   37905.341530   \n",
       "min         0.000000       1000.000000       0.000000    5000.000000   \n",
       "25%      1050.000000       1999.000000      69.000000  125000.000000   \n",
       "50%      2700.000000       2003.000000     105.000000  150000.000000   \n",
       "75%      6400.000000       2008.000000     143.000000  150000.000000   \n",
       "max     20000.000000       9999.000000   20000.000000  150000.000000   \n",
       "\n",
       "       RegistrationMonth  NumberOfPictures     PostalCode  \n",
       "count      354369.000000          354369.0  354369.000000  \n",
       "mean            5.714645               0.0   50508.689087  \n",
       "std             3.726421               0.0   25783.096248  \n",
       "min             0.000000               0.0    1067.000000  \n",
       "25%             3.000000               0.0   30165.000000  \n",
       "50%             6.000000               0.0   49413.000000  \n",
       "75%             9.000000               0.0   71083.000000  \n",
       "max            12.000000               0.0   99998.000000  "
      ]
     },
     "execution_count": 5,
     "metadata": {},
     "output_type": "execute_result"
    }
   ],
   "source": [
    "data.describe()"
   ]
  },
  {
   "cell_type": "code",
   "execution_count": 6,
   "metadata": {},
   "outputs": [
    {
     "data": {
      "text/plain": [
       "4"
      ]
     },
     "execution_count": 6,
     "metadata": {},
     "output_type": "execute_result"
    }
   ],
   "source": [
    "data.duplicated().sum()"
   ]
  },
  {
   "cell_type": "code",
   "execution_count": 7,
   "metadata": {},
   "outputs": [
    {
     "data": {
      "text/plain": [
       "DateCrawled              0\n",
       "Price                    0\n",
       "VehicleType          37490\n",
       "RegistrationYear         0\n",
       "Gearbox              19833\n",
       "Power                    0\n",
       "Model                19705\n",
       "Kilometer                0\n",
       "RegistrationMonth        0\n",
       "FuelType             32895\n",
       "Brand                    0\n",
       "Repaired             71154\n",
       "DateCreated              0\n",
       "NumberOfPictures         0\n",
       "PostalCode               0\n",
       "LastSeen                 0\n",
       "dtype: int64"
      ]
     },
     "execution_count": 7,
     "metadata": {},
     "output_type": "execute_result"
    }
   ],
   "source": [
    "data.isna().sum()"
   ]
  },
  {
   "cell_type": "code",
   "execution_count": 8,
   "metadata": {
    "scrolled": true
   },
   "outputs": [
    {
     "data": {
      "text/html": [
       "<div>\n",
       "<style scoped>\n",
       "    .dataframe tbody tr th:only-of-type {\n",
       "        vertical-align: middle;\n",
       "    }\n",
       "\n",
       "    .dataframe tbody tr th {\n",
       "        vertical-align: top;\n",
       "    }\n",
       "\n",
       "    .dataframe thead th {\n",
       "        text-align: right;\n",
       "    }\n",
       "</style>\n",
       "<table border=\"1\" class=\"dataframe\">\n",
       "  <thead>\n",
       "    <tr style=\"text-align: right;\">\n",
       "      <th></th>\n",
       "      <th>DateCrawled</th>\n",
       "      <th>Price</th>\n",
       "      <th>VehicleType</th>\n",
       "      <th>RegistrationYear</th>\n",
       "      <th>Gearbox</th>\n",
       "      <th>Power</th>\n",
       "      <th>Model</th>\n",
       "      <th>Kilometer</th>\n",
       "      <th>RegistrationMonth</th>\n",
       "      <th>FuelType</th>\n",
       "      <th>Brand</th>\n",
       "      <th>Repaired</th>\n",
       "      <th>DateCreated</th>\n",
       "      <th>NumberOfPictures</th>\n",
       "      <th>PostalCode</th>\n",
       "      <th>LastSeen</th>\n",
       "    </tr>\n",
       "  </thead>\n",
       "  <tbody>\n",
       "    <tr>\n",
       "      <th>0</th>\n",
       "      <td>2016-03-24 11:52:17</td>\n",
       "      <td>480</td>\n",
       "      <td>NaN</td>\n",
       "      <td>1993</td>\n",
       "      <td>manual</td>\n",
       "      <td>0</td>\n",
       "      <td>golf</td>\n",
       "      <td>150000</td>\n",
       "      <td>0</td>\n",
       "      <td>petrol</td>\n",
       "      <td>volkswagen</td>\n",
       "      <td>NaN</td>\n",
       "      <td>2016-03-24 00:00:00</td>\n",
       "      <td>0</td>\n",
       "      <td>70435</td>\n",
       "      <td>2016-04-07 03:16:57</td>\n",
       "    </tr>\n",
       "    <tr>\n",
       "      <th>1</th>\n",
       "      <td>2016-03-24 10:58:45</td>\n",
       "      <td>18300</td>\n",
       "      <td>coupe</td>\n",
       "      <td>2011</td>\n",
       "      <td>manual</td>\n",
       "      <td>190</td>\n",
       "      <td>NaN</td>\n",
       "      <td>125000</td>\n",
       "      <td>5</td>\n",
       "      <td>gasoline</td>\n",
       "      <td>audi</td>\n",
       "      <td>yes</td>\n",
       "      <td>2016-03-24 00:00:00</td>\n",
       "      <td>0</td>\n",
       "      <td>66954</td>\n",
       "      <td>2016-04-07 01:46:50</td>\n",
       "    </tr>\n",
       "    <tr>\n",
       "      <th>2</th>\n",
       "      <td>2016-03-14 12:52:21</td>\n",
       "      <td>9800</td>\n",
       "      <td>suv</td>\n",
       "      <td>2004</td>\n",
       "      <td>auto</td>\n",
       "      <td>163</td>\n",
       "      <td>grand</td>\n",
       "      <td>125000</td>\n",
       "      <td>8</td>\n",
       "      <td>gasoline</td>\n",
       "      <td>jeep</td>\n",
       "      <td>NaN</td>\n",
       "      <td>2016-03-14 00:00:00</td>\n",
       "      <td>0</td>\n",
       "      <td>90480</td>\n",
       "      <td>2016-04-05 12:47:46</td>\n",
       "    </tr>\n",
       "    <tr>\n",
       "      <th>3</th>\n",
       "      <td>2016-03-17 16:54:04</td>\n",
       "      <td>1500</td>\n",
       "      <td>small</td>\n",
       "      <td>2001</td>\n",
       "      <td>manual</td>\n",
       "      <td>75</td>\n",
       "      <td>golf</td>\n",
       "      <td>150000</td>\n",
       "      <td>6</td>\n",
       "      <td>petrol</td>\n",
       "      <td>volkswagen</td>\n",
       "      <td>no</td>\n",
       "      <td>2016-03-17 00:00:00</td>\n",
       "      <td>0</td>\n",
       "      <td>91074</td>\n",
       "      <td>2016-03-17 17:40:17</td>\n",
       "    </tr>\n",
       "    <tr>\n",
       "      <th>4</th>\n",
       "      <td>2016-03-31 17:25:20</td>\n",
       "      <td>3600</td>\n",
       "      <td>small</td>\n",
       "      <td>2008</td>\n",
       "      <td>manual</td>\n",
       "      <td>69</td>\n",
       "      <td>fabia</td>\n",
       "      <td>90000</td>\n",
       "      <td>7</td>\n",
       "      <td>gasoline</td>\n",
       "      <td>skoda</td>\n",
       "      <td>no</td>\n",
       "      <td>2016-03-31 00:00:00</td>\n",
       "      <td>0</td>\n",
       "      <td>60437</td>\n",
       "      <td>2016-04-06 10:17:21</td>\n",
       "    </tr>\n",
       "  </tbody>\n",
       "</table>\n",
       "</div>"
      ],
      "text/plain": [
       "           DateCrawled  Price VehicleType  RegistrationYear Gearbox  Power  \\\n",
       "0  2016-03-24 11:52:17    480         NaN              1993  manual      0   \n",
       "1  2016-03-24 10:58:45  18300       coupe              2011  manual    190   \n",
       "2  2016-03-14 12:52:21   9800         suv              2004    auto    163   \n",
       "3  2016-03-17 16:54:04   1500       small              2001  manual     75   \n",
       "4  2016-03-31 17:25:20   3600       small              2008  manual     69   \n",
       "\n",
       "   Model  Kilometer  RegistrationMonth  FuelType       Brand Repaired  \\\n",
       "0   golf     150000                  0    petrol  volkswagen      NaN   \n",
       "1    NaN     125000                  5  gasoline        audi      yes   \n",
       "2  grand     125000                  8  gasoline        jeep      NaN   \n",
       "3   golf     150000                  6    petrol  volkswagen       no   \n",
       "4  fabia      90000                  7  gasoline       skoda       no   \n",
       "\n",
       "           DateCreated  NumberOfPictures  PostalCode             LastSeen  \n",
       "0  2016-03-24 00:00:00                 0       70435  2016-04-07 03:16:57  \n",
       "1  2016-03-24 00:00:00                 0       66954  2016-04-07 01:46:50  \n",
       "2  2016-03-14 00:00:00                 0       90480  2016-04-05 12:47:46  \n",
       "3  2016-03-17 00:00:00                 0       91074  2016-03-17 17:40:17  \n",
       "4  2016-03-31 00:00:00                 0       60437  2016-04-06 10:17:21  "
      ]
     },
     "execution_count": 8,
     "metadata": {},
     "output_type": "execute_result"
    }
   ],
   "source": [
    "data.head()"
   ]
  },
  {
   "cell_type": "markdown",
   "metadata": {},
   "source": [
    "В исходных данных можно увидеть несколько проблем: некорректный тип данных или эти признаки в целом не являются важными для определения стоимости автомобиля. Кроме этого, в таблице выявлено 4 дубликата (при общем количестве строк их удаление не исказит вычисления) и значительное количество пропусков в 4 признаках: VehicleType, Gearbox, Model, FuelType, Repaired.\n",
    "\n",
    "Попробуем преобразовать данные для более корректной дальнейшей работы."
   ]
  },
  {
   "cell_type": "markdown",
   "metadata": {},
   "source": [
    "### Предобработка данных"
   ]
  },
  {
   "cell_type": "code",
   "execution_count": 9,
   "metadata": {},
   "outputs": [],
   "source": [
    "data = data.drop(['DateCrawled', 'DateCreated', 'LastSeen', 'NumberOfPictures', 'PostalCode', 'RegistrationMonth'], axis = 1)\n",
    "data = data.drop_duplicates()"
   ]
  },
  {
   "cell_type": "code",
   "execution_count": 10,
   "metadata": {},
   "outputs": [
    {
     "data": {
      "text/plain": [
       "array([nan, 'yes', 'no'], dtype=object)"
      ]
     },
     "execution_count": 10,
     "metadata": {},
     "output_type": "execute_result"
    }
   ],
   "source": [
    "data['Repaired'].unique()"
   ]
  },
  {
   "cell_type": "markdown",
   "metadata": {},
   "source": [
    "Можно предположить, что пропуски в столбце Repaired означают, что машина не была в ремонте. Поэтому заменим здесь пропуски на значение 'no'"
   ]
  },
  {
   "cell_type": "code",
   "execution_count": 11,
   "metadata": {},
   "outputs": [],
   "source": [
    "data['Repaired'] = data['Repaired'].fillna('no', inplace=True)"
   ]
  },
  {
   "cell_type": "code",
   "execution_count": 12,
   "metadata": {},
   "outputs": [
    {
     "data": {
      "text/plain": [
       "array(['petrol', 'gasoline', nan, 'lpg', 'other', 'hybrid', 'cng',\n",
       "       'electric'], dtype=object)"
      ]
     },
     "execution_count": 12,
     "metadata": {},
     "output_type": "execute_result"
    }
   ],
   "source": [
    "data['FuelType'].unique()"
   ]
  },
  {
   "cell_type": "code",
   "execution_count": 13,
   "metadata": {},
   "outputs": [
    {
     "data": {
      "text/plain": [
       "array([nan, 'coupe', 'suv', 'small', 'sedan', 'convertible', 'bus',\n",
       "       'wagon', 'other'], dtype=object)"
      ]
     },
     "execution_count": 13,
     "metadata": {},
     "output_type": "execute_result"
    }
   ],
   "source": [
    "data['VehicleType'].unique()"
   ]
  },
  {
   "cell_type": "markdown",
   "metadata": {},
   "source": [
    "В признаках FuelType и VehicleType есть значение 'other'. Вероятнее, значения в строках с пропусками не подходили под основные типы топлива или автомобильного кузова. Поэтому здесь пропуски заменим на категорию 'other'."
   ]
  },
  {
   "cell_type": "code",
   "execution_count": 14,
   "metadata": {},
   "outputs": [],
   "source": [
    "data.fillna({'FuelType': 'other', 'VehicleType': 'other'}, inplace=True)"
   ]
  },
  {
   "cell_type": "code",
   "execution_count": 15,
   "metadata": {},
   "outputs": [
    {
     "data": {
      "text/plain": [
       "array(['manual', 'auto', nan], dtype=object)"
      ]
     },
     "execution_count": 15,
     "metadata": {},
     "output_type": "execute_result"
    }
   ],
   "source": [
    "data['Gearbox'].unique()"
   ]
  },
  {
   "cell_type": "code",
   "execution_count": 16,
   "metadata": {},
   "outputs": [
    {
     "data": {
      "text/plain": [
       "251"
      ]
     },
     "execution_count": 16,
     "metadata": {},
     "output_type": "execute_result"
    }
   ],
   "source": [
    "len(data['Model'].unique())"
   ]
  },
  {
   "cell_type": "markdown",
   "metadata": {},
   "source": [
    "В столбцах Gearbox и Model нельзя сделать предположения о возможных значениях пропусков, удалить их также нельзя из-за большого количества. Заполним пропуски в этих признаках, подставив тип коробки передач - 'manual', а модель автоболия - 'unknown'. "
   ]
  },
  {
   "cell_type": "code",
   "execution_count": 17,
   "metadata": {},
   "outputs": [],
   "source": [
    "data.fillna({'Gearbox':'manual', 'Model':'unknown'}, inplace=True)"
   ]
  },
  {
   "cell_type": "code",
   "execution_count": 18,
   "metadata": {},
   "outputs": [
    {
     "name": "stdout",
     "output_type": "stream",
     "text": [
      "<class 'pandas.core.frame.DataFrame'>\n",
      "Int64Index: 309329 entries, 0 to 354368\n",
      "Data columns (total 10 columns):\n",
      " #   Column            Non-Null Count   Dtype \n",
      "---  ------            --------------   ----- \n",
      " 0   Price             309329 non-null  int64 \n",
      " 1   VehicleType       309329 non-null  object\n",
      " 2   RegistrationYear  309329 non-null  int64 \n",
      " 3   Gearbox           309329 non-null  object\n",
      " 4   Power             309329 non-null  int64 \n",
      " 5   Model             309329 non-null  object\n",
      " 6   Kilometer         309329 non-null  int64 \n",
      " 7   FuelType          309329 non-null  object\n",
      " 8   Brand             309329 non-null  object\n",
      " 9   Repaired          0 non-null       object\n",
      "dtypes: int64(4), object(6)\n",
      "memory usage: 26.0+ MB\n"
     ]
    }
   ],
   "source": [
    "data.info()"
   ]
  },
  {
   "cell_type": "markdown",
   "metadata": {},
   "source": [
    "Данные обработаны. Далее необходимо обработать аномалии."
   ]
  },
  {
   "cell_type": "markdown",
   "metadata": {},
   "source": [
    "### Обработка аномалий"
   ]
  },
  {
   "cell_type": "markdown",
   "metadata": {},
   "source": [
    "В столбцах Gearbox, Model, FuelType, VehicleType, Brand, Repaired аномалий при предобработке данных не выявлено. Рассмотрим остальные признаки."
   ]
  },
  {
   "cell_type": "code",
   "execution_count": 19,
   "metadata": {},
   "outputs": [
    {
     "name": "stdout",
     "output_type": "stream",
     "text": [
      "[1000, 1001, 1039, 1111, 1200, 1234, 1253, 1255, 1300, 1400, 1500, 1600, 1602, 1688, 1800, 1910, 1915, 1919, 1920, 1923, 1925, 1927, 1928, 1929, 1930, 1931, 1932, 1933, 1934, 1935, 1936, 1937, 1938, 1940, 1941, 1942, 1943, 1944, 1945, 1946, 1947, 1948, 1949, 1950, 1951, 1952, 1953, 1954, 1955, 1956, 1957, 1958, 1959, 1960, 1961, 1962, 1963, 1964, 1965, 1966, 1967, 1968, 1969, 1970, 1971, 1972, 1973, 1974, 1975, 1976, 1977, 1978, 1979, 1980, 1981, 1982, 1983, 1984, 1985, 1986, 1987, 1988, 1989, 1990, 1991, 1992, 1993, 1994, 1995, 1996, 1997, 1998, 1999, 2000, 2001, 2002, 2003, 2004, 2005, 2006, 2007, 2008, 2009, 2010, 2011, 2012, 2013, 2014, 2015, 2016, 2017, 2018, 2019, 2066, 2200, 2222, 2290, 2500, 2800, 2900, 3000, 3200, 3500, 3700, 3800, 4000, 4100, 4500, 4800, 5000, 5300, 5555, 5600, 5900, 5911, 6000, 6500, 7000, 7100, 7500, 7800, 8000, 8200, 8455, 8500, 8888, 9000, 9229, 9450, 9996, 9999]\n"
     ]
    }
   ],
   "source": [
    "print((sorted(data['RegistrationYear'].unique())))"
   ]
  },
  {
   "cell_type": "markdown",
   "metadata": {},
   "source": [
    "Удалим все странные значения и значения, где автомобиль был выпущен ранее 1980 года, так как по статистике автомобиль остается на ходу в течение 10-20 лет. Оставим промежуто +- 20 лет от 2000 года."
   ]
  },
  {
   "cell_type": "code",
   "execution_count": 20,
   "metadata": {},
   "outputs": [],
   "source": [
    "data = data[(data.RegistrationYear >= 1980) & (data.RegistrationYear <= 2020)]"
   ]
  },
  {
   "cell_type": "code",
   "execution_count": 21,
   "metadata": {},
   "outputs": [
    {
     "data": {
      "image/png": "[encoded data removed]",
      "text/plain": [
       "<Figure size 720x504 with 1 Axes>"
      ]
     },
     "metadata": {
      "needs_background": "light"
     },
     "output_type": "display_data"
    }
   ],
   "source": [
    "data['Price'].hist(bins=50,figsize=(10,7));\n",
    "plt.title('График распределения стоимости автомобилей');"
   ]
  },
  {
   "cell_type": "code",
   "execution_count": 22,
   "metadata": {},
   "outputs": [
    {
     "data": {
      "image/png": "[encoded data removed]",
      "text/plain": [
       "<Figure size 720x504 with 1 Axes>"
      ]
     },
     "metadata": {
      "needs_background": "light"
     },
     "output_type": "display_data"
    }
   ],
   "source": [
    "data.loc[data['Price']<1000]['Price'].hist(bins=50,figsize=(10,7));\n",
    "plt.title('График распределения стоимости автомобилей до 1000 евро');"
   ]
  },
  {
   "cell_type": "code",
   "execution_count": 23,
   "metadata": {},
   "outputs": [
    {
     "data": {
      "image/png": "[encoded data removed]",
      "text/plain": [
       "<Figure size 720x504 with 1 Axes>"
      ]
     },
     "metadata": {
      "needs_background": "light"
     },
     "output_type": "display_data"
    }
   ],
   "source": [
    "data.loc[(data['Price']>=1000) & (data['Price']<10000)]['Price'].hist(bins=50,figsize=(10,7));\n",
    "plt.title('График распределения стоимости автомобилей от 1000 евро до 10000 евро');"
   ]
  },
  {
   "cell_type": "code",
   "execution_count": 24,
   "metadata": {},
   "outputs": [
    {
     "data": {
      "image/png": "[encoded data removed]",
      "text/plain": [
       "<Figure size 720x504 with 1 Axes>"
      ]
     },
     "metadata": {
      "needs_background": "light"
     },
     "output_type": "display_data"
    }
   ],
   "source": [
    "data.loc[data['Price']>=10000]['Price'].hist(bins=50,figsize=(10,7));\n",
    "plt.title('График распределения стоимости автомобилей от 10000 евро');"
   ]
  },
  {
   "cell_type": "markdown",
   "metadata": {},
   "source": [
    "По графикам можно сделать вывод:\n",
    "- присутствуют очень маленькие цены на автомобили. По данным первый квантиль равен 1050 евро.\n",
    "\n",
    "Оставим данные только в этой ценновой категории."
   ]
  },
  {
   "cell_type": "code",
   "execution_count": 25,
   "metadata": {},
   "outputs": [],
   "source": [
    "data = data[data.Price >= 1050]"
   ]
  },
  {
   "cell_type": "code",
   "execution_count": 26,
   "metadata": {},
   "outputs": [
    {
     "name": "stdout",
     "output_type": "stream",
     "text": [
      "[0, 1, 2, 3, 4, 5, 6, 7, 8, 9, 10, 11, 12, 13, 14, 15, 16, 17, 18, 19, 20, 21, 22, 23, 24, 25, 26, 27, 28, 29, 30, 31, 33, 34, 35, 36, 37, 38, 39, 40, 41, 42, 43, 44, 45, 46, 47, 48, 49, 50, 51, 52, 53, 54, 55, 56, 57, 58, 59, 60, 61, 62, 63, 64, 65, 66, 67, 68, 69, 70, 71, 72, 73, 74, 75, 76, 77, 78, 79, 80, 81, 82, 83, 84, 85, 86, 87, 88, 89, 90, 91, 92, 93, 94, 95, 96, 97, 98, 99, 100, 101, 102, 103, 104, 105, 106, 107, 108, 109, 110, 111, 112, 113, 114, 115, 116, 117, 118, 119, 120, 121, 122, 123, 124, 125, 126, 127, 128, 129, 130, 131, 132, 133, 134, 135, 136, 137, 138, 139, 140, 141, 142, 143, 144, 145, 146, 147, 148, 149, 150, 151, 152, 153, 154, 155, 156, 157, 158, 159, 160, 161, 162, 163, 164, 165, 166, 167, 168, 169, 170, 171, 172, 173, 174, 175, 176, 177, 178, 179, 180, 181, 182, 183, 184, 185, 186, 187, 188, 189, 190, 191, 192, 193, 194, 195, 196, 197, 198, 199, 200, 201, 202, 203, 204, 205, 206, 207, 208, 209, 210, 211, 212, 213, 214, 215, 216, 217, 218, 219, 220, 221, 222, 223, 224, 225, 226, 227, 228, 229, 230, 231, 232, 233, 234, 235, 236, 237, 238, 239, 240, 241, 242, 243, 244, 245, 246, 247, 248, 249, 250, 251, 252, 253, 254, 255, 256, 257, 258, 259, 260, 261, 262, 264, 265, 266, 267, 268, 269, 270, 271, 272, 273, 274, 275, 276, 277, 278, 279, 280, 281, 282, 283, 284, 285, 286, 287, 288, 289, 290, 292, 293, 294, 295, 296, 297, 298, 299, 300, 301, 303, 304, 305, 306, 307, 308, 309, 310, 311, 313, 314, 315, 316, 317, 318, 320, 321, 322, 323, 324, 325, 326, 327, 328, 329, 330, 331, 332, 333, 334, 335, 336, 337, 338, 339, 340, 341, 343, 344, 345, 346, 347, 348, 349, 350, 352, 353, 354, 355, 356, 357, 358, 360, 361, 362, 363, 364, 365, 367, 368, 370, 371, 374, 376, 377, 379, 380, 381, 382, 385, 386, 387, 388, 390, 392, 394, 396, 398, 399, 400, 401, 402, 405, 408, 409, 411, 416, 420, 421, 426, 428, 430, 431, 435, 440, 442, 445, 449, 450, 457, 460, 475, 476, 487, 489, 490, 500, 504, 505, 507, 508, 510, 514, 515, 517, 519, 520, 521, 525, 540, 544, 550, 551, 560, 572, 579, 585, 600, 601, 603, 604, 612, 620, 640, 645, 650, 651, 671, 682, 685, 696, 702, 703, 732, 743, 750, 751, 771, 776, 800, 805, 808, 871, 900, 901, 903, 907, 909, 923, 950, 952, 953, 999, 1000, 1001, 1003, 1005, 1011, 1012, 1016, 1021, 1024, 1054, 1055, 1056, 1062, 1079, 1082, 1090, 1105, 1149, 1164, 1202, 1223, 1240, 1250, 1252, 1288, 1300, 1317, 1351, 1363, 1367, 1390, 1394, 1398, 1399, 1400, 1401, 1403, 1405, 1416, 1432, 1433, 1436, 1500, 1501, 1502, 1503, 1506, 1521, 1548, 1595, 1596, 1597, 1598, 1600, 1631, 1653, 1659, 1700, 1701, 1704, 1707, 1771, 1779, 1781, 1793, 1796, 1800, 1801, 1870, 1895, 1896, 1900, 1920, 1922, 1933, 1937, 1968, 1986, 1993, 1995, 1998, 2000, 2004, 2005, 2007, 2009, 2016, 2017, 2018, 2331, 2340, 2402, 2461, 2729, 2789, 2792, 3454, 3500, 5411, 5809, 5867, 6010, 6011, 6012, 6018, 6045, 6062, 6226, 6512, 6920, 7511, 7512, 7515, 7518, 7529, 7544, 8259, 9000, 9007, 9010, 9011, 9012, 9013, 10000, 10218, 10520, 10522, 10710, 10910, 10912, 11025, 11509, 11530, 11635, 12012, 12510, 12512, 13636, 14009, 15001, 15017, 15020, 15033, 16011, 16311, 16312, 17011, 17019, 17410, 17700, 17932, 19208, 19211, 19312, 20000]\n"
     ]
    }
   ],
   "source": [
    "print(sorted(data['Power'].unique()))"
   ]
  },
  {
   "cell_type": "markdown",
   "metadata": {},
   "source": [
    "По данным первый квантиль равен 69 л.с., что достаточно для очень простого автомобиля. При этом есть также значения, которые превышают существующие значения мощностей. В современном мире мощность в 500 л.с. является высоким показателем, не считая автомобили, предназначенные для особых целей. Поэтому здесь также оставим данные только в этом числовом промежутке. "
   ]
  },
  {
   "cell_type": "code",
   "execution_count": 27,
   "metadata": {},
   "outputs": [],
   "source": [
    "data = data[(data.Power >= 69) & (data.Power <= 500)]"
   ]
  },
  {
   "cell_type": "code",
   "execution_count": 28,
   "metadata": {},
   "outputs": [
    {
     "name": "stdout",
     "output_type": "stream",
     "text": [
      "[5000, 10000, 20000, 30000, 40000, 50000, 60000, 70000, 80000, 90000, 100000, 125000, 150000]\n"
     ]
    }
   ],
   "source": [
    "print(sorted(data['Kilometer'].unique()))"
   ]
  },
  {
   "cell_type": "markdown",
   "metadata": {},
   "source": [
    "Здесь, вероятнее, данные заполнялись по определенным категориям. Все значения входят в возможные значения пробега автомобиля. Поэтому этот признак оставим без изменений."
   ]
  },
  {
   "cell_type": "markdown",
   "metadata": {},
   "source": [
    "## Обучение моделей "
   ]
  },
  {
   "cell_type": "markdown",
   "metadata": {},
   "source": [
    "### Подготовка данных"
   ]
  },
  {
   "cell_type": "markdown",
   "metadata": {},
   "source": [
    "Преобразуем категориальные признаки в числовые и разделим данные на выборки."
   ]
  },
  {
   "cell_type": "code",
   "execution_count": 29,
   "metadata": {},
   "outputs": [
    {
     "data": {
      "text/plain": [
       "((115494, 9), (115494,), (38498, 9), (38498,), (38498, 9), (38498,))"
      ]
     },
     "execution_count": 29,
     "metadata": {},
     "output_type": "execute_result"
    }
   ],
   "source": [
    "features = data.drop('Price', axis=1)\n",
    "target = data['Price']\n",
    "features_80, features_test, target_80, target_test = train_test_split(\n",
    "    features, target, test_size=.2, random_state=12345)\n",
    "features_train, features_valid, target_train, target_valid = train_test_split(\n",
    "    features_80, target_80, test_size=.25, random_state=12345)\n",
    "features_train.shape, target_train.shape, features_valid.shape, target_valid.shape, features_test.shape, target_test.shape"
   ]
  },
  {
   "cell_type": "code",
   "execution_count": 30,
   "metadata": {},
   "outputs": [],
   "source": [
    "ohe_features = features.select_dtypes(include='object').columns.to_list()\n",
    "\n",
    "num_features = features_train.select_dtypes(exclude='object').columns.to_list()\n",
    "\n",
    "X_train = features_train.copy()\n",
    "X_test = features_test.copy()\n",
    "X_valid = features_valid.copy()\n",
    "encoder_ohe = OneHotEncoder(drop='first', handle_unknown='ignore', sparse=False)\n",
    "\n",
    "encoder_ohe.fit(X_train[ohe_features])\n",
    "\n",
    "X_train[\n",
    "    encoder_ohe.get_feature_names_out()\n",
    "] = encoder_ohe.transform(X_train[ohe_features])\n",
    "\n",
    "X_train = X_train.drop(ohe_features, axis=1)\n",
    "\n",
    "scaler = StandardScaler()\n",
    "\n",
    "X_train[num_features] = scaler.fit_transform(X_train[num_features])\n",
    "\n",
    "X_test[\n",
    "    encoder_ohe.get_feature_names_out()\n",
    "] = encoder_ohe.transform(X_test[ohe_features])\n",
    "\n",
    "X_test = X_test.drop(ohe_features, axis=1)\n",
    "\n",
    "X_test[num_features] = scaler.transform(\n",
    "    X_test[num_features]\n",
    ")\n",
    "\n",
    "X_valid[\n",
    "    encoder_ohe.get_feature_names_out()\n",
    "] = encoder_ohe.transform(X_valid[ohe_features])\n",
    "\n",
    "X_valid = X_valid.drop(ohe_features, axis=1)\n",
    "\n",
    "X_valid[num_features] = scaler.transform(\n",
    "    X_valid[num_features]\n",
    ")"
   ]
  },
  {
   "cell_type": "code",
   "execution_count": 31,
   "metadata": {},
   "outputs": [],
   "source": [
    "columns = ['VehicleType', 'Gearbox', 'FuelType', 'Brand', 'Repaired', 'Model']\n",
    "X_train_encoder = features_train.copy()\n",
    "X_test_encoder = features_test.copy()\n",
    "X_valid_encoder = features_valid.copy()\n",
    "encoder = OrdinalEncoder(handle_unknown='use_encoded_value', unknown_value=-1)\n",
    "\n",
    "encoder.fit(X_train_encoder[columns])\n",
    "X_train_encoder[columns] = encoder.transform(X_train_encoder[columns])\n",
    "X_train_encoder = X_train_encoder.drop(columns, axis=1)\n",
    "\n",
    "X_test_encoder[columns] = encoder.transform(X_test_encoder[columns])\n",
    "X_test_encoder = X_test_encoder.drop(columns, axis=1)\n",
    "\n",
    "X_valid_encoder[columns] = encoder.transform(X_valid_encoder[columns])\n",
    "X_valid_encoder = X_valid_encoder.drop(columns, axis=1)"
   ]
  },
  {
   "cell_type": "markdown",
   "metadata": {},
   "source": [
    "### LinearRegression"
   ]
  },
  {
   "cell_type": "code",
   "execution_count": 32,
   "metadata": {},
   "outputs": [
    {
     "name": "stdout",
     "output_type": "stream",
     "text": [
      "CPU times: user 15.5 s, sys: 38.7 s, total: 54.2 s\n",
      "Wall time: 54.5 s\n"
     ]
    },
    {
     "data": {
      "text/html": [
       "<style>#sk-container-id-1 {color: black;background-color: white;}#sk-container-id-1 pre{padding: 0;}#sk-container-id-1 div.sk-toggleable {background-color: white;}#sk-container-id-1 label.sk-toggleable__label {cursor: pointer;display: block;width: 100%;margin-bottom: 0;padding: 0.3em;box-sizing: border-box;text-align: center;}#sk-container-id-1 label.sk-toggleable__label-arrow:before {content: \"▸\";float: left;margin-right: 0.25em;color: #696969;}#sk-container-id-1 label.sk-toggleable__label-arrow:hover:before {color: black;}#sk-container-id-1 div.sk-estimator:hover label.sk-toggleable__label-arrow:before {color: black;}#sk-container-id-1 div.sk-toggleable__content {max-height: 0;max-width: 0;overflow: hidden;text-align: left;background-color: #f0f8ff;}#sk-container-id-1 div.sk-toggleable__content pre {margin: 0.2em;color: black;border-radius: 0.25em;background-color: #f0f8ff;}#sk-container-id-1 input.sk-toggleable__control:checked~div.sk-toggleable__content {max-height: 200px;max-width: 100%;overflow: auto;}#sk-container-id-1 input.sk-toggleable__control:checked~label.sk-toggleable__label-arrow:before {content: \"▾\";}#sk-container-id-1 div.sk-estimator input.sk-toggleable__control:checked~label.sk-toggleable__label {background-color: #d4ebff;}#sk-container-id-1 div.sk-label input.sk-toggleable__control:checked~label.sk-toggleable__label {background-color: #d4ebff;}#sk-container-id-1 input.sk-hidden--visually {border: 0;clip: rect(1px 1px 1px 1px);clip: rect(1px, 1px, 1px, 1px);height: 1px;margin: -1px;overflow: hidden;padding: 0;position: absolute;width: 1px;}#sk-container-id-1 div.sk-estimator {font-family: monospace;background-color: #f0f8ff;border: 1px dotted black;border-radius: 0.25em;box-sizing: border-box;margin-bottom: 0.5em;}#sk-container-id-1 div.sk-estimator:hover {background-color: #d4ebff;}#sk-container-id-1 div.sk-parallel-item::after {content: \"\";width: 100%;border-bottom: 1px solid gray;flex-grow: 1;}#sk-container-id-1 div.sk-label:hover label.sk-toggleable__label {background-color: #d4ebff;}#sk-container-id-1 div.sk-serial::before {content: \"\";position: absolute;border-left: 1px solid gray;box-sizing: border-box;top: 0;bottom: 0;left: 50%;z-index: 0;}#sk-container-id-1 div.sk-serial {display: flex;flex-direction: column;align-items: center;background-color: white;padding-right: 0.2em;padding-left: 0.2em;position: relative;}#sk-container-id-1 div.sk-item {position: relative;z-index: 1;}#sk-container-id-1 div.sk-parallel {display: flex;align-items: stretch;justify-content: center;background-color: white;position: relative;}#sk-container-id-1 div.sk-item::before, #sk-container-id-1 div.sk-parallel-item::before {content: \"\";position: absolute;border-left: 1px solid gray;box-sizing: border-box;top: 0;bottom: 0;left: 50%;z-index: -1;}#sk-container-id-1 div.sk-parallel-item {display: flex;flex-direction: column;z-index: 1;position: relative;background-color: white;}#sk-container-id-1 div.sk-parallel-item:first-child::after {align-self: flex-end;width: 50%;}#sk-container-id-1 div.sk-parallel-item:last-child::after {align-self: flex-start;width: 50%;}#sk-container-id-1 div.sk-parallel-item:only-child::after {width: 0;}#sk-container-id-1 div.sk-dashed-wrapped {border: 1px dashed gray;margin: 0 0.4em 0.5em 0.4em;box-sizing: border-box;padding-bottom: 0.4em;background-color: white;}#sk-container-id-1 div.sk-label label {font-family: monospace;font-weight: bold;display: inline-block;line-height: 1.2em;}#sk-container-id-1 div.sk-label-container {text-align: center;}#sk-container-id-1 div.sk-container {/* jupyter's `normalize.less` sets `[hidden] { display: none; }` but bootstrap.min.css set `[hidden] { display: none !important; }` so we also need the `!important` here to be able to override the default hidden behavior on the sphinx rendered scikit-learn.org. See: https://github.com/scikit-learn/scikit-learn/issues/21755 */display: inline-block !important;position: relative;}#sk-container-id-1 div.sk-text-repr-fallback {display: none;}</style><div id=\"sk-container-id-1\" class=\"sk-top-container\"><div class=\"sk-text-repr-fallback\"><pre>LinearRegression()</pre><b>In a Jupyter environment, please rerun this cell to show the HTML representation or trust the notebook. <br />On GitHub, the HTML representation is unable to render, please try loading this page with nbviewer.org.</b></div><div class=\"sk-container\" hidden><div class=\"sk-item\"><div class=\"sk-estimator sk-toggleable\"><input class=\"sk-toggleable__control sk-hidden--visually\" id=\"sk-estimator-id-1\" type=\"checkbox\" checked><label for=\"sk-estimator-id-1\" class=\"sk-toggleable__label sk-toggleable__label-arrow\">LinearRegression</label><div class=\"sk-toggleable__content\"><pre>LinearRegression()</pre></div></div></div></div></div>"
      ],
      "text/plain": [
       "LinearRegression()"
      ]
     },
     "execution_count": 32,
     "metadata": {},
     "output_type": "execute_result"
    }
   ],
   "source": [
    "%%time\n",
    "model = LinearRegression()\n",
    "model.fit(X_train, target_train)"
   ]
  },
  {
   "cell_type": "code",
   "execution_count": 33,
   "metadata": {},
   "outputs": [
    {
     "name": "stdout",
     "output_type": "stream",
     "text": [
      "CPU times: user 60 ms, sys: 97.3 ms, total: 157 ms\n",
      "Wall time: 156 ms\n"
     ]
    },
    {
     "data": {
      "text/plain": [
       "2617.1782211786913"
      ]
     },
     "execution_count": 33,
     "metadata": {},
     "output_type": "execute_result"
    }
   ],
   "source": [
    "%%time\n",
    "predicted = model.predict(X_valid)\n",
    "mse(predicted, target_valid)**0.5"
   ]
  },
  {
   "cell_type": "markdown",
   "metadata": {},
   "source": [
    "При использовании линейной регрессии показатель метрики RMSE 2617.1782211786913. При нашем ограничении в 2500 эта модель не подойдет для исследований."
   ]
  },
  {
   "cell_type": "markdown",
   "metadata": {},
   "source": [
    "### CatBoostRegressor"
   ]
  },
  {
   "cell_type": "code",
   "execution_count": 34,
   "metadata": {},
   "outputs": [
    {
     "name": "stdout",
     "output_type": "stream",
     "text": [
      "2247.792730921879 6\n",
      "CPU times: user 57.1 s, sys: 551 ms, total: 57.7 s\n",
      "Wall time: 1min 7s\n"
     ]
    }
   ],
   "source": [
    "%%time\n",
    "best_result = 2500\n",
    "depth = 0\n",
    "\n",
    "for depth in range(1, 12, 5):\n",
    "    model = CatBoostRegressor(learning_rate=0.5, max_depth=depth, random_state=12345, verbose=False)\n",
    "    model.fit(X_train_encoder, target_train)\n",
    "    predicted = model.predict(X_valid_encoder)\n",
    "    result = mse(target_valid, predicted) ** 0.5\n",
    "            \n",
    "    if result < best_result:\n",
    "        best_depth = depth\n",
    "        best_result = result\n",
    "\n",
    "print(best_result, best_depth)"
   ]
  },
  {
   "cell_type": "code",
   "execution_count": 35,
   "metadata": {},
   "outputs": [
    {
     "name": "stdout",
     "output_type": "stream",
     "text": [
      "CPU times: user 15.3 s, sys: 160 ms, total: 15.5 s\n",
      "Wall time: 18.2 s\n"
     ]
    },
    {
     "data": {
      "text/plain": [
       "<catboost.core.CatBoostRegressor at 0x7f2b339a38e0>"
      ]
     },
     "execution_count": 35,
     "metadata": {},
     "output_type": "execute_result"
    }
   ],
   "source": [
    "%%time\n",
    "model = CatBoostRegressor(learning_rate=0.5, max_depth=6, random_state=12345, verbose=False)\n",
    "model.fit(X_train_encoder, target_train)"
   ]
  },
  {
   "cell_type": "code",
   "execution_count": 36,
   "metadata": {},
   "outputs": [
    {
     "name": "stdout",
     "output_type": "stream",
     "text": [
      "CPU times: user 53.8 ms, sys: 0 ns, total: 53.8 ms\n",
      "Wall time: 55 ms\n"
     ]
    },
    {
     "data": {
      "text/plain": [
       "2247.792730921879"
      ]
     },
     "execution_count": 36,
     "metadata": {},
     "output_type": "execute_result"
    }
   ],
   "source": [
    "%%time\n",
    "predicted = model.predict(X_valid_encoder)\n",
    "mse(predicted, target_valid)**0.5"
   ]
  },
  {
   "cell_type": "markdown",
   "metadata": {},
   "source": [
    "При использовании модели CatBoostRegressor показатель метрики RMSE 2247.792730921879, что удовлетворяет условие исследования. Также при выбранных параметрах время обучения модели и время предсказаний ниже, чем у LinearRegression."
   ]
  },
  {
   "cell_type": "markdown",
   "metadata": {},
   "source": [
    "### LGBMRegressor"
   ]
  },
  {
   "cell_type": "code",
   "execution_count": 37,
   "metadata": {},
   "outputs": [
    {
     "data": {
      "text/plain": [
       "'\\n%%time\\nbest_result = 2500\\ndepth = 0\\n\\nfor depth in range(1, 12, 5):\\n    print(depth)\\n    model = LGBMRegressor(learning_rate=0.5, max_depth=depth, random_state=12345)\\n    model.fit(X_train_encoder, target_train)\\n    predicted = model.predict(X_valid_encoder)\\n    result = mse(target_valid, predicted) ** 0.5\\n            \\n    if result < best_result:\\n        best_depth = depth\\n        best_result = result\\n\\nprint(best_result, best_depth)\\n'"
      ]
     },
     "execution_count": 37,
     "metadata": {},
     "output_type": "execute_result"
    }
   ],
   "source": [
    "%%time\n",
    "best_result = 2500\n",
    "depth = 0\n",
    "\n",
    "for depth in range(1, 12, 5):\n",
    "    print(depth)\n",
    "    model = LGBMRegressor(learning_rate=0.5, max_depth=depth, random_state=12345)\n",
    "    model.fit(X_train_encoder, target_train)\n",
    "    predicted = model.predict(X_valid_encoder)\n",
    "    result = mse(target_valid, predicted) ** 0.5\n",
    "            \n",
    "    if result < best_result:\n",
    "        best_depth = depth\n",
    "        best_result = result\n",
    "\n",
    "print(best_result, best_depth)"
   ]
  },
  {
   "cell_type": "code",
   "execution_count": 38,
   "metadata": {},
   "outputs": [
    {
     "name": "stdout",
     "output_type": "stream",
     "text": [
      "CPU times: user 3min 52s, sys: 1.9 s, total: 3min 54s\n",
      "Wall time: 3min 56s\n"
     ]
    },
    {
     "data": {
      "text/html": [
       "<style>#sk-container-id-2 {color: black;background-color: white;}#sk-container-id-2 pre{padding: 0;}#sk-container-id-2 div.sk-toggleable {background-color: white;}#sk-container-id-2 label.sk-toggleable__label {cursor: pointer;display: block;width: 100%;margin-bottom: 0;padding: 0.3em;box-sizing: border-box;text-align: center;}#sk-container-id-2 label.sk-toggleable__label-arrow:before {content: \"▸\";float: left;margin-right: 0.25em;color: #696969;}#sk-container-id-2 label.sk-toggleable__label-arrow:hover:before {color: black;}#sk-container-id-2 div.sk-estimator:hover label.sk-toggleable__label-arrow:before {color: black;}#sk-container-id-2 div.sk-toggleable__content {max-height: 0;max-width: 0;overflow: hidden;text-align: left;background-color: #f0f8ff;}#sk-container-id-2 div.sk-toggleable__content pre {margin: 0.2em;color: black;border-radius: 0.25em;background-color: #f0f8ff;}#sk-container-id-2 input.sk-toggleable__control:checked~div.sk-toggleable__content {max-height: 200px;max-width: 100%;overflow: auto;}#sk-container-id-2 input.sk-toggleable__control:checked~label.sk-toggleable__label-arrow:before {content: \"▾\";}#sk-container-id-2 div.sk-estimator input.sk-toggleable__control:checked~label.sk-toggleable__label {background-color: #d4ebff;}#sk-container-id-2 div.sk-label input.sk-toggleable__control:checked~label.sk-toggleable__label {background-color: #d4ebff;}#sk-container-id-2 input.sk-hidden--visually {border: 0;clip: rect(1px 1px 1px 1px);clip: rect(1px, 1px, 1px, 1px);height: 1px;margin: -1px;overflow: hidden;padding: 0;position: absolute;width: 1px;}#sk-container-id-2 div.sk-estimator {font-family: monospace;background-color: #f0f8ff;border: 1px dotted black;border-radius: 0.25em;box-sizing: border-box;margin-bottom: 0.5em;}#sk-container-id-2 div.sk-estimator:hover {background-color: #d4ebff;}#sk-container-id-2 div.sk-parallel-item::after {content: \"\";width: 100%;border-bottom: 1px solid gray;flex-grow: 1;}#sk-container-id-2 div.sk-label:hover label.sk-toggleable__label {background-color: #d4ebff;}#sk-container-id-2 div.sk-serial::before {content: \"\";position: absolute;border-left: 1px solid gray;box-sizing: border-box;top: 0;bottom: 0;left: 50%;z-index: 0;}#sk-container-id-2 div.sk-serial {display: flex;flex-direction: column;align-items: center;background-color: white;padding-right: 0.2em;padding-left: 0.2em;position: relative;}#sk-container-id-2 div.sk-item {position: relative;z-index: 1;}#sk-container-id-2 div.sk-parallel {display: flex;align-items: stretch;justify-content: center;background-color: white;position: relative;}#sk-container-id-2 div.sk-item::before, #sk-container-id-2 div.sk-parallel-item::before {content: \"\";position: absolute;border-left: 1px solid gray;box-sizing: border-box;top: 0;bottom: 0;left: 50%;z-index: -1;}#sk-container-id-2 div.sk-parallel-item {display: flex;flex-direction: column;z-index: 1;position: relative;background-color: white;}#sk-container-id-2 div.sk-parallel-item:first-child::after {align-self: flex-end;width: 50%;}#sk-container-id-2 div.sk-parallel-item:last-child::after {align-self: flex-start;width: 50%;}#sk-container-id-2 div.sk-parallel-item:only-child::after {width: 0;}#sk-container-id-2 div.sk-dashed-wrapped {border: 1px dashed gray;margin: 0 0.4em 0.5em 0.4em;box-sizing: border-box;padding-bottom: 0.4em;background-color: white;}#sk-container-id-2 div.sk-label label {font-family: monospace;font-weight: bold;display: inline-block;line-height: 1.2em;}#sk-container-id-2 div.sk-label-container {text-align: center;}#sk-container-id-2 div.sk-container {/* jupyter's `normalize.less` sets `[hidden] { display: none; }` but bootstrap.min.css set `[hidden] { display: none !important; }` so we also need the `!important` here to be able to override the default hidden behavior on the sphinx rendered scikit-learn.org. See: https://github.com/scikit-learn/scikit-learn/issues/21755 */display: inline-block !important;position: relative;}#sk-container-id-2 div.sk-text-repr-fallback {display: none;}</style><div id=\"sk-container-id-2\" class=\"sk-top-container\"><div class=\"sk-text-repr-fallback\"><pre>LGBMRegressor(learning_rate=0.5, max_depth=11, random_state=12345)</pre><b>In a Jupyter environment, please rerun this cell to show the HTML representation or trust the notebook. <br />On GitHub, the HTML representation is unable to render, please try loading this page with nbviewer.org.</b></div><div class=\"sk-container\" hidden><div class=\"sk-item\"><div class=\"sk-estimator sk-toggleable\"><input class=\"sk-toggleable__control sk-hidden--visually\" id=\"sk-estimator-id-2\" type=\"checkbox\" checked><label for=\"sk-estimator-id-2\" class=\"sk-toggleable__label sk-toggleable__label-arrow\">LGBMRegressor</label><div class=\"sk-toggleable__content\"><pre>LGBMRegressor(learning_rate=0.5, max_depth=11, random_state=12345)</pre></div></div></div></div></div>"
      ],
      "text/plain": [
       "LGBMRegressor(learning_rate=0.5, max_depth=11, random_state=12345)"
      ]
     },
     "execution_count": 38,
     "metadata": {},
     "output_type": "execute_result"
    }
   ],
   "source": [
    "%%time\n",
    "model = LGBMRegressor(learning_rate=0.5, max_depth=11, random_state=12345)\n",
    "model.fit(X_train_encoder, target_train)"
   ]
  },
  {
   "cell_type": "code",
   "execution_count": 39,
   "metadata": {},
   "outputs": [
    {
     "name": "stdout",
     "output_type": "stream",
     "text": [
      "CPU times: user 218 ms, sys: 0 ns, total: 218 ms\n",
      "Wall time: 190 ms\n"
     ]
    },
    {
     "data": {
      "text/plain": [
       "2231.1394604363504"
      ]
     },
     "execution_count": 39,
     "metadata": {},
     "output_type": "execute_result"
    }
   ],
   "source": [
    "%%time\n",
    "predicted = model.predict(X_valid_encoder)\n",
    "mse(predicted, target_valid)**0.5"
   ]
  },
  {
   "cell_type": "markdown",
   "metadata": {},
   "source": [
    "При использовании модели LGBMRegressor показатель метрики RMSE 2231.1394604363504, что несильно отличается от результата  CatBoostRegressor, но по времени обучения LGBMRegressor является самой медленной моделью из рассмотренных."
   ]
  },
  {
   "cell_type": "markdown",
   "metadata": {},
   "source": [
    "### Вывод"
   ]
  },
  {
   "cell_type": "markdown",
   "metadata": {},
   "source": [
    "Вывод\n",
    "- LinearRegression: RMSE = 2617.1782211786913, time = 21.5s/181ms\n",
    "- CatBoostRegressor: RMSE = 2247.792730921879, time = 16.2s/69ms\n",
    "- LGBMRegressor: RMSE = 2231.1394604363504, time = 3min 56s/190ms \n",
    "\n",
    "При учитывании значения метрики RMSE и затраченного на обучение и предсказания время наилучший показатель был у модели CatBoostRegressor."
   ]
  },
  {
   "cell_type": "markdown",
   "metadata": {},
   "source": [
    "## Тестирование "
   ]
  },
  {
   "cell_type": "code",
   "execution_count": 40,
   "metadata": {},
   "outputs": [
    {
     "name": "stdout",
     "output_type": "stream",
     "text": [
      "CPU times: user 15.2 s, sys: 153 ms, total: 15.3 s\n",
      "Wall time: 18.1 s\n"
     ]
    },
    {
     "data": {
      "text/plain": [
       "<catboost.core.CatBoostRegressor at 0x7f2bc33b4070>"
      ]
     },
     "execution_count": 40,
     "metadata": {},
     "output_type": "execute_result"
    }
   ],
   "source": [
    "%%time\n",
    "model = CatBoostRegressor(learning_rate=0.5, max_depth=6, random_state=12345, verbose=False)\n",
    "model.fit(X_train_encoder, target_train)"
   ]
  },
  {
   "cell_type": "code",
   "execution_count": 41,
   "metadata": {},
   "outputs": [
    {
     "name": "stdout",
     "output_type": "stream",
     "text": [
      "CPU times: user 42.3 ms, sys: 3.55 ms, total: 45.8 ms\n",
      "Wall time: 59.1 ms\n"
     ]
    },
    {
     "data": {
      "text/plain": [
       "2233.416323031098"
      ]
     },
     "execution_count": 41,
     "metadata": {},
     "output_type": "execute_result"
    }
   ],
   "source": [
    "%%time\n",
    "predicted = model.predict(X_test_encoder)\n",
    "mse(predicted, target_test)**0.5"
   ]
  },
  {
   "cell_type": "markdown",
   "metadata": {},
   "source": [
    "##  Заключение"
   ]
  },
  {
   "cell_type": "markdown",
   "metadata": {},
   "source": [
    "Сервис по продаже автомобилей с пробегом «Не бит, не крашен» разрабатывает приложение, чтобы привлечь новых клиентов. В нём можно будет узнать рыночную стоимость своего автомобиля. \n",
    "\n",
    "Нашей задачей было построить модель, которая сможет определять стоимость автомобиля. Критерии, на основе которых был сделан выбор:\n",
    "- качество предсказания;\n",
    "- время обучения модели;\n",
    "- время предсказания модели.\n",
    "\n",
    "Для исследования было использовано три модели: LinearRegression, CatBoostRegressor, LGBMRegressor.\n",
    "Модель LinearRegression по всем показателям уступала другим моделям. Модели CatBoostRegressor и LGBMRegressor по метрике RMSE выдали близкие значения, но по времени обучения и предсказания LGBMRegressor уступало CatBoostRegressor.\n",
    "\n",
    "В результате обучения была выбрана модель CatBoostRegressor. В ходе проверки на тестовой выборки модель показала следующие показатели:\n",
    "- RMSE = 2233.416323031098, \n",
    "- time = 18.1s/59.1ms"
   ]
  }
 ],
 "metadata": {
  "ExecuteTimeLog": [
   {
    "duration": 564,
    "start_time": "2023-02-08T19:08:36.311Z"
   },
   {
    "duration": 1578,
    "start_time": "2023-02-08T19:08:37.283Z"
   },
   {
    "duration": 200,
    "start_time": "2023-02-08T19:10:45.490Z"
   },
   {
    "duration": 895,
    "start_time": "2023-02-08T19:10:55.277Z"
   },
   {
    "duration": 159,
    "start_time": "2023-02-08T19:11:16.542Z"
   },
   {
    "duration": 224,
    "start_time": "2023-02-08T19:11:23.465Z"
   },
   {
    "duration": 95,
    "start_time": "2023-02-08T19:12:04.393Z"
   },
   {
    "duration": 630,
    "start_time": "2023-02-08T19:12:23.588Z"
   },
   {
    "duration": 510,
    "start_time": "2023-02-08T19:12:41.999Z"
   },
   {
    "duration": 619,
    "start_time": "2023-02-08T19:13:18.713Z"
   },
   {
    "duration": 476,
    "start_time": "2023-02-08T19:13:29.477Z"
   },
   {
    "duration": 163,
    "start_time": "2023-02-08T19:13:51.006Z"
   },
   {
    "duration": 15,
    "start_time": "2023-02-08T19:14:07.172Z"
   },
   {
    "duration": 436,
    "start_time": "2023-02-08T19:26:32.106Z"
   },
   {
    "duration": 887,
    "start_time": "2023-02-08T19:26:32.544Z"
   },
   {
    "duration": 158,
    "start_time": "2023-02-08T19:26:33.433Z"
   },
   {
    "duration": 140,
    "start_time": "2023-02-08T19:26:33.593Z"
   },
   {
    "duration": 484,
    "start_time": "2023-02-08T19:26:33.739Z"
   },
   {
    "duration": 131,
    "start_time": "2023-02-08T19:26:34.225Z"
   },
   {
    "duration": 13,
    "start_time": "2023-02-08T19:26:34.358Z"
   },
   {
    "duration": 63,
    "start_time": "2023-02-08T19:30:50.266Z"
   },
   {
    "duration": 97,
    "start_time": "2023-02-08T19:30:56.190Z"
   },
   {
    "duration": 13,
    "start_time": "2023-02-08T19:31:01.856Z"
   },
   {
    "duration": 54,
    "start_time": "2023-02-08T19:31:10.058Z"
   },
   {
    "duration": 60,
    "start_time": "2023-02-08T19:31:37.190Z"
   },
   {
    "duration": 17,
    "start_time": "2023-02-08T19:31:47.349Z"
   },
   {
    "duration": 430,
    "start_time": "2023-02-08T19:34:16.172Z"
   },
   {
    "duration": 909,
    "start_time": "2023-02-08T19:34:16.604Z"
   },
   {
    "duration": 188,
    "start_time": "2023-02-08T19:34:17.515Z"
   },
   {
    "duration": 128,
    "start_time": "2023-02-08T19:34:17.705Z"
   },
   {
    "duration": 558,
    "start_time": "2023-02-08T19:34:17.840Z"
   },
   {
    "duration": 144,
    "start_time": "2023-02-08T19:34:18.400Z"
   },
   {
    "duration": 23,
    "start_time": "2023-02-08T19:34:18.546Z"
   },
   {
    "duration": 319,
    "start_time": "2023-02-08T19:34:18.572Z"
   },
   {
    "duration": 22,
    "start_time": "2023-02-08T19:35:35.457Z"
   },
   {
    "duration": 23,
    "start_time": "2023-02-08T19:35:59.128Z"
   },
   {
    "duration": 21,
    "start_time": "2023-02-08T19:36:30.385Z"
   },
   {
    "duration": 22,
    "start_time": "2023-02-08T19:36:57.285Z"
   },
   {
    "duration": 22,
    "start_time": "2023-02-08T19:37:20.234Z"
   },
   {
    "duration": 429,
    "start_time": "2023-02-08T19:58:43.264Z"
   },
   {
    "duration": 833,
    "start_time": "2023-02-08T19:58:43.694Z"
   },
   {
    "duration": 157,
    "start_time": "2023-02-08T19:58:44.529Z"
   },
   {
    "duration": 107,
    "start_time": "2023-02-08T19:58:44.688Z"
   },
   {
    "duration": 487,
    "start_time": "2023-02-08T19:58:44.796Z"
   },
   {
    "duration": 134,
    "start_time": "2023-02-08T19:58:45.285Z"
   },
   {
    "duration": 36,
    "start_time": "2023-02-08T19:58:45.421Z"
   },
   {
    "duration": 258,
    "start_time": "2023-02-08T19:58:45.459Z"
   },
   {
    "duration": 28,
    "start_time": "2023-02-08T19:58:45.719Z"
   },
   {
    "duration": 20,
    "start_time": "2023-02-08T19:58:45.753Z"
   },
   {
    "duration": 19,
    "start_time": "2023-02-08T19:58:45.775Z"
   },
   {
    "duration": 23,
    "start_time": "2023-02-08T19:58:45.796Z"
   },
   {
    "duration": 51,
    "start_time": "2023-02-08T19:58:45.821Z"
   },
   {
    "duration": 25,
    "start_time": "2023-02-08T19:58:45.874Z"
   },
   {
    "duration": 25,
    "start_time": "2023-02-08T19:58:45.901Z"
   },
   {
    "duration": 71,
    "start_time": "2023-02-08T19:58:45.928Z"
   },
   {
    "duration": 85,
    "start_time": "2023-02-08T19:59:23.396Z"
   },
   {
    "duration": 132,
    "start_time": "2023-02-08T20:00:28.937Z"
   },
   {
    "duration": 22,
    "start_time": "2023-02-08T20:04:42.963Z"
   },
   {
    "duration": 5,
    "start_time": "2023-02-08T20:14:04.553Z"
   },
   {
    "duration": 83,
    "start_time": "2023-02-08T20:14:19.087Z"
   },
   {
    "duration": 8,
    "start_time": "2023-02-08T20:14:22.580Z"
   },
   {
    "duration": 10,
    "start_time": "2023-02-08T20:14:58.554Z"
   },
   {
    "duration": 5,
    "start_time": "2023-02-08T20:15:27.953Z"
   },
   {
    "duration": 794,
    "start_time": "2023-02-08T20:16:01.808Z"
   },
   {
    "duration": 1526,
    "start_time": "2023-02-08T20:16:14.674Z"
   },
   {
    "duration": 155,
    "start_time": "2023-02-08T20:16:23.970Z"
   },
   {
    "duration": 50,
    "start_time": "2023-02-08T20:20:17.359Z"
   },
   {
    "duration": 12,
    "start_time": "2023-02-08T20:20:40.727Z"
   },
   {
    "duration": 354,
    "start_time": "2023-02-08T20:21:11.817Z"
   },
   {
    "duration": 233,
    "start_time": "2023-02-08T20:21:29.400Z"
   },
   {
    "duration": 231,
    "start_time": "2023-02-08T20:21:35.341Z"
   },
   {
    "duration": 703,
    "start_time": "2023-02-08T20:22:12.054Z"
   },
   {
    "duration": 194,
    "start_time": "2023-02-08T20:22:32.708Z"
   },
   {
    "duration": 208,
    "start_time": "2023-02-08T20:24:40.966Z"
   },
   {
    "duration": 300,
    "start_time": "2023-02-08T20:26:44.908Z"
   },
   {
    "duration": 4,
    "start_time": "2023-02-08T20:27:11.453Z"
   },
   {
    "duration": 218,
    "start_time": "2023-02-08T20:27:19.953Z"
   },
   {
    "duration": 222,
    "start_time": "2023-02-08T20:29:01.361Z"
   },
   {
    "duration": 198,
    "start_time": "2023-02-08T20:29:11.109Z"
   },
   {
    "duration": 25,
    "start_time": "2023-02-08T20:33:37.005Z"
   },
   {
    "duration": 204,
    "start_time": "2023-02-08T20:35:01.589Z"
   },
   {
    "duration": 215,
    "start_time": "2023-02-08T20:35:33.339Z"
   },
   {
    "duration": 705,
    "start_time": "2023-02-08T20:36:19.348Z"
   },
   {
    "duration": 900,
    "start_time": "2023-02-08T20:36:20.055Z"
   },
   {
    "duration": 151,
    "start_time": "2023-02-08T20:36:20.957Z"
   },
   {
    "duration": 117,
    "start_time": "2023-02-08T20:36:21.110Z"
   },
   {
    "duration": 494,
    "start_time": "2023-02-08T20:36:21.230Z"
   },
   {
    "duration": 150,
    "start_time": "2023-02-08T20:36:21.726Z"
   },
   {
    "duration": 14,
    "start_time": "2023-02-08T20:36:21.877Z"
   },
   {
    "duration": 270,
    "start_time": "2023-02-08T20:36:21.893Z"
   },
   {
    "duration": 20,
    "start_time": "2023-02-08T20:36:22.165Z"
   },
   {
    "duration": 22,
    "start_time": "2023-02-08T20:36:22.187Z"
   },
   {
    "duration": 53,
    "start_time": "2023-02-08T20:36:22.211Z"
   },
   {
    "duration": 18,
    "start_time": "2023-02-08T20:36:22.266Z"
   },
   {
    "duration": 34,
    "start_time": "2023-02-08T20:36:22.286Z"
   },
   {
    "duration": 34,
    "start_time": "2023-02-08T20:36:22.322Z"
   },
   {
    "duration": 23,
    "start_time": "2023-02-08T20:36:22.358Z"
   },
   {
    "duration": 92,
    "start_time": "2023-02-08T20:36:22.382Z"
   },
   {
    "duration": 104,
    "start_time": "2023-02-08T20:36:22.476Z"
   },
   {
    "duration": 5,
    "start_time": "2023-02-08T20:36:22.582Z"
   },
   {
    "duration": 63,
    "start_time": "2023-02-08T20:36:22.588Z"
   },
   {
    "duration": 250,
    "start_time": "2023-02-08T20:36:22.653Z"
   },
   {
    "duration": 254,
    "start_time": "2023-02-08T20:36:22.905Z"
   },
   {
    "duration": 244,
    "start_time": "2023-02-08T20:36:23.161Z"
   },
   {
    "duration": 215,
    "start_time": "2023-02-08T20:36:23.407Z"
   },
   {
    "duration": 35,
    "start_time": "2023-02-08T20:36:23.623Z"
   },
   {
    "duration": 276,
    "start_time": "2023-02-08T20:37:05.547Z"
   },
   {
    "duration": 5,
    "start_time": "2023-02-08T20:38:24.278Z"
   },
   {
    "duration": 225,
    "start_time": "2023-02-08T20:41:27.699Z"
   },
   {
    "duration": 7,
    "start_time": "2023-02-08T20:44:28.475Z"
   },
   {
    "duration": 5,
    "start_time": "2023-02-08T20:44:41.888Z"
   },
   {
    "duration": 5,
    "start_time": "2023-02-08T20:55:18.945Z"
   },
   {
    "duration": 711,
    "start_time": "2023-02-08T20:58:00.339Z"
   },
   {
    "duration": 955,
    "start_time": "2023-02-08T20:58:01.052Z"
   },
   {
    "duration": 145,
    "start_time": "2023-02-08T20:58:02.009Z"
   },
   {
    "duration": 118,
    "start_time": "2023-02-08T20:58:02.157Z"
   },
   {
    "duration": 524,
    "start_time": "2023-02-08T20:58:02.277Z"
   },
   {
    "duration": 152,
    "start_time": "2023-02-08T20:58:02.803Z"
   },
   {
    "duration": 36,
    "start_time": "2023-02-08T20:58:02.957Z"
   },
   {
    "duration": 264,
    "start_time": "2023-02-08T20:58:02.996Z"
   },
   {
    "duration": 19,
    "start_time": "2023-02-08T20:58:03.262Z"
   },
   {
    "duration": 32,
    "start_time": "2023-02-08T20:58:03.285Z"
   },
   {
    "duration": 30,
    "start_time": "2023-02-08T20:58:03.320Z"
   },
   {
    "duration": 22,
    "start_time": "2023-02-08T20:58:03.352Z"
   },
   {
    "duration": 40,
    "start_time": "2023-02-08T20:58:03.375Z"
   },
   {
    "duration": 29,
    "start_time": "2023-02-08T20:58:03.416Z"
   },
   {
    "duration": 23,
    "start_time": "2023-02-08T20:58:03.447Z"
   },
   {
    "duration": 89,
    "start_time": "2023-02-08T20:58:03.472Z"
   },
   {
    "duration": 90,
    "start_time": "2023-02-08T20:58:03.563Z"
   },
   {
    "duration": 6,
    "start_time": "2023-02-08T20:58:03.656Z"
   },
   {
    "duration": 42,
    "start_time": "2023-02-08T20:58:03.664Z"
   },
   {
    "duration": 275,
    "start_time": "2023-02-08T20:58:03.707Z"
   },
   {
    "duration": 223,
    "start_time": "2023-02-08T20:58:03.984Z"
   },
   {
    "duration": 243,
    "start_time": "2023-02-08T20:58:04.210Z"
   },
   {
    "duration": 204,
    "start_time": "2023-02-08T20:58:04.455Z"
   },
   {
    "duration": 29,
    "start_time": "2023-02-08T20:58:04.661Z"
   },
   {
    "duration": 5,
    "start_time": "2023-02-08T20:58:04.692Z"
   },
   {
    "duration": 10,
    "start_time": "2023-02-08T20:58:04.699Z"
   },
   {
    "duration": 4,
    "start_time": "2023-02-08T20:58:04.710Z"
   },
   {
    "duration": 73,
    "start_time": "2023-02-08T21:14:14.550Z"
   },
   {
    "duration": 102,
    "start_time": "2023-02-08T21:14:20.257Z"
   },
   {
    "duration": 74,
    "start_time": "2023-02-08T21:14:34.601Z"
   },
   {
    "duration": 83,
    "start_time": "2023-02-08T21:14:42.123Z"
   },
   {
    "duration": 786,
    "start_time": "2023-02-08T21:15:01.448Z"
   },
   {
    "duration": 1450,
    "start_time": "2023-02-08T21:15:08.965Z"
   },
   {
    "duration": 14,
    "start_time": "2023-02-08T21:18:53.072Z"
   },
   {
    "duration": 14,
    "start_time": "2023-02-08T21:20:35.050Z"
   },
   {
    "duration": 10,
    "start_time": "2023-02-08T21:22:09.539Z"
   },
   {
    "duration": 19,
    "start_time": "2023-02-08T21:22:16.230Z"
   },
   {
    "duration": 1415,
    "start_time": "2023-02-08T21:23:10.104Z"
   },
   {
    "duration": 931,
    "start_time": "2023-02-08T21:23:11.521Z"
   },
   {
    "duration": 154,
    "start_time": "2023-02-08T21:23:12.455Z"
   },
   {
    "duration": 118,
    "start_time": "2023-02-08T21:23:12.611Z"
   },
   {
    "duration": 563,
    "start_time": "2023-02-08T21:23:12.731Z"
   },
   {
    "duration": 161,
    "start_time": "2023-02-08T21:23:13.296Z"
   },
   {
    "duration": 15,
    "start_time": "2023-02-08T21:23:13.459Z"
   },
   {
    "duration": 289,
    "start_time": "2023-02-08T21:23:13.476Z"
   },
   {
    "duration": 19,
    "start_time": "2023-02-08T21:23:13.767Z"
   },
   {
    "duration": 28,
    "start_time": "2023-02-08T21:23:13.789Z"
   },
   {
    "duration": 44,
    "start_time": "2023-02-08T21:23:13.818Z"
   },
   {
    "duration": 20,
    "start_time": "2023-02-08T21:23:13.864Z"
   },
   {
    "duration": 35,
    "start_time": "2023-02-08T21:23:13.886Z"
   },
   {
    "duration": 34,
    "start_time": "2023-02-08T21:23:13.923Z"
   },
   {
    "duration": 23,
    "start_time": "2023-02-08T21:23:13.962Z"
   },
   {
    "duration": 84,
    "start_time": "2023-02-08T21:23:13.986Z"
   },
   {
    "duration": 82,
    "start_time": "2023-02-08T21:23:14.072Z"
   },
   {
    "duration": 6,
    "start_time": "2023-02-08T21:23:14.156Z"
   },
   {
    "duration": 32,
    "start_time": "2023-02-08T21:23:14.164Z"
   },
   {
    "duration": 276,
    "start_time": "2023-02-08T21:23:14.197Z"
   },
   {
    "duration": 238,
    "start_time": "2023-02-08T21:23:14.475Z"
   },
   {
    "duration": 245,
    "start_time": "2023-02-08T21:23:14.715Z"
   },
   {
    "duration": 228,
    "start_time": "2023-02-08T21:23:14.963Z"
   },
   {
    "duration": 21,
    "start_time": "2023-02-08T21:23:15.193Z"
   },
   {
    "duration": 25,
    "start_time": "2023-02-08T21:23:15.216Z"
   },
   {
    "duration": 7,
    "start_time": "2023-02-08T21:23:15.256Z"
   },
   {
    "duration": 5,
    "start_time": "2023-02-08T21:23:15.265Z"
   },
   {
    "duration": 118,
    "start_time": "2023-02-08T21:23:15.273Z"
   },
   {
    "duration": 18,
    "start_time": "2023-02-08T21:23:25.066Z"
   },
   {
    "duration": 13,
    "start_time": "2023-02-08T21:23:36.804Z"
   },
   {
    "duration": 14,
    "start_time": "2023-02-08T21:25:21.114Z"
   },
   {
    "duration": 17,
    "start_time": "2023-02-08T21:28:01.496Z"
   },
   {
    "duration": 13,
    "start_time": "2023-02-08T21:28:20.421Z"
   },
   {
    "duration": 16,
    "start_time": "2023-02-08T21:28:26.275Z"
   },
   {
    "duration": 12,
    "start_time": "2023-02-08T21:28:39.466Z"
   },
   {
    "duration": 17,
    "start_time": "2023-02-08T21:28:56.109Z"
   },
   {
    "duration": 1349,
    "start_time": "2023-02-08T21:29:14.093Z"
   },
   {
    "duration": 883,
    "start_time": "2023-02-08T21:29:15.445Z"
   },
   {
    "duration": 152,
    "start_time": "2023-02-08T21:29:16.329Z"
   },
   {
    "duration": 117,
    "start_time": "2023-02-08T21:29:16.483Z"
   },
   {
    "duration": 512,
    "start_time": "2023-02-08T21:29:16.602Z"
   },
   {
    "duration": 146,
    "start_time": "2023-02-08T21:29:17.115Z"
   },
   {
    "duration": 13,
    "start_time": "2023-02-08T21:29:17.263Z"
   },
   {
    "duration": 280,
    "start_time": "2023-02-08T21:29:17.278Z"
   },
   {
    "duration": 19,
    "start_time": "2023-02-08T21:29:17.560Z"
   },
   {
    "duration": 23,
    "start_time": "2023-02-08T21:29:17.581Z"
   },
   {
    "duration": 20,
    "start_time": "2023-02-08T21:29:17.606Z"
   },
   {
    "duration": 33,
    "start_time": "2023-02-08T21:29:17.627Z"
   },
   {
    "duration": 39,
    "start_time": "2023-02-08T21:29:17.662Z"
   },
   {
    "duration": 18,
    "start_time": "2023-02-08T21:29:17.703Z"
   },
   {
    "duration": 39,
    "start_time": "2023-02-08T21:29:17.723Z"
   },
   {
    "duration": 65,
    "start_time": "2023-02-08T21:29:17.764Z"
   },
   {
    "duration": 87,
    "start_time": "2023-02-08T21:29:17.831Z"
   },
   {
    "duration": 21,
    "start_time": "2023-02-08T21:29:17.920Z"
   },
   {
    "duration": 25,
    "start_time": "2023-02-08T21:29:17.943Z"
   },
   {
    "duration": 275,
    "start_time": "2023-02-08T21:29:17.970Z"
   },
   {
    "duration": 212,
    "start_time": "2023-02-08T21:29:18.247Z"
   },
   {
    "duration": 221,
    "start_time": "2023-02-08T21:29:18.461Z"
   },
   {
    "duration": 208,
    "start_time": "2023-02-08T21:29:18.684Z"
   },
   {
    "duration": 19,
    "start_time": "2023-02-08T21:29:18.894Z"
   },
   {
    "duration": 5,
    "start_time": "2023-02-08T21:29:18.915Z"
   },
   {
    "duration": 8,
    "start_time": "2023-02-08T21:29:18.939Z"
   },
   {
    "duration": 4,
    "start_time": "2023-02-08T21:29:18.949Z"
   },
   {
    "duration": 21,
    "start_time": "2023-02-08T21:29:18.955Z"
   },
   {
    "duration": 110,
    "start_time": "2023-02-08T21:30:42.823Z"
   },
   {
    "duration": 1421,
    "start_time": "2023-02-08T21:30:52.725Z"
   },
   {
    "duration": 894,
    "start_time": "2023-02-08T21:30:54.148Z"
   },
   {
    "duration": 141,
    "start_time": "2023-02-08T21:30:55.044Z"
   },
   {
    "duration": 153,
    "start_time": "2023-02-08T21:30:55.188Z"
   },
   {
    "duration": 492,
    "start_time": "2023-02-08T21:30:55.342Z"
   },
   {
    "duration": 126,
    "start_time": "2023-02-08T21:30:55.839Z"
   },
   {
    "duration": 14,
    "start_time": "2023-02-08T21:30:55.966Z"
   },
   {
    "duration": 271,
    "start_time": "2023-02-08T21:30:55.981Z"
   },
   {
    "duration": 21,
    "start_time": "2023-02-08T21:30:56.253Z"
   },
   {
    "duration": 21,
    "start_time": "2023-02-08T21:30:56.276Z"
   },
   {
    "duration": 19,
    "start_time": "2023-02-08T21:30:56.299Z"
   },
   {
    "duration": 36,
    "start_time": "2023-02-08T21:30:56.320Z"
   },
   {
    "duration": 35,
    "start_time": "2023-02-08T21:30:56.357Z"
   },
   {
    "duration": 18,
    "start_time": "2023-02-08T21:30:56.394Z"
   },
   {
    "duration": 40,
    "start_time": "2023-02-08T21:30:56.414Z"
   },
   {
    "duration": 72,
    "start_time": "2023-02-08T21:30:56.456Z"
   },
   {
    "duration": 94,
    "start_time": "2023-02-08T21:30:56.529Z"
   },
   {
    "duration": 15,
    "start_time": "2023-02-08T21:30:56.625Z"
   },
   {
    "duration": 32,
    "start_time": "2023-02-08T21:30:56.642Z"
   },
   {
    "duration": 259,
    "start_time": "2023-02-08T21:30:56.676Z"
   },
   {
    "duration": 217,
    "start_time": "2023-02-08T21:30:56.939Z"
   },
   {
    "duration": 233,
    "start_time": "2023-02-08T21:30:57.158Z"
   },
   {
    "duration": 206,
    "start_time": "2023-02-08T21:30:57.392Z"
   },
   {
    "duration": 19,
    "start_time": "2023-02-08T21:30:57.600Z"
   },
   {
    "duration": 19,
    "start_time": "2023-02-08T21:30:57.621Z"
   },
   {
    "duration": 20,
    "start_time": "2023-02-08T21:30:57.642Z"
   },
   {
    "duration": 4,
    "start_time": "2023-02-08T21:30:57.664Z"
   },
   {
    "duration": 21,
    "start_time": "2023-02-08T21:30:57.671Z"
   },
   {
    "duration": 107,
    "start_time": "2023-02-08T21:31:06.302Z"
   },
   {
    "duration": 1408,
    "start_time": "2023-02-08T21:31:40.513Z"
   },
   {
    "duration": 902,
    "start_time": "2023-02-08T21:31:41.923Z"
   },
   {
    "duration": 152,
    "start_time": "2023-02-08T21:31:42.826Z"
   },
   {
    "duration": 116,
    "start_time": "2023-02-08T21:31:42.980Z"
   },
   {
    "duration": 521,
    "start_time": "2023-02-08T21:31:43.098Z"
   },
   {
    "duration": 139,
    "start_time": "2023-02-08T21:31:43.620Z"
   },
   {
    "duration": 13,
    "start_time": "2023-02-08T21:31:43.760Z"
   },
   {
    "duration": 292,
    "start_time": "2023-02-08T21:31:43.775Z"
   },
   {
    "duration": 21,
    "start_time": "2023-02-08T21:31:44.069Z"
   },
   {
    "duration": 23,
    "start_time": "2023-02-08T21:31:44.092Z"
   },
   {
    "duration": 32,
    "start_time": "2023-02-08T21:31:44.117Z"
   },
   {
    "duration": 20,
    "start_time": "2023-02-08T21:31:44.151Z"
   },
   {
    "duration": 42,
    "start_time": "2023-02-08T21:31:44.173Z"
   },
   {
    "duration": 32,
    "start_time": "2023-02-08T21:31:44.219Z"
   },
   {
    "duration": 21,
    "start_time": "2023-02-08T21:31:44.252Z"
   },
   {
    "duration": 83,
    "start_time": "2023-02-08T21:31:44.275Z"
   },
   {
    "duration": 84,
    "start_time": "2023-02-08T21:31:44.359Z"
   },
   {
    "duration": 5,
    "start_time": "2023-02-08T21:31:44.445Z"
   },
   {
    "duration": 24,
    "start_time": "2023-02-08T21:31:44.451Z"
   },
   {
    "duration": 249,
    "start_time": "2023-02-08T21:31:44.477Z"
   },
   {
    "duration": 216,
    "start_time": "2023-02-08T21:31:44.728Z"
   },
   {
    "duration": 230,
    "start_time": "2023-02-08T21:31:44.946Z"
   },
   {
    "duration": 205,
    "start_time": "2023-02-08T21:31:45.178Z"
   },
   {
    "duration": 18,
    "start_time": "2023-02-08T21:31:45.385Z"
   },
   {
    "duration": 5,
    "start_time": "2023-02-08T21:31:45.405Z"
   },
   {
    "duration": 29,
    "start_time": "2023-02-08T21:31:45.411Z"
   },
   {
    "duration": 3,
    "start_time": "2023-02-08T21:31:45.442Z"
   },
   {
    "duration": 20,
    "start_time": "2023-02-08T21:31:45.447Z"
   },
   {
    "duration": 19,
    "start_time": "2023-02-08T21:32:09.117Z"
   },
   {
    "duration": 71,
    "start_time": "2023-02-08T21:33:42.959Z"
   },
   {
    "duration": 117,
    "start_time": "2023-02-08T21:34:11.354Z"
   },
   {
    "duration": 1429,
    "start_time": "2023-02-08T21:34:24.954Z"
   },
   {
    "duration": 956,
    "start_time": "2023-02-08T21:34:26.385Z"
   },
   {
    "duration": 147,
    "start_time": "2023-02-08T21:34:27.351Z"
   },
   {
    "duration": 111,
    "start_time": "2023-02-08T21:34:27.499Z"
   },
   {
    "duration": 600,
    "start_time": "2023-02-08T21:34:27.612Z"
   },
   {
    "duration": 165,
    "start_time": "2023-02-08T21:34:28.213Z"
   },
   {
    "duration": 13,
    "start_time": "2023-02-08T21:34:28.380Z"
   },
   {
    "duration": 296,
    "start_time": "2023-02-08T21:34:28.394Z"
   },
   {
    "duration": 19,
    "start_time": "2023-02-08T21:34:28.692Z"
   },
   {
    "duration": 37,
    "start_time": "2023-02-08T21:34:28.713Z"
   },
   {
    "duration": 21,
    "start_time": "2023-02-08T21:34:28.754Z"
   },
   {
    "duration": 22,
    "start_time": "2023-02-08T21:34:28.777Z"
   },
   {
    "duration": 54,
    "start_time": "2023-02-08T21:34:28.801Z"
   },
   {
    "duration": 17,
    "start_time": "2023-02-08T21:34:28.858Z"
   },
   {
    "duration": 21,
    "start_time": "2023-02-08T21:34:28.876Z"
   },
   {
    "duration": 84,
    "start_time": "2023-02-08T21:34:28.899Z"
   },
   {
    "duration": 145,
    "start_time": "2023-02-08T21:34:28.985Z"
   },
   {
    "duration": 10,
    "start_time": "2023-02-08T21:34:29.140Z"
   },
   {
    "duration": 39,
    "start_time": "2023-02-08T21:34:29.153Z"
   },
   {
    "duration": 276,
    "start_time": "2023-02-08T21:34:29.195Z"
   },
   {
    "duration": 224,
    "start_time": "2023-02-08T21:34:29.473Z"
   },
   {
    "duration": 246,
    "start_time": "2023-02-08T21:34:29.698Z"
   },
   {
    "duration": 245,
    "start_time": "2023-02-08T21:34:29.947Z"
   },
   {
    "duration": 20,
    "start_time": "2023-02-08T21:34:30.194Z"
   },
   {
    "duration": 25,
    "start_time": "2023-02-08T21:34:30.216Z"
   },
   {
    "duration": 20,
    "start_time": "2023-02-08T21:34:30.244Z"
   },
   {
    "duration": 25,
    "start_time": "2023-02-08T21:34:30.265Z"
   },
   {
    "duration": 148,
    "start_time": "2023-02-08T21:34:30.292Z"
   },
   {
    "duration": 0,
    "start_time": "2023-02-08T21:34:30.444Z"
   },
   {
    "duration": 17,
    "start_time": "2023-02-08T21:34:50.060Z"
   },
   {
    "duration": 10,
    "start_time": "2023-02-08T21:34:52.164Z"
   },
   {
    "duration": 20,
    "start_time": "2023-02-08T21:35:37.165Z"
   },
   {
    "duration": 1456,
    "start_time": "2023-02-08T21:40:51.417Z"
   },
   {
    "duration": 985,
    "start_time": "2023-02-08T21:40:52.875Z"
   },
   {
    "duration": 164,
    "start_time": "2023-02-08T21:40:53.862Z"
   },
   {
    "duration": 121,
    "start_time": "2023-02-08T21:40:54.028Z"
   },
   {
    "duration": 565,
    "start_time": "2023-02-08T21:40:54.152Z"
   },
   {
    "duration": 160,
    "start_time": "2023-02-08T21:40:54.719Z"
   },
   {
    "duration": 14,
    "start_time": "2023-02-08T21:40:54.881Z"
   },
   {
    "duration": 321,
    "start_time": "2023-02-08T21:40:54.896Z"
   },
   {
    "duration": 28,
    "start_time": "2023-02-08T21:40:55.219Z"
   },
   {
    "duration": 26,
    "start_time": "2023-02-08T21:40:55.252Z"
   },
   {
    "duration": 21,
    "start_time": "2023-02-08T21:40:55.280Z"
   },
   {
    "duration": 44,
    "start_time": "2023-02-08T21:40:55.302Z"
   },
   {
    "duration": 53,
    "start_time": "2023-02-08T21:40:55.348Z"
   },
   {
    "duration": 19,
    "start_time": "2023-02-08T21:40:55.403Z"
   },
   {
    "duration": 37,
    "start_time": "2023-02-08T21:40:55.424Z"
   },
   {
    "duration": 100,
    "start_time": "2023-02-08T21:40:55.463Z"
   },
   {
    "duration": 88,
    "start_time": "2023-02-08T21:40:55.565Z"
   },
   {
    "duration": 6,
    "start_time": "2023-02-08T21:40:55.656Z"
   },
   {
    "duration": 26,
    "start_time": "2023-02-08T21:40:55.664Z"
   },
   {
    "duration": 286,
    "start_time": "2023-02-08T21:40:55.691Z"
   },
   {
    "duration": 227,
    "start_time": "2023-02-08T21:40:55.979Z"
   },
   {
    "duration": 255,
    "start_time": "2023-02-08T21:40:56.207Z"
   },
   {
    "duration": 244,
    "start_time": "2023-02-08T21:40:56.464Z"
   },
   {
    "duration": 19,
    "start_time": "2023-02-08T21:40:56.710Z"
   },
   {
    "duration": 10,
    "start_time": "2023-02-08T21:40:56.741Z"
   },
   {
    "duration": 18,
    "start_time": "2023-02-08T21:40:56.753Z"
   },
   {
    "duration": 28,
    "start_time": "2023-02-08T21:40:56.772Z"
   },
   {
    "duration": 135,
    "start_time": "2023-02-08T21:40:56.804Z"
   },
   {
    "duration": 0,
    "start_time": "2023-02-08T21:40:56.942Z"
   },
   {
    "duration": 310,
    "start_time": "2023-02-08T21:41:03.860Z"
   },
   {
    "duration": 404,
    "start_time": "2023-02-08T21:45:20.193Z"
   },
   {
    "duration": 20,
    "start_time": "2023-02-08T21:46:10.009Z"
   },
   {
    "duration": 15,
    "start_time": "2023-02-08T21:46:48.342Z"
   },
   {
    "duration": 8,
    "start_time": "2023-02-08T21:48:43.959Z"
   },
   {
    "duration": 24,
    "start_time": "2023-02-08T21:50:16.214Z"
   },
   {
    "duration": 59,
    "start_time": "2023-02-08T21:50:41.826Z"
   },
   {
    "duration": 1458,
    "start_time": "2023-02-08T21:50:54.530Z"
   },
   {
    "duration": 971,
    "start_time": "2023-02-08T21:50:55.990Z"
   },
   {
    "duration": 165,
    "start_time": "2023-02-08T21:50:56.963Z"
   },
   {
    "duration": 127,
    "start_time": "2023-02-08T21:50:57.130Z"
   },
   {
    "duration": 533,
    "start_time": "2023-02-08T21:50:57.259Z"
   },
   {
    "duration": 156,
    "start_time": "2023-02-08T21:50:57.794Z"
   },
   {
    "duration": 15,
    "start_time": "2023-02-08T21:50:57.953Z"
   },
   {
    "duration": 314,
    "start_time": "2023-02-08T21:50:57.970Z"
   },
   {
    "duration": 22,
    "start_time": "2023-02-08T21:50:58.286Z"
   },
   {
    "duration": 29,
    "start_time": "2023-02-08T21:50:58.311Z"
   },
   {
    "duration": 29,
    "start_time": "2023-02-08T21:50:58.342Z"
   },
   {
    "duration": 20,
    "start_time": "2023-02-08T21:50:58.373Z"
   },
   {
    "duration": 53,
    "start_time": "2023-02-08T21:50:58.395Z"
   },
   {
    "duration": 20,
    "start_time": "2023-02-08T21:50:58.453Z"
   },
   {
    "duration": 26,
    "start_time": "2023-02-08T21:50:58.474Z"
   },
   {
    "duration": 82,
    "start_time": "2023-02-08T21:50:58.502Z"
   },
   {
    "duration": 94,
    "start_time": "2023-02-08T21:50:58.585Z"
   },
   {
    "duration": 5,
    "start_time": "2023-02-08T21:50:58.681Z"
   },
   {
    "duration": 27,
    "start_time": "2023-02-08T21:50:58.687Z"
   },
   {
    "duration": 320,
    "start_time": "2023-02-08T21:50:58.716Z"
   },
   {
    "duration": 242,
    "start_time": "2023-02-08T21:50:59.038Z"
   },
   {
    "duration": 241,
    "start_time": "2023-02-08T21:50:59.281Z"
   },
   {
    "duration": 227,
    "start_time": "2023-02-08T21:50:59.523Z"
   },
   {
    "duration": 19,
    "start_time": "2023-02-08T21:50:59.753Z"
   },
   {
    "duration": 5,
    "start_time": "2023-02-08T21:50:59.774Z"
   },
   {
    "duration": 6,
    "start_time": "2023-02-08T21:50:59.781Z"
   },
   {
    "duration": 4,
    "start_time": "2023-02-08T21:50:59.788Z"
   },
   {
    "duration": 64,
    "start_time": "2023-02-08T21:50:59.795Z"
   },
   {
    "duration": 29,
    "start_time": "2023-02-08T21:52:47.992Z"
   },
   {
    "duration": 119,
    "start_time": "2023-02-08T21:54:05.154Z"
   },
   {
    "duration": 1492,
    "start_time": "2023-02-08T21:54:32.018Z"
   },
   {
    "duration": 1020,
    "start_time": "2023-02-08T21:54:33.512Z"
   },
   {
    "duration": 166,
    "start_time": "2023-02-08T21:54:34.534Z"
   },
   {
    "duration": 123,
    "start_time": "2023-02-08T21:54:34.702Z"
   },
   {
    "duration": 591,
    "start_time": "2023-02-08T21:54:34.827Z"
   },
   {
    "duration": 153,
    "start_time": "2023-02-08T21:54:35.420Z"
   },
   {
    "duration": 13,
    "start_time": "2023-02-08T21:54:35.575Z"
   },
   {
    "duration": 308,
    "start_time": "2023-02-08T21:54:35.591Z"
   },
   {
    "duration": 22,
    "start_time": "2023-02-08T21:54:35.901Z"
   },
   {
    "duration": 38,
    "start_time": "2023-02-08T21:54:35.926Z"
   },
   {
    "duration": 21,
    "start_time": "2023-02-08T21:54:35.965Z"
   },
   {
    "duration": 24,
    "start_time": "2023-02-08T21:54:35.988Z"
   },
   {
    "duration": 59,
    "start_time": "2023-02-08T21:54:36.013Z"
   },
   {
    "duration": 18,
    "start_time": "2023-02-08T21:54:36.074Z"
   },
   {
    "duration": 25,
    "start_time": "2023-02-08T21:54:36.093Z"
   },
   {
    "duration": 89,
    "start_time": "2023-02-08T21:54:36.119Z"
   },
   {
    "duration": 103,
    "start_time": "2023-02-08T21:54:36.210Z"
   },
   {
    "duration": 14,
    "start_time": "2023-02-08T21:54:36.314Z"
   },
   {
    "duration": 37,
    "start_time": "2023-02-08T21:54:36.330Z"
   },
   {
    "duration": 280,
    "start_time": "2023-02-08T21:54:36.370Z"
   },
   {
    "duration": 234,
    "start_time": "2023-02-08T21:54:36.652Z"
   },
   {
    "duration": 246,
    "start_time": "2023-02-08T21:54:36.888Z"
   },
   {
    "duration": 236,
    "start_time": "2023-02-08T21:54:37.136Z"
   },
   {
    "duration": 19,
    "start_time": "2023-02-08T21:54:37.374Z"
   },
   {
    "duration": 5,
    "start_time": "2023-02-08T21:54:37.395Z"
   },
   {
    "duration": 12,
    "start_time": "2023-02-08T21:54:37.402Z"
   },
   {
    "duration": 25,
    "start_time": "2023-02-08T21:54:37.415Z"
   },
   {
    "duration": 22,
    "start_time": "2023-02-08T21:54:37.445Z"
   },
   {
    "duration": 121,
    "start_time": "2023-02-08T21:54:37.469Z"
   },
   {
    "duration": 9,
    "start_time": "2023-02-08T21:55:54.633Z"
   },
   {
    "duration": 13,
    "start_time": "2023-02-08T21:58:42.532Z"
   },
   {
    "duration": 1400,
    "start_time": "2023-02-08T21:59:15.681Z"
   },
   {
    "duration": 901,
    "start_time": "2023-02-08T21:59:17.083Z"
   },
   {
    "duration": 156,
    "start_time": "2023-02-08T21:59:17.986Z"
   },
   {
    "duration": 169,
    "start_time": "2023-02-08T21:59:18.144Z"
   },
   {
    "duration": 519,
    "start_time": "2023-02-08T21:59:18.315Z"
   },
   {
    "duration": 137,
    "start_time": "2023-02-08T21:59:18.840Z"
   },
   {
    "duration": 22,
    "start_time": "2023-02-08T21:59:18.979Z"
   },
   {
    "duration": 307,
    "start_time": "2023-02-08T21:59:19.003Z"
   },
   {
    "duration": 31,
    "start_time": "2023-02-08T21:59:19.312Z"
   },
   {
    "duration": 29,
    "start_time": "2023-02-08T21:59:19.346Z"
   },
   {
    "duration": 23,
    "start_time": "2023-02-08T21:59:19.377Z"
   },
   {
    "duration": 21,
    "start_time": "2023-02-08T21:59:19.402Z"
   },
   {
    "duration": 51,
    "start_time": "2023-02-08T21:59:19.424Z"
   },
   {
    "duration": 20,
    "start_time": "2023-02-08T21:59:19.477Z"
   },
   {
    "duration": 41,
    "start_time": "2023-02-08T21:59:19.499Z"
   },
   {
    "duration": 62,
    "start_time": "2023-02-08T21:59:19.543Z"
   },
   {
    "duration": 93,
    "start_time": "2023-02-08T21:59:19.607Z"
   },
   {
    "duration": 61,
    "start_time": "2023-02-08T21:59:19.702Z"
   },
   {
    "duration": 44,
    "start_time": "2023-02-08T21:59:19.765Z"
   },
   {
    "duration": 248,
    "start_time": "2023-02-08T21:59:19.811Z"
   },
   {
    "duration": 246,
    "start_time": "2023-02-08T21:59:20.061Z"
   },
   {
    "duration": 240,
    "start_time": "2023-02-08T21:59:20.308Z"
   },
   {
    "duration": 211,
    "start_time": "2023-02-08T21:59:20.550Z"
   },
   {
    "duration": 23,
    "start_time": "2023-02-08T21:59:20.763Z"
   },
   {
    "duration": 44,
    "start_time": "2023-02-08T21:59:20.788Z"
   },
   {
    "duration": 7,
    "start_time": "2023-02-08T21:59:20.834Z"
   },
   {
    "duration": 4,
    "start_time": "2023-02-08T21:59:20.843Z"
   },
   {
    "duration": 13,
    "start_time": "2023-02-08T21:59:20.850Z"
   },
   {
    "duration": 8,
    "start_time": "2023-02-08T21:59:20.864Z"
   },
   {
    "duration": 5,
    "start_time": "2023-02-08T21:59:20.874Z"
   },
   {
    "duration": 7,
    "start_time": "2023-02-08T22:00:25.020Z"
   },
   {
    "duration": 4,
    "start_time": "2023-02-08T22:00:30.714Z"
   },
   {
    "duration": 3,
    "start_time": "2023-02-08T22:01:18.187Z"
   },
   {
    "duration": 27,
    "start_time": "2023-02-08T22:01:19.129Z"
   },
   {
    "duration": 291,
    "start_time": "2023-02-08T22:02:48.264Z"
   },
   {
    "duration": 15,
    "start_time": "2023-02-08T22:03:19.669Z"
   },
   {
    "duration": 1548,
    "start_time": "2023-02-08T22:04:37.365Z"
   },
   {
    "duration": 997,
    "start_time": "2023-02-08T22:04:38.916Z"
   },
   {
    "duration": 185,
    "start_time": "2023-02-08T22:04:39.916Z"
   },
   {
    "duration": 125,
    "start_time": "2023-02-08T22:04:40.103Z"
   },
   {
    "duration": 565,
    "start_time": "2023-02-08T22:04:40.229Z"
   },
   {
    "duration": 146,
    "start_time": "2023-02-08T22:04:40.800Z"
   },
   {
    "duration": 20,
    "start_time": "2023-02-08T22:04:40.948Z"
   },
   {
    "duration": 290,
    "start_time": "2023-02-08T22:04:40.970Z"
   },
   {
    "duration": 22,
    "start_time": "2023-02-08T22:04:41.262Z"
   },
   {
    "duration": 23,
    "start_time": "2023-02-08T22:04:41.286Z"
   },
   {
    "duration": 39,
    "start_time": "2023-02-08T22:04:41.310Z"
   },
   {
    "duration": 23,
    "start_time": "2023-02-08T22:04:41.352Z"
   },
   {
    "duration": 43,
    "start_time": "2023-02-08T22:04:41.377Z"
   },
   {
    "duration": 36,
    "start_time": "2023-02-08T22:04:41.422Z"
   },
   {
    "duration": 40,
    "start_time": "2023-02-08T22:04:41.460Z"
   },
   {
    "duration": 75,
    "start_time": "2023-02-08T22:04:41.503Z"
   },
   {
    "duration": 89,
    "start_time": "2023-02-08T22:04:41.580Z"
   },
   {
    "duration": 21,
    "start_time": "2023-02-08T22:04:41.671Z"
   },
   {
    "duration": 29,
    "start_time": "2023-02-08T22:04:41.694Z"
   },
   {
    "duration": 265,
    "start_time": "2023-02-08T22:04:41.725Z"
   },
   {
    "duration": 231,
    "start_time": "2023-02-08T22:04:41.992Z"
   },
   {
    "duration": 236,
    "start_time": "2023-02-08T22:04:42.225Z"
   },
   {
    "duration": 280,
    "start_time": "2023-02-08T22:04:42.464Z"
   },
   {
    "duration": 30,
    "start_time": "2023-02-08T22:04:42.747Z"
   },
   {
    "duration": 7,
    "start_time": "2023-02-08T22:04:42.780Z"
   },
   {
    "duration": 11,
    "start_time": "2023-02-08T22:04:42.790Z"
   },
   {
    "duration": 37,
    "start_time": "2023-02-08T22:04:42.804Z"
   },
   {
    "duration": 15,
    "start_time": "2023-02-08T22:04:42.846Z"
   },
   {
    "duration": 12,
    "start_time": "2023-02-08T22:04:42.864Z"
   },
   {
    "duration": 21,
    "start_time": "2023-02-08T22:04:42.879Z"
   },
   {
    "duration": 1497,
    "start_time": "2023-02-09T10:16:34.233Z"
   },
   {
    "duration": 1052,
    "start_time": "2023-02-09T10:16:35.732Z"
   },
   {
    "duration": 112,
    "start_time": "2023-02-09T10:16:36.785Z"
   },
   {
    "duration": 99,
    "start_time": "2023-02-09T10:16:36.899Z"
   },
   {
    "duration": 447,
    "start_time": "2023-02-09T10:16:37.000Z"
   },
   {
    "duration": 110,
    "start_time": "2023-02-09T10:16:37.449Z"
   },
   {
    "duration": 12,
    "start_time": "2023-02-09T10:16:37.561Z"
   },
   {
    "duration": 253,
    "start_time": "2023-02-09T10:16:37.575Z"
   },
   {
    "duration": 18,
    "start_time": "2023-02-09T10:16:37.830Z"
   },
   {
    "duration": 20,
    "start_time": "2023-02-09T10:16:37.852Z"
   },
   {
    "duration": 20,
    "start_time": "2023-02-09T10:16:37.874Z"
   },
   {
    "duration": 40,
    "start_time": "2023-02-09T10:16:37.896Z"
   },
   {
    "duration": 33,
    "start_time": "2023-02-09T10:16:37.938Z"
   },
   {
    "duration": 17,
    "start_time": "2023-02-09T10:16:37.973Z"
   },
   {
    "duration": 35,
    "start_time": "2023-02-09T10:16:37.992Z"
   },
   {
    "duration": 52,
    "start_time": "2023-02-09T10:16:38.029Z"
   },
   {
    "duration": 76,
    "start_time": "2023-02-09T10:16:38.083Z"
   },
   {
    "duration": 4,
    "start_time": "2023-02-09T10:16:38.161Z"
   },
   {
    "duration": 26,
    "start_time": "2023-02-09T10:16:38.166Z"
   },
   {
    "duration": 250,
    "start_time": "2023-02-09T10:16:38.194Z"
   },
   {
    "duration": 210,
    "start_time": "2023-02-09T10:16:38.445Z"
   },
   {
    "duration": 220,
    "start_time": "2023-02-09T10:16:38.657Z"
   },
   {
    "duration": 198,
    "start_time": "2023-02-09T10:16:38.879Z"
   },
   {
    "duration": 16,
    "start_time": "2023-02-09T10:16:39.079Z"
   },
   {
    "duration": 4,
    "start_time": "2023-02-09T10:16:39.097Z"
   },
   {
    "duration": 27,
    "start_time": "2023-02-09T10:16:39.103Z"
   },
   {
    "duration": 4,
    "start_time": "2023-02-09T10:16:39.131Z"
   },
   {
    "duration": 13,
    "start_time": "2023-02-09T10:16:39.138Z"
   },
   {
    "duration": 11,
    "start_time": "2023-02-09T10:16:39.153Z"
   },
   {
    "duration": 175,
    "start_time": "2023-02-09T10:16:39.166Z"
   },
   {
    "duration": 3,
    "start_time": "2023-02-09T10:17:11.680Z"
   },
   {
    "duration": 45,
    "start_time": "2023-02-09T10:17:19.431Z"
   },
   {
    "duration": 12,
    "start_time": "2023-02-09T10:19:23.423Z"
   },
   {
    "duration": 1395,
    "start_time": "2023-02-09T10:19:43.502Z"
   },
   {
    "duration": 763,
    "start_time": "2023-02-09T10:19:44.899Z"
   },
   {
    "duration": 117,
    "start_time": "2023-02-09T10:19:45.664Z"
   },
   {
    "duration": 110,
    "start_time": "2023-02-09T10:19:45.783Z"
   },
   {
    "duration": 445,
    "start_time": "2023-02-09T10:19:45.895Z"
   },
   {
    "duration": 116,
    "start_time": "2023-02-09T10:19:46.342Z"
   },
   {
    "duration": 12,
    "start_time": "2023-02-09T10:19:46.460Z"
   },
   {
    "duration": 231,
    "start_time": "2023-02-09T10:19:46.477Z"
   },
   {
    "duration": 22,
    "start_time": "2023-02-09T10:19:46.710Z"
   },
   {
    "duration": 19,
    "start_time": "2023-02-09T10:19:46.736Z"
   },
   {
    "duration": 19,
    "start_time": "2023-02-09T10:19:46.757Z"
   },
   {
    "duration": 20,
    "start_time": "2023-02-09T10:19:46.778Z"
   },
   {
    "duration": 30,
    "start_time": "2023-02-09T10:19:46.826Z"
   },
   {
    "duration": 16,
    "start_time": "2023-02-09T10:19:46.858Z"
   },
   {
    "duration": 21,
    "start_time": "2023-02-09T10:19:46.876Z"
   },
   {
    "duration": 76,
    "start_time": "2023-02-09T10:19:46.898Z"
   },
   {
    "duration": 70,
    "start_time": "2023-02-09T10:19:46.975Z"
   },
   {
    "duration": 5,
    "start_time": "2023-02-09T10:19:47.046Z"
   },
   {
    "duration": 28,
    "start_time": "2023-02-09T10:19:47.052Z"
   },
   {
    "duration": 257,
    "start_time": "2023-02-09T10:19:47.082Z"
   },
   {
    "duration": 199,
    "start_time": "2023-02-09T10:19:47.341Z"
   },
   {
    "duration": 213,
    "start_time": "2023-02-09T10:19:47.541Z"
   },
   {
    "duration": 205,
    "start_time": "2023-02-09T10:19:47.755Z"
   },
   {
    "duration": 18,
    "start_time": "2023-02-09T10:19:47.962Z"
   },
   {
    "duration": 5,
    "start_time": "2023-02-09T10:19:47.982Z"
   },
   {
    "duration": 7,
    "start_time": "2023-02-09T10:19:47.989Z"
   },
   {
    "duration": 4,
    "start_time": "2023-02-09T10:19:47.997Z"
   },
   {
    "duration": 11,
    "start_time": "2023-02-09T10:19:48.028Z"
   },
   {
    "duration": 17,
    "start_time": "2023-02-09T10:19:48.040Z"
   },
   {
    "duration": 15,
    "start_time": "2023-02-09T10:19:48.059Z"
   },
   {
    "duration": 148,
    "start_time": "2023-02-09T10:23:52.946Z"
   },
   {
    "duration": 1401,
    "start_time": "2023-02-09T10:36:53.390Z"
   },
   {
    "duration": 1015,
    "start_time": "2023-02-09T10:36:54.794Z"
   },
   {
    "duration": 109,
    "start_time": "2023-02-09T10:36:55.811Z"
   },
   {
    "duration": 92,
    "start_time": "2023-02-09T10:36:55.927Z"
   },
   {
    "duration": 441,
    "start_time": "2023-02-09T10:36:56.021Z"
   },
   {
    "duration": 103,
    "start_time": "2023-02-09T10:36:56.463Z"
   },
   {
    "duration": 12,
    "start_time": "2023-02-09T10:36:56.568Z"
   },
   {
    "duration": 216,
    "start_time": "2023-02-09T10:36:56.581Z"
   },
   {
    "duration": 17,
    "start_time": "2023-02-09T10:36:56.798Z"
   },
   {
    "duration": 24,
    "start_time": "2023-02-09T10:36:56.816Z"
   },
   {
    "duration": 17,
    "start_time": "2023-02-09T10:36:56.842Z"
   },
   {
    "duration": 21,
    "start_time": "2023-02-09T10:36:56.860Z"
   },
   {
    "duration": 47,
    "start_time": "2023-02-09T10:36:56.882Z"
   },
   {
    "duration": 18,
    "start_time": "2023-02-09T10:36:56.932Z"
   },
   {
    "duration": 24,
    "start_time": "2023-02-09T10:36:56.951Z"
   },
   {
    "duration": 69,
    "start_time": "2023-02-09T10:36:56.976Z"
   },
   {
    "duration": 64,
    "start_time": "2023-02-09T10:36:57.047Z"
   },
   {
    "duration": 18,
    "start_time": "2023-02-09T10:36:57.112Z"
   },
   {
    "duration": 26,
    "start_time": "2023-02-09T10:36:57.131Z"
   },
   {
    "duration": 241,
    "start_time": "2023-02-09T10:36:57.159Z"
   },
   {
    "duration": 209,
    "start_time": "2023-02-09T10:36:57.401Z"
   },
   {
    "duration": 217,
    "start_time": "2023-02-09T10:36:57.612Z"
   },
   {
    "duration": 270,
    "start_time": "2023-02-09T10:36:57.831Z"
   },
   {
    "duration": 25,
    "start_time": "2023-02-09T10:36:58.102Z"
   },
   {
    "duration": 5,
    "start_time": "2023-02-09T10:36:58.129Z"
   },
   {
    "duration": 9,
    "start_time": "2023-02-09T10:36:58.135Z"
   },
   {
    "duration": 3,
    "start_time": "2023-02-09T10:36:58.146Z"
   },
   {
    "duration": 11,
    "start_time": "2023-02-09T10:36:58.151Z"
   },
   {
    "duration": 7,
    "start_time": "2023-02-09T10:36:58.164Z"
   },
   {
    "duration": 11,
    "start_time": "2023-02-09T10:36:58.172Z"
   },
   {
    "duration": 209502,
    "start_time": "2023-02-09T10:36:58.185Z"
   },
   {
    "duration": 86,
    "start_time": "2023-02-09T10:41:12.644Z"
   },
   {
    "duration": 84,
    "start_time": "2023-02-09T12:27:39.780Z"
   },
   {
    "duration": 1500,
    "start_time": "2023-02-09T12:28:02.830Z"
   },
   {
    "duration": 3005,
    "start_time": "2023-02-09T12:28:04.332Z"
   },
   {
    "duration": 138,
    "start_time": "2023-02-09T12:28:07.338Z"
   },
   {
    "duration": 96,
    "start_time": "2023-02-09T12:28:07.478Z"
   },
   {
    "duration": 427,
    "start_time": "2023-02-09T12:28:07.575Z"
   },
   {
    "duration": 129,
    "start_time": "2023-02-09T12:28:08.003Z"
   },
   {
    "duration": 20,
    "start_time": "2023-02-09T12:28:08.133Z"
   },
   {
    "duration": 226,
    "start_time": "2023-02-09T12:28:08.154Z"
   },
   {
    "duration": 17,
    "start_time": "2023-02-09T12:28:08.382Z"
   },
   {
    "duration": 18,
    "start_time": "2023-02-09T12:28:08.402Z"
   },
   {
    "duration": 33,
    "start_time": "2023-02-09T12:28:08.422Z"
   },
   {
    "duration": 20,
    "start_time": "2023-02-09T12:28:08.456Z"
   },
   {
    "duration": 31,
    "start_time": "2023-02-09T12:28:08.477Z"
   },
   {
    "duration": 16,
    "start_time": "2023-02-09T12:28:08.510Z"
   },
   {
    "duration": 35,
    "start_time": "2023-02-09T12:28:08.527Z"
   },
   {
    "duration": 62,
    "start_time": "2023-02-09T12:28:08.564Z"
   },
   {
    "duration": 79,
    "start_time": "2023-02-09T12:28:08.628Z"
   },
   {
    "duration": 5,
    "start_time": "2023-02-09T12:28:08.709Z"
   },
   {
    "duration": 38,
    "start_time": "2023-02-09T12:28:08.715Z"
   },
   {
    "duration": 219,
    "start_time": "2023-02-09T12:28:08.755Z"
   },
   {
    "duration": 196,
    "start_time": "2023-02-09T12:28:08.976Z"
   },
   {
    "duration": 194,
    "start_time": "2023-02-09T12:28:09.174Z"
   },
   {
    "duration": 249,
    "start_time": "2023-02-09T12:28:09.370Z"
   },
   {
    "duration": 29,
    "start_time": "2023-02-09T12:28:09.621Z"
   },
   {
    "duration": 5,
    "start_time": "2023-02-09T12:28:09.651Z"
   },
   {
    "duration": 5,
    "start_time": "2023-02-09T12:28:09.658Z"
   },
   {
    "duration": 4,
    "start_time": "2023-02-09T12:28:09.665Z"
   },
   {
    "duration": 15,
    "start_time": "2023-02-09T12:28:09.671Z"
   },
   {
    "duration": 7,
    "start_time": "2023-02-09T12:28:09.687Z"
   },
   {
    "duration": 12,
    "start_time": "2023-02-09T12:28:09.696Z"
   },
   {
    "duration": 259,
    "start_time": "2023-02-09T12:28:09.710Z"
   },
   {
    "duration": 15,
    "start_time": "2023-02-09T12:28:20.280Z"
   },
   {
    "duration": 55,
    "start_time": "2023-02-09T12:29:50.107Z"
   },
   {
    "duration": 1551,
    "start_time": "2023-02-09T12:30:35.155Z"
   },
   {
    "duration": 61,
    "start_time": "2023-02-09T12:32:18.068Z"
   },
   {
    "duration": 1213,
    "start_time": "2023-02-09T12:32:36.858Z"
   },
   {
    "duration": 1327,
    "start_time": "2023-02-09T12:34:42.741Z"
   },
   {
    "duration": 4,
    "start_time": "2023-02-09T12:35:42.056Z"
   },
   {
    "duration": 11,
    "start_time": "2023-02-09T12:35:47.604Z"
   },
   {
    "duration": 1125,
    "start_time": "2023-02-09T12:35:51.090Z"
   },
   {
    "duration": 1137,
    "start_time": "2023-02-09T12:36:16.508Z"
   },
   {
    "duration": 1208,
    "start_time": "2023-02-09T12:36:26.182Z"
   },
   {
    "duration": 47,
    "start_time": "2023-02-09T12:49:20.849Z"
   },
   {
    "duration": 1334,
    "start_time": "2023-02-09T12:49:27.281Z"
   },
   {
    "duration": 3033,
    "start_time": "2023-02-09T12:49:28.617Z"
   },
   {
    "duration": 133,
    "start_time": "2023-02-09T12:49:31.652Z"
   },
   {
    "duration": 122,
    "start_time": "2023-02-09T12:49:31.788Z"
   },
   {
    "duration": 482,
    "start_time": "2023-02-09T12:49:31.912Z"
   },
   {
    "duration": 121,
    "start_time": "2023-02-09T12:49:32.395Z"
   },
   {
    "duration": 32,
    "start_time": "2023-02-09T12:49:32.519Z"
   },
   {
    "duration": 232,
    "start_time": "2023-02-09T12:49:32.553Z"
   },
   {
    "duration": 18,
    "start_time": "2023-02-09T12:49:32.786Z"
   },
   {
    "duration": 45,
    "start_time": "2023-02-09T12:49:32.807Z"
   },
   {
    "duration": 34,
    "start_time": "2023-02-09T12:49:32.854Z"
   },
   {
    "duration": 39,
    "start_time": "2023-02-09T12:49:32.890Z"
   },
   {
    "duration": 48,
    "start_time": "2023-02-09T12:49:32.931Z"
   },
   {
    "duration": 30,
    "start_time": "2023-02-09T12:49:32.981Z"
   },
   {
    "duration": 51,
    "start_time": "2023-02-09T12:49:33.014Z"
   },
   {
    "duration": 107,
    "start_time": "2023-02-09T12:49:33.068Z"
   },
   {
    "duration": 125,
    "start_time": "2023-02-09T12:49:33.177Z"
   },
   {
    "duration": 6,
    "start_time": "2023-02-09T12:49:33.305Z"
   },
   {
    "duration": 51,
    "start_time": "2023-02-09T12:49:33.314Z"
   },
   {
    "duration": 240,
    "start_time": "2023-02-09T12:49:33.368Z"
   },
   {
    "duration": 198,
    "start_time": "2023-02-09T12:49:33.610Z"
   },
   {
    "duration": 211,
    "start_time": "2023-02-09T12:49:33.810Z"
   },
   {
    "duration": 288,
    "start_time": "2023-02-09T12:49:34.023Z"
   },
   {
    "duration": 20,
    "start_time": "2023-02-09T12:49:34.313Z"
   },
   {
    "duration": 16,
    "start_time": "2023-02-09T12:49:34.335Z"
   },
   {
    "duration": 11,
    "start_time": "2023-02-09T12:49:34.353Z"
   },
   {
    "duration": 4,
    "start_time": "2023-02-09T12:49:34.366Z"
   },
   {
    "duration": 13,
    "start_time": "2023-02-09T12:49:34.374Z"
   },
   {
    "duration": 10,
    "start_time": "2023-02-09T12:49:34.388Z"
   },
   {
    "duration": 48,
    "start_time": "2023-02-09T12:49:34.400Z"
   },
   {
    "duration": 1473,
    "start_time": "2023-02-09T12:49:34.450Z"
   },
   {
    "duration": 112,
    "start_time": "2023-02-09T13:00:10.476Z"
   },
   {
    "duration": 1330,
    "start_time": "2023-02-09T13:00:20.056Z"
   },
   {
    "duration": 2934,
    "start_time": "2023-02-09T13:00:21.388Z"
   },
   {
    "duration": 129,
    "start_time": "2023-02-09T13:00:24.324Z"
   },
   {
    "duration": 95,
    "start_time": "2023-02-09T13:00:24.455Z"
   },
   {
    "duration": 431,
    "start_time": "2023-02-09T13:00:24.551Z"
   },
   {
    "duration": 125,
    "start_time": "2023-02-09T13:00:24.984Z"
   },
   {
    "duration": 13,
    "start_time": "2023-02-09T13:00:25.110Z"
   },
   {
    "duration": 256,
    "start_time": "2023-02-09T13:00:25.124Z"
   },
   {
    "duration": 18,
    "start_time": "2023-02-09T13:00:25.382Z"
   },
   {
    "duration": 55,
    "start_time": "2023-02-09T13:00:25.403Z"
   },
   {
    "duration": 49,
    "start_time": "2023-02-09T13:00:25.460Z"
   },
   {
    "duration": 29,
    "start_time": "2023-02-09T13:00:25.511Z"
   },
   {
    "duration": 42,
    "start_time": "2023-02-09T13:00:25.543Z"
   },
   {
    "duration": 19,
    "start_time": "2023-02-09T13:00:25.587Z"
   },
   {
    "duration": 30,
    "start_time": "2023-02-09T13:00:25.608Z"
   },
   {
    "duration": 74,
    "start_time": "2023-02-09T13:00:25.640Z"
   },
   {
    "duration": 72,
    "start_time": "2023-02-09T13:00:25.715Z"
   },
   {
    "duration": 4,
    "start_time": "2023-02-09T13:00:25.789Z"
   },
   {
    "duration": 23,
    "start_time": "2023-02-09T13:00:25.794Z"
   },
   {
    "duration": 252,
    "start_time": "2023-02-09T13:00:25.818Z"
   },
   {
    "duration": 192,
    "start_time": "2023-02-09T13:00:26.071Z"
   },
   {
    "duration": 209,
    "start_time": "2023-02-09T13:00:26.265Z"
   },
   {
    "duration": 258,
    "start_time": "2023-02-09T13:00:26.476Z"
   },
   {
    "duration": 22,
    "start_time": "2023-02-09T13:00:26.736Z"
   },
   {
    "duration": 5,
    "start_time": "2023-02-09T13:00:26.760Z"
   },
   {
    "duration": 10,
    "start_time": "2023-02-09T13:00:26.766Z"
   },
   {
    "duration": 4,
    "start_time": "2023-02-09T13:00:26.777Z"
   },
   {
    "duration": 12,
    "start_time": "2023-02-09T13:00:26.784Z"
   },
   {
    "duration": 10,
    "start_time": "2023-02-09T13:00:26.798Z"
   },
   {
    "duration": 14,
    "start_time": "2023-02-09T13:00:26.809Z"
   },
   {
    "duration": 1614,
    "start_time": "2023-02-09T13:00:26.849Z"
   },
   {
    "duration": 1316,
    "start_time": "2023-02-09T13:00:36.555Z"
   },
   {
    "duration": 1349,
    "start_time": "2023-02-09T13:00:43.351Z"
   },
   {
    "duration": 59,
    "start_time": "2023-02-09T13:04:01.783Z"
   },
   {
    "duration": 59,
    "start_time": "2023-02-09T13:04:20.324Z"
   },
   {
    "duration": 35,
    "start_time": "2023-02-09T13:05:11.109Z"
   },
   {
    "duration": 1401,
    "start_time": "2023-02-09T13:08:04.976Z"
   },
   {
    "duration": 746,
    "start_time": "2023-02-09T13:08:06.378Z"
   },
   {
    "duration": 137,
    "start_time": "2023-02-09T13:08:07.125Z"
   },
   {
    "duration": 99,
    "start_time": "2023-02-09T13:08:07.264Z"
   },
   {
    "duration": 436,
    "start_time": "2023-02-09T13:08:07.365Z"
   },
   {
    "duration": 122,
    "start_time": "2023-02-09T13:08:07.803Z"
   },
   {
    "duration": 24,
    "start_time": "2023-02-09T13:08:07.927Z"
   },
   {
    "duration": 228,
    "start_time": "2023-02-09T13:08:07.953Z"
   },
   {
    "duration": 21,
    "start_time": "2023-02-09T13:08:08.183Z"
   },
   {
    "duration": 23,
    "start_time": "2023-02-09T13:08:08.206Z"
   },
   {
    "duration": 33,
    "start_time": "2023-02-09T13:08:08.231Z"
   },
   {
    "duration": 22,
    "start_time": "2023-02-09T13:08:08.265Z"
   },
   {
    "duration": 32,
    "start_time": "2023-02-09T13:08:08.289Z"
   },
   {
    "duration": 30,
    "start_time": "2023-02-09T13:08:08.322Z"
   },
   {
    "duration": 18,
    "start_time": "2023-02-09T13:08:08.354Z"
   },
   {
    "duration": 90,
    "start_time": "2023-02-09T13:08:08.374Z"
   },
   {
    "duration": 72,
    "start_time": "2023-02-09T13:08:08.466Z"
   },
   {
    "duration": 11,
    "start_time": "2023-02-09T13:08:08.539Z"
   },
   {
    "duration": 21,
    "start_time": "2023-02-09T13:08:08.551Z"
   },
   {
    "duration": 219,
    "start_time": "2023-02-09T13:08:08.573Z"
   },
   {
    "duration": 183,
    "start_time": "2023-02-09T13:08:08.794Z"
   },
   {
    "duration": 196,
    "start_time": "2023-02-09T13:08:08.979Z"
   },
   {
    "duration": 267,
    "start_time": "2023-02-09T13:08:09.177Z"
   },
   {
    "duration": 19,
    "start_time": "2023-02-09T13:08:09.446Z"
   },
   {
    "duration": 5,
    "start_time": "2023-02-09T13:08:09.467Z"
   },
   {
    "duration": 11,
    "start_time": "2023-02-09T13:08:09.474Z"
   },
   {
    "duration": 3,
    "start_time": "2023-02-09T13:08:09.486Z"
   },
   {
    "duration": 11,
    "start_time": "2023-02-09T13:08:09.492Z"
   },
   {
    "duration": 13,
    "start_time": "2023-02-09T13:08:09.504Z"
   },
   {
    "duration": 40,
    "start_time": "2023-02-09T13:08:09.518Z"
   },
   {
    "duration": 1352,
    "start_time": "2023-02-09T13:08:09.560Z"
   },
   {
    "duration": 10053,
    "start_time": "2023-02-09T13:08:10.914Z"
   },
   {
    "duration": 2451,
    "start_time": "2023-02-09T13:10:03.101Z"
   },
   {
    "duration": 1284,
    "start_time": "2023-02-09T13:10:37.587Z"
   },
   {
    "duration": 754,
    "start_time": "2023-02-09T13:10:38.873Z"
   },
   {
    "duration": 129,
    "start_time": "2023-02-09T13:10:39.629Z"
   },
   {
    "duration": 133,
    "start_time": "2023-02-09T13:10:39.760Z"
   },
   {
    "duration": 438,
    "start_time": "2023-02-09T13:10:39.895Z"
   },
   {
    "duration": 122,
    "start_time": "2023-02-09T13:10:40.335Z"
   },
   {
    "duration": 13,
    "start_time": "2023-02-09T13:10:40.459Z"
   },
   {
    "duration": 245,
    "start_time": "2023-02-09T13:10:40.474Z"
   },
   {
    "duration": 18,
    "start_time": "2023-02-09T13:10:40.721Z"
   },
   {
    "duration": 19,
    "start_time": "2023-02-09T13:10:40.747Z"
   },
   {
    "duration": 19,
    "start_time": "2023-02-09T13:10:40.768Z"
   },
   {
    "duration": 18,
    "start_time": "2023-02-09T13:10:40.789Z"
   },
   {
    "duration": 55,
    "start_time": "2023-02-09T13:10:40.809Z"
   },
   {
    "duration": 17,
    "start_time": "2023-02-09T13:10:40.866Z"
   },
   {
    "duration": 19,
    "start_time": "2023-02-09T13:10:40.885Z"
   },
   {
    "duration": 68,
    "start_time": "2023-02-09T13:10:40.906Z"
   },
   {
    "duration": 80,
    "start_time": "2023-02-09T13:10:40.976Z"
   },
   {
    "duration": 6,
    "start_time": "2023-02-09T13:10:41.058Z"
   },
   {
    "duration": 28,
    "start_time": "2023-02-09T13:10:41.065Z"
   },
   {
    "duration": 216,
    "start_time": "2023-02-09T13:10:41.095Z"
   },
   {
    "duration": 192,
    "start_time": "2023-02-09T13:10:41.313Z"
   },
   {
    "duration": 190,
    "start_time": "2023-02-09T13:10:41.506Z"
   },
   {
    "duration": 247,
    "start_time": "2023-02-09T13:10:41.698Z"
   },
   {
    "duration": 17,
    "start_time": "2023-02-09T13:10:41.948Z"
   },
   {
    "duration": 5,
    "start_time": "2023-02-09T13:10:41.967Z"
   },
   {
    "duration": 6,
    "start_time": "2023-02-09T13:10:41.974Z"
   },
   {
    "duration": 3,
    "start_time": "2023-02-09T13:10:41.981Z"
   },
   {
    "duration": 9,
    "start_time": "2023-02-09T13:10:41.987Z"
   },
   {
    "duration": 7,
    "start_time": "2023-02-09T13:10:41.998Z"
   },
   {
    "duration": 47,
    "start_time": "2023-02-09T13:10:42.006Z"
   },
   {
    "duration": 1236,
    "start_time": "2023-02-09T13:10:42.054Z"
   },
   {
    "duration": 157,
    "start_time": "2023-02-09T13:10:43.293Z"
   },
   {
    "duration": 56,
    "start_time": "2023-02-09T13:10:43.451Z"
   },
   {
    "duration": 1134,
    "start_time": "2023-02-09T13:23:27.166Z"
   },
   {
    "duration": 1067,
    "start_time": "2023-02-09T13:24:09.557Z"
   },
   {
    "duration": 108,
    "start_time": "2023-02-09T13:24:57.843Z"
   },
   {
    "duration": 1047,
    "start_time": "2023-02-09T13:25:23.620Z"
   },
   {
    "duration": 1383,
    "start_time": "2023-02-09T13:25:40.956Z"
   },
   {
    "duration": 1147,
    "start_time": "2023-02-09T13:26:04.411Z"
   },
   {
    "duration": 1009,
    "start_time": "2023-02-09T13:26:26.236Z"
   },
   {
    "duration": 1681,
    "start_time": "2023-02-09T13:26:44.359Z"
   },
   {
    "duration": 1693,
    "start_time": "2023-02-09T13:30:03.286Z"
   },
   {
    "duration": 1256,
    "start_time": "2023-02-09T13:30:34.758Z"
   },
   {
    "duration": 1447,
    "start_time": "2023-02-09T13:38:16.521Z"
   },
   {
    "duration": 758,
    "start_time": "2023-02-09T13:38:17.969Z"
   },
   {
    "duration": 132,
    "start_time": "2023-02-09T13:38:18.729Z"
   },
   {
    "duration": 93,
    "start_time": "2023-02-09T13:38:18.863Z"
   },
   {
    "duration": 441,
    "start_time": "2023-02-09T13:38:18.958Z"
   },
   {
    "duration": 125,
    "start_time": "2023-02-09T13:38:19.401Z"
   },
   {
    "duration": 20,
    "start_time": "2023-02-09T13:38:19.528Z"
   },
   {
    "duration": 235,
    "start_time": "2023-02-09T13:38:19.550Z"
   },
   {
    "duration": 17,
    "start_time": "2023-02-09T13:38:19.786Z"
   },
   {
    "duration": 28,
    "start_time": "2023-02-09T13:38:19.806Z"
   },
   {
    "duration": 23,
    "start_time": "2023-02-09T13:38:19.836Z"
   },
   {
    "duration": 31,
    "start_time": "2023-02-09T13:38:19.860Z"
   },
   {
    "duration": 48,
    "start_time": "2023-02-09T13:38:19.892Z"
   },
   {
    "duration": 38,
    "start_time": "2023-02-09T13:38:19.941Z"
   },
   {
    "duration": 23,
    "start_time": "2023-02-09T13:38:19.981Z"
   },
   {
    "duration": 62,
    "start_time": "2023-02-09T13:38:20.006Z"
   },
   {
    "duration": 72,
    "start_time": "2023-02-09T13:38:20.070Z"
   },
   {
    "duration": 5,
    "start_time": "2023-02-09T13:38:20.148Z"
   },
   {
    "duration": 22,
    "start_time": "2023-02-09T13:38:20.154Z"
   },
   {
    "duration": 223,
    "start_time": "2023-02-09T13:38:20.177Z"
   },
   {
    "duration": 184,
    "start_time": "2023-02-09T13:38:20.401Z"
   },
   {
    "duration": 199,
    "start_time": "2023-02-09T13:38:20.586Z"
   },
   {
    "duration": 247,
    "start_time": "2023-02-09T13:38:20.786Z"
   },
   {
    "duration": 27,
    "start_time": "2023-02-09T13:38:21.034Z"
   },
   {
    "duration": 6,
    "start_time": "2023-02-09T13:38:21.062Z"
   },
   {
    "duration": 12,
    "start_time": "2023-02-09T13:38:21.069Z"
   },
   {
    "duration": 3,
    "start_time": "2023-02-09T13:38:21.082Z"
   },
   {
    "duration": 11,
    "start_time": "2023-02-09T13:38:21.088Z"
   },
   {
    "duration": 7,
    "start_time": "2023-02-09T13:38:21.100Z"
   },
   {
    "duration": 41,
    "start_time": "2023-02-09T13:38:21.108Z"
   },
   {
    "duration": 1222,
    "start_time": "2023-02-09T13:38:21.151Z"
   },
   {
    "duration": 82,
    "start_time": "2023-02-09T13:38:22.375Z"
   },
   {
    "duration": 1173,
    "start_time": "2023-02-09T13:38:22.459Z"
   },
   {
    "duration": 1457,
    "start_time": "2023-02-10T19:42:28.646Z"
   },
   {
    "duration": 3033,
    "start_time": "2023-02-10T19:42:30.105Z"
   },
   {
    "duration": 144,
    "start_time": "2023-02-10T19:42:33.139Z"
   },
   {
    "duration": 116,
    "start_time": "2023-02-10T19:42:33.285Z"
   },
   {
    "duration": 524,
    "start_time": "2023-02-10T19:42:33.403Z"
   },
   {
    "duration": 139,
    "start_time": "2023-02-10T19:42:33.929Z"
   },
   {
    "duration": 13,
    "start_time": "2023-02-10T19:42:34.070Z"
   },
   {
    "duration": 259,
    "start_time": "2023-02-10T19:42:34.084Z"
   },
   {
    "duration": 23,
    "start_time": "2023-02-10T19:42:34.345Z"
   },
   {
    "duration": 22,
    "start_time": "2023-02-10T19:42:34.371Z"
   },
   {
    "duration": 20,
    "start_time": "2023-02-10T19:42:34.394Z"
   },
   {
    "duration": 22,
    "start_time": "2023-02-10T19:42:34.416Z"
   },
   {
    "duration": 56,
    "start_time": "2023-02-10T19:42:34.440Z"
   },
   {
    "duration": 19,
    "start_time": "2023-02-10T19:42:34.498Z"
   },
   {
    "duration": 23,
    "start_time": "2023-02-10T19:42:34.518Z"
   },
   {
    "duration": 80,
    "start_time": "2023-02-10T19:42:34.542Z"
   },
   {
    "duration": 75,
    "start_time": "2023-02-10T19:42:34.623Z"
   },
   {
    "duration": 4,
    "start_time": "2023-02-10T19:42:34.699Z"
   },
   {
    "duration": 23,
    "start_time": "2023-02-10T19:42:34.705Z"
   },
   {
    "duration": 314,
    "start_time": "2023-02-10T19:42:34.730Z"
   },
   {
    "duration": 195,
    "start_time": "2023-02-10T19:42:35.047Z"
   },
   {
    "duration": 199,
    "start_time": "2023-02-10T19:42:35.243Z"
   },
   {
    "duration": 253,
    "start_time": "2023-02-10T19:42:35.443Z"
   },
   {
    "duration": 17,
    "start_time": "2023-02-10T19:42:35.698Z"
   },
   {
    "duration": 6,
    "start_time": "2023-02-10T19:42:35.717Z"
   },
   {
    "duration": 19,
    "start_time": "2023-02-10T19:42:35.725Z"
   },
   {
    "duration": 5,
    "start_time": "2023-02-10T19:42:35.767Z"
   },
   {
    "duration": 112,
    "start_time": "2023-02-10T19:42:35.774Z"
   },
   {
    "duration": 0,
    "start_time": "2023-02-10T19:42:35.888Z"
   },
   {
    "duration": 0,
    "start_time": "2023-02-10T19:42:35.889Z"
   },
   {
    "duration": 0,
    "start_time": "2023-02-10T19:42:35.890Z"
   },
   {
    "duration": 0,
    "start_time": "2023-02-10T19:42:35.891Z"
   },
   {
    "duration": 0,
    "start_time": "2023-02-10T19:42:35.892Z"
   },
   {
    "duration": 333,
    "start_time": "2023-02-10T19:43:20.893Z"
   },
   {
    "duration": 37,
    "start_time": "2023-02-10T19:43:25.650Z"
   },
   {
    "duration": 63,
    "start_time": "2023-02-10T19:43:28.885Z"
   },
   {
    "duration": 60,
    "start_time": "2023-02-10T19:44:52.791Z"
   },
   {
    "duration": 15874,
    "start_time": "2023-02-10T19:44:57.662Z"
   },
   {
    "duration": 14300,
    "start_time": "2023-02-10T19:46:13.058Z"
   },
   {
    "duration": 66,
    "start_time": "2023-02-10T19:47:04.633Z"
   },
   {
    "duration": 55,
    "start_time": "2023-02-10T19:47:07.910Z"
   },
   {
    "duration": 4,
    "start_time": "2023-02-10T19:47:11.596Z"
   },
   {
    "duration": 91,
    "start_time": "2023-02-10T19:48:24.919Z"
   },
   {
    "duration": 344,
    "start_time": "2023-02-10T19:48:33.882Z"
   },
   {
    "duration": 45,
    "start_time": "2023-02-10T19:48:36.537Z"
   },
   {
    "duration": 3,
    "start_time": "2023-02-10T19:48:40.924Z"
   },
   {
    "duration": 77,
    "start_time": "2023-02-10T19:48:45.819Z"
   },
   {
    "duration": 321,
    "start_time": "2023-02-10T19:50:19.078Z"
   },
   {
    "duration": 38,
    "start_time": "2023-02-10T19:50:20.166Z"
   },
   {
    "duration": 63,
    "start_time": "2023-02-10T19:50:22.965Z"
   },
   {
    "duration": 24,
    "start_time": "2023-02-10T19:51:29.794Z"
   },
   {
    "duration": 64,
    "start_time": "2023-02-10T19:51:51.395Z"
   },
   {
    "duration": 1321,
    "start_time": "2023-02-10T19:52:15.235Z"
   },
   {
    "duration": 788,
    "start_time": "2023-02-10T19:52:16.558Z"
   },
   {
    "duration": 124,
    "start_time": "2023-02-10T19:52:17.348Z"
   },
   {
    "duration": 135,
    "start_time": "2023-02-10T19:52:17.474Z"
   },
   {
    "duration": 443,
    "start_time": "2023-02-10T19:52:17.611Z"
   },
   {
    "duration": 133,
    "start_time": "2023-02-10T19:52:18.056Z"
   },
   {
    "duration": 13,
    "start_time": "2023-02-10T19:52:18.191Z"
   },
   {
    "duration": 265,
    "start_time": "2023-02-10T19:52:18.206Z"
   },
   {
    "duration": 20,
    "start_time": "2023-02-10T19:52:18.473Z"
   },
   {
    "duration": 20,
    "start_time": "2023-02-10T19:52:18.496Z"
   },
   {
    "duration": 20,
    "start_time": "2023-02-10T19:52:18.517Z"
   },
   {
    "duration": 45,
    "start_time": "2023-02-10T19:52:18.539Z"
   },
   {
    "duration": 38,
    "start_time": "2023-02-10T19:52:18.585Z"
   },
   {
    "duration": 17,
    "start_time": "2023-02-10T19:52:18.625Z"
   },
   {
    "duration": 34,
    "start_time": "2023-02-10T19:52:18.644Z"
   },
   {
    "duration": 63,
    "start_time": "2023-02-10T19:52:18.679Z"
   },
   {
    "duration": 89,
    "start_time": "2023-02-10T19:52:18.743Z"
   },
   {
    "duration": 6,
    "start_time": "2023-02-10T19:52:18.834Z"
   },
   {
    "duration": 51,
    "start_time": "2023-02-10T19:52:18.842Z"
   },
   {
    "duration": 233,
    "start_time": "2023-02-10T19:52:18.895Z"
   },
   {
    "duration": 205,
    "start_time": "2023-02-10T19:52:19.131Z"
   },
   {
    "duration": 206,
    "start_time": "2023-02-10T19:52:19.338Z"
   },
   {
    "duration": 268,
    "start_time": "2023-02-10T19:52:19.545Z"
   },
   {
    "duration": 20,
    "start_time": "2023-02-10T19:52:19.814Z"
   },
   {
    "duration": 6,
    "start_time": "2023-02-10T19:52:19.835Z"
   },
   {
    "duration": 35,
    "start_time": "2023-02-10T19:52:19.842Z"
   },
   {
    "duration": 4,
    "start_time": "2023-02-10T19:52:19.879Z"
   },
   {
    "duration": 363,
    "start_time": "2023-02-10T19:52:19.886Z"
   },
   {
    "duration": 30,
    "start_time": "2023-02-10T19:52:20.251Z"
   },
   {
    "duration": 153,
    "start_time": "2023-02-10T19:52:20.282Z"
   },
   {
    "duration": 42,
    "start_time": "2023-02-10T19:52:20.437Z"
   },
   {
    "duration": 43,
    "start_time": "2023-02-10T19:52:20.480Z"
   },
   {
    "duration": 53,
    "start_time": "2023-02-10T19:52:20.524Z"
   },
   {
    "duration": 261,
    "start_time": "2023-02-10T19:54:01.093Z"
   },
   {
    "duration": 33,
    "start_time": "2023-02-10T19:54:12.597Z"
   },
   {
    "duration": 172,
    "start_time": "2023-02-10T19:54:14.941Z"
   },
   {
    "duration": 94,
    "start_time": "2023-02-10T19:55:09.552Z"
   },
   {
    "duration": 127,
    "start_time": "2023-02-10T19:55:21.344Z"
   },
   {
    "duration": 176,
    "start_time": "2023-02-10T19:56:14.587Z"
   },
   {
    "duration": 97,
    "start_time": "2023-02-10T19:56:16.004Z"
   },
   {
    "duration": 108,
    "start_time": "2023-02-10T19:56:18.117Z"
   },
   {
    "duration": 120,
    "start_time": "2023-02-10T19:56:29.797Z"
   },
   {
    "duration": 108,
    "start_time": "2023-02-10T19:56:31.019Z"
   },
   {
    "duration": 91,
    "start_time": "2023-02-10T19:56:35.234Z"
   },
   {
    "duration": 70,
    "start_time": "2023-02-10T19:56:45.345Z"
   },
   {
    "duration": 111,
    "start_time": "2023-02-10T19:56:46.528Z"
   },
   {
    "duration": 93,
    "start_time": "2023-02-10T19:56:48.243Z"
   },
   {
    "duration": 67,
    "start_time": "2023-02-10T19:56:57.119Z"
   },
   {
    "duration": 99,
    "start_time": "2023-02-10T19:56:58.501Z"
   },
   {
    "duration": 92,
    "start_time": "2023-02-10T19:57:00.994Z"
   },
   {
    "duration": 254,
    "start_time": "2023-02-10T19:57:41.288Z"
   },
   {
    "duration": 84,
    "start_time": "2023-02-10T19:57:42.888Z"
   },
   {
    "duration": 139,
    "start_time": "2023-02-10T19:57:44.660Z"
   },
   {
    "duration": 1296,
    "start_time": "2023-02-10T20:01:03.009Z"
   },
   {
    "duration": 847,
    "start_time": "2023-02-10T20:01:04.307Z"
   },
   {
    "duration": 141,
    "start_time": "2023-02-10T20:01:05.156Z"
   },
   {
    "duration": 111,
    "start_time": "2023-02-10T20:01:05.299Z"
   },
   {
    "duration": 467,
    "start_time": "2023-02-10T20:01:05.412Z"
   },
   {
    "duration": 136,
    "start_time": "2023-02-10T20:01:05.880Z"
   },
   {
    "duration": 12,
    "start_time": "2023-02-10T20:01:06.017Z"
   },
   {
    "duration": 224,
    "start_time": "2023-02-10T20:01:06.030Z"
   },
   {
    "duration": 17,
    "start_time": "2023-02-10T20:01:06.256Z"
   },
   {
    "duration": 22,
    "start_time": "2023-02-10T20:01:06.275Z"
   },
   {
    "duration": 19,
    "start_time": "2023-02-10T20:01:06.299Z"
   },
   {
    "duration": 25,
    "start_time": "2023-02-10T20:01:06.319Z"
   },
   {
    "duration": 38,
    "start_time": "2023-02-10T20:01:06.346Z"
   },
   {
    "duration": 16,
    "start_time": "2023-02-10T20:01:06.385Z"
   },
   {
    "duration": 24,
    "start_time": "2023-02-10T20:01:06.402Z"
   },
   {
    "duration": 99,
    "start_time": "2023-02-10T20:01:06.427Z"
   },
   {
    "duration": 78,
    "start_time": "2023-02-10T20:01:06.527Z"
   },
   {
    "duration": 6,
    "start_time": "2023-02-10T20:01:06.607Z"
   },
   {
    "duration": 22,
    "start_time": "2023-02-10T20:01:06.614Z"
   },
   {
    "duration": 251,
    "start_time": "2023-02-10T20:01:06.637Z"
   },
   {
    "duration": 192,
    "start_time": "2023-02-10T20:01:06.890Z"
   },
   {
    "duration": 198,
    "start_time": "2023-02-10T20:01:07.084Z"
   },
   {
    "duration": 245,
    "start_time": "2023-02-10T20:01:07.284Z"
   },
   {
    "duration": 16,
    "start_time": "2023-02-10T20:01:07.531Z"
   },
   {
    "duration": 4,
    "start_time": "2023-02-10T20:01:07.549Z"
   },
   {
    "duration": 14,
    "start_time": "2023-02-10T20:01:07.567Z"
   },
   {
    "duration": 5,
    "start_time": "2023-02-10T20:01:07.582Z"
   },
   {
    "duration": 274,
    "start_time": "2023-02-10T20:01:07.589Z"
   },
   {
    "duration": 106,
    "start_time": "2023-02-10T20:01:07.867Z"
   },
   {
    "duration": 243,
    "start_time": "2023-02-10T20:01:07.974Z"
   },
   {
    "duration": 49,
    "start_time": "2023-02-10T20:01:08.219Z"
   },
   {
    "duration": 49,
    "start_time": "2023-02-10T20:01:08.270Z"
   },
   {
    "duration": 72,
    "start_time": "2023-02-10T20:01:08.321Z"
   },
   {
    "duration": 1347,
    "start_time": "2023-02-10T20:02:13.669Z"
   },
   {
    "duration": 766,
    "start_time": "2023-02-10T20:02:15.019Z"
   },
   {
    "duration": 132,
    "start_time": "2023-02-10T20:02:15.787Z"
   },
   {
    "duration": 103,
    "start_time": "2023-02-10T20:02:15.921Z"
   },
   {
    "duration": 422,
    "start_time": "2023-02-10T20:02:16.025Z"
   },
   {
    "duration": 125,
    "start_time": "2023-02-10T20:02:16.448Z"
   },
   {
    "duration": 12,
    "start_time": "2023-02-10T20:02:16.574Z"
   },
   {
    "duration": 259,
    "start_time": "2023-02-10T20:02:16.587Z"
   },
   {
    "duration": 24,
    "start_time": "2023-02-10T20:02:16.848Z"
   },
   {
    "duration": 19,
    "start_time": "2023-02-10T20:02:16.874Z"
   },
   {
    "duration": 18,
    "start_time": "2023-02-10T20:02:16.895Z"
   },
   {
    "duration": 18,
    "start_time": "2023-02-10T20:02:16.915Z"
   },
   {
    "duration": 53,
    "start_time": "2023-02-10T20:02:16.934Z"
   },
   {
    "duration": 17,
    "start_time": "2023-02-10T20:02:16.988Z"
   },
   {
    "duration": 29,
    "start_time": "2023-02-10T20:02:17.006Z"
   },
   {
    "duration": 98,
    "start_time": "2023-02-10T20:02:17.037Z"
   },
   {
    "duration": 64,
    "start_time": "2023-02-10T20:02:17.137Z"
   },
   {
    "duration": 6,
    "start_time": "2023-02-10T20:02:17.202Z"
   },
   {
    "duration": 23,
    "start_time": "2023-02-10T20:02:17.209Z"
   },
   {
    "duration": 229,
    "start_time": "2023-02-10T20:02:17.233Z"
   },
   {
    "duration": 180,
    "start_time": "2023-02-10T20:02:17.463Z"
   },
   {
    "duration": 209,
    "start_time": "2023-02-10T20:02:17.645Z"
   },
   {
    "duration": 250,
    "start_time": "2023-02-10T20:02:17.856Z"
   },
   {
    "duration": 18,
    "start_time": "2023-02-10T20:02:18.107Z"
   },
   {
    "duration": 5,
    "start_time": "2023-02-10T20:02:18.127Z"
   },
   {
    "duration": 36,
    "start_time": "2023-02-10T20:02:18.133Z"
   },
   {
    "duration": 4,
    "start_time": "2023-02-10T20:02:18.171Z"
   },
   {
    "duration": 254,
    "start_time": "2023-02-10T20:02:18.178Z"
   },
   {
    "duration": 110,
    "start_time": "2023-02-10T20:02:18.434Z"
   },
   {
    "duration": 215,
    "start_time": "2023-02-10T20:02:18.545Z"
   },
   {
    "duration": 53,
    "start_time": "2023-02-10T20:02:18.762Z"
   },
   {
    "duration": 48,
    "start_time": "2023-02-10T20:02:18.817Z"
   },
   {
    "duration": 49,
    "start_time": "2023-02-10T20:02:18.867Z"
   },
   {
    "duration": 1269,
    "start_time": "2023-02-10T20:03:48.725Z"
   },
   {
    "duration": 812,
    "start_time": "2023-02-10T20:03:49.998Z"
   },
   {
    "duration": 140,
    "start_time": "2023-02-10T20:03:50.812Z"
   },
   {
    "duration": 97,
    "start_time": "2023-02-10T20:03:50.954Z"
   },
   {
    "duration": 468,
    "start_time": "2023-02-10T20:03:51.052Z"
   },
   {
    "duration": 123,
    "start_time": "2023-02-10T20:03:51.522Z"
   },
   {
    "duration": 22,
    "start_time": "2023-02-10T20:03:51.647Z"
   },
   {
    "duration": 250,
    "start_time": "2023-02-10T20:03:51.670Z"
   },
   {
    "duration": 20,
    "start_time": "2023-02-10T20:03:51.923Z"
   },
   {
    "duration": 32,
    "start_time": "2023-02-10T20:03:51.944Z"
   },
   {
    "duration": 21,
    "start_time": "2023-02-10T20:03:51.978Z"
   },
   {
    "duration": 20,
    "start_time": "2023-02-10T20:03:52.001Z"
   },
   {
    "duration": 48,
    "start_time": "2023-02-10T20:03:52.023Z"
   },
   {
    "duration": 17,
    "start_time": "2023-02-10T20:03:52.073Z"
   },
   {
    "duration": 22,
    "start_time": "2023-02-10T20:03:52.092Z"
   },
   {
    "duration": 92,
    "start_time": "2023-02-10T20:03:52.116Z"
   },
   {
    "duration": 65,
    "start_time": "2023-02-10T20:03:52.209Z"
   },
   {
    "duration": 4,
    "start_time": "2023-02-10T20:03:52.276Z"
   },
   {
    "duration": 49,
    "start_time": "2023-02-10T20:03:52.281Z"
   },
   {
    "duration": 215,
    "start_time": "2023-02-10T20:03:52.332Z"
   },
   {
    "duration": 196,
    "start_time": "2023-02-10T20:03:52.548Z"
   },
   {
    "duration": 206,
    "start_time": "2023-02-10T20:03:52.745Z"
   },
   {
    "duration": 272,
    "start_time": "2023-02-10T20:03:52.952Z"
   },
   {
    "duration": 21,
    "start_time": "2023-02-10T20:03:53.226Z"
   },
   {
    "duration": 19,
    "start_time": "2023-02-10T20:03:53.248Z"
   },
   {
    "duration": 17,
    "start_time": "2023-02-10T20:03:53.269Z"
   },
   {
    "duration": 4,
    "start_time": "2023-02-10T20:03:53.290Z"
   },
   {
    "duration": 285,
    "start_time": "2023-02-10T20:03:53.296Z"
   },
   {
    "duration": 116,
    "start_time": "2023-02-10T20:03:53.582Z"
   },
   {
    "duration": 243,
    "start_time": "2023-02-10T20:03:53.700Z"
   },
   {
    "duration": 50,
    "start_time": "2023-02-10T20:03:53.945Z"
   },
   {
    "duration": 53,
    "start_time": "2023-02-10T20:03:53.997Z"
   },
   {
    "duration": 62,
    "start_time": "2023-02-10T20:03:54.051Z"
   },
   {
    "duration": 67,
    "start_time": "2023-02-10T20:04:22.280Z"
   },
   {
    "duration": 117,
    "start_time": "2023-02-10T20:04:24.236Z"
   },
   {
    "duration": 122,
    "start_time": "2023-02-10T20:04:36.544Z"
   },
   {
    "duration": 1268,
    "start_time": "2023-02-10T20:06:18.609Z"
   },
   {
    "duration": 790,
    "start_time": "2023-02-10T20:06:19.879Z"
   },
   {
    "duration": 133,
    "start_time": "2023-02-10T20:06:20.670Z"
   },
   {
    "duration": 101,
    "start_time": "2023-02-10T20:06:20.805Z"
   },
   {
    "duration": 446,
    "start_time": "2023-02-10T20:06:20.908Z"
   },
   {
    "duration": 129,
    "start_time": "2023-02-10T20:06:21.356Z"
   },
   {
    "duration": 12,
    "start_time": "2023-02-10T20:06:21.487Z"
   },
   {
    "duration": 246,
    "start_time": "2023-02-10T20:06:21.500Z"
   },
   {
    "duration": 20,
    "start_time": "2023-02-10T20:06:21.748Z"
   },
   {
    "duration": 18,
    "start_time": "2023-02-10T20:06:21.770Z"
   },
   {
    "duration": 17,
    "start_time": "2023-02-10T20:06:21.789Z"
   },
   {
    "duration": 19,
    "start_time": "2023-02-10T20:06:21.808Z"
   },
   {
    "duration": 48,
    "start_time": "2023-02-10T20:06:21.828Z"
   },
   {
    "duration": 19,
    "start_time": "2023-02-10T20:06:21.877Z"
   },
   {
    "duration": 20,
    "start_time": "2023-02-10T20:06:21.897Z"
   },
   {
    "duration": 87,
    "start_time": "2023-02-10T20:06:21.918Z"
   },
   {
    "duration": 66,
    "start_time": "2023-02-10T20:06:22.006Z"
   },
   {
    "duration": 5,
    "start_time": "2023-02-10T20:06:22.074Z"
   },
   {
    "duration": 26,
    "start_time": "2023-02-10T20:06:22.080Z"
   },
   {
    "duration": 231,
    "start_time": "2023-02-10T20:06:22.107Z"
   },
   {
    "duration": 191,
    "start_time": "2023-02-10T20:06:22.339Z"
   },
   {
    "duration": 191,
    "start_time": "2023-02-10T20:06:22.532Z"
   },
   {
    "duration": 245,
    "start_time": "2023-02-10T20:06:22.724Z"
   },
   {
    "duration": 18,
    "start_time": "2023-02-10T20:06:22.970Z"
   },
   {
    "duration": 4,
    "start_time": "2023-02-10T20:06:22.990Z"
   },
   {
    "duration": 17,
    "start_time": "2023-02-10T20:06:22.995Z"
   },
   {
    "duration": 4,
    "start_time": "2023-02-10T20:06:23.013Z"
   },
   {
    "duration": 292,
    "start_time": "2023-02-10T20:06:23.020Z"
   },
   {
    "duration": 70,
    "start_time": "2023-02-10T20:06:23.313Z"
   },
   {
    "duration": 33,
    "start_time": "2023-02-10T20:06:23.385Z"
   },
   {
    "duration": 211,
    "start_time": "2023-02-10T20:06:23.420Z"
   },
   {
    "duration": 53,
    "start_time": "2023-02-10T20:06:23.632Z"
   },
   {
    "duration": 47,
    "start_time": "2023-02-10T20:06:23.687Z"
   },
   {
    "duration": 1360,
    "start_time": "2023-02-10T20:11:09.741Z"
   },
   {
    "duration": 797,
    "start_time": "2023-02-10T20:11:11.103Z"
   },
   {
    "duration": 143,
    "start_time": "2023-02-10T20:11:11.902Z"
   },
   {
    "duration": 104,
    "start_time": "2023-02-10T20:11:12.048Z"
   },
   {
    "duration": 466,
    "start_time": "2023-02-10T20:11:12.153Z"
   },
   {
    "duration": 128,
    "start_time": "2023-02-10T20:11:12.621Z"
   },
   {
    "duration": 21,
    "start_time": "2023-02-10T20:11:12.750Z"
   },
   {
    "duration": 255,
    "start_time": "2023-02-10T20:11:12.772Z"
   },
   {
    "duration": 18,
    "start_time": "2023-02-10T20:11:13.029Z"
   },
   {
    "duration": 30,
    "start_time": "2023-02-10T20:11:13.050Z"
   },
   {
    "duration": 19,
    "start_time": "2023-02-10T20:11:13.082Z"
   },
   {
    "duration": 23,
    "start_time": "2023-02-10T20:11:13.103Z"
   },
   {
    "duration": 52,
    "start_time": "2023-02-10T20:11:13.128Z"
   },
   {
    "duration": 18,
    "start_time": "2023-02-10T20:11:13.182Z"
   },
   {
    "duration": 24,
    "start_time": "2023-02-10T20:11:13.201Z"
   },
   {
    "duration": 66,
    "start_time": "2023-02-10T20:11:13.227Z"
   },
   {
    "duration": 78,
    "start_time": "2023-02-10T20:11:13.295Z"
   },
   {
    "duration": 5,
    "start_time": "2023-02-10T20:11:13.375Z"
   },
   {
    "duration": 34,
    "start_time": "2023-02-10T20:11:13.382Z"
   },
   {
    "duration": 264,
    "start_time": "2023-02-10T20:11:13.418Z"
   },
   {
    "duration": 209,
    "start_time": "2023-02-10T20:11:13.684Z"
   },
   {
    "duration": 209,
    "start_time": "2023-02-10T20:11:13.895Z"
   },
   {
    "duration": 270,
    "start_time": "2023-02-10T20:11:14.106Z"
   },
   {
    "duration": 18,
    "start_time": "2023-02-10T20:11:14.379Z"
   },
   {
    "duration": 7,
    "start_time": "2023-02-10T20:11:14.399Z"
   },
   {
    "duration": 22,
    "start_time": "2023-02-10T20:11:14.407Z"
   },
   {
    "duration": 5,
    "start_time": "2023-02-10T20:11:14.430Z"
   },
   {
    "duration": 255,
    "start_time": "2023-02-10T20:11:14.438Z"
   },
   {
    "duration": 0,
    "start_time": "2023-02-10T20:11:14.694Z"
   },
   {
    "duration": 0,
    "start_time": "2023-02-10T20:11:14.695Z"
   },
   {
    "duration": 0,
    "start_time": "2023-02-10T20:11:14.696Z"
   },
   {
    "duration": 0,
    "start_time": "2023-02-10T20:11:14.697Z"
   },
   {
    "duration": 0,
    "start_time": "2023-02-10T20:11:14.698Z"
   },
   {
    "duration": 1304,
    "start_time": "2023-02-10T20:13:23.472Z"
   },
   {
    "duration": 807,
    "start_time": "2023-02-10T20:13:24.778Z"
   },
   {
    "duration": 138,
    "start_time": "2023-02-10T20:13:25.587Z"
   },
   {
    "duration": 89,
    "start_time": "2023-02-10T20:13:25.727Z"
   },
   {
    "duration": 422,
    "start_time": "2023-02-10T20:13:25.818Z"
   },
   {
    "duration": 127,
    "start_time": "2023-02-10T20:13:26.242Z"
   },
   {
    "duration": 12,
    "start_time": "2023-02-10T20:13:26.370Z"
   },
   {
    "duration": 239,
    "start_time": "2023-02-10T20:13:26.384Z"
   },
   {
    "duration": 16,
    "start_time": "2023-02-10T20:13:26.625Z"
   },
   {
    "duration": 29,
    "start_time": "2023-02-10T20:13:26.643Z"
   },
   {
    "duration": 17,
    "start_time": "2023-02-10T20:13:26.673Z"
   },
   {
    "duration": 19,
    "start_time": "2023-02-10T20:13:26.692Z"
   },
   {
    "duration": 34,
    "start_time": "2023-02-10T20:13:26.712Z"
   },
   {
    "duration": 32,
    "start_time": "2023-02-10T20:13:26.748Z"
   },
   {
    "duration": 22,
    "start_time": "2023-02-10T20:13:26.781Z"
   },
   {
    "duration": 46,
    "start_time": "2023-02-10T20:13:26.805Z"
   },
   {
    "duration": 83,
    "start_time": "2023-02-10T20:13:26.853Z"
   },
   {
    "duration": 5,
    "start_time": "2023-02-10T20:13:26.938Z"
   },
   {
    "duration": 40,
    "start_time": "2023-02-10T20:13:26.944Z"
   },
   {
    "duration": 210,
    "start_time": "2023-02-10T20:13:26.986Z"
   },
   {
    "duration": 191,
    "start_time": "2023-02-10T20:13:27.198Z"
   },
   {
    "duration": 194,
    "start_time": "2023-02-10T20:13:27.391Z"
   },
   {
    "duration": 243,
    "start_time": "2023-02-10T20:13:27.586Z"
   },
   {
    "duration": 29,
    "start_time": "2023-02-10T20:13:27.831Z"
   },
   {
    "duration": 6,
    "start_time": "2023-02-10T20:13:27.861Z"
   },
   {
    "duration": 17,
    "start_time": "2023-02-10T20:13:27.869Z"
   },
   {
    "duration": 4,
    "start_time": "2023-02-10T20:13:27.888Z"
   },
   {
    "duration": 275,
    "start_time": "2023-02-10T20:13:27.896Z"
   },
   {
    "duration": 60,
    "start_time": "2023-02-10T20:13:28.173Z"
   },
   {
    "duration": 43,
    "start_time": "2023-02-10T20:13:28.234Z"
   },
   {
    "duration": 221,
    "start_time": "2023-02-10T20:13:28.279Z"
   },
   {
    "duration": 57,
    "start_time": "2023-02-10T20:13:28.501Z"
   },
   {
    "duration": 49,
    "start_time": "2023-02-10T20:13:28.560Z"
   },
   {
    "duration": 171,
    "start_time": "2023-02-10T20:15:59.525Z"
   },
   {
    "duration": 1426,
    "start_time": "2023-02-10T20:16:48.057Z"
   },
   {
    "duration": 775,
    "start_time": "2023-02-10T20:16:49.486Z"
   },
   {
    "duration": 138,
    "start_time": "2023-02-10T20:16:50.263Z"
   },
   {
    "duration": 101,
    "start_time": "2023-02-10T20:16:50.403Z"
   },
   {
    "duration": 446,
    "start_time": "2023-02-10T20:16:50.506Z"
   },
   {
    "duration": 146,
    "start_time": "2023-02-10T20:16:50.953Z"
   },
   {
    "duration": 12,
    "start_time": "2023-02-10T20:16:51.101Z"
   },
   {
    "duration": 252,
    "start_time": "2023-02-10T20:16:51.115Z"
   },
   {
    "duration": 19,
    "start_time": "2023-02-10T20:16:51.369Z"
   },
   {
    "duration": 20,
    "start_time": "2023-02-10T20:16:51.390Z"
   },
   {
    "duration": 18,
    "start_time": "2023-02-10T20:16:51.412Z"
   },
   {
    "duration": 38,
    "start_time": "2023-02-10T20:16:51.431Z"
   },
   {
    "duration": 29,
    "start_time": "2023-02-10T20:16:51.470Z"
   },
   {
    "duration": 18,
    "start_time": "2023-02-10T20:16:51.500Z"
   },
   {
    "duration": 22,
    "start_time": "2023-02-10T20:16:51.520Z"
   },
   {
    "duration": 55,
    "start_time": "2023-02-10T20:16:51.544Z"
   },
   {
    "duration": 69,
    "start_time": "2023-02-10T20:16:51.601Z"
   },
   {
    "duration": 5,
    "start_time": "2023-02-10T20:16:51.671Z"
   },
   {
    "duration": 26,
    "start_time": "2023-02-10T20:16:51.677Z"
   },
   {
    "duration": 224,
    "start_time": "2023-02-10T20:16:51.704Z"
   },
   {
    "duration": 205,
    "start_time": "2023-02-10T20:16:51.929Z"
   },
   {
    "duration": 198,
    "start_time": "2023-02-10T20:16:52.136Z"
   },
   {
    "duration": 264,
    "start_time": "2023-02-10T20:16:52.336Z"
   },
   {
    "duration": 18,
    "start_time": "2023-02-10T20:16:52.601Z"
   },
   {
    "duration": 4,
    "start_time": "2023-02-10T20:16:52.621Z"
   },
   {
    "duration": 18,
    "start_time": "2023-02-10T20:16:52.627Z"
   },
   {
    "duration": 22,
    "start_time": "2023-02-10T20:16:52.646Z"
   },
   {
    "duration": 104,
    "start_time": "2023-02-10T20:16:52.670Z"
   },
   {
    "duration": 218,
    "start_time": "2023-02-10T20:16:52.776Z"
   },
   {
    "duration": 133,
    "start_time": "2023-02-10T20:16:52.996Z"
   },
   {
    "duration": 0,
    "start_time": "2023-02-10T20:16:53.130Z"
   },
   {
    "duration": 0,
    "start_time": "2023-02-10T20:16:53.131Z"
   },
   {
    "duration": 0,
    "start_time": "2023-02-10T20:16:53.133Z"
   },
   {
    "duration": 0,
    "start_time": "2023-02-10T20:16:53.134Z"
   },
   {
    "duration": 29,
    "start_time": "2023-02-10T20:17:28.911Z"
   },
   {
    "duration": 75,
    "start_time": "2023-02-10T20:17:46.641Z"
   },
   {
    "duration": 65,
    "start_time": "2023-02-10T20:17:58.686Z"
   },
   {
    "duration": 74,
    "start_time": "2023-02-10T20:18:04.202Z"
   },
   {
    "duration": 15,
    "start_time": "2023-02-10T20:19:03.739Z"
   },
   {
    "duration": 1273,
    "start_time": "2023-02-10T20:19:18.501Z"
   },
   {
    "duration": 736,
    "start_time": "2023-02-10T20:19:19.776Z"
   },
   {
    "duration": 128,
    "start_time": "2023-02-10T20:19:20.514Z"
   },
   {
    "duration": 95,
    "start_time": "2023-02-10T20:19:20.644Z"
   },
   {
    "duration": 442,
    "start_time": "2023-02-10T20:19:20.740Z"
   },
   {
    "duration": 121,
    "start_time": "2023-02-10T20:19:21.183Z"
   },
   {
    "duration": 11,
    "start_time": "2023-02-10T20:19:21.306Z"
   },
   {
    "duration": 253,
    "start_time": "2023-02-10T20:19:21.319Z"
   },
   {
    "duration": 17,
    "start_time": "2023-02-10T20:19:21.573Z"
   },
   {
    "duration": 20,
    "start_time": "2023-02-10T20:19:21.592Z"
   },
   {
    "duration": 20,
    "start_time": "2023-02-10T20:19:21.613Z"
   },
   {
    "duration": 35,
    "start_time": "2023-02-10T20:19:21.634Z"
   },
   {
    "duration": 28,
    "start_time": "2023-02-10T20:19:21.671Z"
   },
   {
    "duration": 16,
    "start_time": "2023-02-10T20:19:21.701Z"
   },
   {
    "duration": 19,
    "start_time": "2023-02-10T20:19:21.718Z"
   },
   {
    "duration": 43,
    "start_time": "2023-02-10T20:19:21.738Z"
   },
   {
    "duration": 64,
    "start_time": "2023-02-10T20:19:21.782Z"
   },
   {
    "duration": 4,
    "start_time": "2023-02-10T20:19:21.848Z"
   },
   {
    "duration": 21,
    "start_time": "2023-02-10T20:19:21.867Z"
   },
   {
    "duration": 208,
    "start_time": "2023-02-10T20:19:21.890Z"
   },
   {
    "duration": 181,
    "start_time": "2023-02-10T20:19:22.100Z"
   },
   {
    "duration": 191,
    "start_time": "2023-02-10T20:19:22.282Z"
   },
   {
    "duration": 250,
    "start_time": "2023-02-10T20:19:22.474Z"
   },
   {
    "duration": 18,
    "start_time": "2023-02-10T20:19:22.726Z"
   },
   {
    "duration": 5,
    "start_time": "2023-02-10T20:19:22.745Z"
   },
   {
    "duration": 31,
    "start_time": "2023-02-10T20:19:22.751Z"
   },
   {
    "duration": 5,
    "start_time": "2023-02-10T20:19:22.783Z"
   },
   {
    "duration": 108,
    "start_time": "2023-02-10T20:19:22.790Z"
   },
   {
    "duration": 794,
    "start_time": "2023-02-10T20:19:22.900Z"
   },
   {
    "duration": 0,
    "start_time": "2023-02-10T20:19:23.696Z"
   },
   {
    "duration": 0,
    "start_time": "2023-02-10T20:19:23.697Z"
   },
   {
    "duration": 0,
    "start_time": "2023-02-10T20:19:23.698Z"
   },
   {
    "duration": 0,
    "start_time": "2023-02-10T20:19:23.699Z"
   },
   {
    "duration": 0,
    "start_time": "2023-02-10T20:19:23.700Z"
   },
   {
    "duration": 12,
    "start_time": "2023-02-10T20:20:52.412Z"
   },
   {
    "duration": 0,
    "start_time": "2023-02-10T20:21:03.342Z"
   },
   {
    "duration": 0,
    "start_time": "2023-02-10T20:21:03.343Z"
   },
   {
    "duration": 0,
    "start_time": "2023-02-10T20:21:03.343Z"
   },
   {
    "duration": 0,
    "start_time": "2023-02-10T20:21:03.344Z"
   },
   {
    "duration": 0,
    "start_time": "2023-02-10T20:21:03.345Z"
   },
   {
    "duration": 0,
    "start_time": "2023-02-10T20:21:03.346Z"
   },
   {
    "duration": 0,
    "start_time": "2023-02-10T20:21:03.367Z"
   },
   {
    "duration": 0,
    "start_time": "2023-02-10T20:21:03.368Z"
   },
   {
    "duration": 0,
    "start_time": "2023-02-10T20:21:03.369Z"
   },
   {
    "duration": 0,
    "start_time": "2023-02-10T20:21:03.371Z"
   },
   {
    "duration": 0,
    "start_time": "2023-02-10T20:21:03.371Z"
   },
   {
    "duration": 0,
    "start_time": "2023-02-10T20:21:03.372Z"
   },
   {
    "duration": 0,
    "start_time": "2023-02-10T20:21:03.373Z"
   },
   {
    "duration": 0,
    "start_time": "2023-02-10T20:21:03.374Z"
   },
   {
    "duration": 0,
    "start_time": "2023-02-10T20:21:03.375Z"
   },
   {
    "duration": 0,
    "start_time": "2023-02-10T20:21:03.376Z"
   },
   {
    "duration": 0,
    "start_time": "2023-02-10T20:21:03.378Z"
   },
   {
    "duration": 0,
    "start_time": "2023-02-10T20:21:03.378Z"
   },
   {
    "duration": 0,
    "start_time": "2023-02-10T20:21:03.379Z"
   },
   {
    "duration": 0,
    "start_time": "2023-02-10T20:21:03.380Z"
   },
   {
    "duration": 0,
    "start_time": "2023-02-10T20:21:03.381Z"
   },
   {
    "duration": 0,
    "start_time": "2023-02-10T20:21:03.382Z"
   },
   {
    "duration": 0,
    "start_time": "2023-02-10T20:21:03.383Z"
   },
   {
    "duration": 0,
    "start_time": "2023-02-10T20:21:03.384Z"
   },
   {
    "duration": 0,
    "start_time": "2023-02-10T20:21:03.385Z"
   },
   {
    "duration": 0,
    "start_time": "2023-02-10T20:21:03.386Z"
   },
   {
    "duration": 0,
    "start_time": "2023-02-10T20:21:03.387Z"
   },
   {
    "duration": 0,
    "start_time": "2023-02-10T20:21:03.388Z"
   },
   {
    "duration": 0,
    "start_time": "2023-02-10T20:21:03.389Z"
   },
   {
    "duration": 0,
    "start_time": "2023-02-10T20:21:03.390Z"
   },
   {
    "duration": 0,
    "start_time": "2023-02-10T20:21:03.391Z"
   },
   {
    "duration": 0,
    "start_time": "2023-02-10T20:21:03.392Z"
   },
   {
    "duration": 0,
    "start_time": "2023-02-10T20:21:03.393Z"
   },
   {
    "duration": 0,
    "start_time": "2023-02-10T20:21:03.394Z"
   },
   {
    "duration": 1273,
    "start_time": "2023-02-10T20:21:26.909Z"
   },
   {
    "duration": 761,
    "start_time": "2023-02-10T20:21:28.184Z"
   },
   {
    "duration": 140,
    "start_time": "2023-02-10T20:21:28.947Z"
   },
   {
    "duration": 95,
    "start_time": "2023-02-10T20:21:29.089Z"
   },
   {
    "duration": 424,
    "start_time": "2023-02-10T20:21:29.186Z"
   },
   {
    "duration": 122,
    "start_time": "2023-02-10T20:21:29.611Z"
   },
   {
    "duration": 12,
    "start_time": "2023-02-10T20:21:29.734Z"
   },
   {
    "duration": 245,
    "start_time": "2023-02-10T20:21:29.748Z"
   },
   {
    "duration": 17,
    "start_time": "2023-02-10T20:21:29.995Z"
   },
   {
    "duration": 29,
    "start_time": "2023-02-10T20:21:30.014Z"
   },
   {
    "duration": 24,
    "start_time": "2023-02-10T20:21:30.045Z"
   },
   {
    "duration": 33,
    "start_time": "2023-02-10T20:21:30.071Z"
   },
   {
    "duration": 43,
    "start_time": "2023-02-10T20:21:30.105Z"
   },
   {
    "duration": 18,
    "start_time": "2023-02-10T20:21:30.150Z"
   },
   {
    "duration": 31,
    "start_time": "2023-02-10T20:21:30.170Z"
   },
   {
    "duration": 38,
    "start_time": "2023-02-10T20:21:30.202Z"
   },
   {
    "duration": 69,
    "start_time": "2023-02-10T20:21:30.241Z"
   },
   {
    "duration": 25,
    "start_time": "2023-02-10T20:21:30.312Z"
   },
   {
    "duration": 41,
    "start_time": "2023-02-10T20:21:30.339Z"
   },
   {
    "duration": 225,
    "start_time": "2023-02-10T20:21:30.382Z"
   },
   {
    "duration": 198,
    "start_time": "2023-02-10T20:21:30.608Z"
   },
   {
    "duration": 202,
    "start_time": "2023-02-10T20:21:30.808Z"
   },
   {
    "duration": 262,
    "start_time": "2023-02-10T20:21:31.012Z"
   },
   {
    "duration": 18,
    "start_time": "2023-02-10T20:21:31.275Z"
   },
   {
    "duration": 10,
    "start_time": "2023-02-10T20:21:31.295Z"
   },
   {
    "duration": 33,
    "start_time": "2023-02-10T20:21:31.306Z"
   },
   {
    "duration": 19,
    "start_time": "2023-02-10T20:21:31.341Z"
   },
   {
    "duration": 101,
    "start_time": "2023-02-10T20:21:31.362Z"
   },
   {
    "duration": 198,
    "start_time": "2023-02-10T20:21:31.465Z"
   },
   {
    "duration": 124,
    "start_time": "2023-02-10T20:21:31.666Z"
   },
   {
    "duration": 0,
    "start_time": "2023-02-10T20:21:31.791Z"
   },
   {
    "duration": 1,
    "start_time": "2023-02-10T20:21:31.792Z"
   },
   {
    "duration": 0,
    "start_time": "2023-02-10T20:21:31.794Z"
   },
   {
    "duration": 0,
    "start_time": "2023-02-10T20:21:31.795Z"
   },
   {
    "duration": 1277,
    "start_time": "2023-02-10T20:22:16.402Z"
   },
   {
    "duration": 792,
    "start_time": "2023-02-10T20:22:17.681Z"
   },
   {
    "duration": 131,
    "start_time": "2023-02-10T20:22:18.474Z"
   },
   {
    "duration": 97,
    "start_time": "2023-02-10T20:22:18.607Z"
   },
   {
    "duration": 454,
    "start_time": "2023-02-10T20:22:18.705Z"
   },
   {
    "duration": 119,
    "start_time": "2023-02-10T20:22:19.161Z"
   },
   {
    "duration": 12,
    "start_time": "2023-02-10T20:22:19.282Z"
   },
   {
    "duration": 251,
    "start_time": "2023-02-10T20:22:19.295Z"
   },
   {
    "duration": 20,
    "start_time": "2023-02-10T20:22:19.547Z"
   },
   {
    "duration": 18,
    "start_time": "2023-02-10T20:22:19.569Z"
   },
   {
    "duration": 18,
    "start_time": "2023-02-10T20:22:19.589Z"
   },
   {
    "duration": 20,
    "start_time": "2023-02-10T20:22:19.609Z"
   },
   {
    "duration": 43,
    "start_time": "2023-02-10T20:22:19.631Z"
   },
   {
    "duration": 17,
    "start_time": "2023-02-10T20:22:19.675Z"
   },
   {
    "duration": 18,
    "start_time": "2023-02-10T20:22:19.693Z"
   },
   {
    "duration": 27,
    "start_time": "2023-02-10T20:22:19.713Z"
   },
   {
    "duration": 78,
    "start_time": "2023-02-10T20:22:19.741Z"
   },
   {
    "duration": 6,
    "start_time": "2023-02-10T20:22:19.820Z"
   },
   {
    "duration": 22,
    "start_time": "2023-02-10T20:22:19.828Z"
   },
   {
    "duration": 216,
    "start_time": "2023-02-10T20:22:19.852Z"
   },
   {
    "duration": 174,
    "start_time": "2023-02-10T20:22:20.070Z"
   },
   {
    "duration": 195,
    "start_time": "2023-02-10T20:22:20.246Z"
   },
   {
    "duration": 242,
    "start_time": "2023-02-10T20:22:20.443Z"
   },
   {
    "duration": 17,
    "start_time": "2023-02-10T20:22:20.687Z"
   },
   {
    "duration": 5,
    "start_time": "2023-02-10T20:22:20.706Z"
   },
   {
    "duration": 18,
    "start_time": "2023-02-10T20:22:20.712Z"
   },
   {
    "duration": 4,
    "start_time": "2023-02-10T20:22:20.731Z"
   },
   {
    "duration": 99,
    "start_time": "2023-02-10T20:22:20.738Z"
   },
   {
    "duration": 217,
    "start_time": "2023-02-10T20:22:20.839Z"
   },
   {
    "duration": 30,
    "start_time": "2023-02-10T20:22:21.058Z"
   },
   {
    "duration": 134,
    "start_time": "2023-02-10T20:22:21.090Z"
   },
   {
    "duration": 76,
    "start_time": "2023-02-10T20:22:21.226Z"
   },
   {
    "duration": 46,
    "start_time": "2023-02-10T20:22:21.304Z"
   },
   {
    "duration": 43,
    "start_time": "2023-02-10T20:22:21.352Z"
   },
   {
    "duration": 24,
    "start_time": "2023-02-10T20:22:44.257Z"
   },
   {
    "duration": 71,
    "start_time": "2023-02-10T20:22:45.947Z"
   },
   {
    "duration": 828,
    "start_time": "2023-02-10T20:24:25.050Z"
   },
   {
    "duration": 1387,
    "start_time": "2023-02-10T20:24:36.658Z"
   },
   {
    "duration": 828,
    "start_time": "2023-02-10T20:24:38.048Z"
   },
   {
    "duration": 137,
    "start_time": "2023-02-10T20:24:38.878Z"
   },
   {
    "duration": 103,
    "start_time": "2023-02-10T20:24:39.017Z"
   },
   {
    "duration": 447,
    "start_time": "2023-02-10T20:24:39.121Z"
   },
   {
    "duration": 127,
    "start_time": "2023-02-10T20:24:39.569Z"
   },
   {
    "duration": 12,
    "start_time": "2023-02-10T20:24:39.697Z"
   },
   {
    "duration": 253,
    "start_time": "2023-02-10T20:24:39.711Z"
   },
   {
    "duration": 19,
    "start_time": "2023-02-10T20:24:39.968Z"
   },
   {
    "duration": 20,
    "start_time": "2023-02-10T20:24:39.990Z"
   },
   {
    "duration": 19,
    "start_time": "2023-02-10T20:24:40.012Z"
   },
   {
    "duration": 42,
    "start_time": "2023-02-10T20:24:40.032Z"
   },
   {
    "duration": 32,
    "start_time": "2023-02-10T20:24:40.076Z"
   },
   {
    "duration": 18,
    "start_time": "2023-02-10T20:24:40.110Z"
   },
   {
    "duration": 20,
    "start_time": "2023-02-10T20:24:40.130Z"
   },
   {
    "duration": 27,
    "start_time": "2023-02-10T20:24:40.168Z"
   },
   {
    "duration": 76,
    "start_time": "2023-02-10T20:24:40.197Z"
   },
   {
    "duration": 6,
    "start_time": "2023-02-10T20:24:40.275Z"
   },
   {
    "duration": 23,
    "start_time": "2023-02-10T20:24:40.282Z"
   },
   {
    "duration": 230,
    "start_time": "2023-02-10T20:24:40.307Z"
   },
   {
    "duration": 208,
    "start_time": "2023-02-10T20:24:40.539Z"
   },
   {
    "duration": 199,
    "start_time": "2023-02-10T20:24:40.748Z"
   },
   {
    "duration": 274,
    "start_time": "2023-02-10T20:24:40.948Z"
   },
   {
    "duration": 18,
    "start_time": "2023-02-10T20:24:41.223Z"
   },
   {
    "duration": 6,
    "start_time": "2023-02-10T20:24:41.243Z"
   },
   {
    "duration": 15,
    "start_time": "2023-02-10T20:24:41.267Z"
   },
   {
    "duration": 5,
    "start_time": "2023-02-10T20:24:41.283Z"
   },
   {
    "duration": 87,
    "start_time": "2023-02-10T20:24:41.291Z"
   },
   {
    "duration": 115,
    "start_time": "2023-02-10T20:24:41.380Z"
   },
   {
    "duration": 0,
    "start_time": "2023-02-10T20:24:41.496Z"
   },
   {
    "duration": 0,
    "start_time": "2023-02-10T20:24:41.497Z"
   },
   {
    "duration": 0,
    "start_time": "2023-02-10T20:24:41.498Z"
   },
   {
    "duration": 0,
    "start_time": "2023-02-10T20:24:41.499Z"
   },
   {
    "duration": 0,
    "start_time": "2023-02-10T20:24:41.500Z"
   },
   {
    "duration": 693,
    "start_time": "2023-02-10T20:25:33.708Z"
   },
   {
    "duration": 721,
    "start_time": "2023-02-10T20:25:47.521Z"
   },
   {
    "duration": 210,
    "start_time": "2023-02-10T20:26:35.499Z"
   },
   {
    "duration": 197,
    "start_time": "2023-02-10T20:27:35.226Z"
   },
   {
    "duration": 100,
    "start_time": "2023-02-10T20:27:37.192Z"
   },
   {
    "duration": 89,
    "start_time": "2023-02-10T20:27:54.951Z"
   },
   {
    "duration": 33,
    "start_time": "2023-02-10T20:29:24.719Z"
   },
   {
    "duration": 1273,
    "start_time": "2023-02-10T20:31:10.595Z"
   },
   {
    "duration": 749,
    "start_time": "2023-02-10T20:31:11.870Z"
   },
   {
    "duration": 133,
    "start_time": "2023-02-10T20:31:12.620Z"
   },
   {
    "duration": 93,
    "start_time": "2023-02-10T20:31:12.755Z"
   },
   {
    "duration": 428,
    "start_time": "2023-02-10T20:31:12.849Z"
   },
   {
    "duration": 123,
    "start_time": "2023-02-10T20:31:13.279Z"
   },
   {
    "duration": 41,
    "start_time": "2023-02-10T20:31:13.403Z"
   },
   {
    "duration": 272,
    "start_time": "2023-02-10T20:31:13.446Z"
   },
   {
    "duration": 18,
    "start_time": "2023-02-10T20:31:13.720Z"
   },
   {
    "duration": 50,
    "start_time": "2023-02-10T20:31:13.741Z"
   },
   {
    "duration": 32,
    "start_time": "2023-02-10T20:31:13.793Z"
   },
   {
    "duration": 60,
    "start_time": "2023-02-10T20:31:13.826Z"
   },
   {
    "duration": 56,
    "start_time": "2023-02-10T20:31:13.887Z"
   },
   {
    "duration": 33,
    "start_time": "2023-02-10T20:31:13.945Z"
   },
   {
    "duration": 68,
    "start_time": "2023-02-10T20:31:13.979Z"
   },
   {
    "duration": 57,
    "start_time": "2023-02-10T20:31:14.049Z"
   },
   {
    "duration": 86,
    "start_time": "2023-02-10T20:31:14.108Z"
   },
   {
    "duration": 10,
    "start_time": "2023-02-10T20:31:14.196Z"
   },
   {
    "duration": 52,
    "start_time": "2023-02-10T20:31:14.208Z"
   },
   {
    "duration": 244,
    "start_time": "2023-02-10T20:31:14.262Z"
   },
   {
    "duration": 185,
    "start_time": "2023-02-10T20:31:14.508Z"
   },
   {
    "duration": 230,
    "start_time": "2023-02-10T20:31:14.695Z"
   },
   {
    "duration": 265,
    "start_time": "2023-02-10T20:31:14.927Z"
   },
   {
    "duration": 17,
    "start_time": "2023-02-10T20:31:15.195Z"
   },
   {
    "duration": 10,
    "start_time": "2023-02-10T20:31:15.214Z"
   },
   {
    "duration": 16,
    "start_time": "2023-02-10T20:31:15.225Z"
   },
   {
    "duration": 4,
    "start_time": "2023-02-10T20:31:15.242Z"
   },
   {
    "duration": 86,
    "start_time": "2023-02-10T20:31:15.249Z"
   },
   {
    "duration": 209,
    "start_time": "2023-02-10T20:31:15.337Z"
   },
   {
    "duration": 41,
    "start_time": "2023-02-10T20:31:15.548Z"
   },
   {
    "duration": 143,
    "start_time": "2023-02-10T20:31:15.591Z"
   },
   {
    "duration": 14180,
    "start_time": "2023-02-10T20:31:15.736Z"
   },
   {
    "duration": 2661,
    "start_time": "2023-02-10T20:31:29.918Z"
   },
   {
    "duration": 15291,
    "start_time": "2023-02-10T20:31:32.581Z"
   },
   {
    "duration": 66,
    "start_time": "2023-02-10T20:31:47.874Z"
   },
   {
    "duration": 3,
    "start_time": "2023-02-10T20:32:10.749Z"
   },
   {
    "duration": 65,
    "start_time": "2023-02-10T20:32:57.480Z"
   },
   {
    "duration": 1409,
    "start_time": "2023-02-10T20:33:08.209Z"
   },
   {
    "duration": 777,
    "start_time": "2023-02-10T20:33:09.620Z"
   },
   {
    "duration": 152,
    "start_time": "2023-02-10T20:33:10.398Z"
   },
   {
    "duration": 97,
    "start_time": "2023-02-10T20:33:10.551Z"
   },
   {
    "duration": 441,
    "start_time": "2023-02-10T20:33:10.649Z"
   },
   {
    "duration": 129,
    "start_time": "2023-02-10T20:33:11.091Z"
   },
   {
    "duration": 11,
    "start_time": "2023-02-10T20:33:11.222Z"
   },
   {
    "duration": 251,
    "start_time": "2023-02-10T20:33:11.234Z"
   },
   {
    "duration": 21,
    "start_time": "2023-02-10T20:33:11.487Z"
   },
   {
    "duration": 21,
    "start_time": "2023-02-10T20:33:11.511Z"
   },
   {
    "duration": 35,
    "start_time": "2023-02-10T20:33:11.534Z"
   },
   {
    "duration": 18,
    "start_time": "2023-02-10T20:33:11.571Z"
   },
   {
    "duration": 30,
    "start_time": "2023-02-10T20:33:11.591Z"
   },
   {
    "duration": 16,
    "start_time": "2023-02-10T20:33:11.623Z"
   },
   {
    "duration": 35,
    "start_time": "2023-02-10T20:33:11.641Z"
   },
   {
    "duration": 31,
    "start_time": "2023-02-10T20:33:11.678Z"
   },
   {
    "duration": 76,
    "start_time": "2023-02-10T20:33:11.711Z"
   },
   {
    "duration": 5,
    "start_time": "2023-02-10T20:33:11.789Z"
   },
   {
    "duration": 24,
    "start_time": "2023-02-10T20:33:11.795Z"
   },
   {
    "duration": 232,
    "start_time": "2023-02-10T20:33:11.821Z"
   },
   {
    "duration": 198,
    "start_time": "2023-02-10T20:33:12.055Z"
   },
   {
    "duration": 198,
    "start_time": "2023-02-10T20:33:12.255Z"
   },
   {
    "duration": 260,
    "start_time": "2023-02-10T20:33:12.454Z"
   },
   {
    "duration": 18,
    "start_time": "2023-02-10T20:33:12.715Z"
   },
   {
    "duration": 4,
    "start_time": "2023-02-10T20:33:12.735Z"
   },
   {
    "duration": 33,
    "start_time": "2023-02-10T20:33:12.740Z"
   },
   {
    "duration": 4,
    "start_time": "2023-02-10T20:33:12.775Z"
   },
   {
    "duration": 88,
    "start_time": "2023-02-10T20:33:12.781Z"
   },
   {
    "duration": 224,
    "start_time": "2023-02-10T20:33:12.870Z"
   },
   {
    "duration": 36,
    "start_time": "2023-02-10T20:33:13.096Z"
   },
   {
    "duration": 4,
    "start_time": "2023-02-10T20:33:13.134Z"
   },
   {
    "duration": 186,
    "start_time": "2023-02-10T20:33:13.140Z"
   },
   {
    "duration": 14777,
    "start_time": "2023-02-10T20:33:13.328Z"
   },
   {
    "duration": 2873,
    "start_time": "2023-02-10T20:33:28.107Z"
   },
   {
    "duration": 16262,
    "start_time": "2023-02-10T20:33:30.982Z"
   },
   {
    "duration": 35,
    "start_time": "2023-02-10T20:34:26.509Z"
   },
   {
    "duration": 66,
    "start_time": "2023-02-10T20:34:28.918Z"
   },
   {
    "duration": 15,
    "start_time": "2023-02-10T20:35:37.183Z"
   },
   {
    "duration": 31,
    "start_time": "2023-02-10T20:35:59.301Z"
   },
   {
    "duration": 60,
    "start_time": "2023-02-10T20:36:51.026Z"
   },
   {
    "duration": 62,
    "start_time": "2023-02-10T20:36:56.852Z"
   },
   {
    "duration": 1260,
    "start_time": "2023-02-10T20:37:44.704Z"
   },
   {
    "duration": 770,
    "start_time": "2023-02-10T20:37:45.967Z"
   },
   {
    "duration": 149,
    "start_time": "2023-02-10T20:37:46.738Z"
   },
   {
    "duration": 129,
    "start_time": "2023-02-10T20:37:46.889Z"
   },
   {
    "duration": 438,
    "start_time": "2023-02-10T20:37:47.020Z"
   },
   {
    "duration": 129,
    "start_time": "2023-02-10T20:37:47.459Z"
   },
   {
    "duration": 12,
    "start_time": "2023-02-10T20:37:47.589Z"
   },
   {
    "duration": 240,
    "start_time": "2023-02-10T20:37:47.603Z"
   },
   {
    "duration": 22,
    "start_time": "2023-02-10T20:37:47.845Z"
   },
   {
    "duration": 20,
    "start_time": "2023-02-10T20:37:47.870Z"
   },
   {
    "duration": 18,
    "start_time": "2023-02-10T20:37:47.891Z"
   },
   {
    "duration": 19,
    "start_time": "2023-02-10T20:37:47.911Z"
   },
   {
    "duration": 50,
    "start_time": "2023-02-10T20:37:47.931Z"
   },
   {
    "duration": 17,
    "start_time": "2023-02-10T20:37:47.983Z"
   },
   {
    "duration": 20,
    "start_time": "2023-02-10T20:37:48.002Z"
   },
   {
    "duration": 46,
    "start_time": "2023-02-10T20:37:48.023Z"
   },
   {
    "duration": 75,
    "start_time": "2023-02-10T20:37:48.071Z"
   },
   {
    "duration": 5,
    "start_time": "2023-02-10T20:37:48.147Z"
   },
   {
    "duration": 42,
    "start_time": "2023-02-10T20:37:48.153Z"
   },
   {
    "duration": 230,
    "start_time": "2023-02-10T20:37:48.197Z"
   },
   {
    "duration": 187,
    "start_time": "2023-02-10T20:37:48.429Z"
   },
   {
    "duration": 210,
    "start_time": "2023-02-10T20:37:48.618Z"
   },
   {
    "duration": 270,
    "start_time": "2023-02-10T20:37:48.830Z"
   },
   {
    "duration": 18,
    "start_time": "2023-02-10T20:37:49.101Z"
   },
   {
    "duration": 6,
    "start_time": "2023-02-10T20:37:49.120Z"
   },
   {
    "duration": 20,
    "start_time": "2023-02-10T20:37:49.127Z"
   },
   {
    "duration": 4,
    "start_time": "2023-02-10T20:37:49.167Z"
   },
   {
    "duration": 81,
    "start_time": "2023-02-10T20:37:49.174Z"
   },
   {
    "duration": 222,
    "start_time": "2023-02-10T20:37:49.257Z"
   },
   {
    "duration": 113,
    "start_time": "2023-02-10T20:37:49.481Z"
   },
   {
    "duration": 0,
    "start_time": "2023-02-10T20:37:49.595Z"
   },
   {
    "duration": 0,
    "start_time": "2023-02-10T20:37:49.596Z"
   },
   {
    "duration": 0,
    "start_time": "2023-02-10T20:37:49.597Z"
   },
   {
    "duration": 0,
    "start_time": "2023-02-10T20:37:49.598Z"
   },
   {
    "duration": 56,
    "start_time": "2023-02-10T20:38:13.666Z"
   },
   {
    "duration": 53,
    "start_time": "2023-02-10T20:38:16.019Z"
   },
   {
    "duration": 49,
    "start_time": "2023-02-10T20:40:18.711Z"
   },
   {
    "duration": 218,
    "start_time": "2023-02-10T20:40:29.507Z"
   },
   {
    "duration": 52,
    "start_time": "2023-02-10T20:40:32.365Z"
   },
   {
    "duration": 66,
    "start_time": "2023-02-10T20:40:34.391Z"
   },
   {
    "duration": 193,
    "start_time": "2023-02-10T20:40:53.391Z"
   },
   {
    "duration": 42,
    "start_time": "2023-02-10T20:40:55.165Z"
   },
   {
    "duration": 48,
    "start_time": "2023-02-10T20:40:57.126Z"
   },
   {
    "duration": 195,
    "start_time": "2023-02-10T20:41:27.304Z"
   },
   {
    "duration": 48,
    "start_time": "2023-02-10T20:41:29.439Z"
   },
   {
    "duration": 101,
    "start_time": "2023-02-10T20:41:31.269Z"
   },
   {
    "duration": 204,
    "start_time": "2023-02-10T20:42:03.792Z"
   },
   {
    "duration": 48,
    "start_time": "2023-02-10T20:42:05.347Z"
   },
   {
    "duration": 127,
    "start_time": "2023-02-10T20:42:06.750Z"
   },
   {
    "duration": 1307,
    "start_time": "2023-02-10T20:42:12.215Z"
   },
   {
    "duration": 795,
    "start_time": "2023-02-10T20:42:13.524Z"
   },
   {
    "duration": 141,
    "start_time": "2023-02-10T20:42:14.320Z"
   },
   {
    "duration": 90,
    "start_time": "2023-02-10T20:42:14.463Z"
   },
   {
    "duration": 474,
    "start_time": "2023-02-10T20:42:14.554Z"
   },
   {
    "duration": 127,
    "start_time": "2023-02-10T20:42:15.030Z"
   },
   {
    "duration": 17,
    "start_time": "2023-02-10T20:42:15.159Z"
   },
   {
    "duration": 247,
    "start_time": "2023-02-10T20:42:15.178Z"
   },
   {
    "duration": 17,
    "start_time": "2023-02-10T20:42:15.427Z"
   },
   {
    "duration": 29,
    "start_time": "2023-02-10T20:42:15.447Z"
   },
   {
    "duration": 19,
    "start_time": "2023-02-10T20:42:15.478Z"
   },
   {
    "duration": 20,
    "start_time": "2023-02-10T20:42:15.498Z"
   },
   {
    "duration": 47,
    "start_time": "2023-02-10T20:42:15.520Z"
   },
   {
    "duration": 16,
    "start_time": "2023-02-10T20:42:15.569Z"
   },
   {
    "duration": 21,
    "start_time": "2023-02-10T20:42:15.588Z"
   },
   {
    "duration": 31,
    "start_time": "2023-02-10T20:42:15.611Z"
   },
   {
    "duration": 81,
    "start_time": "2023-02-10T20:42:15.644Z"
   },
   {
    "duration": 9,
    "start_time": "2023-02-10T20:42:15.726Z"
   },
   {
    "duration": 32,
    "start_time": "2023-02-10T20:42:15.736Z"
   },
   {
    "duration": 215,
    "start_time": "2023-02-10T20:42:15.770Z"
   },
   {
    "duration": 193,
    "start_time": "2023-02-10T20:42:15.987Z"
   },
   {
    "duration": 200,
    "start_time": "2023-02-10T20:42:16.182Z"
   },
   {
    "duration": 249,
    "start_time": "2023-02-10T20:42:16.383Z"
   },
   {
    "duration": 17,
    "start_time": "2023-02-10T20:42:16.634Z"
   },
   {
    "duration": 17,
    "start_time": "2023-02-10T20:42:16.653Z"
   },
   {
    "duration": 17,
    "start_time": "2023-02-10T20:42:16.671Z"
   },
   {
    "duration": 5,
    "start_time": "2023-02-10T20:42:16.689Z"
   },
   {
    "duration": 97,
    "start_time": "2023-02-10T20:42:16.697Z"
   },
   {
    "duration": 330,
    "start_time": "2023-02-10T20:42:16.796Z"
   },
   {
    "duration": 0,
    "start_time": "2023-02-10T20:42:17.128Z"
   },
   {
    "duration": 0,
    "start_time": "2023-02-10T20:42:17.129Z"
   },
   {
    "duration": 0,
    "start_time": "2023-02-10T20:42:17.130Z"
   },
   {
    "duration": 1,
    "start_time": "2023-02-10T20:42:17.130Z"
   },
   {
    "duration": 0,
    "start_time": "2023-02-10T20:42:17.131Z"
   },
   {
    "duration": 223,
    "start_time": "2023-02-10T20:42:37.526Z"
   },
   {
    "duration": 59,
    "start_time": "2023-02-10T20:42:39.417Z"
   },
   {
    "duration": 73,
    "start_time": "2023-02-10T20:42:41.024Z"
   },
   {
    "duration": 204,
    "start_time": "2023-02-10T20:43:04.496Z"
   },
   {
    "duration": 212,
    "start_time": "2023-02-10T20:43:25.106Z"
   },
   {
    "duration": 49,
    "start_time": "2023-02-10T20:43:27.479Z"
   },
   {
    "duration": 75,
    "start_time": "2023-02-10T20:43:29.102Z"
   },
   {
    "duration": 18,
    "start_time": "2023-02-10T20:44:05.460Z"
   },
   {
    "duration": 203,
    "start_time": "2023-02-10T20:44:15.698Z"
   },
   {
    "duration": 42,
    "start_time": "2023-02-10T20:44:17.533Z"
   },
   {
    "duration": 223,
    "start_time": "2023-02-10T20:44:19.144Z"
   },
   {
    "duration": 1359,
    "start_time": "2023-02-10T20:44:25.138Z"
   },
   {
    "duration": 844,
    "start_time": "2023-02-10T20:44:26.499Z"
   },
   {
    "duration": 143,
    "start_time": "2023-02-10T20:44:27.345Z"
   },
   {
    "duration": 104,
    "start_time": "2023-02-10T20:44:27.490Z"
   },
   {
    "duration": 458,
    "start_time": "2023-02-10T20:44:27.596Z"
   },
   {
    "duration": 128,
    "start_time": "2023-02-10T20:44:28.055Z"
   },
   {
    "duration": 12,
    "start_time": "2023-02-10T20:44:28.185Z"
   },
   {
    "duration": 262,
    "start_time": "2023-02-10T20:44:28.199Z"
   },
   {
    "duration": 18,
    "start_time": "2023-02-10T20:44:28.463Z"
   },
   {
    "duration": 21,
    "start_time": "2023-02-10T20:44:28.483Z"
   },
   {
    "duration": 20,
    "start_time": "2023-02-10T20:44:28.505Z"
   },
   {
    "duration": 42,
    "start_time": "2023-02-10T20:44:28.526Z"
   },
   {
    "duration": 29,
    "start_time": "2023-02-10T20:44:28.570Z"
   },
   {
    "duration": 17,
    "start_time": "2023-02-10T20:44:28.604Z"
   },
   {
    "duration": 48,
    "start_time": "2023-02-10T20:44:28.623Z"
   },
   {
    "duration": 49,
    "start_time": "2023-02-10T20:44:28.673Z"
   },
   {
    "duration": 82,
    "start_time": "2023-02-10T20:44:28.723Z"
   },
   {
    "duration": 5,
    "start_time": "2023-02-10T20:44:28.806Z"
   },
   {
    "duration": 23,
    "start_time": "2023-02-10T20:44:28.813Z"
   },
   {
    "duration": 250,
    "start_time": "2023-02-10T20:44:28.838Z"
   },
   {
    "duration": 203,
    "start_time": "2023-02-10T20:44:29.089Z"
   },
   {
    "duration": 206,
    "start_time": "2023-02-10T20:44:29.293Z"
   },
   {
    "duration": 269,
    "start_time": "2023-02-10T20:44:29.501Z"
   },
   {
    "duration": 19,
    "start_time": "2023-02-10T20:44:29.771Z"
   },
   {
    "duration": 5,
    "start_time": "2023-02-10T20:44:29.792Z"
   },
   {
    "duration": 17,
    "start_time": "2023-02-10T20:44:29.798Z"
   },
   {
    "duration": 5,
    "start_time": "2023-02-10T20:44:29.816Z"
   },
   {
    "duration": 103,
    "start_time": "2023-02-10T20:44:29.822Z"
   },
   {
    "duration": 218,
    "start_time": "2023-02-10T20:44:29.927Z"
   },
   {
    "duration": 62,
    "start_time": "2023-02-10T20:44:30.146Z"
   },
   {
    "duration": 161,
    "start_time": "2023-02-10T20:44:30.209Z"
   },
   {
    "duration": 189,
    "start_time": "2023-02-10T20:44:30.372Z"
   },
   {
    "duration": 54,
    "start_time": "2023-02-10T20:44:30.563Z"
   },
   {
    "duration": 74,
    "start_time": "2023-02-10T20:44:30.619Z"
   },
   {
    "duration": 24,
    "start_time": "2023-02-10T20:47:00.830Z"
   },
   {
    "duration": 27,
    "start_time": "2023-02-10T20:47:34.727Z"
   },
   {
    "duration": 1387,
    "start_time": "2023-02-10T20:47:42.630Z"
   },
   {
    "duration": 813,
    "start_time": "2023-02-10T20:47:44.018Z"
   },
   {
    "duration": 175,
    "start_time": "2023-02-10T20:47:44.833Z"
   },
   {
    "duration": 121,
    "start_time": "2023-02-10T20:47:45.011Z"
   },
   {
    "duration": 464,
    "start_time": "2023-02-10T20:47:45.134Z"
   },
   {
    "duration": 140,
    "start_time": "2023-02-10T20:47:45.600Z"
   },
   {
    "duration": 13,
    "start_time": "2023-02-10T20:47:45.741Z"
   },
   {
    "duration": 248,
    "start_time": "2023-02-10T20:47:45.767Z"
   },
   {
    "duration": 20,
    "start_time": "2023-02-10T20:47:46.016Z"
   },
   {
    "duration": 36,
    "start_time": "2023-02-10T20:47:46.038Z"
   },
   {
    "duration": 22,
    "start_time": "2023-02-10T20:47:46.075Z"
   },
   {
    "duration": 20,
    "start_time": "2023-02-10T20:47:46.098Z"
   },
   {
    "duration": 48,
    "start_time": "2023-02-10T20:47:46.119Z"
   },
   {
    "duration": 19,
    "start_time": "2023-02-10T20:47:46.169Z"
   },
   {
    "duration": 23,
    "start_time": "2023-02-10T20:47:46.189Z"
   },
   {
    "duration": 33,
    "start_time": "2023-02-10T20:47:46.213Z"
   },
   {
    "duration": 89,
    "start_time": "2023-02-10T20:47:46.248Z"
   },
   {
    "duration": 5,
    "start_time": "2023-02-10T20:47:46.339Z"
   },
   {
    "duration": 23,
    "start_time": "2023-02-10T20:47:46.367Z"
   },
   {
    "duration": 235,
    "start_time": "2023-02-10T20:47:46.392Z"
   },
   {
    "duration": 231,
    "start_time": "2023-02-10T20:47:46.629Z"
   },
   {
    "duration": 247,
    "start_time": "2023-02-10T20:47:46.862Z"
   },
   {
    "duration": 287,
    "start_time": "2023-02-10T20:47:47.110Z"
   },
   {
    "duration": 18,
    "start_time": "2023-02-10T20:47:47.399Z"
   },
   {
    "duration": 6,
    "start_time": "2023-02-10T20:47:47.419Z"
   },
   {
    "duration": 41,
    "start_time": "2023-02-10T20:47:47.427Z"
   },
   {
    "duration": 6,
    "start_time": "2023-02-10T20:47:47.470Z"
   },
   {
    "duration": 90,
    "start_time": "2023-02-10T20:47:47.480Z"
   },
   {
    "duration": 139,
    "start_time": "2023-02-10T20:47:47.572Z"
   },
   {
    "duration": 0,
    "start_time": "2023-02-10T20:47:47.713Z"
   },
   {
    "duration": 0,
    "start_time": "2023-02-10T20:47:47.714Z"
   },
   {
    "duration": 0,
    "start_time": "2023-02-10T20:47:47.715Z"
   },
   {
    "duration": 0,
    "start_time": "2023-02-10T20:47:47.716Z"
   },
   {
    "duration": 0,
    "start_time": "2023-02-10T20:47:47.718Z"
   },
   {
    "duration": 26,
    "start_time": "2023-02-10T20:48:09.576Z"
   },
   {
    "duration": 25,
    "start_time": "2023-02-10T20:48:27.581Z"
   },
   {
    "duration": 1455,
    "start_time": "2023-02-10T20:48:37.237Z"
   },
   {
    "duration": 766,
    "start_time": "2023-02-10T20:48:38.693Z"
   },
   {
    "duration": 140,
    "start_time": "2023-02-10T20:48:39.461Z"
   },
   {
    "duration": 98,
    "start_time": "2023-02-10T20:48:39.603Z"
   },
   {
    "duration": 421,
    "start_time": "2023-02-10T20:48:39.702Z"
   },
   {
    "duration": 124,
    "start_time": "2023-02-10T20:48:40.124Z"
   },
   {
    "duration": 24,
    "start_time": "2023-02-10T20:48:40.249Z"
   },
   {
    "duration": 236,
    "start_time": "2023-02-10T20:48:40.275Z"
   },
   {
    "duration": 17,
    "start_time": "2023-02-10T20:48:40.513Z"
   },
   {
    "duration": 20,
    "start_time": "2023-02-10T20:48:40.532Z"
   },
   {
    "duration": 19,
    "start_time": "2023-02-10T20:48:40.567Z"
   },
   {
    "duration": 19,
    "start_time": "2023-02-10T20:48:40.587Z"
   },
   {
    "duration": 27,
    "start_time": "2023-02-10T20:48:40.608Z"
   },
   {
    "duration": 32,
    "start_time": "2023-02-10T20:48:40.637Z"
   },
   {
    "duration": 20,
    "start_time": "2023-02-10T20:48:40.670Z"
   },
   {
    "duration": 28,
    "start_time": "2023-02-10T20:48:40.691Z"
   },
   {
    "duration": 76,
    "start_time": "2023-02-10T20:48:40.720Z"
   },
   {
    "duration": 6,
    "start_time": "2023-02-10T20:48:40.798Z"
   },
   {
    "duration": 24,
    "start_time": "2023-02-10T20:48:40.806Z"
   },
   {
    "duration": 241,
    "start_time": "2023-02-10T20:48:40.831Z"
   },
   {
    "duration": 185,
    "start_time": "2023-02-10T20:48:41.074Z"
   },
   {
    "duration": 208,
    "start_time": "2023-02-10T20:48:41.261Z"
   },
   {
    "duration": 250,
    "start_time": "2023-02-10T20:48:41.471Z"
   },
   {
    "duration": 18,
    "start_time": "2023-02-10T20:48:41.723Z"
   },
   {
    "duration": 6,
    "start_time": "2023-02-10T20:48:41.743Z"
   },
   {
    "duration": 30,
    "start_time": "2023-02-10T20:48:41.751Z"
   },
   {
    "duration": 6,
    "start_time": "2023-02-10T20:48:41.783Z"
   },
   {
    "duration": 86,
    "start_time": "2023-02-10T20:48:41.792Z"
   },
   {
    "duration": 125,
    "start_time": "2023-02-10T20:48:41.880Z"
   },
   {
    "duration": 1,
    "start_time": "2023-02-10T20:48:42.006Z"
   },
   {
    "duration": 0,
    "start_time": "2023-02-10T20:48:42.008Z"
   },
   {
    "duration": 0,
    "start_time": "2023-02-10T20:48:42.009Z"
   },
   {
    "duration": 0,
    "start_time": "2023-02-10T20:48:42.010Z"
   },
   {
    "duration": 0,
    "start_time": "2023-02-10T20:48:42.011Z"
   },
   {
    "duration": 201,
    "start_time": "2023-02-10T20:49:03.276Z"
   },
   {
    "duration": 182,
    "start_time": "2023-02-10T20:49:29.749Z"
   },
   {
    "duration": 53,
    "start_time": "2023-02-10T20:49:32.647Z"
   },
   {
    "duration": 41,
    "start_time": "2023-02-10T20:49:34.810Z"
   },
   {
    "duration": 227,
    "start_time": "2023-02-10T20:50:03.575Z"
   },
   {
    "duration": 46,
    "start_time": "2023-02-10T20:50:06.460Z"
   },
   {
    "duration": 48,
    "start_time": "2023-02-10T20:50:08.318Z"
   },
   {
    "duration": 1307,
    "start_time": "2023-02-10T20:50:19.862Z"
   },
   {
    "duration": 757,
    "start_time": "2023-02-10T20:50:21.171Z"
   },
   {
    "duration": 137,
    "start_time": "2023-02-10T20:50:21.930Z"
   },
   {
    "duration": 87,
    "start_time": "2023-02-10T20:50:22.069Z"
   },
   {
    "duration": 423,
    "start_time": "2023-02-10T20:50:22.167Z"
   },
   {
    "duration": 119,
    "start_time": "2023-02-10T20:50:22.592Z"
   },
   {
    "duration": 12,
    "start_time": "2023-02-10T20:50:22.712Z"
   },
   {
    "duration": 245,
    "start_time": "2023-02-10T20:50:22.726Z"
   },
   {
    "duration": 18,
    "start_time": "2023-02-10T20:50:22.973Z"
   },
   {
    "duration": 27,
    "start_time": "2023-02-10T20:50:22.994Z"
   },
   {
    "duration": 30,
    "start_time": "2023-02-10T20:50:23.022Z"
   },
   {
    "duration": 29,
    "start_time": "2023-02-10T20:50:23.053Z"
   },
   {
    "duration": 27,
    "start_time": "2023-02-10T20:50:23.084Z"
   },
   {
    "duration": 16,
    "start_time": "2023-02-10T20:50:23.113Z"
   },
   {
    "duration": 18,
    "start_time": "2023-02-10T20:50:23.130Z"
   },
   {
    "duration": 26,
    "start_time": "2023-02-10T20:50:23.166Z"
   },
   {
    "duration": 79,
    "start_time": "2023-02-10T20:50:23.193Z"
   },
   {
    "duration": 4,
    "start_time": "2023-02-10T20:50:23.274Z"
   },
   {
    "duration": 28,
    "start_time": "2023-02-10T20:50:23.279Z"
   },
   {
    "duration": 215,
    "start_time": "2023-02-10T20:50:23.309Z"
   },
   {
    "duration": 187,
    "start_time": "2023-02-10T20:50:23.526Z"
   },
   {
    "duration": 202,
    "start_time": "2023-02-10T20:50:23.715Z"
   },
   {
    "duration": 248,
    "start_time": "2023-02-10T20:50:23.919Z"
   },
   {
    "duration": 17,
    "start_time": "2023-02-10T20:50:24.169Z"
   },
   {
    "duration": 5,
    "start_time": "2023-02-10T20:50:24.188Z"
   },
   {
    "duration": 27,
    "start_time": "2023-02-10T20:50:24.195Z"
   },
   {
    "duration": 9,
    "start_time": "2023-02-10T20:50:24.223Z"
   },
   {
    "duration": 87,
    "start_time": "2023-02-10T20:50:24.235Z"
   },
   {
    "duration": 198,
    "start_time": "2023-02-10T20:50:24.323Z"
   },
   {
    "duration": 58,
    "start_time": "2023-02-10T20:50:24.523Z"
   },
   {
    "duration": 91,
    "start_time": "2023-02-10T20:50:24.582Z"
   },
   {
    "duration": 252,
    "start_time": "2023-02-10T20:50:24.675Z"
   },
   {
    "duration": 57,
    "start_time": "2023-02-10T20:50:24.929Z"
   },
   {
    "duration": 69,
    "start_time": "2023-02-10T20:50:24.987Z"
   },
   {
    "duration": 242,
    "start_time": "2023-02-10T20:51:14.706Z"
   },
   {
    "duration": 50,
    "start_time": "2023-02-10T20:51:17.148Z"
   },
   {
    "duration": 113,
    "start_time": "2023-02-10T20:51:19.457Z"
   },
   {
    "duration": 203,
    "start_time": "2023-02-10T20:51:55.618Z"
   },
   {
    "duration": 42,
    "start_time": "2023-02-10T20:51:58.297Z"
   },
   {
    "duration": 74,
    "start_time": "2023-02-10T20:52:00.592Z"
   },
   {
    "duration": 201,
    "start_time": "2023-02-10T20:52:47.234Z"
   },
   {
    "duration": 44,
    "start_time": "2023-02-10T20:52:49.753Z"
   },
   {
    "duration": 59,
    "start_time": "2023-02-10T20:52:52.316Z"
   },
   {
    "duration": 53,
    "start_time": "2023-02-10T20:58:21.109Z"
   },
   {
    "duration": 91,
    "start_time": "2023-02-10T20:58:41.784Z"
   },
   {
    "duration": 1311,
    "start_time": "2023-02-10T20:58:52.078Z"
   },
   {
    "duration": 767,
    "start_time": "2023-02-10T20:58:53.391Z"
   },
   {
    "duration": 141,
    "start_time": "2023-02-10T20:58:54.160Z"
   },
   {
    "duration": 102,
    "start_time": "2023-02-10T20:58:54.303Z"
   },
   {
    "duration": 460,
    "start_time": "2023-02-10T20:58:54.407Z"
   },
   {
    "duration": 147,
    "start_time": "2023-02-10T20:58:54.869Z"
   },
   {
    "duration": 15,
    "start_time": "2023-02-10T20:58:55.017Z"
   },
   {
    "duration": 249,
    "start_time": "2023-02-10T20:58:55.033Z"
   },
   {
    "duration": 15,
    "start_time": "2023-02-10T20:58:55.284Z"
   },
   {
    "duration": 19,
    "start_time": "2023-02-10T20:58:55.302Z"
   },
   {
    "duration": 17,
    "start_time": "2023-02-10T20:58:55.323Z"
   },
   {
    "duration": 37,
    "start_time": "2023-02-10T20:58:55.341Z"
   },
   {
    "duration": 39,
    "start_time": "2023-02-10T20:58:55.379Z"
   },
   {
    "duration": 18,
    "start_time": "2023-02-10T20:58:55.420Z"
   },
   {
    "duration": 31,
    "start_time": "2023-02-10T20:58:55.440Z"
   },
   {
    "duration": 30,
    "start_time": "2023-02-10T20:58:55.473Z"
   },
   {
    "duration": 75,
    "start_time": "2023-02-10T20:58:55.504Z"
   },
   {
    "duration": 5,
    "start_time": "2023-02-10T20:58:55.580Z"
   },
   {
    "duration": 26,
    "start_time": "2023-02-10T20:58:55.586Z"
   },
   {
    "duration": 223,
    "start_time": "2023-02-10T20:58:55.613Z"
   },
   {
    "duration": 188,
    "start_time": "2023-02-10T20:58:55.838Z"
   },
   {
    "duration": 212,
    "start_time": "2023-02-10T20:58:56.027Z"
   },
   {
    "duration": 260,
    "start_time": "2023-02-10T20:58:56.241Z"
   },
   {
    "duration": 19,
    "start_time": "2023-02-10T20:58:56.503Z"
   },
   {
    "duration": 6,
    "start_time": "2023-02-10T20:58:56.524Z"
   },
   {
    "duration": 40,
    "start_time": "2023-02-10T20:58:56.532Z"
   },
   {
    "duration": 5,
    "start_time": "2023-02-10T20:58:56.573Z"
   },
   {
    "duration": 86,
    "start_time": "2023-02-10T20:58:56.581Z"
   },
   {
    "duration": 233,
    "start_time": "2023-02-10T20:58:56.669Z"
   },
   {
    "duration": 113,
    "start_time": "2023-02-10T20:58:56.904Z"
   },
   {
    "duration": 0,
    "start_time": "2023-02-10T20:58:57.019Z"
   },
   {
    "duration": 0,
    "start_time": "2023-02-10T20:58:57.022Z"
   },
   {
    "duration": 0,
    "start_time": "2023-02-10T20:58:57.023Z"
   },
   {
    "duration": 0,
    "start_time": "2023-02-10T20:58:57.025Z"
   },
   {
    "duration": 1268,
    "start_time": "2023-02-10T20:59:16.125Z"
   },
   {
    "duration": 774,
    "start_time": "2023-02-10T20:59:17.394Z"
   },
   {
    "duration": 129,
    "start_time": "2023-02-10T20:59:18.169Z"
   },
   {
    "duration": 136,
    "start_time": "2023-02-10T20:59:18.300Z"
   },
   {
    "duration": 475,
    "start_time": "2023-02-10T20:59:18.437Z"
   },
   {
    "duration": 145,
    "start_time": "2023-02-10T20:59:18.914Z"
   },
   {
    "duration": 17,
    "start_time": "2023-02-10T20:59:19.061Z"
   },
   {
    "duration": 243,
    "start_time": "2023-02-10T20:59:19.080Z"
   },
   {
    "duration": 18,
    "start_time": "2023-02-10T20:59:19.325Z"
   },
   {
    "duration": 28,
    "start_time": "2023-02-10T20:59:19.346Z"
   },
   {
    "duration": 18,
    "start_time": "2023-02-10T20:59:19.376Z"
   },
   {
    "duration": 23,
    "start_time": "2023-02-10T20:59:19.395Z"
   },
   {
    "duration": 52,
    "start_time": "2023-02-10T20:59:19.419Z"
   },
   {
    "duration": 23,
    "start_time": "2023-02-10T20:59:19.472Z"
   },
   {
    "duration": 22,
    "start_time": "2023-02-10T20:59:19.497Z"
   },
   {
    "duration": 47,
    "start_time": "2023-02-10T20:59:19.521Z"
   },
   {
    "duration": 77,
    "start_time": "2023-02-10T20:59:19.569Z"
   },
   {
    "duration": 22,
    "start_time": "2023-02-10T20:59:19.649Z"
   },
   {
    "duration": 30,
    "start_time": "2023-02-10T20:59:19.673Z"
   },
   {
    "duration": 224,
    "start_time": "2023-02-10T20:59:19.705Z"
   },
   {
    "duration": 201,
    "start_time": "2023-02-10T20:59:19.931Z"
   },
   {
    "duration": 212,
    "start_time": "2023-02-10T20:59:20.134Z"
   },
   {
    "duration": 261,
    "start_time": "2023-02-10T20:59:20.347Z"
   },
   {
    "duration": 19,
    "start_time": "2023-02-10T20:59:20.609Z"
   },
   {
    "duration": 6,
    "start_time": "2023-02-10T20:59:20.630Z"
   },
   {
    "duration": 31,
    "start_time": "2023-02-10T20:59:20.637Z"
   },
   {
    "duration": 4,
    "start_time": "2023-02-10T20:59:20.670Z"
   },
   {
    "duration": 91,
    "start_time": "2023-02-10T20:59:20.677Z"
   },
   {
    "duration": 207,
    "start_time": "2023-02-10T20:59:20.770Z"
   },
   {
    "duration": 75,
    "start_time": "2023-02-10T20:59:20.979Z"
   },
   {
    "duration": 120,
    "start_time": "2023-02-10T20:59:21.056Z"
   },
   {
    "duration": 15165,
    "start_time": "2023-02-10T20:59:21.177Z"
   },
   {
    "duration": 3126,
    "start_time": "2023-02-10T20:59:36.343Z"
   },
   {
    "duration": 15474,
    "start_time": "2023-02-10T20:59:39.470Z"
   },
   {
    "duration": 122,
    "start_time": "2023-02-10T20:59:54.947Z"
   },
   {
    "duration": 48,
    "start_time": "2023-02-10T20:59:59.821Z"
   },
   {
    "duration": 1681,
    "start_time": "2023-02-10T21:00:08.759Z"
   },
   {
    "duration": 853,
    "start_time": "2023-02-10T21:00:10.442Z"
   },
   {
    "duration": 137,
    "start_time": "2023-02-10T21:00:11.296Z"
   },
   {
    "duration": 104,
    "start_time": "2023-02-10T21:00:11.435Z"
   },
   {
    "duration": 460,
    "start_time": "2023-02-10T21:00:11.540Z"
   },
   {
    "duration": 119,
    "start_time": "2023-02-10T21:00:12.002Z"
   },
   {
    "duration": 14,
    "start_time": "2023-02-10T21:00:12.122Z"
   },
   {
    "duration": 250,
    "start_time": "2023-02-10T21:00:12.137Z"
   },
   {
    "duration": 17,
    "start_time": "2023-02-10T21:00:12.389Z"
   },
   {
    "duration": 37,
    "start_time": "2023-02-10T21:00:12.409Z"
   },
   {
    "duration": 38,
    "start_time": "2023-02-10T21:00:12.448Z"
   },
   {
    "duration": 44,
    "start_time": "2023-02-10T21:00:12.487Z"
   },
   {
    "duration": 56,
    "start_time": "2023-02-10T21:00:12.532Z"
   },
   {
    "duration": 18,
    "start_time": "2023-02-10T21:00:12.590Z"
   },
   {
    "duration": 40,
    "start_time": "2023-02-10T21:00:12.609Z"
   },
   {
    "duration": 36,
    "start_time": "2023-02-10T21:00:12.650Z"
   },
   {
    "duration": 72,
    "start_time": "2023-02-10T21:00:12.688Z"
   },
   {
    "duration": 13,
    "start_time": "2023-02-10T21:00:12.762Z"
   },
   {
    "duration": 34,
    "start_time": "2023-02-10T21:00:12.777Z"
   },
   {
    "duration": 216,
    "start_time": "2023-02-10T21:00:12.813Z"
   },
   {
    "duration": 190,
    "start_time": "2023-02-10T21:00:13.030Z"
   },
   {
    "duration": 209,
    "start_time": "2023-02-10T21:00:13.221Z"
   },
   {
    "duration": 272,
    "start_time": "2023-02-10T21:00:13.432Z"
   },
   {
    "duration": 18,
    "start_time": "2023-02-10T21:00:13.706Z"
   },
   {
    "duration": 12,
    "start_time": "2023-02-10T21:00:13.726Z"
   },
   {
    "duration": 45,
    "start_time": "2023-02-10T21:00:13.740Z"
   },
   {
    "duration": 4,
    "start_time": "2023-02-10T21:00:13.787Z"
   },
   {
    "duration": 95,
    "start_time": "2023-02-10T21:00:13.794Z"
   },
   {
    "duration": 216,
    "start_time": "2023-02-10T21:00:13.890Z"
   },
   {
    "duration": 77,
    "start_time": "2023-02-10T21:00:14.108Z"
   },
   {
    "duration": 181,
    "start_time": "2023-02-10T21:00:14.187Z"
   },
   {
    "duration": 14639,
    "start_time": "2023-02-10T21:00:14.370Z"
   },
   {
    "duration": 3059,
    "start_time": "2023-02-10T21:00:29.011Z"
   },
   {
    "duration": 15177,
    "start_time": "2023-02-10T21:00:32.071Z"
   },
   {
    "duration": 1265,
    "start_time": "2023-02-10T21:01:23.017Z"
   },
   {
    "duration": 782,
    "start_time": "2023-02-10T21:01:24.284Z"
   },
   {
    "duration": 136,
    "start_time": "2023-02-10T21:01:25.068Z"
   },
   {
    "duration": 96,
    "start_time": "2023-02-10T21:01:25.206Z"
   },
   {
    "duration": 414,
    "start_time": "2023-02-10T21:01:25.304Z"
   },
   {
    "duration": 114,
    "start_time": "2023-02-10T21:01:25.719Z"
   },
   {
    "duration": 11,
    "start_time": "2023-02-10T21:01:25.835Z"
   },
   {
    "duration": 211,
    "start_time": "2023-02-10T21:01:25.867Z"
   },
   {
    "duration": 17,
    "start_time": "2023-02-10T21:01:26.080Z"
   },
   {
    "duration": 26,
    "start_time": "2023-02-10T21:01:26.099Z"
   },
   {
    "duration": 17,
    "start_time": "2023-02-10T21:01:26.126Z"
   },
   {
    "duration": 26,
    "start_time": "2023-02-10T21:01:26.145Z"
   },
   {
    "duration": 27,
    "start_time": "2023-02-10T21:01:26.173Z"
   },
   {
    "duration": 15,
    "start_time": "2023-02-10T21:01:26.202Z"
   },
   {
    "duration": 19,
    "start_time": "2023-02-10T21:01:26.219Z"
   },
   {
    "duration": 41,
    "start_time": "2023-02-10T21:01:26.240Z"
   },
   {
    "duration": 65,
    "start_time": "2023-02-10T21:01:26.282Z"
   },
   {
    "duration": 20,
    "start_time": "2023-02-10T21:01:26.349Z"
   },
   {
    "duration": 21,
    "start_time": "2023-02-10T21:01:26.370Z"
   },
   {
    "duration": 203,
    "start_time": "2023-02-10T21:01:26.392Z"
   },
   {
    "duration": 189,
    "start_time": "2023-02-10T21:01:26.596Z"
   },
   {
    "duration": 205,
    "start_time": "2023-02-10T21:01:26.787Z"
   },
   {
    "duration": 252,
    "start_time": "2023-02-10T21:01:26.994Z"
   },
   {
    "duration": 24,
    "start_time": "2023-02-10T21:01:27.248Z"
   },
   {
    "duration": 5,
    "start_time": "2023-02-10T21:01:27.274Z"
   },
   {
    "duration": 16,
    "start_time": "2023-02-10T21:01:27.280Z"
   },
   {
    "duration": 4,
    "start_time": "2023-02-10T21:01:27.297Z"
   },
   {
    "duration": 89,
    "start_time": "2023-02-10T21:01:27.303Z"
   },
   {
    "duration": 192,
    "start_time": "2023-02-10T21:01:27.394Z"
   },
   {
    "duration": 29,
    "start_time": "2023-02-10T21:01:27.587Z"
   },
   {
    "duration": 51,
    "start_time": "2023-02-10T21:01:27.618Z"
   },
   {
    "duration": 14713,
    "start_time": "2023-02-10T21:01:27.670Z"
   },
   {
    "duration": 3596,
    "start_time": "2023-02-10T21:01:42.385Z"
   },
   {
    "duration": 15066,
    "start_time": "2023-02-10T21:01:45.982Z"
   },
   {
    "duration": 45,
    "start_time": "2023-02-10T21:02:05.893Z"
   },
   {
    "duration": 1233,
    "start_time": "2023-02-10T21:02:15.434Z"
   },
   {
    "duration": 813,
    "start_time": "2023-02-10T21:02:16.668Z"
   },
   {
    "duration": 127,
    "start_time": "2023-02-10T21:02:17.482Z"
   },
   {
    "duration": 134,
    "start_time": "2023-02-10T21:02:17.611Z"
   },
   {
    "duration": 429,
    "start_time": "2023-02-10T21:02:17.746Z"
   },
   {
    "duration": 118,
    "start_time": "2023-02-10T21:02:18.177Z"
   },
   {
    "duration": 12,
    "start_time": "2023-02-10T21:02:18.297Z"
   },
   {
    "duration": 235,
    "start_time": "2023-02-10T21:02:18.310Z"
   },
   {
    "duration": 17,
    "start_time": "2023-02-10T21:02:18.546Z"
   },
   {
    "duration": 17,
    "start_time": "2023-02-10T21:02:18.568Z"
   },
   {
    "duration": 25,
    "start_time": "2023-02-10T21:02:18.587Z"
   },
   {
    "duration": 17,
    "start_time": "2023-02-10T21:02:18.614Z"
   },
   {
    "duration": 40,
    "start_time": "2023-02-10T21:02:18.633Z"
   },
   {
    "duration": 17,
    "start_time": "2023-02-10T21:02:18.674Z"
   },
   {
    "duration": 22,
    "start_time": "2023-02-10T21:02:18.692Z"
   },
   {
    "duration": 35,
    "start_time": "2023-02-10T21:02:18.715Z"
   },
   {
    "duration": 72,
    "start_time": "2023-02-10T21:02:18.752Z"
   },
   {
    "duration": 5,
    "start_time": "2023-02-10T21:02:18.825Z"
   },
   {
    "duration": 46,
    "start_time": "2023-02-10T21:02:18.832Z"
   },
   {
    "duration": 228,
    "start_time": "2023-02-10T21:02:18.880Z"
   },
   {
    "duration": 187,
    "start_time": "2023-02-10T21:02:19.110Z"
   },
   {
    "duration": 199,
    "start_time": "2023-02-10T21:02:19.299Z"
   },
   {
    "duration": 245,
    "start_time": "2023-02-10T21:02:19.500Z"
   },
   {
    "duration": 27,
    "start_time": "2023-02-10T21:02:19.746Z"
   },
   {
    "duration": 5,
    "start_time": "2023-02-10T21:02:19.774Z"
   },
   {
    "duration": 15,
    "start_time": "2023-02-10T21:02:19.781Z"
   },
   {
    "duration": 4,
    "start_time": "2023-02-10T21:02:19.797Z"
   },
   {
    "duration": 95,
    "start_time": "2023-02-10T21:02:19.804Z"
   },
   {
    "duration": 205,
    "start_time": "2023-02-10T21:02:19.900Z"
   },
   {
    "duration": 29,
    "start_time": "2023-02-10T21:02:20.107Z"
   },
   {
    "duration": 40,
    "start_time": "2023-02-10T21:02:20.137Z"
   },
   {
    "duration": 91,
    "start_time": "2023-02-10T21:02:20.179Z"
   },
   {
    "duration": 14634,
    "start_time": "2023-02-10T21:02:20.271Z"
   },
   {
    "duration": 2964,
    "start_time": "2023-02-10T21:02:34.907Z"
   },
   {
    "duration": 14903,
    "start_time": "2023-02-10T21:02:37.872Z"
   },
   {
    "duration": 180,
    "start_time": "2023-02-10T21:04:24.887Z"
   },
   {
    "duration": 1297,
    "start_time": "2023-02-10T21:04:46.633Z"
   },
   {
    "duration": 1302,
    "start_time": "2023-02-10T21:07:40.773Z"
   },
   {
    "duration": 774,
    "start_time": "2023-02-10T21:07:42.077Z"
   },
   {
    "duration": 130,
    "start_time": "2023-02-10T21:07:42.853Z"
   },
   {
    "duration": 102,
    "start_time": "2023-02-10T21:07:42.985Z"
   },
   {
    "duration": 448,
    "start_time": "2023-02-10T21:07:43.088Z"
   },
   {
    "duration": 130,
    "start_time": "2023-02-10T21:07:43.538Z"
   },
   {
    "duration": 13,
    "start_time": "2023-02-10T21:07:43.669Z"
   },
   {
    "duration": 254,
    "start_time": "2023-02-10T21:07:43.684Z"
   },
   {
    "duration": 29,
    "start_time": "2023-02-10T21:07:43.939Z"
   },
   {
    "duration": 19,
    "start_time": "2023-02-10T21:07:43.971Z"
   },
   {
    "duration": 18,
    "start_time": "2023-02-10T21:07:43.992Z"
   },
   {
    "duration": 20,
    "start_time": "2023-02-10T21:07:44.012Z"
   },
   {
    "duration": 47,
    "start_time": "2023-02-10T21:07:44.034Z"
   },
   {
    "duration": 18,
    "start_time": "2023-02-10T21:07:44.082Z"
   },
   {
    "duration": 21,
    "start_time": "2023-02-10T21:07:44.102Z"
   },
   {
    "duration": 42,
    "start_time": "2023-02-10T21:07:44.125Z"
   },
   {
    "duration": 64,
    "start_time": "2023-02-10T21:07:44.169Z"
   },
   {
    "duration": 4,
    "start_time": "2023-02-10T21:07:44.235Z"
   },
   {
    "duration": 38,
    "start_time": "2023-02-10T21:07:44.241Z"
   },
   {
    "duration": 209,
    "start_time": "2023-02-10T21:07:44.281Z"
   },
   {
    "duration": 189,
    "start_time": "2023-02-10T21:07:44.492Z"
   },
   {
    "duration": 229,
    "start_time": "2023-02-10T21:07:44.683Z"
   },
   {
    "duration": 276,
    "start_time": "2023-02-10T21:07:44.914Z"
   },
   {
    "duration": 18,
    "start_time": "2023-02-10T21:07:45.191Z"
   },
   {
    "duration": 5,
    "start_time": "2023-02-10T21:07:45.210Z"
   },
   {
    "duration": 23,
    "start_time": "2023-02-10T21:07:45.216Z"
   },
   {
    "duration": 4,
    "start_time": "2023-02-10T21:07:45.240Z"
   },
   {
    "duration": 91,
    "start_time": "2023-02-10T21:07:45.267Z"
   },
   {
    "duration": 203,
    "start_time": "2023-02-10T21:07:45.360Z"
   },
   {
    "duration": 32,
    "start_time": "2023-02-10T21:07:45.567Z"
   },
   {
    "duration": 28,
    "start_time": "2023-02-10T21:07:45.601Z"
   },
   {
    "duration": 45,
    "start_time": "2023-02-10T21:07:45.631Z"
   },
   {
    "duration": 221864,
    "start_time": "2023-02-10T21:07:45.772Z"
   },
   {
    "duration": 2840,
    "start_time": "2023-02-10T21:11:27.638Z"
   },
   {
    "duration": 15770,
    "start_time": "2023-02-10T21:11:30.481Z"
   },
   {
    "duration": 75,
    "start_time": "2023-02-10T21:11:46.256Z"
   },
   {
    "duration": 77,
    "start_time": "2023-02-10T21:12:23.616Z"
   },
   {
    "duration": 66,
    "start_time": "2023-02-10T21:12:37.180Z"
   },
   {
    "duration": 1331,
    "start_time": "2023-02-10T21:13:03.378Z"
   },
   {
    "duration": 802,
    "start_time": "2023-02-10T21:13:27.088Z"
   },
   {
    "duration": 36076,
    "start_time": "2023-02-10T21:14:00.533Z"
   },
   {
    "duration": 3065,
    "start_time": "2023-02-10T21:15:25.333Z"
   },
   {
    "duration": 3128,
    "start_time": "2023-02-10T21:15:38.194Z"
   },
   {
    "duration": 65189,
    "start_time": "2023-02-10T21:17:01.219Z"
   },
   {
    "duration": 1337,
    "start_time": "2023-02-10T21:22:21.939Z"
   },
   {
    "duration": 764,
    "start_time": "2023-02-10T21:22:23.278Z"
   },
   {
    "duration": 134,
    "start_time": "2023-02-10T21:22:24.046Z"
   },
   {
    "duration": 94,
    "start_time": "2023-02-10T21:22:24.182Z"
   },
   {
    "duration": 425,
    "start_time": "2023-02-10T21:22:24.277Z"
   },
   {
    "duration": 136,
    "start_time": "2023-02-10T21:22:24.704Z"
   },
   {
    "duration": 27,
    "start_time": "2023-02-10T21:22:24.842Z"
   },
   {
    "duration": 270,
    "start_time": "2023-02-10T21:22:24.871Z"
   },
   {
    "duration": 17,
    "start_time": "2023-02-10T21:22:25.143Z"
   },
   {
    "duration": 18,
    "start_time": "2023-02-10T21:22:25.168Z"
   },
   {
    "duration": 17,
    "start_time": "2023-02-10T21:22:25.188Z"
   },
   {
    "duration": 22,
    "start_time": "2023-02-10T21:22:25.206Z"
   },
   {
    "duration": 43,
    "start_time": "2023-02-10T21:22:25.230Z"
   },
   {
    "duration": 16,
    "start_time": "2023-02-10T21:22:25.275Z"
   },
   {
    "duration": 20,
    "start_time": "2023-02-10T21:22:25.292Z"
   },
   {
    "duration": 30,
    "start_time": "2023-02-10T21:22:25.313Z"
   },
   {
    "duration": 74,
    "start_time": "2023-02-10T21:22:25.346Z"
   },
   {
    "duration": 9,
    "start_time": "2023-02-10T21:22:25.421Z"
   },
   {
    "duration": 29,
    "start_time": "2023-02-10T21:22:25.432Z"
   },
   {
    "duration": 200,
    "start_time": "2023-02-10T21:22:25.463Z"
   },
   {
    "duration": 177,
    "start_time": "2023-02-10T21:22:25.666Z"
   },
   {
    "duration": 191,
    "start_time": "2023-02-10T21:22:25.845Z"
   },
   {
    "duration": 229,
    "start_time": "2023-02-10T21:22:26.038Z"
   },
   {
    "duration": 17,
    "start_time": "2023-02-10T21:22:26.268Z"
   },
   {
    "duration": 5,
    "start_time": "2023-02-10T21:22:26.287Z"
   },
   {
    "duration": 17,
    "start_time": "2023-02-10T21:22:26.294Z"
   },
   {
    "duration": 4,
    "start_time": "2023-02-10T21:22:26.315Z"
   },
   {
    "duration": 123,
    "start_time": "2023-02-10T21:22:26.321Z"
   },
   {
    "duration": 198,
    "start_time": "2023-02-10T21:22:26.446Z"
   },
   {
    "duration": 40,
    "start_time": "2023-02-10T21:22:26.645Z"
   },
   {
    "duration": 30,
    "start_time": "2023-02-10T21:22:26.687Z"
   },
   {
    "duration": 53,
    "start_time": "2023-02-10T21:22:26.719Z"
   },
   {
    "duration": 1373,
    "start_time": "2023-02-10T21:24:12.128Z"
   },
   {
    "duration": 820,
    "start_time": "2023-02-10T21:24:13.503Z"
   },
   {
    "duration": 146,
    "start_time": "2023-02-10T21:24:14.325Z"
   },
   {
    "duration": 101,
    "start_time": "2023-02-10T21:24:14.473Z"
   },
   {
    "duration": 468,
    "start_time": "2023-02-10T21:24:14.575Z"
   },
   {
    "duration": 234,
    "start_time": "2023-02-10T21:24:15.045Z"
   },
   {
    "duration": 13,
    "start_time": "2023-02-10T21:24:15.280Z"
   },
   {
    "duration": 255,
    "start_time": "2023-02-10T21:24:15.294Z"
   },
   {
    "duration": 22,
    "start_time": "2023-02-10T21:24:15.551Z"
   },
   {
    "duration": 23,
    "start_time": "2023-02-10T21:24:15.576Z"
   },
   {
    "duration": 18,
    "start_time": "2023-02-10T21:24:15.601Z"
   },
   {
    "duration": 21,
    "start_time": "2023-02-10T21:24:15.621Z"
   },
   {
    "duration": 46,
    "start_time": "2023-02-10T21:24:15.644Z"
   },
   {
    "duration": 17,
    "start_time": "2023-02-10T21:24:15.692Z"
   },
   {
    "duration": 22,
    "start_time": "2023-02-10T21:24:15.711Z"
   },
   {
    "duration": 47,
    "start_time": "2023-02-10T21:24:15.734Z"
   },
   {
    "duration": 70,
    "start_time": "2023-02-10T21:24:15.783Z"
   },
   {
    "duration": 5,
    "start_time": "2023-02-10T21:24:15.868Z"
   },
   {
    "duration": 33,
    "start_time": "2023-02-10T21:24:15.875Z"
   },
   {
    "duration": 261,
    "start_time": "2023-02-10T21:24:15.910Z"
   },
   {
    "duration": 205,
    "start_time": "2023-02-10T21:24:16.173Z"
   },
   {
    "duration": 210,
    "start_time": "2023-02-10T21:24:16.381Z"
   },
   {
    "duration": 292,
    "start_time": "2023-02-10T21:24:16.593Z"
   },
   {
    "duration": 20,
    "start_time": "2023-02-10T21:24:16.887Z"
   },
   {
    "duration": 7,
    "start_time": "2023-02-10T21:24:16.908Z"
   },
   {
    "duration": 21,
    "start_time": "2023-02-10T21:24:16.917Z"
   },
   {
    "duration": 30,
    "start_time": "2023-02-10T21:24:16.940Z"
   },
   {
    "duration": 114,
    "start_time": "2023-02-10T21:24:16.974Z"
   },
   {
    "duration": 232,
    "start_time": "2023-02-10T21:24:17.090Z"
   },
   {
    "duration": 43,
    "start_time": "2023-02-10T21:24:17.324Z"
   },
   {
    "duration": 30,
    "start_time": "2023-02-10T21:24:17.369Z"
   },
   {
    "duration": 72,
    "start_time": "2023-02-10T21:24:17.401Z"
   },
   {
    "duration": 65632,
    "start_time": "2023-02-10T21:24:17.475Z"
   },
   {
    "duration": 3261,
    "start_time": "2023-02-10T21:25:23.108Z"
   },
   {
    "duration": 15721,
    "start_time": "2023-02-10T21:25:26.370Z"
   },
   {
    "duration": 1330,
    "start_time": "2023-02-10T21:27:50.551Z"
   },
   {
    "duration": 810,
    "start_time": "2023-02-10T21:27:51.883Z"
   },
   {
    "duration": 145,
    "start_time": "2023-02-10T21:27:52.695Z"
   },
   {
    "duration": 101,
    "start_time": "2023-02-10T21:27:52.842Z"
   },
   {
    "duration": 479,
    "start_time": "2023-02-10T21:27:52.944Z"
   },
   {
    "duration": 125,
    "start_time": "2023-02-10T21:27:53.425Z"
   },
   {
    "duration": 20,
    "start_time": "2023-02-10T21:27:53.552Z"
   },
   {
    "duration": 261,
    "start_time": "2023-02-10T21:27:53.574Z"
   },
   {
    "duration": 18,
    "start_time": "2023-02-10T21:27:53.837Z"
   },
   {
    "duration": 19,
    "start_time": "2023-02-10T21:27:53.867Z"
   },
   {
    "duration": 19,
    "start_time": "2023-02-10T21:27:53.888Z"
   },
   {
    "duration": 20,
    "start_time": "2023-02-10T21:27:53.909Z"
   },
   {
    "duration": 53,
    "start_time": "2023-02-10T21:27:53.931Z"
   },
   {
    "duration": 17,
    "start_time": "2023-02-10T21:27:53.986Z"
   },
   {
    "duration": 20,
    "start_time": "2023-02-10T21:27:54.005Z"
   },
   {
    "duration": 42,
    "start_time": "2023-02-10T21:27:54.027Z"
   },
   {
    "duration": 71,
    "start_time": "2023-02-10T21:27:54.071Z"
   },
   {
    "duration": 5,
    "start_time": "2023-02-10T21:27:54.143Z"
   },
   {
    "duration": 38,
    "start_time": "2023-02-10T21:27:54.149Z"
   },
   {
    "duration": 215,
    "start_time": "2023-02-10T21:27:54.188Z"
   },
   {
    "duration": 186,
    "start_time": "2023-02-10T21:27:54.404Z"
   },
   {
    "duration": 202,
    "start_time": "2023-02-10T21:27:54.592Z"
   },
   {
    "duration": 293,
    "start_time": "2023-02-10T21:27:54.796Z"
   },
   {
    "duration": 18,
    "start_time": "2023-02-10T21:27:55.090Z"
   },
   {
    "duration": 4,
    "start_time": "2023-02-10T21:27:55.110Z"
   },
   {
    "duration": 18,
    "start_time": "2023-02-10T21:27:55.116Z"
   },
   {
    "duration": 4,
    "start_time": "2023-02-10T21:27:55.136Z"
   },
   {
    "duration": 104,
    "start_time": "2023-02-10T21:27:55.166Z"
   },
   {
    "duration": 212,
    "start_time": "2023-02-10T21:27:55.271Z"
   },
   {
    "duration": 33,
    "start_time": "2023-02-10T21:27:55.485Z"
   },
   {
    "duration": 50,
    "start_time": "2023-02-10T21:27:55.519Z"
   },
   {
    "duration": 98,
    "start_time": "2023-02-10T21:27:55.571Z"
   },
   {
    "duration": 63505,
    "start_time": "2023-02-10T21:27:55.671Z"
   },
   {
    "duration": 2785,
    "start_time": "2023-02-10T21:29:13.595Z"
   },
   {
    "duration": 14742,
    "start_time": "2023-02-10T21:29:16.381Z"
   },
   {
    "duration": 1253,
    "start_time": "2023-02-10T21:29:40.615Z"
   },
   {
    "duration": 779,
    "start_time": "2023-02-10T21:29:41.870Z"
   },
   {
    "duration": 133,
    "start_time": "2023-02-10T21:29:42.650Z"
   },
   {
    "duration": 91,
    "start_time": "2023-02-10T21:29:42.785Z"
   },
   {
    "duration": 438,
    "start_time": "2023-02-10T21:29:42.878Z"
   },
   {
    "duration": 136,
    "start_time": "2023-02-10T21:29:43.318Z"
   },
   {
    "duration": 20,
    "start_time": "2023-02-10T21:29:43.456Z"
   },
   {
    "duration": 258,
    "start_time": "2023-02-10T21:29:43.478Z"
   },
   {
    "duration": 20,
    "start_time": "2023-02-10T21:29:43.738Z"
   },
   {
    "duration": 38,
    "start_time": "2023-02-10T21:29:43.759Z"
   },
   {
    "duration": 20,
    "start_time": "2023-02-10T21:29:43.799Z"
   },
   {
    "duration": 20,
    "start_time": "2023-02-10T21:29:43.820Z"
   },
   {
    "duration": 40,
    "start_time": "2023-02-10T21:29:43.842Z"
   },
   {
    "duration": 17,
    "start_time": "2023-02-10T21:29:43.885Z"
   },
   {
    "duration": 22,
    "start_time": "2023-02-10T21:29:43.904Z"
   },
   {
    "duration": 42,
    "start_time": "2023-02-10T21:29:43.928Z"
   },
   {
    "duration": 68,
    "start_time": "2023-02-10T21:29:43.972Z"
   },
   {
    "duration": 9,
    "start_time": "2023-02-10T21:29:44.042Z"
   },
   {
    "duration": 22,
    "start_time": "2023-02-10T21:29:44.067Z"
   },
   {
    "duration": 212,
    "start_time": "2023-02-10T21:29:44.090Z"
   },
   {
    "duration": 182,
    "start_time": "2023-02-10T21:29:44.304Z"
   },
   {
    "duration": 196,
    "start_time": "2023-02-10T21:29:44.488Z"
   },
   {
    "duration": 295,
    "start_time": "2023-02-10T21:29:44.686Z"
   },
   {
    "duration": 20,
    "start_time": "2023-02-10T21:29:44.983Z"
   },
   {
    "duration": 6,
    "start_time": "2023-02-10T21:29:45.005Z"
   },
   {
    "duration": 44,
    "start_time": "2023-02-10T21:29:45.013Z"
   },
   {
    "duration": 9,
    "start_time": "2023-02-10T21:29:45.059Z"
   },
   {
    "duration": 72,
    "start_time": "2023-02-10T21:29:45.069Z"
   },
   {
    "duration": 201,
    "start_time": "2023-02-10T21:29:45.142Z"
   },
   {
    "duration": 34,
    "start_time": "2023-02-10T21:29:45.345Z"
   },
   {
    "duration": 27,
    "start_time": "2023-02-10T21:29:45.380Z"
   },
   {
    "duration": 62,
    "start_time": "2023-02-10T21:29:45.408Z"
   },
   {
    "duration": 62759,
    "start_time": "2023-02-10T21:29:45.472Z"
   },
   {
    "duration": 14248,
    "start_time": "2023-02-10T21:30:48.233Z"
   },
   {
    "duration": 4,
    "start_time": "2023-02-10T21:31:02.483Z"
   },
   {
    "duration": 0,
    "start_time": "2023-02-10T21:31:02.489Z"
   },
   {
    "duration": 0,
    "start_time": "2023-02-10T21:31:02.490Z"
   },
   {
    "duration": 44,
    "start_time": "2023-02-10T21:31:13.126Z"
   },
   {
    "duration": 1973,
    "start_time": "2023-02-10T21:36:31.211Z"
   },
   {
    "duration": 3,
    "start_time": "2023-02-10T21:36:40.368Z"
   },
   {
    "duration": 1833,
    "start_time": "2023-02-10T21:36:51.137Z"
   },
   {
    "duration": 211,
    "start_time": "2023-02-10T21:36:54.458Z"
   },
   {
    "duration": 1374,
    "start_time": "2023-02-10T21:42:57.762Z"
   },
   {
    "duration": 785,
    "start_time": "2023-02-10T21:42:59.138Z"
   },
   {
    "duration": 125,
    "start_time": "2023-02-10T21:42:59.924Z"
   },
   {
    "duration": 134,
    "start_time": "2023-02-10T21:43:00.050Z"
   },
   {
    "duration": 478,
    "start_time": "2023-02-10T21:43:00.186Z"
   },
   {
    "duration": 126,
    "start_time": "2023-02-10T21:43:00.667Z"
   },
   {
    "duration": 60,
    "start_time": "2023-02-10T21:43:00.794Z"
   },
   {
    "duration": 261,
    "start_time": "2023-02-10T21:43:00.856Z"
   },
   {
    "duration": 18,
    "start_time": "2023-02-10T21:43:01.120Z"
   },
   {
    "duration": 45,
    "start_time": "2023-02-10T21:43:01.141Z"
   },
   {
    "duration": 27,
    "start_time": "2023-02-10T21:43:01.188Z"
   },
   {
    "duration": 62,
    "start_time": "2023-02-10T21:43:01.217Z"
   },
   {
    "duration": 43,
    "start_time": "2023-02-10T21:43:01.280Z"
   },
   {
    "duration": 18,
    "start_time": "2023-02-10T21:43:01.325Z"
   },
   {
    "duration": 27,
    "start_time": "2023-02-10T21:43:01.345Z"
   },
   {
    "duration": 34,
    "start_time": "2023-02-10T21:43:01.374Z"
   },
   {
    "duration": 73,
    "start_time": "2023-02-10T21:43:01.410Z"
   },
   {
    "duration": 12,
    "start_time": "2023-02-10T21:43:01.485Z"
   },
   {
    "duration": 40,
    "start_time": "2023-02-10T21:43:01.498Z"
   },
   {
    "duration": 207,
    "start_time": "2023-02-10T21:43:01.540Z"
   },
   {
    "duration": 198,
    "start_time": "2023-02-10T21:43:01.749Z"
   },
   {
    "duration": 218,
    "start_time": "2023-02-10T21:43:01.949Z"
   },
   {
    "duration": 263,
    "start_time": "2023-02-10T21:43:02.169Z"
   },
   {
    "duration": 21,
    "start_time": "2023-02-10T21:43:02.433Z"
   },
   {
    "duration": 14,
    "start_time": "2023-02-10T21:43:02.456Z"
   },
   {
    "duration": 19,
    "start_time": "2023-02-10T21:43:02.471Z"
   },
   {
    "duration": 4,
    "start_time": "2023-02-10T21:43:02.492Z"
   },
   {
    "duration": 104,
    "start_time": "2023-02-10T21:43:02.499Z"
   },
   {
    "duration": 231,
    "start_time": "2023-02-10T21:43:02.605Z"
   },
   {
    "duration": 39,
    "start_time": "2023-02-10T21:43:02.838Z"
   },
   {
    "duration": 35,
    "start_time": "2023-02-10T21:43:02.878Z"
   },
   {
    "duration": 152,
    "start_time": "2023-02-10T21:43:02.915Z"
   },
   {
    "duration": 64936,
    "start_time": "2023-02-10T21:43:03.069Z"
   },
   {
    "duration": 14384,
    "start_time": "2023-02-10T21:44:08.007Z"
   },
   {
    "duration": 40,
    "start_time": "2023-02-10T21:44:22.392Z"
   },
   {
    "duration": 1948,
    "start_time": "2023-02-10T21:44:22.434Z"
   },
   {
    "duration": 206,
    "start_time": "2023-02-10T21:44:24.468Z"
   },
   {
    "duration": 15018,
    "start_time": "2023-02-10T21:44:24.675Z"
   },
   {
    "duration": 15026,
    "start_time": "2023-02-10T21:46:38.952Z"
   },
   {
    "duration": 37,
    "start_time": "2023-02-10T21:47:02.395Z"
   },
   {
    "duration": 14473,
    "start_time": "2023-02-10T21:47:24.164Z"
   },
   {
    "duration": 42,
    "start_time": "2023-02-10T21:47:44.481Z"
   },
   {
    "duration": 1363,
    "start_time": "2023-02-10T23:08:40.549Z"
   },
   {
    "duration": 791,
    "start_time": "2023-02-10T23:08:41.914Z"
   },
   {
    "duration": 129,
    "start_time": "2023-02-10T23:08:42.707Z"
   },
   {
    "duration": 96,
    "start_time": "2023-02-10T23:08:42.838Z"
   },
   {
    "duration": 445,
    "start_time": "2023-02-10T23:08:42.936Z"
   },
   {
    "duration": 118,
    "start_time": "2023-02-10T23:08:43.383Z"
   },
   {
    "duration": 12,
    "start_time": "2023-02-10T23:08:43.502Z"
   },
   {
    "duration": 253,
    "start_time": "2023-02-10T23:08:43.516Z"
   },
   {
    "duration": 17,
    "start_time": "2023-02-10T23:08:43.770Z"
   },
   {
    "duration": 21,
    "start_time": "2023-02-10T23:08:43.790Z"
   },
   {
    "duration": 18,
    "start_time": "2023-02-10T23:08:43.812Z"
   },
   {
    "duration": 38,
    "start_time": "2023-02-10T23:08:43.831Z"
   },
   {
    "duration": 27,
    "start_time": "2023-02-10T23:08:43.870Z"
   },
   {
    "duration": 17,
    "start_time": "2023-02-10T23:08:43.899Z"
   },
   {
    "duration": 21,
    "start_time": "2023-02-10T23:08:43.917Z"
   },
   {
    "duration": 50,
    "start_time": "2023-02-10T23:08:43.940Z"
   },
   {
    "duration": 76,
    "start_time": "2023-02-10T23:08:43.992Z"
   },
   {
    "duration": 4,
    "start_time": "2023-02-10T23:08:44.069Z"
   },
   {
    "duration": 23,
    "start_time": "2023-02-10T23:08:44.075Z"
   },
   {
    "duration": 225,
    "start_time": "2023-02-10T23:08:44.100Z"
   },
   {
    "duration": 182,
    "start_time": "2023-02-10T23:08:44.326Z"
   },
   {
    "duration": 200,
    "start_time": "2023-02-10T23:08:44.510Z"
   },
   {
    "duration": 289,
    "start_time": "2023-02-10T23:08:44.714Z"
   },
   {
    "duration": 19,
    "start_time": "2023-02-10T23:08:45.005Z"
   },
   {
    "duration": 11,
    "start_time": "2023-02-10T23:08:45.026Z"
   },
   {
    "duration": 31,
    "start_time": "2023-02-10T23:08:45.039Z"
   },
   {
    "duration": 5,
    "start_time": "2023-02-10T23:08:45.073Z"
   },
   {
    "duration": 8,
    "start_time": "2023-02-10T23:08:45.080Z"
   },
   {
    "duration": 154,
    "start_time": "2023-02-10T23:08:45.090Z"
   },
   {
    "duration": 0,
    "start_time": "2023-02-10T23:08:45.245Z"
   },
   {
    "duration": 0,
    "start_time": "2023-02-10T23:08:45.247Z"
   },
   {
    "duration": 0,
    "start_time": "2023-02-10T23:08:45.248Z"
   },
   {
    "duration": 0,
    "start_time": "2023-02-10T23:08:45.249Z"
   },
   {
    "duration": 0,
    "start_time": "2023-02-10T23:08:45.250Z"
   },
   {
    "duration": 0,
    "start_time": "2023-02-10T23:08:45.251Z"
   },
   {
    "duration": 0,
    "start_time": "2023-02-10T23:08:45.252Z"
   },
   {
    "duration": 0,
    "start_time": "2023-02-10T23:08:45.267Z"
   },
   {
    "duration": 0,
    "start_time": "2023-02-10T23:08:45.268Z"
   },
   {
    "duration": 1354,
    "start_time": "2023-02-10T23:09:29.051Z"
   },
   {
    "duration": 838,
    "start_time": "2023-02-10T23:09:30.407Z"
   },
   {
    "duration": 133,
    "start_time": "2023-02-10T23:09:31.247Z"
   },
   {
    "duration": 103,
    "start_time": "2023-02-10T23:09:31.382Z"
   },
   {
    "duration": 459,
    "start_time": "2023-02-10T23:09:31.486Z"
   },
   {
    "duration": 129,
    "start_time": "2023-02-10T23:09:31.947Z"
   },
   {
    "duration": 18,
    "start_time": "2023-02-10T23:09:32.078Z"
   },
   {
    "duration": 241,
    "start_time": "2023-02-10T23:09:32.098Z"
   },
   {
    "duration": 19,
    "start_time": "2023-02-10T23:09:32.341Z"
   },
   {
    "duration": 23,
    "start_time": "2023-02-10T23:09:32.368Z"
   },
   {
    "duration": 18,
    "start_time": "2023-02-10T23:09:32.393Z"
   },
   {
    "duration": 20,
    "start_time": "2023-02-10T23:09:32.413Z"
   },
   {
    "duration": 50,
    "start_time": "2023-02-10T23:09:32.435Z"
   },
   {
    "duration": 18,
    "start_time": "2023-02-10T23:09:32.487Z"
   },
   {
    "duration": 22,
    "start_time": "2023-02-10T23:09:32.507Z"
   },
   {
    "duration": 53,
    "start_time": "2023-02-10T23:09:32.530Z"
   },
   {
    "duration": 74,
    "start_time": "2023-02-10T23:09:32.584Z"
   },
   {
    "duration": 6,
    "start_time": "2023-02-10T23:09:32.668Z"
   },
   {
    "duration": 32,
    "start_time": "2023-02-10T23:09:32.675Z"
   },
   {
    "duration": 247,
    "start_time": "2023-02-10T23:09:32.709Z"
   },
   {
    "duration": 201,
    "start_time": "2023-02-10T23:09:32.958Z"
   },
   {
    "duration": 221,
    "start_time": "2023-02-10T23:09:33.161Z"
   },
   {
    "duration": 281,
    "start_time": "2023-02-10T23:09:33.384Z"
   },
   {
    "duration": 21,
    "start_time": "2023-02-10T23:09:33.667Z"
   },
   {
    "duration": 7,
    "start_time": "2023-02-10T23:09:33.690Z"
   },
   {
    "duration": 34,
    "start_time": "2023-02-10T23:09:33.699Z"
   },
   {
    "duration": 6,
    "start_time": "2023-02-10T23:09:33.735Z"
   },
   {
    "duration": 27,
    "start_time": "2023-02-10T23:09:33.745Z"
   },
   {
    "duration": 200,
    "start_time": "2023-02-10T23:09:33.774Z"
   },
   {
    "duration": 0,
    "start_time": "2023-02-10T23:09:33.977Z"
   },
   {
    "duration": 0,
    "start_time": "2023-02-10T23:09:33.978Z"
   },
   {
    "duration": 0,
    "start_time": "2023-02-10T23:09:33.979Z"
   },
   {
    "duration": 0,
    "start_time": "2023-02-10T23:09:33.981Z"
   },
   {
    "duration": 0,
    "start_time": "2023-02-10T23:09:33.983Z"
   },
   {
    "duration": 0,
    "start_time": "2023-02-10T23:09:33.984Z"
   },
   {
    "duration": 0,
    "start_time": "2023-02-10T23:09:33.985Z"
   },
   {
    "duration": 0,
    "start_time": "2023-02-10T23:09:33.986Z"
   },
   {
    "duration": 0,
    "start_time": "2023-02-10T23:09:33.988Z"
   },
   {
    "duration": 72,
    "start_time": "2023-02-10T23:10:46.491Z"
   },
   {
    "duration": 1299,
    "start_time": "2023-02-10T23:11:29.882Z"
   },
   {
    "duration": 763,
    "start_time": "2023-02-10T23:11:31.183Z"
   },
   {
    "duration": 131,
    "start_time": "2023-02-10T23:11:31.948Z"
   },
   {
    "duration": 97,
    "start_time": "2023-02-10T23:11:32.081Z"
   },
   {
    "duration": 435,
    "start_time": "2023-02-10T23:11:32.180Z"
   },
   {
    "duration": 123,
    "start_time": "2023-02-10T23:11:32.616Z"
   },
   {
    "duration": 12,
    "start_time": "2023-02-10T23:11:32.741Z"
   },
   {
    "duration": 204,
    "start_time": "2023-02-10T23:11:32.766Z"
   },
   {
    "duration": 17,
    "start_time": "2023-02-10T23:11:32.971Z"
   },
   {
    "duration": 20,
    "start_time": "2023-02-10T23:11:32.991Z"
   },
   {
    "duration": 23,
    "start_time": "2023-02-10T23:11:33.012Z"
   },
   {
    "duration": 37,
    "start_time": "2023-02-10T23:11:33.037Z"
   },
   {
    "duration": 29,
    "start_time": "2023-02-10T23:11:33.076Z"
   },
   {
    "duration": 17,
    "start_time": "2023-02-10T23:11:33.107Z"
   },
   {
    "duration": 24,
    "start_time": "2023-02-10T23:11:33.125Z"
   },
   {
    "duration": 28,
    "start_time": "2023-02-10T23:11:33.167Z"
   },
   {
    "duration": 82,
    "start_time": "2023-02-10T23:11:33.197Z"
   },
   {
    "duration": 6,
    "start_time": "2023-02-10T23:11:33.281Z"
   },
   {
    "duration": 45,
    "start_time": "2023-02-10T23:11:33.289Z"
   },
   {
    "duration": 241,
    "start_time": "2023-02-10T23:11:33.336Z"
   },
   {
    "duration": 193,
    "start_time": "2023-02-10T23:11:33.579Z"
   },
   {
    "duration": 228,
    "start_time": "2023-02-10T23:11:33.774Z"
   },
   {
    "duration": 257,
    "start_time": "2023-02-10T23:11:34.004Z"
   },
   {
    "duration": 23,
    "start_time": "2023-02-10T23:11:34.266Z"
   },
   {
    "duration": 7,
    "start_time": "2023-02-10T23:11:34.291Z"
   },
   {
    "duration": 19,
    "start_time": "2023-02-10T23:11:34.299Z"
   },
   {
    "duration": 6,
    "start_time": "2023-02-10T23:11:34.320Z"
   },
   {
    "duration": 6,
    "start_time": "2023-02-10T23:11:34.329Z"
   },
   {
    "duration": 174,
    "start_time": "2023-02-10T23:11:34.366Z"
   },
   {
    "duration": 0,
    "start_time": "2023-02-10T23:11:34.542Z"
   },
   {
    "duration": 0,
    "start_time": "2023-02-10T23:11:34.543Z"
   },
   {
    "duration": 0,
    "start_time": "2023-02-10T23:11:34.544Z"
   },
   {
    "duration": 0,
    "start_time": "2023-02-10T23:11:34.545Z"
   },
   {
    "duration": 0,
    "start_time": "2023-02-10T23:11:34.546Z"
   },
   {
    "duration": 0,
    "start_time": "2023-02-10T23:11:34.547Z"
   },
   {
    "duration": 0,
    "start_time": "2023-02-10T23:11:34.548Z"
   },
   {
    "duration": 0,
    "start_time": "2023-02-10T23:11:34.549Z"
   },
   {
    "duration": 0,
    "start_time": "2023-02-10T23:11:34.550Z"
   },
   {
    "duration": 73,
    "start_time": "2023-02-10T23:12:35.046Z"
   },
   {
    "duration": 79,
    "start_time": "2023-02-10T23:13:00.404Z"
   },
   {
    "duration": 64,
    "start_time": "2023-02-10T23:13:18.910Z"
   },
   {
    "duration": 66,
    "start_time": "2023-02-10T23:17:39.989Z"
   },
   {
    "duration": 1330,
    "start_time": "2023-02-10T23:17:56.249Z"
   },
   {
    "duration": 786,
    "start_time": "2023-02-10T23:17:57.581Z"
   },
   {
    "duration": 124,
    "start_time": "2023-02-10T23:17:58.371Z"
   },
   {
    "duration": 94,
    "start_time": "2023-02-10T23:17:58.497Z"
   },
   {
    "duration": 445,
    "start_time": "2023-02-10T23:17:58.593Z"
   },
   {
    "duration": 133,
    "start_time": "2023-02-10T23:17:59.040Z"
   },
   {
    "duration": 13,
    "start_time": "2023-02-10T23:17:59.174Z"
   },
   {
    "duration": 225,
    "start_time": "2023-02-10T23:17:59.188Z"
   },
   {
    "duration": 17,
    "start_time": "2023-02-10T23:17:59.415Z"
   },
   {
    "duration": 22,
    "start_time": "2023-02-10T23:17:59.433Z"
   },
   {
    "duration": 25,
    "start_time": "2023-02-10T23:17:59.456Z"
   },
   {
    "duration": 18,
    "start_time": "2023-02-10T23:17:59.483Z"
   },
   {
    "duration": 30,
    "start_time": "2023-02-10T23:17:59.503Z"
   },
   {
    "duration": 16,
    "start_time": "2023-02-10T23:17:59.534Z"
   },
   {
    "duration": 32,
    "start_time": "2023-02-10T23:17:59.552Z"
   },
   {
    "duration": 28,
    "start_time": "2023-02-10T23:17:59.586Z"
   },
   {
    "duration": 72,
    "start_time": "2023-02-10T23:17:59.615Z"
   },
   {
    "duration": 4,
    "start_time": "2023-02-10T23:17:59.689Z"
   },
   {
    "duration": 23,
    "start_time": "2023-02-10T23:17:59.695Z"
   },
   {
    "duration": 221,
    "start_time": "2023-02-10T23:17:59.720Z"
   },
   {
    "duration": 182,
    "start_time": "2023-02-10T23:17:59.943Z"
   },
   {
    "duration": 204,
    "start_time": "2023-02-10T23:18:00.126Z"
   },
   {
    "duration": 247,
    "start_time": "2023-02-10T23:18:00.331Z"
   },
   {
    "duration": 18,
    "start_time": "2023-02-10T23:18:00.580Z"
   },
   {
    "duration": 21,
    "start_time": "2023-02-10T23:18:00.600Z"
   },
   {
    "duration": 51,
    "start_time": "2023-02-10T23:18:00.623Z"
   },
   {
    "duration": 19,
    "start_time": "2023-02-10T23:18:00.678Z"
   },
   {
    "duration": 33,
    "start_time": "2023-02-10T23:18:00.699Z"
   },
   {
    "duration": 196,
    "start_time": "2023-02-10T23:18:00.735Z"
   },
   {
    "duration": 0,
    "start_time": "2023-02-10T23:18:00.932Z"
   },
   {
    "duration": 0,
    "start_time": "2023-02-10T23:18:00.933Z"
   },
   {
    "duration": 0,
    "start_time": "2023-02-10T23:18:00.935Z"
   },
   {
    "duration": 0,
    "start_time": "2023-02-10T23:18:00.936Z"
   },
   {
    "duration": 0,
    "start_time": "2023-02-10T23:18:00.936Z"
   },
   {
    "duration": 0,
    "start_time": "2023-02-10T23:18:00.937Z"
   },
   {
    "duration": 0,
    "start_time": "2023-02-10T23:18:00.938Z"
   },
   {
    "duration": 0,
    "start_time": "2023-02-10T23:18:00.939Z"
   },
   {
    "duration": 0,
    "start_time": "2023-02-10T23:18:00.940Z"
   },
   {
    "duration": 63,
    "start_time": "2023-02-10T23:18:16.313Z"
   },
   {
    "duration": 59,
    "start_time": "2023-02-10T23:18:35.204Z"
   },
   {
    "duration": 1364,
    "start_time": "2023-02-10T23:22:37.956Z"
   },
   {
    "duration": 802,
    "start_time": "2023-02-10T23:22:39.322Z"
   },
   {
    "duration": 135,
    "start_time": "2023-02-10T23:22:40.125Z"
   },
   {
    "duration": 89,
    "start_time": "2023-02-10T23:22:40.266Z"
   },
   {
    "duration": 473,
    "start_time": "2023-02-10T23:22:40.357Z"
   },
   {
    "duration": 127,
    "start_time": "2023-02-10T23:22:40.832Z"
   },
   {
    "duration": 13,
    "start_time": "2023-02-10T23:22:40.966Z"
   },
   {
    "duration": 239,
    "start_time": "2023-02-10T23:22:40.981Z"
   },
   {
    "duration": 21,
    "start_time": "2023-02-10T23:22:41.221Z"
   },
   {
    "duration": 34,
    "start_time": "2023-02-10T23:22:41.244Z"
   },
   {
    "duration": 19,
    "start_time": "2023-02-10T23:22:41.279Z"
   },
   {
    "duration": 20,
    "start_time": "2023-02-10T23:22:41.299Z"
   },
   {
    "duration": 30,
    "start_time": "2023-02-10T23:22:41.320Z"
   },
   {
    "duration": 30,
    "start_time": "2023-02-10T23:22:41.352Z"
   },
   {
    "duration": 20,
    "start_time": "2023-02-10T23:22:41.383Z"
   },
   {
    "duration": 31,
    "start_time": "2023-02-10T23:22:41.405Z"
   },
   {
    "duration": 88,
    "start_time": "2023-02-10T23:22:41.438Z"
   },
   {
    "duration": 4,
    "start_time": "2023-02-10T23:22:41.527Z"
   },
   {
    "duration": 42,
    "start_time": "2023-02-10T23:22:41.533Z"
   },
   {
    "duration": 203,
    "start_time": "2023-02-10T23:22:41.576Z"
   },
   {
    "duration": 186,
    "start_time": "2023-02-10T23:22:41.781Z"
   },
   {
    "duration": 205,
    "start_time": "2023-02-10T23:22:41.968Z"
   },
   {
    "duration": 241,
    "start_time": "2023-02-10T23:22:42.175Z"
   },
   {
    "duration": 19,
    "start_time": "2023-02-10T23:22:42.417Z"
   },
   {
    "duration": 5,
    "start_time": "2023-02-10T23:22:42.437Z"
   },
   {
    "duration": 34,
    "start_time": "2023-02-10T23:22:42.443Z"
   },
   {
    "duration": 5,
    "start_time": "2023-02-10T23:22:42.478Z"
   },
   {
    "duration": 6,
    "start_time": "2023-02-10T23:22:42.485Z"
   },
   {
    "duration": 43,
    "start_time": "2023-02-10T23:22:42.492Z"
   },
   {
    "duration": 0,
    "start_time": "2023-02-10T23:22:42.537Z"
   },
   {
    "duration": 0,
    "start_time": "2023-02-10T23:22:42.539Z"
   },
   {
    "duration": 0,
    "start_time": "2023-02-10T23:22:42.540Z"
   },
   {
    "duration": 0,
    "start_time": "2023-02-10T23:22:42.541Z"
   },
   {
    "duration": 0,
    "start_time": "2023-02-10T23:22:42.543Z"
   },
   {
    "duration": 0,
    "start_time": "2023-02-10T23:22:42.544Z"
   },
   {
    "duration": 0,
    "start_time": "2023-02-10T23:22:42.545Z"
   },
   {
    "duration": 0,
    "start_time": "2023-02-10T23:22:42.546Z"
   },
   {
    "duration": 0,
    "start_time": "2023-02-10T23:22:42.548Z"
   },
   {
    "duration": 170,
    "start_time": "2023-02-10T23:23:06.517Z"
   },
   {
    "duration": 84,
    "start_time": "2023-02-10T23:24:58.021Z"
   },
   {
    "duration": 772,
    "start_time": "2023-02-10T23:25:35.821Z"
   },
   {
    "duration": 45607,
    "start_time": "2023-02-10T23:27:48.137Z"
   },
   {
    "duration": 51275,
    "start_time": "2023-02-10T23:28:59.149Z"
   },
   {
    "duration": 14756,
    "start_time": "2023-02-10T23:31:14.514Z"
   },
   {
    "duration": 237,
    "start_time": "2023-02-10T23:31:32.834Z"
   },
   {
    "duration": 25,
    "start_time": "2023-02-10T23:36:12.636Z"
   },
   {
    "duration": 215,
    "start_time": "2023-02-10T23:36:37.679Z"
   },
   {
    "duration": 225,
    "start_time": "2023-02-10T23:37:10.123Z"
   },
   {
    "duration": 213,
    "start_time": "2023-02-10T23:37:47.413Z"
   },
   {
    "duration": 215,
    "start_time": "2023-02-10T23:38:25.412Z"
   },
   {
    "duration": 237,
    "start_time": "2023-02-10T23:39:18.876Z"
   },
   {
    "duration": 230,
    "start_time": "2023-02-10T23:39:25.798Z"
   },
   {
    "duration": 218,
    "start_time": "2023-02-10T23:40:22.945Z"
   },
   {
    "duration": 218,
    "start_time": "2023-02-10T23:41:04.117Z"
   },
   {
    "duration": 1270,
    "start_time": "2023-02-10T23:43:58.797Z"
   },
   {
    "duration": 783,
    "start_time": "2023-02-10T23:44:00.069Z"
   },
   {
    "duration": 133,
    "start_time": "2023-02-10T23:44:00.853Z"
   },
   {
    "duration": 98,
    "start_time": "2023-02-10T23:44:00.988Z"
   },
   {
    "duration": 454,
    "start_time": "2023-02-10T23:44:01.088Z"
   },
   {
    "duration": 116,
    "start_time": "2023-02-10T23:44:01.543Z"
   },
   {
    "duration": 19,
    "start_time": "2023-02-10T23:44:01.660Z"
   },
   {
    "duration": 268,
    "start_time": "2023-02-10T23:44:01.681Z"
   },
   {
    "duration": 19,
    "start_time": "2023-02-10T23:44:01.950Z"
   },
   {
    "duration": 39,
    "start_time": "2023-02-10T23:44:01.973Z"
   },
   {
    "duration": 31,
    "start_time": "2023-02-10T23:44:02.014Z"
   },
   {
    "duration": 51,
    "start_time": "2023-02-10T23:44:02.046Z"
   },
   {
    "duration": 38,
    "start_time": "2023-02-10T23:44:02.098Z"
   },
   {
    "duration": 17,
    "start_time": "2023-02-10T23:44:02.138Z"
   },
   {
    "duration": 26,
    "start_time": "2023-02-10T23:44:02.156Z"
   },
   {
    "duration": 33,
    "start_time": "2023-02-10T23:44:02.184Z"
   },
   {
    "duration": 75,
    "start_time": "2023-02-10T23:44:02.218Z"
   },
   {
    "duration": 4,
    "start_time": "2023-02-10T23:44:02.295Z"
   },
   {
    "duration": 33,
    "start_time": "2023-02-10T23:44:02.300Z"
   },
   {
    "duration": 237,
    "start_time": "2023-02-10T23:44:02.335Z"
   },
   {
    "duration": 213,
    "start_time": "2023-02-10T23:44:02.573Z"
   },
   {
    "duration": 221,
    "start_time": "2023-02-10T23:44:02.788Z"
   },
   {
    "duration": 283,
    "start_time": "2023-02-10T23:44:03.011Z"
   },
   {
    "duration": 20,
    "start_time": "2023-02-10T23:44:03.296Z"
   },
   {
    "duration": 6,
    "start_time": "2023-02-10T23:44:03.317Z"
   },
   {
    "duration": 26,
    "start_time": "2023-02-10T23:44:03.324Z"
   },
   {
    "duration": 18,
    "start_time": "2023-02-10T23:44:03.351Z"
   },
   {
    "duration": 5,
    "start_time": "2023-02-10T23:44:03.372Z"
   },
   {
    "duration": 52,
    "start_time": "2023-02-10T23:44:03.378Z"
   },
   {
    "duration": 50596,
    "start_time": "2023-02-10T23:44:03.432Z"
   },
   {
    "duration": 12937,
    "start_time": "2023-02-10T23:44:54.030Z"
   },
   {
    "duration": 202,
    "start_time": "2023-02-10T23:45:06.969Z"
   },
   {
    "duration": 405,
    "start_time": "2023-02-10T23:45:07.173Z"
   },
   {
    "duration": 0,
    "start_time": "2023-02-10T23:45:07.579Z"
   },
   {
    "duration": 0,
    "start_time": "2023-02-10T23:45:07.580Z"
   },
   {
    "duration": 0,
    "start_time": "2023-02-10T23:45:07.582Z"
   },
   {
    "duration": 0,
    "start_time": "2023-02-10T23:45:07.583Z"
   },
   {
    "duration": 0,
    "start_time": "2023-02-10T23:45:07.583Z"
   },
   {
    "duration": 0,
    "start_time": "2023-02-10T23:45:07.584Z"
   },
   {
    "duration": 0,
    "start_time": "2023-02-10T23:45:07.585Z"
   },
   {
    "duration": 419,
    "start_time": "2023-02-10T23:47:34.701Z"
   },
   {
    "duration": 393,
    "start_time": "2023-02-10T23:48:17.151Z"
   },
   {
    "duration": 78,
    "start_time": "2023-02-10T23:48:58.248Z"
   },
   {
    "duration": 400,
    "start_time": "2023-02-10T23:50:23.619Z"
   },
   {
    "duration": 1645,
    "start_time": "2023-02-10T23:50:25.670Z"
   },
   {
    "duration": 1762,
    "start_time": "2023-02-10T23:50:29.511Z"
   },
   {
    "duration": 22,
    "start_time": "2023-02-10T23:51:55.441Z"
   },
   {
    "duration": 506,
    "start_time": "2023-02-10T23:52:44.381Z"
   },
   {
    "duration": 1844,
    "start_time": "2023-02-10T23:53:03.152Z"
   },
   {
    "duration": 527,
    "start_time": "2023-02-10T23:53:50.485Z"
   },
   {
    "duration": 518,
    "start_time": "2023-02-10T23:54:05.816Z"
   },
   {
    "duration": 427,
    "start_time": "2023-02-10T23:54:38.321Z"
   },
   {
    "duration": 1629,
    "start_time": "2023-02-10T23:54:46.031Z"
   },
   {
    "duration": 4,
    "start_time": "2023-02-10T23:55:46.932Z"
   },
   {
    "duration": 353,
    "start_time": "2023-02-10T23:56:10.487Z"
   },
   {
    "duration": 3,
    "start_time": "2023-02-10T23:56:12.808Z"
   },
   {
    "duration": 1665,
    "start_time": "2023-02-10T23:56:14.077Z"
   },
   {
    "duration": 595,
    "start_time": "2023-02-10T23:56:47.811Z"
   },
   {
    "duration": 4,
    "start_time": "2023-02-10T23:56:50.124Z"
   },
   {
    "duration": 15790,
    "start_time": "2023-02-10T23:56:52.940Z"
   },
   {
    "duration": 64,
    "start_time": "2023-02-10T23:57:17.846Z"
   },
   {
    "duration": 1398,
    "start_time": "2023-02-10T23:58:05.046Z"
   },
   {
    "duration": 895,
    "start_time": "2023-02-10T23:58:06.445Z"
   },
   {
    "duration": 153,
    "start_time": "2023-02-10T23:58:07.342Z"
   },
   {
    "duration": 102,
    "start_time": "2023-02-10T23:58:07.497Z"
   },
   {
    "duration": 450,
    "start_time": "2023-02-10T23:58:07.601Z"
   },
   {
    "duration": 139,
    "start_time": "2023-02-10T23:58:08.053Z"
   },
   {
    "duration": 12,
    "start_time": "2023-02-10T23:58:08.194Z"
   },
   {
    "duration": 260,
    "start_time": "2023-02-10T23:58:08.208Z"
   },
   {
    "duration": 25,
    "start_time": "2023-02-10T23:58:08.471Z"
   },
   {
    "duration": 21,
    "start_time": "2023-02-10T23:58:08.498Z"
   },
   {
    "duration": 26,
    "start_time": "2023-02-10T23:58:08.521Z"
   },
   {
    "duration": 38,
    "start_time": "2023-02-10T23:58:08.549Z"
   },
   {
    "duration": 30,
    "start_time": "2023-02-10T23:58:08.589Z"
   },
   {
    "duration": 17,
    "start_time": "2023-02-10T23:58:08.620Z"
   },
   {
    "duration": 48,
    "start_time": "2023-02-10T23:58:08.639Z"
   },
   {
    "duration": 30,
    "start_time": "2023-02-10T23:58:08.688Z"
   },
   {
    "duration": 72,
    "start_time": "2023-02-10T23:58:08.720Z"
   },
   {
    "duration": 4,
    "start_time": "2023-02-10T23:58:08.794Z"
   },
   {
    "duration": 34,
    "start_time": "2023-02-10T23:58:08.800Z"
   },
   {
    "duration": 244,
    "start_time": "2023-02-10T23:58:08.835Z"
   },
   {
    "duration": 194,
    "start_time": "2023-02-10T23:58:09.081Z"
   },
   {
    "duration": 212,
    "start_time": "2023-02-10T23:58:09.277Z"
   },
   {
    "duration": 260,
    "start_time": "2023-02-10T23:58:09.491Z"
   },
   {
    "duration": 32,
    "start_time": "2023-02-10T23:58:09.752Z"
   },
   {
    "duration": 4,
    "start_time": "2023-02-10T23:58:09.786Z"
   },
   {
    "duration": 20,
    "start_time": "2023-02-10T23:58:09.792Z"
   },
   {
    "duration": 5,
    "start_time": "2023-02-10T23:58:09.813Z"
   },
   {
    "duration": 4,
    "start_time": "2023-02-10T23:58:09.820Z"
   },
   {
    "duration": 72,
    "start_time": "2023-02-10T23:58:09.826Z"
   },
   {
    "duration": 55712,
    "start_time": "2023-02-10T23:58:09.900Z"
   },
   {
    "duration": 14264,
    "start_time": "2023-02-10T23:59:05.613Z"
   },
   {
    "duration": 211,
    "start_time": "2023-02-10T23:59:19.968Z"
   },
   {
    "duration": 564,
    "start_time": "2023-02-10T23:59:20.266Z"
   },
   {
    "duration": 4,
    "start_time": "2023-02-10T23:59:20.832Z"
   },
   {
    "duration": 15777,
    "start_time": "2023-02-10T23:59:20.837Z"
   },
   {
    "duration": 47,
    "start_time": "2023-02-10T23:59:36.616Z"
   },
   {
    "duration": 194,
    "start_time": "2023-02-10T23:59:36.665Z"
   },
   {
    "duration": 60,
    "start_time": "2023-02-10T23:59:36.861Z"
   },
   {
    "duration": 1730,
    "start_time": "2023-02-10T23:59:36.923Z"
   },
   {
    "duration": 53,
    "start_time": "2023-02-10T23:59:38.655Z"
   },
   {
    "duration": 16323,
    "start_time": "2023-02-11T00:00:55.681Z"
   },
   {
    "duration": 48,
    "start_time": "2023-02-11T00:01:17.087Z"
   },
   {
    "duration": 2009,
    "start_time": "2023-02-11T00:02:10.492Z"
   },
   {
    "duration": 1302,
    "start_time": "2023-02-11T00:05:11.546Z"
   },
   {
    "duration": 828,
    "start_time": "2023-02-11T00:05:12.851Z"
   },
   {
    "duration": 134,
    "start_time": "2023-02-11T00:05:13.681Z"
   },
   {
    "duration": 96,
    "start_time": "2023-02-11T00:05:13.817Z"
   },
   {
    "duration": 439,
    "start_time": "2023-02-11T00:05:13.914Z"
   },
   {
    "duration": 130,
    "start_time": "2023-02-11T00:05:14.355Z"
   },
   {
    "duration": 11,
    "start_time": "2023-02-11T00:05:14.487Z"
   },
   {
    "duration": 245,
    "start_time": "2023-02-11T00:05:14.500Z"
   },
   {
    "duration": 29,
    "start_time": "2023-02-11T00:05:14.747Z"
   },
   {
    "duration": 28,
    "start_time": "2023-02-11T00:05:14.781Z"
   },
   {
    "duration": 27,
    "start_time": "2023-02-11T00:05:14.811Z"
   },
   {
    "duration": 20,
    "start_time": "2023-02-11T00:05:14.840Z"
   },
   {
    "duration": 39,
    "start_time": "2023-02-11T00:05:14.861Z"
   },
   {
    "duration": 16,
    "start_time": "2023-02-11T00:05:14.902Z"
   },
   {
    "duration": 19,
    "start_time": "2023-02-11T00:05:14.920Z"
   },
   {
    "duration": 47,
    "start_time": "2023-02-11T00:05:14.940Z"
   },
   {
    "duration": 89,
    "start_time": "2023-02-11T00:05:14.988Z"
   },
   {
    "duration": 6,
    "start_time": "2023-02-11T00:05:15.079Z"
   },
   {
    "duration": 32,
    "start_time": "2023-02-11T00:05:15.086Z"
   },
   {
    "duration": 215,
    "start_time": "2023-02-11T00:05:15.119Z"
   },
   {
    "duration": 180,
    "start_time": "2023-02-11T00:05:15.336Z"
   },
   {
    "duration": 213,
    "start_time": "2023-02-11T00:05:15.518Z"
   },
   {
    "duration": 262,
    "start_time": "2023-02-11T00:05:15.733Z"
   },
   {
    "duration": 21,
    "start_time": "2023-02-11T00:05:15.997Z"
   },
   {
    "duration": 6,
    "start_time": "2023-02-11T00:05:16.020Z"
   },
   {
    "duration": 50,
    "start_time": "2023-02-11T00:05:16.028Z"
   },
   {
    "duration": 5,
    "start_time": "2023-02-11T00:05:16.080Z"
   },
   {
    "duration": 5,
    "start_time": "2023-02-11T00:05:16.088Z"
   },
   {
    "duration": 47,
    "start_time": "2023-02-11T00:05:16.094Z"
   },
   {
    "duration": 53252,
    "start_time": "2023-02-11T00:05:16.142Z"
   },
   {
    "duration": 22190,
    "start_time": "2023-02-11T00:06:09.396Z"
   },
   {
    "duration": 286,
    "start_time": "2023-02-11T00:06:31.588Z"
   },
   {
    "duration": 211,
    "start_time": "2023-02-11T00:06:31.878Z"
   },
   {
    "duration": 0,
    "start_time": "2023-02-11T00:06:32.090Z"
   },
   {
    "duration": 0,
    "start_time": "2023-02-11T00:06:32.091Z"
   },
   {
    "duration": 0,
    "start_time": "2023-02-11T00:06:32.092Z"
   },
   {
    "duration": 0,
    "start_time": "2023-02-11T00:06:32.093Z"
   },
   {
    "duration": 0,
    "start_time": "2023-02-11T00:06:32.094Z"
   },
   {
    "duration": 0,
    "start_time": "2023-02-11T00:06:32.095Z"
   },
   {
    "duration": 570,
    "start_time": "2023-02-11T00:06:59.038Z"
   },
   {
    "duration": 16125,
    "start_time": "2023-02-11T00:07:02.083Z"
   },
   {
    "duration": 52,
    "start_time": "2023-02-11T00:07:21.281Z"
   },
   {
    "duration": 16991,
    "start_time": "2023-02-11T00:07:29.553Z"
   },
   {
    "duration": 51,
    "start_time": "2023-02-11T00:07:50.113Z"
   },
   {
    "duration": 17347,
    "start_time": "2023-02-11T00:07:58.797Z"
   },
   {
    "duration": 52,
    "start_time": "2023-02-11T00:08:19.591Z"
   },
   {
    "duration": 16389,
    "start_time": "2023-02-11T00:09:30.295Z"
   },
   {
    "duration": 58,
    "start_time": "2023-02-11T00:09:49.740Z"
   },
   {
    "duration": 480,
    "start_time": "2023-02-11T00:11:01.239Z"
   },
   {
    "duration": 29571,
    "start_time": "2023-02-11T00:11:03.914Z"
   },
   {
    "duration": 194,
    "start_time": "2023-02-11T00:11:36.483Z"
   },
   {
    "duration": 1347,
    "start_time": "2023-02-11T00:16:17.255Z"
   },
   {
    "duration": 792,
    "start_time": "2023-02-11T00:16:18.604Z"
   },
   {
    "duration": 134,
    "start_time": "2023-02-11T00:16:19.397Z"
   },
   {
    "duration": 101,
    "start_time": "2023-02-11T00:16:19.533Z"
   },
   {
    "duration": 461,
    "start_time": "2023-02-11T00:16:19.635Z"
   },
   {
    "duration": 128,
    "start_time": "2023-02-11T00:16:20.098Z"
   },
   {
    "duration": 11,
    "start_time": "2023-02-11T00:16:20.227Z"
   },
   {
    "duration": 272,
    "start_time": "2023-02-11T00:16:20.239Z"
   },
   {
    "duration": 61,
    "start_time": "2023-02-11T00:16:20.512Z"
   },
   {
    "duration": 20,
    "start_time": "2023-02-11T00:16:20.576Z"
   },
   {
    "duration": 17,
    "start_time": "2023-02-11T00:16:20.597Z"
   },
   {
    "duration": 59,
    "start_time": "2023-02-11T00:16:20.615Z"
   },
   {
    "duration": 28,
    "start_time": "2023-02-11T00:16:20.675Z"
   },
   {
    "duration": 16,
    "start_time": "2023-02-11T00:16:20.704Z"
   },
   {
    "duration": 19,
    "start_time": "2023-02-11T00:16:20.722Z"
   },
   {
    "duration": 47,
    "start_time": "2023-02-11T00:16:20.742Z"
   },
   {
    "duration": 65,
    "start_time": "2023-02-11T00:16:20.790Z"
   },
   {
    "duration": 5,
    "start_time": "2023-02-11T00:16:20.867Z"
   },
   {
    "duration": 30,
    "start_time": "2023-02-11T00:16:20.873Z"
   },
   {
    "duration": 225,
    "start_time": "2023-02-11T00:16:20.905Z"
   },
   {
    "duration": 201,
    "start_time": "2023-02-11T00:16:21.131Z"
   },
   {
    "duration": 219,
    "start_time": "2023-02-11T00:16:21.333Z"
   },
   {
    "duration": 277,
    "start_time": "2023-02-11T00:16:21.554Z"
   },
   {
    "duration": 19,
    "start_time": "2023-02-11T00:16:21.833Z"
   },
   {
    "duration": 16,
    "start_time": "2023-02-11T00:16:21.854Z"
   },
   {
    "duration": 17,
    "start_time": "2023-02-11T00:16:21.871Z"
   },
   {
    "duration": 6,
    "start_time": "2023-02-11T00:16:21.889Z"
   },
   {
    "duration": 41,
    "start_time": "2023-02-11T00:16:21.898Z"
   },
   {
    "duration": 157,
    "start_time": "2023-02-11T00:16:21.940Z"
   },
   {
    "duration": 1,
    "start_time": "2023-02-11T00:16:22.098Z"
   },
   {
    "duration": 0,
    "start_time": "2023-02-11T00:16:22.099Z"
   },
   {
    "duration": 0,
    "start_time": "2023-02-11T00:16:22.100Z"
   },
   {
    "duration": 0,
    "start_time": "2023-02-11T00:16:22.101Z"
   },
   {
    "duration": 0,
    "start_time": "2023-02-11T00:16:22.102Z"
   },
   {
    "duration": 0,
    "start_time": "2023-02-11T00:16:22.103Z"
   },
   {
    "duration": 0,
    "start_time": "2023-02-11T00:16:22.104Z"
   },
   {
    "duration": 0,
    "start_time": "2023-02-11T00:16:22.105Z"
   },
   {
    "duration": 0,
    "start_time": "2023-02-11T00:16:22.106Z"
   },
   {
    "duration": 31,
    "start_time": "2023-02-11T00:17:32.029Z"
   },
   {
    "duration": 1311,
    "start_time": "2023-02-11T00:17:59.983Z"
   },
   {
    "duration": 786,
    "start_time": "2023-02-11T00:18:01.297Z"
   },
   {
    "duration": 146,
    "start_time": "2023-02-11T00:18:02.086Z"
   },
   {
    "duration": 92,
    "start_time": "2023-02-11T00:18:02.234Z"
   },
   {
    "duration": 439,
    "start_time": "2023-02-11T00:18:02.329Z"
   },
   {
    "duration": 129,
    "start_time": "2023-02-11T00:18:02.770Z"
   },
   {
    "duration": 18,
    "start_time": "2023-02-11T00:18:02.901Z"
   },
   {
    "duration": 264,
    "start_time": "2023-02-11T00:18:02.920Z"
   },
   {
    "duration": 18,
    "start_time": "2023-02-11T00:18:03.186Z"
   },
   {
    "duration": 35,
    "start_time": "2023-02-11T00:18:03.206Z"
   },
   {
    "duration": 45,
    "start_time": "2023-02-11T00:18:03.243Z"
   },
   {
    "duration": 24,
    "start_time": "2023-02-11T00:18:03.290Z"
   },
   {
    "duration": 30,
    "start_time": "2023-02-11T00:18:03.316Z"
   },
   {
    "duration": 23,
    "start_time": "2023-02-11T00:18:03.349Z"
   },
   {
    "duration": 23,
    "start_time": "2023-02-11T00:18:03.373Z"
   },
   {
    "duration": 48,
    "start_time": "2023-02-11T00:18:03.398Z"
   },
   {
    "duration": 82,
    "start_time": "2023-02-11T00:18:03.448Z"
   },
   {
    "duration": 16,
    "start_time": "2023-02-11T00:18:03.532Z"
   },
   {
    "duration": 34,
    "start_time": "2023-02-11T00:18:03.550Z"
   },
   {
    "duration": 230,
    "start_time": "2023-02-11T00:18:03.586Z"
   },
   {
    "duration": 204,
    "start_time": "2023-02-11T00:18:03.818Z"
   },
   {
    "duration": 215,
    "start_time": "2023-02-11T00:18:04.023Z"
   },
   {
    "duration": 266,
    "start_time": "2023-02-11T00:18:04.240Z"
   },
   {
    "duration": 20,
    "start_time": "2023-02-11T00:18:04.508Z"
   },
   {
    "duration": 5,
    "start_time": "2023-02-11T00:18:04.530Z"
   },
   {
    "duration": 38,
    "start_time": "2023-02-11T00:18:04.537Z"
   },
   {
    "duration": 5,
    "start_time": "2023-02-11T00:18:04.577Z"
   },
   {
    "duration": 52,
    "start_time": "2023-02-11T00:18:04.584Z"
   },
   {
    "duration": 54414,
    "start_time": "2023-02-11T00:18:04.638Z"
   },
   {
    "duration": 0,
    "start_time": "2023-02-11T00:18:59.054Z"
   },
   {
    "duration": 0,
    "start_time": "2023-02-11T00:18:59.055Z"
   },
   {
    "duration": 0,
    "start_time": "2023-02-11T00:18:59.056Z"
   },
   {
    "duration": 0,
    "start_time": "2023-02-11T00:18:59.057Z"
   },
   {
    "duration": 0,
    "start_time": "2023-02-11T00:18:59.058Z"
   },
   {
    "duration": 0,
    "start_time": "2023-02-11T00:18:59.067Z"
   },
   {
    "duration": 0,
    "start_time": "2023-02-11T00:18:59.069Z"
   },
   {
    "duration": 0,
    "start_time": "2023-02-11T00:18:59.070Z"
   },
   {
    "duration": 0,
    "start_time": "2023-02-11T00:18:59.071Z"
   },
   {
    "duration": 1362,
    "start_time": "2023-02-11T00:19:37.171Z"
   },
   {
    "duration": 778,
    "start_time": "2023-02-11T00:19:38.535Z"
   },
   {
    "duration": 123,
    "start_time": "2023-02-11T00:19:39.315Z"
   },
   {
    "duration": 95,
    "start_time": "2023-02-11T00:19:39.441Z"
   },
   {
    "duration": 426,
    "start_time": "2023-02-11T00:19:39.538Z"
   },
   {
    "duration": 116,
    "start_time": "2023-02-11T00:19:39.967Z"
   },
   {
    "duration": 18,
    "start_time": "2023-02-11T00:19:40.085Z"
   },
   {
    "duration": 228,
    "start_time": "2023-02-11T00:19:40.105Z"
   },
   {
    "duration": 16,
    "start_time": "2023-02-11T00:19:40.335Z"
   },
   {
    "duration": 27,
    "start_time": "2023-02-11T00:19:40.353Z"
   },
   {
    "duration": 20,
    "start_time": "2023-02-11T00:19:40.381Z"
   },
   {
    "duration": 23,
    "start_time": "2023-02-11T00:19:40.403Z"
   },
   {
    "duration": 39,
    "start_time": "2023-02-11T00:19:40.428Z"
   },
   {
    "duration": 16,
    "start_time": "2023-02-11T00:19:40.468Z"
   },
   {
    "duration": 21,
    "start_time": "2023-02-11T00:19:40.486Z"
   },
   {
    "duration": 28,
    "start_time": "2023-02-11T00:19:40.508Z"
   },
   {
    "duration": 73,
    "start_time": "2023-02-11T00:19:40.538Z"
   },
   {
    "duration": 4,
    "start_time": "2023-02-11T00:19:40.613Z"
   },
   {
    "duration": 30,
    "start_time": "2023-02-11T00:19:40.618Z"
   },
   {
    "duration": 227,
    "start_time": "2023-02-11T00:19:40.650Z"
   },
   {
    "duration": 191,
    "start_time": "2023-02-11T00:19:40.879Z"
   },
   {
    "duration": 215,
    "start_time": "2023-02-11T00:19:41.072Z"
   },
   {
    "duration": 279,
    "start_time": "2023-02-11T00:19:41.289Z"
   },
   {
    "duration": 19,
    "start_time": "2023-02-11T00:19:41.569Z"
   },
   {
    "duration": 5,
    "start_time": "2023-02-11T00:19:41.589Z"
   },
   {
    "duration": 16,
    "start_time": "2023-02-11T00:19:41.595Z"
   },
   {
    "duration": 4,
    "start_time": "2023-02-11T00:19:41.613Z"
   },
   {
    "duration": 75,
    "start_time": "2023-02-11T00:19:41.620Z"
   },
   {
    "duration": 54721,
    "start_time": "2023-02-11T00:19:41.697Z"
   },
   {
    "duration": 601,
    "start_time": "2023-02-11T00:20:36.420Z"
   },
   {
    "duration": 0,
    "start_time": "2023-02-11T00:20:37.023Z"
   },
   {
    "duration": 0,
    "start_time": "2023-02-11T00:20:37.024Z"
   },
   {
    "duration": 0,
    "start_time": "2023-02-11T00:20:37.026Z"
   },
   {
    "duration": 0,
    "start_time": "2023-02-11T00:20:37.027Z"
   },
   {
    "duration": 0,
    "start_time": "2023-02-11T00:20:37.029Z"
   },
   {
    "duration": 0,
    "start_time": "2023-02-11T00:20:37.030Z"
   },
   {
    "duration": 0,
    "start_time": "2023-02-11T00:20:37.031Z"
   },
   {
    "duration": 0,
    "start_time": "2023-02-11T00:20:37.033Z"
   },
   {
    "duration": 1338,
    "start_time": "2023-02-11T00:21:12.371Z"
   },
   {
    "duration": 750,
    "start_time": "2023-02-11T00:21:13.711Z"
   },
   {
    "duration": 125,
    "start_time": "2023-02-11T00:21:14.463Z"
   },
   {
    "duration": 90,
    "start_time": "2023-02-11T00:21:14.590Z"
   },
   {
    "duration": 466,
    "start_time": "2023-02-11T00:21:14.681Z"
   },
   {
    "duration": 126,
    "start_time": "2023-02-11T00:21:15.149Z"
   },
   {
    "duration": 11,
    "start_time": "2023-02-11T00:21:15.277Z"
   },
   {
    "duration": 224,
    "start_time": "2023-02-11T00:21:15.289Z"
   },
   {
    "duration": 17,
    "start_time": "2023-02-11T00:21:15.514Z"
   },
   {
    "duration": 24,
    "start_time": "2023-02-11T00:21:15.533Z"
   },
   {
    "duration": 19,
    "start_time": "2023-02-11T00:21:15.566Z"
   },
   {
    "duration": 37,
    "start_time": "2023-02-11T00:21:15.586Z"
   },
   {
    "duration": 33,
    "start_time": "2023-02-11T00:21:15.625Z"
   },
   {
    "duration": 35,
    "start_time": "2023-02-11T00:21:15.660Z"
   },
   {
    "duration": 28,
    "start_time": "2023-02-11T00:21:15.697Z"
   },
   {
    "duration": 32,
    "start_time": "2023-02-11T00:21:15.726Z"
   },
   {
    "duration": 88,
    "start_time": "2023-02-11T00:21:15.759Z"
   },
   {
    "duration": 12,
    "start_time": "2023-02-11T00:21:15.848Z"
   },
   {
    "duration": 41,
    "start_time": "2023-02-11T00:21:15.861Z"
   },
   {
    "duration": 212,
    "start_time": "2023-02-11T00:21:15.904Z"
   },
   {
    "duration": 186,
    "start_time": "2023-02-11T00:21:16.117Z"
   },
   {
    "duration": 204,
    "start_time": "2023-02-11T00:21:16.305Z"
   },
   {
    "duration": 270,
    "start_time": "2023-02-11T00:21:16.512Z"
   },
   {
    "duration": 19,
    "start_time": "2023-02-11T00:21:16.784Z"
   },
   {
    "duration": 24,
    "start_time": "2023-02-11T00:21:16.805Z"
   },
   {
    "duration": 26,
    "start_time": "2023-02-11T00:21:16.831Z"
   },
   {
    "duration": 8,
    "start_time": "2023-02-11T00:21:16.859Z"
   },
   {
    "duration": 65,
    "start_time": "2023-02-11T00:21:16.870Z"
   },
   {
    "duration": 56460,
    "start_time": "2023-02-11T00:21:16.936Z"
   },
   {
    "duration": 569,
    "start_time": "2023-02-11T00:22:13.398Z"
   },
   {
    "duration": 15104,
    "start_time": "2023-02-11T00:22:13.969Z"
   },
   {
    "duration": 198,
    "start_time": "2023-02-11T00:22:29.075Z"
   },
   {
    "duration": 16459,
    "start_time": "2023-02-11T00:22:29.275Z"
   },
   {
    "duration": 51,
    "start_time": "2023-02-11T00:22:45.735Z"
   },
   {
    "duration": 161696,
    "start_time": "2023-02-11T00:22:45.788Z"
   },
   {
    "duration": 287,
    "start_time": "2023-02-11T00:25:27.486Z"
   },
   {
    "duration": 1828,
    "start_time": "2023-02-11T00:25:27.775Z"
   },
   {
    "duration": 62,
    "start_time": "2023-02-11T00:25:29.604Z"
   },
   {
    "duration": 1744,
    "start_time": "2023-02-11T09:14:40.981Z"
   },
   {
    "duration": 1220,
    "start_time": "2023-02-11T09:14:42.728Z"
   },
   {
    "duration": 133,
    "start_time": "2023-02-11T09:14:43.951Z"
   },
   {
    "duration": 128,
    "start_time": "2023-02-11T09:14:44.086Z"
   },
   {
    "duration": 553,
    "start_time": "2023-02-11T09:14:44.216Z"
   },
   {
    "duration": 106,
    "start_time": "2023-02-11T09:14:44.772Z"
   },
   {
    "duration": 25,
    "start_time": "2023-02-11T09:14:44.880Z"
   },
   {
    "duration": 234,
    "start_time": "2023-02-11T09:14:44.907Z"
   },
   {
    "duration": 20,
    "start_time": "2023-02-11T09:14:45.143Z"
   },
   {
    "duration": 20,
    "start_time": "2023-02-11T09:14:45.166Z"
   },
   {
    "duration": 29,
    "start_time": "2023-02-11T09:14:45.204Z"
   },
   {
    "duration": 32,
    "start_time": "2023-02-11T09:14:45.236Z"
   },
   {
    "duration": 38,
    "start_time": "2023-02-11T09:14:45.270Z"
   },
   {
    "duration": 31,
    "start_time": "2023-02-11T09:14:45.311Z"
   },
   {
    "duration": 36,
    "start_time": "2023-02-11T09:14:45.345Z"
   },
   {
    "duration": 43,
    "start_time": "2023-02-11T09:14:45.383Z"
   },
   {
    "duration": 79,
    "start_time": "2023-02-11T09:14:45.428Z"
   },
   {
    "duration": 5,
    "start_time": "2023-02-11T09:14:45.509Z"
   },
   {
    "duration": 24,
    "start_time": "2023-02-11T09:14:45.515Z"
   },
   {
    "duration": 276,
    "start_time": "2023-02-11T09:14:45.541Z"
   },
   {
    "duration": 219,
    "start_time": "2023-02-11T09:14:45.819Z"
   },
   {
    "duration": 222,
    "start_time": "2023-02-11T09:14:46.040Z"
   },
   {
    "duration": 285,
    "start_time": "2023-02-11T09:14:46.264Z"
   },
   {
    "duration": 20,
    "start_time": "2023-02-11T09:14:46.552Z"
   },
   {
    "duration": 6,
    "start_time": "2023-02-11T09:14:46.574Z"
   },
   {
    "duration": 46,
    "start_time": "2023-02-11T09:14:46.582Z"
   },
   {
    "duration": 7,
    "start_time": "2023-02-11T09:14:46.631Z"
   },
   {
    "duration": 174,
    "start_time": "2023-02-11T09:14:46.643Z"
   },
   {
    "duration": 0,
    "start_time": "2023-02-11T09:14:46.819Z"
   },
   {
    "duration": 0,
    "start_time": "2023-02-11T09:14:46.820Z"
   },
   {
    "duration": 0,
    "start_time": "2023-02-11T09:14:46.823Z"
   },
   {
    "duration": 0,
    "start_time": "2023-02-11T09:14:46.824Z"
   },
   {
    "duration": 0,
    "start_time": "2023-02-11T09:14:46.825Z"
   },
   {
    "duration": 0,
    "start_time": "2023-02-11T09:14:46.827Z"
   },
   {
    "duration": 0,
    "start_time": "2023-02-11T09:14:46.829Z"
   },
   {
    "duration": 1,
    "start_time": "2023-02-11T09:14:46.830Z"
   },
   {
    "duration": 65,
    "start_time": "2023-02-11T09:15:38.332Z"
   },
   {
    "duration": 1437,
    "start_time": "2023-02-11T09:15:49.104Z"
   },
   {
    "duration": 834,
    "start_time": "2023-02-11T09:15:50.543Z"
   },
   {
    "duration": 117,
    "start_time": "2023-02-11T09:15:51.378Z"
   },
   {
    "duration": 109,
    "start_time": "2023-02-11T09:15:51.504Z"
   },
   {
    "duration": 467,
    "start_time": "2023-02-11T09:15:51.616Z"
   },
   {
    "duration": 140,
    "start_time": "2023-02-11T09:15:52.085Z"
   },
   {
    "duration": 14,
    "start_time": "2023-02-11T09:15:52.226Z"
   },
   {
    "duration": 228,
    "start_time": "2023-02-11T09:15:52.243Z"
   },
   {
    "duration": 30,
    "start_time": "2023-02-11T09:15:52.473Z"
   },
   {
    "duration": 20,
    "start_time": "2023-02-11T09:15:52.505Z"
   },
   {
    "duration": 25,
    "start_time": "2023-02-11T09:15:52.527Z"
   },
   {
    "duration": 29,
    "start_time": "2023-02-11T09:15:52.554Z"
   },
   {
    "duration": 38,
    "start_time": "2023-02-11T09:15:52.585Z"
   },
   {
    "duration": 18,
    "start_time": "2023-02-11T09:15:52.627Z"
   },
   {
    "duration": 25,
    "start_time": "2023-02-11T09:15:52.647Z"
   },
   {
    "duration": 49,
    "start_time": "2023-02-11T09:15:52.674Z"
   },
   {
    "duration": 130,
    "start_time": "2023-02-11T09:15:52.725Z"
   },
   {
    "duration": 5,
    "start_time": "2023-02-11T09:15:52.857Z"
   },
   {
    "duration": 48,
    "start_time": "2023-02-11T09:15:52.863Z"
   },
   {
    "duration": 356,
    "start_time": "2023-02-11T09:15:52.912Z"
   },
   {
    "duration": 225,
    "start_time": "2023-02-11T09:15:53.270Z"
   },
   {
    "duration": 233,
    "start_time": "2023-02-11T09:15:53.497Z"
   },
   {
    "duration": 316,
    "start_time": "2023-02-11T09:15:53.732Z"
   },
   {
    "duration": 28,
    "start_time": "2023-02-11T09:15:54.050Z"
   },
   {
    "duration": 24,
    "start_time": "2023-02-11T09:15:54.081Z"
   },
   {
    "duration": 21,
    "start_time": "2023-02-11T09:15:54.108Z"
   },
   {
    "duration": 10,
    "start_time": "2023-02-11T09:15:54.132Z"
   },
   {
    "duration": 101,
    "start_time": "2023-02-11T09:15:54.145Z"
   },
   {
    "duration": 31461,
    "start_time": "2023-02-11T09:15:54.248Z"
   },
   {
    "duration": 0,
    "start_time": "2023-02-11T09:16:25.711Z"
   },
   {
    "duration": 0,
    "start_time": "2023-02-11T09:16:25.713Z"
   },
   {
    "duration": 0,
    "start_time": "2023-02-11T09:16:25.714Z"
   },
   {
    "duration": 0,
    "start_time": "2023-02-11T09:16:25.716Z"
   },
   {
    "duration": 0,
    "start_time": "2023-02-11T09:16:25.717Z"
   },
   {
    "duration": 0,
    "start_time": "2023-02-11T09:16:25.718Z"
   },
   {
    "duration": 0,
    "start_time": "2023-02-11T09:16:25.719Z"
   },
   {
    "duration": 28,
    "start_time": "2023-02-11T09:17:57.236Z"
   },
   {
    "duration": 31480,
    "start_time": "2023-02-11T09:18:03.816Z"
   },
   {
    "duration": 31776,
    "start_time": "2023-02-11T09:19:42.606Z"
   },
   {
    "duration": 3983,
    "start_time": "2023-02-11T09:21:07.693Z"
   },
   {
    "duration": 1751,
    "start_time": "2023-02-11T09:23:01.388Z"
   },
   {
    "duration": 867,
    "start_time": "2023-02-11T09:23:03.141Z"
   },
   {
    "duration": 178,
    "start_time": "2023-02-11T09:23:04.009Z"
   },
   {
    "duration": 138,
    "start_time": "2023-02-11T09:23:04.189Z"
   },
   {
    "duration": 491,
    "start_time": "2023-02-11T09:23:04.331Z"
   },
   {
    "duration": 115,
    "start_time": "2023-02-11T09:23:04.824Z"
   },
   {
    "duration": 19,
    "start_time": "2023-02-11T09:23:04.940Z"
   },
   {
    "duration": 252,
    "start_time": "2023-02-11T09:23:04.960Z"
   },
   {
    "duration": 31,
    "start_time": "2023-02-11T09:23:05.214Z"
   },
   {
    "duration": 29,
    "start_time": "2023-02-11T09:23:05.248Z"
   },
   {
    "duration": 38,
    "start_time": "2023-02-11T09:23:05.280Z"
   },
   {
    "duration": 24,
    "start_time": "2023-02-11T09:23:05.320Z"
   },
   {
    "duration": 41,
    "start_time": "2023-02-11T09:23:05.347Z"
   },
   {
    "duration": 20,
    "start_time": "2023-02-11T09:23:05.403Z"
   },
   {
    "duration": 25,
    "start_time": "2023-02-11T09:23:05.425Z"
   },
   {
    "duration": 60,
    "start_time": "2023-02-11T09:23:05.452Z"
   },
   {
    "duration": 105,
    "start_time": "2023-02-11T09:23:05.514Z"
   },
   {
    "duration": 20,
    "start_time": "2023-02-11T09:23:05.621Z"
   },
   {
    "duration": 32,
    "start_time": "2023-02-11T09:23:05.643Z"
   },
   {
    "duration": 391,
    "start_time": "2023-02-11T09:23:05.677Z"
   },
   {
    "duration": 303,
    "start_time": "2023-02-11T09:23:06.071Z"
   },
   {
    "duration": 287,
    "start_time": "2023-02-11T09:23:06.377Z"
   },
   {
    "duration": 298,
    "start_time": "2023-02-11T09:23:06.666Z"
   },
   {
    "duration": 20,
    "start_time": "2023-02-11T09:23:06.965Z"
   },
   {
    "duration": 20,
    "start_time": "2023-02-11T09:23:06.987Z"
   },
   {
    "duration": 19,
    "start_time": "2023-02-11T09:23:07.009Z"
   },
   {
    "duration": 5,
    "start_time": "2023-02-11T09:23:07.030Z"
   },
   {
    "duration": 110,
    "start_time": "2023-02-11T09:23:07.037Z"
   },
   {
    "duration": 5483,
    "start_time": "2023-02-11T09:23:07.148Z"
   },
   {
    "duration": 581,
    "start_time": "2023-02-11T09:23:12.633Z"
   },
   {
    "duration": 0,
    "start_time": "2023-02-11T09:23:13.216Z"
   },
   {
    "duration": 0,
    "start_time": "2023-02-11T09:23:13.217Z"
   },
   {
    "duration": 0,
    "start_time": "2023-02-11T09:23:13.219Z"
   },
   {
    "duration": 0,
    "start_time": "2023-02-11T09:23:13.220Z"
   },
   {
    "duration": 0,
    "start_time": "2023-02-11T09:23:13.221Z"
   },
   {
    "duration": 0,
    "start_time": "2023-02-11T09:23:13.222Z"
   },
   {
    "duration": 1620,
    "start_time": "2023-02-11T09:24:01.136Z"
   },
   {
    "duration": 891,
    "start_time": "2023-02-11T09:24:02.759Z"
   },
   {
    "duration": 154,
    "start_time": "2023-02-11T09:24:03.653Z"
   },
   {
    "duration": 114,
    "start_time": "2023-02-11T09:24:03.809Z"
   },
   {
    "duration": 587,
    "start_time": "2023-02-11T09:24:03.926Z"
   },
   {
    "duration": 174,
    "start_time": "2023-02-11T09:24:04.515Z"
   },
   {
    "duration": 25,
    "start_time": "2023-02-11T09:24:04.691Z"
   },
   {
    "duration": 303,
    "start_time": "2023-02-11T09:24:04.718Z"
   },
   {
    "duration": 20,
    "start_time": "2023-02-11T09:24:05.023Z"
   },
   {
    "duration": 23,
    "start_time": "2023-02-11T09:24:05.046Z"
   },
   {
    "duration": 44,
    "start_time": "2023-02-11T09:24:05.071Z"
   },
   {
    "duration": 38,
    "start_time": "2023-02-11T09:24:05.117Z"
   },
   {
    "duration": 34,
    "start_time": "2023-02-11T09:24:05.157Z"
   },
   {
    "duration": 20,
    "start_time": "2023-02-11T09:24:05.196Z"
   },
   {
    "duration": 39,
    "start_time": "2023-02-11T09:24:05.218Z"
   },
   {
    "duration": 44,
    "start_time": "2023-02-11T09:24:05.260Z"
   },
   {
    "duration": 80,
    "start_time": "2023-02-11T09:24:05.307Z"
   },
   {
    "duration": 17,
    "start_time": "2023-02-11T09:24:05.389Z"
   },
   {
    "duration": 40,
    "start_time": "2023-02-11T09:24:05.408Z"
   },
   {
    "duration": 361,
    "start_time": "2023-02-11T09:24:05.450Z"
   },
   {
    "duration": 238,
    "start_time": "2023-02-11T09:24:05.813Z"
   },
   {
    "duration": 264,
    "start_time": "2023-02-11T09:24:06.053Z"
   },
   {
    "duration": 327,
    "start_time": "2023-02-11T09:24:06.320Z"
   },
   {
    "duration": 21,
    "start_time": "2023-02-11T09:24:06.649Z"
   },
   {
    "duration": 7,
    "start_time": "2023-02-11T09:24:06.672Z"
   },
   {
    "duration": 28,
    "start_time": "2023-02-11T09:24:06.705Z"
   },
   {
    "duration": 7,
    "start_time": "2023-02-11T09:24:06.736Z"
   },
   {
    "duration": 96,
    "start_time": "2023-02-11T09:24:06.745Z"
   },
   {
    "duration": 5344,
    "start_time": "2023-02-11T09:24:06.843Z"
   },
   {
    "duration": 544,
    "start_time": "2023-02-11T09:24:12.189Z"
   },
   {
    "duration": 700,
    "start_time": "2023-02-11T09:24:12.735Z"
   },
   {
    "duration": 124,
    "start_time": "2023-02-11T09:24:13.436Z"
   },
   {
    "duration": 2955,
    "start_time": "2023-02-11T09:24:13.562Z"
   },
   {
    "duration": 78,
    "start_time": "2023-02-11T09:24:16.520Z"
   },
   {
    "duration": 98,
    "start_time": "2023-02-11T09:24:16.600Z"
   },
   {
    "duration": 81,
    "start_time": "2023-02-11T09:24:16.700Z"
   },
   {
    "duration": 1528,
    "start_time": "2023-02-11T09:28:01.499Z"
   },
   {
    "duration": 858,
    "start_time": "2023-02-11T09:28:03.030Z"
   },
   {
    "duration": 122,
    "start_time": "2023-02-11T09:28:03.889Z"
   },
   {
    "duration": 132,
    "start_time": "2023-02-11T09:28:04.014Z"
   },
   {
    "duration": 526,
    "start_time": "2023-02-11T09:28:04.149Z"
   },
   {
    "duration": 110,
    "start_time": "2023-02-11T09:28:04.677Z"
   },
   {
    "duration": 27,
    "start_time": "2023-02-11T09:28:04.789Z"
   },
   {
    "duration": 263,
    "start_time": "2023-02-11T09:28:04.818Z"
   },
   {
    "duration": 36,
    "start_time": "2023-02-11T09:28:05.083Z"
   },
   {
    "duration": 38,
    "start_time": "2023-02-11T09:28:05.121Z"
   },
   {
    "duration": 42,
    "start_time": "2023-02-11T09:28:05.161Z"
   },
   {
    "duration": 44,
    "start_time": "2023-02-11T09:28:05.205Z"
   },
   {
    "duration": 30,
    "start_time": "2023-02-11T09:28:05.251Z"
   },
   {
    "duration": 21,
    "start_time": "2023-02-11T09:28:05.284Z"
   },
   {
    "duration": 20,
    "start_time": "2023-02-11T09:28:05.307Z"
   },
   {
    "duration": 27,
    "start_time": "2023-02-11T09:28:05.329Z"
   },
   {
    "duration": 81,
    "start_time": "2023-02-11T09:28:05.358Z"
   },
   {
    "duration": 7,
    "start_time": "2023-02-11T09:28:05.442Z"
   },
   {
    "duration": 31,
    "start_time": "2023-02-11T09:28:05.451Z"
   },
   {
    "duration": 277,
    "start_time": "2023-02-11T09:28:05.484Z"
   },
   {
    "duration": 222,
    "start_time": "2023-02-11T09:28:05.763Z"
   },
   {
    "duration": 236,
    "start_time": "2023-02-11T09:28:05.987Z"
   },
   {
    "duration": 285,
    "start_time": "2023-02-11T09:28:06.225Z"
   },
   {
    "duration": 20,
    "start_time": "2023-02-11T09:28:06.512Z"
   },
   {
    "duration": 6,
    "start_time": "2023-02-11T09:28:06.535Z"
   },
   {
    "duration": 20,
    "start_time": "2023-02-11T09:28:06.543Z"
   },
   {
    "duration": 6,
    "start_time": "2023-02-11T09:28:06.566Z"
   },
   {
    "duration": 114,
    "start_time": "2023-02-11T09:28:06.574Z"
   },
   {
    "duration": 5223,
    "start_time": "2023-02-11T09:28:06.690Z"
   },
   {
    "duration": 451,
    "start_time": "2023-02-11T09:28:11.915Z"
   },
   {
    "duration": 613,
    "start_time": "2023-02-11T09:28:12.368Z"
   },
   {
    "duration": 87,
    "start_time": "2023-02-11T09:28:12.983Z"
   },
   {
    "duration": 2929,
    "start_time": "2023-02-11T09:28:13.072Z"
   },
   {
    "duration": 92,
    "start_time": "2023-02-11T09:28:16.003Z"
   },
   {
    "duration": 97,
    "start_time": "2023-02-11T09:28:16.096Z"
   },
   {
    "duration": 76,
    "start_time": "2023-02-11T09:28:16.195Z"
   },
   {
    "duration": 1504,
    "start_time": "2023-02-11T09:28:39.216Z"
   },
   {
    "duration": 896,
    "start_time": "2023-02-11T09:28:40.722Z"
   },
   {
    "duration": 122,
    "start_time": "2023-02-11T09:28:41.620Z"
   },
   {
    "duration": 132,
    "start_time": "2023-02-11T09:28:41.746Z"
   },
   {
    "duration": 489,
    "start_time": "2023-02-11T09:28:41.879Z"
   },
   {
    "duration": 108,
    "start_time": "2023-02-11T09:28:42.370Z"
   },
   {
    "duration": 25,
    "start_time": "2023-02-11T09:28:42.481Z"
   },
   {
    "duration": 251,
    "start_time": "2023-02-11T09:28:42.508Z"
   },
   {
    "duration": 27,
    "start_time": "2023-02-11T09:28:42.762Z"
   },
   {
    "duration": 27,
    "start_time": "2023-02-11T09:28:42.803Z"
   },
   {
    "duration": 23,
    "start_time": "2023-02-11T09:28:42.833Z"
   },
   {
    "duration": 25,
    "start_time": "2023-02-11T09:28:42.857Z"
   },
   {
    "duration": 44,
    "start_time": "2023-02-11T09:28:42.884Z"
   },
   {
    "duration": 34,
    "start_time": "2023-02-11T09:28:42.931Z"
   },
   {
    "duration": 48,
    "start_time": "2023-02-11T09:28:42.968Z"
   },
   {
    "duration": 40,
    "start_time": "2023-02-11T09:28:43.018Z"
   },
   {
    "duration": 72,
    "start_time": "2023-02-11T09:28:43.060Z"
   },
   {
    "duration": 5,
    "start_time": "2023-02-11T09:28:43.134Z"
   },
   {
    "duration": 34,
    "start_time": "2023-02-11T09:28:43.140Z"
   },
   {
    "duration": 349,
    "start_time": "2023-02-11T09:28:43.176Z"
   },
   {
    "duration": 258,
    "start_time": "2023-02-11T09:28:43.527Z"
   },
   {
    "duration": 249,
    "start_time": "2023-02-11T09:28:43.787Z"
   },
   {
    "duration": 375,
    "start_time": "2023-02-11T09:28:44.039Z"
   },
   {
    "duration": 21,
    "start_time": "2023-02-11T09:28:44.415Z"
   },
   {
    "duration": 7,
    "start_time": "2023-02-11T09:28:44.438Z"
   },
   {
    "duration": 23,
    "start_time": "2023-02-11T09:28:44.446Z"
   },
   {
    "duration": 5,
    "start_time": "2023-02-11T09:28:44.472Z"
   },
   {
    "duration": 70,
    "start_time": "2023-02-11T09:28:44.504Z"
   },
   {
    "duration": 1339,
    "start_time": "2023-02-11T09:28:44.576Z"
   },
   {
    "duration": 461,
    "start_time": "2023-02-11T09:28:45.917Z"
   },
   {
    "duration": 344,
    "start_time": "2023-02-11T09:28:46.381Z"
   },
   {
    "duration": 83,
    "start_time": "2023-02-11T09:28:46.727Z"
   },
   {
    "duration": 2652,
    "start_time": "2023-02-11T09:28:46.813Z"
   },
   {
    "duration": 85,
    "start_time": "2023-02-11T09:28:49.467Z"
   },
   {
    "duration": 107,
    "start_time": "2023-02-11T09:28:49.554Z"
   },
   {
    "duration": 87,
    "start_time": "2023-02-11T09:28:49.663Z"
   },
   {
    "duration": 1492,
    "start_time": "2023-02-11T09:29:31.524Z"
   },
   {
    "duration": 899,
    "start_time": "2023-02-11T09:29:33.019Z"
   },
   {
    "duration": 113,
    "start_time": "2023-02-11T09:29:33.920Z"
   },
   {
    "duration": 137,
    "start_time": "2023-02-11T09:29:34.035Z"
   },
   {
    "duration": 525,
    "start_time": "2023-02-11T09:29:34.174Z"
   },
   {
    "duration": 130,
    "start_time": "2023-02-11T09:29:34.701Z"
   },
   {
    "duration": 16,
    "start_time": "2023-02-11T09:29:34.833Z"
   },
   {
    "duration": 277,
    "start_time": "2023-02-11T09:29:34.852Z"
   },
   {
    "duration": 19,
    "start_time": "2023-02-11T09:29:35.131Z"
   },
   {
    "duration": 25,
    "start_time": "2023-02-11T09:29:35.153Z"
   },
   {
    "duration": 28,
    "start_time": "2023-02-11T09:29:35.180Z"
   },
   {
    "duration": 26,
    "start_time": "2023-02-11T09:29:35.210Z"
   },
   {
    "duration": 51,
    "start_time": "2023-02-11T09:29:35.238Z"
   },
   {
    "duration": 19,
    "start_time": "2023-02-11T09:29:35.303Z"
   },
   {
    "duration": 23,
    "start_time": "2023-02-11T09:29:35.324Z"
   },
   {
    "duration": 33,
    "start_time": "2023-02-11T09:29:35.348Z"
   },
   {
    "duration": 94,
    "start_time": "2023-02-11T09:29:35.384Z"
   },
   {
    "duration": 23,
    "start_time": "2023-02-11T09:29:35.480Z"
   },
   {
    "duration": 32,
    "start_time": "2023-02-11T09:29:35.506Z"
   },
   {
    "duration": 263,
    "start_time": "2023-02-11T09:29:35.541Z"
   },
   {
    "duration": 228,
    "start_time": "2023-02-11T09:29:35.806Z"
   },
   {
    "duration": 226,
    "start_time": "2023-02-11T09:29:36.036Z"
   },
   {
    "duration": 286,
    "start_time": "2023-02-11T09:29:36.264Z"
   },
   {
    "duration": 21,
    "start_time": "2023-02-11T09:29:36.552Z"
   },
   {
    "duration": 6,
    "start_time": "2023-02-11T09:29:36.575Z"
   },
   {
    "duration": 36,
    "start_time": "2023-02-11T09:29:36.582Z"
   },
   {
    "duration": 4,
    "start_time": "2023-02-11T09:29:36.620Z"
   },
   {
    "duration": 89,
    "start_time": "2023-02-11T09:29:36.628Z"
   },
   {
    "duration": 26754,
    "start_time": "2023-02-11T09:29:36.719Z"
   },
   {
    "duration": 0,
    "start_time": "2023-02-11T09:30:03.475Z"
   },
   {
    "duration": 0,
    "start_time": "2023-02-11T09:30:03.476Z"
   },
   {
    "duration": 0,
    "start_time": "2023-02-11T09:30:03.477Z"
   },
   {
    "duration": 0,
    "start_time": "2023-02-11T09:30:03.478Z"
   },
   {
    "duration": 0,
    "start_time": "2023-02-11T09:30:03.479Z"
   },
   {
    "duration": 0,
    "start_time": "2023-02-11T09:30:03.481Z"
   },
   {
    "duration": 0,
    "start_time": "2023-02-11T09:30:03.482Z"
   },
   {
    "duration": 1537,
    "start_time": "2023-02-11T09:31:12.095Z"
   },
   {
    "duration": 876,
    "start_time": "2023-02-11T09:31:13.634Z"
   },
   {
    "duration": 117,
    "start_time": "2023-02-11T09:31:14.512Z"
   },
   {
    "duration": 116,
    "start_time": "2023-02-11T09:31:14.630Z"
   },
   {
    "duration": 475,
    "start_time": "2023-02-11T09:31:14.748Z"
   },
   {
    "duration": 120,
    "start_time": "2023-02-11T09:31:15.225Z"
   },
   {
    "duration": 15,
    "start_time": "2023-02-11T09:31:15.347Z"
   },
   {
    "duration": 220,
    "start_time": "2023-02-11T09:31:15.364Z"
   },
   {
    "duration": 20,
    "start_time": "2023-02-11T09:31:15.586Z"
   },
   {
    "duration": 20,
    "start_time": "2023-02-11T09:31:15.608Z"
   },
   {
    "duration": 17,
    "start_time": "2023-02-11T09:31:15.630Z"
   },
   {
    "duration": 23,
    "start_time": "2023-02-11T09:31:15.649Z"
   },
   {
    "duration": 50,
    "start_time": "2023-02-11T09:31:15.674Z"
   },
   {
    "duration": 18,
    "start_time": "2023-02-11T09:31:15.728Z"
   },
   {
    "duration": 21,
    "start_time": "2023-02-11T09:31:15.747Z"
   },
   {
    "duration": 45,
    "start_time": "2023-02-11T09:31:15.769Z"
   },
   {
    "duration": 63,
    "start_time": "2023-02-11T09:31:15.816Z"
   },
   {
    "duration": 6,
    "start_time": "2023-02-11T09:31:15.881Z"
   },
   {
    "duration": 24,
    "start_time": "2023-02-11T09:31:15.903Z"
   },
   {
    "duration": 250,
    "start_time": "2023-02-11T09:31:15.929Z"
   },
   {
    "duration": 201,
    "start_time": "2023-02-11T09:31:16.181Z"
   },
   {
    "duration": 215,
    "start_time": "2023-02-11T09:31:16.383Z"
   },
   {
    "duration": 278,
    "start_time": "2023-02-11T09:31:16.602Z"
   },
   {
    "duration": 27,
    "start_time": "2023-02-11T09:31:16.882Z"
   },
   {
    "duration": 5,
    "start_time": "2023-02-11T09:31:16.910Z"
   },
   {
    "duration": 23,
    "start_time": "2023-02-11T09:31:16.917Z"
   },
   {
    "duration": 4,
    "start_time": "2023-02-11T09:31:16.942Z"
   },
   {
    "duration": 143,
    "start_time": "2023-02-11T09:31:16.948Z"
   },
   {
    "duration": 4656,
    "start_time": "2023-02-11T09:31:17.093Z"
   },
   {
    "duration": 422,
    "start_time": "2023-02-11T09:31:21.750Z"
   },
   {
    "duration": 582,
    "start_time": "2023-02-11T09:31:22.174Z"
   },
   {
    "duration": 90,
    "start_time": "2023-02-11T09:31:22.758Z"
   },
   {
    "duration": 2649,
    "start_time": "2023-02-11T09:31:22.850Z"
   },
   {
    "duration": 82,
    "start_time": "2023-02-11T09:31:25.501Z"
   },
   {
    "duration": 85,
    "start_time": "2023-02-11T09:31:25.585Z"
   },
   {
    "duration": 73,
    "start_time": "2023-02-11T09:31:25.672Z"
   },
   {
    "duration": 4521,
    "start_time": "2023-02-11T09:34:49.425Z"
   },
   {
    "duration": 460,
    "start_time": "2023-02-11T09:35:01.016Z"
   },
   {
    "duration": 483,
    "start_time": "2023-02-11T09:35:02.964Z"
   },
   {
    "duration": 1500,
    "start_time": "2023-02-11T09:36:08.207Z"
   },
   {
    "duration": 863,
    "start_time": "2023-02-11T09:36:09.709Z"
   },
   {
    "duration": 134,
    "start_time": "2023-02-11T09:36:10.574Z"
   },
   {
    "duration": 113,
    "start_time": "2023-02-11T09:36:10.710Z"
   },
   {
    "duration": 511,
    "start_time": "2023-02-11T09:36:10.825Z"
   },
   {
    "duration": 108,
    "start_time": "2023-02-11T09:36:11.337Z"
   },
   {
    "duration": 14,
    "start_time": "2023-02-11T09:36:11.447Z"
   },
   {
    "duration": 257,
    "start_time": "2023-02-11T09:36:11.464Z"
   },
   {
    "duration": 20,
    "start_time": "2023-02-11T09:36:11.723Z"
   },
   {
    "duration": 25,
    "start_time": "2023-02-11T09:36:11.745Z"
   },
   {
    "duration": 42,
    "start_time": "2023-02-11T09:36:11.772Z"
   },
   {
    "duration": 19,
    "start_time": "2023-02-11T09:36:11.816Z"
   },
   {
    "duration": 30,
    "start_time": "2023-02-11T09:36:11.836Z"
   },
   {
    "duration": 52,
    "start_time": "2023-02-11T09:36:11.869Z"
   },
   {
    "duration": 43,
    "start_time": "2023-02-11T09:36:11.923Z"
   },
   {
    "duration": 43,
    "start_time": "2023-02-11T09:36:11.969Z"
   },
   {
    "duration": 62,
    "start_time": "2023-02-11T09:36:12.014Z"
   },
   {
    "duration": 6,
    "start_time": "2023-02-11T09:36:12.078Z"
   },
   {
    "duration": 60,
    "start_time": "2023-02-11T09:36:12.105Z"
   },
   {
    "duration": 261,
    "start_time": "2023-02-11T09:36:12.168Z"
   },
   {
    "duration": 233,
    "start_time": "2023-02-11T09:36:12.431Z"
   },
   {
    "duration": 252,
    "start_time": "2023-02-11T09:36:12.666Z"
   },
   {
    "duration": 306,
    "start_time": "2023-02-11T09:36:12.920Z"
   },
   {
    "duration": 29,
    "start_time": "2023-02-11T09:36:13.228Z"
   },
   {
    "duration": 8,
    "start_time": "2023-02-11T09:36:13.260Z"
   },
   {
    "duration": 46,
    "start_time": "2023-02-11T09:36:13.270Z"
   },
   {
    "duration": 6,
    "start_time": "2023-02-11T09:36:13.318Z"
   },
   {
    "duration": 129,
    "start_time": "2023-02-11T09:36:13.326Z"
   },
   {
    "duration": 30493,
    "start_time": "2023-02-11T09:36:13.457Z"
   },
   {
    "duration": 0,
    "start_time": "2023-02-11T09:36:43.952Z"
   },
   {
    "duration": 0,
    "start_time": "2023-02-11T09:36:43.953Z"
   },
   {
    "duration": 0,
    "start_time": "2023-02-11T09:36:43.954Z"
   },
   {
    "duration": 0,
    "start_time": "2023-02-11T09:36:43.955Z"
   },
   {
    "duration": 0,
    "start_time": "2023-02-11T09:36:43.956Z"
   },
   {
    "duration": 0,
    "start_time": "2023-02-11T09:36:43.957Z"
   },
   {
    "duration": 0,
    "start_time": "2023-02-11T09:36:43.958Z"
   },
   {
    "duration": 133,
    "start_time": "2023-02-11T09:38:07.526Z"
   },
   {
    "duration": 1642,
    "start_time": "2023-02-11T09:38:13.088Z"
   },
   {
    "duration": 910,
    "start_time": "2023-02-11T09:38:14.732Z"
   },
   {
    "duration": 149,
    "start_time": "2023-02-11T09:38:15.645Z"
   },
   {
    "duration": 120,
    "start_time": "2023-02-11T09:38:15.802Z"
   },
   {
    "duration": 495,
    "start_time": "2023-02-11T09:38:15.925Z"
   },
   {
    "duration": 114,
    "start_time": "2023-02-11T09:38:16.422Z"
   },
   {
    "duration": 28,
    "start_time": "2023-02-11T09:38:16.538Z"
   },
   {
    "duration": 236,
    "start_time": "2023-02-11T09:38:16.569Z"
   },
   {
    "duration": 18,
    "start_time": "2023-02-11T09:38:16.807Z"
   },
   {
    "duration": 25,
    "start_time": "2023-02-11T09:38:16.828Z"
   },
   {
    "duration": 19,
    "start_time": "2023-02-11T09:38:16.855Z"
   },
   {
    "duration": 43,
    "start_time": "2023-02-11T09:38:16.876Z"
   },
   {
    "duration": 52,
    "start_time": "2023-02-11T09:38:16.921Z"
   },
   {
    "duration": 44,
    "start_time": "2023-02-11T09:38:16.978Z"
   },
   {
    "duration": 27,
    "start_time": "2023-02-11T09:38:17.024Z"
   },
   {
    "duration": 35,
    "start_time": "2023-02-11T09:38:17.052Z"
   },
   {
    "duration": 74,
    "start_time": "2023-02-11T09:38:17.088Z"
   },
   {
    "duration": 6,
    "start_time": "2023-02-11T09:38:17.164Z"
   },
   {
    "duration": 154,
    "start_time": "2023-02-11T09:38:17.172Z"
   },
   {
    "duration": 252,
    "start_time": "2023-02-11T09:38:17.328Z"
   },
   {
    "duration": 243,
    "start_time": "2023-02-11T09:38:17.584Z"
   },
   {
    "duration": 243,
    "start_time": "2023-02-11T09:38:17.829Z"
   },
   {
    "duration": 301,
    "start_time": "2023-02-11T09:38:18.074Z"
   },
   {
    "duration": 33,
    "start_time": "2023-02-11T09:38:18.377Z"
   },
   {
    "duration": 8,
    "start_time": "2023-02-11T09:38:18.412Z"
   },
   {
    "duration": 21,
    "start_time": "2023-02-11T09:38:18.422Z"
   },
   {
    "duration": 6,
    "start_time": "2023-02-11T09:38:18.446Z"
   },
   {
    "duration": 178,
    "start_time": "2023-02-11T09:38:18.454Z"
   },
   {
    "duration": 46386,
    "start_time": "2023-02-11T09:38:18.634Z"
   },
   {
    "duration": 0,
    "start_time": "2023-02-11T09:39:05.023Z"
   },
   {
    "duration": 0,
    "start_time": "2023-02-11T09:39:05.025Z"
   },
   {
    "duration": 0,
    "start_time": "2023-02-11T09:39:05.026Z"
   },
   {
    "duration": 0,
    "start_time": "2023-02-11T09:39:05.029Z"
   },
   {
    "duration": 0,
    "start_time": "2023-02-11T09:39:05.030Z"
   },
   {
    "duration": 0,
    "start_time": "2023-02-11T09:39:05.032Z"
   },
   {
    "duration": 0,
    "start_time": "2023-02-11T09:39:05.033Z"
   },
   {
    "duration": 1462,
    "start_time": "2023-02-11T09:39:39.146Z"
   },
   {
    "duration": 891,
    "start_time": "2023-02-11T09:39:40.610Z"
   },
   {
    "duration": 119,
    "start_time": "2023-02-11T09:39:41.503Z"
   },
   {
    "duration": 121,
    "start_time": "2023-02-11T09:39:41.624Z"
   },
   {
    "duration": 535,
    "start_time": "2023-02-11T09:39:41.748Z"
   },
   {
    "duration": 121,
    "start_time": "2023-02-11T09:39:42.284Z"
   },
   {
    "duration": 18,
    "start_time": "2023-02-11T09:39:42.408Z"
   },
   {
    "duration": 336,
    "start_time": "2023-02-11T09:39:42.428Z"
   },
   {
    "duration": 21,
    "start_time": "2023-02-11T09:39:42.765Z"
   },
   {
    "duration": 33,
    "start_time": "2023-02-11T09:39:42.788Z"
   },
   {
    "duration": 21,
    "start_time": "2023-02-11T09:39:42.824Z"
   },
   {
    "duration": 35,
    "start_time": "2023-02-11T09:39:42.847Z"
   },
   {
    "duration": 61,
    "start_time": "2023-02-11T09:39:42.884Z"
   },
   {
    "duration": 20,
    "start_time": "2023-02-11T09:39:42.949Z"
   },
   {
    "duration": 47,
    "start_time": "2023-02-11T09:39:42.972Z"
   },
   {
    "duration": 59,
    "start_time": "2023-02-11T09:39:43.021Z"
   },
   {
    "duration": 115,
    "start_time": "2023-02-11T09:39:43.083Z"
   },
   {
    "duration": 7,
    "start_time": "2023-02-11T09:39:43.200Z"
   },
   {
    "duration": 49,
    "start_time": "2023-02-11T09:39:43.208Z"
   },
   {
    "duration": 297,
    "start_time": "2023-02-11T09:39:43.259Z"
   },
   {
    "duration": 233,
    "start_time": "2023-02-11T09:39:43.558Z"
   },
   {
    "duration": 253,
    "start_time": "2023-02-11T09:39:43.793Z"
   },
   {
    "duration": 402,
    "start_time": "2023-02-11T09:39:44.048Z"
   },
   {
    "duration": 24,
    "start_time": "2023-02-11T09:39:44.451Z"
   },
   {
    "duration": 6,
    "start_time": "2023-02-11T09:39:44.477Z"
   },
   {
    "duration": 22,
    "start_time": "2023-02-11T09:39:44.504Z"
   },
   {
    "duration": 8,
    "start_time": "2023-02-11T09:39:44.528Z"
   },
   {
    "duration": 154,
    "start_time": "2023-02-11T09:39:44.538Z"
   },
   {
    "duration": 6012,
    "start_time": "2023-02-11T09:39:44.694Z"
   },
   {
    "duration": 472,
    "start_time": "2023-02-11T09:39:50.708Z"
   },
   {
    "duration": 641,
    "start_time": "2023-02-11T09:39:51.182Z"
   },
   {
    "duration": 98,
    "start_time": "2023-02-11T09:39:51.826Z"
   },
   {
    "duration": 2738,
    "start_time": "2023-02-11T09:39:51.926Z"
   },
   {
    "duration": 90,
    "start_time": "2023-02-11T09:39:54.666Z"
   },
   {
    "duration": 96,
    "start_time": "2023-02-11T09:39:54.759Z"
   },
   {
    "duration": 275,
    "start_time": "2023-02-11T09:39:54.856Z"
   },
   {
    "duration": 1889,
    "start_time": "2023-02-11T09:42:43.376Z"
   },
   {
    "duration": 883,
    "start_time": "2023-02-11T09:42:45.267Z"
   },
   {
    "duration": 120,
    "start_time": "2023-02-11T09:42:46.152Z"
   },
   {
    "duration": 115,
    "start_time": "2023-02-11T09:42:46.273Z"
   },
   {
    "duration": 503,
    "start_time": "2023-02-11T09:42:46.390Z"
   },
   {
    "duration": 109,
    "start_time": "2023-02-11T09:42:46.895Z"
   },
   {
    "duration": 14,
    "start_time": "2023-02-11T09:42:47.006Z"
   },
   {
    "duration": 279,
    "start_time": "2023-02-11T09:42:47.022Z"
   },
   {
    "duration": 20,
    "start_time": "2023-02-11T09:42:47.303Z"
   },
   {
    "duration": 29,
    "start_time": "2023-02-11T09:42:47.329Z"
   },
   {
    "duration": 48,
    "start_time": "2023-02-11T09:42:47.360Z"
   },
   {
    "duration": 34,
    "start_time": "2023-02-11T09:42:47.410Z"
   },
   {
    "duration": 70,
    "start_time": "2023-02-11T09:42:47.446Z"
   },
   {
    "duration": 33,
    "start_time": "2023-02-11T09:42:47.522Z"
   },
   {
    "duration": 46,
    "start_time": "2023-02-11T09:42:47.557Z"
   },
   {
    "duration": 39,
    "start_time": "2023-02-11T09:42:47.606Z"
   },
   {
    "duration": 63,
    "start_time": "2023-02-11T09:42:47.647Z"
   },
   {
    "duration": 5,
    "start_time": "2023-02-11T09:42:47.712Z"
   },
   {
    "duration": 44,
    "start_time": "2023-02-11T09:42:47.718Z"
   },
   {
    "duration": 302,
    "start_time": "2023-02-11T09:42:47.765Z"
   },
   {
    "duration": 259,
    "start_time": "2023-02-11T09:42:48.070Z"
   },
   {
    "duration": 298,
    "start_time": "2023-02-11T09:42:48.332Z"
   },
   {
    "duration": 354,
    "start_time": "2023-02-11T09:42:48.632Z"
   },
   {
    "duration": 28,
    "start_time": "2023-02-11T09:42:48.988Z"
   },
   {
    "duration": 7,
    "start_time": "2023-02-11T09:42:49.019Z"
   },
   {
    "duration": 29,
    "start_time": "2023-02-11T09:42:49.028Z"
   },
   {
    "duration": 5,
    "start_time": "2023-02-11T09:42:49.059Z"
   },
   {
    "duration": 144,
    "start_time": "2023-02-11T09:42:49.067Z"
   },
   {
    "duration": 4774,
    "start_time": "2023-02-11T09:42:49.213Z"
   },
   {
    "duration": 711,
    "start_time": "2023-02-11T09:42:53.989Z"
   },
   {
    "duration": 607,
    "start_time": "2023-02-11T09:42:54.703Z"
   },
   {
    "duration": 76,
    "start_time": "2023-02-11T09:42:55.312Z"
   },
   {
    "duration": 2688,
    "start_time": "2023-02-11T09:42:55.390Z"
   },
   {
    "duration": 89,
    "start_time": "2023-02-11T09:42:58.081Z"
   },
   {
    "duration": 93,
    "start_time": "2023-02-11T09:42:58.172Z"
   },
   {
    "duration": 106,
    "start_time": "2023-02-11T09:42:58.267Z"
   },
   {
    "duration": 6608,
    "start_time": "2023-02-11T09:44:02.566Z"
   },
   {
    "duration": 1784,
    "start_time": "2023-02-11T09:48:30.195Z"
   },
   {
    "duration": 1079,
    "start_time": "2023-02-11T09:48:31.985Z"
   },
   {
    "duration": 159,
    "start_time": "2023-02-11T09:48:33.067Z"
   },
   {
    "duration": 137,
    "start_time": "2023-02-11T09:48:33.228Z"
   },
   {
    "duration": 599,
    "start_time": "2023-02-11T09:48:33.370Z"
   },
   {
    "duration": 153,
    "start_time": "2023-02-11T09:48:33.970Z"
   },
   {
    "duration": 35,
    "start_time": "2023-02-11T09:48:34.127Z"
   },
   {
    "duration": 381,
    "start_time": "2023-02-11T09:48:34.165Z"
   },
   {
    "duration": 25,
    "start_time": "2023-02-11T09:48:34.549Z"
   },
   {
    "duration": 43,
    "start_time": "2023-02-11T09:48:34.577Z"
   },
   {
    "duration": 42,
    "start_time": "2023-02-11T09:48:34.625Z"
   },
   {
    "duration": 34,
    "start_time": "2023-02-11T09:48:34.669Z"
   },
   {
    "duration": 71,
    "start_time": "2023-02-11T09:48:34.705Z"
   },
   {
    "duration": 19,
    "start_time": "2023-02-11T09:48:34.780Z"
   },
   {
    "duration": 56,
    "start_time": "2023-02-11T09:48:34.801Z"
   },
   {
    "duration": 31,
    "start_time": "2023-02-11T09:48:34.859Z"
   },
   {
    "duration": 78,
    "start_time": "2023-02-11T09:48:34.892Z"
   },
   {
    "duration": 6,
    "start_time": "2023-02-11T09:48:34.972Z"
   },
   {
    "duration": 59,
    "start_time": "2023-02-11T09:48:34.980Z"
   },
   {
    "duration": 303,
    "start_time": "2023-02-11T09:48:35.041Z"
   },
   {
    "duration": 280,
    "start_time": "2023-02-11T09:48:35.347Z"
   },
   {
    "duration": 245,
    "start_time": "2023-02-11T09:48:35.629Z"
   },
   {
    "duration": 315,
    "start_time": "2023-02-11T09:48:35.876Z"
   },
   {
    "duration": 33,
    "start_time": "2023-02-11T09:48:36.194Z"
   },
   {
    "duration": 20,
    "start_time": "2023-02-11T09:48:36.229Z"
   },
   {
    "duration": 24,
    "start_time": "2023-02-11T09:48:36.252Z"
   },
   {
    "duration": 5,
    "start_time": "2023-02-11T09:48:36.279Z"
   },
   {
    "duration": 105,
    "start_time": "2023-02-11T09:48:36.286Z"
   },
   {
    "duration": 41551,
    "start_time": "2023-02-11T09:48:36.393Z"
   },
   {
    "duration": 0,
    "start_time": "2023-02-11T09:49:17.946Z"
   },
   {
    "duration": 0,
    "start_time": "2023-02-11T09:49:17.947Z"
   },
   {
    "duration": 0,
    "start_time": "2023-02-11T09:49:17.948Z"
   },
   {
    "duration": 0,
    "start_time": "2023-02-11T09:49:17.949Z"
   },
   {
    "duration": 0,
    "start_time": "2023-02-11T09:49:17.950Z"
   },
   {
    "duration": 0,
    "start_time": "2023-02-11T09:49:17.951Z"
   },
   {
    "duration": 0,
    "start_time": "2023-02-11T09:49:17.953Z"
   },
   {
    "duration": 1637,
    "start_time": "2023-02-11T09:50:58.487Z"
   },
   {
    "duration": 938,
    "start_time": "2023-02-11T09:51:00.126Z"
   },
   {
    "duration": 187,
    "start_time": "2023-02-11T09:51:01.067Z"
   },
   {
    "duration": 126,
    "start_time": "2023-02-11T09:51:01.257Z"
   },
   {
    "duration": 587,
    "start_time": "2023-02-11T09:51:01.387Z"
   },
   {
    "duration": 116,
    "start_time": "2023-02-11T09:51:01.976Z"
   },
   {
    "duration": 29,
    "start_time": "2023-02-11T09:51:02.102Z"
   },
   {
    "duration": 259,
    "start_time": "2023-02-11T09:51:02.134Z"
   },
   {
    "duration": 30,
    "start_time": "2023-02-11T09:51:02.395Z"
   },
   {
    "duration": 21,
    "start_time": "2023-02-11T09:51:02.428Z"
   },
   {
    "duration": 25,
    "start_time": "2023-02-11T09:51:02.451Z"
   },
   {
    "duration": 45,
    "start_time": "2023-02-11T09:51:02.478Z"
   },
   {
    "duration": 48,
    "start_time": "2023-02-11T09:51:02.526Z"
   },
   {
    "duration": 41,
    "start_time": "2023-02-11T09:51:02.580Z"
   },
   {
    "duration": 40,
    "start_time": "2023-02-11T09:51:02.622Z"
   },
   {
    "duration": 26,
    "start_time": "2023-02-11T09:51:02.664Z"
   },
   {
    "duration": 74,
    "start_time": "2023-02-11T09:51:02.692Z"
   },
   {
    "duration": 19,
    "start_time": "2023-02-11T09:51:02.769Z"
   },
   {
    "duration": 33,
    "start_time": "2023-02-11T09:51:02.790Z"
   },
   {
    "duration": 304,
    "start_time": "2023-02-11T09:51:02.826Z"
   },
   {
    "duration": 242,
    "start_time": "2023-02-11T09:51:03.132Z"
   },
   {
    "duration": 253,
    "start_time": "2023-02-11T09:51:03.376Z"
   },
   {
    "duration": 310,
    "start_time": "2023-02-11T09:51:03.631Z"
   },
   {
    "duration": 32,
    "start_time": "2023-02-11T09:51:03.944Z"
   },
   {
    "duration": 27,
    "start_time": "2023-02-11T09:51:03.978Z"
   },
   {
    "duration": 32,
    "start_time": "2023-02-11T09:51:04.015Z"
   },
   {
    "duration": 5,
    "start_time": "2023-02-11T09:51:04.050Z"
   },
   {
    "duration": 125,
    "start_time": "2023-02-11T09:51:04.057Z"
   },
   {
    "duration": 211,
    "start_time": "2023-02-11T09:51:04.184Z"
   },
   {
    "duration": 0,
    "start_time": "2023-02-11T09:51:04.404Z"
   },
   {
    "duration": 0,
    "start_time": "2023-02-11T09:51:04.406Z"
   },
   {
    "duration": 0,
    "start_time": "2023-02-11T09:51:04.408Z"
   },
   {
    "duration": 0,
    "start_time": "2023-02-11T09:51:04.413Z"
   },
   {
    "duration": 0,
    "start_time": "2023-02-11T09:51:04.414Z"
   },
   {
    "duration": 0,
    "start_time": "2023-02-11T09:51:04.418Z"
   },
   {
    "duration": 0,
    "start_time": "2023-02-11T09:51:04.420Z"
   },
   {
    "duration": 1753,
    "start_time": "2023-02-11T09:53:30.588Z"
   },
   {
    "duration": 1046,
    "start_time": "2023-02-11T09:53:32.342Z"
   },
   {
    "duration": 186,
    "start_time": "2023-02-11T09:53:33.391Z"
   },
   {
    "duration": 127,
    "start_time": "2023-02-11T09:53:33.579Z"
   },
   {
    "duration": 591,
    "start_time": "2023-02-11T09:53:33.709Z"
   },
   {
    "duration": 217,
    "start_time": "2023-02-11T09:53:34.308Z"
   },
   {
    "duration": 36,
    "start_time": "2023-02-11T09:53:34.528Z"
   },
   {
    "duration": 266,
    "start_time": "2023-02-11T09:53:34.567Z"
   },
   {
    "duration": 26,
    "start_time": "2023-02-11T09:53:34.836Z"
   },
   {
    "duration": 44,
    "start_time": "2023-02-11T09:53:34.865Z"
   },
   {
    "duration": 29,
    "start_time": "2023-02-11T09:53:34.913Z"
   },
   {
    "duration": 31,
    "start_time": "2023-02-11T09:53:34.945Z"
   },
   {
    "duration": 48,
    "start_time": "2023-02-11T09:53:34.978Z"
   },
   {
    "duration": 19,
    "start_time": "2023-02-11T09:53:35.030Z"
   },
   {
    "duration": 41,
    "start_time": "2023-02-11T09:53:35.051Z"
   },
   {
    "duration": 53,
    "start_time": "2023-02-11T09:53:35.104Z"
   },
   {
    "duration": 110,
    "start_time": "2023-02-11T09:53:35.159Z"
   },
   {
    "duration": 22,
    "start_time": "2023-02-11T09:53:35.271Z"
   },
   {
    "duration": 69,
    "start_time": "2023-02-11T09:53:35.295Z"
   },
   {
    "duration": 269,
    "start_time": "2023-02-11T09:53:35.367Z"
   },
   {
    "duration": 253,
    "start_time": "2023-02-11T09:53:35.638Z"
   },
   {
    "duration": 259,
    "start_time": "2023-02-11T09:53:35.893Z"
   },
   {
    "duration": 328,
    "start_time": "2023-02-11T09:53:36.155Z"
   },
   {
    "duration": 33,
    "start_time": "2023-02-11T09:53:36.485Z"
   },
   {
    "duration": 9,
    "start_time": "2023-02-11T09:53:36.520Z"
   },
   {
    "duration": 32,
    "start_time": "2023-02-11T09:53:36.532Z"
   },
   {
    "duration": 6,
    "start_time": "2023-02-11T09:53:36.566Z"
   },
   {
    "duration": 185,
    "start_time": "2023-02-11T09:53:36.575Z"
   },
   {
    "duration": 254,
    "start_time": "2023-02-11T09:53:36.762Z"
   },
   {
    "duration": 0,
    "start_time": "2023-02-11T09:53:37.020Z"
   },
   {
    "duration": 0,
    "start_time": "2023-02-11T09:53:37.021Z"
   },
   {
    "duration": 0,
    "start_time": "2023-02-11T09:53:37.024Z"
   },
   {
    "duration": 0,
    "start_time": "2023-02-11T09:53:37.025Z"
   },
   {
    "duration": 0,
    "start_time": "2023-02-11T09:53:37.026Z"
   },
   {
    "duration": 0,
    "start_time": "2023-02-11T09:53:37.028Z"
   },
   {
    "duration": 0,
    "start_time": "2023-02-11T09:53:37.029Z"
   },
   {
    "duration": 1570,
    "start_time": "2023-02-11T09:54:34.569Z"
   },
   {
    "duration": 912,
    "start_time": "2023-02-11T09:54:36.141Z"
   },
   {
    "duration": 131,
    "start_time": "2023-02-11T09:54:37.055Z"
   },
   {
    "duration": 154,
    "start_time": "2023-02-11T09:54:37.188Z"
   },
   {
    "duration": 538,
    "start_time": "2023-02-11T09:54:37.346Z"
   },
   {
    "duration": 224,
    "start_time": "2023-02-11T09:54:37.885Z"
   },
   {
    "duration": 31,
    "start_time": "2023-02-11T09:54:38.112Z"
   },
   {
    "duration": 291,
    "start_time": "2023-02-11T09:54:38.145Z"
   },
   {
    "duration": 29,
    "start_time": "2023-02-11T09:54:38.438Z"
   },
   {
    "duration": 37,
    "start_time": "2023-02-11T09:54:38.469Z"
   },
   {
    "duration": 23,
    "start_time": "2023-02-11T09:54:38.514Z"
   },
   {
    "duration": 28,
    "start_time": "2023-02-11T09:54:38.539Z"
   },
   {
    "duration": 39,
    "start_time": "2023-02-11T09:54:38.568Z"
   },
   {
    "duration": 22,
    "start_time": "2023-02-11T09:54:38.617Z"
   },
   {
    "duration": 32,
    "start_time": "2023-02-11T09:54:38.641Z"
   },
   {
    "duration": 66,
    "start_time": "2023-02-11T09:54:38.676Z"
   },
   {
    "duration": 109,
    "start_time": "2023-02-11T09:54:38.745Z"
   },
   {
    "duration": 6,
    "start_time": "2023-02-11T09:54:38.856Z"
   },
   {
    "duration": 49,
    "start_time": "2023-02-11T09:54:38.865Z"
   },
   {
    "duration": 274,
    "start_time": "2023-02-11T09:54:38.916Z"
   },
   {
    "duration": 257,
    "start_time": "2023-02-11T09:54:39.192Z"
   },
   {
    "duration": 262,
    "start_time": "2023-02-11T09:54:39.451Z"
   },
   {
    "duration": 318,
    "start_time": "2023-02-11T09:54:39.716Z"
   },
   {
    "duration": 23,
    "start_time": "2023-02-11T09:54:40.037Z"
   },
   {
    "duration": 6,
    "start_time": "2023-02-11T09:54:40.062Z"
   },
   {
    "duration": 48,
    "start_time": "2023-02-11T09:54:40.070Z"
   },
   {
    "duration": 8,
    "start_time": "2023-02-11T09:54:40.120Z"
   },
   {
    "duration": 138,
    "start_time": "2023-02-11T09:54:40.130Z"
   },
   {
    "duration": 5914,
    "start_time": "2023-02-11T09:54:40.271Z"
   },
   {
    "duration": 478,
    "start_time": "2023-02-11T09:54:46.187Z"
   },
   {
    "duration": 690,
    "start_time": "2023-02-11T09:54:46.667Z"
   },
   {
    "duration": 97,
    "start_time": "2023-02-11T09:54:47.359Z"
   },
   {
    "duration": 2939,
    "start_time": "2023-02-11T09:54:47.458Z"
   },
   {
    "duration": 88,
    "start_time": "2023-02-11T09:54:50.400Z"
   },
   {
    "duration": 102,
    "start_time": "2023-02-11T09:54:50.490Z"
   },
   {
    "duration": 93,
    "start_time": "2023-02-11T09:54:50.593Z"
   },
   {
    "duration": 1522,
    "start_time": "2023-02-11T09:57:18.029Z"
   },
   {
    "duration": 888,
    "start_time": "2023-02-11T09:57:19.553Z"
   },
   {
    "duration": 130,
    "start_time": "2023-02-11T09:57:20.443Z"
   },
   {
    "duration": 117,
    "start_time": "2023-02-11T09:57:20.576Z"
   },
   {
    "duration": 546,
    "start_time": "2023-02-11T09:57:20.695Z"
   },
   {
    "duration": 175,
    "start_time": "2023-02-11T09:57:21.243Z"
   },
   {
    "duration": 21,
    "start_time": "2023-02-11T09:57:21.420Z"
   },
   {
    "duration": 262,
    "start_time": "2023-02-11T09:57:21.444Z"
   },
   {
    "duration": 23,
    "start_time": "2023-02-11T09:57:21.712Z"
   },
   {
    "duration": 33,
    "start_time": "2023-02-11T09:57:21.738Z"
   },
   {
    "duration": 34,
    "start_time": "2023-02-11T09:57:21.773Z"
   },
   {
    "duration": 46,
    "start_time": "2023-02-11T09:57:21.808Z"
   },
   {
    "duration": 32,
    "start_time": "2023-02-11T09:57:21.856Z"
   },
   {
    "duration": 30,
    "start_time": "2023-02-11T09:57:21.891Z"
   },
   {
    "duration": 46,
    "start_time": "2023-02-11T09:57:21.924Z"
   },
   {
    "duration": 31,
    "start_time": "2023-02-11T09:57:21.971Z"
   },
   {
    "duration": 70,
    "start_time": "2023-02-11T09:57:22.007Z"
   },
   {
    "duration": 5,
    "start_time": "2023-02-11T09:57:22.079Z"
   },
   {
    "duration": 49,
    "start_time": "2023-02-11T09:57:22.086Z"
   },
   {
    "duration": 263,
    "start_time": "2023-02-11T09:57:22.136Z"
   },
   {
    "duration": 232,
    "start_time": "2023-02-11T09:57:22.404Z"
   },
   {
    "duration": 296,
    "start_time": "2023-02-11T09:57:22.639Z"
   },
   {
    "duration": 339,
    "start_time": "2023-02-11T09:57:22.937Z"
   },
   {
    "duration": 34,
    "start_time": "2023-02-11T09:57:23.281Z"
   },
   {
    "duration": 6,
    "start_time": "2023-02-11T09:57:23.320Z"
   },
   {
    "duration": 21,
    "start_time": "2023-02-11T09:57:23.328Z"
   },
   {
    "duration": 5,
    "start_time": "2023-02-11T09:57:23.351Z"
   },
   {
    "duration": 113,
    "start_time": "2023-02-11T09:57:23.358Z"
   },
   {
    "duration": 173,
    "start_time": "2023-02-11T09:57:23.472Z"
   },
   {
    "duration": 0,
    "start_time": "2023-02-11T09:57:23.647Z"
   },
   {
    "duration": 0,
    "start_time": "2023-02-11T09:57:23.649Z"
   },
   {
    "duration": 0,
    "start_time": "2023-02-11T09:57:23.650Z"
   },
   {
    "duration": 0,
    "start_time": "2023-02-11T09:57:23.652Z"
   },
   {
    "duration": 0,
    "start_time": "2023-02-11T09:57:23.653Z"
   },
   {
    "duration": 0,
    "start_time": "2023-02-11T09:57:23.654Z"
   },
   {
    "duration": 0,
    "start_time": "2023-02-11T09:57:23.656Z"
   },
   {
    "duration": 1663,
    "start_time": "2023-02-11T10:07:36.194Z"
   },
   {
    "duration": 960,
    "start_time": "2023-02-11T10:07:37.860Z"
   },
   {
    "duration": 127,
    "start_time": "2023-02-11T10:07:38.822Z"
   },
   {
    "duration": 124,
    "start_time": "2023-02-11T10:07:38.951Z"
   },
   {
    "duration": 544,
    "start_time": "2023-02-11T10:07:39.077Z"
   },
   {
    "duration": 120,
    "start_time": "2023-02-11T10:07:39.628Z"
   },
   {
    "duration": 16,
    "start_time": "2023-02-11T10:07:39.750Z"
   },
   {
    "duration": 256,
    "start_time": "2023-02-11T10:07:39.768Z"
   },
   {
    "duration": 20,
    "start_time": "2023-02-11T10:07:40.026Z"
   },
   {
    "duration": 25,
    "start_time": "2023-02-11T10:07:40.049Z"
   },
   {
    "duration": 48,
    "start_time": "2023-02-11T10:07:40.076Z"
   },
   {
    "duration": 22,
    "start_time": "2023-02-11T10:07:40.126Z"
   },
   {
    "duration": 29,
    "start_time": "2023-02-11T10:07:40.150Z"
   },
   {
    "duration": 46,
    "start_time": "2023-02-11T10:07:40.181Z"
   },
   {
    "duration": 20,
    "start_time": "2023-02-11T10:07:40.229Z"
   },
   {
    "duration": 30,
    "start_time": "2023-02-11T10:07:40.250Z"
   },
   {
    "duration": 87,
    "start_time": "2023-02-11T10:07:40.282Z"
   },
   {
    "duration": 6,
    "start_time": "2023-02-11T10:07:40.371Z"
   },
   {
    "duration": 46,
    "start_time": "2023-02-11T10:07:40.379Z"
   },
   {
    "duration": 294,
    "start_time": "2023-02-11T10:07:40.427Z"
   },
   {
    "duration": 227,
    "start_time": "2023-02-11T10:07:40.723Z"
   },
   {
    "duration": 263,
    "start_time": "2023-02-11T10:07:40.953Z"
   },
   {
    "duration": 349,
    "start_time": "2023-02-11T10:07:41.225Z"
   },
   {
    "duration": 39,
    "start_time": "2023-02-11T10:07:41.576Z"
   },
   {
    "duration": 10,
    "start_time": "2023-02-11T10:07:41.617Z"
   },
   {
    "duration": 24,
    "start_time": "2023-02-11T10:07:41.629Z"
   },
   {
    "duration": 5,
    "start_time": "2023-02-11T10:07:41.655Z"
   },
   {
    "duration": 83,
    "start_time": "2023-02-11T10:07:41.663Z"
   },
   {
    "duration": 174,
    "start_time": "2023-02-11T10:07:41.748Z"
   },
   {
    "duration": 0,
    "start_time": "2023-02-11T10:07:41.924Z"
   },
   {
    "duration": 0,
    "start_time": "2023-02-11T10:07:41.928Z"
   },
   {
    "duration": 0,
    "start_time": "2023-02-11T10:07:41.929Z"
   },
   {
    "duration": 0,
    "start_time": "2023-02-11T10:07:41.932Z"
   },
   {
    "duration": 0,
    "start_time": "2023-02-11T10:07:41.934Z"
   },
   {
    "duration": 0,
    "start_time": "2023-02-11T10:07:41.936Z"
   },
   {
    "duration": 0,
    "start_time": "2023-02-11T10:07:41.938Z"
   },
   {
    "duration": 0,
    "start_time": "2023-02-11T10:07:41.940Z"
   },
   {
    "duration": 1640,
    "start_time": "2023-02-11T10:08:10.424Z"
   },
   {
    "duration": 923,
    "start_time": "2023-02-11T10:08:12.066Z"
   },
   {
    "duration": 146,
    "start_time": "2023-02-11T10:08:12.991Z"
   },
   {
    "duration": 121,
    "start_time": "2023-02-11T10:08:13.139Z"
   },
   {
    "duration": 589,
    "start_time": "2023-02-11T10:08:13.262Z"
   },
   {
    "duration": 125,
    "start_time": "2023-02-11T10:08:13.853Z"
   },
   {
    "duration": 37,
    "start_time": "2023-02-11T10:08:13.980Z"
   },
   {
    "duration": 271,
    "start_time": "2023-02-11T10:08:14.023Z"
   },
   {
    "duration": 41,
    "start_time": "2023-02-11T10:08:14.297Z"
   },
   {
    "duration": 33,
    "start_time": "2023-02-11T10:08:14.340Z"
   },
   {
    "duration": 53,
    "start_time": "2023-02-11T10:08:14.376Z"
   },
   {
    "duration": 38,
    "start_time": "2023-02-11T10:08:14.435Z"
   },
   {
    "duration": 47,
    "start_time": "2023-02-11T10:08:14.476Z"
   },
   {
    "duration": 21,
    "start_time": "2023-02-11T10:08:14.533Z"
   },
   {
    "duration": 36,
    "start_time": "2023-02-11T10:08:14.557Z"
   },
   {
    "duration": 61,
    "start_time": "2023-02-11T10:08:14.596Z"
   },
   {
    "duration": 67,
    "start_time": "2023-02-11T10:08:14.659Z"
   },
   {
    "duration": 8,
    "start_time": "2023-02-11T10:08:14.727Z"
   },
   {
    "duration": 38,
    "start_time": "2023-02-11T10:08:14.737Z"
   },
   {
    "duration": 271,
    "start_time": "2023-02-11T10:08:14.777Z"
   },
   {
    "duration": 270,
    "start_time": "2023-02-11T10:08:15.050Z"
   },
   {
    "duration": 257,
    "start_time": "2023-02-11T10:08:15.322Z"
   },
   {
    "duration": 319,
    "start_time": "2023-02-11T10:08:15.581Z"
   },
   {
    "duration": 34,
    "start_time": "2023-02-11T10:08:15.901Z"
   },
   {
    "duration": 5,
    "start_time": "2023-02-11T10:08:15.937Z"
   },
   {
    "duration": 23,
    "start_time": "2023-02-11T10:08:15.944Z"
   },
   {
    "duration": 4,
    "start_time": "2023-02-11T10:08:15.969Z"
   },
   {
    "duration": 59,
    "start_time": "2023-02-11T10:08:16.007Z"
   },
   {
    "duration": 5707,
    "start_time": "2023-02-11T10:08:16.067Z"
   },
   {
    "duration": 533,
    "start_time": "2023-02-11T10:08:21.776Z"
   },
   {
    "duration": 124,
    "start_time": "2023-02-11T10:08:22.314Z"
   },
   {
    "duration": 0,
    "start_time": "2023-02-11T10:08:22.440Z"
   },
   {
    "duration": 0,
    "start_time": "2023-02-11T10:08:22.442Z"
   },
   {
    "duration": 0,
    "start_time": "2023-02-11T10:08:22.444Z"
   },
   {
    "duration": 0,
    "start_time": "2023-02-11T10:08:22.446Z"
   },
   {
    "duration": 1,
    "start_time": "2023-02-11T10:08:22.447Z"
   },
   {
    "duration": 0,
    "start_time": "2023-02-11T10:08:22.450Z"
   },
   {
    "duration": 1580,
    "start_time": "2023-02-11T10:09:30.859Z"
   },
   {
    "duration": 922,
    "start_time": "2023-02-11T10:09:32.440Z"
   },
   {
    "duration": 123,
    "start_time": "2023-02-11T10:09:33.364Z"
   },
   {
    "duration": 116,
    "start_time": "2023-02-11T10:09:33.504Z"
   },
   {
    "duration": 552,
    "start_time": "2023-02-11T10:09:33.625Z"
   },
   {
    "duration": 174,
    "start_time": "2023-02-11T10:09:34.179Z"
   },
   {
    "duration": 24,
    "start_time": "2023-02-11T10:09:34.355Z"
   },
   {
    "duration": 333,
    "start_time": "2023-02-11T10:09:34.382Z"
   },
   {
    "duration": 22,
    "start_time": "2023-02-11T10:09:34.718Z"
   },
   {
    "duration": 20,
    "start_time": "2023-02-11T10:09:34.741Z"
   },
   {
    "duration": 52,
    "start_time": "2023-02-11T10:09:34.763Z"
   },
   {
    "duration": 38,
    "start_time": "2023-02-11T10:09:34.816Z"
   },
   {
    "duration": 46,
    "start_time": "2023-02-11T10:09:34.855Z"
   },
   {
    "duration": 26,
    "start_time": "2023-02-11T10:09:34.905Z"
   },
   {
    "duration": 19,
    "start_time": "2023-02-11T10:09:34.933Z"
   },
   {
    "duration": 30,
    "start_time": "2023-02-11T10:09:34.954Z"
   },
   {
    "duration": 88,
    "start_time": "2023-02-11T10:09:34.986Z"
   },
   {
    "duration": 7,
    "start_time": "2023-02-11T10:09:35.076Z"
   },
   {
    "duration": 98,
    "start_time": "2023-02-11T10:09:35.088Z"
   },
   {
    "duration": 267,
    "start_time": "2023-02-11T10:09:35.189Z"
   },
   {
    "duration": 228,
    "start_time": "2023-02-11T10:09:35.458Z"
   },
   {
    "duration": 256,
    "start_time": "2023-02-11T10:09:35.688Z"
   },
   {
    "duration": 312,
    "start_time": "2023-02-11T10:09:35.945Z"
   },
   {
    "duration": 21,
    "start_time": "2023-02-11T10:09:36.258Z"
   },
   {
    "duration": 23,
    "start_time": "2023-02-11T10:09:36.281Z"
   },
   {
    "duration": 25,
    "start_time": "2023-02-11T10:09:36.307Z"
   },
   {
    "duration": 4,
    "start_time": "2023-02-11T10:09:36.334Z"
   },
   {
    "duration": 79,
    "start_time": "2023-02-11T10:09:36.340Z"
   },
   {
    "duration": 5806,
    "start_time": "2023-02-11T10:09:36.424Z"
   },
   {
    "duration": 546,
    "start_time": "2023-02-11T10:09:42.234Z"
   },
   {
    "duration": 157,
    "start_time": "2023-02-11T10:09:42.783Z"
   },
   {
    "duration": 1,
    "start_time": "2023-02-11T10:09:42.941Z"
   },
   {
    "duration": 0,
    "start_time": "2023-02-11T10:09:42.942Z"
   },
   {
    "duration": 0,
    "start_time": "2023-02-11T10:09:42.943Z"
   },
   {
    "duration": 0,
    "start_time": "2023-02-11T10:09:42.944Z"
   },
   {
    "duration": 0,
    "start_time": "2023-02-11T10:09:42.947Z"
   },
   {
    "duration": 0,
    "start_time": "2023-02-11T10:09:42.948Z"
   },
   {
    "duration": 1569,
    "start_time": "2023-02-11T10:11:20.929Z"
   },
   {
    "duration": 1118,
    "start_time": "2023-02-11T10:11:22.500Z"
   },
   {
    "duration": 134,
    "start_time": "2023-02-11T10:11:23.627Z"
   },
   {
    "duration": 124,
    "start_time": "2023-02-11T10:11:23.764Z"
   },
   {
    "duration": 862,
    "start_time": "2023-02-11T10:11:23.891Z"
   },
   {
    "duration": 174,
    "start_time": "2023-02-11T10:11:24.756Z"
   },
   {
    "duration": 30,
    "start_time": "2023-02-11T10:11:24.932Z"
   },
   {
    "duration": 292,
    "start_time": "2023-02-11T10:11:24.967Z"
   },
   {
    "duration": 35,
    "start_time": "2023-02-11T10:11:25.261Z"
   },
   {
    "duration": 31,
    "start_time": "2023-02-11T10:11:25.306Z"
   },
   {
    "duration": 48,
    "start_time": "2023-02-11T10:11:25.341Z"
   },
   {
    "duration": 66,
    "start_time": "2023-02-11T10:11:25.392Z"
   },
   {
    "duration": 32,
    "start_time": "2023-02-11T10:11:25.461Z"
   },
   {
    "duration": 30,
    "start_time": "2023-02-11T10:11:25.495Z"
   },
   {
    "duration": 37,
    "start_time": "2023-02-11T10:11:25.527Z"
   },
   {
    "duration": 31,
    "start_time": "2023-02-11T10:11:25.565Z"
   },
   {
    "duration": 78,
    "start_time": "2023-02-11T10:11:25.598Z"
   },
   {
    "duration": 7,
    "start_time": "2023-02-11T10:11:25.679Z"
   },
   {
    "duration": 80,
    "start_time": "2023-02-11T10:11:25.688Z"
   },
   {
    "duration": 287,
    "start_time": "2023-02-11T10:11:25.770Z"
   },
   {
    "duration": 259,
    "start_time": "2023-02-11T10:11:26.060Z"
   },
   {
    "duration": 271,
    "start_time": "2023-02-11T10:11:26.322Z"
   },
   {
    "duration": 333,
    "start_time": "2023-02-11T10:11:26.606Z"
   },
   {
    "duration": 23,
    "start_time": "2023-02-11T10:11:26.941Z"
   },
   {
    "duration": 6,
    "start_time": "2023-02-11T10:11:26.966Z"
   },
   {
    "duration": 41,
    "start_time": "2023-02-11T10:11:26.974Z"
   },
   {
    "duration": 6,
    "start_time": "2023-02-11T10:11:27.017Z"
   },
   {
    "duration": 56,
    "start_time": "2023-02-11T10:11:27.027Z"
   },
   {
    "duration": 5600,
    "start_time": "2023-02-11T10:11:27.085Z"
   },
   {
    "duration": 522,
    "start_time": "2023-02-11T10:11:32.688Z"
   },
   {
    "duration": 136,
    "start_time": "2023-02-11T10:11:33.214Z"
   },
   {
    "duration": 0,
    "start_time": "2023-02-11T10:11:33.352Z"
   },
   {
    "duration": 0,
    "start_time": "2023-02-11T10:11:33.353Z"
   },
   {
    "duration": 0,
    "start_time": "2023-02-11T10:11:33.355Z"
   },
   {
    "duration": 0,
    "start_time": "2023-02-11T10:11:33.357Z"
   },
   {
    "duration": 0,
    "start_time": "2023-02-11T10:11:33.359Z"
   },
   {
    "duration": 0,
    "start_time": "2023-02-11T10:11:33.361Z"
   },
   {
    "duration": 1481,
    "start_time": "2023-02-11T10:11:51.148Z"
   },
   {
    "duration": 979,
    "start_time": "2023-02-11T10:11:52.631Z"
   },
   {
    "duration": 128,
    "start_time": "2023-02-11T10:11:53.612Z"
   },
   {
    "duration": 122,
    "start_time": "2023-02-11T10:11:53.742Z"
   },
   {
    "duration": 589,
    "start_time": "2023-02-11T10:11:53.867Z"
   },
   {
    "duration": 169,
    "start_time": "2023-02-11T10:11:54.458Z"
   },
   {
    "duration": 25,
    "start_time": "2023-02-11T10:11:54.629Z"
   },
   {
    "duration": 293,
    "start_time": "2023-02-11T10:11:54.657Z"
   },
   {
    "duration": 18,
    "start_time": "2023-02-11T10:11:54.953Z"
   },
   {
    "duration": 36,
    "start_time": "2023-02-11T10:11:54.973Z"
   },
   {
    "duration": 22,
    "start_time": "2023-02-11T10:11:55.016Z"
   },
   {
    "duration": 33,
    "start_time": "2023-02-11T10:11:55.040Z"
   },
   {
    "duration": 49,
    "start_time": "2023-02-11T10:11:55.075Z"
   },
   {
    "duration": 21,
    "start_time": "2023-02-11T10:11:55.127Z"
   },
   {
    "duration": 24,
    "start_time": "2023-02-11T10:11:55.150Z"
   },
   {
    "duration": 52,
    "start_time": "2023-02-11T10:11:55.176Z"
   },
   {
    "duration": 67,
    "start_time": "2023-02-11T10:11:55.230Z"
   },
   {
    "duration": 9,
    "start_time": "2023-02-11T10:11:55.300Z"
   },
   {
    "duration": 57,
    "start_time": "2023-02-11T10:11:55.311Z"
   },
   {
    "duration": 293,
    "start_time": "2023-02-11T10:11:55.370Z"
   },
   {
    "duration": 246,
    "start_time": "2023-02-11T10:11:55.665Z"
   },
   {
    "duration": 254,
    "start_time": "2023-02-11T10:11:55.913Z"
   },
   {
    "duration": 344,
    "start_time": "2023-02-11T10:11:56.169Z"
   },
   {
    "duration": 21,
    "start_time": "2023-02-11T10:11:56.517Z"
   },
   {
    "duration": 7,
    "start_time": "2023-02-11T10:11:56.540Z"
   },
   {
    "duration": 19,
    "start_time": "2023-02-11T10:11:56.549Z"
   },
   {
    "duration": 6,
    "start_time": "2023-02-11T10:11:56.569Z"
   },
   {
    "duration": 78,
    "start_time": "2023-02-11T10:11:56.577Z"
   },
   {
    "duration": 5593,
    "start_time": "2023-02-11T10:11:56.657Z"
   },
   {
    "duration": 505,
    "start_time": "2023-02-11T10:12:02.252Z"
   },
   {
    "duration": 145,
    "start_time": "2023-02-11T10:12:02.759Z"
   },
   {
    "duration": 0,
    "start_time": "2023-02-11T10:12:02.908Z"
   },
   {
    "duration": 0,
    "start_time": "2023-02-11T10:12:02.908Z"
   },
   {
    "duration": 0,
    "start_time": "2023-02-11T10:12:02.909Z"
   },
   {
    "duration": 0,
    "start_time": "2023-02-11T10:12:02.910Z"
   },
   {
    "duration": 0,
    "start_time": "2023-02-11T10:12:02.912Z"
   },
   {
    "duration": 0,
    "start_time": "2023-02-11T10:12:02.913Z"
   },
   {
    "duration": 12,
    "start_time": "2023-02-11T10:15:01.048Z"
   },
   {
    "duration": 28,
    "start_time": "2023-02-11T10:17:31.420Z"
   },
   {
    "duration": 19,
    "start_time": "2023-02-11T10:28:24.228Z"
   },
   {
    "duration": 43861,
    "start_time": "2023-02-11T10:41:10.318Z"
   },
   {
    "duration": 67,
    "start_time": "2023-02-11T11:02:46.077Z"
   },
   {
    "duration": 13,
    "start_time": "2023-02-11T11:02:56.728Z"
   },
   {
    "duration": 1544,
    "start_time": "2023-02-11T11:12:54.010Z"
   },
   {
    "duration": 881,
    "start_time": "2023-02-11T11:12:55.557Z"
   },
   {
    "duration": 122,
    "start_time": "2023-02-11T11:12:56.440Z"
   },
   {
    "duration": 118,
    "start_time": "2023-02-11T11:12:56.564Z"
   },
   {
    "duration": 502,
    "start_time": "2023-02-11T11:12:56.684Z"
   },
   {
    "duration": 191,
    "start_time": "2023-02-11T11:12:57.189Z"
   },
   {
    "duration": 26,
    "start_time": "2023-02-11T11:12:57.382Z"
   },
   {
    "duration": 255,
    "start_time": "2023-02-11T11:12:57.411Z"
   },
   {
    "duration": 19,
    "start_time": "2023-02-11T11:12:57.668Z"
   },
   {
    "duration": 38,
    "start_time": "2023-02-11T11:12:57.690Z"
   },
   {
    "duration": 30,
    "start_time": "2023-02-11T11:12:57.730Z"
   },
   {
    "duration": 29,
    "start_time": "2023-02-11T11:12:57.762Z"
   },
   {
    "duration": 36,
    "start_time": "2023-02-11T11:12:57.803Z"
   },
   {
    "duration": 21,
    "start_time": "2023-02-11T11:12:57.841Z"
   },
   {
    "duration": 42,
    "start_time": "2023-02-11T11:12:57.865Z"
   },
   {
    "duration": 42,
    "start_time": "2023-02-11T11:12:57.911Z"
   },
   {
    "duration": 90,
    "start_time": "2023-02-11T11:12:57.955Z"
   },
   {
    "duration": 5,
    "start_time": "2023-02-11T11:12:58.047Z"
   },
   {
    "duration": 28,
    "start_time": "2023-02-11T11:12:58.054Z"
   },
   {
    "duration": 254,
    "start_time": "2023-02-11T11:12:58.103Z"
   },
   {
    "duration": 229,
    "start_time": "2023-02-11T11:12:58.359Z"
   },
   {
    "duration": 225,
    "start_time": "2023-02-11T11:12:58.590Z"
   },
   {
    "duration": 309,
    "start_time": "2023-02-11T11:12:58.816Z"
   },
   {
    "duration": 27,
    "start_time": "2023-02-11T11:12:59.128Z"
   },
   {
    "duration": 6,
    "start_time": "2023-02-11T11:12:59.157Z"
   },
   {
    "duration": 40,
    "start_time": "2023-02-11T11:12:59.164Z"
   },
   {
    "duration": 6,
    "start_time": "2023-02-11T11:12:59.207Z"
   },
   {
    "duration": 89,
    "start_time": "2023-02-11T11:12:59.218Z"
   },
   {
    "duration": 5151,
    "start_time": "2023-02-11T11:12:59.310Z"
   },
   {
    "duration": 458,
    "start_time": "2023-02-11T11:13:04.463Z"
   },
   {
    "duration": 122,
    "start_time": "2023-02-11T11:13:04.923Z"
   },
   {
    "duration": 0,
    "start_time": "2023-02-11T11:13:05.047Z"
   },
   {
    "duration": 0,
    "start_time": "2023-02-11T11:13:05.049Z"
   },
   {
    "duration": 0,
    "start_time": "2023-02-11T11:13:05.050Z"
   },
   {
    "duration": 0,
    "start_time": "2023-02-11T11:13:05.051Z"
   },
   {
    "duration": 0,
    "start_time": "2023-02-11T11:13:05.052Z"
   },
   {
    "duration": 0,
    "start_time": "2023-02-11T11:13:05.053Z"
   },
   {
    "duration": 13,
    "start_time": "2023-02-11T11:13:51.173Z"
   },
   {
    "duration": 90,
    "start_time": "2023-02-11T11:14:19.588Z"
   },
   {
    "duration": 0,
    "start_time": "2023-02-11T11:14:19.680Z"
   },
   {
    "duration": 0,
    "start_time": "2023-02-11T11:14:19.681Z"
   },
   {
    "duration": 0,
    "start_time": "2023-02-11T11:14:19.683Z"
   },
   {
    "duration": 0,
    "start_time": "2023-02-11T11:14:19.684Z"
   },
   {
    "duration": 0,
    "start_time": "2023-02-11T11:14:19.686Z"
   },
   {
    "duration": 0,
    "start_time": "2023-02-11T11:14:19.687Z"
   },
   {
    "duration": 0,
    "start_time": "2023-02-11T11:14:19.689Z"
   },
   {
    "duration": 0,
    "start_time": "2023-02-11T11:14:19.690Z"
   },
   {
    "duration": 0,
    "start_time": "2023-02-11T11:14:19.692Z"
   },
   {
    "duration": 0,
    "start_time": "2023-02-11T11:14:19.693Z"
   },
   {
    "duration": 0,
    "start_time": "2023-02-11T11:14:19.695Z"
   },
   {
    "duration": 0,
    "start_time": "2023-02-11T11:14:19.696Z"
   },
   {
    "duration": 0,
    "start_time": "2023-02-11T11:14:19.698Z"
   },
   {
    "duration": 0,
    "start_time": "2023-02-11T11:14:19.699Z"
   },
   {
    "duration": 0,
    "start_time": "2023-02-11T11:14:19.701Z"
   },
   {
    "duration": 0,
    "start_time": "2023-02-11T11:14:19.702Z"
   },
   {
    "duration": 0,
    "start_time": "2023-02-11T11:14:19.704Z"
   },
   {
    "duration": 0,
    "start_time": "2023-02-11T11:14:19.706Z"
   },
   {
    "duration": 0,
    "start_time": "2023-02-11T11:14:19.708Z"
   },
   {
    "duration": 101,
    "start_time": "2023-02-11T11:14:19.713Z"
   },
   {
    "duration": 0,
    "start_time": "2023-02-11T11:14:19.816Z"
   },
   {
    "duration": 0,
    "start_time": "2023-02-11T11:14:19.817Z"
   },
   {
    "duration": 0,
    "start_time": "2023-02-11T11:14:19.819Z"
   },
   {
    "duration": 0,
    "start_time": "2023-02-11T11:14:19.820Z"
   },
   {
    "duration": 0,
    "start_time": "2023-02-11T11:14:19.821Z"
   },
   {
    "duration": 0,
    "start_time": "2023-02-11T11:14:19.822Z"
   },
   {
    "duration": 0,
    "start_time": "2023-02-11T11:14:19.824Z"
   },
   {
    "duration": 0,
    "start_time": "2023-02-11T11:14:19.825Z"
   },
   {
    "duration": 0,
    "start_time": "2023-02-11T11:14:19.826Z"
   },
   {
    "duration": 0,
    "start_time": "2023-02-11T11:14:19.827Z"
   },
   {
    "duration": 0,
    "start_time": "2023-02-11T11:14:19.829Z"
   },
   {
    "duration": 0,
    "start_time": "2023-02-11T11:14:19.829Z"
   },
   {
    "duration": 0,
    "start_time": "2023-02-11T11:14:19.830Z"
   },
   {
    "duration": 0,
    "start_time": "2023-02-11T11:14:19.831Z"
   },
   {
    "duration": 0,
    "start_time": "2023-02-11T11:14:19.833Z"
   },
   {
    "duration": 0,
    "start_time": "2023-02-11T11:14:19.834Z"
   },
   {
    "duration": 98,
    "start_time": "2023-02-11T11:14:42.512Z"
   },
   {
    "duration": 0,
    "start_time": "2023-02-11T11:14:42.613Z"
   },
   {
    "duration": 0,
    "start_time": "2023-02-11T11:14:42.615Z"
   },
   {
    "duration": 0,
    "start_time": "2023-02-11T11:14:42.617Z"
   },
   {
    "duration": 0,
    "start_time": "2023-02-11T11:14:42.619Z"
   },
   {
    "duration": 0,
    "start_time": "2023-02-11T11:14:42.620Z"
   },
   {
    "duration": 0,
    "start_time": "2023-02-11T11:14:42.622Z"
   },
   {
    "duration": 0,
    "start_time": "2023-02-11T11:14:42.624Z"
   },
   {
    "duration": 0,
    "start_time": "2023-02-11T11:14:42.625Z"
   },
   {
    "duration": 0,
    "start_time": "2023-02-11T11:14:42.626Z"
   },
   {
    "duration": 0,
    "start_time": "2023-02-11T11:14:42.627Z"
   },
   {
    "duration": 0,
    "start_time": "2023-02-11T11:14:42.629Z"
   },
   {
    "duration": 0,
    "start_time": "2023-02-11T11:14:42.630Z"
   },
   {
    "duration": 0,
    "start_time": "2023-02-11T11:14:42.631Z"
   },
   {
    "duration": 0,
    "start_time": "2023-02-11T11:14:42.632Z"
   },
   {
    "duration": 0,
    "start_time": "2023-02-11T11:14:42.633Z"
   },
   {
    "duration": 0,
    "start_time": "2023-02-11T11:14:42.635Z"
   },
   {
    "duration": 0,
    "start_time": "2023-02-11T11:14:42.636Z"
   },
   {
    "duration": 0,
    "start_time": "2023-02-11T11:14:42.637Z"
   },
   {
    "duration": 0,
    "start_time": "2023-02-11T11:14:42.638Z"
   },
   {
    "duration": 0,
    "start_time": "2023-02-11T11:14:42.639Z"
   },
   {
    "duration": 0,
    "start_time": "2023-02-11T11:14:42.640Z"
   },
   {
    "duration": 0,
    "start_time": "2023-02-11T11:14:42.641Z"
   },
   {
    "duration": 0,
    "start_time": "2023-02-11T11:14:42.642Z"
   },
   {
    "duration": 0,
    "start_time": "2023-02-11T11:14:42.643Z"
   },
   {
    "duration": 0,
    "start_time": "2023-02-11T11:14:42.645Z"
   },
   {
    "duration": 0,
    "start_time": "2023-02-11T11:14:42.646Z"
   },
   {
    "duration": 0,
    "start_time": "2023-02-11T11:14:42.647Z"
   },
   {
    "duration": 0,
    "start_time": "2023-02-11T11:14:42.648Z"
   },
   {
    "duration": 100,
    "start_time": "2023-02-11T11:14:42.705Z"
   },
   {
    "duration": 0,
    "start_time": "2023-02-11T11:14:42.806Z"
   },
   {
    "duration": 1,
    "start_time": "2023-02-11T11:14:42.807Z"
   },
   {
    "duration": 0,
    "start_time": "2023-02-11T11:14:42.808Z"
   },
   {
    "duration": 0,
    "start_time": "2023-02-11T11:14:42.809Z"
   },
   {
    "duration": 0,
    "start_time": "2023-02-11T11:14:42.811Z"
   },
   {
    "duration": 0,
    "start_time": "2023-02-11T11:14:42.812Z"
   },
   {
    "duration": 0,
    "start_time": "2023-02-11T11:14:42.813Z"
   },
   {
    "duration": 8,
    "start_time": "2023-02-11T11:15:24.484Z"
   },
   {
    "duration": 9,
    "start_time": "2023-02-11T11:15:41.101Z"
   },
   {
    "duration": 1539,
    "start_time": "2023-02-11T11:15:52.844Z"
   },
   {
    "duration": 1518,
    "start_time": "2023-02-11T11:15:57.485Z"
   },
   {
    "duration": 842,
    "start_time": "2023-02-11T11:15:59.005Z"
   },
   {
    "duration": 123,
    "start_time": "2023-02-11T11:15:59.850Z"
   },
   {
    "duration": 109,
    "start_time": "2023-02-11T11:15:59.976Z"
   },
   {
    "duration": 493,
    "start_time": "2023-02-11T11:16:00.087Z"
   },
   {
    "duration": 113,
    "start_time": "2023-02-11T11:16:00.582Z"
   },
   {
    "duration": 17,
    "start_time": "2023-02-11T11:16:00.697Z"
   },
   {
    "duration": 259,
    "start_time": "2023-02-11T11:16:00.716Z"
   },
   {
    "duration": 19,
    "start_time": "2023-02-11T11:16:00.977Z"
   },
   {
    "duration": 45,
    "start_time": "2023-02-11T11:16:01.005Z"
   },
   {
    "duration": 46,
    "start_time": "2023-02-11T11:16:01.052Z"
   },
   {
    "duration": 76,
    "start_time": "2023-02-11T11:16:01.100Z"
   },
   {
    "duration": 66,
    "start_time": "2023-02-11T11:16:01.178Z"
   },
   {
    "duration": 55,
    "start_time": "2023-02-11T11:16:01.246Z"
   },
   {
    "duration": 45,
    "start_time": "2023-02-11T11:16:01.304Z"
   },
   {
    "duration": 53,
    "start_time": "2023-02-11T11:16:01.351Z"
   },
   {
    "duration": 82,
    "start_time": "2023-02-11T11:16:01.405Z"
   },
   {
    "duration": 6,
    "start_time": "2023-02-11T11:16:01.488Z"
   },
   {
    "duration": 32,
    "start_time": "2023-02-11T11:16:01.495Z"
   },
   {
    "duration": 246,
    "start_time": "2023-02-11T11:16:01.529Z"
   },
   {
    "duration": 214,
    "start_time": "2023-02-11T11:16:01.777Z"
   },
   {
    "duration": 233,
    "start_time": "2023-02-11T11:16:01.993Z"
   },
   {
    "duration": 293,
    "start_time": "2023-02-11T11:16:02.228Z"
   },
   {
    "duration": 20,
    "start_time": "2023-02-11T11:16:02.523Z"
   },
   {
    "duration": 5,
    "start_time": "2023-02-11T11:16:02.545Z"
   },
   {
    "duration": 19,
    "start_time": "2023-02-11T11:16:02.552Z"
   },
   {
    "duration": 4,
    "start_time": "2023-02-11T11:16:02.573Z"
   },
   {
    "duration": 47,
    "start_time": "2023-02-11T11:16:02.605Z"
   },
   {
    "duration": 5033,
    "start_time": "2023-02-11T11:16:02.654Z"
   },
   {
    "duration": 458,
    "start_time": "2023-02-11T11:16:07.689Z"
   },
   {
    "duration": 115,
    "start_time": "2023-02-11T11:16:08.148Z"
   },
   {
    "duration": 0,
    "start_time": "2023-02-11T11:16:08.264Z"
   },
   {
    "duration": 0,
    "start_time": "2023-02-11T11:16:08.265Z"
   },
   {
    "duration": 0,
    "start_time": "2023-02-11T11:16:08.266Z"
   },
   {
    "duration": 0,
    "start_time": "2023-02-11T11:16:08.268Z"
   },
   {
    "duration": 0,
    "start_time": "2023-02-11T11:16:08.269Z"
   },
   {
    "duration": 0,
    "start_time": "2023-02-11T11:16:08.270Z"
   },
   {
    "duration": 16,
    "start_time": "2023-02-11T11:16:33.595Z"
   },
   {
    "duration": 16,
    "start_time": "2023-02-11T11:18:27.177Z"
   },
   {
    "duration": 1633,
    "start_time": "2023-02-11T11:24:31.038Z"
   },
   {
    "duration": 934,
    "start_time": "2023-02-11T11:24:32.673Z"
   },
   {
    "duration": 134,
    "start_time": "2023-02-11T11:24:33.609Z"
   },
   {
    "duration": 139,
    "start_time": "2023-02-11T11:24:33.747Z"
   },
   {
    "duration": 547,
    "start_time": "2023-02-11T11:24:33.887Z"
   },
   {
    "duration": 111,
    "start_time": "2023-02-11T11:24:34.436Z"
   },
   {
    "duration": 13,
    "start_time": "2023-02-11T11:24:34.549Z"
   },
   {
    "duration": 257,
    "start_time": "2023-02-11T11:24:34.564Z"
   },
   {
    "duration": 17,
    "start_time": "2023-02-11T11:24:34.823Z"
   },
   {
    "duration": 20,
    "start_time": "2023-02-11T11:24:34.843Z"
   },
   {
    "duration": 21,
    "start_time": "2023-02-11T11:24:34.865Z"
   },
   {
    "duration": 36,
    "start_time": "2023-02-11T11:24:34.904Z"
   },
   {
    "duration": 60,
    "start_time": "2023-02-11T11:24:34.943Z"
   },
   {
    "duration": 31,
    "start_time": "2023-02-11T11:24:35.006Z"
   },
   {
    "duration": 44,
    "start_time": "2023-02-11T11:24:35.040Z"
   },
   {
    "duration": 38,
    "start_time": "2023-02-11T11:24:35.085Z"
   },
   {
    "duration": 62,
    "start_time": "2023-02-11T11:24:35.125Z"
   },
   {
    "duration": 17,
    "start_time": "2023-02-11T11:24:35.189Z"
   },
   {
    "duration": 55,
    "start_time": "2023-02-11T11:24:35.209Z"
   },
   {
    "duration": 266,
    "start_time": "2023-02-11T11:24:35.266Z"
   },
   {
    "duration": 221,
    "start_time": "2023-02-11T11:24:35.534Z"
   },
   {
    "duration": 269,
    "start_time": "2023-02-11T11:24:35.757Z"
   },
   {
    "duration": 300,
    "start_time": "2023-02-11T11:24:36.030Z"
   },
   {
    "duration": 19,
    "start_time": "2023-02-11T11:24:36.332Z"
   },
   {
    "duration": 6,
    "start_time": "2023-02-11T11:24:36.353Z"
   },
   {
    "duration": 22,
    "start_time": "2023-02-11T11:24:36.361Z"
   },
   {
    "duration": 5,
    "start_time": "2023-02-11T11:24:36.404Z"
   },
   {
    "duration": 51,
    "start_time": "2023-02-11T11:24:36.413Z"
   },
   {
    "duration": 5023,
    "start_time": "2023-02-11T11:24:36.466Z"
   },
   {
    "duration": 466,
    "start_time": "2023-02-11T11:24:41.490Z"
   },
   {
    "duration": 6,
    "start_time": "2023-02-11T11:24:41.958Z"
   },
   {
    "duration": 8,
    "start_time": "2023-02-11T11:24:41.966Z"
   },
   {
    "duration": 6,
    "start_time": "2023-02-11T11:24:41.976Z"
   },
   {
    "duration": 23,
    "start_time": "2023-02-11T11:24:41.985Z"
   },
   {
    "duration": 7556,
    "start_time": "2023-02-11T11:24:42.010Z"
   },
   {
    "duration": 95,
    "start_time": "2023-02-11T11:24:49.568Z"
   },
   {
    "duration": 74,
    "start_time": "2023-02-11T11:24:49.665Z"
   },
   {
    "duration": 7240,
    "start_time": "2023-02-11T11:25:33.635Z"
   },
   {
    "duration": 7,
    "start_time": "2023-02-11T11:25:43.594Z"
   },
   {
    "duration": 98,
    "start_time": "2023-02-11T11:27:55.743Z"
   },
   {
    "duration": 7560,
    "start_time": "2023-02-11T11:28:02.936Z"
   },
   {
    "duration": 2680,
    "start_time": "2023-02-11T11:28:50.907Z"
   },
   {
    "duration": 899,
    "start_time": "2023-02-11T11:28:53.589Z"
   },
   {
    "duration": 135,
    "start_time": "2023-02-11T11:28:54.491Z"
   },
   {
    "duration": 127,
    "start_time": "2023-02-11T11:28:54.628Z"
   },
   {
    "duration": 488,
    "start_time": "2023-02-11T11:28:54.757Z"
   },
   {
    "duration": 117,
    "start_time": "2023-02-11T11:28:55.246Z"
   },
   {
    "duration": 14,
    "start_time": "2023-02-11T11:28:55.366Z"
   },
   {
    "duration": 283,
    "start_time": "2023-02-11T11:28:55.382Z"
   },
   {
    "duration": 17,
    "start_time": "2023-02-11T11:28:55.667Z"
   },
   {
    "duration": 27,
    "start_time": "2023-02-11T11:28:55.687Z"
   },
   {
    "duration": 29,
    "start_time": "2023-02-11T11:28:55.717Z"
   },
   {
    "duration": 24,
    "start_time": "2023-02-11T11:28:55.747Z"
   },
   {
    "duration": 33,
    "start_time": "2023-02-11T11:28:55.773Z"
   },
   {
    "duration": 18,
    "start_time": "2023-02-11T11:28:55.807Z"
   },
   {
    "duration": 21,
    "start_time": "2023-02-11T11:28:55.826Z"
   },
   {
    "duration": 26,
    "start_time": "2023-02-11T11:28:55.848Z"
   },
   {
    "duration": 77,
    "start_time": "2023-02-11T11:28:55.876Z"
   },
   {
    "duration": 5,
    "start_time": "2023-02-11T11:28:55.955Z"
   },
   {
    "duration": 65,
    "start_time": "2023-02-11T11:28:55.962Z"
   },
   {
    "duration": 286,
    "start_time": "2023-02-11T11:28:56.030Z"
   },
   {
    "duration": 209,
    "start_time": "2023-02-11T11:28:56.317Z"
   },
   {
    "duration": 236,
    "start_time": "2023-02-11T11:28:56.529Z"
   },
   {
    "duration": 294,
    "start_time": "2023-02-11T11:28:56.766Z"
   },
   {
    "duration": 20,
    "start_time": "2023-02-11T11:28:57.061Z"
   },
   {
    "duration": 22,
    "start_time": "2023-02-11T11:28:57.083Z"
   },
   {
    "duration": 18,
    "start_time": "2023-02-11T11:28:57.107Z"
   },
   {
    "duration": 5,
    "start_time": "2023-02-11T11:28:57.127Z"
   },
   {
    "duration": 71,
    "start_time": "2023-02-11T11:28:57.137Z"
   },
   {
    "duration": 6389,
    "start_time": "2023-02-11T11:28:57.211Z"
   },
   {
    "duration": 501,
    "start_time": "2023-02-11T11:29:03.604Z"
   },
   {
    "duration": 10,
    "start_time": "2023-02-11T11:29:04.107Z"
   },
   {
    "duration": 17,
    "start_time": "2023-02-11T11:29:04.119Z"
   },
   {
    "duration": 17,
    "start_time": "2023-02-11T11:29:04.138Z"
   },
   {
    "duration": 12,
    "start_time": "2023-02-11T11:29:04.157Z"
   },
   {
    "duration": 7491,
    "start_time": "2023-02-11T11:29:04.170Z"
   },
   {
    "duration": 107,
    "start_time": "2023-02-11T11:29:11.662Z"
   },
   {
    "duration": 83,
    "start_time": "2023-02-11T11:29:11.771Z"
   },
   {
    "duration": 1514,
    "start_time": "2023-02-11T11:31:45.095Z"
   },
   {
    "duration": 928,
    "start_time": "2023-02-11T11:31:46.612Z"
   },
   {
    "duration": 132,
    "start_time": "2023-02-11T11:31:47.541Z"
   },
   {
    "duration": 118,
    "start_time": "2023-02-11T11:31:47.675Z"
   },
   {
    "duration": 527,
    "start_time": "2023-02-11T11:31:47.794Z"
   },
   {
    "duration": 133,
    "start_time": "2023-02-11T11:31:48.323Z"
   },
   {
    "duration": 13,
    "start_time": "2023-02-11T11:31:48.458Z"
   },
   {
    "duration": 259,
    "start_time": "2023-02-11T11:31:48.473Z"
   },
   {
    "duration": 20,
    "start_time": "2023-02-11T11:31:48.734Z"
   },
   {
    "duration": 49,
    "start_time": "2023-02-11T11:31:48.759Z"
   },
   {
    "duration": 34,
    "start_time": "2023-02-11T11:31:48.811Z"
   },
   {
    "duration": 41,
    "start_time": "2023-02-11T11:31:48.847Z"
   },
   {
    "duration": 40,
    "start_time": "2023-02-11T11:31:48.891Z"
   },
   {
    "duration": 17,
    "start_time": "2023-02-11T11:31:48.933Z"
   },
   {
    "duration": 26,
    "start_time": "2023-02-11T11:31:48.952Z"
   },
   {
    "duration": 31,
    "start_time": "2023-02-11T11:31:48.979Z"
   },
   {
    "duration": 60,
    "start_time": "2023-02-11T11:31:49.011Z"
   },
   {
    "duration": 5,
    "start_time": "2023-02-11T11:31:49.073Z"
   },
   {
    "duration": 46,
    "start_time": "2023-02-11T11:31:49.079Z"
   },
   {
    "duration": 261,
    "start_time": "2023-02-11T11:31:49.127Z"
   },
   {
    "duration": 219,
    "start_time": "2023-02-11T11:31:49.390Z"
   },
   {
    "duration": 227,
    "start_time": "2023-02-11T11:31:49.612Z"
   },
   {
    "duration": 288,
    "start_time": "2023-02-11T11:31:49.841Z"
   },
   {
    "duration": 19,
    "start_time": "2023-02-11T11:31:50.131Z"
   },
   {
    "duration": 7,
    "start_time": "2023-02-11T11:31:50.152Z"
   },
   {
    "duration": 24,
    "start_time": "2023-02-11T11:31:50.160Z"
   },
   {
    "duration": 21,
    "start_time": "2023-02-11T11:31:50.185Z"
   },
   {
    "duration": 99,
    "start_time": "2023-02-11T11:31:50.212Z"
   },
   {
    "duration": 5190,
    "start_time": "2023-02-11T11:31:50.313Z"
   },
   {
    "duration": 391,
    "start_time": "2023-02-11T11:31:55.505Z"
   },
   {
    "duration": 7,
    "start_time": "2023-02-11T11:31:55.898Z"
   },
   {
    "duration": 9,
    "start_time": "2023-02-11T11:31:55.906Z"
   },
   {
    "duration": 6,
    "start_time": "2023-02-11T11:31:55.916Z"
   },
   {
    "duration": 6,
    "start_time": "2023-02-11T11:31:55.924Z"
   },
   {
    "duration": 7499,
    "start_time": "2023-02-11T11:31:55.931Z"
   },
   {
    "duration": 87,
    "start_time": "2023-02-11T11:32:03.432Z"
   },
   {
    "duration": 76,
    "start_time": "2023-02-11T11:32:03.521Z"
   },
   {
    "duration": 565,
    "start_time": "2023-02-11T11:32:27.623Z"
   },
   {
    "duration": 4239,
    "start_time": "2023-02-11T11:39:16.387Z"
   },
   {
    "duration": 1524,
    "start_time": "2023-02-11T11:39:31.436Z"
   },
   {
    "duration": 857,
    "start_time": "2023-02-11T11:39:32.963Z"
   },
   {
    "duration": 140,
    "start_time": "2023-02-11T11:39:33.822Z"
   },
   {
    "duration": 117,
    "start_time": "2023-02-11T11:39:33.964Z"
   },
   {
    "duration": 528,
    "start_time": "2023-02-11T11:39:34.083Z"
   },
   {
    "duration": 120,
    "start_time": "2023-02-11T11:39:34.612Z"
   },
   {
    "duration": 14,
    "start_time": "2023-02-11T11:39:34.734Z"
   },
   {
    "duration": 265,
    "start_time": "2023-02-11T11:39:34.750Z"
   },
   {
    "duration": 19,
    "start_time": "2023-02-11T11:39:35.017Z"
   },
   {
    "duration": 22,
    "start_time": "2023-02-11T11:39:35.038Z"
   },
   {
    "duration": 21,
    "start_time": "2023-02-11T11:39:35.062Z"
   },
   {
    "duration": 19,
    "start_time": "2023-02-11T11:39:35.104Z"
   },
   {
    "duration": 31,
    "start_time": "2023-02-11T11:39:35.125Z"
   },
   {
    "duration": 19,
    "start_time": "2023-02-11T11:39:35.158Z"
   },
   {
    "duration": 35,
    "start_time": "2023-02-11T11:39:35.179Z"
   },
   {
    "duration": 35,
    "start_time": "2023-02-11T11:39:35.216Z"
   },
   {
    "duration": 64,
    "start_time": "2023-02-11T11:39:35.253Z"
   },
   {
    "duration": 5,
    "start_time": "2023-02-11T11:39:35.319Z"
   },
   {
    "duration": 34,
    "start_time": "2023-02-11T11:39:35.325Z"
   },
   {
    "duration": 264,
    "start_time": "2023-02-11T11:39:35.360Z"
   },
   {
    "duration": 214,
    "start_time": "2023-02-11T11:39:35.625Z"
   },
   {
    "duration": 223,
    "start_time": "2023-02-11T11:39:35.840Z"
   },
   {
    "duration": 294,
    "start_time": "2023-02-11T11:39:36.064Z"
   },
   {
    "duration": 19,
    "start_time": "2023-02-11T11:39:36.360Z"
   },
   {
    "duration": 22,
    "start_time": "2023-02-11T11:39:36.381Z"
   },
   {
    "duration": 17,
    "start_time": "2023-02-11T11:39:36.405Z"
   },
   {
    "duration": 6,
    "start_time": "2023-02-11T11:39:36.424Z"
   },
   {
    "duration": 103,
    "start_time": "2023-02-11T11:39:36.434Z"
   },
   {
    "duration": 4162,
    "start_time": "2023-02-11T11:39:36.539Z"
   },
   {
    "duration": 377,
    "start_time": "2023-02-11T11:39:40.703Z"
   },
   {
    "duration": 4,
    "start_time": "2023-02-11T11:39:41.083Z"
   },
   {
    "duration": 621,
    "start_time": "2023-02-11T11:39:41.089Z"
   },
   {
    "duration": 5,
    "start_time": "2023-02-11T11:39:41.712Z"
   },
   {
    "duration": 18,
    "start_time": "2023-02-11T11:39:41.719Z"
   },
   {
    "duration": 7338,
    "start_time": "2023-02-11T11:39:41.739Z"
   },
   {
    "duration": 88,
    "start_time": "2023-02-11T11:39:49.079Z"
   },
   {
    "duration": 79,
    "start_time": "2023-02-11T11:39:49.169Z"
   },
   {
    "duration": 42301,
    "start_time": "2023-02-11T11:40:06.941Z"
   },
   {
    "duration": 13932,
    "start_time": "2023-02-11T11:40:57.279Z"
   },
   {
    "duration": 74,
    "start_time": "2023-02-11T11:41:21.878Z"
   },
   {
    "duration": 1542,
    "start_time": "2023-02-11T11:42:25.815Z"
   },
   {
    "duration": 856,
    "start_time": "2023-02-11T11:42:27.360Z"
   },
   {
    "duration": 115,
    "start_time": "2023-02-11T11:42:28.218Z"
   },
   {
    "duration": 122,
    "start_time": "2023-02-11T11:42:28.335Z"
   },
   {
    "duration": 519,
    "start_time": "2023-02-11T11:42:28.459Z"
   },
   {
    "duration": 137,
    "start_time": "2023-02-11T11:42:28.980Z"
   },
   {
    "duration": 13,
    "start_time": "2023-02-11T11:42:29.119Z"
   },
   {
    "duration": 242,
    "start_time": "2023-02-11T11:42:29.133Z"
   },
   {
    "duration": 18,
    "start_time": "2023-02-11T11:42:29.376Z"
   },
   {
    "duration": 29,
    "start_time": "2023-02-11T11:42:29.402Z"
   },
   {
    "duration": 22,
    "start_time": "2023-02-11T11:42:29.433Z"
   },
   {
    "duration": 53,
    "start_time": "2023-02-11T11:42:29.456Z"
   },
   {
    "duration": 29,
    "start_time": "2023-02-11T11:42:29.510Z"
   },
   {
    "duration": 65,
    "start_time": "2023-02-11T11:42:29.540Z"
   },
   {
    "duration": 20,
    "start_time": "2023-02-11T11:42:29.607Z"
   },
   {
    "duration": 48,
    "start_time": "2023-02-11T11:42:29.628Z"
   },
   {
    "duration": 73,
    "start_time": "2023-02-11T11:42:29.678Z"
   },
   {
    "duration": 51,
    "start_time": "2023-02-11T11:42:29.752Z"
   },
   {
    "duration": 24,
    "start_time": "2023-02-11T11:42:29.805Z"
   },
   {
    "duration": 257,
    "start_time": "2023-02-11T11:42:29.831Z"
   },
   {
    "duration": 218,
    "start_time": "2023-02-11T11:42:30.089Z"
   },
   {
    "duration": 240,
    "start_time": "2023-02-11T11:42:30.308Z"
   },
   {
    "duration": 308,
    "start_time": "2023-02-11T11:42:30.550Z"
   },
   {
    "duration": 20,
    "start_time": "2023-02-11T11:42:30.860Z"
   },
   {
    "duration": 24,
    "start_time": "2023-02-11T11:42:30.882Z"
   },
   {
    "duration": 34,
    "start_time": "2023-02-11T11:42:30.908Z"
   },
   {
    "duration": 11,
    "start_time": "2023-02-11T11:42:30.944Z"
   },
   {
    "duration": 121,
    "start_time": "2023-02-11T11:42:30.959Z"
   },
   {
    "duration": 41733,
    "start_time": "2023-02-11T11:42:31.082Z"
   },
   {
    "duration": 0,
    "start_time": "2023-02-11T11:43:12.817Z"
   },
   {
    "duration": 0,
    "start_time": "2023-02-11T11:43:12.818Z"
   },
   {
    "duration": 0,
    "start_time": "2023-02-11T11:43:12.819Z"
   },
   {
    "duration": 0,
    "start_time": "2023-02-11T11:43:12.820Z"
   },
   {
    "duration": 0,
    "start_time": "2023-02-11T11:43:12.821Z"
   },
   {
    "duration": 0,
    "start_time": "2023-02-11T11:43:12.822Z"
   },
   {
    "duration": 0,
    "start_time": "2023-02-11T11:43:12.823Z"
   },
   {
    "duration": 0,
    "start_time": "2023-02-11T11:43:12.824Z"
   },
   {
    "duration": 1543,
    "start_time": "2023-02-11T11:46:19.596Z"
   },
   {
    "duration": 836,
    "start_time": "2023-02-11T11:46:21.141Z"
   },
   {
    "duration": 125,
    "start_time": "2023-02-11T11:46:21.979Z"
   },
   {
    "duration": 110,
    "start_time": "2023-02-11T11:46:22.106Z"
   },
   {
    "duration": 524,
    "start_time": "2023-02-11T11:46:22.218Z"
   },
   {
    "duration": 123,
    "start_time": "2023-02-11T11:46:22.744Z"
   },
   {
    "duration": 14,
    "start_time": "2023-02-11T11:46:22.869Z"
   },
   {
    "duration": 277,
    "start_time": "2023-02-11T11:46:22.885Z"
   },
   {
    "duration": 19,
    "start_time": "2023-02-11T11:46:23.164Z"
   },
   {
    "duration": 33,
    "start_time": "2023-02-11T11:46:23.187Z"
   },
   {
    "duration": 29,
    "start_time": "2023-02-11T11:46:23.223Z"
   },
   {
    "duration": 20,
    "start_time": "2023-02-11T11:46:23.255Z"
   },
   {
    "duration": 44,
    "start_time": "2023-02-11T11:46:23.277Z"
   },
   {
    "duration": 18,
    "start_time": "2023-02-11T11:46:23.323Z"
   },
   {
    "duration": 27,
    "start_time": "2023-02-11T11:46:23.344Z"
   },
   {
    "duration": 41,
    "start_time": "2023-02-11T11:46:23.373Z"
   },
   {
    "duration": 62,
    "start_time": "2023-02-11T11:46:23.416Z"
   },
   {
    "duration": 25,
    "start_time": "2023-02-11T11:46:23.480Z"
   },
   {
    "duration": 25,
    "start_time": "2023-02-11T11:46:23.507Z"
   },
   {
    "duration": 265,
    "start_time": "2023-02-11T11:46:23.533Z"
   },
   {
    "duration": 215,
    "start_time": "2023-02-11T11:46:23.800Z"
   },
   {
    "duration": 366,
    "start_time": "2023-02-11T11:46:24.017Z"
   },
   {
    "duration": 297,
    "start_time": "2023-02-11T11:46:24.384Z"
   },
   {
    "duration": 25,
    "start_time": "2023-02-11T11:46:24.682Z"
   },
   {
    "duration": 5,
    "start_time": "2023-02-11T11:46:24.709Z"
   },
   {
    "duration": 22,
    "start_time": "2023-02-11T11:46:24.716Z"
   },
   {
    "duration": 6,
    "start_time": "2023-02-11T11:46:24.739Z"
   },
   {
    "duration": 98,
    "start_time": "2023-02-11T11:46:24.747Z"
   },
   {
    "duration": 166,
    "start_time": "2023-02-11T11:46:24.847Z"
   },
   {
    "duration": 0,
    "start_time": "2023-02-11T11:46:25.014Z"
   },
   {
    "duration": 0,
    "start_time": "2023-02-11T11:46:25.015Z"
   },
   {
    "duration": 0,
    "start_time": "2023-02-11T11:46:25.016Z"
   },
   {
    "duration": 0,
    "start_time": "2023-02-11T11:46:25.017Z"
   },
   {
    "duration": 0,
    "start_time": "2023-02-11T11:46:25.018Z"
   },
   {
    "duration": 0,
    "start_time": "2023-02-11T11:46:25.019Z"
   },
   {
    "duration": 0,
    "start_time": "2023-02-11T11:46:25.020Z"
   },
   {
    "duration": 0,
    "start_time": "2023-02-11T11:46:25.021Z"
   },
   {
    "duration": 84,
    "start_time": "2023-02-11T11:49:52.695Z"
   },
   {
    "duration": 0,
    "start_time": "2023-02-11T11:49:52.783Z"
   },
   {
    "duration": 0,
    "start_time": "2023-02-11T11:49:52.785Z"
   },
   {
    "duration": 0,
    "start_time": "2023-02-11T11:49:52.787Z"
   },
   {
    "duration": 0,
    "start_time": "2023-02-11T11:49:52.788Z"
   },
   {
    "duration": 0,
    "start_time": "2023-02-11T11:49:52.788Z"
   },
   {
    "duration": 0,
    "start_time": "2023-02-11T11:49:52.789Z"
   },
   {
    "duration": 0,
    "start_time": "2023-02-11T11:49:52.790Z"
   },
   {
    "duration": 0,
    "start_time": "2023-02-11T11:49:52.791Z"
   },
   {
    "duration": 0,
    "start_time": "2023-02-11T11:49:52.792Z"
   },
   {
    "duration": 0,
    "start_time": "2023-02-11T11:49:52.794Z"
   },
   {
    "duration": 0,
    "start_time": "2023-02-11T11:49:52.795Z"
   },
   {
    "duration": 0,
    "start_time": "2023-02-11T11:49:52.796Z"
   },
   {
    "duration": 0,
    "start_time": "2023-02-11T11:49:52.797Z"
   },
   {
    "duration": 0,
    "start_time": "2023-02-11T11:49:52.798Z"
   },
   {
    "duration": 0,
    "start_time": "2023-02-11T11:49:52.799Z"
   },
   {
    "duration": 0,
    "start_time": "2023-02-11T11:49:52.800Z"
   },
   {
    "duration": 0,
    "start_time": "2023-02-11T11:49:52.801Z"
   },
   {
    "duration": 0,
    "start_time": "2023-02-11T11:49:52.801Z"
   },
   {
    "duration": 0,
    "start_time": "2023-02-11T11:49:52.802Z"
   },
   {
    "duration": 0,
    "start_time": "2023-02-11T11:49:52.803Z"
   },
   {
    "duration": 0,
    "start_time": "2023-02-11T11:49:52.805Z"
   },
   {
    "duration": 0,
    "start_time": "2023-02-11T11:49:52.805Z"
   },
   {
    "duration": 0,
    "start_time": "2023-02-11T11:49:52.806Z"
   },
   {
    "duration": 0,
    "start_time": "2023-02-11T11:49:52.807Z"
   },
   {
    "duration": 0,
    "start_time": "2023-02-11T11:49:52.808Z"
   },
   {
    "duration": 0,
    "start_time": "2023-02-11T11:49:52.809Z"
   },
   {
    "duration": 109,
    "start_time": "2023-02-11T11:49:52.812Z"
   },
   {
    "duration": 0,
    "start_time": "2023-02-11T11:49:52.923Z"
   },
   {
    "duration": 0,
    "start_time": "2023-02-11T11:49:52.925Z"
   },
   {
    "duration": 0,
    "start_time": "2023-02-11T11:49:52.926Z"
   },
   {
    "duration": 0,
    "start_time": "2023-02-11T11:49:52.928Z"
   },
   {
    "duration": 0,
    "start_time": "2023-02-11T11:49:52.930Z"
   },
   {
    "duration": 0,
    "start_time": "2023-02-11T11:49:52.931Z"
   },
   {
    "duration": 0,
    "start_time": "2023-02-11T11:49:52.933Z"
   },
   {
    "duration": 0,
    "start_time": "2023-02-11T11:49:52.934Z"
   },
   {
    "duration": 0,
    "start_time": "2023-02-11T11:49:52.935Z"
   },
   {
    "duration": 7148,
    "start_time": "2023-02-11T11:50:36.944Z"
   },
   {
    "duration": 2115,
    "start_time": "2023-02-11T11:50:49.022Z"
   },
   {
    "duration": 1345,
    "start_time": "2023-02-11T11:50:51.140Z"
   },
   {
    "duration": 909,
    "start_time": "2023-02-11T11:50:52.487Z"
   },
   {
    "duration": 124,
    "start_time": "2023-02-11T11:50:53.398Z"
   },
   {
    "duration": 119,
    "start_time": "2023-02-11T11:50:53.525Z"
   },
   {
    "duration": 492,
    "start_time": "2023-02-11T11:50:53.646Z"
   },
   {
    "duration": 172,
    "start_time": "2023-02-11T11:50:54.141Z"
   },
   {
    "duration": 18,
    "start_time": "2023-02-11T11:50:54.315Z"
   },
   {
    "duration": 257,
    "start_time": "2023-02-11T11:50:54.335Z"
   },
   {
    "duration": 23,
    "start_time": "2023-02-11T11:50:54.595Z"
   },
   {
    "duration": 23,
    "start_time": "2023-02-11T11:50:54.619Z"
   },
   {
    "duration": 20,
    "start_time": "2023-02-11T11:50:54.644Z"
   },
   {
    "duration": 40,
    "start_time": "2023-02-11T11:50:54.666Z"
   },
   {
    "duration": 27,
    "start_time": "2023-02-11T11:50:54.708Z"
   },
   {
    "duration": 20,
    "start_time": "2023-02-11T11:50:54.737Z"
   },
   {
    "duration": 21,
    "start_time": "2023-02-11T11:50:54.759Z"
   },
   {
    "duration": 48,
    "start_time": "2023-02-11T11:50:54.782Z"
   },
   {
    "duration": 75,
    "start_time": "2023-02-11T11:50:54.832Z"
   },
   {
    "duration": 5,
    "start_time": "2023-02-11T11:50:54.909Z"
   },
   {
    "duration": 27,
    "start_time": "2023-02-11T11:50:54.915Z"
   },
   {
    "duration": 255,
    "start_time": "2023-02-11T11:50:54.944Z"
   },
   {
    "duration": 217,
    "start_time": "2023-02-11T11:50:55.202Z"
   },
   {
    "duration": 214,
    "start_time": "2023-02-11T11:50:55.420Z"
   },
   {
    "duration": 200,
    "start_time": "2023-02-11T11:50:55.636Z"
   },
   {
    "duration": 19,
    "start_time": "2023-02-11T11:50:55.838Z"
   },
   {
    "duration": 6,
    "start_time": "2023-02-11T11:50:55.859Z"
   },
   {
    "duration": 18,
    "start_time": "2023-02-11T11:50:55.866Z"
   },
   {
    "duration": 5,
    "start_time": "2023-02-11T11:50:55.906Z"
   },
   {
    "duration": 94,
    "start_time": "2023-02-11T11:50:55.913Z"
   },
   {
    "duration": 51242,
    "start_time": "2023-02-11T11:50:56.009Z"
   },
   {
    "duration": 357,
    "start_time": "2023-02-11T11:51:47.253Z"
   },
   {
    "duration": 4,
    "start_time": "2023-02-11T11:51:47.613Z"
   },
   {
    "duration": 14804,
    "start_time": "2023-02-11T11:51:47.619Z"
   },
   {
    "duration": 177,
    "start_time": "2023-02-11T11:52:02.426Z"
   },
   {
    "duration": 5,
    "start_time": "2023-02-11T11:52:02.605Z"
   },
   {
    "duration": 5082,
    "start_time": "2023-02-11T11:52:02.612Z"
   },
   {
    "duration": 89,
    "start_time": "2023-02-11T11:52:07.696Z"
   },
   {
    "duration": 82,
    "start_time": "2023-02-11T11:52:07.788Z"
   },
   {
    "duration": 2080,
    "start_time": "2023-02-11T11:54:07.758Z"
   },
   {
    "duration": 1658,
    "start_time": "2023-02-11T11:54:09.841Z"
   },
   {
    "duration": 0,
    "start_time": "2023-02-11T11:54:11.501Z"
   },
   {
    "duration": 0,
    "start_time": "2023-02-11T11:54:11.502Z"
   },
   {
    "duration": 0,
    "start_time": "2023-02-11T11:54:11.504Z"
   },
   {
    "duration": 0,
    "start_time": "2023-02-11T11:54:11.506Z"
   },
   {
    "duration": 0,
    "start_time": "2023-02-11T11:54:11.508Z"
   },
   {
    "duration": 0,
    "start_time": "2023-02-11T11:54:11.509Z"
   },
   {
    "duration": 0,
    "start_time": "2023-02-11T11:54:11.511Z"
   },
   {
    "duration": 0,
    "start_time": "2023-02-11T11:54:11.512Z"
   },
   {
    "duration": 0,
    "start_time": "2023-02-11T11:54:11.514Z"
   },
   {
    "duration": 0,
    "start_time": "2023-02-11T11:54:11.516Z"
   },
   {
    "duration": 0,
    "start_time": "2023-02-11T11:54:11.518Z"
   },
   {
    "duration": 0,
    "start_time": "2023-02-11T11:54:11.520Z"
   },
   {
    "duration": 0,
    "start_time": "2023-02-11T11:54:11.521Z"
   },
   {
    "duration": 0,
    "start_time": "2023-02-11T11:54:11.523Z"
   },
   {
    "duration": 0,
    "start_time": "2023-02-11T11:54:11.524Z"
   },
   {
    "duration": 0,
    "start_time": "2023-02-11T11:54:11.525Z"
   },
   {
    "duration": 0,
    "start_time": "2023-02-11T11:54:11.526Z"
   },
   {
    "duration": 0,
    "start_time": "2023-02-11T11:54:11.528Z"
   },
   {
    "duration": 0,
    "start_time": "2023-02-11T11:54:11.529Z"
   },
   {
    "duration": 0,
    "start_time": "2023-02-11T11:54:11.530Z"
   },
   {
    "duration": 0,
    "start_time": "2023-02-11T11:54:11.531Z"
   },
   {
    "duration": 0,
    "start_time": "2023-02-11T11:54:11.532Z"
   },
   {
    "duration": 0,
    "start_time": "2023-02-11T11:54:11.533Z"
   },
   {
    "duration": 0,
    "start_time": "2023-02-11T11:54:11.534Z"
   },
   {
    "duration": 0,
    "start_time": "2023-02-11T11:54:11.535Z"
   },
   {
    "duration": 0,
    "start_time": "2023-02-11T11:54:11.536Z"
   },
   {
    "duration": 0,
    "start_time": "2023-02-11T11:54:11.537Z"
   },
   {
    "duration": 0,
    "start_time": "2023-02-11T11:54:11.538Z"
   },
   {
    "duration": 0,
    "start_time": "2023-02-11T11:54:11.540Z"
   },
   {
    "duration": 0,
    "start_time": "2023-02-11T11:54:11.541Z"
   },
   {
    "duration": 0,
    "start_time": "2023-02-11T11:54:11.603Z"
   },
   {
    "duration": 0,
    "start_time": "2023-02-11T11:54:11.605Z"
   },
   {
    "duration": 0,
    "start_time": "2023-02-11T11:54:11.606Z"
   },
   {
    "duration": 0,
    "start_time": "2023-02-11T11:54:11.608Z"
   },
   {
    "duration": 0,
    "start_time": "2023-02-11T11:54:11.609Z"
   },
   {
    "duration": 2141,
    "start_time": "2023-02-11T11:55:23.440Z"
   },
   {
    "duration": 1377,
    "start_time": "2023-02-11T11:55:25.583Z"
   },
   {
    "duration": 907,
    "start_time": "2023-02-11T11:55:26.962Z"
   },
   {
    "duration": 123,
    "start_time": "2023-02-11T11:55:27.871Z"
   },
   {
    "duration": 119,
    "start_time": "2023-02-11T11:55:27.996Z"
   },
   {
    "duration": 487,
    "start_time": "2023-02-11T11:55:28.117Z"
   },
   {
    "duration": 125,
    "start_time": "2023-02-11T11:55:28.606Z"
   },
   {
    "duration": 30,
    "start_time": "2023-02-11T11:55:28.733Z"
   },
   {
    "duration": 274,
    "start_time": "2023-02-11T11:55:28.765Z"
   },
   {
    "duration": 16,
    "start_time": "2023-02-11T11:55:29.042Z"
   },
   {
    "duration": 22,
    "start_time": "2023-02-11T11:55:29.061Z"
   },
   {
    "duration": 30,
    "start_time": "2023-02-11T11:55:29.085Z"
   },
   {
    "duration": 26,
    "start_time": "2023-02-11T11:55:29.117Z"
   },
   {
    "duration": 29,
    "start_time": "2023-02-11T11:55:29.145Z"
   },
   {
    "duration": 27,
    "start_time": "2023-02-11T11:55:29.176Z"
   },
   {
    "duration": 22,
    "start_time": "2023-02-11T11:55:29.205Z"
   },
   {
    "duration": 36,
    "start_time": "2023-02-11T11:55:29.229Z"
   },
   {
    "duration": 65,
    "start_time": "2023-02-11T11:55:29.267Z"
   },
   {
    "duration": 5,
    "start_time": "2023-02-11T11:55:29.333Z"
   },
   {
    "duration": 26,
    "start_time": "2023-02-11T11:55:29.340Z"
   },
   {
    "duration": 270,
    "start_time": "2023-02-11T11:55:29.368Z"
   },
   {
    "duration": 223,
    "start_time": "2023-02-11T11:55:29.640Z"
   },
   {
    "duration": 235,
    "start_time": "2023-02-11T11:55:29.865Z"
   },
   {
    "duration": 216,
    "start_time": "2023-02-11T11:55:30.101Z"
   },
   {
    "duration": 19,
    "start_time": "2023-02-11T11:55:30.319Z"
   },
   {
    "duration": 18,
    "start_time": "2023-02-11T11:55:30.340Z"
   },
   {
    "duration": 41,
    "start_time": "2023-02-11T11:55:30.359Z"
   },
   {
    "duration": 19,
    "start_time": "2023-02-11T11:55:30.403Z"
   },
   {
    "duration": 115,
    "start_time": "2023-02-11T11:55:30.424Z"
   },
   {
    "duration": 48491,
    "start_time": "2023-02-11T11:55:30.541Z"
   },
   {
    "duration": 354,
    "start_time": "2023-02-11T11:56:19.034Z"
   },
   {
    "duration": 14426,
    "start_time": "2023-02-11T11:56:19.390Z"
   },
   {
    "duration": 189,
    "start_time": "2023-02-11T11:56:33.817Z"
   },
   {
    "duration": 4,
    "start_time": "2023-02-11T11:56:34.008Z"
   },
   {
    "duration": 5137,
    "start_time": "2023-02-11T11:56:34.107Z"
   },
   {
    "duration": 89,
    "start_time": "2023-02-11T11:56:39.245Z"
   },
   {
    "duration": 120,
    "start_time": "2023-02-11T11:56:39.338Z"
   },
   {
    "duration": 2283,
    "start_time": "2023-02-11T12:09:13.749Z"
   },
   {
    "duration": 1470,
    "start_time": "2023-02-11T12:09:16.036Z"
   },
   {
    "duration": 891,
    "start_time": "2023-02-11T12:09:17.508Z"
   },
   {
    "duration": 125,
    "start_time": "2023-02-11T12:09:18.403Z"
   },
   {
    "duration": 117,
    "start_time": "2023-02-11T12:09:18.531Z"
   },
   {
    "duration": 517,
    "start_time": "2023-02-11T12:09:18.650Z"
   },
   {
    "duration": 139,
    "start_time": "2023-02-11T12:09:19.170Z"
   },
   {
    "duration": 13,
    "start_time": "2023-02-11T12:09:19.311Z"
   },
   {
    "duration": 279,
    "start_time": "2023-02-11T12:09:19.326Z"
   },
   {
    "duration": 17,
    "start_time": "2023-02-11T12:09:19.607Z"
   },
   {
    "duration": 28,
    "start_time": "2023-02-11T12:09:19.626Z"
   },
   {
    "duration": 21,
    "start_time": "2023-02-11T12:09:19.656Z"
   },
   {
    "duration": 37,
    "start_time": "2023-02-11T12:09:19.679Z"
   },
   {
    "duration": 32,
    "start_time": "2023-02-11T12:09:19.720Z"
   },
   {
    "duration": 20,
    "start_time": "2023-02-11T12:09:19.754Z"
   },
   {
    "duration": 35,
    "start_time": "2023-02-11T12:09:19.776Z"
   },
   {
    "duration": 33,
    "start_time": "2023-02-11T12:09:19.813Z"
   },
   {
    "duration": 70,
    "start_time": "2023-02-11T12:09:19.848Z"
   },
   {
    "duration": 10,
    "start_time": "2023-02-11T12:09:19.920Z"
   },
   {
    "duration": 36,
    "start_time": "2023-02-11T12:09:19.932Z"
   },
   {
    "duration": 257,
    "start_time": "2023-02-11T12:09:19.970Z"
   },
   {
    "duration": 218,
    "start_time": "2023-02-11T12:09:20.229Z"
   },
   {
    "duration": 229,
    "start_time": "2023-02-11T12:09:20.449Z"
   },
   {
    "duration": 213,
    "start_time": "2023-02-11T12:09:20.680Z"
   },
   {
    "duration": 23,
    "start_time": "2023-02-11T12:09:20.894Z"
   },
   {
    "duration": 5,
    "start_time": "2023-02-11T12:09:20.919Z"
   },
   {
    "duration": 29,
    "start_time": "2023-02-11T12:09:20.925Z"
   },
   {
    "duration": 5,
    "start_time": "2023-02-11T12:09:20.956Z"
   },
   {
    "duration": 115,
    "start_time": "2023-02-11T12:09:20.962Z"
   },
   {
    "duration": 61230,
    "start_time": "2023-02-11T12:09:21.079Z"
   },
   {
    "duration": 381,
    "start_time": "2023-02-11T12:10:22.311Z"
   },
   {
    "duration": 24242,
    "start_time": "2023-02-11T12:10:22.694Z"
   },
   {
    "duration": 270,
    "start_time": "2023-02-11T12:10:46.939Z"
   },
   {
    "duration": 199,
    "start_time": "2023-02-11T12:10:47.215Z"
   },
   {
    "duration": 5,
    "start_time": "2023-02-11T12:10:47.416Z"
   },
   {
    "duration": 98,
    "start_time": "2023-02-11T12:10:47.423Z"
   },
   {
    "duration": 78,
    "start_time": "2023-02-11T12:10:47.523Z"
   },
   {
    "duration": 2778,
    "start_time": "2023-02-11T12:11:11.363Z"
   },
   {
    "duration": 2700,
    "start_time": "2023-02-11T12:13:42.362Z"
   },
   {
    "duration": 101,
    "start_time": "2023-02-11T12:14:45.031Z"
   },
   {
    "duration": 2674,
    "start_time": "2023-02-11T12:17:53.340Z"
   },
   {
    "duration": 1531,
    "start_time": "2023-02-11T12:17:56.017Z"
   },
   {
    "duration": 881,
    "start_time": "2023-02-11T12:17:57.550Z"
   },
   {
    "duration": 128,
    "start_time": "2023-02-11T12:17:58.433Z"
   },
   {
    "duration": 118,
    "start_time": "2023-02-11T12:17:58.562Z"
   },
   {
    "duration": 521,
    "start_time": "2023-02-11T12:17:58.682Z"
   },
   {
    "duration": 119,
    "start_time": "2023-02-11T12:17:59.204Z"
   },
   {
    "duration": 13,
    "start_time": "2023-02-11T12:17:59.325Z"
   },
   {
    "duration": 275,
    "start_time": "2023-02-11T12:17:59.340Z"
   },
   {
    "duration": 18,
    "start_time": "2023-02-11T12:17:59.618Z"
   },
   {
    "duration": 24,
    "start_time": "2023-02-11T12:17:59.638Z"
   },
   {
    "duration": 40,
    "start_time": "2023-02-11T12:17:59.665Z"
   },
   {
    "duration": 32,
    "start_time": "2023-02-11T12:17:59.707Z"
   },
   {
    "duration": 42,
    "start_time": "2023-02-11T12:17:59.741Z"
   },
   {
    "duration": 22,
    "start_time": "2023-02-11T12:17:59.784Z"
   },
   {
    "duration": 24,
    "start_time": "2023-02-11T12:17:59.807Z"
   },
   {
    "duration": 30,
    "start_time": "2023-02-11T12:17:59.833Z"
   },
   {
    "duration": 78,
    "start_time": "2023-02-11T12:17:59.865Z"
   },
   {
    "duration": 5,
    "start_time": "2023-02-11T12:17:59.945Z"
   },
   {
    "duration": 24,
    "start_time": "2023-02-11T12:17:59.952Z"
   },
   {
    "duration": 269,
    "start_time": "2023-02-11T12:17:59.978Z"
   },
   {
    "duration": 228,
    "start_time": "2023-02-11T12:18:00.249Z"
   },
   {
    "duration": 240,
    "start_time": "2023-02-11T12:18:00.479Z"
   },
   {
    "duration": 258,
    "start_time": "2023-02-11T12:18:00.721Z"
   },
   {
    "duration": 31,
    "start_time": "2023-02-11T12:18:00.981Z"
   },
   {
    "duration": 30,
    "start_time": "2023-02-11T12:18:01.015Z"
   },
   {
    "duration": 52,
    "start_time": "2023-02-11T12:18:01.046Z"
   },
   {
    "duration": 19,
    "start_time": "2023-02-11T12:18:01.102Z"
   },
   {
    "duration": 107,
    "start_time": "2023-02-11T12:18:01.124Z"
   },
   {
    "duration": 55043,
    "start_time": "2023-02-11T12:18:01.233Z"
   },
   {
    "duration": 460,
    "start_time": "2023-02-11T12:18:56.278Z"
   },
   {
    "duration": 0,
    "start_time": "2023-02-11T12:18:56.740Z"
   },
   {
    "duration": 0,
    "start_time": "2023-02-11T12:18:56.741Z"
   },
   {
    "duration": 0,
    "start_time": "2023-02-11T12:18:56.742Z"
   },
   {
    "duration": 0,
    "start_time": "2023-02-11T12:18:56.743Z"
   },
   {
    "duration": 0,
    "start_time": "2023-02-11T12:18:56.745Z"
   },
   {
    "duration": 0,
    "start_time": "2023-02-11T12:18:56.746Z"
   },
   {
    "duration": 337,
    "start_time": "2023-02-11T12:25:59.557Z"
   },
   {
    "duration": 341,
    "start_time": "2023-02-11T12:26:30.447Z"
   },
   {
    "duration": 375,
    "start_time": "2023-02-11T12:26:36.952Z"
   },
   {
    "duration": 22,
    "start_time": "2023-02-11T12:28:55.448Z"
   },
   {
    "duration": 368,
    "start_time": "2023-02-11T12:34:12.206Z"
   },
   {
    "duration": 318,
    "start_time": "2023-02-11T12:35:50.346Z"
   },
   {
    "duration": 362,
    "start_time": "2023-02-11T13:00:32.338Z"
   },
   {
    "duration": 392,
    "start_time": "2023-02-11T13:00:49.361Z"
   },
   {
    "duration": 401,
    "start_time": "2023-02-11T13:03:26.028Z"
   },
   {
    "duration": 2119,
    "start_time": "2023-02-11T13:03:36.014Z"
   },
   {
    "duration": 1319,
    "start_time": "2023-02-11T13:03:38.135Z"
   },
   {
    "duration": 828,
    "start_time": "2023-02-11T13:03:39.456Z"
   },
   {
    "duration": 127,
    "start_time": "2023-02-11T13:03:40.286Z"
   },
   {
    "duration": 107,
    "start_time": "2023-02-11T13:03:40.415Z"
   },
   {
    "duration": 471,
    "start_time": "2023-02-11T13:03:40.523Z"
   },
   {
    "duration": 109,
    "start_time": "2023-02-11T13:03:40.996Z"
   },
   {
    "duration": 13,
    "start_time": "2023-02-11T13:03:41.107Z"
   },
   {
    "duration": 254,
    "start_time": "2023-02-11T13:03:41.122Z"
   },
   {
    "duration": 17,
    "start_time": "2023-02-11T13:03:41.378Z"
   },
   {
    "duration": 18,
    "start_time": "2023-02-11T13:03:41.404Z"
   },
   {
    "duration": 21,
    "start_time": "2023-02-11T13:03:41.423Z"
   },
   {
    "duration": 21,
    "start_time": "2023-02-11T13:03:41.446Z"
   },
   {
    "duration": 47,
    "start_time": "2023-02-11T13:03:41.470Z"
   },
   {
    "duration": 18,
    "start_time": "2023-02-11T13:03:41.518Z"
   },
   {
    "duration": 22,
    "start_time": "2023-02-11T13:03:41.538Z"
   },
   {
    "duration": 42,
    "start_time": "2023-02-11T13:03:41.562Z"
   },
   {
    "duration": 63,
    "start_time": "2023-02-11T13:03:41.606Z"
   },
   {
    "duration": 5,
    "start_time": "2023-02-11T13:03:41.670Z"
   },
   {
    "duration": 43,
    "start_time": "2023-02-11T13:03:41.676Z"
   },
   {
    "duration": 257,
    "start_time": "2023-02-11T13:03:41.721Z"
   },
   {
    "duration": 226,
    "start_time": "2023-02-11T13:03:41.980Z"
   },
   {
    "duration": 248,
    "start_time": "2023-02-11T13:03:42.209Z"
   },
   {
    "duration": 218,
    "start_time": "2023-02-11T13:03:42.459Z"
   },
   {
    "duration": 24,
    "start_time": "2023-02-11T13:03:42.679Z"
   },
   {
    "duration": 5,
    "start_time": "2023-02-11T13:03:42.705Z"
   },
   {
    "duration": 29,
    "start_time": "2023-02-11T13:03:42.711Z"
   },
   {
    "duration": 6,
    "start_time": "2023-02-11T13:03:42.742Z"
   },
   {
    "duration": 97,
    "start_time": "2023-02-11T13:03:42.750Z"
   },
   {
    "duration": 51893,
    "start_time": "2023-02-11T13:03:42.849Z"
   },
   {
    "duration": 416,
    "start_time": "2023-02-11T13:04:34.744Z"
   },
   {
    "duration": 11054,
    "start_time": "2023-02-11T13:04:35.161Z"
   },
   {
    "duration": 189,
    "start_time": "2023-02-11T13:04:46.216Z"
   },
   {
    "duration": 248,
    "start_time": "2023-02-11T13:04:46.407Z"
   },
   {
    "duration": 4,
    "start_time": "2023-02-11T13:04:46.656Z"
   },
   {
    "duration": 89,
    "start_time": "2023-02-11T13:04:46.661Z"
   },
   {
    "duration": 79,
    "start_time": "2023-02-11T13:04:46.751Z"
   },
   {
    "duration": 2605,
    "start_time": "2023-02-11T13:05:25.550Z"
   },
   {
    "duration": 2595,
    "start_time": "2023-02-11T13:06:57.076Z"
   },
   {
    "duration": 2211,
    "start_time": "2023-02-11T13:09:52.188Z"
   },
   {
    "duration": 1309,
    "start_time": "2023-02-11T13:09:54.401Z"
   },
   {
    "duration": 826,
    "start_time": "2023-02-11T13:09:55.711Z"
   },
   {
    "duration": 132,
    "start_time": "2023-02-11T13:09:56.538Z"
   },
   {
    "duration": 110,
    "start_time": "2023-02-11T13:09:56.672Z"
   },
   {
    "duration": 492,
    "start_time": "2023-02-11T13:09:56.783Z"
   },
   {
    "duration": 130,
    "start_time": "2023-02-11T13:09:57.277Z"
   },
   {
    "duration": 14,
    "start_time": "2023-02-11T13:09:57.408Z"
   },
   {
    "duration": 254,
    "start_time": "2023-02-11T13:09:57.424Z"
   },
   {
    "duration": 24,
    "start_time": "2023-02-11T13:09:57.679Z"
   },
   {
    "duration": 26,
    "start_time": "2023-02-11T13:09:57.705Z"
   },
   {
    "duration": 20,
    "start_time": "2023-02-11T13:09:57.733Z"
   },
   {
    "duration": 20,
    "start_time": "2023-02-11T13:09:57.755Z"
   },
   {
    "duration": 28,
    "start_time": "2023-02-11T13:09:57.803Z"
   },
   {
    "duration": 24,
    "start_time": "2023-02-11T13:09:57.833Z"
   },
   {
    "duration": 26,
    "start_time": "2023-02-11T13:09:57.860Z"
   },
   {
    "duration": 40,
    "start_time": "2023-02-11T13:09:57.887Z"
   },
   {
    "duration": 78,
    "start_time": "2023-02-11T13:09:57.928Z"
   },
   {
    "duration": 5,
    "start_time": "2023-02-11T13:09:58.007Z"
   },
   {
    "duration": 25,
    "start_time": "2023-02-11T13:09:58.013Z"
   },
   {
    "duration": 266,
    "start_time": "2023-02-11T13:09:58.039Z"
   },
   {
    "duration": 215,
    "start_time": "2023-02-11T13:09:58.306Z"
   },
   {
    "duration": 228,
    "start_time": "2023-02-11T13:09:58.523Z"
   },
   {
    "duration": 205,
    "start_time": "2023-02-11T13:09:58.752Z"
   },
   {
    "duration": 19,
    "start_time": "2023-02-11T13:09:58.958Z"
   },
   {
    "duration": 5,
    "start_time": "2023-02-11T13:09:58.978Z"
   },
   {
    "duration": 31,
    "start_time": "2023-02-11T13:09:58.985Z"
   },
   {
    "duration": 4,
    "start_time": "2023-02-11T13:09:59.018Z"
   },
   {
    "duration": 97,
    "start_time": "2023-02-11T13:09:59.023Z"
   },
   {
    "duration": 54781,
    "start_time": "2023-02-11T13:09:59.122Z"
   },
   {
    "duration": 440,
    "start_time": "2023-02-11T13:10:53.905Z"
   },
   {
    "duration": 11967,
    "start_time": "2023-02-11T13:10:54.347Z"
   },
   {
    "duration": 191,
    "start_time": "2023-02-11T13:11:06.315Z"
   },
   {
    "duration": 3133,
    "start_time": "2023-02-11T13:11:06.509Z"
   },
   {
    "duration": 3,
    "start_time": "2023-02-11T13:11:09.644Z"
   },
   {
    "duration": 100,
    "start_time": "2023-02-11T13:11:09.649Z"
   },
   {
    "duration": 85,
    "start_time": "2023-02-11T13:11:09.751Z"
   },
   {
    "duration": 99,
    "start_time": "2023-02-11T13:12:08.537Z"
   },
   {
    "duration": 89,
    "start_time": "2023-02-11T13:12:59.898Z"
   },
   {
    "duration": 105,
    "start_time": "2023-02-11T13:15:28.964Z"
   },
   {
    "duration": 2629,
    "start_time": "2023-02-11T13:17:04.586Z"
   },
   {
    "duration": 2949,
    "start_time": "2023-02-11T13:18:52.220Z"
   },
   {
    "duration": 2349,
    "start_time": "2023-02-11T13:19:44.190Z"
   },
   {
    "duration": 1424,
    "start_time": "2023-02-11T13:19:46.542Z"
   },
   {
    "duration": 1019,
    "start_time": "2023-02-11T13:19:47.968Z"
   },
   {
    "duration": 136,
    "start_time": "2023-02-11T13:19:48.990Z"
   },
   {
    "duration": 131,
    "start_time": "2023-02-11T13:19:49.129Z"
   },
   {
    "duration": 606,
    "start_time": "2023-02-11T13:19:49.262Z"
   },
   {
    "duration": 116,
    "start_time": "2023-02-11T13:19:49.870Z"
   },
   {
    "duration": 36,
    "start_time": "2023-02-11T13:19:49.989Z"
   },
   {
    "duration": 262,
    "start_time": "2023-02-11T13:19:50.027Z"
   },
   {
    "duration": 21,
    "start_time": "2023-02-11T13:19:50.292Z"
   },
   {
    "duration": 23,
    "start_time": "2023-02-11T13:19:50.316Z"
   },
   {
    "duration": 22,
    "start_time": "2023-02-11T13:19:50.341Z"
   },
   {
    "duration": 43,
    "start_time": "2023-02-11T13:19:50.365Z"
   },
   {
    "duration": 32,
    "start_time": "2023-02-11T13:19:50.410Z"
   },
   {
    "duration": 29,
    "start_time": "2023-02-11T13:19:50.444Z"
   },
   {
    "duration": 58,
    "start_time": "2023-02-11T13:19:50.476Z"
   },
   {
    "duration": 61,
    "start_time": "2023-02-11T13:19:50.537Z"
   },
   {
    "duration": 117,
    "start_time": "2023-02-11T13:19:50.601Z"
   },
   {
    "duration": 5,
    "start_time": "2023-02-11T13:19:50.720Z"
   },
   {
    "duration": 31,
    "start_time": "2023-02-11T13:19:50.727Z"
   },
   {
    "duration": 282,
    "start_time": "2023-02-11T13:19:50.761Z"
   },
   {
    "duration": 253,
    "start_time": "2023-02-11T13:19:51.046Z"
   },
   {
    "duration": 246,
    "start_time": "2023-02-11T13:19:51.303Z"
   },
   {
    "duration": 350,
    "start_time": "2023-02-11T13:19:51.552Z"
   },
   {
    "duration": 31,
    "start_time": "2023-02-11T13:19:51.905Z"
   },
   {
    "duration": 15,
    "start_time": "2023-02-11T13:19:51.938Z"
   },
   {
    "duration": 32,
    "start_time": "2023-02-11T13:19:51.955Z"
   },
   {
    "duration": 31,
    "start_time": "2023-02-11T13:19:51.993Z"
   },
   {
    "duration": 113,
    "start_time": "2023-02-11T13:19:52.026Z"
   },
   {
    "duration": 52979,
    "start_time": "2023-02-11T13:19:52.142Z"
   },
   {
    "duration": 580,
    "start_time": "2023-02-11T13:20:45.123Z"
   },
   {
    "duration": 19818,
    "start_time": "2023-02-11T13:20:45.705Z"
   },
   {
    "duration": 188,
    "start_time": "2023-02-11T13:21:05.525Z"
   },
   {
    "duration": 172740,
    "start_time": "2023-02-11T13:21:05.719Z"
   },
   {
    "duration": 0,
    "start_time": "2023-02-11T13:23:58.462Z"
   },
   {
    "duration": 0,
    "start_time": "2023-02-11T13:23:58.463Z"
   },
   {
    "duration": 0,
    "start_time": "2023-02-11T13:23:58.465Z"
   },
   {
    "duration": 61974,
    "start_time": "2023-02-11T13:24:07.881Z"
   },
   {
    "duration": 54836,
    "start_time": "2023-02-11T13:25:18.534Z"
   },
   {
    "duration": 15192,
    "start_time": "2023-02-11T13:29:51.759Z"
   },
   {
    "duration": 15367,
    "start_time": "2023-02-11T13:30:18.314Z"
   },
   {
    "duration": 49,
    "start_time": "2023-02-11T13:30:35.729Z"
   },
   {
    "duration": 104,
    "start_time": "2023-02-11T13:32:11.152Z"
   },
   {
    "duration": 349573,
    "start_time": "2023-02-11T13:32:20.024Z"
   },
   {
    "duration": 2148,
    "start_time": "2023-02-11T13:39:49.519Z"
   },
   {
    "duration": 1287,
    "start_time": "2023-02-11T13:39:51.669Z"
   },
   {
    "duration": 920,
    "start_time": "2023-02-11T13:39:52.957Z"
   },
   {
    "duration": 142,
    "start_time": "2023-02-11T13:39:53.879Z"
   },
   {
    "duration": 132,
    "start_time": "2023-02-11T13:39:54.035Z"
   },
   {
    "duration": 563,
    "start_time": "2023-02-11T13:39:54.169Z"
   },
   {
    "duration": 117,
    "start_time": "2023-02-11T13:39:54.733Z"
   },
   {
    "duration": 13,
    "start_time": "2023-02-11T13:39:54.852Z"
   },
   {
    "duration": 273,
    "start_time": "2023-02-11T13:39:54.867Z"
   },
   {
    "duration": 19,
    "start_time": "2023-02-11T13:39:55.142Z"
   },
   {
    "duration": 24,
    "start_time": "2023-02-11T13:39:55.163Z"
   },
   {
    "duration": 42,
    "start_time": "2023-02-11T13:39:55.189Z"
   },
   {
    "duration": 21,
    "start_time": "2023-02-11T13:39:55.233Z"
   },
   {
    "duration": 31,
    "start_time": "2023-02-11T13:39:55.257Z"
   },
   {
    "duration": 34,
    "start_time": "2023-02-11T13:39:55.290Z"
   },
   {
    "duration": 19,
    "start_time": "2023-02-11T13:39:55.326Z"
   },
   {
    "duration": 26,
    "start_time": "2023-02-11T13:39:55.347Z"
   },
   {
    "duration": 85,
    "start_time": "2023-02-11T13:39:55.375Z"
   },
   {
    "duration": 4,
    "start_time": "2023-02-11T13:39:55.462Z"
   },
   {
    "duration": 52,
    "start_time": "2023-02-11T13:39:55.468Z"
   },
   {
    "duration": 252,
    "start_time": "2023-02-11T13:39:55.522Z"
   },
   {
    "duration": 233,
    "start_time": "2023-02-11T13:39:55.776Z"
   },
   {
    "duration": 238,
    "start_time": "2023-02-11T13:39:56.012Z"
   },
   {
    "duration": 222,
    "start_time": "2023-02-11T13:39:56.252Z"
   },
   {
    "duration": 29,
    "start_time": "2023-02-11T13:39:56.476Z"
   },
   {
    "duration": 7,
    "start_time": "2023-02-11T13:39:56.507Z"
   },
   {
    "duration": 26,
    "start_time": "2023-02-11T13:39:56.515Z"
   },
   {
    "duration": 4,
    "start_time": "2023-02-11T13:39:56.542Z"
   },
   {
    "duration": 100,
    "start_time": "2023-02-11T13:39:56.548Z"
   },
   {
    "duration": 49589,
    "start_time": "2023-02-11T13:39:56.649Z"
   },
   {
    "duration": 572,
    "start_time": "2023-02-11T13:40:46.239Z"
   },
   {
    "duration": 21508,
    "start_time": "2023-02-11T13:40:46.814Z"
   },
   {
    "duration": 193,
    "start_time": "2023-02-11T13:41:08.324Z"
   },
   {
    "duration": 57934,
    "start_time": "2023-02-11T13:41:08.519Z"
   },
   {
    "duration": 16183,
    "start_time": "2023-02-11T13:42:06.455Z"
   },
   {
    "duration": 78,
    "start_time": "2023-02-11T13:42:22.641Z"
   },
   {
    "duration": 639006,
    "start_time": "2023-02-11T13:42:22.726Z"
   },
   {
    "duration": 75032,
    "start_time": "2023-02-11T13:53:01.742Z"
   },
   {
    "duration": 188,
    "start_time": "2023-02-11T13:54:16.778Z"
   },
   {
    "duration": 2745,
    "start_time": "2023-02-11T13:55:07.445Z"
   },
   {
    "duration": 1753,
    "start_time": "2023-02-11T13:55:10.193Z"
   },
   {
    "duration": 1267,
    "start_time": "2023-02-11T13:55:11.961Z"
   },
   {
    "duration": 237,
    "start_time": "2023-02-11T13:55:13.238Z"
   },
   {
    "duration": 289,
    "start_time": "2023-02-11T13:55:13.490Z"
   },
   {
    "duration": 710,
    "start_time": "2023-02-11T13:55:13.786Z"
   },
   {
    "duration": 196,
    "start_time": "2023-02-11T13:55:14.499Z"
   },
   {
    "duration": 128,
    "start_time": "2023-02-11T13:55:14.699Z"
   },
   {
    "duration": 530,
    "start_time": "2023-02-11T13:55:14.829Z"
   },
   {
    "duration": 38,
    "start_time": "2023-02-11T13:55:15.366Z"
   },
   {
    "duration": 72,
    "start_time": "2023-02-11T13:55:15.409Z"
   },
   {
    "duration": 141,
    "start_time": "2023-02-11T13:55:15.495Z"
   },
   {
    "duration": 85,
    "start_time": "2023-02-11T13:55:15.652Z"
   },
   {
    "duration": 130,
    "start_time": "2023-02-11T13:55:15.753Z"
   },
   {
    "duration": 58,
    "start_time": "2023-02-11T13:55:15.889Z"
   },
   {
    "duration": 64,
    "start_time": "2023-02-11T13:55:15.952Z"
   },
   {
    "duration": 89,
    "start_time": "2023-02-11T13:55:16.021Z"
   },
   {
    "duration": 277,
    "start_time": "2023-02-11T13:55:16.118Z"
   },
   {
    "duration": 74,
    "start_time": "2023-02-11T13:55:16.397Z"
   },
   {
    "duration": 51,
    "start_time": "2023-02-11T13:55:16.476Z"
   },
   {
    "duration": 439,
    "start_time": "2023-02-11T13:55:16.533Z"
   },
   {
    "duration": 297,
    "start_time": "2023-02-11T13:55:16.976Z"
   },
   {
    "duration": 355,
    "start_time": "2023-02-11T13:55:17.275Z"
   },
   {
    "duration": 316,
    "start_time": "2023-02-11T13:55:17.633Z"
   },
   {
    "duration": 23,
    "start_time": "2023-02-11T13:55:17.955Z"
   },
   {
    "duration": 237,
    "start_time": "2023-02-11T13:55:17.982Z"
   },
   {
    "duration": 132,
    "start_time": "2023-02-11T13:55:18.233Z"
   },
   {
    "duration": 105,
    "start_time": "2023-02-11T13:55:18.377Z"
   },
   {
    "duration": 140,
    "start_time": "2023-02-11T13:55:18.484Z"
   },
   {
    "duration": 74430,
    "start_time": "2023-02-11T13:55:18.629Z"
   },
   {
    "duration": 831,
    "start_time": "2023-02-11T13:56:33.064Z"
   },
   {
    "duration": 50906,
    "start_time": "2023-02-11T13:56:33.897Z"
   },
   {
    "duration": 195,
    "start_time": "2023-02-11T13:57:24.820Z"
   },
   {
    "duration": 70742,
    "start_time": "2023-02-11T13:57:25.017Z"
   },
   {
    "duration": 18336,
    "start_time": "2023-02-11T13:58:35.765Z"
   },
   {
    "duration": 82,
    "start_time": "2023-02-11T13:58:54.107Z"
   },
   {
    "duration": 8,
    "start_time": "2023-02-11T13:58:54.192Z"
   },
   {
    "duration": 159,
    "start_time": "2023-02-11T14:03:25.532Z"
   },
   {
    "duration": 2657,
    "start_time": "2023-02-11T14:08:43.889Z"
   },
   {
    "duration": 1522,
    "start_time": "2023-02-11T14:08:46.550Z"
   },
   {
    "duration": 996,
    "start_time": "2023-02-11T14:08:48.075Z"
   },
   {
    "duration": 183,
    "start_time": "2023-02-11T14:08:49.073Z"
   },
   {
    "duration": 135,
    "start_time": "2023-02-11T14:08:49.264Z"
   },
   {
    "duration": 616,
    "start_time": "2023-02-11T14:08:49.401Z"
   },
   {
    "duration": 164,
    "start_time": "2023-02-11T14:08:50.027Z"
   },
   {
    "duration": 37,
    "start_time": "2023-02-11T14:08:50.193Z"
   },
   {
    "duration": 337,
    "start_time": "2023-02-11T14:08:50.241Z"
   },
   {
    "duration": 33,
    "start_time": "2023-02-11T14:08:50.580Z"
   },
   {
    "duration": 71,
    "start_time": "2023-02-11T14:08:50.615Z"
   },
   {
    "duration": 47,
    "start_time": "2023-02-11T14:08:50.688Z"
   },
   {
    "duration": 51,
    "start_time": "2023-02-11T14:08:50.737Z"
   },
   {
    "duration": 67,
    "start_time": "2023-02-11T14:08:50.790Z"
   },
   {
    "duration": 22,
    "start_time": "2023-02-11T14:08:50.863Z"
   },
   {
    "duration": 36,
    "start_time": "2023-02-11T14:08:50.887Z"
   },
   {
    "duration": 72,
    "start_time": "2023-02-11T14:08:50.924Z"
   },
   {
    "duration": 101,
    "start_time": "2023-02-11T14:08:50.998Z"
   },
   {
    "duration": 14,
    "start_time": "2023-02-11T14:08:51.101Z"
   },
   {
    "duration": 80,
    "start_time": "2023-02-11T14:08:51.117Z"
   },
   {
    "duration": 301,
    "start_time": "2023-02-11T14:08:51.199Z"
   },
   {
    "duration": 255,
    "start_time": "2023-02-11T14:08:51.510Z"
   },
   {
    "duration": 262,
    "start_time": "2023-02-11T14:08:51.769Z"
   },
   {
    "duration": 241,
    "start_time": "2023-02-11T14:08:52.033Z"
   },
   {
    "duration": 19,
    "start_time": "2023-02-11T14:08:52.276Z"
   },
   {
    "duration": 9,
    "start_time": "2023-02-11T14:08:52.297Z"
   },
   {
    "duration": 75,
    "start_time": "2023-02-11T14:08:52.308Z"
   },
   {
    "duration": 4,
    "start_time": "2023-02-11T14:08:52.386Z"
   },
   {
    "duration": 107,
    "start_time": "2023-02-11T14:08:52.392Z"
   },
   {
    "duration": 68796,
    "start_time": "2023-02-11T14:08:52.500Z"
   },
   {
    "duration": 709,
    "start_time": "2023-02-11T14:10:01.298Z"
   },
   {
    "duration": 54534,
    "start_time": "2023-02-11T14:10:02.008Z"
   },
   {
    "duration": 164,
    "start_time": "2023-02-11T14:10:56.544Z"
   },
   {
    "duration": 67382,
    "start_time": "2023-02-11T14:10:56.715Z"
   },
   {
    "duration": 18192,
    "start_time": "2023-02-11T14:12:04.099Z"
   },
   {
    "duration": 76,
    "start_time": "2023-02-11T14:12:22.293Z"
   },
   {
    "duration": 6,
    "start_time": "2023-02-11T14:12:22.374Z"
   },
   {
    "duration": 236539,
    "start_time": "2023-02-11T14:12:22.381Z"
   },
   {
    "duration": 208,
    "start_time": "2023-02-11T14:16:18.927Z"
   },
   {
    "duration": 18108,
    "start_time": "2023-02-11T14:18:47.290Z"
   },
   {
    "duration": 79,
    "start_time": "2023-02-11T14:19:11.377Z"
   }
  ],
  "kernelspec": {
   "display_name": "Python 3 (ipykernel)",
   "language": "python",
   "name": "python3"
  },
  "language_info": {
   "codemirror_mode": {
    "name": "ipython",
    "version": 3
   },
   "file_extension": ".py",
   "mimetype": "text/x-python",
   "name": "python",
   "nbconvert_exporter": "python",
   "pygments_lexer": "ipython3",
   "version": "3.9.5"
  },
  "toc": {
   "base_numbering": 1,
   "nav_menu": {},
   "number_sections": true,
   "sideBar": true,
   "skip_h1_title": true,
   "title_cell": "Table of Contents",
   "title_sidebar": "Contents",
   "toc_cell": false,
   "toc_position": {},
   "toc_section_display": true,
   "toc_window_display": false
  }
 },
 "nbformat": 4,
 "nbformat_minor": 2
}
