{
 "cells": [
  {
   "cell_type": "markdown",
   "metadata": {},
   "source": [
    "# Рекомендация тарифов"
   ]
  },
  {
   "cell_type": "markdown",
   "metadata": {},
   "source": [
    "В вашем распоряжении данные о поведении клиентов, которые уже перешли на эти тарифы (из проекта курса «Статистический анализ данных»). Нужно построить модель для задачи классификации, которая выберет подходящий тариф. Предобработка данных не понадобится — вы её уже сделали.\n",
    "\n",
    "Постройте модель с максимально большим значением *accuracy*. Чтобы сдать проект успешно, нужно довести долю правильных ответов по крайней мере до 0.75. Проверьте *accuracy* на тестовой выборке самостоятельно."
   ]
  },
  {
   "cell_type": "markdown",
   "metadata": {},
   "source": [
    "## Откройте и изучите файл"
   ]
  },
  {
   "cell_type": "code",
   "execution_count": 1,
   "metadata": {},
   "outputs": [],
   "source": [
    "import pandas as pd\n",
    "from sklearn.model_selection import train_test_split\n",
    "from sklearn.tree import DecisionTreeClassifier\n",
    "from sklearn.linear_model import LogisticRegression\n",
    "from sklearn.ensemble import RandomForestClassifier\n",
    "from sklearn.dummy import DummyClassifier"
   ]
  },
  {
   "cell_type": "code",
   "execution_count": 2,
   "metadata": {},
   "outputs": [],
   "source": [
    "data = pd.read_csv('/datasets/users_behavior.csv')"
   ]
  },
  {
   "cell_type": "code",
   "execution_count": 3,
   "metadata": {},
   "outputs": [
    {
     "name": "stdout",
     "output_type": "stream",
     "text": [
      "<class 'pandas.core.frame.DataFrame'>\n",
      "RangeIndex: 3214 entries, 0 to 3213\n",
      "Data columns (total 5 columns):\n",
      " #   Column    Non-Null Count  Dtype  \n",
      "---  ------    --------------  -----  \n",
      " 0   calls     3214 non-null   float64\n",
      " 1   minutes   3214 non-null   float64\n",
      " 2   messages  3214 non-null   float64\n",
      " 3   mb_used   3214 non-null   float64\n",
      " 4   is_ultra  3214 non-null   int64  \n",
      "dtypes: float64(4), int64(1)\n",
      "memory usage: 125.7 KB\n"
     ]
    }
   ],
   "source": [
    "data.info()"
   ]
  },
  {
   "cell_type": "code",
   "execution_count": 4,
   "metadata": {
    "scrolled": true
   },
   "outputs": [
    {
     "data": {
      "text/html": [
       "<div>\n",
       "<style scoped>\n",
       "    .dataframe tbody tr th:only-of-type {\n",
       "        vertical-align: middle;\n",
       "    }\n",
       "\n",
       "    .dataframe tbody tr th {\n",
       "        vertical-align: top;\n",
       "    }\n",
       "\n",
       "    .dataframe thead th {\n",
       "        text-align: right;\n",
       "    }\n",
       "</style>\n",
       "<table border=\"1\" class=\"dataframe\">\n",
       "  <thead>\n",
       "    <tr style=\"text-align: right;\">\n",
       "      <th></th>\n",
       "      <th>calls</th>\n",
       "      <th>minutes</th>\n",
       "      <th>messages</th>\n",
       "      <th>mb_used</th>\n",
       "      <th>is_ultra</th>\n",
       "    </tr>\n",
       "  </thead>\n",
       "  <tbody>\n",
       "    <tr>\n",
       "      <th>0</th>\n",
       "      <td>40.0</td>\n",
       "      <td>311.90</td>\n",
       "      <td>83.0</td>\n",
       "      <td>19915.42</td>\n",
       "      <td>0</td>\n",
       "    </tr>\n",
       "    <tr>\n",
       "      <th>1</th>\n",
       "      <td>85.0</td>\n",
       "      <td>516.75</td>\n",
       "      <td>56.0</td>\n",
       "      <td>22696.96</td>\n",
       "      <td>0</td>\n",
       "    </tr>\n",
       "    <tr>\n",
       "      <th>2</th>\n",
       "      <td>77.0</td>\n",
       "      <td>467.66</td>\n",
       "      <td>86.0</td>\n",
       "      <td>21060.45</td>\n",
       "      <td>0</td>\n",
       "    </tr>\n",
       "    <tr>\n",
       "      <th>3</th>\n",
       "      <td>106.0</td>\n",
       "      <td>745.53</td>\n",
       "      <td>81.0</td>\n",
       "      <td>8437.39</td>\n",
       "      <td>1</td>\n",
       "    </tr>\n",
       "    <tr>\n",
       "      <th>4</th>\n",
       "      <td>66.0</td>\n",
       "      <td>418.74</td>\n",
       "      <td>1.0</td>\n",
       "      <td>14502.75</td>\n",
       "      <td>0</td>\n",
       "    </tr>\n",
       "  </tbody>\n",
       "</table>\n",
       "</div>"
      ],
      "text/plain": [
       "   calls  minutes  messages   mb_used  is_ultra\n",
       "0   40.0   311.90      83.0  19915.42         0\n",
       "1   85.0   516.75      56.0  22696.96         0\n",
       "2   77.0   467.66      86.0  21060.45         0\n",
       "3  106.0   745.53      81.0   8437.39         1\n",
       "4   66.0   418.74       1.0  14502.75         0"
      ]
     },
     "execution_count": 4,
     "metadata": {},
     "output_type": "execute_result"
    }
   ],
   "source": [
    "data.head()"
   ]
  },
  {
   "cell_type": "code",
   "execution_count": 5,
   "metadata": {},
   "outputs": [
    {
     "data": {
      "text/plain": [
       "0"
      ]
     },
     "execution_count": 5,
     "metadata": {},
     "output_type": "execute_result"
    }
   ],
   "source": [
    "data.duplicated().sum()"
   ]
  },
  {
   "cell_type": "code",
   "execution_count": 6,
   "metadata": {
    "scrolled": true
   },
   "outputs": [
    {
     "data": {
      "text/plain": [
       "calls       0\n",
       "minutes     0\n",
       "messages    0\n",
       "mb_used     0\n",
       "is_ultra    0\n",
       "dtype: int64"
      ]
     },
     "execution_count": 6,
     "metadata": {},
     "output_type": "execute_result"
    }
   ],
   "source": [
    "data.isna().sum()"
   ]
  },
  {
   "cell_type": "code",
   "execution_count": 7,
   "metadata": {},
   "outputs": [
    {
     "data": {
      "text/html": [
       "<div>\n",
       "<style scoped>\n",
       "    .dataframe tbody tr th:only-of-type {\n",
       "        vertical-align: middle;\n",
       "    }\n",
       "\n",
       "    .dataframe tbody tr th {\n",
       "        vertical-align: top;\n",
       "    }\n",
       "\n",
       "    .dataframe thead th {\n",
       "        text-align: right;\n",
       "    }\n",
       "</style>\n",
       "<table border=\"1\" class=\"dataframe\">\n",
       "  <thead>\n",
       "    <tr style=\"text-align: right;\">\n",
       "      <th></th>\n",
       "      <th>calls</th>\n",
       "      <th>minutes</th>\n",
       "      <th>messages</th>\n",
       "      <th>mb_used</th>\n",
       "      <th>is_ultra</th>\n",
       "    </tr>\n",
       "  </thead>\n",
       "  <tbody>\n",
       "    <tr>\n",
       "      <th>count</th>\n",
       "      <td>3214.000000</td>\n",
       "      <td>3214.000000</td>\n",
       "      <td>3214.000000</td>\n",
       "      <td>3214.000000</td>\n",
       "      <td>3214.000000</td>\n",
       "    </tr>\n",
       "    <tr>\n",
       "      <th>mean</th>\n",
       "      <td>63.038892</td>\n",
       "      <td>438.208787</td>\n",
       "      <td>38.281269</td>\n",
       "      <td>17207.673836</td>\n",
       "      <td>0.306472</td>\n",
       "    </tr>\n",
       "    <tr>\n",
       "      <th>std</th>\n",
       "      <td>33.236368</td>\n",
       "      <td>234.569872</td>\n",
       "      <td>36.148326</td>\n",
       "      <td>7570.968246</td>\n",
       "      <td>0.461100</td>\n",
       "    </tr>\n",
       "    <tr>\n",
       "      <th>min</th>\n",
       "      <td>0.000000</td>\n",
       "      <td>0.000000</td>\n",
       "      <td>0.000000</td>\n",
       "      <td>0.000000</td>\n",
       "      <td>0.000000</td>\n",
       "    </tr>\n",
       "    <tr>\n",
       "      <th>25%</th>\n",
       "      <td>40.000000</td>\n",
       "      <td>274.575000</td>\n",
       "      <td>9.000000</td>\n",
       "      <td>12491.902500</td>\n",
       "      <td>0.000000</td>\n",
       "    </tr>\n",
       "    <tr>\n",
       "      <th>50%</th>\n",
       "      <td>62.000000</td>\n",
       "      <td>430.600000</td>\n",
       "      <td>30.000000</td>\n",
       "      <td>16943.235000</td>\n",
       "      <td>0.000000</td>\n",
       "    </tr>\n",
       "    <tr>\n",
       "      <th>75%</th>\n",
       "      <td>82.000000</td>\n",
       "      <td>571.927500</td>\n",
       "      <td>57.000000</td>\n",
       "      <td>21424.700000</td>\n",
       "      <td>1.000000</td>\n",
       "    </tr>\n",
       "    <tr>\n",
       "      <th>max</th>\n",
       "      <td>244.000000</td>\n",
       "      <td>1632.060000</td>\n",
       "      <td>224.000000</td>\n",
       "      <td>49745.730000</td>\n",
       "      <td>1.000000</td>\n",
       "    </tr>\n",
       "  </tbody>\n",
       "</table>\n",
       "</div>"
      ],
      "text/plain": [
       "             calls      minutes     messages       mb_used     is_ultra\n",
       "count  3214.000000  3214.000000  3214.000000   3214.000000  3214.000000\n",
       "mean     63.038892   438.208787    38.281269  17207.673836     0.306472\n",
       "std      33.236368   234.569872    36.148326   7570.968246     0.461100\n",
       "min       0.000000     0.000000     0.000000      0.000000     0.000000\n",
       "25%      40.000000   274.575000     9.000000  12491.902500     0.000000\n",
       "50%      62.000000   430.600000    30.000000  16943.235000     0.000000\n",
       "75%      82.000000   571.927500    57.000000  21424.700000     1.000000\n",
       "max     244.000000  1632.060000   224.000000  49745.730000     1.000000"
      ]
     },
     "execution_count": 7,
     "metadata": {},
     "output_type": "execute_result"
    }
   ],
   "source": [
    "data.describe()"
   ]
  },
  {
   "cell_type": "markdown",
   "metadata": {},
   "source": [
    "Данные состоят из 5 параметров: количество звонков, суммарная длительность звонков в минутах, количество sms-сообщений, израсходованный интернет-трафик в Мб, каким тарифом пользовался в течение месяца («Ультра» — 1, «Смарт» — 0).\n",
    "\n",
    "Названия параметров, а также тип данных внесены без ошибок. Дубликатов, пропусков, некорректных значений нет, \n",
    "а, значит, с таблицей можно начать работать."
   ]
  },
  {
   "cell_type": "markdown",
   "metadata": {},
   "source": [
    "## Разбейте данные на выборки"
   ]
  },
  {
   "cell_type": "code",
   "execution_count": 8,
   "metadata": {},
   "outputs": [],
   "source": [
    "df_train, df_2 = train_test_split(data, test_size=0.4, random_state=12345)\n",
    "df_valid, df_test = train_test_split(df_2, test_size=0.5, random_state=12345)"
   ]
  },
  {
   "cell_type": "code",
   "execution_count": 9,
   "metadata": {},
   "outputs": [],
   "source": [
    "features_train = df_train.drop(['is_ultra'], axis=1)\n",
    "target_train = df_train['is_ultra']\n",
    "features_valid = df_valid.drop(['is_ultra'], axis=1)\n",
    "target_valid = df_valid['is_ultra']\n",
    "features_test = df_test.drop(['is_ultra'], axis=1)\n",
    "target_test = df_test['is_ultra']"
   ]
  },
  {
   "cell_type": "markdown",
   "metadata": {},
   "source": [
    "Разобьем данные на выборки: обучающая выборка (60%), валидационная выборка (20%), тестовая выборка (20%)"
   ]
  },
  {
   "cell_type": "markdown",
   "metadata": {},
   "source": [
    "## Исследуйте модели"
   ]
  },
  {
   "cell_type": "markdown",
   "metadata": {},
   "source": [
    "### Дерево решений"
   ]
  },
  {
   "cell_type": "code",
   "execution_count": 10,
   "metadata": {},
   "outputs": [
    {
     "name": "stdout",
     "output_type": "stream",
     "text": [
      "Модель: дерево решений\n",
      "Глубина дерева: 3\n",
      "Accuracy: 0.7853810264385692\n"
     ]
    }
   ],
   "source": [
    "best_result = 0\n",
    "best_depth = 0\n",
    "for depth in range(1, 10):\n",
    "    model = DecisionTreeClassifier(random_state=12345, max_depth=depth)\n",
    "    model.fit(features_train, target_train)\n",
    "    result = model.score(features_valid, target_valid)\n",
    "    if result > best_result:\n",
    "        best_result = result\n",
    "        best_depth = depth\n",
    "\n",
    "print('Модель: дерево решений')\n",
    "print('Глубина дерева:', best_depth)\n",
    "print('Accuracy:', best_result)"
   ]
  },
  {
   "cell_type": "markdown",
   "metadata": {},
   "source": [
    "### Случайный лес"
   ]
  },
  {
   "cell_type": "code",
   "execution_count": 11,
   "metadata": {},
   "outputs": [
    {
     "name": "stdout",
     "output_type": "stream",
     "text": [
      "Модель: случайный лес\n",
      "Глубина дерева: 8\n",
      "Количество деревьев: 40\n",
      "Accuracy: 0.8087091757387247\n"
     ]
    }
   ],
   "source": [
    "best_result = 0\n",
    "best_est = 0\n",
    "best_depth = 0\n",
    "for est in range(10, 51, 10):\n",
    "    for depth in range (1, 11):\n",
    "        model = RandomForestClassifier(random_state=12345, n_estimators=est, max_depth=depth)\n",
    "        model.fit(features_train, target_train)\n",
    "        result = model.score(features_valid, target_valid)\n",
    "        if result > best_result:\n",
    "            best_result = result\n",
    "            best_est = est\n",
    "            best_depth = depth\n",
    "\n",
    "print('Модель: случайный лес')\n",
    "print('Глубина дерева:', best_depth)\n",
    "print('Количество деревьев:', best_est)\n",
    "print('Accuracy:', best_result)"
   ]
  },
  {
   "cell_type": "markdown",
   "metadata": {},
   "source": [
    "### Логистическая регрессия"
   ]
  },
  {
   "cell_type": "code",
   "execution_count": 12,
   "metadata": {},
   "outputs": [
    {
     "name": "stdout",
     "output_type": "stream",
     "text": [
      "Модель: логистическая регрессия\n",
      "Accuracy: 0.7107309486780715\n"
     ]
    }
   ],
   "source": [
    "model = LogisticRegression(solver='lbfgs')\n",
    "model.fit(features_train, target_train)\n",
    "result = model.score(features_valid, target_valid)\n",
    "print('Модель: логистическая регрессия')\n",
    "print(\"Accuracy:\", result)"
   ]
  },
  {
   "cell_type": "markdown",
   "metadata": {},
   "source": [
    "#### Вывод"
   ]
  },
  {
   "cell_type": "markdown",
   "metadata": {},
   "source": [
    "Наилучший показатель качества был выявлен у модели RandomForestClassifier(\"Случайный лес\"), на втором и третьем месте по метрике accuracy стоят DecisionTreeClassifier и LogisticRegression. Далее проверим эти модели на тестовой выборке, чтобы убедиться, что на результаты не повлияло переобучение моделей."
   ]
  },
  {
   "cell_type": "markdown",
   "metadata": {},
   "source": [
    "## Проверьте модель на тестовой выборке"
   ]
  },
  {
   "cell_type": "code",
   "execution_count": 13,
   "metadata": {},
   "outputs": [
    {
     "name": "stdout",
     "output_type": "stream",
     "text": [
      "Модель: случайный лес\n",
      "Глубина дерева: 8\n",
      "Количество деревьев: 40\n",
      "Accuracy: 0.7962674961119751\n"
     ]
    }
   ],
   "source": [
    "model = RandomForestClassifier(max_depth=8, n_estimators=40, random_state=12345)\n",
    "model.fit(features_train, target_train)\n",
    "result = model.score(features_test, target_test)\n",
    "\n",
    "print('Модель: случайный лес')\n",
    "print('Глубина дерева: 8')\n",
    "print('Количество деревьев: 40')\n",
    "print('Accuracy:', result)"
   ]
  },
  {
   "cell_type": "markdown",
   "metadata": {},
   "source": [
    "### Вывод"
   ]
  },
  {
   "cell_type": "markdown",
   "metadata": {},
   "source": [
    "Показатель качества у модели RandomForestClassifier(\"Случайный лес\") на тестовой выборке стал равным 0.7962674961119751, что близко к значению, которое мы видели на валидационной выборке."
   ]
  },
  {
   "cell_type": "markdown",
   "metadata": {},
   "source": [
    "## Заключение"
   ]
  },
  {
   "cell_type": "markdown",
   "metadata": {},
   "source": [
    "Для анализа данных было выбраны модели: DecisionTreeClassifier, RandomForestClassifier, LogisticRegression. Все данные былии разделены три выборки: обучающая (60%), валидационная (20%), тестовая (20%). Наилучший показатель был у модели RandomForestClassifier (глубина дерева - 8, количество деревьев - 40, Accuracy - 0.7962674961119751)"
   ]
  }
 ],
 "metadata": {
  "ExecuteTimeLog": [
   {
    "duration": 392,
    "start_time": "2022-11-22T08:39:34.394Z"
   },
   {
    "duration": 163,
    "start_time": "2022-11-22T08:39:35.356Z"
   },
   {
    "duration": 13,
    "start_time": "2022-11-22T08:39:36.517Z"
   },
   {
    "duration": 23,
    "start_time": "2022-11-22T08:39:40.363Z"
   },
   {
    "duration": 8,
    "start_time": "2022-11-22T08:41:36.535Z"
   },
   {
    "duration": 7,
    "start_time": "2022-11-22T08:41:53.840Z"
   },
   {
    "duration": 10,
    "start_time": "2022-11-22T08:46:22.571Z"
   },
   {
    "duration": 31,
    "start_time": "2022-11-22T08:52:32.015Z"
   },
   {
    "duration": 688,
    "start_time": "2022-11-22T09:01:33.157Z"
   },
   {
    "duration": 1130,
    "start_time": "2022-11-22T09:11:56.730Z"
   },
   {
    "duration": 30,
    "start_time": "2022-11-22T09:11:57.862Z"
   },
   {
    "duration": 12,
    "start_time": "2022-11-22T09:11:57.893Z"
   },
   {
    "duration": 18,
    "start_time": "2022-11-22T09:11:57.907Z"
   },
   {
    "duration": 8,
    "start_time": "2022-11-22T09:11:57.926Z"
   },
   {
    "duration": 11,
    "start_time": "2022-11-22T09:11:57.935Z"
   },
   {
    "duration": 22,
    "start_time": "2022-11-22T09:11:57.948Z"
   },
   {
    "duration": 6,
    "start_time": "2022-11-22T09:11:57.971Z"
   },
   {
    "duration": 10,
    "start_time": "2022-11-22T09:11:57.978Z"
   },
   {
    "duration": 101,
    "start_time": "2022-11-22T09:19:13.468Z"
   },
   {
    "duration": 3,
    "start_time": "2022-11-22T09:19:21.514Z"
   },
   {
    "duration": 11,
    "start_time": "2022-11-22T09:19:26.548Z"
   },
   {
    "duration": 1037,
    "start_time": "2022-11-22T09:19:50.695Z"
   },
   {
    "duration": 38,
    "start_time": "2022-11-22T09:19:51.734Z"
   },
   {
    "duration": 11,
    "start_time": "2022-11-22T09:19:51.773Z"
   },
   {
    "duration": 22,
    "start_time": "2022-11-22T09:19:51.786Z"
   },
   {
    "duration": 6,
    "start_time": "2022-11-22T09:19:51.810Z"
   },
   {
    "duration": 13,
    "start_time": "2022-11-22T09:19:51.818Z"
   },
   {
    "duration": 27,
    "start_time": "2022-11-22T09:19:51.833Z"
   },
   {
    "duration": 6,
    "start_time": "2022-11-22T09:19:51.862Z"
   },
   {
    "duration": 23,
    "start_time": "2022-11-22T09:19:51.869Z"
   },
   {
    "duration": 111,
    "start_time": "2022-11-22T09:19:51.894Z"
   },
   {
    "duration": 30,
    "start_time": "2022-11-22T09:21:33.242Z"
   },
   {
    "duration": 26,
    "start_time": "2022-11-22T09:21:48.443Z"
   },
   {
    "duration": 1154,
    "start_time": "2022-11-22T09:22:48.105Z"
   },
   {
    "duration": 31,
    "start_time": "2022-11-22T09:22:49.261Z"
   },
   {
    "duration": 11,
    "start_time": "2022-11-22T09:22:49.293Z"
   },
   {
    "duration": 17,
    "start_time": "2022-11-22T09:22:49.306Z"
   },
   {
    "duration": 13,
    "start_time": "2022-11-22T09:22:49.325Z"
   },
   {
    "duration": 12,
    "start_time": "2022-11-22T09:22:49.340Z"
   },
   {
    "duration": 28,
    "start_time": "2022-11-22T09:22:49.354Z"
   },
   {
    "duration": 6,
    "start_time": "2022-11-22T09:22:49.384Z"
   },
   {
    "duration": 18,
    "start_time": "2022-11-22T09:22:49.392Z"
   },
   {
    "duration": 177,
    "start_time": "2022-11-22T09:22:49.412Z"
   },
   {
    "duration": 0,
    "start_time": "2022-11-22T09:22:49.591Z"
   },
   {
    "duration": 74,
    "start_time": "2022-11-22T09:23:03.803Z"
   },
   {
    "duration": 67,
    "start_time": "2022-11-22T09:23:13.277Z"
   },
   {
    "duration": 1211,
    "start_time": "2022-11-22T09:24:16.329Z"
   },
   {
    "duration": 30,
    "start_time": "2022-11-22T09:24:17.543Z"
   },
   {
    "duration": 12,
    "start_time": "2022-11-22T09:24:17.575Z"
   },
   {
    "duration": 29,
    "start_time": "2022-11-22T09:24:17.588Z"
   },
   {
    "duration": 14,
    "start_time": "2022-11-22T09:24:17.620Z"
   },
   {
    "duration": 25,
    "start_time": "2022-11-22T09:24:17.636Z"
   },
   {
    "duration": 31,
    "start_time": "2022-11-22T09:24:17.663Z"
   },
   {
    "duration": 109,
    "start_time": "2022-11-22T09:24:17.696Z"
   },
   {
    "duration": 0,
    "start_time": "2022-11-22T09:24:17.807Z"
   },
   {
    "duration": 0,
    "start_time": "2022-11-22T09:24:17.808Z"
   },
   {
    "duration": 1213,
    "start_time": "2022-11-22T09:24:45.334Z"
   },
   {
    "duration": 34,
    "start_time": "2022-11-22T09:24:46.549Z"
   },
   {
    "duration": 16,
    "start_time": "2022-11-22T09:24:46.585Z"
   },
   {
    "duration": 24,
    "start_time": "2022-11-22T09:24:46.604Z"
   },
   {
    "duration": 20,
    "start_time": "2022-11-22T09:24:46.631Z"
   },
   {
    "duration": 14,
    "start_time": "2022-11-22T09:24:46.653Z"
   },
   {
    "duration": 47,
    "start_time": "2022-11-22T09:24:46.669Z"
   },
   {
    "duration": 10,
    "start_time": "2022-11-22T09:24:46.718Z"
   },
   {
    "duration": 87,
    "start_time": "2022-11-22T09:24:46.729Z"
   },
   {
    "duration": 27,
    "start_time": "2022-11-22T09:24:46.818Z"
   },
   {
    "duration": 1170,
    "start_time": "2022-11-22T09:25:06.628Z"
   },
   {
    "duration": 31,
    "start_time": "2022-11-22T09:25:07.800Z"
   },
   {
    "duration": 23,
    "start_time": "2022-11-22T09:25:07.833Z"
   },
   {
    "duration": 47,
    "start_time": "2022-11-22T09:25:07.859Z"
   },
   {
    "duration": 35,
    "start_time": "2022-11-22T09:25:07.908Z"
   },
   {
    "duration": 50,
    "start_time": "2022-11-22T09:25:07.945Z"
   },
   {
    "duration": 67,
    "start_time": "2022-11-22T09:25:07.998Z"
   },
   {
    "duration": 22,
    "start_time": "2022-11-22T09:25:08.067Z"
   },
   {
    "duration": 179,
    "start_time": "2022-11-22T09:25:08.091Z"
   },
   {
    "duration": 25,
    "start_time": "2022-11-22T09:25:08.273Z"
   },
   {
    "duration": 1082,
    "start_time": "2022-11-22T09:25:35.442Z"
   },
   {
    "duration": 30,
    "start_time": "2022-11-22T09:25:36.526Z"
   },
   {
    "duration": 13,
    "start_time": "2022-11-22T09:25:36.558Z"
   },
   {
    "duration": 30,
    "start_time": "2022-11-22T09:25:36.574Z"
   },
   {
    "duration": 9,
    "start_time": "2022-11-22T09:25:36.606Z"
   },
   {
    "duration": 7,
    "start_time": "2022-11-22T09:25:36.617Z"
   },
   {
    "duration": 39,
    "start_time": "2022-11-22T09:25:36.625Z"
   },
   {
    "duration": 12,
    "start_time": "2022-11-22T09:25:36.666Z"
   },
   {
    "duration": 182,
    "start_time": "2022-11-22T09:25:36.680Z"
   },
   {
    "duration": 1,
    "start_time": "2022-11-22T09:25:36.863Z"
   },
   {
    "duration": 1120,
    "start_time": "2022-11-22T09:25:56.612Z"
   },
   {
    "duration": 30,
    "start_time": "2022-11-22T09:25:57.735Z"
   },
   {
    "duration": 12,
    "start_time": "2022-11-22T09:25:57.767Z"
   },
   {
    "duration": 30,
    "start_time": "2022-11-22T09:25:57.781Z"
   },
   {
    "duration": 8,
    "start_time": "2022-11-22T09:25:57.812Z"
   },
   {
    "duration": 16,
    "start_time": "2022-11-22T09:25:57.822Z"
   },
   {
    "duration": 28,
    "start_time": "2022-11-22T09:25:57.840Z"
   },
   {
    "duration": 11,
    "start_time": "2022-11-22T09:25:57.870Z"
   },
   {
    "duration": 142,
    "start_time": "2022-11-22T09:25:57.882Z"
   },
   {
    "duration": 39,
    "start_time": "2022-11-22T09:25:58.026Z"
   },
   {
    "duration": 1164,
    "start_time": "2022-11-22T09:30:53.314Z"
   },
   {
    "duration": 31,
    "start_time": "2022-11-22T09:30:54.480Z"
   },
   {
    "duration": 13,
    "start_time": "2022-11-22T09:30:54.512Z"
   },
   {
    "duration": 27,
    "start_time": "2022-11-22T09:30:54.528Z"
   },
   {
    "duration": 21,
    "start_time": "2022-11-22T09:30:54.557Z"
   },
   {
    "duration": 7,
    "start_time": "2022-11-22T09:30:54.580Z"
   },
   {
    "duration": 33,
    "start_time": "2022-11-22T09:30:54.589Z"
   },
   {
    "duration": 10,
    "start_time": "2022-11-22T09:30:54.624Z"
   },
   {
    "duration": 109,
    "start_time": "2022-11-22T09:30:54.636Z"
   },
   {
    "duration": 0,
    "start_time": "2022-11-22T09:30:54.747Z"
   },
   {
    "duration": 1211,
    "start_time": "2022-11-22T09:31:26.019Z"
   },
   {
    "duration": 34,
    "start_time": "2022-11-22T09:31:27.232Z"
   },
   {
    "duration": 11,
    "start_time": "2022-11-22T09:31:27.268Z"
   },
   {
    "duration": 29,
    "start_time": "2022-11-22T09:31:27.282Z"
   },
   {
    "duration": 7,
    "start_time": "2022-11-22T09:31:27.314Z"
   },
   {
    "duration": 7,
    "start_time": "2022-11-22T09:31:27.322Z"
   },
   {
    "duration": 28,
    "start_time": "2022-11-22T09:31:27.331Z"
   },
   {
    "duration": 11,
    "start_time": "2022-11-22T09:31:27.361Z"
   },
   {
    "duration": 80,
    "start_time": "2022-11-22T09:31:27.374Z"
   },
   {
    "duration": 25,
    "start_time": "2022-11-22T09:31:27.457Z"
   },
   {
    "duration": 116,
    "start_time": "2022-11-22T09:35:42.216Z"
   },
   {
    "duration": 1199,
    "start_time": "2022-11-22T09:37:16.768Z"
   },
   {
    "duration": 40,
    "start_time": "2022-11-22T09:37:17.970Z"
   },
   {
    "duration": 113,
    "start_time": "2022-11-22T09:37:18.012Z"
   },
   {
    "duration": 35,
    "start_time": "2022-11-22T09:37:18.128Z"
   },
   {
    "duration": 37,
    "start_time": "2022-11-22T09:37:18.165Z"
   },
   {
    "duration": 24,
    "start_time": "2022-11-22T09:37:18.204Z"
   },
   {
    "duration": 64,
    "start_time": "2022-11-22T09:37:18.230Z"
   },
   {
    "duration": 11,
    "start_time": "2022-11-22T09:37:18.297Z"
   },
   {
    "duration": 101,
    "start_time": "2022-11-22T09:37:18.310Z"
   },
   {
    "duration": 40,
    "start_time": "2022-11-22T09:37:18.414Z"
   },
   {
    "duration": 4056,
    "start_time": "2022-11-22T09:37:18.456Z"
   },
   {
    "duration": 1191,
    "start_time": "2022-11-22T09:37:59.824Z"
   },
   {
    "duration": 31,
    "start_time": "2022-11-22T09:38:01.018Z"
   },
   {
    "duration": 45,
    "start_time": "2022-11-22T09:38:01.051Z"
   },
   {
    "duration": 42,
    "start_time": "2022-11-22T09:38:01.099Z"
   },
   {
    "duration": 26,
    "start_time": "2022-11-22T09:38:01.143Z"
   },
   {
    "duration": 63,
    "start_time": "2022-11-22T09:38:01.171Z"
   },
   {
    "duration": 51,
    "start_time": "2022-11-22T09:38:01.236Z"
   },
   {
    "duration": 14,
    "start_time": "2022-11-22T09:38:01.289Z"
   },
   {
    "duration": 109,
    "start_time": "2022-11-22T09:38:01.306Z"
   },
   {
    "duration": 4011,
    "start_time": "2022-11-22T09:38:01.417Z"
   },
   {
    "duration": 31,
    "start_time": "2022-11-22T09:38:05.430Z"
   },
   {
    "duration": 13,
    "start_time": "2022-11-22T09:45:26.301Z"
   },
   {
    "duration": 1129,
    "start_time": "2022-11-22T09:47:27.540Z"
   },
   {
    "duration": 31,
    "start_time": "2022-11-22T09:47:28.672Z"
   },
   {
    "duration": 13,
    "start_time": "2022-11-22T09:47:28.705Z"
   },
   {
    "duration": 21,
    "start_time": "2022-11-22T09:47:28.720Z"
   },
   {
    "duration": 7,
    "start_time": "2022-11-22T09:47:28.743Z"
   },
   {
    "duration": 11,
    "start_time": "2022-11-22T09:47:28.752Z"
   },
   {
    "duration": 29,
    "start_time": "2022-11-22T09:47:28.765Z"
   },
   {
    "duration": 11,
    "start_time": "2022-11-22T09:47:28.796Z"
   },
   {
    "duration": 91,
    "start_time": "2022-11-22T09:47:28.809Z"
   },
   {
    "duration": 3958,
    "start_time": "2022-11-22T09:47:28.903Z"
   },
   {
    "duration": 24,
    "start_time": "2022-11-22T09:47:32.863Z"
   },
   {
    "duration": 30,
    "start_time": "2022-11-22T09:47:32.888Z"
   },
   {
    "duration": 169,
    "start_time": "2022-11-22T09:47:32.920Z"
   },
   {
    "duration": 1163,
    "start_time": "2022-11-22T09:49:31.157Z"
   },
   {
    "duration": 47,
    "start_time": "2022-11-22T09:49:32.323Z"
   },
   {
    "duration": 17,
    "start_time": "2022-11-22T09:49:32.372Z"
   },
   {
    "duration": 96,
    "start_time": "2022-11-22T09:49:32.391Z"
   },
   {
    "duration": 47,
    "start_time": "2022-11-22T09:49:32.489Z"
   },
   {
    "duration": 37,
    "start_time": "2022-11-22T09:49:32.539Z"
   },
   {
    "duration": 82,
    "start_time": "2022-11-22T09:49:32.578Z"
   },
   {
    "duration": 27,
    "start_time": "2022-11-22T09:49:32.662Z"
   },
   {
    "duration": 120,
    "start_time": "2022-11-22T09:49:32.692Z"
   },
   {
    "duration": 3963,
    "start_time": "2022-11-22T09:49:32.815Z"
   },
   {
    "duration": 30,
    "start_time": "2022-11-22T09:49:36.780Z"
   },
   {
    "duration": 32,
    "start_time": "2022-11-22T09:49:36.813Z"
   },
   {
    "duration": 165,
    "start_time": "2022-11-22T09:49:36.847Z"
   },
   {
    "duration": 34,
    "start_time": "2022-11-22T09:49:37.014Z"
   },
   {
    "duration": 1067,
    "start_time": "2022-11-22T10:02:23.366Z"
   },
   {
    "duration": 30,
    "start_time": "2022-11-22T10:02:24.435Z"
   },
   {
    "duration": 11,
    "start_time": "2022-11-22T10:02:24.467Z"
   },
   {
    "duration": 36,
    "start_time": "2022-11-22T10:02:24.480Z"
   },
   {
    "duration": 12,
    "start_time": "2022-11-22T10:02:24.518Z"
   },
   {
    "duration": 7,
    "start_time": "2022-11-22T10:02:24.532Z"
   },
   {
    "duration": 31,
    "start_time": "2022-11-22T10:02:24.540Z"
   },
   {
    "duration": 16,
    "start_time": "2022-11-22T10:02:24.573Z"
   },
   {
    "duration": 66,
    "start_time": "2022-11-22T10:02:24.591Z"
   },
   {
    "duration": 4204,
    "start_time": "2022-11-22T10:02:24.660Z"
   },
   {
    "duration": 30,
    "start_time": "2022-11-22T10:02:28.866Z"
   },
   {
    "duration": 36,
    "start_time": "2022-11-22T10:02:28.899Z"
   },
   {
    "duration": 137,
    "start_time": "2022-11-22T10:02:28.937Z"
   },
   {
    "duration": 25,
    "start_time": "2022-11-22T10:02:29.076Z"
   },
   {
    "duration": 8,
    "start_time": "2022-11-22T10:04:15.066Z"
   },
   {
    "duration": 4,
    "start_time": "2022-11-22T10:04:15.794Z"
   },
   {
    "duration": 1967,
    "start_time": "2022-11-22T10:15:20.683Z"
   },
   {
    "duration": 31,
    "start_time": "2022-11-22T10:15:22.652Z"
   },
   {
    "duration": 12,
    "start_time": "2022-11-22T10:15:22.685Z"
   },
   {
    "duration": 18,
    "start_time": "2022-11-22T10:15:22.699Z"
   },
   {
    "duration": 6,
    "start_time": "2022-11-22T10:15:22.719Z"
   },
   {
    "duration": 12,
    "start_time": "2022-11-22T10:15:22.726Z"
   },
   {
    "duration": 25,
    "start_time": "2022-11-22T10:15:22.740Z"
   },
   {
    "duration": 145,
    "start_time": "2022-11-22T10:15:22.768Z"
   },
   {
    "duration": 1,
    "start_time": "2022-11-22T10:15:22.915Z"
   },
   {
    "duration": 0,
    "start_time": "2022-11-22T10:15:22.917Z"
   },
   {
    "duration": 0,
    "start_time": "2022-11-22T10:15:22.918Z"
   },
   {
    "duration": 0,
    "start_time": "2022-11-22T10:15:22.919Z"
   },
   {
    "duration": 0,
    "start_time": "2022-11-22T10:15:22.920Z"
   },
   {
    "duration": 0,
    "start_time": "2022-11-22T10:15:22.921Z"
   },
   {
    "duration": 0,
    "start_time": "2022-11-22T10:15:22.922Z"
   },
   {
    "duration": 5,
    "start_time": "2022-11-22T10:18:43.156Z"
   },
   {
    "duration": 8,
    "start_time": "2022-11-22T10:18:43.163Z"
   },
   {
    "duration": 21,
    "start_time": "2022-11-22T10:18:43.173Z"
   },
   {
    "duration": 0,
    "start_time": "2022-11-22T10:18:43.196Z"
   },
   {
    "duration": 0,
    "start_time": "2022-11-22T10:18:43.197Z"
   },
   {
    "duration": 0,
    "start_time": "2022-11-22T10:18:43.198Z"
   },
   {
    "duration": 0,
    "start_time": "2022-11-22T10:18:43.199Z"
   },
   {
    "duration": 0,
    "start_time": "2022-11-22T10:18:43.200Z"
   },
   {
    "duration": 5,
    "start_time": "2022-11-22T10:19:14.740Z"
   },
   {
    "duration": 10,
    "start_time": "2022-11-22T10:19:14.747Z"
   },
   {
    "duration": 64,
    "start_time": "2022-11-22T10:19:14.759Z"
   },
   {
    "duration": 4920,
    "start_time": "2022-11-22T10:19:14.825Z"
   },
   {
    "duration": 29,
    "start_time": "2022-11-22T10:19:19.747Z"
   },
   {
    "duration": 40,
    "start_time": "2022-11-22T10:19:19.778Z"
   },
   {
    "duration": 137,
    "start_time": "2022-11-22T10:19:19.819Z"
   },
   {
    "duration": 26,
    "start_time": "2022-11-22T10:19:19.957Z"
   },
   {
    "duration": 1680,
    "start_time": "2022-11-22T10:23:24.565Z"
   },
   {
    "duration": 31,
    "start_time": "2022-11-22T10:23:26.248Z"
   },
   {
    "duration": 12,
    "start_time": "2022-11-22T10:23:26.281Z"
   },
   {
    "duration": 16,
    "start_time": "2022-11-22T10:23:26.295Z"
   },
   {
    "duration": 6,
    "start_time": "2022-11-22T10:23:26.313Z"
   },
   {
    "duration": 8,
    "start_time": "2022-11-22T10:23:26.321Z"
   },
   {
    "duration": 25,
    "start_time": "2022-11-22T10:23:26.330Z"
   },
   {
    "duration": 118,
    "start_time": "2022-11-22T10:23:26.357Z"
   },
   {
    "duration": 0,
    "start_time": "2022-11-22T10:23:26.477Z"
   },
   {
    "duration": 0,
    "start_time": "2022-11-22T10:23:26.478Z"
   },
   {
    "duration": 0,
    "start_time": "2022-11-22T10:23:26.479Z"
   },
   {
    "duration": 0,
    "start_time": "2022-11-22T10:23:26.480Z"
   },
   {
    "duration": 0,
    "start_time": "2022-11-22T10:23:26.481Z"
   },
   {
    "duration": 0,
    "start_time": "2022-11-22T10:23:26.482Z"
   },
   {
    "duration": 0,
    "start_time": "2022-11-22T10:23:26.483Z"
   },
   {
    "duration": 1133,
    "start_time": "2022-11-22T16:18:05.369Z"
   },
   {
    "duration": 62,
    "start_time": "2022-11-22T16:18:06.504Z"
   },
   {
    "duration": 12,
    "start_time": "2022-11-22T16:18:06.568Z"
   },
   {
    "duration": 22,
    "start_time": "2022-11-22T16:18:06.582Z"
   },
   {
    "duration": 6,
    "start_time": "2022-11-22T16:18:06.606Z"
   },
   {
    "duration": 7,
    "start_time": "2022-11-22T16:18:06.614Z"
   },
   {
    "duration": 45,
    "start_time": "2022-11-22T16:18:06.623Z"
   },
   {
    "duration": 6,
    "start_time": "2022-11-22T16:18:06.669Z"
   },
   {
    "duration": 10,
    "start_time": "2022-11-22T16:18:06.677Z"
   },
   {
    "duration": 73,
    "start_time": "2022-11-22T16:18:06.690Z"
   },
   {
    "duration": 3912,
    "start_time": "2022-11-22T16:18:06.765Z"
   },
   {
    "duration": 37,
    "start_time": "2022-11-22T16:18:10.679Z"
   },
   {
    "duration": 34,
    "start_time": "2022-11-22T16:18:10.718Z"
   },
   {
    "duration": 136,
    "start_time": "2022-11-22T16:18:10.754Z"
   },
   {
    "duration": 24,
    "start_time": "2022-11-22T16:18:10.892Z"
   },
   {
    "duration": 1245,
    "start_time": "2022-11-22T16:22:48.034Z"
   },
   {
    "duration": 30,
    "start_time": "2022-11-22T16:22:49.282Z"
   },
   {
    "duration": 14,
    "start_time": "2022-11-22T16:22:49.314Z"
   },
   {
    "duration": 18,
    "start_time": "2022-11-22T16:22:49.332Z"
   },
   {
    "duration": 6,
    "start_time": "2022-11-22T16:22:49.352Z"
   },
   {
    "duration": 7,
    "start_time": "2022-11-22T16:22:49.360Z"
   },
   {
    "duration": 25,
    "start_time": "2022-11-22T16:22:49.368Z"
   },
   {
    "duration": 6,
    "start_time": "2022-11-22T16:22:49.396Z"
   },
   {
    "duration": 47,
    "start_time": "2022-11-22T16:22:49.404Z"
   },
   {
    "duration": 63,
    "start_time": "2022-11-22T16:22:49.453Z"
   },
   {
    "duration": 3960,
    "start_time": "2022-11-22T16:22:49.518Z"
   },
   {
    "duration": 27,
    "start_time": "2022-11-22T16:22:53.480Z"
   },
   {
    "duration": 149,
    "start_time": "2022-11-22T16:22:53.508Z"
   },
   {
    "duration": 1306,
    "start_time": "2022-11-22T16:55:54.836Z"
   },
   {
    "duration": 37,
    "start_time": "2022-11-22T16:55:56.144Z"
   },
   {
    "duration": 16,
    "start_time": "2022-11-22T16:55:56.183Z"
   },
   {
    "duration": 37,
    "start_time": "2022-11-22T16:55:56.202Z"
   },
   {
    "duration": 7,
    "start_time": "2022-11-22T16:55:56.241Z"
   },
   {
    "duration": 33,
    "start_time": "2022-11-22T16:55:56.249Z"
   },
   {
    "duration": 26,
    "start_time": "2022-11-22T16:55:56.284Z"
   },
   {
    "duration": 8,
    "start_time": "2022-11-22T16:55:56.311Z"
   },
   {
    "duration": 10,
    "start_time": "2022-11-22T16:55:56.320Z"
   },
   {
    "duration": 74,
    "start_time": "2022-11-22T16:55:56.332Z"
   },
   {
    "duration": 4435,
    "start_time": "2022-11-22T16:55:56.408Z"
   },
   {
    "duration": 54,
    "start_time": "2022-11-22T16:56:00.845Z"
   },
   {
    "duration": 133,
    "start_time": "2022-11-22T16:56:00.901Z"
   },
   {
    "duration": 1159,
    "start_time": "2022-11-22T17:11:15.619Z"
   },
   {
    "duration": 29,
    "start_time": "2022-11-22T17:11:16.780Z"
   },
   {
    "duration": 13,
    "start_time": "2022-11-22T17:11:16.811Z"
   },
   {
    "duration": 24,
    "start_time": "2022-11-22T17:11:16.827Z"
   },
   {
    "duration": 7,
    "start_time": "2022-11-22T17:11:16.853Z"
   },
   {
    "duration": 10,
    "start_time": "2022-11-22T17:11:16.862Z"
   },
   {
    "duration": 26,
    "start_time": "2022-11-22T17:11:16.873Z"
   },
   {
    "duration": 7,
    "start_time": "2022-11-22T17:11:16.900Z"
   },
   {
    "duration": 9,
    "start_time": "2022-11-22T17:11:16.909Z"
   },
   {
    "duration": 89,
    "start_time": "2022-11-22T17:11:16.920Z"
   },
   {
    "duration": 4006,
    "start_time": "2022-11-22T17:11:17.011Z"
   },
   {
    "duration": 32,
    "start_time": "2022-11-22T17:11:21.019Z"
   },
   {
    "duration": 136,
    "start_time": "2022-11-22T17:11:21.053Z"
   },
   {
    "duration": 13083,
    "start_time": "2022-11-23T10:08:52.891Z"
   },
   {
    "duration": 278,
    "start_time": "2022-11-23T10:09:06.075Z"
   },
   {
    "duration": 123,
    "start_time": "2022-11-23T10:09:06.362Z"
   },
   {
    "duration": 406,
    "start_time": "2022-11-23T10:09:06.656Z"
   },
   {
    "duration": 104,
    "start_time": "2022-11-23T10:09:07.076Z"
   },
   {
    "duration": 113,
    "start_time": "2022-11-23T10:09:07.274Z"
   },
   {
    "duration": 364,
    "start_time": "2022-11-23T10:09:07.493Z"
   },
   {
    "duration": 100,
    "start_time": "2022-11-23T10:09:07.870Z"
   },
   {
    "duration": 193,
    "start_time": "2022-11-23T10:09:07.974Z"
   },
   {
    "duration": 1292,
    "start_time": "2022-11-23T10:09:08.174Z"
   },
   {
    "duration": 38068,
    "start_time": "2022-11-23T10:09:09.493Z"
   },
   {
    "duration": 304,
    "start_time": "2022-11-23T10:09:47.567Z"
   },
   {
    "duration": 2161,
    "start_time": "2022-11-23T10:09:47.992Z"
   }
  ],
  "kernelspec": {
   "display_name": "Python 3 (ipykernel)",
   "language": "python",
   "name": "python3"
  },
  "language_info": {
   "codemirror_mode": {
    "name": "ipython",
    "version": 3
   },
   "file_extension": ".py",
   "mimetype": "text/x-python",
   "name": "python",
   "nbconvert_exporter": "python",
   "pygments_lexer": "ipython3",
   "version": "3.9.5"
  },
  "toc": {
   "base_numbering": 1,
   "nav_menu": {},
   "number_sections": true,
   "sideBar": true,
   "skip_h1_title": true,
   "title_cell": "Table of Contents",
   "title_sidebar": "Contents",
   "toc_cell": false,
   "toc_position": {
    "height": "calc(100% - 180px)",
    "left": "10px",
    "top": "150px",
    "width": "165px"
   },
   "toc_section_display": true,
   "toc_window_display": true
  }
 },
 "nbformat": 4,
 "nbformat_minor": 2
}
