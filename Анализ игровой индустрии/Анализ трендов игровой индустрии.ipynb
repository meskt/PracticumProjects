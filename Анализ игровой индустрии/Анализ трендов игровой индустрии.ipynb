{
 "cells": [
  {
   "cell_type": "markdown",
   "metadata": {},
   "source": [
    "# Исследование закономерностей, определяющих успешность игр."
   ]
  },
  {
   "cell_type": "markdown",
   "metadata": {},
   "source": [
    "Вы работаете в интернет-магазине «Стримчик», который продаёт по всему миру компьютерные игры. Из открытых источников доступны исторические данные о продажах игр, оценки пользователей и экспертов, жанры и платформы (например, Xbox или PlayStation). Вам нужно выявить определяющие успешность игры закономерности. Это позволит сделать ставку на потенциально популярный продукт и спланировать рекламные кампании.\n",
    "\n",
    "Перед вами данные до 2016 года. Представим, что сейчас декабрь 2016 г., и вы планируете кампанию на 2017-й. Нужно отработать принцип работы с данными. Неважно, прогнозируете ли вы продажи на 2017 год по данным 2016-го или же 2027-й — по данным 2026 года.\n",
    "\n",
    "В наборе данных попадается аббревиатура ESRB (Entertainment Software Rating Board) — это ассоциация, определяющая возрастной рейтинг компьютерных игр. ESRB оценивает игровой контент и присваивает ему подходящую возрастную категорию, например, «Для взрослых», «Для детей младшего возраста» или «Для подростков»."
   ]
  },
  {
   "cell_type": "markdown",
   "metadata": {},
   "source": [
    "Описание данных\n",
    "\n",
    "Name — название игры\n",
    "\n",
    "Platform — платформа\n",
    "\n",
    "Year_of_Release — год выпуска\n",
    "\n",
    "Genre — жанр игры\n",
    "\n",
    "NA_sales — продажи в Северной Америке (миллионы проданных копий)\n",
    "\n",
    "EU_sales — продажи в Европе (миллионы проданных копий)\n",
    "\n",
    "JP_sales — продажи в Японии (миллионы проданных копий)\n",
    "\n",
    "Other_sales — продажи в других странах (миллионы проданных копий)\n",
    "\n",
    "Critic_Score — оценка критиков (максимум 100)\n",
    "\n",
    "User_Score — оценка пользователей (максимум 10)\n",
    "\n",
    "Rating — рейтинг от организации ESRB (англ. Entertainment Software Rating Board). Эта ассоциация определяет рейтинг компьютерных игр и присваивает им подходящую возрастную категорию."
   ]
  },
  {
   "cell_type": "markdown",
   "metadata": {},
   "source": [
    "### Общая информация о таблице данных. "
   ]
  },
  {
   "cell_type": "code",
   "execution_count": 1,
   "metadata": {},
   "outputs": [],
   "source": [
    "import pandas as pd\n",
    "import matplotlib.pyplot as plt\n",
    "import numpy as np\n",
    "import seaborn as sns\n",
    "from scipy import stats as st"
   ]
  },
  {
   "cell_type": "code",
   "execution_count": 2,
   "metadata": {},
   "outputs": [
    {
     "data": {
      "text/html": [
       "<div>\n",
       "<style scoped>\n",
       "    .dataframe tbody tr th:only-of-type {\n",
       "        vertical-align: middle;\n",
       "    }\n",
       "\n",
       "    .dataframe tbody tr th {\n",
       "        vertical-align: top;\n",
       "    }\n",
       "\n",
       "    .dataframe thead th {\n",
       "        text-align: right;\n",
       "    }\n",
       "</style>\n",
       "<table border=\"1\" class=\"dataframe\">\n",
       "  <thead>\n",
       "    <tr style=\"text-align: right;\">\n",
       "      <th></th>\n",
       "      <th>Name</th>\n",
       "      <th>Platform</th>\n",
       "      <th>Year_of_Release</th>\n",
       "      <th>Genre</th>\n",
       "      <th>NA_sales</th>\n",
       "      <th>EU_sales</th>\n",
       "      <th>JP_sales</th>\n",
       "      <th>Other_sales</th>\n",
       "      <th>Critic_Score</th>\n",
       "      <th>User_Score</th>\n",
       "      <th>Rating</th>\n",
       "    </tr>\n",
       "  </thead>\n",
       "  <tbody>\n",
       "    <tr>\n",
       "      <th>0</th>\n",
       "      <td>Wii Sports</td>\n",
       "      <td>Wii</td>\n",
       "      <td>2006.0</td>\n",
       "      <td>Sports</td>\n",
       "      <td>41.36</td>\n",
       "      <td>28.96</td>\n",
       "      <td>3.77</td>\n",
       "      <td>8.45</td>\n",
       "      <td>76.0</td>\n",
       "      <td>8</td>\n",
       "      <td>E</td>\n",
       "    </tr>\n",
       "    <tr>\n",
       "      <th>1</th>\n",
       "      <td>Super Mario Bros.</td>\n",
       "      <td>NES</td>\n",
       "      <td>1985.0</td>\n",
       "      <td>Platform</td>\n",
       "      <td>29.08</td>\n",
       "      <td>3.58</td>\n",
       "      <td>6.81</td>\n",
       "      <td>0.77</td>\n",
       "      <td>NaN</td>\n",
       "      <td>NaN</td>\n",
       "      <td>NaN</td>\n",
       "    </tr>\n",
       "    <tr>\n",
       "      <th>2</th>\n",
       "      <td>Mario Kart Wii</td>\n",
       "      <td>Wii</td>\n",
       "      <td>2008.0</td>\n",
       "      <td>Racing</td>\n",
       "      <td>15.68</td>\n",
       "      <td>12.76</td>\n",
       "      <td>3.79</td>\n",
       "      <td>3.29</td>\n",
       "      <td>82.0</td>\n",
       "      <td>8.3</td>\n",
       "      <td>E</td>\n",
       "    </tr>\n",
       "    <tr>\n",
       "      <th>3</th>\n",
       "      <td>Wii Sports Resort</td>\n",
       "      <td>Wii</td>\n",
       "      <td>2009.0</td>\n",
       "      <td>Sports</td>\n",
       "      <td>15.61</td>\n",
       "      <td>10.93</td>\n",
       "      <td>3.28</td>\n",
       "      <td>2.95</td>\n",
       "      <td>80.0</td>\n",
       "      <td>8</td>\n",
       "      <td>E</td>\n",
       "    </tr>\n",
       "    <tr>\n",
       "      <th>4</th>\n",
       "      <td>Pokemon Red/Pokemon Blue</td>\n",
       "      <td>GB</td>\n",
       "      <td>1996.0</td>\n",
       "      <td>Role-Playing</td>\n",
       "      <td>11.27</td>\n",
       "      <td>8.89</td>\n",
       "      <td>10.22</td>\n",
       "      <td>1.00</td>\n",
       "      <td>NaN</td>\n",
       "      <td>NaN</td>\n",
       "      <td>NaN</td>\n",
       "    </tr>\n",
       "  </tbody>\n",
       "</table>\n",
       "</div>"
      ],
      "text/plain": [
       "                       Name Platform  Year_of_Release         Genre  NA_sales  \\\n",
       "0                Wii Sports      Wii           2006.0        Sports     41.36   \n",
       "1         Super Mario Bros.      NES           1985.0      Platform     29.08   \n",
       "2            Mario Kart Wii      Wii           2008.0        Racing     15.68   \n",
       "3         Wii Sports Resort      Wii           2009.0        Sports     15.61   \n",
       "4  Pokemon Red/Pokemon Blue       GB           1996.0  Role-Playing     11.27   \n",
       "\n",
       "   EU_sales  JP_sales  Other_sales  Critic_Score User_Score Rating  \n",
       "0     28.96      3.77         8.45          76.0          8      E  \n",
       "1      3.58      6.81         0.77           NaN        NaN    NaN  \n",
       "2     12.76      3.79         3.29          82.0        8.3      E  \n",
       "3     10.93      3.28         2.95          80.0          8      E  \n",
       "4      8.89     10.22         1.00           NaN        NaN    NaN  "
      ]
     },
     "metadata": {},
     "output_type": "display_data"
    }
   ],
   "source": [
    "data = pd.read_csv('/datasets/games.csv')\n",
    "display(data.head())"
   ]
  },
  {
   "cell_type": "code",
   "execution_count": 3,
   "metadata": {
    "scrolled": false
   },
   "outputs": [
    {
     "name": "stdout",
     "output_type": "stream",
     "text": [
      "<class 'pandas.core.frame.DataFrame'>\n",
      "RangeIndex: 16715 entries, 0 to 16714\n",
      "Data columns (total 11 columns):\n",
      " #   Column           Non-Null Count  Dtype  \n",
      "---  ------           --------------  -----  \n",
      " 0   Name             16713 non-null  object \n",
      " 1   Platform         16715 non-null  object \n",
      " 2   Year_of_Release  16446 non-null  float64\n",
      " 3   Genre            16713 non-null  object \n",
      " 4   NA_sales         16715 non-null  float64\n",
      " 5   EU_sales         16715 non-null  float64\n",
      " 6   JP_sales         16715 non-null  float64\n",
      " 7   Other_sales      16715 non-null  float64\n",
      " 8   Critic_Score     8137 non-null   float64\n",
      " 9   User_Score       10014 non-null  object \n",
      " 10  Rating           9949 non-null   object \n",
      "dtypes: float64(6), object(5)\n",
      "memory usage: 1.4+ MB\n"
     ]
    },
    {
     "data": {
      "text/plain": [
       "0"
      ]
     },
     "execution_count": 3,
     "metadata": {},
     "output_type": "execute_result"
    }
   ],
   "source": [
    "data.info()\n",
    "data.duplicated().sum()"
   ]
  },
  {
   "cell_type": "code",
   "execution_count": 4,
   "metadata": {
    "scrolled": true
   },
   "outputs": [
    {
     "data": {
      "text/plain": [
       "Name                  2\n",
       "Platform              0\n",
       "Year_of_Release     269\n",
       "Genre                 2\n",
       "NA_sales              0\n",
       "EU_sales              0\n",
       "JP_sales              0\n",
       "Other_sales           0\n",
       "Critic_Score       8578\n",
       "User_Score         6701\n",
       "Rating             6766\n",
       "dtype: int64"
      ]
     },
     "execution_count": 4,
     "metadata": {},
     "output_type": "execute_result"
    }
   ],
   "source": [
    "data.isna().sum()"
   ]
  },
  {
   "cell_type": "markdown",
   "metadata": {},
   "source": [
    "В таблице представленно 11 параметров для каждой игры. Уже в пяти первых строчках видны пропуски данных, а также можно заметить, что не у всех параметров нужный тип данных (например, оценка пользователей - это, скорее всего, должно быть какое-то число). Далее мы рассмотрим все параметры подробнее, выявим пропуски, аномалии и дубликаты."
   ]
  },
  {
   "cell_type": "markdown",
   "metadata": {},
   "source": [
    "### Предобратка данных."
   ]
  },
  {
   "cell_type": "markdown",
   "metadata": {},
   "source": [
    "Для более удобной дальнейшей работы с таблицей приведем все названия столбоц к нижнему регистру."
   ]
  },
  {
   "cell_type": "code",
   "execution_count": 5,
   "metadata": {},
   "outputs": [
    {
     "data": {
      "text/plain": [
       "Index(['name', 'platform', 'year_of_release', 'genre', 'na_sales', 'eu_sales',\n",
       "       'jp_sales', 'other_sales', 'critic_score', 'user_score', 'rating'],\n",
       "      dtype='object')"
      ]
     },
     "metadata": {},
     "output_type": "display_data"
    }
   ],
   "source": [
    "data.columns = data.columns.str.lower()\n",
    "display(data.columns)"
   ]
  },
  {
   "cell_type": "markdown",
   "metadata": {},
   "source": [
    "Теперь проведем анализ каждого параметра на наличие дубликатов, пропусков и аномалий."
   ]
  },
  {
   "cell_type": "markdown",
   "metadata": {},
   "source": [
    "#### Параметр \"name\"."
   ]
  },
  {
   "cell_type": "code",
   "execution_count": 6,
   "metadata": {},
   "outputs": [
    {
     "data": {
      "text/plain": [
       "11559"
      ]
     },
     "metadata": {},
     "output_type": "display_data"
    },
    {
     "data": {
      "text/plain": [
       "array(['Wii Sports', 'Super Mario Bros.', 'Mario Kart Wii', ...,\n",
       "       'Woody Woodpecker in Crazy Castle 5', 'LMA Manager 2007',\n",
       "       'Haitaka no Psychedelica'], dtype=object)"
      ]
     },
     "metadata": {},
     "output_type": "display_data"
    }
   ],
   "source": [
    "display(data['name'].nunique())\n",
    "display(data['name'].unique())"
   ]
  },
  {
   "cell_type": "code",
   "execution_count": 7,
   "metadata": {},
   "outputs": [
    {
     "data": {
      "text/html": [
       "<div>\n",
       "<style scoped>\n",
       "    .dataframe tbody tr th:only-of-type {\n",
       "        vertical-align: middle;\n",
       "    }\n",
       "\n",
       "    .dataframe tbody tr th {\n",
       "        vertical-align: top;\n",
       "    }\n",
       "\n",
       "    .dataframe thead th {\n",
       "        text-align: right;\n",
       "    }\n",
       "</style>\n",
       "<table border=\"1\" class=\"dataframe\">\n",
       "  <thead>\n",
       "    <tr style=\"text-align: right;\">\n",
       "      <th></th>\n",
       "      <th>name</th>\n",
       "      <th>platform</th>\n",
       "      <th>year_of_release</th>\n",
       "      <th>genre</th>\n",
       "      <th>na_sales</th>\n",
       "      <th>eu_sales</th>\n",
       "      <th>jp_sales</th>\n",
       "      <th>other_sales</th>\n",
       "      <th>critic_score</th>\n",
       "      <th>user_score</th>\n",
       "      <th>rating</th>\n",
       "    </tr>\n",
       "  </thead>\n",
       "  <tbody>\n",
       "    <tr>\n",
       "      <th>659</th>\n",
       "      <td>NaN</td>\n",
       "      <td>GEN</td>\n",
       "      <td>1993.0</td>\n",
       "      <td>NaN</td>\n",
       "      <td>1.78</td>\n",
       "      <td>0.53</td>\n",
       "      <td>0.00</td>\n",
       "      <td>0.08</td>\n",
       "      <td>NaN</td>\n",
       "      <td>NaN</td>\n",
       "      <td>NaN</td>\n",
       "    </tr>\n",
       "    <tr>\n",
       "      <th>14244</th>\n",
       "      <td>NaN</td>\n",
       "      <td>GEN</td>\n",
       "      <td>1993.0</td>\n",
       "      <td>NaN</td>\n",
       "      <td>0.00</td>\n",
       "      <td>0.00</td>\n",
       "      <td>0.03</td>\n",
       "      <td>0.00</td>\n",
       "      <td>NaN</td>\n",
       "      <td>NaN</td>\n",
       "      <td>NaN</td>\n",
       "    </tr>\n",
       "  </tbody>\n",
       "</table>\n",
       "</div>"
      ],
      "text/plain": [
       "      name platform  year_of_release genre  na_sales  eu_sales  jp_sales  \\\n",
       "659    NaN      GEN           1993.0   NaN      1.78      0.53      0.00   \n",
       "14244  NaN      GEN           1993.0   NaN      0.00      0.00      0.03   \n",
       "\n",
       "       other_sales  critic_score user_score rating  \n",
       "659           0.08           NaN        NaN    NaN  \n",
       "14244         0.00           NaN        NaN    NaN  "
      ]
     },
     "metadata": {},
     "output_type": "display_data"
    }
   ],
   "source": [
    "display(data[data['name'].isna()])"
   ]
  },
  {
   "cell_type": "markdown",
   "metadata": {},
   "source": [
    "В первом столбце в таблице есть два пропуска. При рассмотрении этих строк подробно, можно сделать вывод, что информация по этим играм в целом не заполнена (в половине столбцов стоит значение \"NaN\") и их количество составляет малую часть от общего числа данных. Поэтому эти строки удалим из таблицы."
   ]
  },
  {
   "cell_type": "code",
   "execution_count": 8,
   "metadata": {},
   "outputs": [
    {
     "data": {
      "text/html": [
       "<div>\n",
       "<style scoped>\n",
       "    .dataframe tbody tr th:only-of-type {\n",
       "        vertical-align: middle;\n",
       "    }\n",
       "\n",
       "    .dataframe tbody tr th {\n",
       "        vertical-align: top;\n",
       "    }\n",
       "\n",
       "    .dataframe thead th {\n",
       "        text-align: right;\n",
       "    }\n",
       "</style>\n",
       "<table border=\"1\" class=\"dataframe\">\n",
       "  <thead>\n",
       "    <tr style=\"text-align: right;\">\n",
       "      <th></th>\n",
       "      <th>name</th>\n",
       "      <th>platform</th>\n",
       "      <th>year_of_release</th>\n",
       "      <th>genre</th>\n",
       "      <th>na_sales</th>\n",
       "      <th>eu_sales</th>\n",
       "      <th>jp_sales</th>\n",
       "      <th>other_sales</th>\n",
       "      <th>critic_score</th>\n",
       "      <th>user_score</th>\n",
       "      <th>rating</th>\n",
       "    </tr>\n",
       "  </thead>\n",
       "  <tbody>\n",
       "  </tbody>\n",
       "</table>\n",
       "</div>"
      ],
      "text/plain": [
       "Empty DataFrame\n",
       "Columns: [name, platform, year_of_release, genre, na_sales, eu_sales, jp_sales, other_sales, critic_score, user_score, rating]\n",
       "Index: []"
      ]
     },
     "metadata": {},
     "output_type": "display_data"
    }
   ],
   "source": [
    "data = data[data.name.notna()]\n",
    "data.reset_index()\n",
    "display(data[data['name'].isna()])"
   ]
  },
  {
   "cell_type": "markdown",
   "metadata": {},
   "source": [
    "#### Параметр \"platform\"."
   ]
  },
  {
   "cell_type": "code",
   "execution_count": 9,
   "metadata": {},
   "outputs": [
    {
     "data": {
      "text/plain": [
       "array(['Wii', 'NES', 'GB', 'DS', 'X360', 'PS3', 'PS2', 'SNES', 'GBA',\n",
       "       'PS4', '3DS', 'N64', 'PS', 'XB', 'PC', '2600', 'PSP', 'XOne',\n",
       "       'WiiU', 'GC', 'GEN', 'DC', 'PSV', 'SAT', 'SCD', 'WS', 'NG', 'TG16',\n",
       "       '3DO', 'GG', 'PCFX'], dtype=object)"
      ]
     },
     "metadata": {},
     "output_type": "display_data"
    }
   ],
   "source": [
    "display(data['platform'].unique())"
   ]
  },
  {
   "cell_type": "markdown",
   "metadata": {},
   "source": [
    "По этому параметру пропусков в таблице нет. Неявных дубликатов нет."
   ]
  },
  {
   "cell_type": "markdown",
   "metadata": {},
   "source": [
    "#### Параметр \"year_of_release\"."
   ]
  },
  {
   "cell_type": "markdown",
   "metadata": {},
   "source": [
    "В столбце \"year_of_release\", как мы заметили ранее, 269 пропусков. Посмотрим, в каких строчках значения не указаны."
   ]
  },
  {
   "cell_type": "code",
   "execution_count": 10,
   "metadata": {},
   "outputs": [
    {
     "data": {
      "text/html": [
       "<div>\n",
       "<style scoped>\n",
       "    .dataframe tbody tr th:only-of-type {\n",
       "        vertical-align: middle;\n",
       "    }\n",
       "\n",
       "    .dataframe tbody tr th {\n",
       "        vertical-align: top;\n",
       "    }\n",
       "\n",
       "    .dataframe thead th {\n",
       "        text-align: right;\n",
       "    }\n",
       "</style>\n",
       "<table border=\"1\" class=\"dataframe\">\n",
       "  <thead>\n",
       "    <tr style=\"text-align: right;\">\n",
       "      <th></th>\n",
       "      <th>name</th>\n",
       "      <th>platform</th>\n",
       "      <th>year_of_release</th>\n",
       "      <th>genre</th>\n",
       "      <th>na_sales</th>\n",
       "      <th>eu_sales</th>\n",
       "      <th>jp_sales</th>\n",
       "      <th>other_sales</th>\n",
       "      <th>critic_score</th>\n",
       "      <th>user_score</th>\n",
       "      <th>rating</th>\n",
       "    </tr>\n",
       "  </thead>\n",
       "  <tbody>\n",
       "    <tr>\n",
       "      <th>183</th>\n",
       "      <td>Madden NFL 2004</td>\n",
       "      <td>PS2</td>\n",
       "      <td>NaN</td>\n",
       "      <td>Sports</td>\n",
       "      <td>4.26</td>\n",
       "      <td>0.26</td>\n",
       "      <td>0.01</td>\n",
       "      <td>0.71</td>\n",
       "      <td>94.0</td>\n",
       "      <td>8.5</td>\n",
       "      <td>E</td>\n",
       "    </tr>\n",
       "    <tr>\n",
       "      <th>377</th>\n",
       "      <td>FIFA Soccer 2004</td>\n",
       "      <td>PS2</td>\n",
       "      <td>NaN</td>\n",
       "      <td>Sports</td>\n",
       "      <td>0.59</td>\n",
       "      <td>2.36</td>\n",
       "      <td>0.04</td>\n",
       "      <td>0.51</td>\n",
       "      <td>84.0</td>\n",
       "      <td>6.4</td>\n",
       "      <td>E</td>\n",
       "    </tr>\n",
       "    <tr>\n",
       "      <th>456</th>\n",
       "      <td>LEGO Batman: The Videogame</td>\n",
       "      <td>Wii</td>\n",
       "      <td>NaN</td>\n",
       "      <td>Action</td>\n",
       "      <td>1.80</td>\n",
       "      <td>0.97</td>\n",
       "      <td>0.00</td>\n",
       "      <td>0.29</td>\n",
       "      <td>74.0</td>\n",
       "      <td>7.9</td>\n",
       "      <td>E10+</td>\n",
       "    </tr>\n",
       "    <tr>\n",
       "      <th>475</th>\n",
       "      <td>wwe Smackdown vs. Raw 2006</td>\n",
       "      <td>PS2</td>\n",
       "      <td>NaN</td>\n",
       "      <td>Fighting</td>\n",
       "      <td>1.57</td>\n",
       "      <td>1.02</td>\n",
       "      <td>0.00</td>\n",
       "      <td>0.41</td>\n",
       "      <td>NaN</td>\n",
       "      <td>NaN</td>\n",
       "      <td>NaN</td>\n",
       "    </tr>\n",
       "    <tr>\n",
       "      <th>609</th>\n",
       "      <td>Space Invaders</td>\n",
       "      <td>2600</td>\n",
       "      <td>NaN</td>\n",
       "      <td>Shooter</td>\n",
       "      <td>2.36</td>\n",
       "      <td>0.14</td>\n",
       "      <td>0.00</td>\n",
       "      <td>0.03</td>\n",
       "      <td>NaN</td>\n",
       "      <td>NaN</td>\n",
       "      <td>NaN</td>\n",
       "    </tr>\n",
       "    <tr>\n",
       "      <th>...</th>\n",
       "      <td>...</td>\n",
       "      <td>...</td>\n",
       "      <td>...</td>\n",
       "      <td>...</td>\n",
       "      <td>...</td>\n",
       "      <td>...</td>\n",
       "      <td>...</td>\n",
       "      <td>...</td>\n",
       "      <td>...</td>\n",
       "      <td>...</td>\n",
       "      <td>...</td>\n",
       "    </tr>\n",
       "    <tr>\n",
       "      <th>16373</th>\n",
       "      <td>PDC World Championship Darts 2008</td>\n",
       "      <td>PSP</td>\n",
       "      <td>NaN</td>\n",
       "      <td>Sports</td>\n",
       "      <td>0.01</td>\n",
       "      <td>0.00</td>\n",
       "      <td>0.00</td>\n",
       "      <td>0.00</td>\n",
       "      <td>43.0</td>\n",
       "      <td>tbd</td>\n",
       "      <td>E10+</td>\n",
       "    </tr>\n",
       "    <tr>\n",
       "      <th>16405</th>\n",
       "      <td>Freaky Flyers</td>\n",
       "      <td>GC</td>\n",
       "      <td>NaN</td>\n",
       "      <td>Racing</td>\n",
       "      <td>0.01</td>\n",
       "      <td>0.00</td>\n",
       "      <td>0.00</td>\n",
       "      <td>0.00</td>\n",
       "      <td>69.0</td>\n",
       "      <td>6.5</td>\n",
       "      <td>T</td>\n",
       "    </tr>\n",
       "    <tr>\n",
       "      <th>16448</th>\n",
       "      <td>Inversion</td>\n",
       "      <td>PC</td>\n",
       "      <td>NaN</td>\n",
       "      <td>Shooter</td>\n",
       "      <td>0.01</td>\n",
       "      <td>0.00</td>\n",
       "      <td>0.00</td>\n",
       "      <td>0.00</td>\n",
       "      <td>59.0</td>\n",
       "      <td>6.7</td>\n",
       "      <td>M</td>\n",
       "    </tr>\n",
       "    <tr>\n",
       "      <th>16458</th>\n",
       "      <td>Hakuouki: Shinsengumi Kitan</td>\n",
       "      <td>PS3</td>\n",
       "      <td>NaN</td>\n",
       "      <td>Adventure</td>\n",
       "      <td>0.01</td>\n",
       "      <td>0.00</td>\n",
       "      <td>0.00</td>\n",
       "      <td>0.00</td>\n",
       "      <td>NaN</td>\n",
       "      <td>NaN</td>\n",
       "      <td>NaN</td>\n",
       "    </tr>\n",
       "    <tr>\n",
       "      <th>16522</th>\n",
       "      <td>Virtua Quest</td>\n",
       "      <td>GC</td>\n",
       "      <td>NaN</td>\n",
       "      <td>Role-Playing</td>\n",
       "      <td>0.01</td>\n",
       "      <td>0.00</td>\n",
       "      <td>0.00</td>\n",
       "      <td>0.00</td>\n",
       "      <td>55.0</td>\n",
       "      <td>5.5</td>\n",
       "      <td>T</td>\n",
       "    </tr>\n",
       "  </tbody>\n",
       "</table>\n",
       "<p>269 rows × 11 columns</p>\n",
       "</div>"
      ],
      "text/plain": [
       "                                    name platform  year_of_release  \\\n",
       "183                      Madden NFL 2004      PS2              NaN   \n",
       "377                     FIFA Soccer 2004      PS2              NaN   \n",
       "456           LEGO Batman: The Videogame      Wii              NaN   \n",
       "475           wwe Smackdown vs. Raw 2006      PS2              NaN   \n",
       "609                       Space Invaders     2600              NaN   \n",
       "...                                  ...      ...              ...   \n",
       "16373  PDC World Championship Darts 2008      PSP              NaN   \n",
       "16405                      Freaky Flyers       GC              NaN   \n",
       "16448                          Inversion       PC              NaN   \n",
       "16458        Hakuouki: Shinsengumi Kitan      PS3              NaN   \n",
       "16522                       Virtua Quest       GC              NaN   \n",
       "\n",
       "              genre  na_sales  eu_sales  jp_sales  other_sales  critic_score  \\\n",
       "183          Sports      4.26      0.26      0.01         0.71          94.0   \n",
       "377          Sports      0.59      2.36      0.04         0.51          84.0   \n",
       "456          Action      1.80      0.97      0.00         0.29          74.0   \n",
       "475        Fighting      1.57      1.02      0.00         0.41           NaN   \n",
       "609         Shooter      2.36      0.14      0.00         0.03           NaN   \n",
       "...             ...       ...       ...       ...          ...           ...   \n",
       "16373        Sports      0.01      0.00      0.00         0.00          43.0   \n",
       "16405        Racing      0.01      0.00      0.00         0.00          69.0   \n",
       "16448       Shooter      0.01      0.00      0.00         0.00          59.0   \n",
       "16458     Adventure      0.01      0.00      0.00         0.00           NaN   \n",
       "16522  Role-Playing      0.01      0.00      0.00         0.00          55.0   \n",
       "\n",
       "      user_score rating  \n",
       "183          8.5      E  \n",
       "377          6.4      E  \n",
       "456          7.9   E10+  \n",
       "475          NaN    NaN  \n",
       "609          NaN    NaN  \n",
       "...          ...    ...  \n",
       "16373        tbd   E10+  \n",
       "16405        6.5      T  \n",
       "16448        6.7      M  \n",
       "16458        NaN    NaN  \n",
       "16522        5.5      T  \n",
       "\n",
       "[269 rows x 11 columns]"
      ]
     },
     "metadata": {},
     "output_type": "display_data"
    }
   ],
   "source": [
    "display(data[data['year_of_release'].isna()])"
   ]
  },
  {
   "cell_type": "markdown",
   "metadata": {},
   "source": [
    "Это около 2% от общего числа. Такое соотношение позволяет нам удалить эти строки из датафрейма без искажения общей картины данных."
   ]
  },
  {
   "cell_type": "code",
   "execution_count": 11,
   "metadata": {},
   "outputs": [
    {
     "data": {
      "text/html": [
       "<div>\n",
       "<style scoped>\n",
       "    .dataframe tbody tr th:only-of-type {\n",
       "        vertical-align: middle;\n",
       "    }\n",
       "\n",
       "    .dataframe tbody tr th {\n",
       "        vertical-align: top;\n",
       "    }\n",
       "\n",
       "    .dataframe thead th {\n",
       "        text-align: right;\n",
       "    }\n",
       "</style>\n",
       "<table border=\"1\" class=\"dataframe\">\n",
       "  <thead>\n",
       "    <tr style=\"text-align: right;\">\n",
       "      <th></th>\n",
       "      <th>name</th>\n",
       "      <th>platform</th>\n",
       "      <th>year_of_release</th>\n",
       "      <th>genre</th>\n",
       "      <th>na_sales</th>\n",
       "      <th>eu_sales</th>\n",
       "      <th>jp_sales</th>\n",
       "      <th>other_sales</th>\n",
       "      <th>critic_score</th>\n",
       "      <th>user_score</th>\n",
       "      <th>rating</th>\n",
       "    </tr>\n",
       "  </thead>\n",
       "  <tbody>\n",
       "  </tbody>\n",
       "</table>\n",
       "</div>"
      ],
      "text/plain": [
       "Empty DataFrame\n",
       "Columns: [name, platform, year_of_release, genre, na_sales, eu_sales, jp_sales, other_sales, critic_score, user_score, rating]\n",
       "Index: []"
      ]
     },
     "metadata": {},
     "output_type": "display_data"
    }
   ],
   "source": [
    "data = data[data.year_of_release.notna()]\n",
    "data.reset_index()\n",
    "display(data[data['year_of_release'].isna()])"
   ]
  },
  {
   "cell_type": "markdown",
   "metadata": {},
   "source": [
    "#### Параметр \"genre\"."
   ]
  },
  {
   "cell_type": "code",
   "execution_count": 12,
   "metadata": {},
   "outputs": [
    {
     "data": {
      "text/plain": [
       "array(['Sports', 'Platform', 'Racing', 'Role-Playing', 'Puzzle', 'Misc',\n",
       "       'Shooter', 'Simulation', 'Action', 'Fighting', 'Adventure',\n",
       "       'Strategy'], dtype=object)"
      ]
     },
     "metadata": {},
     "output_type": "display_data"
    }
   ],
   "source": [
    "display(data['genre'].unique())"
   ]
  },
  {
   "cell_type": "code",
   "execution_count": 13,
   "metadata": {},
   "outputs": [
    {
     "data": {
      "text/html": [
       "<div>\n",
       "<style scoped>\n",
       "    .dataframe tbody tr th:only-of-type {\n",
       "        vertical-align: middle;\n",
       "    }\n",
       "\n",
       "    .dataframe tbody tr th {\n",
       "        vertical-align: top;\n",
       "    }\n",
       "\n",
       "    .dataframe thead th {\n",
       "        text-align: right;\n",
       "    }\n",
       "</style>\n",
       "<table border=\"1\" class=\"dataframe\">\n",
       "  <thead>\n",
       "    <tr style=\"text-align: right;\">\n",
       "      <th></th>\n",
       "      <th>name</th>\n",
       "      <th>platform</th>\n",
       "      <th>year_of_release</th>\n",
       "      <th>genre</th>\n",
       "      <th>na_sales</th>\n",
       "      <th>eu_sales</th>\n",
       "      <th>jp_sales</th>\n",
       "      <th>other_sales</th>\n",
       "      <th>critic_score</th>\n",
       "      <th>user_score</th>\n",
       "      <th>rating</th>\n",
       "    </tr>\n",
       "  </thead>\n",
       "  <tbody>\n",
       "  </tbody>\n",
       "</table>\n",
       "</div>"
      ],
      "text/plain": [
       "Empty DataFrame\n",
       "Columns: [name, platform, year_of_release, genre, na_sales, eu_sales, jp_sales, other_sales, critic_score, user_score, rating]\n",
       "Index: []"
      ]
     },
     "metadata": {},
     "output_type": "display_data"
    }
   ],
   "source": [
    "display(data[data['genre'].isna()])"
   ]
  },
  {
   "cell_type": "markdown",
   "metadata": {},
   "source": [
    "По этому параметру пропусков и дубликатов нет."
   ]
  },
  {
   "cell_type": "markdown",
   "metadata": {},
   "source": [
    "#### Параметр \"na_sales\"."
   ]
  },
  {
   "cell_type": "code",
   "execution_count": 14,
   "metadata": {},
   "outputs": [
    {
     "data": {
      "text/plain": [
       "<AxesSubplot:>"
      ]
     },
     "execution_count": 14,
     "metadata": {},
     "output_type": "execute_result"
    },
    {
     "data": {
      "image/png": "[encoded data removed]",
      "text/plain": [
       "<Figure size 432x288 with 1 Axes>"
      ]
     },
     "metadata": {
      "needs_background": "light"
     },
     "output_type": "display_data"
    }
   ],
   "source": [
    "data['na_sales'].plot(kind='box')"
   ]
  },
  {
   "cell_type": "code",
   "execution_count": 15,
   "metadata": {},
   "outputs": [
    {
     "data": {
      "image/png": "[encoded data removed]",
      "text/plain": [
       "<Figure size 1080x216 with 1 Axes>"
      ]
     },
     "metadata": {
      "needs_background": "light"
     },
     "output_type": "display_data"
    }
   ],
   "source": [
    "data.na_sales.hist(bins = 100, figsize = (15,3));"
   ]
  },
  {
   "cell_type": "code",
   "execution_count": 16,
   "metadata": {},
   "outputs": [
    {
     "data": {
      "image/png": "[encoded data removed]",
      "text/plain": [
       "<Figure size 1080x216 with 1 Axes>"
      ]
     },
     "metadata": {
      "needs_background": "light"
     },
     "output_type": "display_data"
    }
   ],
   "source": [
    "data.na_sales.hist(bins = 50, figsize = (15,3), range=(10, 60));"
   ]
  },
  {
   "cell_type": "code",
   "execution_count": 17,
   "metadata": {},
   "outputs": [
    {
     "data": {
      "image/png": "[encoded data removed]",
      "text/plain": [
       "<Figure size 1080x216 with 1 Axes>"
      ]
     },
     "metadata": {
      "needs_background": "light"
     },
     "output_type": "display_data"
    }
   ],
   "source": [
    "data.na_sales.hist(bins = 30, figsize = (15,3), range=(0, 4));"
   ]
  },
  {
   "cell_type": "code",
   "execution_count": 18,
   "metadata": {},
   "outputs": [
    {
     "data": {
      "image/png": "[encoded data removed]",
      "text/plain": [
       "<Figure size 1080x216 with 1 Axes>"
      ]
     },
     "metadata": {
      "needs_background": "light"
     },
     "output_type": "display_data"
    }
   ],
   "source": [
    "data.na_sales.hist(bins = 30, figsize = (15,3), range=(4, 8));"
   ]
  },
  {
   "cell_type": "markdown",
   "metadata": {},
   "source": [
    "Здесь мы видим, что основные значения лежат до 4 млн проданных копий. После идут игры с большим количеством проданных копий, но их количество уменьшается до 1 - 10 игры."
   ]
  },
  {
   "cell_type": "code",
   "execution_count": 19,
   "metadata": {},
   "outputs": [
    {
     "data": {
      "text/plain": [
       "59"
      ]
     },
     "metadata": {},
     "output_type": "display_data"
    }
   ],
   "source": [
    "display(len(data[data.na_sales > 5]))"
   ]
  },
  {
   "cell_type": "markdown",
   "metadata": {},
   "source": [
    "#### Параметр \"eu_sales\"."
   ]
  },
  {
   "cell_type": "code",
   "execution_count": 20,
   "metadata": {},
   "outputs": [
    {
     "data": {
      "text/plain": [
       "<AxesSubplot:>"
      ]
     },
     "execution_count": 20,
     "metadata": {},
     "output_type": "execute_result"
    },
    {
     "data": {
      "image/png": "[encoded data removed]",
      "text/plain": [
       "<Figure size 432x288 with 1 Axes>"
      ]
     },
     "metadata": {
      "needs_background": "light"
     },
     "output_type": "display_data"
    }
   ],
   "source": [
    "data['eu_sales'].plot(kind='box')"
   ]
  },
  {
   "cell_type": "code",
   "execution_count": 21,
   "metadata": {},
   "outputs": [
    {
     "data": {
      "image/png": "[encoded data removed]",
      "text/plain": [
       "<Figure size 1080x216 with 1 Axes>"
      ]
     },
     "metadata": {
      "needs_background": "light"
     },
     "output_type": "display_data"
    }
   ],
   "source": [
    "data.eu_sales.hist(bins = 100, figsize = (15,3));"
   ]
  },
  {
   "cell_type": "code",
   "execution_count": 22,
   "metadata": {},
   "outputs": [
    {
     "data": {
      "image/png": "[encoded data removed]",
      "text/plain": [
       "<Figure size 1080x216 with 1 Axes>"
      ]
     },
     "metadata": {
      "needs_background": "light"
     },
     "output_type": "display_data"
    }
   ],
   "source": [
    "data.eu_sales.hist(bins = 30, figsize = (15,3), range=(0,1));"
   ]
  },
  {
   "cell_type": "code",
   "execution_count": 23,
   "metadata": {},
   "outputs": [
    {
     "data": {
      "image/png": "[encoded data removed]",
      "text/plain": [
       "<Figure size 144x432 with 1 Axes>"
      ]
     },
     "metadata": {
      "needs_background": "light"
     },
     "output_type": "display_data"
    }
   ],
   "source": [
    "data.eu_sales.hist(bins = 10, figsize = (2,6));"
   ]
  },
  {
   "cell_type": "markdown",
   "metadata": {},
   "source": [
    "В Европе количество проданный игр меньше. Здесь большая часть игр продается до 1 млн копий."
   ]
  },
  {
   "cell_type": "markdown",
   "metadata": {},
   "source": [
    "#### Параметр \"jp_sales\"."
   ]
  },
  {
   "cell_type": "code",
   "execution_count": 24,
   "metadata": {},
   "outputs": [
    {
     "data": {
      "text/plain": [
       "<AxesSubplot:>"
      ]
     },
     "execution_count": 24,
     "metadata": {},
     "output_type": "execute_result"
    },
    {
     "data": {
      "image/png": "[encoded data removed]",
      "text/plain": [
       "<Figure size 432x288 with 1 Axes>"
      ]
     },
     "metadata": {
      "needs_background": "light"
     },
     "output_type": "display_data"
    }
   ],
   "source": [
    "data['jp_sales'].plot(kind='box')"
   ]
  },
  {
   "cell_type": "code",
   "execution_count": 25,
   "metadata": {},
   "outputs": [
    {
     "data": {
      "image/png": "[encoded data removed]",
      "text/plain": [
       "<Figure size 1080x216 with 1 Axes>"
      ]
     },
     "metadata": {
      "needs_background": "light"
     },
     "output_type": "display_data"
    }
   ],
   "source": [
    "data.jp_sales.hist(bins = 50, figsize = (15,3));"
   ]
  },
  {
   "cell_type": "code",
   "execution_count": 26,
   "metadata": {},
   "outputs": [
    {
     "data": {
      "image/png": "[encoded data removed]",
      "text/plain": [
       "<Figure size 1080x216 with 1 Axes>"
      ]
     },
     "metadata": {
      "needs_background": "light"
     },
     "output_type": "display_data"
    }
   ],
   "source": [
    "data.jp_sales.hist(bins = 20, figsize = (15,3), range=(0, 0.4));"
   ]
  },
  {
   "cell_type": "code",
   "execution_count": 27,
   "metadata": {},
   "outputs": [
    {
     "data": {
      "image/png": "[encoded data removed]",
      "text/plain": [
       "<Figure size 1080x216 with 1 Axes>"
      ]
     },
     "metadata": {
      "needs_background": "light"
     },
     "output_type": "display_data"
    }
   ],
   "source": [
    "data.jp_sales.hist(bins = 50, figsize = (15,3), range=(0.4, 5));"
   ]
  },
  {
   "cell_type": "markdown",
   "metadata": {},
   "source": [
    "В Японии игры менее популярны и здесь пик продаж не доходит и до полумиллиона проданных копий."
   ]
  },
  {
   "cell_type": "markdown",
   "metadata": {},
   "source": [
    "#### Параметр \"other_sales\"."
   ]
  },
  {
   "cell_type": "code",
   "execution_count": 28,
   "metadata": {},
   "outputs": [
    {
     "data": {
      "text/plain": [
       "<AxesSubplot:>"
      ]
     },
     "execution_count": 28,
     "metadata": {},
     "output_type": "execute_result"
    },
    {
     "data": {
      "image/png": "[encoded data removed]",
      "text/plain": [
       "<Figure size 432x288 with 1 Axes>"
      ]
     },
     "metadata": {
      "needs_background": "light"
     },
     "output_type": "display_data"
    }
   ],
   "source": [
    "data['other_sales'].plot(kind='box')"
   ]
  },
  {
   "cell_type": "code",
   "execution_count": 29,
   "metadata": {},
   "outputs": [
    {
     "data": {
      "image/png": "[encoded data removed]",
      "text/plain": [
       "<Figure size 1080x216 with 1 Axes>"
      ]
     },
     "metadata": {
      "needs_background": "light"
     },
     "output_type": "display_data"
    }
   ],
   "source": [
    "data.other_sales.hist(bins = 100, figsize = (15,3));"
   ]
  },
  {
   "cell_type": "code",
   "execution_count": 30,
   "metadata": {},
   "outputs": [
    {
     "data": {
      "image/png": "[encoded data removed]",
      "text/plain": [
       "<Figure size 1080x216 with 1 Axes>"
      ]
     },
     "metadata": {
      "needs_background": "light"
     },
     "output_type": "display_data"
    }
   ],
   "source": [
    "data.other_sales.hist(bins = 10, figsize = (15,3), range=(0, 0.2));"
   ]
  },
  {
   "cell_type": "code",
   "execution_count": 31,
   "metadata": {},
   "outputs": [
    {
     "data": {
      "image/png": "[encoded data removed]",
      "text/plain": [
       "<Figure size 1080x216 with 1 Axes>"
      ]
     },
     "metadata": {
      "needs_background": "light"
     },
     "output_type": "display_data"
    }
   ],
   "source": [
    "data.other_sales.hist(bins = 50, figsize = (15,3), range=(0.2, 1));"
   ]
  },
  {
   "cell_type": "code",
   "execution_count": 32,
   "metadata": {
    "scrolled": true
   },
   "outputs": [
    {
     "data": {
      "image/png": "[encoded data removed]",
      "text/plain": [
       "<Figure size 1080x216 with 1 Axes>"
      ]
     },
     "metadata": {
      "needs_background": "light"
     },
     "output_type": "display_data"
    }
   ],
   "source": [
    "data.other_sales.hist(bins = 50, figsize = (15,3), range=(1, 5));"
   ]
  },
  {
   "cell_type": "markdown",
   "metadata": {},
   "source": [
    "В других странах видим похожу картину: продажи небольшие. Их пик в остальных странах находит на количестве 200000 проданных копий."
   ]
  },
  {
   "cell_type": "markdown",
   "metadata": {},
   "source": [
    "#### Параметр \"critic_score\"."
   ]
  },
  {
   "cell_type": "code",
   "execution_count": 33,
   "metadata": {},
   "outputs": [
    {
     "data": {
      "text/html": [
       "<div>\n",
       "<style scoped>\n",
       "    .dataframe tbody tr th:only-of-type {\n",
       "        vertical-align: middle;\n",
       "    }\n",
       "\n",
       "    .dataframe tbody tr th {\n",
       "        vertical-align: top;\n",
       "    }\n",
       "\n",
       "    .dataframe thead th {\n",
       "        text-align: right;\n",
       "    }\n",
       "</style>\n",
       "<table border=\"1\" class=\"dataframe\">\n",
       "  <thead>\n",
       "    <tr style=\"text-align: right;\">\n",
       "      <th></th>\n",
       "      <th>critic_score</th>\n",
       "    </tr>\n",
       "  </thead>\n",
       "  <tbody>\n",
       "    <tr>\n",
       "      <th>70.0</th>\n",
       "      <td>252</td>\n",
       "    </tr>\n",
       "    <tr>\n",
       "      <th>71.0</th>\n",
       "      <td>248</td>\n",
       "    </tr>\n",
       "    <tr>\n",
       "      <th>75.0</th>\n",
       "      <td>240</td>\n",
       "    </tr>\n",
       "    <tr>\n",
       "      <th>80.0</th>\n",
       "      <td>235</td>\n",
       "    </tr>\n",
       "    <tr>\n",
       "      <th>73.0</th>\n",
       "      <td>234</td>\n",
       "    </tr>\n",
       "    <tr>\n",
       "      <th>...</th>\n",
       "      <td>...</td>\n",
       "    </tr>\n",
       "    <tr>\n",
       "      <th>29.0</th>\n",
       "      <td>3</td>\n",
       "    </tr>\n",
       "    <tr>\n",
       "      <th>20.0</th>\n",
       "      <td>3</td>\n",
       "    </tr>\n",
       "    <tr>\n",
       "      <th>13.0</th>\n",
       "      <td>1</td>\n",
       "    </tr>\n",
       "    <tr>\n",
       "      <th>17.0</th>\n",
       "      <td>1</td>\n",
       "    </tr>\n",
       "    <tr>\n",
       "      <th>21.0</th>\n",
       "      <td>1</td>\n",
       "    </tr>\n",
       "  </tbody>\n",
       "</table>\n",
       "<p>81 rows × 1 columns</p>\n",
       "</div>"
      ],
      "text/plain": [
       "      critic_score\n",
       "70.0           252\n",
       "71.0           248\n",
       "75.0           240\n",
       "80.0           235\n",
       "73.0           234\n",
       "...            ...\n",
       "29.0             3\n",
       "20.0             3\n",
       "13.0             1\n",
       "17.0             1\n",
       "21.0             1\n",
       "\n",
       "[81 rows x 1 columns]"
      ]
     },
     "execution_count": 33,
     "metadata": {},
     "output_type": "execute_result"
    }
   ],
   "source": [
    "data.critic_score.value_counts().to_frame()"
   ]
  },
  {
   "cell_type": "code",
   "execution_count": 34,
   "metadata": {},
   "outputs": [
    {
     "data": {
      "image/png": "[encoded data removed]",
      "text/plain": [
       "<Figure size 1080x216 with 1 Axes>"
      ]
     },
     "metadata": {
      "needs_background": "light"
     },
     "output_type": "display_data"
    }
   ],
   "source": [
    "data.critic_score.hist(bins = 50, figsize = (15,3));"
   ]
  },
  {
   "cell_type": "code",
   "execution_count": 35,
   "metadata": {},
   "outputs": [
    {
     "data": {
      "image/png": "[encoded data removed]",
      "text/plain": [
       "<Figure size 1080x216 with 1 Axes>"
      ]
     },
     "metadata": {
      "needs_background": "light"
     },
     "output_type": "display_data"
    }
   ],
   "source": [
    "data.critic_score.hist(bins = 50, figsize = (15,3), range=(0, 40));"
   ]
  },
  {
   "cell_type": "code",
   "execution_count": 36,
   "metadata": {},
   "outputs": [
    {
     "data": {
      "image/png": "[encoded data removed]",
      "text/plain": [
       "<Figure size 1080x216 with 1 Axes>"
      ]
     },
     "metadata": {
      "needs_background": "light"
     },
     "output_type": "display_data"
    }
   ],
   "source": [
    "data.critic_score.hist(bins = 50, figsize = (15,3), range=(80, 100));"
   ]
  },
  {
   "cell_type": "markdown",
   "metadata": {},
   "source": [
    "Можно заметить, что игры очень редко набирают оценку ниже 30 и выше 93 баллов. Основная проблема заключается в том, что в этом параметре очень много пропусков (около 50% игр без оценки критиков)"
   ]
  },
  {
   "cell_type": "code",
   "execution_count": 37,
   "metadata": {},
   "outputs": [
    {
     "data": {
      "text/html": [
       "<div>\n",
       "<style scoped>\n",
       "    .dataframe tbody tr th:only-of-type {\n",
       "        vertical-align: middle;\n",
       "    }\n",
       "\n",
       "    .dataframe tbody tr th {\n",
       "        vertical-align: top;\n",
       "    }\n",
       "\n",
       "    .dataframe thead th {\n",
       "        text-align: right;\n",
       "    }\n",
       "</style>\n",
       "<table border=\"1\" class=\"dataframe\">\n",
       "  <thead>\n",
       "    <tr style=\"text-align: right;\">\n",
       "      <th></th>\n",
       "      <th>name</th>\n",
       "      <th>platform</th>\n",
       "      <th>year_of_release</th>\n",
       "      <th>genre</th>\n",
       "      <th>na_sales</th>\n",
       "      <th>eu_sales</th>\n",
       "      <th>jp_sales</th>\n",
       "      <th>other_sales</th>\n",
       "      <th>critic_score</th>\n",
       "      <th>user_score</th>\n",
       "      <th>rating</th>\n",
       "    </tr>\n",
       "  </thead>\n",
       "  <tbody>\n",
       "    <tr>\n",
       "      <th>1</th>\n",
       "      <td>Super Mario Bros.</td>\n",
       "      <td>NES</td>\n",
       "      <td>1985.0</td>\n",
       "      <td>Platform</td>\n",
       "      <td>29.08</td>\n",
       "      <td>3.58</td>\n",
       "      <td>6.81</td>\n",
       "      <td>0.77</td>\n",
       "      <td>NaN</td>\n",
       "      <td>NaN</td>\n",
       "      <td>NaN</td>\n",
       "    </tr>\n",
       "    <tr>\n",
       "      <th>4</th>\n",
       "      <td>Pokemon Red/Pokemon Blue</td>\n",
       "      <td>GB</td>\n",
       "      <td>1996.0</td>\n",
       "      <td>Role-Playing</td>\n",
       "      <td>11.27</td>\n",
       "      <td>8.89</td>\n",
       "      <td>10.22</td>\n",
       "      <td>1.00</td>\n",
       "      <td>NaN</td>\n",
       "      <td>NaN</td>\n",
       "      <td>NaN</td>\n",
       "    </tr>\n",
       "    <tr>\n",
       "      <th>5</th>\n",
       "      <td>Tetris</td>\n",
       "      <td>GB</td>\n",
       "      <td>1989.0</td>\n",
       "      <td>Puzzle</td>\n",
       "      <td>23.20</td>\n",
       "      <td>2.26</td>\n",
       "      <td>4.22</td>\n",
       "      <td>0.58</td>\n",
       "      <td>NaN</td>\n",
       "      <td>NaN</td>\n",
       "      <td>NaN</td>\n",
       "    </tr>\n",
       "    <tr>\n",
       "      <th>9</th>\n",
       "      <td>Duck Hunt</td>\n",
       "      <td>NES</td>\n",
       "      <td>1984.0</td>\n",
       "      <td>Shooter</td>\n",
       "      <td>26.93</td>\n",
       "      <td>0.63</td>\n",
       "      <td>0.28</td>\n",
       "      <td>0.47</td>\n",
       "      <td>NaN</td>\n",
       "      <td>NaN</td>\n",
       "      <td>NaN</td>\n",
       "    </tr>\n",
       "    <tr>\n",
       "      <th>10</th>\n",
       "      <td>Nintendogs</td>\n",
       "      <td>DS</td>\n",
       "      <td>2005.0</td>\n",
       "      <td>Simulation</td>\n",
       "      <td>9.05</td>\n",
       "      <td>10.95</td>\n",
       "      <td>1.93</td>\n",
       "      <td>2.74</td>\n",
       "      <td>NaN</td>\n",
       "      <td>NaN</td>\n",
       "      <td>NaN</td>\n",
       "    </tr>\n",
       "    <tr>\n",
       "      <th>...</th>\n",
       "      <td>...</td>\n",
       "      <td>...</td>\n",
       "      <td>...</td>\n",
       "      <td>...</td>\n",
       "      <td>...</td>\n",
       "      <td>...</td>\n",
       "      <td>...</td>\n",
       "      <td>...</td>\n",
       "      <td>...</td>\n",
       "      <td>...</td>\n",
       "      <td>...</td>\n",
       "    </tr>\n",
       "    <tr>\n",
       "      <th>16710</th>\n",
       "      <td>Samurai Warriors: Sanada Maru</td>\n",
       "      <td>PS3</td>\n",
       "      <td>2016.0</td>\n",
       "      <td>Action</td>\n",
       "      <td>0.00</td>\n",
       "      <td>0.00</td>\n",
       "      <td>0.01</td>\n",
       "      <td>0.00</td>\n",
       "      <td>NaN</td>\n",
       "      <td>NaN</td>\n",
       "      <td>NaN</td>\n",
       "    </tr>\n",
       "    <tr>\n",
       "      <th>16711</th>\n",
       "      <td>LMA Manager 2007</td>\n",
       "      <td>X360</td>\n",
       "      <td>2006.0</td>\n",
       "      <td>Sports</td>\n",
       "      <td>0.00</td>\n",
       "      <td>0.01</td>\n",
       "      <td>0.00</td>\n",
       "      <td>0.00</td>\n",
       "      <td>NaN</td>\n",
       "      <td>NaN</td>\n",
       "      <td>NaN</td>\n",
       "    </tr>\n",
       "    <tr>\n",
       "      <th>16712</th>\n",
       "      <td>Haitaka no Psychedelica</td>\n",
       "      <td>PSV</td>\n",
       "      <td>2016.0</td>\n",
       "      <td>Adventure</td>\n",
       "      <td>0.00</td>\n",
       "      <td>0.00</td>\n",
       "      <td>0.01</td>\n",
       "      <td>0.00</td>\n",
       "      <td>NaN</td>\n",
       "      <td>NaN</td>\n",
       "      <td>NaN</td>\n",
       "    </tr>\n",
       "    <tr>\n",
       "      <th>16713</th>\n",
       "      <td>Spirits &amp; Spells</td>\n",
       "      <td>GBA</td>\n",
       "      <td>2003.0</td>\n",
       "      <td>Platform</td>\n",
       "      <td>0.01</td>\n",
       "      <td>0.00</td>\n",
       "      <td>0.00</td>\n",
       "      <td>0.00</td>\n",
       "      <td>NaN</td>\n",
       "      <td>NaN</td>\n",
       "      <td>NaN</td>\n",
       "    </tr>\n",
       "    <tr>\n",
       "      <th>16714</th>\n",
       "      <td>Winning Post 8 2016</td>\n",
       "      <td>PSV</td>\n",
       "      <td>2016.0</td>\n",
       "      <td>Simulation</td>\n",
       "      <td>0.00</td>\n",
       "      <td>0.00</td>\n",
       "      <td>0.01</td>\n",
       "      <td>0.00</td>\n",
       "      <td>NaN</td>\n",
       "      <td>NaN</td>\n",
       "      <td>NaN</td>\n",
       "    </tr>\n",
       "  </tbody>\n",
       "</table>\n",
       "<p>8461 rows × 11 columns</p>\n",
       "</div>"
      ],
      "text/plain": [
       "                                name platform  year_of_release         genre  \\\n",
       "1                  Super Mario Bros.      NES           1985.0      Platform   \n",
       "4           Pokemon Red/Pokemon Blue       GB           1996.0  Role-Playing   \n",
       "5                             Tetris       GB           1989.0        Puzzle   \n",
       "9                          Duck Hunt      NES           1984.0       Shooter   \n",
       "10                        Nintendogs       DS           2005.0    Simulation   \n",
       "...                              ...      ...              ...           ...   \n",
       "16710  Samurai Warriors: Sanada Maru      PS3           2016.0        Action   \n",
       "16711               LMA Manager 2007     X360           2006.0        Sports   \n",
       "16712        Haitaka no Psychedelica      PSV           2016.0     Adventure   \n",
       "16713               Spirits & Spells      GBA           2003.0      Platform   \n",
       "16714            Winning Post 8 2016      PSV           2016.0    Simulation   \n",
       "\n",
       "       na_sales  eu_sales  jp_sales  other_sales  critic_score user_score  \\\n",
       "1         29.08      3.58      6.81         0.77           NaN        NaN   \n",
       "4         11.27      8.89     10.22         1.00           NaN        NaN   \n",
       "5         23.20      2.26      4.22         0.58           NaN        NaN   \n",
       "9         26.93      0.63      0.28         0.47           NaN        NaN   \n",
       "10         9.05     10.95      1.93         2.74           NaN        NaN   \n",
       "...         ...       ...       ...          ...           ...        ...   \n",
       "16710      0.00      0.00      0.01         0.00           NaN        NaN   \n",
       "16711      0.00      0.01      0.00         0.00           NaN        NaN   \n",
       "16712      0.00      0.00      0.01         0.00           NaN        NaN   \n",
       "16713      0.01      0.00      0.00         0.00           NaN        NaN   \n",
       "16714      0.00      0.00      0.01         0.00           NaN        NaN   \n",
       "\n",
       "      rating  \n",
       "1        NaN  \n",
       "4        NaN  \n",
       "5        NaN  \n",
       "9        NaN  \n",
       "10       NaN  \n",
       "...      ...  \n",
       "16710    NaN  \n",
       "16711    NaN  \n",
       "16712    NaN  \n",
       "16713    NaN  \n",
       "16714    NaN  \n",
       "\n",
       "[8461 rows x 11 columns]"
      ]
     },
     "metadata": {},
     "output_type": "display_data"
    }
   ],
   "source": [
    "display(data[data['critic_score'].isna()])"
   ]
  },
  {
   "cell_type": "code",
   "execution_count": 38,
   "metadata": {},
   "outputs": [
    {
     "data": {
      "text/html": [
       "<div>\n",
       "<style scoped>\n",
       "    .dataframe tbody tr th:only-of-type {\n",
       "        vertical-align: middle;\n",
       "    }\n",
       "\n",
       "    .dataframe tbody tr th {\n",
       "        vertical-align: top;\n",
       "    }\n",
       "\n",
       "    .dataframe thead th {\n",
       "        text-align: right;\n",
       "    }\n",
       "</style>\n",
       "<table border=\"1\" class=\"dataframe\">\n",
       "  <thead>\n",
       "    <tr style=\"text-align: right;\">\n",
       "      <th></th>\n",
       "      <th>name</th>\n",
       "      <th>platform</th>\n",
       "      <th>year_of_release</th>\n",
       "      <th>genre</th>\n",
       "      <th>na_sales</th>\n",
       "      <th>eu_sales</th>\n",
       "      <th>jp_sales</th>\n",
       "      <th>other_sales</th>\n",
       "      <th>critic_score</th>\n",
       "      <th>user_score</th>\n",
       "      <th>rating</th>\n",
       "    </tr>\n",
       "  </thead>\n",
       "  <tbody>\n",
       "    <tr>\n",
       "      <th>1</th>\n",
       "      <td>Super Mario Bros.</td>\n",
       "      <td>NES</td>\n",
       "      <td>1985.0</td>\n",
       "      <td>Platform</td>\n",
       "      <td>29.08</td>\n",
       "      <td>3.58</td>\n",
       "      <td>6.81</td>\n",
       "      <td>0.77</td>\n",
       "      <td>NaN</td>\n",
       "      <td>NaN</td>\n",
       "      <td>NaN</td>\n",
       "    </tr>\n",
       "    <tr>\n",
       "      <th>4</th>\n",
       "      <td>Pokemon Red/Pokemon Blue</td>\n",
       "      <td>GB</td>\n",
       "      <td>1996.0</td>\n",
       "      <td>Role-Playing</td>\n",
       "      <td>11.27</td>\n",
       "      <td>8.89</td>\n",
       "      <td>10.22</td>\n",
       "      <td>1.00</td>\n",
       "      <td>NaN</td>\n",
       "      <td>NaN</td>\n",
       "      <td>NaN</td>\n",
       "    </tr>\n",
       "    <tr>\n",
       "      <th>5</th>\n",
       "      <td>Tetris</td>\n",
       "      <td>GB</td>\n",
       "      <td>1989.0</td>\n",
       "      <td>Puzzle</td>\n",
       "      <td>23.20</td>\n",
       "      <td>2.26</td>\n",
       "      <td>4.22</td>\n",
       "      <td>0.58</td>\n",
       "      <td>NaN</td>\n",
       "      <td>NaN</td>\n",
       "      <td>NaN</td>\n",
       "    </tr>\n",
       "    <tr>\n",
       "      <th>9</th>\n",
       "      <td>Duck Hunt</td>\n",
       "      <td>NES</td>\n",
       "      <td>1984.0</td>\n",
       "      <td>Shooter</td>\n",
       "      <td>26.93</td>\n",
       "      <td>0.63</td>\n",
       "      <td>0.28</td>\n",
       "      <td>0.47</td>\n",
       "      <td>NaN</td>\n",
       "      <td>NaN</td>\n",
       "      <td>NaN</td>\n",
       "    </tr>\n",
       "    <tr>\n",
       "      <th>10</th>\n",
       "      <td>Nintendogs</td>\n",
       "      <td>DS</td>\n",
       "      <td>2005.0</td>\n",
       "      <td>Simulation</td>\n",
       "      <td>9.05</td>\n",
       "      <td>10.95</td>\n",
       "      <td>1.93</td>\n",
       "      <td>2.74</td>\n",
       "      <td>NaN</td>\n",
       "      <td>NaN</td>\n",
       "      <td>NaN</td>\n",
       "    </tr>\n",
       "    <tr>\n",
       "      <th>...</th>\n",
       "      <td>...</td>\n",
       "      <td>...</td>\n",
       "      <td>...</td>\n",
       "      <td>...</td>\n",
       "      <td>...</td>\n",
       "      <td>...</td>\n",
       "      <td>...</td>\n",
       "      <td>...</td>\n",
       "      <td>...</td>\n",
       "      <td>...</td>\n",
       "      <td>...</td>\n",
       "    </tr>\n",
       "    <tr>\n",
       "      <th>16710</th>\n",
       "      <td>Samurai Warriors: Sanada Maru</td>\n",
       "      <td>PS3</td>\n",
       "      <td>2016.0</td>\n",
       "      <td>Action</td>\n",
       "      <td>0.00</td>\n",
       "      <td>0.00</td>\n",
       "      <td>0.01</td>\n",
       "      <td>0.00</td>\n",
       "      <td>NaN</td>\n",
       "      <td>NaN</td>\n",
       "      <td>NaN</td>\n",
       "    </tr>\n",
       "    <tr>\n",
       "      <th>16711</th>\n",
       "      <td>LMA Manager 2007</td>\n",
       "      <td>X360</td>\n",
       "      <td>2006.0</td>\n",
       "      <td>Sports</td>\n",
       "      <td>0.00</td>\n",
       "      <td>0.01</td>\n",
       "      <td>0.00</td>\n",
       "      <td>0.00</td>\n",
       "      <td>NaN</td>\n",
       "      <td>NaN</td>\n",
       "      <td>NaN</td>\n",
       "    </tr>\n",
       "    <tr>\n",
       "      <th>16712</th>\n",
       "      <td>Haitaka no Psychedelica</td>\n",
       "      <td>PSV</td>\n",
       "      <td>2016.0</td>\n",
       "      <td>Adventure</td>\n",
       "      <td>0.00</td>\n",
       "      <td>0.00</td>\n",
       "      <td>0.01</td>\n",
       "      <td>0.00</td>\n",
       "      <td>NaN</td>\n",
       "      <td>NaN</td>\n",
       "      <td>NaN</td>\n",
       "    </tr>\n",
       "    <tr>\n",
       "      <th>16713</th>\n",
       "      <td>Spirits &amp; Spells</td>\n",
       "      <td>GBA</td>\n",
       "      <td>2003.0</td>\n",
       "      <td>Platform</td>\n",
       "      <td>0.01</td>\n",
       "      <td>0.00</td>\n",
       "      <td>0.00</td>\n",
       "      <td>0.00</td>\n",
       "      <td>NaN</td>\n",
       "      <td>NaN</td>\n",
       "      <td>NaN</td>\n",
       "    </tr>\n",
       "    <tr>\n",
       "      <th>16714</th>\n",
       "      <td>Winning Post 8 2016</td>\n",
       "      <td>PSV</td>\n",
       "      <td>2016.0</td>\n",
       "      <td>Simulation</td>\n",
       "      <td>0.00</td>\n",
       "      <td>0.00</td>\n",
       "      <td>0.01</td>\n",
       "      <td>0.00</td>\n",
       "      <td>NaN</td>\n",
       "      <td>NaN</td>\n",
       "      <td>NaN</td>\n",
       "    </tr>\n",
       "  </tbody>\n",
       "</table>\n",
       "<p>6572 rows × 11 columns</p>\n",
       "</div>"
      ],
      "text/plain": [
       "                                name platform  year_of_release         genre  \\\n",
       "1                  Super Mario Bros.      NES           1985.0      Platform   \n",
       "4           Pokemon Red/Pokemon Blue       GB           1996.0  Role-Playing   \n",
       "5                             Tetris       GB           1989.0        Puzzle   \n",
       "9                          Duck Hunt      NES           1984.0       Shooter   \n",
       "10                        Nintendogs       DS           2005.0    Simulation   \n",
       "...                              ...      ...              ...           ...   \n",
       "16710  Samurai Warriors: Sanada Maru      PS3           2016.0        Action   \n",
       "16711               LMA Manager 2007     X360           2006.0        Sports   \n",
       "16712        Haitaka no Psychedelica      PSV           2016.0     Adventure   \n",
       "16713               Spirits & Spells      GBA           2003.0      Platform   \n",
       "16714            Winning Post 8 2016      PSV           2016.0    Simulation   \n",
       "\n",
       "       na_sales  eu_sales  jp_sales  other_sales  critic_score user_score  \\\n",
       "1         29.08      3.58      6.81         0.77           NaN        NaN   \n",
       "4         11.27      8.89     10.22         1.00           NaN        NaN   \n",
       "5         23.20      2.26      4.22         0.58           NaN        NaN   \n",
       "9         26.93      0.63      0.28         0.47           NaN        NaN   \n",
       "10         9.05     10.95      1.93         2.74           NaN        NaN   \n",
       "...         ...       ...       ...          ...           ...        ...   \n",
       "16710      0.00      0.00      0.01         0.00           NaN        NaN   \n",
       "16711      0.00      0.01      0.00         0.00           NaN        NaN   \n",
       "16712      0.00      0.00      0.01         0.00           NaN        NaN   \n",
       "16713      0.01      0.00      0.00         0.00           NaN        NaN   \n",
       "16714      0.00      0.00      0.01         0.00           NaN        NaN   \n",
       "\n",
       "      rating  \n",
       "1        NaN  \n",
       "4        NaN  \n",
       "5        NaN  \n",
       "9        NaN  \n",
       "10       NaN  \n",
       "...      ...  \n",
       "16710    NaN  \n",
       "16711    NaN  \n",
       "16712    NaN  \n",
       "16713    NaN  \n",
       "16714    NaN  \n",
       "\n",
       "[6572 rows x 11 columns]"
      ]
     },
     "metadata": {},
     "output_type": "display_data"
    }
   ],
   "source": [
    "display(data[(data['critic_score'].isna()) & (data['user_score'].isna())])"
   ]
  },
  {
   "cell_type": "code",
   "execution_count": 39,
   "metadata": {},
   "outputs": [
    {
     "data": {
      "text/html": [
       "<div>\n",
       "<style scoped>\n",
       "    .dataframe tbody tr th:only-of-type {\n",
       "        vertical-align: middle;\n",
       "    }\n",
       "\n",
       "    .dataframe tbody tr th {\n",
       "        vertical-align: top;\n",
       "    }\n",
       "\n",
       "    .dataframe thead th {\n",
       "        text-align: right;\n",
       "    }\n",
       "</style>\n",
       "<table border=\"1\" class=\"dataframe\">\n",
       "  <thead>\n",
       "    <tr style=\"text-align: right;\">\n",
       "      <th></th>\n",
       "      <th>name</th>\n",
       "      <th>platform</th>\n",
       "      <th>year_of_release</th>\n",
       "      <th>genre</th>\n",
       "      <th>na_sales</th>\n",
       "      <th>eu_sales</th>\n",
       "      <th>jp_sales</th>\n",
       "      <th>other_sales</th>\n",
       "      <th>critic_score</th>\n",
       "      <th>user_score</th>\n",
       "      <th>rating</th>\n",
       "    </tr>\n",
       "  </thead>\n",
       "  <tbody>\n",
       "    <tr>\n",
       "      <th>1</th>\n",
       "      <td>Super Mario Bros.</td>\n",
       "      <td>NES</td>\n",
       "      <td>1985.0</td>\n",
       "      <td>Platform</td>\n",
       "      <td>29.08</td>\n",
       "      <td>3.58</td>\n",
       "      <td>6.81</td>\n",
       "      <td>0.77</td>\n",
       "      <td>NaN</td>\n",
       "      <td>NaN</td>\n",
       "      <td>NaN</td>\n",
       "    </tr>\n",
       "    <tr>\n",
       "      <th>4</th>\n",
       "      <td>Pokemon Red/Pokemon Blue</td>\n",
       "      <td>GB</td>\n",
       "      <td>1996.0</td>\n",
       "      <td>Role-Playing</td>\n",
       "      <td>11.27</td>\n",
       "      <td>8.89</td>\n",
       "      <td>10.22</td>\n",
       "      <td>1.00</td>\n",
       "      <td>NaN</td>\n",
       "      <td>NaN</td>\n",
       "      <td>NaN</td>\n",
       "    </tr>\n",
       "    <tr>\n",
       "      <th>5</th>\n",
       "      <td>Tetris</td>\n",
       "      <td>GB</td>\n",
       "      <td>1989.0</td>\n",
       "      <td>Puzzle</td>\n",
       "      <td>23.20</td>\n",
       "      <td>2.26</td>\n",
       "      <td>4.22</td>\n",
       "      <td>0.58</td>\n",
       "      <td>NaN</td>\n",
       "      <td>NaN</td>\n",
       "      <td>NaN</td>\n",
       "    </tr>\n",
       "    <tr>\n",
       "      <th>9</th>\n",
       "      <td>Duck Hunt</td>\n",
       "      <td>NES</td>\n",
       "      <td>1984.0</td>\n",
       "      <td>Shooter</td>\n",
       "      <td>26.93</td>\n",
       "      <td>0.63</td>\n",
       "      <td>0.28</td>\n",
       "      <td>0.47</td>\n",
       "      <td>NaN</td>\n",
       "      <td>NaN</td>\n",
       "      <td>NaN</td>\n",
       "    </tr>\n",
       "    <tr>\n",
       "      <th>10</th>\n",
       "      <td>Nintendogs</td>\n",
       "      <td>DS</td>\n",
       "      <td>2005.0</td>\n",
       "      <td>Simulation</td>\n",
       "      <td>9.05</td>\n",
       "      <td>10.95</td>\n",
       "      <td>1.93</td>\n",
       "      <td>2.74</td>\n",
       "      <td>NaN</td>\n",
       "      <td>NaN</td>\n",
       "      <td>NaN</td>\n",
       "    </tr>\n",
       "    <tr>\n",
       "      <th>...</th>\n",
       "      <td>...</td>\n",
       "      <td>...</td>\n",
       "      <td>...</td>\n",
       "      <td>...</td>\n",
       "      <td>...</td>\n",
       "      <td>...</td>\n",
       "      <td>...</td>\n",
       "      <td>...</td>\n",
       "      <td>...</td>\n",
       "      <td>...</td>\n",
       "      <td>...</td>\n",
       "    </tr>\n",
       "    <tr>\n",
       "      <th>16710</th>\n",
       "      <td>Samurai Warriors: Sanada Maru</td>\n",
       "      <td>PS3</td>\n",
       "      <td>2016.0</td>\n",
       "      <td>Action</td>\n",
       "      <td>0.00</td>\n",
       "      <td>0.00</td>\n",
       "      <td>0.01</td>\n",
       "      <td>0.00</td>\n",
       "      <td>NaN</td>\n",
       "      <td>NaN</td>\n",
       "      <td>NaN</td>\n",
       "    </tr>\n",
       "    <tr>\n",
       "      <th>16711</th>\n",
       "      <td>LMA Manager 2007</td>\n",
       "      <td>X360</td>\n",
       "      <td>2006.0</td>\n",
       "      <td>Sports</td>\n",
       "      <td>0.00</td>\n",
       "      <td>0.01</td>\n",
       "      <td>0.00</td>\n",
       "      <td>0.00</td>\n",
       "      <td>NaN</td>\n",
       "      <td>NaN</td>\n",
       "      <td>NaN</td>\n",
       "    </tr>\n",
       "    <tr>\n",
       "      <th>16712</th>\n",
       "      <td>Haitaka no Psychedelica</td>\n",
       "      <td>PSV</td>\n",
       "      <td>2016.0</td>\n",
       "      <td>Adventure</td>\n",
       "      <td>0.00</td>\n",
       "      <td>0.00</td>\n",
       "      <td>0.01</td>\n",
       "      <td>0.00</td>\n",
       "      <td>NaN</td>\n",
       "      <td>NaN</td>\n",
       "      <td>NaN</td>\n",
       "    </tr>\n",
       "    <tr>\n",
       "      <th>16713</th>\n",
       "      <td>Spirits &amp; Spells</td>\n",
       "      <td>GBA</td>\n",
       "      <td>2003.0</td>\n",
       "      <td>Platform</td>\n",
       "      <td>0.01</td>\n",
       "      <td>0.00</td>\n",
       "      <td>0.00</td>\n",
       "      <td>0.00</td>\n",
       "      <td>NaN</td>\n",
       "      <td>NaN</td>\n",
       "      <td>NaN</td>\n",
       "    </tr>\n",
       "    <tr>\n",
       "      <th>16714</th>\n",
       "      <td>Winning Post 8 2016</td>\n",
       "      <td>PSV</td>\n",
       "      <td>2016.0</td>\n",
       "      <td>Simulation</td>\n",
       "      <td>0.00</td>\n",
       "      <td>0.00</td>\n",
       "      <td>0.01</td>\n",
       "      <td>0.00</td>\n",
       "      <td>NaN</td>\n",
       "      <td>NaN</td>\n",
       "      <td>NaN</td>\n",
       "    </tr>\n",
       "  </tbody>\n",
       "</table>\n",
       "<p>6534 rows × 11 columns</p>\n",
       "</div>"
      ],
      "text/plain": [
       "                                name platform  year_of_release         genre  \\\n",
       "1                  Super Mario Bros.      NES           1985.0      Platform   \n",
       "4           Pokemon Red/Pokemon Blue       GB           1996.0  Role-Playing   \n",
       "5                             Tetris       GB           1989.0        Puzzle   \n",
       "9                          Duck Hunt      NES           1984.0       Shooter   \n",
       "10                        Nintendogs       DS           2005.0    Simulation   \n",
       "...                              ...      ...              ...           ...   \n",
       "16710  Samurai Warriors: Sanada Maru      PS3           2016.0        Action   \n",
       "16711               LMA Manager 2007     X360           2006.0        Sports   \n",
       "16712        Haitaka no Psychedelica      PSV           2016.0     Adventure   \n",
       "16713               Spirits & Spells      GBA           2003.0      Platform   \n",
       "16714            Winning Post 8 2016      PSV           2016.0    Simulation   \n",
       "\n",
       "       na_sales  eu_sales  jp_sales  other_sales  critic_score user_score  \\\n",
       "1         29.08      3.58      6.81         0.77           NaN        NaN   \n",
       "4         11.27      8.89     10.22         1.00           NaN        NaN   \n",
       "5         23.20      2.26      4.22         0.58           NaN        NaN   \n",
       "9         26.93      0.63      0.28         0.47           NaN        NaN   \n",
       "10         9.05     10.95      1.93         2.74           NaN        NaN   \n",
       "...         ...       ...       ...          ...           ...        ...   \n",
       "16710      0.00      0.00      0.01         0.00           NaN        NaN   \n",
       "16711      0.00      0.01      0.00         0.00           NaN        NaN   \n",
       "16712      0.00      0.00      0.01         0.00           NaN        NaN   \n",
       "16713      0.01      0.00      0.00         0.00           NaN        NaN   \n",
       "16714      0.00      0.00      0.01         0.00           NaN        NaN   \n",
       "\n",
       "      rating  \n",
       "1        NaN  \n",
       "4        NaN  \n",
       "5        NaN  \n",
       "9        NaN  \n",
       "10       NaN  \n",
       "...      ...  \n",
       "16710    NaN  \n",
       "16711    NaN  \n",
       "16712    NaN  \n",
       "16713    NaN  \n",
       "16714    NaN  \n",
       "\n",
       "[6534 rows x 11 columns]"
      ]
     },
     "metadata": {},
     "output_type": "display_data"
    }
   ],
   "source": [
    "display(data[(data['critic_score'].isna()) & (data['user_score'].isna()) & (data['rating'].isna())])"
   ]
  },
  {
   "cell_type": "markdown",
   "metadata": {},
   "source": [
    "Появляется проблемма в датафрейме. В параметрах \"critic_score\", \"rating\", \"user_score\" в 6000 играх не проставлена оценка. Это очень большая дыра в данных, чтобы поставить здесь медианные значения или удалить их из таблицы. Также можно заметить, что у некоторых таких игр продажи копий не принимали значения больше миллиона, хотя бы в одной категории стран. Проверим теорию, что рейтинг не выставлен у игр, которых мало купили и, скорее всего, по этой причине не получилось проанализировать какую-либо оценку."
   ]
  },
  {
   "cell_type": "code",
   "execution_count": 40,
   "metadata": {},
   "outputs": [
    {
     "data": {
      "text/html": [
       "<div>\n",
       "<style scoped>\n",
       "    .dataframe tbody tr th:only-of-type {\n",
       "        vertical-align: middle;\n",
       "    }\n",
       "\n",
       "    .dataframe tbody tr th {\n",
       "        vertical-align: top;\n",
       "    }\n",
       "\n",
       "    .dataframe thead th {\n",
       "        text-align: right;\n",
       "    }\n",
       "</style>\n",
       "<table border=\"1\" class=\"dataframe\">\n",
       "  <thead>\n",
       "    <tr style=\"text-align: right;\">\n",
       "      <th></th>\n",
       "      <th>name</th>\n",
       "      <th>platform</th>\n",
       "      <th>year_of_release</th>\n",
       "      <th>genre</th>\n",
       "      <th>na_sales</th>\n",
       "      <th>eu_sales</th>\n",
       "      <th>jp_sales</th>\n",
       "      <th>other_sales</th>\n",
       "      <th>critic_score</th>\n",
       "      <th>user_score</th>\n",
       "      <th>rating</th>\n",
       "    </tr>\n",
       "  </thead>\n",
       "  <tbody>\n",
       "    <tr>\n",
       "      <th>72</th>\n",
       "      <td>Minecraft</td>\n",
       "      <td>X360</td>\n",
       "      <td>2013.0</td>\n",
       "      <td>Misc</td>\n",
       "      <td>5.70</td>\n",
       "      <td>2.65</td>\n",
       "      <td>0.02</td>\n",
       "      <td>0.81</td>\n",
       "      <td>NaN</td>\n",
       "      <td>NaN</td>\n",
       "      <td>NaN</td>\n",
       "    </tr>\n",
       "    <tr>\n",
       "      <th>89</th>\n",
       "      <td>Pac-Man</td>\n",
       "      <td>2600</td>\n",
       "      <td>1982.0</td>\n",
       "      <td>Puzzle</td>\n",
       "      <td>7.28</td>\n",
       "      <td>0.45</td>\n",
       "      <td>0.00</td>\n",
       "      <td>0.08</td>\n",
       "      <td>NaN</td>\n",
       "      <td>NaN</td>\n",
       "      <td>NaN</td>\n",
       "    </tr>\n",
       "    <tr>\n",
       "      <th>99</th>\n",
       "      <td>Call of Duty: Black Ops 3</td>\n",
       "      <td>XOne</td>\n",
       "      <td>2015.0</td>\n",
       "      <td>Shooter</td>\n",
       "      <td>4.59</td>\n",
       "      <td>2.11</td>\n",
       "      <td>0.01</td>\n",
       "      <td>0.68</td>\n",
       "      <td>NaN</td>\n",
       "      <td>NaN</td>\n",
       "      <td>NaN</td>\n",
       "    </tr>\n",
       "    <tr>\n",
       "      <th>158</th>\n",
       "      <td>Super Smash Bros.</td>\n",
       "      <td>N64</td>\n",
       "      <td>1999.0</td>\n",
       "      <td>Fighting</td>\n",
       "      <td>2.95</td>\n",
       "      <td>0.60</td>\n",
       "      <td>1.97</td>\n",
       "      <td>0.04</td>\n",
       "      <td>NaN</td>\n",
       "      <td>NaN</td>\n",
       "      <td>NaN</td>\n",
       "    </tr>\n",
       "    <tr>\n",
       "      <th>168</th>\n",
       "      <td>Pokemon Stadium</td>\n",
       "      <td>N64</td>\n",
       "      <td>1999.0</td>\n",
       "      <td>Strategy</td>\n",
       "      <td>3.18</td>\n",
       "      <td>1.24</td>\n",
       "      <td>0.94</td>\n",
       "      <td>0.09</td>\n",
       "      <td>NaN</td>\n",
       "      <td>NaN</td>\n",
       "      <td>NaN</td>\n",
       "    </tr>\n",
       "    <tr>\n",
       "      <th>...</th>\n",
       "      <td>...</td>\n",
       "      <td>...</td>\n",
       "      <td>...</td>\n",
       "      <td>...</td>\n",
       "      <td>...</td>\n",
       "      <td>...</td>\n",
       "      <td>...</td>\n",
       "      <td>...</td>\n",
       "      <td>...</td>\n",
       "      <td>...</td>\n",
       "      <td>...</td>\n",
       "    </tr>\n",
       "    <tr>\n",
       "      <th>16710</th>\n",
       "      <td>Samurai Warriors: Sanada Maru</td>\n",
       "      <td>PS3</td>\n",
       "      <td>2016.0</td>\n",
       "      <td>Action</td>\n",
       "      <td>0.00</td>\n",
       "      <td>0.00</td>\n",
       "      <td>0.01</td>\n",
       "      <td>0.00</td>\n",
       "      <td>NaN</td>\n",
       "      <td>NaN</td>\n",
       "      <td>NaN</td>\n",
       "    </tr>\n",
       "    <tr>\n",
       "      <th>16711</th>\n",
       "      <td>LMA Manager 2007</td>\n",
       "      <td>X360</td>\n",
       "      <td>2006.0</td>\n",
       "      <td>Sports</td>\n",
       "      <td>0.00</td>\n",
       "      <td>0.01</td>\n",
       "      <td>0.00</td>\n",
       "      <td>0.00</td>\n",
       "      <td>NaN</td>\n",
       "      <td>NaN</td>\n",
       "      <td>NaN</td>\n",
       "    </tr>\n",
       "    <tr>\n",
       "      <th>16712</th>\n",
       "      <td>Haitaka no Psychedelica</td>\n",
       "      <td>PSV</td>\n",
       "      <td>2016.0</td>\n",
       "      <td>Adventure</td>\n",
       "      <td>0.00</td>\n",
       "      <td>0.00</td>\n",
       "      <td>0.01</td>\n",
       "      <td>0.00</td>\n",
       "      <td>NaN</td>\n",
       "      <td>NaN</td>\n",
       "      <td>NaN</td>\n",
       "    </tr>\n",
       "    <tr>\n",
       "      <th>16713</th>\n",
       "      <td>Spirits &amp; Spells</td>\n",
       "      <td>GBA</td>\n",
       "      <td>2003.0</td>\n",
       "      <td>Platform</td>\n",
       "      <td>0.01</td>\n",
       "      <td>0.00</td>\n",
       "      <td>0.00</td>\n",
       "      <td>0.00</td>\n",
       "      <td>NaN</td>\n",
       "      <td>NaN</td>\n",
       "      <td>NaN</td>\n",
       "    </tr>\n",
       "    <tr>\n",
       "      <th>16714</th>\n",
       "      <td>Winning Post 8 2016</td>\n",
       "      <td>PSV</td>\n",
       "      <td>2016.0</td>\n",
       "      <td>Simulation</td>\n",
       "      <td>0.00</td>\n",
       "      <td>0.00</td>\n",
       "      <td>0.01</td>\n",
       "      <td>0.00</td>\n",
       "      <td>NaN</td>\n",
       "      <td>NaN</td>\n",
       "      <td>NaN</td>\n",
       "    </tr>\n",
       "  </tbody>\n",
       "</table>\n",
       "<p>6421 rows × 11 columns</p>\n",
       "</div>"
      ],
      "text/plain": [
       "                                name platform  year_of_release       genre  \\\n",
       "72                         Minecraft     X360           2013.0        Misc   \n",
       "89                           Pac-Man     2600           1982.0      Puzzle   \n",
       "99         Call of Duty: Black Ops 3     XOne           2015.0     Shooter   \n",
       "158                Super Smash Bros.      N64           1999.0    Fighting   \n",
       "168                  Pokemon Stadium      N64           1999.0    Strategy   \n",
       "...                              ...      ...              ...         ...   \n",
       "16710  Samurai Warriors: Sanada Maru      PS3           2016.0      Action   \n",
       "16711               LMA Manager 2007     X360           2006.0      Sports   \n",
       "16712        Haitaka no Psychedelica      PSV           2016.0   Adventure   \n",
       "16713               Spirits & Spells      GBA           2003.0    Platform   \n",
       "16714            Winning Post 8 2016      PSV           2016.0  Simulation   \n",
       "\n",
       "       na_sales  eu_sales  jp_sales  other_sales  critic_score user_score  \\\n",
       "72         5.70      2.65      0.02         0.81           NaN        NaN   \n",
       "89         7.28      0.45      0.00         0.08           NaN        NaN   \n",
       "99         4.59      2.11      0.01         0.68           NaN        NaN   \n",
       "158        2.95      0.60      1.97         0.04           NaN        NaN   \n",
       "168        3.18      1.24      0.94         0.09           NaN        NaN   \n",
       "...         ...       ...       ...          ...           ...        ...   \n",
       "16710      0.00      0.00      0.01         0.00           NaN        NaN   \n",
       "16711      0.00      0.01      0.00         0.00           NaN        NaN   \n",
       "16712      0.00      0.00      0.01         0.00           NaN        NaN   \n",
       "16713      0.01      0.00      0.00         0.00           NaN        NaN   \n",
       "16714      0.00      0.00      0.01         0.00           NaN        NaN   \n",
       "\n",
       "      rating  \n",
       "72       NaN  \n",
       "89       NaN  \n",
       "99       NaN  \n",
       "158      NaN  \n",
       "168      NaN  \n",
       "...      ...  \n",
       "16710    NaN  \n",
       "16711    NaN  \n",
       "16712    NaN  \n",
       "16713    NaN  \n",
       "16714    NaN  \n",
       "\n",
       "[6421 rows x 11 columns]"
      ]
     },
     "metadata": {},
     "output_type": "display_data"
    }
   ],
   "source": [
    "display(data\n",
    "        .query(\n",
    "            'critic_score.isna() & user_score.isna() & rating.isna() & \\\n",
    "            ((na_sales < 0.1) | (eu_sales < 0.1) | (jp_sales < 0.1) | (other_sales < 0.1))'))"
   ]
  },
  {
   "cell_type": "markdown",
   "metadata": {},
   "source": [
    "Теория подтверждается. Для общей картины добавим столбец \"total_sales\", чтобы понять действительно ли количество продаж и рейтинг связаны."
   ]
  },
  {
   "cell_type": "code",
   "execution_count": 41,
   "metadata": {},
   "outputs": [
    {
     "data": {
      "text/html": [
       "<div>\n",
       "<style scoped>\n",
       "    .dataframe tbody tr th:only-of-type {\n",
       "        vertical-align: middle;\n",
       "    }\n",
       "\n",
       "    .dataframe tbody tr th {\n",
       "        vertical-align: top;\n",
       "    }\n",
       "\n",
       "    .dataframe thead th {\n",
       "        text-align: right;\n",
       "    }\n",
       "</style>\n",
       "<table border=\"1\" class=\"dataframe\">\n",
       "  <thead>\n",
       "    <tr style=\"text-align: right;\">\n",
       "      <th></th>\n",
       "      <th>name</th>\n",
       "      <th>platform</th>\n",
       "      <th>year_of_release</th>\n",
       "      <th>genre</th>\n",
       "      <th>na_sales</th>\n",
       "      <th>eu_sales</th>\n",
       "      <th>jp_sales</th>\n",
       "      <th>other_sales</th>\n",
       "      <th>critic_score</th>\n",
       "      <th>user_score</th>\n",
       "      <th>rating</th>\n",
       "      <th>total_sales</th>\n",
       "    </tr>\n",
       "  </thead>\n",
       "  <tbody>\n",
       "    <tr>\n",
       "      <th>1</th>\n",
       "      <td>Super Mario Bros.</td>\n",
       "      <td>NES</td>\n",
       "      <td>1985.0</td>\n",
       "      <td>Platform</td>\n",
       "      <td>29.08</td>\n",
       "      <td>3.58</td>\n",
       "      <td>6.81</td>\n",
       "      <td>0.77</td>\n",
       "      <td>NaN</td>\n",
       "      <td>NaN</td>\n",
       "      <td>NaN</td>\n",
       "      <td>40.24</td>\n",
       "    </tr>\n",
       "    <tr>\n",
       "      <th>4</th>\n",
       "      <td>Pokemon Red/Pokemon Blue</td>\n",
       "      <td>GB</td>\n",
       "      <td>1996.0</td>\n",
       "      <td>Role-Playing</td>\n",
       "      <td>11.27</td>\n",
       "      <td>8.89</td>\n",
       "      <td>10.22</td>\n",
       "      <td>1.00</td>\n",
       "      <td>NaN</td>\n",
       "      <td>NaN</td>\n",
       "      <td>NaN</td>\n",
       "      <td>31.38</td>\n",
       "    </tr>\n",
       "    <tr>\n",
       "      <th>5</th>\n",
       "      <td>Tetris</td>\n",
       "      <td>GB</td>\n",
       "      <td>1989.0</td>\n",
       "      <td>Puzzle</td>\n",
       "      <td>23.20</td>\n",
       "      <td>2.26</td>\n",
       "      <td>4.22</td>\n",
       "      <td>0.58</td>\n",
       "      <td>NaN</td>\n",
       "      <td>NaN</td>\n",
       "      <td>NaN</td>\n",
       "      <td>30.26</td>\n",
       "    </tr>\n",
       "    <tr>\n",
       "      <th>9</th>\n",
       "      <td>Duck Hunt</td>\n",
       "      <td>NES</td>\n",
       "      <td>1984.0</td>\n",
       "      <td>Shooter</td>\n",
       "      <td>26.93</td>\n",
       "      <td>0.63</td>\n",
       "      <td>0.28</td>\n",
       "      <td>0.47</td>\n",
       "      <td>NaN</td>\n",
       "      <td>NaN</td>\n",
       "      <td>NaN</td>\n",
       "      <td>28.31</td>\n",
       "    </tr>\n",
       "    <tr>\n",
       "      <th>10</th>\n",
       "      <td>Nintendogs</td>\n",
       "      <td>DS</td>\n",
       "      <td>2005.0</td>\n",
       "      <td>Simulation</td>\n",
       "      <td>9.05</td>\n",
       "      <td>10.95</td>\n",
       "      <td>1.93</td>\n",
       "      <td>2.74</td>\n",
       "      <td>NaN</td>\n",
       "      <td>NaN</td>\n",
       "      <td>NaN</td>\n",
       "      <td>24.67</td>\n",
       "    </tr>\n",
       "    <tr>\n",
       "      <th>...</th>\n",
       "      <td>...</td>\n",
       "      <td>...</td>\n",
       "      <td>...</td>\n",
       "      <td>...</td>\n",
       "      <td>...</td>\n",
       "      <td>...</td>\n",
       "      <td>...</td>\n",
       "      <td>...</td>\n",
       "      <td>...</td>\n",
       "      <td>...</td>\n",
       "      <td>...</td>\n",
       "      <td>...</td>\n",
       "    </tr>\n",
       "    <tr>\n",
       "      <th>16710</th>\n",
       "      <td>Samurai Warriors: Sanada Maru</td>\n",
       "      <td>PS3</td>\n",
       "      <td>2016.0</td>\n",
       "      <td>Action</td>\n",
       "      <td>0.00</td>\n",
       "      <td>0.00</td>\n",
       "      <td>0.01</td>\n",
       "      <td>0.00</td>\n",
       "      <td>NaN</td>\n",
       "      <td>NaN</td>\n",
       "      <td>NaN</td>\n",
       "      <td>0.01</td>\n",
       "    </tr>\n",
       "    <tr>\n",
       "      <th>16711</th>\n",
       "      <td>LMA Manager 2007</td>\n",
       "      <td>X360</td>\n",
       "      <td>2006.0</td>\n",
       "      <td>Sports</td>\n",
       "      <td>0.00</td>\n",
       "      <td>0.01</td>\n",
       "      <td>0.00</td>\n",
       "      <td>0.00</td>\n",
       "      <td>NaN</td>\n",
       "      <td>NaN</td>\n",
       "      <td>NaN</td>\n",
       "      <td>0.01</td>\n",
       "    </tr>\n",
       "    <tr>\n",
       "      <th>16712</th>\n",
       "      <td>Haitaka no Psychedelica</td>\n",
       "      <td>PSV</td>\n",
       "      <td>2016.0</td>\n",
       "      <td>Adventure</td>\n",
       "      <td>0.00</td>\n",
       "      <td>0.00</td>\n",
       "      <td>0.01</td>\n",
       "      <td>0.00</td>\n",
       "      <td>NaN</td>\n",
       "      <td>NaN</td>\n",
       "      <td>NaN</td>\n",
       "      <td>0.01</td>\n",
       "    </tr>\n",
       "    <tr>\n",
       "      <th>16713</th>\n",
       "      <td>Spirits &amp; Spells</td>\n",
       "      <td>GBA</td>\n",
       "      <td>2003.0</td>\n",
       "      <td>Platform</td>\n",
       "      <td>0.01</td>\n",
       "      <td>0.00</td>\n",
       "      <td>0.00</td>\n",
       "      <td>0.00</td>\n",
       "      <td>NaN</td>\n",
       "      <td>NaN</td>\n",
       "      <td>NaN</td>\n",
       "      <td>0.01</td>\n",
       "    </tr>\n",
       "    <tr>\n",
       "      <th>16714</th>\n",
       "      <td>Winning Post 8 2016</td>\n",
       "      <td>PSV</td>\n",
       "      <td>2016.0</td>\n",
       "      <td>Simulation</td>\n",
       "      <td>0.00</td>\n",
       "      <td>0.00</td>\n",
       "      <td>0.01</td>\n",
       "      <td>0.00</td>\n",
       "      <td>NaN</td>\n",
       "      <td>NaN</td>\n",
       "      <td>NaN</td>\n",
       "      <td>0.01</td>\n",
       "    </tr>\n",
       "  </tbody>\n",
       "</table>\n",
       "<p>6534 rows × 12 columns</p>\n",
       "</div>"
      ],
      "text/plain": [
       "                                name platform  year_of_release         genre  \\\n",
       "1                  Super Mario Bros.      NES           1985.0      Platform   \n",
       "4           Pokemon Red/Pokemon Blue       GB           1996.0  Role-Playing   \n",
       "5                             Tetris       GB           1989.0        Puzzle   \n",
       "9                          Duck Hunt      NES           1984.0       Shooter   \n",
       "10                        Nintendogs       DS           2005.0    Simulation   \n",
       "...                              ...      ...              ...           ...   \n",
       "16710  Samurai Warriors: Sanada Maru      PS3           2016.0        Action   \n",
       "16711               LMA Manager 2007     X360           2006.0        Sports   \n",
       "16712        Haitaka no Psychedelica      PSV           2016.0     Adventure   \n",
       "16713               Spirits & Spells      GBA           2003.0      Platform   \n",
       "16714            Winning Post 8 2016      PSV           2016.0    Simulation   \n",
       "\n",
       "       na_sales  eu_sales  jp_sales  other_sales  critic_score user_score  \\\n",
       "1         29.08      3.58      6.81         0.77           NaN        NaN   \n",
       "4         11.27      8.89     10.22         1.00           NaN        NaN   \n",
       "5         23.20      2.26      4.22         0.58           NaN        NaN   \n",
       "9         26.93      0.63      0.28         0.47           NaN        NaN   \n",
       "10         9.05     10.95      1.93         2.74           NaN        NaN   \n",
       "...         ...       ...       ...          ...           ...        ...   \n",
       "16710      0.00      0.00      0.01         0.00           NaN        NaN   \n",
       "16711      0.00      0.01      0.00         0.00           NaN        NaN   \n",
       "16712      0.00      0.00      0.01         0.00           NaN        NaN   \n",
       "16713      0.01      0.00      0.00         0.00           NaN        NaN   \n",
       "16714      0.00      0.00      0.01         0.00           NaN        NaN   \n",
       "\n",
       "      rating  total_sales  \n",
       "1        NaN        40.24  \n",
       "4        NaN        31.38  \n",
       "5        NaN        30.26  \n",
       "9        NaN        28.31  \n",
       "10       NaN        24.67  \n",
       "...      ...          ...  \n",
       "16710    NaN         0.01  \n",
       "16711    NaN         0.01  \n",
       "16712    NaN         0.01  \n",
       "16713    NaN         0.01  \n",
       "16714    NaN         0.01  \n",
       "\n",
       "[6534 rows x 12 columns]"
      ]
     },
     "metadata": {},
     "output_type": "display_data"
    }
   ],
   "source": [
    "data['total_sales'] = data['na_sales'] + data['jp_sales'] + data['eu_sales'] + data['other_sales']\n",
    "display(data[(data['critic_score'].isna()) & (data['user_score'].isna()) & (data['rating'].isna())])"
   ]
  },
  {
   "cell_type": "code",
   "execution_count": 42,
   "metadata": {
    "scrolled": true
   },
   "outputs": [
    {
     "data": {
      "text/plain": [
       "count    6534.000000\n",
       "mean        0.428549\n",
       "std         1.377091\n",
       "min         0.000000\n",
       "25%         0.040000\n",
       "50%         0.110000\n",
       "75%         0.340000\n",
       "max        40.240000\n",
       "Name: total_sales, dtype: float64"
      ]
     },
     "metadata": {},
     "output_type": "display_data"
    }
   ],
   "source": [
    "data_nan_score = data[(data['critic_score'].isna()) & (data['user_score'].isna()) & (data['rating'].isna())]\n",
    "display(data_nan_score['total_sales'].describe())"
   ]
  },
  {
   "cell_type": "code",
   "execution_count": 43,
   "metadata": {},
   "outputs": [
    {
     "data": {
      "image/png": "[encoded data removed]",
      "text/plain": [
       "<Figure size 720x216 with 1 Axes>"
      ]
     },
     "metadata": {
      "needs_background": "light"
     },
     "output_type": "display_data"
    }
   ],
   "source": [
    "data_nan_score.total_sales.hist(bins = 50, figsize = (10,3));"
   ]
  },
  {
   "cell_type": "markdown",
   "metadata": {},
   "source": [
    "6000 строк из почти 17000 начальных с играми без рейтинга, при этом большинство таких игр в сумме по всем странам не превышают 1млн проданных копий. Эти данные нельзя заменить, а также удалить. Оставим их в таблице."
   ]
  },
  {
   "cell_type": "markdown",
   "metadata": {},
   "source": [
    "#### Параметр \"user_score\"."
   ]
  },
  {
   "cell_type": "code",
   "execution_count": 44,
   "metadata": {},
   "outputs": [
    {
     "data": {
      "text/html": [
       "<div>\n",
       "<style scoped>\n",
       "    .dataframe tbody tr th:only-of-type {\n",
       "        vertical-align: middle;\n",
       "    }\n",
       "\n",
       "    .dataframe tbody tr th {\n",
       "        vertical-align: top;\n",
       "    }\n",
       "\n",
       "    .dataframe thead th {\n",
       "        text-align: right;\n",
       "    }\n",
       "</style>\n",
       "<table border=\"1\" class=\"dataframe\">\n",
       "  <thead>\n",
       "    <tr style=\"text-align: right;\">\n",
       "      <th></th>\n",
       "      <th>user_score</th>\n",
       "    </tr>\n",
       "  </thead>\n",
       "  <tbody>\n",
       "    <tr>\n",
       "      <th>tbd</th>\n",
       "      <td>2376</td>\n",
       "    </tr>\n",
       "    <tr>\n",
       "      <th>7.8</th>\n",
       "      <td>322</td>\n",
       "    </tr>\n",
       "    <tr>\n",
       "      <th>8</th>\n",
       "      <td>285</td>\n",
       "    </tr>\n",
       "    <tr>\n",
       "      <th>8.2</th>\n",
       "      <td>276</td>\n",
       "    </tr>\n",
       "    <tr>\n",
       "      <th>8.3</th>\n",
       "      <td>252</td>\n",
       "    </tr>\n",
       "    <tr>\n",
       "      <th>...</th>\n",
       "      <td>...</td>\n",
       "    </tr>\n",
       "    <tr>\n",
       "      <th>0.9</th>\n",
       "      <td>2</td>\n",
       "    </tr>\n",
       "    <tr>\n",
       "      <th>1</th>\n",
       "      <td>2</td>\n",
       "    </tr>\n",
       "    <tr>\n",
       "      <th>0.5</th>\n",
       "      <td>2</td>\n",
       "    </tr>\n",
       "    <tr>\n",
       "      <th>0</th>\n",
       "      <td>1</td>\n",
       "    </tr>\n",
       "    <tr>\n",
       "      <th>9.7</th>\n",
       "      <td>1</td>\n",
       "    </tr>\n",
       "  </tbody>\n",
       "</table>\n",
       "<p>96 rows × 1 columns</p>\n",
       "</div>"
      ],
      "text/plain": [
       "     user_score\n",
       "tbd        2376\n",
       "7.8         322\n",
       "8           285\n",
       "8.2         276\n",
       "8.3         252\n",
       "..          ...\n",
       "0.9           2\n",
       "1             2\n",
       "0.5           2\n",
       "0             1\n",
       "9.7           1\n",
       "\n",
       "[96 rows x 1 columns]"
      ]
     },
     "execution_count": 44,
     "metadata": {},
     "output_type": "execute_result"
    }
   ],
   "source": [
    "data.user_score.value_counts().to_frame()"
   ]
  },
  {
   "cell_type": "markdown",
   "metadata": {},
   "source": [
    "В параметре 'user_score' стоит значение 'tbd', что означает 'To Be Determined' или 'будет определенно'. Для нас - это просто \"NaN\". Поэтому сделаем замену во всех строчках со значением 'tbd'"
   ]
  },
  {
   "cell_type": "code",
   "execution_count": 45,
   "metadata": {},
   "outputs": [
    {
     "data": {
      "text/html": [
       "<div>\n",
       "<style scoped>\n",
       "    .dataframe tbody tr th:only-of-type {\n",
       "        vertical-align: middle;\n",
       "    }\n",
       "\n",
       "    .dataframe tbody tr th {\n",
       "        vertical-align: top;\n",
       "    }\n",
       "\n",
       "    .dataframe thead th {\n",
       "        text-align: right;\n",
       "    }\n",
       "</style>\n",
       "<table border=\"1\" class=\"dataframe\">\n",
       "  <thead>\n",
       "    <tr style=\"text-align: right;\">\n",
       "      <th></th>\n",
       "      <th>user_score</th>\n",
       "    </tr>\n",
       "  </thead>\n",
       "  <tbody>\n",
       "    <tr>\n",
       "      <th>7.8</th>\n",
       "      <td>322</td>\n",
       "    </tr>\n",
       "    <tr>\n",
       "      <th>8.0</th>\n",
       "      <td>285</td>\n",
       "    </tr>\n",
       "    <tr>\n",
       "      <th>8.2</th>\n",
       "      <td>276</td>\n",
       "    </tr>\n",
       "    <tr>\n",
       "      <th>8.3</th>\n",
       "      <td>252</td>\n",
       "    </tr>\n",
       "    <tr>\n",
       "      <th>7.5</th>\n",
       "      <td>249</td>\n",
       "    </tr>\n",
       "    <tr>\n",
       "      <th>...</th>\n",
       "      <td>...</td>\n",
       "    </tr>\n",
       "    <tr>\n",
       "      <th>2.3</th>\n",
       "      <td>2</td>\n",
       "    </tr>\n",
       "    <tr>\n",
       "      <th>0.7</th>\n",
       "      <td>2</td>\n",
       "    </tr>\n",
       "    <tr>\n",
       "      <th>1.1</th>\n",
       "      <td>2</td>\n",
       "    </tr>\n",
       "    <tr>\n",
       "      <th>9.7</th>\n",
       "      <td>1</td>\n",
       "    </tr>\n",
       "    <tr>\n",
       "      <th>0.0</th>\n",
       "      <td>1</td>\n",
       "    </tr>\n",
       "  </tbody>\n",
       "</table>\n",
       "<p>95 rows × 1 columns</p>\n",
       "</div>"
      ],
      "text/plain": [
       "     user_score\n",
       "7.8         322\n",
       "8.0         285\n",
       "8.2         276\n",
       "8.3         252\n",
       "7.5         249\n",
       "..          ...\n",
       "2.3           2\n",
       "0.7           2\n",
       "1.1           2\n",
       "9.7           1\n",
       "0.0           1\n",
       "\n",
       "[95 rows x 1 columns]"
      ]
     },
     "execution_count": 45,
     "metadata": {},
     "output_type": "execute_result"
    }
   ],
   "source": [
    "data['user_score'] = data['user_score'].replace('tbd', float('NaN'))\n",
    "data['user_score'] = data['user_score'].astype('float64')\n",
    "data.user_score.value_counts().to_frame()"
   ]
  },
  {
   "cell_type": "code",
   "execution_count": 46,
   "metadata": {},
   "outputs": [
    {
     "data": {
      "text/plain": [
       "count    6580.000000\n",
       "mean        0.426193\n",
       "std         1.372613\n",
       "min         0.000000\n",
       "25%         0.040000\n",
       "50%         0.110000\n",
       "75%         0.340000\n",
       "max        40.240000\n",
       "Name: total_sales, dtype: float64"
      ]
     },
     "metadata": {},
     "output_type": "display_data"
    }
   ],
   "source": [
    "data_nan_score = data[(data['critic_score'].isna()) & (data['user_score'].isna()) & (data['rating'].isna())]\n",
    "display(data_nan_score['total_sales'].describe())"
   ]
  },
  {
   "cell_type": "markdown",
   "metadata": {},
   "source": [
    "#### Параметр \"rating\"."
   ]
  },
  {
   "cell_type": "code",
   "execution_count": 47,
   "metadata": {
    "scrolled": true
   },
   "outputs": [
    {
     "data": {
      "text/html": [
       "<div>\n",
       "<style scoped>\n",
       "    .dataframe tbody tr th:only-of-type {\n",
       "        vertical-align: middle;\n",
       "    }\n",
       "\n",
       "    .dataframe tbody tr th {\n",
       "        vertical-align: top;\n",
       "    }\n",
       "\n",
       "    .dataframe thead th {\n",
       "        text-align: right;\n",
       "    }\n",
       "</style>\n",
       "<table border=\"1\" class=\"dataframe\">\n",
       "  <thead>\n",
       "    <tr style=\"text-align: right;\">\n",
       "      <th></th>\n",
       "      <th>rating</th>\n",
       "    </tr>\n",
       "  </thead>\n",
       "  <tbody>\n",
       "    <tr>\n",
       "      <th>E</th>\n",
       "      <td>3921</td>\n",
       "    </tr>\n",
       "    <tr>\n",
       "      <th>T</th>\n",
       "      <td>2905</td>\n",
       "    </tr>\n",
       "    <tr>\n",
       "      <th>M</th>\n",
       "      <td>1536</td>\n",
       "    </tr>\n",
       "    <tr>\n",
       "      <th>E10+</th>\n",
       "      <td>1393</td>\n",
       "    </tr>\n",
       "    <tr>\n",
       "      <th>EC</th>\n",
       "      <td>8</td>\n",
       "    </tr>\n",
       "    <tr>\n",
       "      <th>K-A</th>\n",
       "      <td>3</td>\n",
       "    </tr>\n",
       "    <tr>\n",
       "      <th>AO</th>\n",
       "      <td>1</td>\n",
       "    </tr>\n",
       "    <tr>\n",
       "      <th>RP</th>\n",
       "      <td>1</td>\n",
       "    </tr>\n",
       "  </tbody>\n",
       "</table>\n",
       "</div>"
      ],
      "text/plain": [
       "      rating\n",
       "E       3921\n",
       "T       2905\n",
       "M       1536\n",
       "E10+    1393\n",
       "EC         8\n",
       "K-A        3\n",
       "AO         1\n",
       "RP         1"
      ]
     },
     "execution_count": 47,
     "metadata": {},
     "output_type": "execute_result"
    }
   ],
   "source": [
    "data.rating.value_counts().to_frame()"
   ]
  },
  {
   "cell_type": "code",
   "execution_count": 48,
   "metadata": {},
   "outputs": [
    {
     "data": {
      "text/plain": [
       "count     9768\n",
       "unique       8\n",
       "top          E\n",
       "freq      3921\n",
       "Name: rating, dtype: object"
      ]
     },
     "execution_count": 48,
     "metadata": {},
     "output_type": "execute_result"
    }
   ],
   "source": [
    "data['rating'].describe()"
   ]
  },
  {
   "cell_type": "markdown",
   "metadata": {},
   "source": [
    "Заменим пропуски в параметре rating на значение 'unknown'"
   ]
  },
  {
   "cell_type": "code",
   "execution_count": 49,
   "metadata": {},
   "outputs": [
    {
     "data": {
      "text/html": [
       "<div>\n",
       "<style scoped>\n",
       "    .dataframe tbody tr th:only-of-type {\n",
       "        vertical-align: middle;\n",
       "    }\n",
       "\n",
       "    .dataframe tbody tr th {\n",
       "        vertical-align: top;\n",
       "    }\n",
       "\n",
       "    .dataframe thead th {\n",
       "        text-align: right;\n",
       "    }\n",
       "</style>\n",
       "<table border=\"1\" class=\"dataframe\">\n",
       "  <thead>\n",
       "    <tr style=\"text-align: right;\">\n",
       "      <th></th>\n",
       "      <th>rating</th>\n",
       "    </tr>\n",
       "  </thead>\n",
       "  <tbody>\n",
       "    <tr>\n",
       "      <th>unknown</th>\n",
       "      <td>6676</td>\n",
       "    </tr>\n",
       "    <tr>\n",
       "      <th>E</th>\n",
       "      <td>3921</td>\n",
       "    </tr>\n",
       "    <tr>\n",
       "      <th>T</th>\n",
       "      <td>2905</td>\n",
       "    </tr>\n",
       "    <tr>\n",
       "      <th>M</th>\n",
       "      <td>1536</td>\n",
       "    </tr>\n",
       "    <tr>\n",
       "      <th>E10+</th>\n",
       "      <td>1393</td>\n",
       "    </tr>\n",
       "    <tr>\n",
       "      <th>EC</th>\n",
       "      <td>8</td>\n",
       "    </tr>\n",
       "    <tr>\n",
       "      <th>K-A</th>\n",
       "      <td>3</td>\n",
       "    </tr>\n",
       "    <tr>\n",
       "      <th>AO</th>\n",
       "      <td>1</td>\n",
       "    </tr>\n",
       "    <tr>\n",
       "      <th>RP</th>\n",
       "      <td>1</td>\n",
       "    </tr>\n",
       "  </tbody>\n",
       "</table>\n",
       "</div>"
      ],
      "text/plain": [
       "         rating\n",
       "unknown    6676\n",
       "E          3921\n",
       "T          2905\n",
       "M          1536\n",
       "E10+       1393\n",
       "EC            8\n",
       "K-A           3\n",
       "AO            1\n",
       "RP            1"
      ]
     },
     "execution_count": 49,
     "metadata": {},
     "output_type": "execute_result"
    }
   ],
   "source": [
    "data.loc[data['rating'].isna(), 'rating'] = 'unknown'\n",
    "data.rating.value_counts().to_frame()"
   ]
  },
  {
   "cell_type": "code",
   "execution_count": 50,
   "metadata": {},
   "outputs": [
    {
     "name": "stdout",
     "output_type": "stream",
     "text": [
      "<class 'pandas.core.frame.DataFrame'>\n",
      "Int64Index: 16444 entries, 0 to 16714\n",
      "Data columns (total 12 columns):\n",
      " #   Column           Non-Null Count  Dtype  \n",
      "---  ------           --------------  -----  \n",
      " 0   name             16444 non-null  object \n",
      " 1   platform         16444 non-null  object \n",
      " 2   year_of_release  16444 non-null  float64\n",
      " 3   genre            16444 non-null  object \n",
      " 4   na_sales         16444 non-null  float64\n",
      " 5   eu_sales         16444 non-null  float64\n",
      " 6   jp_sales         16444 non-null  float64\n",
      " 7   other_sales      16444 non-null  float64\n",
      " 8   critic_score     7983 non-null   float64\n",
      " 9   user_score       7463 non-null   float64\n",
      " 10  rating           16444 non-null  object \n",
      " 11  total_sales      16444 non-null  float64\n",
      "dtypes: float64(8), object(4)\n",
      "memory usage: 1.6+ MB\n"
     ]
    }
   ],
   "source": [
    "data.info()"
   ]
  },
  {
   "cell_type": "markdown",
   "metadata": {},
   "source": [
    "#### Заключение."
   ]
  },
  {
   "cell_type": "markdown",
   "metadata": {},
   "source": [
    "Что было сделано с данными: все данные переведены в более подходящий тип данных, изменены названия стобцов, а также была проведена работа с пропусками. Там, где было возможно, пропуски были убраны, в половине случаев (в параметрах, связанных с оценками) - пропуски, скорее всего, были связаны с малым количеством проданных копий по всему миру. Такие игры будут отдельно учитываться при дальнейшем поиске закономерностей, определяющих успешность игры. Полностью избавиться от них и не исказить картину мы не можем."
   ]
  },
  {
   "cell_type": "code",
   "execution_count": 51,
   "metadata": {},
   "outputs": [
    {
     "name": "stdout",
     "output_type": "stream",
     "text": [
      "<class 'pandas.core.frame.DataFrame'>\n",
      "Int64Index: 16444 entries, 0 to 16714\n",
      "Data columns (total 12 columns):\n",
      " #   Column           Non-Null Count  Dtype  \n",
      "---  ------           --------------  -----  \n",
      " 0   name             16444 non-null  object \n",
      " 1   platform         16444 non-null  object \n",
      " 2   year_of_release  16444 non-null  float64\n",
      " 3   genre            16444 non-null  object \n",
      " 4   na_sales         16444 non-null  float64\n",
      " 5   eu_sales         16444 non-null  float64\n",
      " 6   jp_sales         16444 non-null  float64\n",
      " 7   other_sales      16444 non-null  float64\n",
      " 8   critic_score     7983 non-null   float64\n",
      " 9   user_score       7463 non-null   float64\n",
      " 10  rating           16444 non-null  object \n",
      " 11  total_sales      16444 non-null  float64\n",
      "dtypes: float64(8), object(4)\n",
      "memory usage: 1.6+ MB\n",
      "None\n",
      "-------------------------\n",
      "name [' Beyblade Burst' ' Fire Emblem Fates' \" Frozen: Olaf's Quest\" ...\n",
      " 'uDraw Studio' 'uDraw Studio: Instant Artist'\n",
      " '¡Shin Chan Flipa en colores!']\n",
      "name : кол-во NaN 0 , процент NaN 0.0 %\n",
      "-------------------------\n",
      "platform ['2600' '3DO' '3DS' 'DC' 'DS' 'GB' 'GBA' 'GC' 'GEN' 'GG' 'N64' 'NES' 'NG'\n",
      " 'PC' 'PCFX' 'PS' 'PS2' 'PS3' 'PS4' 'PSP' 'PSV' 'SAT' 'SCD' 'SNES' 'TG16'\n",
      " 'WS' 'Wii' 'WiiU' 'X360' 'XB' 'XOne']\n",
      "platform : кол-во NaN 0 , процент NaN 0.0 %\n",
      "-------------------------\n",
      "year_of_release [1980. 1981. 1982. 1983. 1984. 1985. 1986. 1987. 1988. 1989. 1990. 1991.\n",
      " 1992. 1993. 1994. 1995. 1996. 1997. 1998. 1999. 2000. 2001. 2002. 2003.\n",
      " 2004. 2005. 2006. 2007. 2008. 2009. 2010. 2011. 2012. 2013. 2014. 2015.\n",
      " 2016.]\n",
      "year_of_release : кол-во NaN 0 , процент NaN 0.0 %\n",
      "-------------------------\n",
      "genre ['Action' 'Adventure' 'Fighting' 'Misc' 'Platform' 'Puzzle' 'Racing'\n",
      " 'Role-Playing' 'Shooter' 'Simulation' 'Sports' 'Strategy']\n",
      "genre : кол-во NaN 0 , процент NaN 0.0 %\n",
      "-------------------------\n",
      "critic_score [13. 17. 19. 20. 21. 23. 24. 25. 26. 27. 28. 29. 30. 31. 32. 33. 34. 35.\n",
      " 36. 37. 38. 39. 40. 41. 42. 43. 44. 45. 46. 47. 48. 49. 50. 51. 52. 53.\n",
      " 54. 55. 56. 57. 58. 59. 60. 61. 62. 63. 64. 65. 66. 67. 68. 69. 70. 71.\n",
      " 72. 73. 74. 75. 76. 77. 78. 79. 80. 81. 82. 83. 84. 85. 86. 87. 88. 89.\n",
      " 90. 91. 92. 93. 94. 95. 96. 97. 98. nan]\n",
      "critic_score : кол-во NaN 8461 , процент NaN 51.45 %\n",
      "-------------------------\n",
      "user_score [0.  0.2 0.3 0.5 0.6 0.7 0.9 1.  1.1 1.2 1.3 1.4 1.5 1.6 1.7 1.8 1.9 2.\n",
      " 2.1 2.2 2.3 2.4 2.5 2.6 2.7 2.8 2.9 3.  3.1 3.2 3.3 3.4 3.5 3.6 3.7 3.8\n",
      " 3.9 4.  4.1 4.2 4.3 4.4 4.5 4.6 4.7 4.8 4.9 5.  5.1 5.2 5.3 5.4 5.5 5.6\n",
      " 5.7 5.8 5.9 6.  6.1 6.2 6.3 6.4 6.5 6.6 6.7 6.8 6.9 7.  7.1 7.2 7.3 7.4\n",
      " 7.5 7.6 7.7 7.8 7.9 8.  8.1 8.2 8.3 8.4 8.5 8.6 8.7 8.8 8.9 9.  9.1 9.2\n",
      " 9.3 9.4 9.5 9.6 9.7 nan]\n",
      "user_score : кол-во NaN 8981 , процент NaN 54.62 %\n",
      "-------------------------\n",
      "rating ['AO' 'E' 'E10+' 'EC' 'K-A' 'M' 'RP' 'T' 'unknown']\n",
      "rating : кол-во NaN 0 , процент NaN 0.0 %\n"
     ]
    }
   ],
   "source": [
    "# Комментарий ревьюера\n",
    "# Посмотрим, что у нас осталось\n",
    "temp = data.copy() \n",
    "list_c = ['name', 'platform', 'year_of_release', 'genre', 'critic_score', 'user_score', 'rating']\n",
    "print(temp.info())\n",
    "for col_l in list_c:\n",
    "  print('-'* 25)\n",
    "  print(col_l, temp[col_l].sort_values().unique())\n",
    "  print(col_l,': кол-во NaN',temp[col_l].isna().sum(),\n",
    "        ', процент NaN', round(temp[col_l].isna().sum()/len(temp)*100, 2),'%')"
   ]
  },
  {
   "cell_type": "markdown",
   "metadata": {},
   "source": [
    "### Исследовательский анализ данных."
   ]
  },
  {
   "cell_type": "markdown",
   "metadata": {},
   "source": [
    "#### Выпуск игр в разные годы."
   ]
  },
  {
   "cell_type": "code",
   "execution_count": 52,
   "metadata": {},
   "outputs": [
    {
     "data": {
      "image/png": "[encoded data removed]",
      "text/plain": [
       "<Figure size 504x360 with 1 Axes>"
      ]
     },
     "metadata": {
      "needs_background": "light"
     },
     "output_type": "display_data"
    }
   ],
   "source": [
    "#data.year_of_release.hist(bins = 30, figsize = (15,3), legend='Выпуск игр в разные годы');\n",
    "data.year_of_release.plot(kind='hist', title='Выпуск игр в разные годы', figsize=(7,5));"
   ]
  },
  {
   "cell_type": "code",
   "execution_count": 53,
   "metadata": {},
   "outputs": [
    {
     "data": {
      "text/html": [
       "<div>\n",
       "<style scoped>\n",
       "    .dataframe tbody tr th:only-of-type {\n",
       "        vertical-align: middle;\n",
       "    }\n",
       "\n",
       "    .dataframe tbody tr th {\n",
       "        vertical-align: top;\n",
       "    }\n",
       "\n",
       "    .dataframe thead th {\n",
       "        text-align: right;\n",
       "    }\n",
       "</style>\n",
       "<table border=\"1\" class=\"dataframe\">\n",
       "  <thead>\n",
       "    <tr style=\"text-align: right;\">\n",
       "      <th></th>\n",
       "      <th>year_of_release</th>\n",
       "    </tr>\n",
       "  </thead>\n",
       "  <tbody>\n",
       "    <tr>\n",
       "      <th>2008.0</th>\n",
       "      <td>1427</td>\n",
       "    </tr>\n",
       "    <tr>\n",
       "      <th>2009.0</th>\n",
       "      <td>1426</td>\n",
       "    </tr>\n",
       "    <tr>\n",
       "      <th>2010.0</th>\n",
       "      <td>1255</td>\n",
       "    </tr>\n",
       "    <tr>\n",
       "      <th>2007.0</th>\n",
       "      <td>1197</td>\n",
       "    </tr>\n",
       "    <tr>\n",
       "      <th>2011.0</th>\n",
       "      <td>1136</td>\n",
       "    </tr>\n",
       "    <tr>\n",
       "      <th>2006.0</th>\n",
       "      <td>1006</td>\n",
       "    </tr>\n",
       "    <tr>\n",
       "      <th>2005.0</th>\n",
       "      <td>939</td>\n",
       "    </tr>\n",
       "    <tr>\n",
       "      <th>2002.0</th>\n",
       "      <td>829</td>\n",
       "    </tr>\n",
       "    <tr>\n",
       "      <th>2003.0</th>\n",
       "      <td>775</td>\n",
       "    </tr>\n",
       "    <tr>\n",
       "      <th>2004.0</th>\n",
       "      <td>762</td>\n",
       "    </tr>\n",
       "    <tr>\n",
       "      <th>2012.0</th>\n",
       "      <td>653</td>\n",
       "    </tr>\n",
       "    <tr>\n",
       "      <th>2015.0</th>\n",
       "      <td>606</td>\n",
       "    </tr>\n",
       "    <tr>\n",
       "      <th>2014.0</th>\n",
       "      <td>581</td>\n",
       "    </tr>\n",
       "    <tr>\n",
       "      <th>2013.0</th>\n",
       "      <td>544</td>\n",
       "    </tr>\n",
       "    <tr>\n",
       "      <th>2016.0</th>\n",
       "      <td>502</td>\n",
       "    </tr>\n",
       "    <tr>\n",
       "      <th>2001.0</th>\n",
       "      <td>482</td>\n",
       "    </tr>\n",
       "    <tr>\n",
       "      <th>1998.0</th>\n",
       "      <td>379</td>\n",
       "    </tr>\n",
       "    <tr>\n",
       "      <th>2000.0</th>\n",
       "      <td>350</td>\n",
       "    </tr>\n",
       "    <tr>\n",
       "      <th>1999.0</th>\n",
       "      <td>338</td>\n",
       "    </tr>\n",
       "    <tr>\n",
       "      <th>1997.0</th>\n",
       "      <td>289</td>\n",
       "    </tr>\n",
       "    <tr>\n",
       "      <th>1996.0</th>\n",
       "      <td>263</td>\n",
       "    </tr>\n",
       "    <tr>\n",
       "      <th>1995.0</th>\n",
       "      <td>219</td>\n",
       "    </tr>\n",
       "    <tr>\n",
       "      <th>1994.0</th>\n",
       "      <td>121</td>\n",
       "    </tr>\n",
       "    <tr>\n",
       "      <th>1993.0</th>\n",
       "      <td>60</td>\n",
       "    </tr>\n",
       "    <tr>\n",
       "      <th>1981.0</th>\n",
       "      <td>46</td>\n",
       "    </tr>\n",
       "    <tr>\n",
       "      <th>1992.0</th>\n",
       "      <td>43</td>\n",
       "    </tr>\n",
       "    <tr>\n",
       "      <th>1991.0</th>\n",
       "      <td>41</td>\n",
       "    </tr>\n",
       "    <tr>\n",
       "      <th>1982.0</th>\n",
       "      <td>36</td>\n",
       "    </tr>\n",
       "    <tr>\n",
       "      <th>1986.0</th>\n",
       "      <td>21</td>\n",
       "    </tr>\n",
       "    <tr>\n",
       "      <th>1989.0</th>\n",
       "      <td>17</td>\n",
       "    </tr>\n",
       "    <tr>\n",
       "      <th>1983.0</th>\n",
       "      <td>17</td>\n",
       "    </tr>\n",
       "    <tr>\n",
       "      <th>1987.0</th>\n",
       "      <td>16</td>\n",
       "    </tr>\n",
       "    <tr>\n",
       "      <th>1990.0</th>\n",
       "      <td>16</td>\n",
       "    </tr>\n",
       "    <tr>\n",
       "      <th>1988.0</th>\n",
       "      <td>15</td>\n",
       "    </tr>\n",
       "    <tr>\n",
       "      <th>1984.0</th>\n",
       "      <td>14</td>\n",
       "    </tr>\n",
       "    <tr>\n",
       "      <th>1985.0</th>\n",
       "      <td>14</td>\n",
       "    </tr>\n",
       "    <tr>\n",
       "      <th>1980.0</th>\n",
       "      <td>9</td>\n",
       "    </tr>\n",
       "  </tbody>\n",
       "</table>\n",
       "</div>"
      ],
      "text/plain": [
       "        year_of_release\n",
       "2008.0             1427\n",
       "2009.0             1426\n",
       "2010.0             1255\n",
       "2007.0             1197\n",
       "2011.0             1136\n",
       "2006.0             1006\n",
       "2005.0              939\n",
       "2002.0              829\n",
       "2003.0              775\n",
       "2004.0              762\n",
       "2012.0              653\n",
       "2015.0              606\n",
       "2014.0              581\n",
       "2013.0              544\n",
       "2016.0              502\n",
       "2001.0              482\n",
       "1998.0              379\n",
       "2000.0              350\n",
       "1999.0              338\n",
       "1997.0              289\n",
       "1996.0              263\n",
       "1995.0              219\n",
       "1994.0              121\n",
       "1993.0               60\n",
       "1981.0               46\n",
       "1992.0               43\n",
       "1991.0               41\n",
       "1982.0               36\n",
       "1986.0               21\n",
       "1989.0               17\n",
       "1983.0               17\n",
       "1987.0               16\n",
       "1990.0               16\n",
       "1988.0               15\n",
       "1984.0               14\n",
       "1985.0               14\n",
       "1980.0                9"
      ]
     },
     "execution_count": 53,
     "metadata": {},
     "output_type": "execute_result"
    }
   ],
   "source": [
    "data.year_of_release.value_counts().to_frame()"
   ]
  },
  {
   "cell_type": "markdown",
   "metadata": {},
   "source": [
    "До 1995 года количество выпускаемых игр в год не превышало 200 штук. После 2000 года виден заметный рост. Пик был в 2008 - 2010 годах."
   ]
  },
  {
   "cell_type": "markdown",
   "metadata": {},
   "source": [
    "#### Продажи по платформам."
   ]
  },
  {
   "cell_type": "code",
   "execution_count": 54,
   "metadata": {},
   "outputs": [],
   "source": [
    "sales_platform = data.pivot_table(index='platform', values='total_sales')"
   ]
  },
  {
   "cell_type": "code",
   "execution_count": 55,
   "metadata": {
    "scrolled": true
   },
   "outputs": [
    {
     "data": {
      "image/png": "[encoded data removed]",
      "text/plain": [
       "<Figure size 504x360 with 1 Axes>"
      ]
     },
     "metadata": {
      "needs_background": "light"
     },
     "output_type": "display_data"
    }
   ],
   "source": [
    "sales_platform.sort_values(by='total_sales').plot(kind='bar',figsize=(7,5), title='Продажи по платформам');"
   ]
  },
  {
   "cell_type": "markdown",
   "metadata": {},
   "source": [
    "По побщему количеству продаж выделяются 8 платформ: 'XOne', 'PS', 'N64', 'X360', 'GB', '2600', 'GEN', 'NES'. Рассмотрим, какие показатели были с 2011 года по 2016 год. Это промежуток будем считать актуальным для нашего анализа."
   ]
  },
  {
   "cell_type": "code",
   "execution_count": 56,
   "metadata": {},
   "outputs": [
    {
     "data": {
      "image/png": "[encoded data removed]",
      "text/plain": [
       "<Figure size 720x504 with 1 Axes>"
      ]
     },
     "metadata": {
      "needs_background": "light"
     },
     "output_type": "display_data"
    }
   ],
   "source": [
    "data_actualy_year = data.query('year_of_release >= 2011')\n",
    "sales_platform = data_actualy_year.pivot_table(index='platform', values='total_sales')\n",
    "sales_platform.sort_values(by='total_sales').plot(kind='bar',figsize=(10,7), title='Продажи по платформам с 2011 года');"
   ]
  },
  {
   "cell_type": "markdown",
   "metadata": {},
   "source": [
    "Здесь лидеры продаж меняются, поэтому выделим 5 платформ с наибольшими показателями. Это 'PS4', 'X360', 'XOne', 'PS3', 'WiiU'."
   ]
  },
  {
   "cell_type": "code",
   "execution_count": 57,
   "metadata": {},
   "outputs": [
    {
     "data": {
      "image/png": "[encoded data removed]",
      "text/plain": [
       "<Figure size 504x360 with 1 Axes>"
      ]
     },
     "metadata": {
      "needs_background": "light"
     },
     "output_type": "display_data"
    }
   ],
   "source": [
    "big_platform = [ 'PS4', 'X360', 'XOne', 'PS3', 'WiiU']\n",
    "data_actualy_platform = data_actualy_year.query('platform in @big_platform')\n",
    "sales_platform = data_actualy_platform.pivot_table(index='platform', values='total_sales')\n",
    "sales_platform.sort_values(by='total_sales').plot(kind='bar',figsize=(7,5), title='Продажи по платформам-лидерам с 2011 года');"
   ]
  },
  {
   "cell_type": "markdown",
   "metadata": {},
   "source": [
    "Таким образом мы выделили актуальный период (это игры, выпущенные после 2011 года) и потенциально прибыльные платформы.\n",
    "\n",
    "*Разделила данные на две части: есть данные, отфильтрованные только по актуальному периоду, и данные, отфильтрованные по актуальному периоду и платформам"
   ]
  },
  {
   "cell_type": "markdown",
   "metadata": {},
   "source": [
    "#### Глобальные продажи игр в разбивке по платформам. \"Ящик с усами\"."
   ]
  },
  {
   "cell_type": "code",
   "execution_count": 58,
   "metadata": {},
   "outputs": [
    {
     "data": {
      "image/png": "[encoded data removed]",
      "text/plain": [
       "<Figure size 720x576 with 1 Axes>"
      ]
     },
     "metadata": {
      "needs_background": "light"
     },
     "output_type": "display_data"
    }
   ],
   "source": [
    "plt.figure(figsize=(10,8))\n",
    "plt.ylim(0,2)\n",
    "sns.boxplot(x='platform', y='total_sales', data=data_actualy_year);"
   ]
  },
  {
   "cell_type": "markdown",
   "metadata": {},
   "source": [
    "Рассмотрим общую картину по всем платформам. Платформы - лидеры, которые мы выделили ранее, между собой в целом схожи. Медианное значение находится примерно на одном уровне около 250000 проданных копий. Самый большой \"ящик\" у платформы X360. У остальных платформ медианное значение ниже. Но при этом у всех платформ смещение происходит в правую сторону."
   ]
  },
  {
   "cell_type": "markdown",
   "metadata": {},
   "source": [
    "#### Влияние оценок на продажи внутри платформы X360."
   ]
  },
  {
   "cell_type": "markdown",
   "metadata": {},
   "source": [
    "По общему количеству проданных экземпляров игра X360 является лидером."
   ]
  },
  {
   "cell_type": "code",
   "execution_count": 59,
   "metadata": {},
   "outputs": [
    {
     "data": {
      "image/png": "[encoded data removed]",
      "text/plain": [
       "<Figure size 432x288 with 1 Axes>"
      ]
     },
     "metadata": {
      "needs_background": "light"
     },
     "output_type": "display_data"
    }
   ],
   "source": [
    "data_x360 = data_actualy_year[data_actualy_year['platform'] == 'X360']\n",
    "data_x360.plot(y='total_sales', x='critic_score', kind='scatter');"
   ]
  },
  {
   "cell_type": "code",
   "execution_count": 60,
   "metadata": {},
   "outputs": [
    {
     "data": {
      "image/png": "[encoded data removed]",
      "text/plain": [
       "<Figure size 432x288 with 1 Axes>"
      ]
     },
     "metadata": {
      "needs_background": "light"
     },
     "output_type": "display_data"
    }
   ],
   "source": [
    "data_x360.plot(y='total_sales', x='user_score', kind='scatter');"
   ]
  },
  {
   "cell_type": "code",
   "execution_count": 61,
   "metadata": {
    "scrolled": true
   },
   "outputs": [
    {
     "data": {
      "text/html": [
       "<div>\n",
       "<style scoped>\n",
       "    .dataframe tbody tr th:only-of-type {\n",
       "        vertical-align: middle;\n",
       "    }\n",
       "\n",
       "    .dataframe tbody tr th {\n",
       "        vertical-align: top;\n",
       "    }\n",
       "\n",
       "    .dataframe thead th {\n",
       "        text-align: right;\n",
       "    }\n",
       "</style>\n",
       "<table border=\"1\" class=\"dataframe\">\n",
       "  <thead>\n",
       "    <tr style=\"text-align: right;\">\n",
       "      <th></th>\n",
       "      <th>total_sales</th>\n",
       "      <th>critic_score</th>\n",
       "      <th>user_score</th>\n",
       "    </tr>\n",
       "  </thead>\n",
       "  <tbody>\n",
       "    <tr>\n",
       "      <th>total_sales</th>\n",
       "      <td>1.000000</td>\n",
       "      <td>0.391253</td>\n",
       "      <td>0.038918</td>\n",
       "    </tr>\n",
       "    <tr>\n",
       "      <th>critic_score</th>\n",
       "      <td>0.391253</td>\n",
       "      <td>1.000000</td>\n",
       "      <td>0.568386</td>\n",
       "    </tr>\n",
       "    <tr>\n",
       "      <th>user_score</th>\n",
       "      <td>0.038918</td>\n",
       "      <td>0.568386</td>\n",
       "      <td>1.000000</td>\n",
       "    </tr>\n",
       "  </tbody>\n",
       "</table>\n",
       "</div>"
      ],
      "text/plain": [
       "              total_sales  critic_score  user_score\n",
       "total_sales      1.000000      0.391253    0.038918\n",
       "critic_score     0.391253      1.000000    0.568386\n",
       "user_score       0.038918      0.568386    1.000000"
      ]
     },
     "execution_count": 61,
     "metadata": {},
     "output_type": "execute_result"
    }
   ],
   "source": [
    "data_x360[['total_sales', 'critic_score', 'user_score']].corr()"
   ]
  },
  {
   "cell_type": "markdown",
   "metadata": {},
   "source": [
    "Прослеживается положительная средняя корреляция между общими продажами и оценкой критиков, общими продажами и оценкой пользователей. Во втором случае - взаимосвязь слабая."
   ]
  },
  {
   "cell_type": "markdown",
   "metadata": {},
   "source": [
    "#### Влияние оценок на продажи внутри платформы PS4."
   ]
  },
  {
   "cell_type": "code",
   "execution_count": 62,
   "metadata": {},
   "outputs": [
    {
     "data": {
      "image/png": "[encoded data removed]",
      "text/plain": [
       "<Figure size 432x288 with 1 Axes>"
      ]
     },
     "metadata": {
      "needs_background": "light"
     },
     "output_type": "display_data"
    }
   ],
   "source": [
    "data_ps4 = data_actualy_year[data_actualy_year['platform'] == 'PS4']\n",
    "data_ps4.plot(y='total_sales', x='critic_score', kind='scatter');"
   ]
  },
  {
   "cell_type": "code",
   "execution_count": 63,
   "metadata": {},
   "outputs": [
    {
     "data": {
      "image/png": "[encoded data removed]",
      "text/plain": [
       "<Figure size 432x288 with 1 Axes>"
      ]
     },
     "metadata": {
      "needs_background": "light"
     },
     "output_type": "display_data"
    }
   ],
   "source": [
    "data_ps4.plot(y='total_sales', x='user_score', kind='scatter');"
   ]
  },
  {
   "cell_type": "code",
   "execution_count": 64,
   "metadata": {},
   "outputs": [
    {
     "data": {
      "text/html": [
       "<div>\n",
       "<style scoped>\n",
       "    .dataframe tbody tr th:only-of-type {\n",
       "        vertical-align: middle;\n",
       "    }\n",
       "\n",
       "    .dataframe tbody tr th {\n",
       "        vertical-align: top;\n",
       "    }\n",
       "\n",
       "    .dataframe thead th {\n",
       "        text-align: right;\n",
       "    }\n",
       "</style>\n",
       "<table border=\"1\" class=\"dataframe\">\n",
       "  <thead>\n",
       "    <tr style=\"text-align: right;\">\n",
       "      <th></th>\n",
       "      <th>total_sales</th>\n",
       "      <th>critic_score</th>\n",
       "      <th>user_score</th>\n",
       "    </tr>\n",
       "  </thead>\n",
       "  <tbody>\n",
       "    <tr>\n",
       "      <th>total_sales</th>\n",
       "      <td>1.000000</td>\n",
       "      <td>0.406568</td>\n",
       "      <td>-0.031957</td>\n",
       "    </tr>\n",
       "    <tr>\n",
       "      <th>critic_score</th>\n",
       "      <td>0.406568</td>\n",
       "      <td>1.000000</td>\n",
       "      <td>0.557654</td>\n",
       "    </tr>\n",
       "    <tr>\n",
       "      <th>user_score</th>\n",
       "      <td>-0.031957</td>\n",
       "      <td>0.557654</td>\n",
       "      <td>1.000000</td>\n",
       "    </tr>\n",
       "  </tbody>\n",
       "</table>\n",
       "</div>"
      ],
      "text/plain": [
       "              total_sales  critic_score  user_score\n",
       "total_sales      1.000000      0.406568   -0.031957\n",
       "critic_score     0.406568      1.000000    0.557654\n",
       "user_score      -0.031957      0.557654    1.000000"
      ]
     },
     "execution_count": 64,
     "metadata": {},
     "output_type": "execute_result"
    }
   ],
   "source": [
    "data_ps4[['total_sales', 'critic_score', 'user_score']].corr()"
   ]
  },
  {
   "cell_type": "markdown",
   "metadata": {},
   "source": [
    "В отличие от платформы X360 у платформы PS4 есть отличие в взаимосвязи общих продаж и оценок пользователей. Здесь прослеживается отрицательная слабая корреляция, что означает: увеличение проданных копий связано с уменьшением оценки пользователей. При этом связь общих продаж и оценки критиков примерно одинаковая у двух платформ."
   ]
  },
  {
   "cell_type": "markdown",
   "metadata": {},
   "source": [
    "#### Влияние оценок на продажи внутри платформы XOne."
   ]
  },
  {
   "cell_type": "code",
   "execution_count": 65,
   "metadata": {},
   "outputs": [
    {
     "data": {
      "image/png": "[encoded data removed]",
      "text/plain": [
       "<Figure size 432x288 with 1 Axes>"
      ]
     },
     "metadata": {
      "needs_background": "light"
     },
     "output_type": "display_data"
    }
   ],
   "source": [
    "data_xone = data_actualy_year[data_actualy_year['platform'] == 'XOne']\n",
    "data_xone.plot(y='total_sales', x='critic_score', kind='scatter');"
   ]
  },
  {
   "cell_type": "code",
   "execution_count": 66,
   "metadata": {},
   "outputs": [
    {
     "data": {
      "image/png": "[encoded data removed]",
      "text/plain": [
       "<Figure size 432x288 with 1 Axes>"
      ]
     },
     "metadata": {
      "needs_background": "light"
     },
     "output_type": "display_data"
    }
   ],
   "source": [
    "data_xone.plot(y='total_sales', x='user_score', kind='scatter');"
   ]
  },
  {
   "cell_type": "code",
   "execution_count": 67,
   "metadata": {},
   "outputs": [
    {
     "data": {
      "text/html": [
       "<div>\n",
       "<style scoped>\n",
       "    .dataframe tbody tr th:only-of-type {\n",
       "        vertical-align: middle;\n",
       "    }\n",
       "\n",
       "    .dataframe tbody tr th {\n",
       "        vertical-align: top;\n",
       "    }\n",
       "\n",
       "    .dataframe thead th {\n",
       "        text-align: right;\n",
       "    }\n",
       "</style>\n",
       "<table border=\"1\" class=\"dataframe\">\n",
       "  <thead>\n",
       "    <tr style=\"text-align: right;\">\n",
       "      <th></th>\n",
       "      <th>total_sales</th>\n",
       "      <th>critic_score</th>\n",
       "      <th>user_score</th>\n",
       "    </tr>\n",
       "  </thead>\n",
       "  <tbody>\n",
       "    <tr>\n",
       "      <th>total_sales</th>\n",
       "      <td>1.000000</td>\n",
       "      <td>0.416998</td>\n",
       "      <td>-0.068925</td>\n",
       "    </tr>\n",
       "    <tr>\n",
       "      <th>critic_score</th>\n",
       "      <td>0.416998</td>\n",
       "      <td>1.000000</td>\n",
       "      <td>0.472462</td>\n",
       "    </tr>\n",
       "    <tr>\n",
       "      <th>user_score</th>\n",
       "      <td>-0.068925</td>\n",
       "      <td>0.472462</td>\n",
       "      <td>1.000000</td>\n",
       "    </tr>\n",
       "  </tbody>\n",
       "</table>\n",
       "</div>"
      ],
      "text/plain": [
       "              total_sales  critic_score  user_score\n",
       "total_sales      1.000000      0.416998   -0.068925\n",
       "critic_score     0.416998      1.000000    0.472462\n",
       "user_score      -0.068925      0.472462    1.000000"
      ]
     },
     "execution_count": 67,
     "metadata": {},
     "output_type": "execute_result"
    }
   ],
   "source": [
    "data_xone[['total_sales', 'critic_score', 'user_score']].corr()"
   ]
  },
  {
   "cell_type": "markdown",
   "metadata": {},
   "source": [
    "Прослеживается аналогичная ситуация влияния оценок продаж, как и у платформы PS4."
   ]
  },
  {
   "cell_type": "markdown",
   "metadata": {},
   "source": [
    "#### Влияние оценок на продажи внутри платформы PS3."
   ]
  },
  {
   "cell_type": "code",
   "execution_count": 68,
   "metadata": {},
   "outputs": [
    {
     "data": {
      "image/png": "[encoded data removed]",
      "text/plain": [
       "<Figure size 432x288 with 1 Axes>"
      ]
     },
     "metadata": {
      "needs_background": "light"
     },
     "output_type": "display_data"
    }
   ],
   "source": [
    "data_ps3 = data_actualy_year[data_actualy_year['platform'] == 'PS3']\n",
    "data_ps3.plot(y='total_sales', x='critic_score', kind='scatter');"
   ]
  },
  {
   "cell_type": "code",
   "execution_count": 69,
   "metadata": {},
   "outputs": [
    {
     "data": {
      "image/png": "[encoded data removed]",
      "text/plain": [
       "<Figure size 432x288 with 1 Axes>"
      ]
     },
     "metadata": {
      "needs_background": "light"
     },
     "output_type": "display_data"
    }
   ],
   "source": [
    "data_ps3.plot(y='total_sales', x='user_score', kind='scatter');"
   ]
  },
  {
   "cell_type": "code",
   "execution_count": 70,
   "metadata": {},
   "outputs": [
    {
     "data": {
      "text/html": [
       "<div>\n",
       "<style scoped>\n",
       "    .dataframe tbody tr th:only-of-type {\n",
       "        vertical-align: middle;\n",
       "    }\n",
       "\n",
       "    .dataframe tbody tr th {\n",
       "        vertical-align: top;\n",
       "    }\n",
       "\n",
       "    .dataframe thead th {\n",
       "        text-align: right;\n",
       "    }\n",
       "</style>\n",
       "<table border=\"1\" class=\"dataframe\">\n",
       "  <thead>\n",
       "    <tr style=\"text-align: right;\">\n",
       "      <th></th>\n",
       "      <th>total_sales</th>\n",
       "      <th>critic_score</th>\n",
       "      <th>user_score</th>\n",
       "    </tr>\n",
       "  </thead>\n",
       "  <tbody>\n",
       "    <tr>\n",
       "      <th>total_sales</th>\n",
       "      <td>1.000000</td>\n",
       "      <td>0.380111</td>\n",
       "      <td>0.014089</td>\n",
       "    </tr>\n",
       "    <tr>\n",
       "      <th>critic_score</th>\n",
       "      <td>0.380111</td>\n",
       "      <td>1.000000</td>\n",
       "      <td>0.563315</td>\n",
       "    </tr>\n",
       "    <tr>\n",
       "      <th>user_score</th>\n",
       "      <td>0.014089</td>\n",
       "      <td>0.563315</td>\n",
       "      <td>1.000000</td>\n",
       "    </tr>\n",
       "  </tbody>\n",
       "</table>\n",
       "</div>"
      ],
      "text/plain": [
       "              total_sales  critic_score  user_score\n",
       "total_sales      1.000000      0.380111    0.014089\n",
       "critic_score     0.380111      1.000000    0.563315\n",
       "user_score       0.014089      0.563315    1.000000"
      ]
     },
     "execution_count": 70,
     "metadata": {},
     "output_type": "execute_result"
    }
   ],
   "source": [
    "data_ps3[['total_sales', 'critic_score', 'user_score']].corr()"
   ]
  },
  {
   "cell_type": "markdown",
   "metadata": {},
   "source": [
    "Здесь влияние больше походит на платформу X360, только взаимосвязь общих продаж и оценки пользователей на данной платформе еще слабее."
   ]
  },
  {
   "cell_type": "markdown",
   "metadata": {},
   "source": [
    "#### Влияние оценок на продажи внутри платформы WiiU."
   ]
  },
  {
   "cell_type": "code",
   "execution_count": 71,
   "metadata": {},
   "outputs": [
    {
     "data": {
      "image/png": "[encoded data removed]",
      "text/plain": [
       "<Figure size 432x288 with 1 Axes>"
      ]
     },
     "metadata": {
      "needs_background": "light"
     },
     "output_type": "display_data"
    }
   ],
   "source": [
    "data_wiiu = data_actualy_year[data_actualy_year['platform'] == 'WiiU']\n",
    "data_wiiu.plot(y='total_sales', x='critic_score', kind='scatter');"
   ]
  },
  {
   "cell_type": "code",
   "execution_count": 72,
   "metadata": {},
   "outputs": [
    {
     "data": {
      "image/png": "[encoded data removed]",
      "text/plain": [
       "<Figure size 432x288 with 1 Axes>"
      ]
     },
     "metadata": {
      "needs_background": "light"
     },
     "output_type": "display_data"
    }
   ],
   "source": [
    "data_wiiu.plot(y='total_sales', x='user_score', kind='scatter');"
   ]
  },
  {
   "cell_type": "code",
   "execution_count": 73,
   "metadata": {},
   "outputs": [
    {
     "data": {
      "text/html": [
       "<div>\n",
       "<style scoped>\n",
       "    .dataframe tbody tr th:only-of-type {\n",
       "        vertical-align: middle;\n",
       "    }\n",
       "\n",
       "    .dataframe tbody tr th {\n",
       "        vertical-align: top;\n",
       "    }\n",
       "\n",
       "    .dataframe thead th {\n",
       "        text-align: right;\n",
       "    }\n",
       "</style>\n",
       "<table border=\"1\" class=\"dataframe\">\n",
       "  <thead>\n",
       "    <tr style=\"text-align: right;\">\n",
       "      <th></th>\n",
       "      <th>total_sales</th>\n",
       "      <th>critic_score</th>\n",
       "      <th>user_score</th>\n",
       "    </tr>\n",
       "  </thead>\n",
       "  <tbody>\n",
       "    <tr>\n",
       "      <th>total_sales</th>\n",
       "      <td>1.000000</td>\n",
       "      <td>0.34838</td>\n",
       "      <td>0.400219</td>\n",
       "    </tr>\n",
       "    <tr>\n",
       "      <th>critic_score</th>\n",
       "      <td>0.348380</td>\n",
       "      <td>1.00000</td>\n",
       "      <td>0.770080</td>\n",
       "    </tr>\n",
       "    <tr>\n",
       "      <th>user_score</th>\n",
       "      <td>0.400219</td>\n",
       "      <td>0.77008</td>\n",
       "      <td>1.000000</td>\n",
       "    </tr>\n",
       "  </tbody>\n",
       "</table>\n",
       "</div>"
      ],
      "text/plain": [
       "              total_sales  critic_score  user_score\n",
       "total_sales      1.000000       0.34838    0.400219\n",
       "critic_score     0.348380       1.00000    0.770080\n",
       "user_score       0.400219       0.77008    1.000000"
      ]
     },
     "execution_count": 73,
     "metadata": {},
     "output_type": "execute_result"
    }
   ],
   "source": [
    "data_wiiu[['total_sales', 'critic_score', 'user_score']].corr()"
   ]
  },
  {
   "cell_type": "markdown",
   "metadata": {},
   "source": [
    "Прослеживается аналогичная ситуация влияния оценок продаж, как и у платформ X360, PS3. Отличие: взаимосвязь продаж и оценок пользователей здесь сильнее. "
   ]
  },
  {
   "cell_type": "markdown",
   "metadata": {},
   "source": [
    "В качестве анализа влияния оценок на продажи было рассмотрено 5 лидирующих платформ. Однозначно можно сказать, что прослеживается положительная средняя (или близкая с сильной) связь между количеством продаж и оценкой критиков. А вот с оценкой пользователей все не так одинаково: где-то эта связь отрицательная (то есть количество проданных копий влияет на уменьшение оценки), где-то положительная (обратная ситуация), а также есть платформы, где эта связь слабая."
   ]
  },
  {
   "cell_type": "markdown",
   "metadata": {},
   "source": [
    "#### Распределение игр по жанрам."
   ]
  },
  {
   "cell_type": "code",
   "execution_count": 74,
   "metadata": {},
   "outputs": [
    {
     "data": {
      "image/png": "[encoded data removed]",
      "text/plain": [
       "<Figure size 720x504 with 1 Axes>"
      ]
     },
     "metadata": {
      "needs_background": "light"
     },
     "output_type": "display_data"
    }
   ],
   "source": [
    "data_genre = data_actualy_year.pivot_table(index='genre', values='total_sales')\n",
    "data_genre.sort_values(by='total_sales').plot(kind='bar',figsize=(10,7), title='Общие продажи по жанрам');"
   ]
  },
  {
   "cell_type": "markdown",
   "metadata": {},
   "source": [
    "Выделяются 3 самых популярных жанра: Shooter, Platform, Sports. Самые низкие продажи у жанра Adventure. Это общая картина по всем платформам. Рассмотрим медианные продажи."
   ]
  },
  {
   "cell_type": "code",
   "execution_count": 75,
   "metadata": {},
   "outputs": [
    {
     "data": {
      "text/plain": [
       "genre\n",
       "Action          0.130\n",
       "Adventure       0.030\n",
       "Fighting        0.180\n",
       "Misc            0.130\n",
       "Platform        0.185\n",
       "Puzzle          0.050\n",
       "Racing          0.160\n",
       "Role-Playing    0.150\n",
       "Shooter         0.410\n",
       "Simulation      0.110\n",
       "Sports          0.200\n",
       "Strategy        0.080\n",
       "Name: total_sales, dtype: float64"
      ]
     },
     "metadata": {},
     "output_type": "display_data"
    },
    {
     "data": {
      "image/png": "[encoded data removed]",
      "text/plain": [
       "<Figure size 720x504 with 1 Axes>"
      ]
     },
     "metadata": {
      "needs_background": "light"
     },
     "output_type": "display_data"
    }
   ],
   "source": [
    "median_data_genre = data_actualy_year.groupby('genre')['total_sales'].median()\n",
    "display(median_data_genre)\n",
    "median_data_genre.sort_values().plot(kind='bar', figsize=(10,7), title='Медианные продажи по жанрам');"
   ]
  },
  {
   "cell_type": "markdown",
   "metadata": {},
   "source": [
    "Лидером по продажам является жанр Shooter. Заканчивает список жанр Adventure.\n",
    "\n",
    "Топ-список по самым популярным жанрам: Shooter, Sports, Platform, Fighting, Racing."
   ]
  },
  {
   "cell_type": "markdown",
   "metadata": {},
   "source": [
    "### Портрет пользователя каждого региона."
   ]
  },
  {
   "cell_type": "markdown",
   "metadata": {},
   "source": [
    "#### NA."
   ]
  },
  {
   "cell_type": "markdown",
   "metadata": {},
   "source": [
    "Данные будем анализировать по актуальному периоду (с 2011 года), по платформам-лидерам (топ-5),жанрам-лидерам (топ-5) и рейтингу ESRB."
   ]
  },
  {
   "cell_type": "code",
   "execution_count": 76,
   "metadata": {},
   "outputs": [
    {
     "data": {
      "text/html": [
       "<div>\n",
       "<style scoped>\n",
       "    .dataframe tbody tr th:only-of-type {\n",
       "        vertical-align: middle;\n",
       "    }\n",
       "\n",
       "    .dataframe tbody tr th {\n",
       "        vertical-align: top;\n",
       "    }\n",
       "\n",
       "    .dataframe thead th {\n",
       "        text-align: right;\n",
       "    }\n",
       "</style>\n",
       "<table border=\"1\" class=\"dataframe\">\n",
       "  <thead>\n",
       "    <tr style=\"text-align: right;\">\n",
       "      <th></th>\n",
       "      <th>na_sales</th>\n",
       "      <th>total_sales</th>\n",
       "      <th>share</th>\n",
       "    </tr>\n",
       "    <tr>\n",
       "      <th>platform</th>\n",
       "      <th></th>\n",
       "      <th></th>\n",
       "      <th></th>\n",
       "    </tr>\n",
       "  </thead>\n",
       "  <tbody>\n",
       "    <tr>\n",
       "      <th>X360</th>\n",
       "      <td>226.80</td>\n",
       "      <td>380.38</td>\n",
       "      <td>59.62</td>\n",
       "    </tr>\n",
       "    <tr>\n",
       "      <th>PS3</th>\n",
       "      <td>168.26</td>\n",
       "      <td>445.57</td>\n",
       "      <td>37.76</td>\n",
       "    </tr>\n",
       "    <tr>\n",
       "      <th>PS4</th>\n",
       "      <td>108.74</td>\n",
       "      <td>314.14</td>\n",
       "      <td>34.62</td>\n",
       "    </tr>\n",
       "    <tr>\n",
       "      <th>XOne</th>\n",
       "      <td>93.12</td>\n",
       "      <td>159.32</td>\n",
       "      <td>58.45</td>\n",
       "    </tr>\n",
       "    <tr>\n",
       "      <th>3DS</th>\n",
       "      <td>82.65</td>\n",
       "      <td>257.81</td>\n",
       "      <td>32.06</td>\n",
       "    </tr>\n",
       "    <tr>\n",
       "      <th>Wii</th>\n",
       "      <td>48.56</td>\n",
       "      <td>95.02</td>\n",
       "      <td>51.11</td>\n",
       "    </tr>\n",
       "    <tr>\n",
       "      <th>WiiU</th>\n",
       "      <td>38.10</td>\n",
       "      <td>82.19</td>\n",
       "      <td>46.36</td>\n",
       "    </tr>\n",
       "    <tr>\n",
       "      <th>PC</th>\n",
       "      <td>29.88</td>\n",
       "      <td>97.68</td>\n",
       "      <td>30.59</td>\n",
       "    </tr>\n",
       "    <tr>\n",
       "      <th>DS</th>\n",
       "      <td>18.86</td>\n",
       "      <td>38.73</td>\n",
       "      <td>48.70</td>\n",
       "    </tr>\n",
       "    <tr>\n",
       "      <th>PSV</th>\n",
       "      <td>12.47</td>\n",
       "      <td>53.81</td>\n",
       "      <td>23.17</td>\n",
       "    </tr>\n",
       "    <tr>\n",
       "      <th>PSP</th>\n",
       "      <td>2.19</td>\n",
       "      <td>29.01</td>\n",
       "      <td>7.55</td>\n",
       "    </tr>\n",
       "    <tr>\n",
       "      <th>PS2</th>\n",
       "      <td>0.13</td>\n",
       "      <td>0.45</td>\n",
       "      <td>28.89</td>\n",
       "    </tr>\n",
       "  </tbody>\n",
       "</table>\n",
       "</div>"
      ],
      "text/plain": [
       "          na_sales  total_sales  share\n",
       "platform                              \n",
       "X360        226.80       380.38  59.62\n",
       "PS3         168.26       445.57  37.76\n",
       "PS4         108.74       314.14  34.62\n",
       "XOne         93.12       159.32  58.45\n",
       "3DS          82.65       257.81  32.06\n",
       "Wii          48.56        95.02  51.11\n",
       "WiiU         38.10        82.19  46.36\n",
       "PC           29.88        97.68  30.59\n",
       "DS           18.86        38.73  48.70\n",
       "PSV          12.47        53.81  23.17\n",
       "PSP           2.19        29.01   7.55\n",
       "PS2           0.13         0.45  28.89"
      ]
     },
     "metadata": {},
     "output_type": "display_data"
    }
   ],
   "source": [
    "data_na_sales = data_actualy_year.pivot_table(index='platform',values=['na_sales','total_sales'],aggfunc=('sum'))\n",
    "data_na_sales['share'] = round(data_na_sales['na_sales'] / data_na_sales['total_sales'] * 100, 2)\n",
    "data_na_sales = data_na_sales.sort_values(by='na_sales', ascending=False)\n",
    "display(data_na_sales)"
   ]
  },
  {
   "cell_type": "code",
   "execution_count": 77,
   "metadata": {},
   "outputs": [
    {
     "data": {
      "image/png": "[encoded data removed]",
      "text/plain": [
       "<Figure size 360x360 with 1 Axes>"
      ]
     },
     "metadata": {},
     "output_type": "display_data"
    }
   ],
   "source": [
    "data_na_sales[:5].plot(kind='pie',y=\"share\", figsize=(5, 5));"
   ]
  },
  {
   "cell_type": "markdown",
   "metadata": {},
   "source": [
    "По количеству проданных игр в Северной Америке является платформа X360, при этом продажи составляют 60% от продаж по всему миру. По этому параметру X360 обгоняет только платформа Wii с долей в 51% от общих продаж, но в том-платформ по Северной Америке не входит."
   ]
  },
  {
   "cell_type": "code",
   "execution_count": 78,
   "metadata": {
    "scrolled": true
   },
   "outputs": [
    {
     "data": {
      "text/html": [
       "<div>\n",
       "<style scoped>\n",
       "    .dataframe tbody tr th:only-of-type {\n",
       "        vertical-align: middle;\n",
       "    }\n",
       "\n",
       "    .dataframe tbody tr th {\n",
       "        vertical-align: top;\n",
       "    }\n",
       "\n",
       "    .dataframe thead th {\n",
       "        text-align: right;\n",
       "    }\n",
       "</style>\n",
       "<table border=\"1\" class=\"dataframe\">\n",
       "  <thead>\n",
       "    <tr style=\"text-align: right;\">\n",
       "      <th></th>\n",
       "      <th>na_sales</th>\n",
       "    </tr>\n",
       "    <tr>\n",
       "      <th>genre</th>\n",
       "      <th></th>\n",
       "    </tr>\n",
       "  </thead>\n",
       "  <tbody>\n",
       "    <tr>\n",
       "      <th>Action</th>\n",
       "      <td>230.92</td>\n",
       "    </tr>\n",
       "    <tr>\n",
       "      <th>Shooter</th>\n",
       "      <td>194.43</td>\n",
       "    </tr>\n",
       "    <tr>\n",
       "      <th>Sports</th>\n",
       "      <td>108.70</td>\n",
       "    </tr>\n",
       "    <tr>\n",
       "      <th>Role-Playing</th>\n",
       "      <td>83.78</td>\n",
       "    </tr>\n",
       "    <tr>\n",
       "      <th>Misc</th>\n",
       "      <td>69.69</td>\n",
       "    </tr>\n",
       "    <tr>\n",
       "      <th>Platform</th>\n",
       "      <td>38.28</td>\n",
       "    </tr>\n",
       "    <tr>\n",
       "      <th>Racing</th>\n",
       "      <td>31.98</td>\n",
       "    </tr>\n",
       "    <tr>\n",
       "      <th>Fighting</th>\n",
       "      <td>31.63</td>\n",
       "    </tr>\n",
       "    <tr>\n",
       "      <th>Simulation</th>\n",
       "      <td>15.37</td>\n",
       "    </tr>\n",
       "    <tr>\n",
       "      <th>Adventure</th>\n",
       "      <td>14.76</td>\n",
       "    </tr>\n",
       "    <tr>\n",
       "      <th>Strategy</th>\n",
       "      <td>7.48</td>\n",
       "    </tr>\n",
       "    <tr>\n",
       "      <th>Puzzle</th>\n",
       "      <td>2.74</td>\n",
       "    </tr>\n",
       "  </tbody>\n",
       "</table>\n",
       "</div>"
      ],
      "text/plain": [
       "              na_sales\n",
       "genre                 \n",
       "Action          230.92\n",
       "Shooter         194.43\n",
       "Sports          108.70\n",
       "Role-Playing     83.78\n",
       "Misc             69.69\n",
       "Platform         38.28\n",
       "Racing           31.98\n",
       "Fighting         31.63\n",
       "Simulation       15.37\n",
       "Adventure        14.76\n",
       "Strategy          7.48\n",
       "Puzzle            2.74"
      ]
     },
     "metadata": {},
     "output_type": "display_data"
    }
   ],
   "source": [
    "data_na_genre = data_actualy_year.pivot_table(index='genre', values=['na_sales'], aggfunc=('sum'))\n",
    "data_na_genre = data_na_genre.sort_values(by='na_sales', ascending=False)\n",
    "display(data_na_genre)"
   ]
  },
  {
   "cell_type": "code",
   "execution_count": 79,
   "metadata": {},
   "outputs": [
    {
     "data": {
      "image/png": "[encoded data removed]",
      "text/plain": [
       "<Figure size 360x360 with 1 Axes>"
      ]
     },
     "metadata": {},
     "output_type": "display_data"
    }
   ],
   "source": [
    "data_na_genre[:5].plot(kind='pie',y=\"na_sales\", figsize=(5, 5));"
   ]
  },
  {
   "cell_type": "markdown",
   "metadata": {},
   "source": [
    "В Северной америке самым популярным жанром является жанр Action. После него идут Shooter и Sports."
   ]
  },
  {
   "cell_type": "code",
   "execution_count": 80,
   "metadata": {},
   "outputs": [
    {
     "data": {
      "text/html": [
       "<div>\n",
       "<style scoped>\n",
       "    .dataframe tbody tr th:only-of-type {\n",
       "        vertical-align: middle;\n",
       "    }\n",
       "\n",
       "    .dataframe tbody tr th {\n",
       "        vertical-align: top;\n",
       "    }\n",
       "\n",
       "    .dataframe thead th {\n",
       "        text-align: right;\n",
       "    }\n",
       "</style>\n",
       "<table border=\"1\" class=\"dataframe\">\n",
       "  <thead>\n",
       "    <tr style=\"text-align: right;\">\n",
       "      <th></th>\n",
       "      <th>na_sales</th>\n",
       "    </tr>\n",
       "    <tr>\n",
       "      <th>rating</th>\n",
       "      <th></th>\n",
       "    </tr>\n",
       "  </thead>\n",
       "  <tbody>\n",
       "    <tr>\n",
       "      <th>M</th>\n",
       "      <td>308.45</td>\n",
       "    </tr>\n",
       "    <tr>\n",
       "      <th>E</th>\n",
       "      <td>170.17</td>\n",
       "    </tr>\n",
       "    <tr>\n",
       "      <th>unknown</th>\n",
       "      <td>123.69</td>\n",
       "    </tr>\n",
       "    <tr>\n",
       "      <th>E10+</th>\n",
       "      <td>117.72</td>\n",
       "    </tr>\n",
       "    <tr>\n",
       "      <th>T</th>\n",
       "      <td>109.31</td>\n",
       "    </tr>\n",
       "    <tr>\n",
       "      <th>EC</th>\n",
       "      <td>0.42</td>\n",
       "    </tr>\n",
       "    <tr>\n",
       "      <th>RP</th>\n",
       "      <td>0.00</td>\n",
       "    </tr>\n",
       "  </tbody>\n",
       "</table>\n",
       "</div>"
      ],
      "text/plain": [
       "         na_sales\n",
       "rating           \n",
       "M          308.45\n",
       "E          170.17\n",
       "unknown    123.69\n",
       "E10+       117.72\n",
       "T          109.31\n",
       "EC           0.42\n",
       "RP           0.00"
      ]
     },
     "metadata": {},
     "output_type": "display_data"
    }
   ],
   "source": [
    "data_na_esrb = data_actualy_year.pivot_table(index='rating',values=['na_sales'],aggfunc=('sum'))\n",
    "data_na_esrb = data_na_esrb.sort_values(by='na_sales',ascending=False)\n",
    "display(data_na_esrb)"
   ]
  },
  {
   "cell_type": "code",
   "execution_count": 81,
   "metadata": {
    "scrolled": true
   },
   "outputs": [
    {
     "data": {
      "image/png": "[encoded data removed]",
      "text/plain": [
       "<Figure size 360x360 with 1 Axes>"
      ]
     },
     "metadata": {},
     "output_type": "display_data"
    }
   ],
   "source": [
    "data_na_esrb[:5].plot(kind='pie',y=\"na_sales\", figsize=(5, 5));"
   ]
  },
  {
   "cell_type": "markdown",
   "metadata": {},
   "source": [
    "По рейтингу ESRB в Северной Америке в большой степени продавались игры с возрастными ограничениями 17+, 6+ и 10+. Посмотрим, будут ли такие же показател продаж игр в других регионах или рейтинг влияет на отедльные регионы по-разному."
   ]
  },
  {
   "cell_type": "markdown",
   "metadata": {},
   "source": [
    "#### EU."
   ]
  },
  {
   "cell_type": "code",
   "execution_count": 82,
   "metadata": {},
   "outputs": [
    {
     "data": {
      "text/html": [
       "<div>\n",
       "<style scoped>\n",
       "    .dataframe tbody tr th:only-of-type {\n",
       "        vertical-align: middle;\n",
       "    }\n",
       "\n",
       "    .dataframe tbody tr th {\n",
       "        vertical-align: top;\n",
       "    }\n",
       "\n",
       "    .dataframe thead th {\n",
       "        text-align: right;\n",
       "    }\n",
       "</style>\n",
       "<table border=\"1\" class=\"dataframe\">\n",
       "  <thead>\n",
       "    <tr style=\"text-align: right;\">\n",
       "      <th></th>\n",
       "      <th>eu_sales</th>\n",
       "      <th>total_sales</th>\n",
       "      <th>share</th>\n",
       "    </tr>\n",
       "    <tr>\n",
       "      <th>platform</th>\n",
       "      <th></th>\n",
       "      <th></th>\n",
       "      <th></th>\n",
       "    </tr>\n",
       "  </thead>\n",
       "  <tbody>\n",
       "    <tr>\n",
       "      <th>PS3</th>\n",
       "      <td>163.10</td>\n",
       "      <td>445.57</td>\n",
       "      <td>36.60</td>\n",
       "    </tr>\n",
       "    <tr>\n",
       "      <th>PS4</th>\n",
       "      <td>141.09</td>\n",
       "      <td>314.14</td>\n",
       "      <td>44.91</td>\n",
       "    </tr>\n",
       "    <tr>\n",
       "      <th>X360</th>\n",
       "      <td>117.10</td>\n",
       "      <td>380.38</td>\n",
       "      <td>30.79</td>\n",
       "    </tr>\n",
       "    <tr>\n",
       "      <th>3DS</th>\n",
       "      <td>61.27</td>\n",
       "      <td>257.81</td>\n",
       "      <td>23.77</td>\n",
       "    </tr>\n",
       "    <tr>\n",
       "      <th>PC</th>\n",
       "      <td>56.70</td>\n",
       "      <td>97.68</td>\n",
       "      <td>58.05</td>\n",
       "    </tr>\n",
       "    <tr>\n",
       "      <th>XOne</th>\n",
       "      <td>51.59</td>\n",
       "      <td>159.32</td>\n",
       "      <td>32.38</td>\n",
       "    </tr>\n",
       "    <tr>\n",
       "      <th>Wii</th>\n",
       "      <td>29.60</td>\n",
       "      <td>95.02</td>\n",
       "      <td>31.15</td>\n",
       "    </tr>\n",
       "    <tr>\n",
       "      <th>WiiU</th>\n",
       "      <td>25.13</td>\n",
       "      <td>82.19</td>\n",
       "      <td>30.58</td>\n",
       "    </tr>\n",
       "    <tr>\n",
       "      <th>PSV</th>\n",
       "      <td>13.07</td>\n",
       "      <td>53.81</td>\n",
       "      <td>24.29</td>\n",
       "    </tr>\n",
       "    <tr>\n",
       "      <th>DS</th>\n",
       "      <td>9.24</td>\n",
       "      <td>38.73</td>\n",
       "      <td>23.86</td>\n",
       "    </tr>\n",
       "    <tr>\n",
       "      <th>PSP</th>\n",
       "      <td>1.77</td>\n",
       "      <td>29.01</td>\n",
       "      <td>6.10</td>\n",
       "    </tr>\n",
       "    <tr>\n",
       "      <th>PS2</th>\n",
       "      <td>0.13</td>\n",
       "      <td>0.45</td>\n",
       "      <td>28.89</td>\n",
       "    </tr>\n",
       "  </tbody>\n",
       "</table>\n",
       "</div>"
      ],
      "text/plain": [
       "          eu_sales  total_sales  share\n",
       "platform                              \n",
       "PS3         163.10       445.57  36.60\n",
       "PS4         141.09       314.14  44.91\n",
       "X360        117.10       380.38  30.79\n",
       "3DS          61.27       257.81  23.77\n",
       "PC           56.70        97.68  58.05\n",
       "XOne         51.59       159.32  32.38\n",
       "Wii          29.60        95.02  31.15\n",
       "WiiU         25.13        82.19  30.58\n",
       "PSV          13.07        53.81  24.29\n",
       "DS            9.24        38.73  23.86\n",
       "PSP           1.77        29.01   6.10\n",
       "PS2           0.13         0.45  28.89"
      ]
     },
     "metadata": {},
     "output_type": "display_data"
    }
   ],
   "source": [
    "data_eu_sales = data_actualy_year.pivot_table(index='platform',values=['eu_sales','total_sales'],aggfunc=('sum'))\n",
    "data_eu_sales['share'] = round(data_eu_sales['eu_sales'] / data_eu_sales['total_sales'] * 100, 2)\n",
    "data_eu_sales = data_eu_sales.sort_values(by='eu_sales', ascending=False)\n",
    "display(data_eu_sales)"
   ]
  },
  {
   "cell_type": "code",
   "execution_count": 83,
   "metadata": {},
   "outputs": [
    {
     "data": {
      "image/png": "[encoded data removed]",
      "text/plain": [
       "<Figure size 360x360 with 1 Axes>"
      ]
     },
     "metadata": {},
     "output_type": "display_data"
    }
   ],
   "source": [
    "data_eu_sales[:5].plot(kind='pie',y=\"share\", figsize=(5, 5));"
   ]
  },
  {
   "cell_type": "markdown",
   "metadata": {},
   "source": [
    "По количеству проданных игр в Европе является платформа PS3, при этом продажи составляют 37% от продаж по всему миру. По этому параметру PS3 обгоняет только платформа PC с долей в 58% от общих продаж."
   ]
  },
  {
   "cell_type": "code",
   "execution_count": 84,
   "metadata": {},
   "outputs": [
    {
     "data": {
      "text/html": [
       "<div>\n",
       "<style scoped>\n",
       "    .dataframe tbody tr th:only-of-type {\n",
       "        vertical-align: middle;\n",
       "    }\n",
       "\n",
       "    .dataframe tbody tr th {\n",
       "        vertical-align: top;\n",
       "    }\n",
       "\n",
       "    .dataframe thead th {\n",
       "        text-align: right;\n",
       "    }\n",
       "</style>\n",
       "<table border=\"1\" class=\"dataframe\">\n",
       "  <thead>\n",
       "    <tr style=\"text-align: right;\">\n",
       "      <th></th>\n",
       "      <th>eu_sales</th>\n",
       "    </tr>\n",
       "    <tr>\n",
       "      <th>genre</th>\n",
       "      <th></th>\n",
       "    </tr>\n",
       "  </thead>\n",
       "  <tbody>\n",
       "    <tr>\n",
       "      <th>Action</th>\n",
       "      <td>199.12</td>\n",
       "    </tr>\n",
       "    <tr>\n",
       "      <th>Shooter</th>\n",
       "      <td>148.02</td>\n",
       "    </tr>\n",
       "    <tr>\n",
       "      <th>Sports</th>\n",
       "      <td>88.48</td>\n",
       "    </tr>\n",
       "    <tr>\n",
       "      <th>Role-Playing</th>\n",
       "      <td>62.30</td>\n",
       "    </tr>\n",
       "    <tr>\n",
       "      <th>Racing</th>\n",
       "      <td>40.58</td>\n",
       "    </tr>\n",
       "    <tr>\n",
       "      <th>Misc</th>\n",
       "      <td>39.72</td>\n",
       "    </tr>\n",
       "    <tr>\n",
       "      <th>Platform</th>\n",
       "      <td>30.07</td>\n",
       "    </tr>\n",
       "    <tr>\n",
       "      <th>Simulation</th>\n",
       "      <td>19.72</td>\n",
       "    </tr>\n",
       "    <tr>\n",
       "      <th>Fighting</th>\n",
       "      <td>16.24</td>\n",
       "    </tr>\n",
       "    <tr>\n",
       "      <th>Adventure</th>\n",
       "      <td>13.96</td>\n",
       "    </tr>\n",
       "    <tr>\n",
       "      <th>Strategy</th>\n",
       "      <td>8.02</td>\n",
       "    </tr>\n",
       "    <tr>\n",
       "      <th>Puzzle</th>\n",
       "      <td>3.56</td>\n",
       "    </tr>\n",
       "  </tbody>\n",
       "</table>\n",
       "</div>"
      ],
      "text/plain": [
       "              eu_sales\n",
       "genre                 \n",
       "Action          199.12\n",
       "Shooter         148.02\n",
       "Sports           88.48\n",
       "Role-Playing     62.30\n",
       "Racing           40.58\n",
       "Misc             39.72\n",
       "Platform         30.07\n",
       "Simulation       19.72\n",
       "Fighting         16.24\n",
       "Adventure        13.96\n",
       "Strategy          8.02\n",
       "Puzzle            3.56"
      ]
     },
     "metadata": {},
     "output_type": "display_data"
    }
   ],
   "source": [
    "data_eu_genre = data_actualy_year.pivot_table(index='genre', values=['eu_sales'], aggfunc=('sum'))\n",
    "data_eu_genre = data_eu_genre.sort_values(by='eu_sales', ascending=False)\n",
    "display(data_eu_genre)"
   ]
  },
  {
   "cell_type": "code",
   "execution_count": 85,
   "metadata": {},
   "outputs": [
    {
     "data": {
      "image/png": "[encoded data removed]",
      "text/plain": [
       "<Figure size 360x360 with 1 Axes>"
      ]
     },
     "metadata": {},
     "output_type": "display_data"
    }
   ],
   "source": [
    "data_eu_genre[:5].plot(kind='pie',y=\"eu_sales\", figsize=(5, 5));"
   ]
  },
  {
   "cell_type": "markdown",
   "metadata": {},
   "source": [
    "В Европе самым популярным жанром является жанр Action. После него идут Sports и Shooter."
   ]
  },
  {
   "cell_type": "code",
   "execution_count": 86,
   "metadata": {},
   "outputs": [
    {
     "data": {
      "text/html": [
       "<div>\n",
       "<style scoped>\n",
       "    .dataframe tbody tr th:only-of-type {\n",
       "        vertical-align: middle;\n",
       "    }\n",
       "\n",
       "    .dataframe tbody tr th {\n",
       "        vertical-align: top;\n",
       "    }\n",
       "\n",
       "    .dataframe thead th {\n",
       "        text-align: right;\n",
       "    }\n",
       "</style>\n",
       "<table border=\"1\" class=\"dataframe\">\n",
       "  <thead>\n",
       "    <tr style=\"text-align: right;\">\n",
       "      <th></th>\n",
       "      <th>eu_sales</th>\n",
       "    </tr>\n",
       "    <tr>\n",
       "      <th>rating</th>\n",
       "      <th></th>\n",
       "    </tr>\n",
       "  </thead>\n",
       "  <tbody>\n",
       "    <tr>\n",
       "      <th>M</th>\n",
       "      <td>250.26</td>\n",
       "    </tr>\n",
       "    <tr>\n",
       "      <th>E</th>\n",
       "      <td>141.73</td>\n",
       "    </tr>\n",
       "    <tr>\n",
       "      <th>unknown</th>\n",
       "      <td>116.61</td>\n",
       "    </tr>\n",
       "    <tr>\n",
       "      <th>T</th>\n",
       "      <td>83.16</td>\n",
       "    </tr>\n",
       "    <tr>\n",
       "      <th>E10+</th>\n",
       "      <td>78.00</td>\n",
       "    </tr>\n",
       "    <tr>\n",
       "      <th>RP</th>\n",
       "      <td>0.03</td>\n",
       "    </tr>\n",
       "    <tr>\n",
       "      <th>EC</th>\n",
       "      <td>0.00</td>\n",
       "    </tr>\n",
       "  </tbody>\n",
       "</table>\n",
       "</div>"
      ],
      "text/plain": [
       "         eu_sales\n",
       "rating           \n",
       "M          250.26\n",
       "E          141.73\n",
       "unknown    116.61\n",
       "T           83.16\n",
       "E10+        78.00\n",
       "RP           0.03\n",
       "EC           0.00"
      ]
     },
     "metadata": {},
     "output_type": "display_data"
    }
   ],
   "source": [
    "data_eu_esrb = data_actualy_year.pivot_table(index='rating',values=['eu_sales'],aggfunc=('sum'))\n",
    "data_eu_esrb = data_eu_esrb.sort_values(by='eu_sales',ascending=False)\n",
    "display(data_eu_esrb)"
   ]
  },
  {
   "cell_type": "code",
   "execution_count": 87,
   "metadata": {
    "scrolled": true
   },
   "outputs": [
    {
     "data": {
      "image/png": "[encoded data removed]",
      "text/plain": [
       "<Figure size 360x360 with 1 Axes>"
      ]
     },
     "metadata": {},
     "output_type": "display_data"
    }
   ],
   "source": [
    "data_eu_esrb[:5].plot(kind='pie',y=\"eu_sales\", figsize=(5, 5));"
   ]
  },
  {
   "cell_type": "markdown",
   "metadata": {},
   "source": [
    "Здесь лидером также является рейтинг М с возрастным ограничением 17+, но в тройку также входит рейтинг Т, в отличие от Северной Америки."
   ]
  },
  {
   "cell_type": "markdown",
   "metadata": {},
   "source": [
    "#### JP."
   ]
  },
  {
   "cell_type": "code",
   "execution_count": 88,
   "metadata": {},
   "outputs": [
    {
     "data": {
      "text/html": [
       "<div>\n",
       "<style scoped>\n",
       "    .dataframe tbody tr th:only-of-type {\n",
       "        vertical-align: middle;\n",
       "    }\n",
       "\n",
       "    .dataframe tbody tr th {\n",
       "        vertical-align: top;\n",
       "    }\n",
       "\n",
       "    .dataframe thead th {\n",
       "        text-align: right;\n",
       "    }\n",
       "</style>\n",
       "<table border=\"1\" class=\"dataframe\">\n",
       "  <thead>\n",
       "    <tr style=\"text-align: right;\">\n",
       "      <th></th>\n",
       "      <th>jp_sales</th>\n",
       "      <th>total_sales</th>\n",
       "      <th>share</th>\n",
       "    </tr>\n",
       "    <tr>\n",
       "      <th>platform</th>\n",
       "      <th></th>\n",
       "      <th></th>\n",
       "      <th></th>\n",
       "    </tr>\n",
       "  </thead>\n",
       "  <tbody>\n",
       "    <tr>\n",
       "      <th>3DS</th>\n",
       "      <td>100.62</td>\n",
       "      <td>257.81</td>\n",
       "      <td>39.03</td>\n",
       "    </tr>\n",
       "    <tr>\n",
       "      <th>PS3</th>\n",
       "      <td>49.39</td>\n",
       "      <td>445.57</td>\n",
       "      <td>11.08</td>\n",
       "    </tr>\n",
       "    <tr>\n",
       "      <th>PSP</th>\n",
       "      <td>24.04</td>\n",
       "      <td>29.01</td>\n",
       "      <td>82.87</td>\n",
       "    </tr>\n",
       "    <tr>\n",
       "      <th>PSV</th>\n",
       "      <td>21.84</td>\n",
       "      <td>53.81</td>\n",
       "      <td>40.59</td>\n",
       "    </tr>\n",
       "    <tr>\n",
       "      <th>PS4</th>\n",
       "      <td>15.96</td>\n",
       "      <td>314.14</td>\n",
       "      <td>5.08</td>\n",
       "    </tr>\n",
       "    <tr>\n",
       "      <th>WiiU</th>\n",
       "      <td>13.01</td>\n",
       "      <td>82.19</td>\n",
       "      <td>15.83</td>\n",
       "    </tr>\n",
       "    <tr>\n",
       "      <th>Wii</th>\n",
       "      <td>8.97</td>\n",
       "      <td>95.02</td>\n",
       "      <td>9.44</td>\n",
       "    </tr>\n",
       "    <tr>\n",
       "      <th>DS</th>\n",
       "      <td>8.04</td>\n",
       "      <td>38.73</td>\n",
       "      <td>20.76</td>\n",
       "    </tr>\n",
       "    <tr>\n",
       "      <th>X360</th>\n",
       "      <td>3.35</td>\n",
       "      <td>380.38</td>\n",
       "      <td>0.88</td>\n",
       "    </tr>\n",
       "    <tr>\n",
       "      <th>XOne</th>\n",
       "      <td>0.34</td>\n",
       "      <td>159.32</td>\n",
       "      <td>0.21</td>\n",
       "    </tr>\n",
       "    <tr>\n",
       "      <th>PS2</th>\n",
       "      <td>0.09</td>\n",
       "      <td>0.45</td>\n",
       "      <td>20.00</td>\n",
       "    </tr>\n",
       "    <tr>\n",
       "      <th>PC</th>\n",
       "      <td>0.00</td>\n",
       "      <td>97.68</td>\n",
       "      <td>0.00</td>\n",
       "    </tr>\n",
       "  </tbody>\n",
       "</table>\n",
       "</div>"
      ],
      "text/plain": [
       "          jp_sales  total_sales  share\n",
       "platform                              \n",
       "3DS         100.62       257.81  39.03\n",
       "PS3          49.39       445.57  11.08\n",
       "PSP          24.04        29.01  82.87\n",
       "PSV          21.84        53.81  40.59\n",
       "PS4          15.96       314.14   5.08\n",
       "WiiU         13.01        82.19  15.83\n",
       "Wii           8.97        95.02   9.44\n",
       "DS            8.04        38.73  20.76\n",
       "X360          3.35       380.38   0.88\n",
       "XOne          0.34       159.32   0.21\n",
       "PS2           0.09         0.45  20.00\n",
       "PC            0.00        97.68   0.00"
      ]
     },
     "metadata": {},
     "output_type": "display_data"
    }
   ],
   "source": [
    "data_jp_sales = data_actualy_year.pivot_table(index='platform',values=['jp_sales','total_sales'],aggfunc=('sum'))\n",
    "data_jp_sales['share'] = round(data_jp_sales['jp_sales'] / data_jp_sales['total_sales'] * 100, 2)\n",
    "data_jp_sales = data_jp_sales.sort_values(by='jp_sales', ascending=False)\n",
    "display(data_jp_sales)"
   ]
  },
  {
   "cell_type": "code",
   "execution_count": 89,
   "metadata": {},
   "outputs": [
    {
     "data": {
      "image/png": "[encoded data removed]",
      "text/plain": [
       "<Figure size 360x360 with 1 Axes>"
      ]
     },
     "metadata": {},
     "output_type": "display_data"
    }
   ],
   "source": [
    "data_jp_sales[:5].plot(kind='pie',y=\"share\", figsize=(5, 5));"
   ]
  },
  {
   "cell_type": "markdown",
   "metadata": {},
   "source": [
    "По количеству проданных игр в Японии является платформа 3DS, при этом продажи составляют 39% от продаж по всему миру."
   ]
  },
  {
   "cell_type": "code",
   "execution_count": 90,
   "metadata": {},
   "outputs": [
    {
     "data": {
      "text/html": [
       "<div>\n",
       "<style scoped>\n",
       "    .dataframe tbody tr th:only-of-type {\n",
       "        vertical-align: middle;\n",
       "    }\n",
       "\n",
       "    .dataframe tbody tr th {\n",
       "        vertical-align: top;\n",
       "    }\n",
       "\n",
       "    .dataframe thead th {\n",
       "        text-align: right;\n",
       "    }\n",
       "</style>\n",
       "<table border=\"1\" class=\"dataframe\">\n",
       "  <thead>\n",
       "    <tr style=\"text-align: right;\">\n",
       "      <th></th>\n",
       "      <th>jp_sales</th>\n",
       "    </tr>\n",
       "    <tr>\n",
       "      <th>genre</th>\n",
       "      <th></th>\n",
       "    </tr>\n",
       "  </thead>\n",
       "  <tbody>\n",
       "    <tr>\n",
       "      <th>Role-Playing</th>\n",
       "      <td>79.87</td>\n",
       "    </tr>\n",
       "    <tr>\n",
       "      <th>Action</th>\n",
       "      <td>63.62</td>\n",
       "    </tr>\n",
       "    <tr>\n",
       "      <th>Misc</th>\n",
       "      <td>17.60</td>\n",
       "    </tr>\n",
       "    <tr>\n",
       "      <th>Fighting</th>\n",
       "      <td>12.38</td>\n",
       "    </tr>\n",
       "    <tr>\n",
       "      <th>Platform</th>\n",
       "      <td>12.13</td>\n",
       "    </tr>\n",
       "    <tr>\n",
       "      <th>Adventure</th>\n",
       "      <td>12.07</td>\n",
       "    </tr>\n",
       "    <tr>\n",
       "      <th>Shooter</th>\n",
       "      <td>11.92</td>\n",
       "    </tr>\n",
       "    <tr>\n",
       "      <th>Simulation</th>\n",
       "      <td>11.64</td>\n",
       "    </tr>\n",
       "    <tr>\n",
       "      <th>Sports</th>\n",
       "      <td>11.09</td>\n",
       "    </tr>\n",
       "    <tr>\n",
       "      <th>Racing</th>\n",
       "      <td>5.64</td>\n",
       "    </tr>\n",
       "    <tr>\n",
       "      <th>Strategy</th>\n",
       "      <td>4.78</td>\n",
       "    </tr>\n",
       "    <tr>\n",
       "      <th>Puzzle</th>\n",
       "      <td>2.91</td>\n",
       "    </tr>\n",
       "  </tbody>\n",
       "</table>\n",
       "</div>"
      ],
      "text/plain": [
       "              jp_sales\n",
       "genre                 \n",
       "Role-Playing     79.87\n",
       "Action           63.62\n",
       "Misc             17.60\n",
       "Fighting         12.38\n",
       "Platform         12.13\n",
       "Adventure        12.07\n",
       "Shooter          11.92\n",
       "Simulation       11.64\n",
       "Sports           11.09\n",
       "Racing            5.64\n",
       "Strategy          4.78\n",
       "Puzzle            2.91"
      ]
     },
     "metadata": {},
     "output_type": "display_data"
    }
   ],
   "source": [
    "data_jp_genre = data_actualy_year.pivot_table(index='genre', values=['jp_sales'], aggfunc=('sum'))\n",
    "data_jp_genre = data_jp_genre.sort_values(by='jp_sales', ascending=False)\n",
    "display(data_jp_genre)"
   ]
  },
  {
   "cell_type": "code",
   "execution_count": 91,
   "metadata": {},
   "outputs": [
    {
     "data": {
      "image/png": "[encoded data removed]",
      "text/plain": [
       "<Figure size 360x360 with 1 Axes>"
      ]
     },
     "metadata": {},
     "output_type": "display_data"
    }
   ],
   "source": [
    "data_jp_genre[:5].plot(kind='pie',y=\"jp_sales\", figsize=(5, 5));"
   ]
  },
  {
   "cell_type": "markdown",
   "metadata": {},
   "source": [
    "В Японии самым популярным жанром является жанр Role-Playing. После него идут Action и Misc."
   ]
  },
  {
   "cell_type": "code",
   "execution_count": 92,
   "metadata": {},
   "outputs": [
    {
     "data": {
      "text/html": [
       "<div>\n",
       "<style scoped>\n",
       "    .dataframe tbody tr th:only-of-type {\n",
       "        vertical-align: middle;\n",
       "    }\n",
       "\n",
       "    .dataframe tbody tr th {\n",
       "        vertical-align: top;\n",
       "    }\n",
       "\n",
       "    .dataframe thead th {\n",
       "        text-align: right;\n",
       "    }\n",
       "</style>\n",
       "<table border=\"1\" class=\"dataframe\">\n",
       "  <thead>\n",
       "    <tr style=\"text-align: right;\">\n",
       "      <th></th>\n",
       "      <th>jp_sales</th>\n",
       "    </tr>\n",
       "    <tr>\n",
       "      <th>rating</th>\n",
       "      <th></th>\n",
       "    </tr>\n",
       "  </thead>\n",
       "  <tbody>\n",
       "    <tr>\n",
       "      <th>unknown</th>\n",
       "      <td>138.21</td>\n",
       "    </tr>\n",
       "    <tr>\n",
       "      <th>E</th>\n",
       "      <td>36.68</td>\n",
       "    </tr>\n",
       "    <tr>\n",
       "      <th>T</th>\n",
       "      <td>33.39</td>\n",
       "    </tr>\n",
       "    <tr>\n",
       "      <th>M</th>\n",
       "      <td>26.14</td>\n",
       "    </tr>\n",
       "    <tr>\n",
       "      <th>E10+</th>\n",
       "      <td>11.23</td>\n",
       "    </tr>\n",
       "    <tr>\n",
       "      <th>EC</th>\n",
       "      <td>0.00</td>\n",
       "    </tr>\n",
       "    <tr>\n",
       "      <th>RP</th>\n",
       "      <td>0.00</td>\n",
       "    </tr>\n",
       "  </tbody>\n",
       "</table>\n",
       "</div>"
      ],
      "text/plain": [
       "         jp_sales\n",
       "rating           \n",
       "unknown    138.21\n",
       "E           36.68\n",
       "T           33.39\n",
       "M           26.14\n",
       "E10+        11.23\n",
       "EC           0.00\n",
       "RP           0.00"
      ]
     },
     "metadata": {},
     "output_type": "display_data"
    }
   ],
   "source": [
    "data_jp_esrb = data_actualy_year.pivot_table(index='rating',values=['jp_sales'],aggfunc=('sum'))\n",
    "data_jp_esrb = data_jp_esrb.sort_values(by='jp_sales',ascending=False)\n",
    "display(data_jp_esrb)"
   ]
  },
  {
   "cell_type": "code",
   "execution_count": 93,
   "metadata": {},
   "outputs": [
    {
     "data": {
      "image/png": "[encoded data removed]",
      "text/plain": [
       "<Figure size 360x360 with 1 Axes>"
      ]
     },
     "metadata": {},
     "output_type": "display_data"
    }
   ],
   "source": [
    "data_jp_esrb[:5].plot(kind='pie',y=\"jp_sales\", figsize=(5, 5));"
   ]
  },
  {
   "cell_type": "markdown",
   "metadata": {},
   "source": [
    "Здесь тройка лидеров похожа на европейскую, но распределение отличается. Лидерами являются игры с рейтингом E."
   ]
  },
  {
   "cell_type": "markdown",
   "metadata": {},
   "source": [
    "#### Other country."
   ]
  },
  {
   "cell_type": "code",
   "execution_count": 94,
   "metadata": {
    "scrolled": true
   },
   "outputs": [
    {
     "data": {
      "text/html": [
       "<div>\n",
       "<style scoped>\n",
       "    .dataframe tbody tr th:only-of-type {\n",
       "        vertical-align: middle;\n",
       "    }\n",
       "\n",
       "    .dataframe tbody tr th {\n",
       "        vertical-align: top;\n",
       "    }\n",
       "\n",
       "    .dataframe thead th {\n",
       "        text-align: right;\n",
       "    }\n",
       "</style>\n",
       "<table border=\"1\" class=\"dataframe\">\n",
       "  <thead>\n",
       "    <tr style=\"text-align: right;\">\n",
       "      <th></th>\n",
       "      <th>other_sales</th>\n",
       "      <th>total_sales</th>\n",
       "      <th>share</th>\n",
       "    </tr>\n",
       "    <tr>\n",
       "      <th>platform</th>\n",
       "      <th></th>\n",
       "      <th></th>\n",
       "      <th></th>\n",
       "    </tr>\n",
       "  </thead>\n",
       "  <tbody>\n",
       "    <tr>\n",
       "      <th>PS3</th>\n",
       "      <td>64.82</td>\n",
       "      <td>445.57</td>\n",
       "      <td>14.55</td>\n",
       "    </tr>\n",
       "    <tr>\n",
       "      <th>PS4</th>\n",
       "      <td>48.35</td>\n",
       "      <td>314.14</td>\n",
       "      <td>15.39</td>\n",
       "    </tr>\n",
       "    <tr>\n",
       "      <th>X360</th>\n",
       "      <td>33.13</td>\n",
       "      <td>380.38</td>\n",
       "      <td>8.71</td>\n",
       "    </tr>\n",
       "    <tr>\n",
       "      <th>XOne</th>\n",
       "      <td>14.27</td>\n",
       "      <td>159.32</td>\n",
       "      <td>8.96</td>\n",
       "    </tr>\n",
       "    <tr>\n",
       "      <th>3DS</th>\n",
       "      <td>13.27</td>\n",
       "      <td>257.81</td>\n",
       "      <td>5.15</td>\n",
       "    </tr>\n",
       "    <tr>\n",
       "      <th>PC</th>\n",
       "      <td>11.10</td>\n",
       "      <td>97.68</td>\n",
       "      <td>11.36</td>\n",
       "    </tr>\n",
       "    <tr>\n",
       "      <th>Wii</th>\n",
       "      <td>7.89</td>\n",
       "      <td>95.02</td>\n",
       "      <td>8.30</td>\n",
       "    </tr>\n",
       "    <tr>\n",
       "      <th>PSV</th>\n",
       "      <td>6.43</td>\n",
       "      <td>53.81</td>\n",
       "      <td>11.95</td>\n",
       "    </tr>\n",
       "    <tr>\n",
       "      <th>WiiU</th>\n",
       "      <td>5.95</td>\n",
       "      <td>82.19</td>\n",
       "      <td>7.24</td>\n",
       "    </tr>\n",
       "    <tr>\n",
       "      <th>DS</th>\n",
       "      <td>2.59</td>\n",
       "      <td>38.73</td>\n",
       "      <td>6.69</td>\n",
       "    </tr>\n",
       "    <tr>\n",
       "      <th>PSP</th>\n",
       "      <td>1.01</td>\n",
       "      <td>29.01</td>\n",
       "      <td>3.48</td>\n",
       "    </tr>\n",
       "    <tr>\n",
       "      <th>PS2</th>\n",
       "      <td>0.10</td>\n",
       "      <td>0.45</td>\n",
       "      <td>22.22</td>\n",
       "    </tr>\n",
       "  </tbody>\n",
       "</table>\n",
       "</div>"
      ],
      "text/plain": [
       "          other_sales  total_sales  share\n",
       "platform                                 \n",
       "PS3             64.82       445.57  14.55\n",
       "PS4             48.35       314.14  15.39\n",
       "X360            33.13       380.38   8.71\n",
       "XOne            14.27       159.32   8.96\n",
       "3DS             13.27       257.81   5.15\n",
       "PC              11.10        97.68  11.36\n",
       "Wii              7.89        95.02   8.30\n",
       "PSV              6.43        53.81  11.95\n",
       "WiiU             5.95        82.19   7.24\n",
       "DS               2.59        38.73   6.69\n",
       "PSP              1.01        29.01   3.48\n",
       "PS2              0.10         0.45  22.22"
      ]
     },
     "metadata": {},
     "output_type": "display_data"
    }
   ],
   "source": [
    "data_other_sales = data_actualy_year.pivot_table(index='platform',values=['other_sales','total_sales'],aggfunc=('sum'))\n",
    "data_other_sales['share'] = round(data_other_sales['other_sales'] / data_other_sales['total_sales'] * 100, 2)\n",
    "data_other_sales = data_other_sales.sort_values(by='other_sales', ascending=False)\n",
    "display(data_other_sales)\n"
   ]
  },
  {
   "cell_type": "code",
   "execution_count": 95,
   "metadata": {},
   "outputs": [
    {
     "data": {
      "image/png": "[encoded data removed]",
      "text/plain": [
       "<Figure size 360x360 with 1 Axes>"
      ]
     },
     "metadata": {},
     "output_type": "display_data"
    }
   ],
   "source": [
    "data_other_sales[:5].plot(kind='pie',y=\"share\", figsize=(5, 5));"
   ]
  },
  {
   "cell_type": "markdown",
   "metadata": {},
   "source": [
    "По количеству проданных игр в других странах является платформа PS3, при этом продажи составляют 15%."
   ]
  },
  {
   "cell_type": "code",
   "execution_count": 96,
   "metadata": {},
   "outputs": [
    {
     "data": {
      "text/html": [
       "<div>\n",
       "<style scoped>\n",
       "    .dataframe tbody tr th:only-of-type {\n",
       "        vertical-align: middle;\n",
       "    }\n",
       "\n",
       "    .dataframe tbody tr th {\n",
       "        vertical-align: top;\n",
       "    }\n",
       "\n",
       "    .dataframe thead th {\n",
       "        text-align: right;\n",
       "    }\n",
       "</style>\n",
       "<table border=\"1\" class=\"dataframe\">\n",
       "  <thead>\n",
       "    <tr style=\"text-align: right;\">\n",
       "      <th></th>\n",
       "      <th>other_sales</th>\n",
       "    </tr>\n",
       "    <tr>\n",
       "      <th>genre</th>\n",
       "      <th></th>\n",
       "    </tr>\n",
       "  </thead>\n",
       "  <tbody>\n",
       "    <tr>\n",
       "      <th>Action</th>\n",
       "      <td>64.14</td>\n",
       "    </tr>\n",
       "    <tr>\n",
       "      <th>Shooter</th>\n",
       "      <td>48.54</td>\n",
       "    </tr>\n",
       "    <tr>\n",
       "      <th>Sports</th>\n",
       "      <td>28.88</td>\n",
       "    </tr>\n",
       "    <tr>\n",
       "      <th>Role-Playing</th>\n",
       "      <td>19.68</td>\n",
       "    </tr>\n",
       "    <tr>\n",
       "      <th>Misc</th>\n",
       "      <td>12.41</td>\n",
       "    </tr>\n",
       "    <tr>\n",
       "      <th>Racing</th>\n",
       "      <td>10.11</td>\n",
       "    </tr>\n",
       "    <tr>\n",
       "      <th>Platform</th>\n",
       "      <td>8.20</td>\n",
       "    </tr>\n",
       "    <tr>\n",
       "      <th>Fighting</th>\n",
       "      <td>6.65</td>\n",
       "    </tr>\n",
       "    <tr>\n",
       "      <th>Adventure</th>\n",
       "      <td>4.25</td>\n",
       "    </tr>\n",
       "    <tr>\n",
       "      <th>Simulation</th>\n",
       "      <td>3.53</td>\n",
       "    </tr>\n",
       "    <tr>\n",
       "      <th>Strategy</th>\n",
       "      <td>1.88</td>\n",
       "    </tr>\n",
       "    <tr>\n",
       "      <th>Puzzle</th>\n",
       "      <td>0.64</td>\n",
       "    </tr>\n",
       "  </tbody>\n",
       "</table>\n",
       "</div>"
      ],
      "text/plain": [
       "              other_sales\n",
       "genre                    \n",
       "Action              64.14\n",
       "Shooter             48.54\n",
       "Sports              28.88\n",
       "Role-Playing        19.68\n",
       "Misc                12.41\n",
       "Racing              10.11\n",
       "Platform             8.20\n",
       "Fighting             6.65\n",
       "Adventure            4.25\n",
       "Simulation           3.53\n",
       "Strategy             1.88\n",
       "Puzzle               0.64"
      ]
     },
     "metadata": {},
     "output_type": "display_data"
    }
   ],
   "source": [
    "data_other_genre = data_actualy_year.pivot_table(index='genre', values=['other_sales'], aggfunc=('sum'))\n",
    "data_other_genre = data_other_genre.sort_values(by='other_sales', ascending=False)\n",
    "display(data_other_genre)"
   ]
  },
  {
   "cell_type": "code",
   "execution_count": 97,
   "metadata": {},
   "outputs": [
    {
     "data": {
      "image/png": "[encoded data removed]",
      "text/plain": [
       "<Figure size 360x360 with 1 Axes>"
      ]
     },
     "metadata": {},
     "output_type": "display_data"
    }
   ],
   "source": [
    "data_other_genre[:5].plot(kind='pie',y=\"other_sales\", figsize=(5, 5));"
   ]
  },
  {
   "cell_type": "markdown",
   "metadata": {},
   "source": [
    "В других странах самым популярным жанром является жанр Action. После него идут Sports и Shooter."
   ]
  },
  {
   "cell_type": "code",
   "execution_count": 98,
   "metadata": {},
   "outputs": [
    {
     "data": {
      "text/html": [
       "<div>\n",
       "<style scoped>\n",
       "    .dataframe tbody tr th:only-of-type {\n",
       "        vertical-align: middle;\n",
       "    }\n",
       "\n",
       "    .dataframe tbody tr th {\n",
       "        vertical-align: top;\n",
       "    }\n",
       "\n",
       "    .dataframe thead th {\n",
       "        text-align: right;\n",
       "    }\n",
       "</style>\n",
       "<table border=\"1\" class=\"dataframe\">\n",
       "  <thead>\n",
       "    <tr style=\"text-align: right;\">\n",
       "      <th></th>\n",
       "      <th>other_sales</th>\n",
       "    </tr>\n",
       "    <tr>\n",
       "      <th>rating</th>\n",
       "      <th></th>\n",
       "    </tr>\n",
       "  </thead>\n",
       "  <tbody>\n",
       "    <tr>\n",
       "      <th>M</th>\n",
       "      <td>81.96</td>\n",
       "    </tr>\n",
       "    <tr>\n",
       "      <th>E</th>\n",
       "      <td>40.86</td>\n",
       "    </tr>\n",
       "    <tr>\n",
       "      <th>unknown</th>\n",
       "      <td>33.97</td>\n",
       "    </tr>\n",
       "    <tr>\n",
       "      <th>T</th>\n",
       "      <td>28.17</td>\n",
       "    </tr>\n",
       "    <tr>\n",
       "      <th>E10+</th>\n",
       "      <td>23.91</td>\n",
       "    </tr>\n",
       "    <tr>\n",
       "      <th>EC</th>\n",
       "      <td>0.03</td>\n",
       "    </tr>\n",
       "    <tr>\n",
       "      <th>RP</th>\n",
       "      <td>0.01</td>\n",
       "    </tr>\n",
       "  </tbody>\n",
       "</table>\n",
       "</div>"
      ],
      "text/plain": [
       "         other_sales\n",
       "rating              \n",
       "M              81.96\n",
       "E              40.86\n",
       "unknown        33.97\n",
       "T              28.17\n",
       "E10+           23.91\n",
       "EC              0.03\n",
       "RP              0.01"
      ]
     },
     "metadata": {},
     "output_type": "display_data"
    }
   ],
   "source": [
    "data_other_esrb = data_actualy_year.pivot_table(index='rating',values=['other_sales'],aggfunc=('sum'))\n",
    "data_other_esrb = data_other_esrb.sort_values(by='other_sales',ascending=False)\n",
    "display(data_other_esrb)"
   ]
  },
  {
   "cell_type": "code",
   "execution_count": 99,
   "metadata": {},
   "outputs": [
    {
     "data": {
      "image/png": "[encoded data removed]",
      "text/plain": [
       "<Figure size 360x360 with 1 Axes>"
      ]
     },
     "metadata": {},
     "output_type": "display_data"
    }
   ],
   "source": [
    "data_other_esrb[:5].plot(kind='pie',y=\"other_sales\", figsize=(5, 5));"
   ]
  },
  {
   "cell_type": "markdown",
   "metadata": {},
   "source": [
    "Здесь также являются лидерами продаж игры с рейтингом М. В тройке находятся рейтинги Е и Т."
   ]
  },
  {
   "cell_type": "markdown",
   "metadata": {},
   "source": [
    "### Построение и проверка гипотез."
   ]
  },
  {
   "cell_type": "markdown",
   "metadata": {},
   "source": [
    "#### Средние пользовательские рейтинги платформ Xbox One и PC одинаковые."
   ]
  },
  {
   "cell_type": "markdown",
   "metadata": {},
   "source": [
    "Проверка гипотезы: cредние пользовательские рейтинги платформ Xbox One и PC одинаковые;\n",
    "\n",
    "```\n",
    "H_0: cредние пользовательские рейтинги платформ Xbox One = cредние пользовательские рейтинги платформ PC`\n",
    "H_1: cредние пользовательские рейтинги платформ Xbox One ≠ cредние пользовательские рейтинги платформ PC`\n",
    "alpha = 0.05\n",
    "```"
   ]
  },
  {
   "cell_type": "code",
   "execution_count": 100,
   "metadata": {},
   "outputs": [],
   "source": [
    "data_0 = data.query('year_of_release >= 2008')"
   ]
  },
  {
   "cell_type": "code",
   "execution_count": 101,
   "metadata": {},
   "outputs": [
    {
     "name": "stdout",
     "output_type": "stream",
     "text": [
      "0.11111296036738474\n",
      "Не получилось отвергнуть нулевую гипотезу\n",
      "Средний пользовательский рейтинг платформы Xbox One: 6.521428571428572\n",
      "Средний пользовательский рейтинг платформы PC 6.71747572815534\n"
     ]
    }
   ],
   "source": [
    "xbox_user = data_0.loc[(data_0['platform'] == 'XOne') & (data['user_score'].notna())]['user_score']\n",
    "pc_user = data_0.loc[(data_0['platform'] == 'PC') & (data['user_score'].notna())]['user_score']\n",
    "results = st.ttest_ind(xbox_user, pc_user, equal_var=False)\n",
    "alpha = 0.05\n",
    "print(results.pvalue)\n",
    "if results.pvalue < alpha:\n",
    "    print('Отвергаем нулевую гипотезу')\n",
    "else:\n",
    "    print('Не получилось отвергнуть нулевую гипотезу')\n",
    "print('Средний пользовательский рейтинг платформы Xbox One:', xbox_user.mean())\n",
    "print('Средний пользовательский рейтинг платформы PC', pc_user.mean())"
   ]
  },
  {
   "cell_type": "markdown",
   "metadata": {},
   "source": [
    "#### Средние пользовательские рейтинги жанров Action и Sports разные."
   ]
  },
  {
   "cell_type": "markdown",
   "metadata": {},
   "source": [
    "Проверка гипотезы: cредние пользовательские рейтинги жанров Action и Sports разные;\n",
    "\n",
    "```\n",
    "H_0: cредние пользовательские рейтинги жанра Action = cредние пользовательские рейтинги жанра Sports`\n",
    "H_1: cредние пользовательские рейтинги жанра Action ≠ cредние пользовательские рейтинги жанра Sports`\n",
    "alpha = 0.05\n",
    "```"
   ]
  },
  {
   "cell_type": "code",
   "execution_count": 102,
   "metadata": {
    "scrolled": true
   },
   "outputs": [
    {
     "name": "stdout",
     "output_type": "stream",
     "text": [
      "4.910932152133621e-13\n",
      "Отвергаем нулевую гипотезу\n",
      "Средний пользовательский рейтинг жанра Action: 6.854444444444444\n",
      "Средний пользовательский рейтинг жанра Sports 6.215863453815261\n"
     ]
    }
   ],
   "source": [
    "action = data_0.loc[(data_0['genre'] == 'Action') & (data['user_score'].notna())]['user_score']\n",
    "sports = data_0.loc[(data_0['genre'] == 'Sports') & (data['user_score'].notna())]['user_score']\n",
    "results = st.ttest_ind(action, sports, equal_var=False)\n",
    "alpha = 0.05\n",
    "print(results.pvalue)\n",
    "if results.pvalue < alpha:\n",
    "    print('Отвергаем нулевую гипотезу')\n",
    "else:\n",
    "    print('Не получилось отвергнуть нулевую гипотезу')\n",
    "print('Средний пользовательский рейтинг жанра Action:', action.mean())\n",
    "print('Средний пользовательский рейтинг жанра Sports', sports.mean())"
   ]
  },
  {
   "cell_type": "markdown",
   "metadata": {},
   "source": [
    "#### Заключение"
   ]
  },
  {
   "cell_type": "markdown",
   "metadata": {},
   "source": [
    "Необходимо было проверить две гипотезы. Для этого были сформулированы нулевая и альтернативная двустрононняя гипотезы. Ислледование производилось с помощью функции ttest_ind по средним значениям двух совокупонстей. Значение статистической значимости было равным 5%.\n",
    "\n",
    "В итоге было сделано два вывода:\n",
    "- cредние пользовательские рейтинги платформ Xbox One и PC одинаковые\n",
    "- cредние пользовательские рейтинги жанров Action и Sports разные"
   ]
  },
  {
   "cell_type": "markdown",
   "metadata": {},
   "source": [
    "### Общий вывод."
   ]
  },
  {
   "cell_type": "markdown",
   "metadata": {},
   "source": [
    "Анализ успешности игр начался с предобработки данных. К сожалению, большая часть игр не была оценена, предположительно, из-за малого количества проданных копий, а в следствие чего нельзя было сформировать какую-либо общую оценку.\n",
    "\n",
    "В ходе анализа стало понятно, чтобы определить успешность игры необходимо для начала понять, в каком регионе игра будет выпускаться (или какие страны будут являться основными). Исходя из этого можно выделить наиболее популярные для региона платформы, жанры игр, рейтинг и то как эти показатели могут повлиять на общие продажи.\n",
    "\n",
    "Краткое описание по топ-параметром для каждого региона:\n",
    "- *Северная Америка*:\n",
    " - Платформа: X360\n",
    " - Жанр: Action\n",
    " - Рейтинг ESRB: M\n",
    "- *Европа*:\n",
    " - Платформа: PS3\n",
    " - Жанр: Action\n",
    " - Рейтинг ESRB: M\n",
    "- *Япония*:\n",
    " - Платформа: 3DS\n",
    " - Жанр: Role-Playing\t\n",
    " - Рейтинг ESRB: E\n",
    "- *Другие страны*:\n",
    " - Платформа: PS3\n",
    " - Жанр: Action\n",
    " - Рейтинг ESRB: M"
   ]
  }
 ],
 "metadata": {
  "ExecuteTimeLog": [
   {
    "duration": 988,
    "start_time": "2022-10-19T14:42:51.380Z"
   },
   {
    "duration": 86,
    "start_time": "2022-10-19T14:42:52.606Z"
   },
   {
    "duration": 17,
    "start_time": "2022-10-19T14:43:11.182Z"
   },
   {
    "duration": 679,
    "start_time": "2022-10-19T14:52:03.435Z"
   },
   {
    "duration": 76,
    "start_time": "2022-10-19T14:52:04.116Z"
   },
   {
    "duration": 16,
    "start_time": "2022-10-19T14:52:04.194Z"
   },
   {
    "duration": 82,
    "start_time": "2022-10-19T14:52:04.212Z"
   },
   {
    "duration": 6,
    "start_time": "2022-10-19T14:52:12.491Z"
   },
   {
    "duration": 8,
    "start_time": "2022-10-19T14:53:03.578Z"
   },
   {
    "duration": 9,
    "start_time": "2022-10-19T14:54:18.711Z"
   },
   {
    "duration": 4,
    "start_time": "2022-10-19T14:54:23.148Z"
   },
   {
    "duration": 5,
    "start_time": "2022-10-19T14:54:36.471Z"
   },
   {
    "duration": 11,
    "start_time": "2022-10-19T14:56:18.822Z"
   },
   {
    "duration": 6,
    "start_time": "2022-10-19T14:56:26.899Z"
   },
   {
    "duration": 9,
    "start_time": "2022-10-19T14:59:00.415Z"
   },
   {
    "duration": 23,
    "start_time": "2022-10-19T14:59:13.838Z"
   },
   {
    "duration": 6,
    "start_time": "2022-10-19T14:59:26.671Z"
   },
   {
    "duration": 14,
    "start_time": "2022-10-19T15:00:16.106Z"
   },
   {
    "duration": 8,
    "start_time": "2022-10-19T15:00:39.273Z"
   },
   {
    "duration": 6,
    "start_time": "2022-10-19T15:01:06.908Z"
   },
   {
    "duration": 7,
    "start_time": "2022-10-19T15:01:28.969Z"
   },
   {
    "duration": 16,
    "start_time": "2022-10-19T15:01:41.842Z"
   },
   {
    "duration": 15,
    "start_time": "2022-10-19T15:01:54.106Z"
   },
   {
    "duration": 10,
    "start_time": "2022-10-19T15:02:05.770Z"
   },
   {
    "duration": 14,
    "start_time": "2022-10-19T15:03:02.527Z"
   },
   {
    "duration": 28,
    "start_time": "2022-10-19T15:04:33.073Z"
   },
   {
    "duration": 9,
    "start_time": "2022-10-19T15:05:08.521Z"
   },
   {
    "duration": 6,
    "start_time": "2022-10-19T15:05:37.625Z"
   },
   {
    "duration": 17,
    "start_time": "2022-10-19T15:05:54.654Z"
   },
   {
    "duration": 12,
    "start_time": "2022-10-19T15:06:18.358Z"
   },
   {
    "duration": 14,
    "start_time": "2022-10-19T15:14:29.662Z"
   },
   {
    "duration": 13,
    "start_time": "2022-10-19T15:14:37.160Z"
   },
   {
    "duration": 16,
    "start_time": "2022-10-19T15:15:45.604Z"
   },
   {
    "duration": 6,
    "start_time": "2022-10-19T15:16:41.235Z"
   },
   {
    "duration": 841,
    "start_time": "2022-10-19T15:16:50.030Z"
   },
   {
    "duration": 5,
    "start_time": "2022-10-19T15:17:03.026Z"
   },
   {
    "duration": 6,
    "start_time": "2022-10-19T15:22:37.381Z"
   },
   {
    "duration": 6,
    "start_time": "2022-10-19T15:22:47.982Z"
   },
   {
    "duration": 19,
    "start_time": "2022-10-19T15:23:30.300Z"
   },
   {
    "duration": 16,
    "start_time": "2022-10-19T15:23:45.260Z"
   },
   {
    "duration": 27,
    "start_time": "2022-10-19T15:24:20.818Z"
   },
   {
    "duration": 6,
    "start_time": "2022-10-19T15:28:20.252Z"
   },
   {
    "duration": 10,
    "start_time": "2022-10-19T15:28:44.008Z"
   },
   {
    "duration": 12,
    "start_time": "2022-10-19T15:28:49.777Z"
   },
   {
    "duration": 6,
    "start_time": "2022-10-19T15:30:08.507Z"
   },
   {
    "duration": 14,
    "start_time": "2022-10-19T15:30:08.647Z"
   },
   {
    "duration": 76,
    "start_time": "2022-10-19T15:30:08.777Z"
   },
   {
    "duration": 34,
    "start_time": "2022-10-19T15:36:30.943Z"
   },
   {
    "duration": 85,
    "start_time": "2022-10-19T15:43:30.771Z"
   },
   {
    "duration": 67,
    "start_time": "2022-10-19T15:43:53.483Z"
   },
   {
    "duration": 14,
    "start_time": "2022-10-19T15:44:12.621Z"
   },
   {
    "duration": 10,
    "start_time": "2022-10-19T15:46:37.986Z"
   },
   {
    "duration": 6,
    "start_time": "2022-10-19T15:47:36.731Z"
   },
   {
    "duration": 56,
    "start_time": "2022-10-19T15:48:45.625Z"
   },
   {
    "duration": 44,
    "start_time": "2022-10-19T15:48:49.708Z"
   },
   {
    "duration": 6,
    "start_time": "2022-10-19T15:48:55.685Z"
   },
   {
    "duration": 24,
    "start_time": "2022-10-19T15:49:07.121Z"
   },
   {
    "duration": 7,
    "start_time": "2022-10-19T15:49:48.732Z"
   },
   {
    "duration": 2072,
    "start_time": "2022-10-19T15:50:08.999Z"
   },
   {
    "duration": 6,
    "start_time": "2022-10-19T15:51:50.193Z"
   },
   {
    "duration": 5,
    "start_time": "2022-10-19T15:52:35.270Z"
   },
   {
    "duration": 269,
    "start_time": "2022-10-19T15:55:21.604Z"
   },
   {
    "duration": 24,
    "start_time": "2022-10-19T15:55:42.582Z"
   },
   {
    "duration": 24,
    "start_time": "2022-10-19T15:55:58.679Z"
   },
   {
    "duration": 36,
    "start_time": "2022-10-19T15:56:20.486Z"
   },
   {
    "duration": 206,
    "start_time": "2022-10-19T15:56:36.400Z"
   },
   {
    "duration": 607,
    "start_time": "2022-10-19T15:56:55.682Z"
   },
   {
    "duration": 61,
    "start_time": "2022-10-19T15:56:56.292Z"
   },
   {
    "duration": 29,
    "start_time": "2022-10-19T15:56:56.356Z"
   },
   {
    "duration": 10,
    "start_time": "2022-10-19T15:56:56.388Z"
   },
   {
    "duration": 10,
    "start_time": "2022-10-19T15:56:56.400Z"
   },
   {
    "duration": 14,
    "start_time": "2022-10-19T15:56:56.411Z"
   },
   {
    "duration": 14,
    "start_time": "2022-10-19T15:56:56.455Z"
   },
   {
    "duration": 16,
    "start_time": "2022-10-19T15:56:56.471Z"
   },
   {
    "duration": 5,
    "start_time": "2022-10-19T15:56:56.488Z"
   },
   {
    "duration": 25,
    "start_time": "2022-10-19T15:56:56.495Z"
   },
   {
    "duration": 286,
    "start_time": "2022-10-19T15:56:56.522Z"
   },
   {
    "duration": 23,
    "start_time": "2022-10-19T15:56:56.810Z"
   },
   {
    "duration": 9,
    "start_time": "2022-10-19T15:56:56.834Z"
   },
   {
    "duration": 10,
    "start_time": "2022-10-19T15:56:56.845Z"
   },
   {
    "duration": 26,
    "start_time": "2022-10-19T15:57:32.861Z"
   },
   {
    "duration": 30,
    "start_time": "2022-10-19T16:00:35.106Z"
   },
   {
    "duration": 4,
    "start_time": "2022-10-19T16:00:51.051Z"
   },
   {
    "duration": 99,
    "start_time": "2022-10-19T16:01:03.820Z"
   },
   {
    "duration": 5,
    "start_time": "2022-10-19T16:01:17.314Z"
   },
   {
    "duration": 409,
    "start_time": "2022-10-19T16:01:25.614Z"
   },
   {
    "duration": 5,
    "start_time": "2022-10-19T16:06:21.881Z"
   },
   {
    "duration": 119,
    "start_time": "2022-10-19T16:06:51.064Z"
   },
   {
    "duration": 13,
    "start_time": "2022-10-19T16:07:48.776Z"
   },
   {
    "duration": 341,
    "start_time": "2022-10-19T16:08:35.444Z"
   },
   {
    "duration": 222,
    "start_time": "2022-10-19T16:09:17.434Z"
   },
   {
    "duration": 160,
    "start_time": "2022-10-19T16:14:38.405Z"
   },
   {
    "duration": 132,
    "start_time": "2022-10-19T16:14:56.424Z"
   },
   {
    "duration": 135,
    "start_time": "2022-10-19T16:16:34.080Z"
   },
   {
    "duration": 252,
    "start_time": "2022-10-19T16:20:36.594Z"
   },
   {
    "duration": 188,
    "start_time": "2022-10-19T16:20:46.203Z"
   },
   {
    "duration": 302,
    "start_time": "2022-10-19T16:21:05.594Z"
   },
   {
    "duration": 181,
    "start_time": "2022-10-19T16:21:32.963Z"
   },
   {
    "duration": 161,
    "start_time": "2022-10-19T16:21:40.918Z"
   },
   {
    "duration": 252,
    "start_time": "2022-10-19T16:21:50.661Z"
   },
   {
    "duration": 209,
    "start_time": "2022-10-19T16:22:13.948Z"
   },
   {
    "duration": 243,
    "start_time": "2022-10-19T16:22:21.583Z"
   },
   {
    "duration": 211,
    "start_time": "2022-10-19T16:22:37.778Z"
   },
   {
    "duration": 203,
    "start_time": "2022-10-19T16:23:00.476Z"
   },
   {
    "duration": 161,
    "start_time": "2022-10-19T16:23:06.818Z"
   },
   {
    "duration": 171,
    "start_time": "2022-10-19T16:23:13.964Z"
   },
   {
    "duration": 210,
    "start_time": "2022-10-19T16:23:18.755Z"
   },
   {
    "duration": 158,
    "start_time": "2022-10-19T16:23:24.967Z"
   },
   {
    "duration": 192,
    "start_time": "2022-10-19T16:23:31.242Z"
   },
   {
    "duration": 285,
    "start_time": "2022-10-19T16:23:41.912Z"
   },
   {
    "duration": 252,
    "start_time": "2022-10-19T16:34:15.431Z"
   },
   {
    "duration": 234,
    "start_time": "2022-10-19T16:34:32.357Z"
   },
   {
    "duration": 272,
    "start_time": "2022-10-19T16:34:55.865Z"
   },
   {
    "duration": 268,
    "start_time": "2022-10-19T16:35:15.009Z"
   },
   {
    "duration": 582,
    "start_time": "2022-10-19T16:35:27.396Z"
   },
   {
    "duration": 56,
    "start_time": "2022-10-19T16:35:27.980Z"
   },
   {
    "duration": 28,
    "start_time": "2022-10-19T16:35:28.038Z"
   },
   {
    "duration": 9,
    "start_time": "2022-10-19T16:35:28.068Z"
   },
   {
    "duration": 6,
    "start_time": "2022-10-19T16:35:28.078Z"
   },
   {
    "duration": 14,
    "start_time": "2022-10-19T16:35:28.086Z"
   },
   {
    "duration": 20,
    "start_time": "2022-10-19T16:35:28.102Z"
   },
   {
    "duration": 38,
    "start_time": "2022-10-19T16:35:28.124Z"
   },
   {
    "duration": 5,
    "start_time": "2022-10-19T16:35:28.164Z"
   },
   {
    "duration": 20,
    "start_time": "2022-10-19T16:35:28.173Z"
   },
   {
    "duration": 25,
    "start_time": "2022-10-19T16:35:28.195Z"
   },
   {
    "duration": 50,
    "start_time": "2022-10-19T16:35:28.222Z"
   },
   {
    "duration": 5,
    "start_time": "2022-10-19T16:35:28.274Z"
   },
   {
    "duration": 17,
    "start_time": "2022-10-19T16:35:28.280Z"
   },
   {
    "duration": 114,
    "start_time": "2022-10-19T16:35:28.299Z"
   },
   {
    "duration": 268,
    "start_time": "2022-10-19T16:35:28.414Z"
   },
   {
    "duration": 193,
    "start_time": "2022-10-19T16:35:28.683Z"
   },
   {
    "duration": 238,
    "start_time": "2022-10-19T16:35:28.878Z"
   },
   {
    "duration": 178,
    "start_time": "2022-10-19T16:35:29.118Z"
   },
   {
    "duration": 292,
    "start_time": "2022-10-19T16:35:29.298Z"
   },
   {
    "duration": 9,
    "start_time": "2022-10-19T16:42:55.286Z"
   },
   {
    "duration": 51,
    "start_time": "2022-10-19T16:43:09.909Z"
   },
   {
    "duration": 74,
    "start_time": "2022-10-19T16:43:14.087Z"
   },
   {
    "duration": 6,
    "start_time": "2022-10-19T16:43:22.787Z"
   },
   {
    "duration": 600,
    "start_time": "2022-10-19T16:43:29.192Z"
   },
   {
    "duration": 56,
    "start_time": "2022-10-19T16:43:29.794Z"
   },
   {
    "duration": 25,
    "start_time": "2022-10-19T16:43:29.851Z"
   },
   {
    "duration": 9,
    "start_time": "2022-10-19T16:43:29.878Z"
   },
   {
    "duration": 5,
    "start_time": "2022-10-19T16:43:29.888Z"
   },
   {
    "duration": 16,
    "start_time": "2022-10-19T16:43:29.894Z"
   },
   {
    "duration": 14,
    "start_time": "2022-10-19T16:43:29.911Z"
   },
   {
    "duration": 13,
    "start_time": "2022-10-19T16:43:29.955Z"
   },
   {
    "duration": 5,
    "start_time": "2022-10-19T16:43:29.970Z"
   },
   {
    "duration": 25,
    "start_time": "2022-10-19T16:43:29.977Z"
   },
   {
    "duration": 50,
    "start_time": "2022-10-19T16:43:30.004Z"
   },
   {
    "duration": 22,
    "start_time": "2022-10-19T16:43:30.056Z"
   },
   {
    "duration": 19,
    "start_time": "2022-10-19T16:43:30.080Z"
   },
   {
    "duration": 30,
    "start_time": "2022-10-19T16:43:30.101Z"
   },
   {
    "duration": 127,
    "start_time": "2022-10-19T16:43:30.133Z"
   },
   {
    "duration": 264,
    "start_time": "2022-10-19T16:43:30.262Z"
   },
   {
    "duration": 205,
    "start_time": "2022-10-19T16:43:30.528Z"
   },
   {
    "duration": 247,
    "start_time": "2022-10-19T16:43:30.735Z"
   },
   {
    "duration": 180,
    "start_time": "2022-10-19T16:43:30.985Z"
   },
   {
    "duration": 8,
    "start_time": "2022-10-19T16:43:31.167Z"
   },
   {
    "duration": 7,
    "start_time": "2022-10-19T16:43:39.785Z"
   },
   {
    "duration": 254,
    "start_time": "2022-10-19T16:44:29.806Z"
   },
   {
    "duration": 6,
    "start_time": "2022-10-19T16:44:43.094Z"
   },
   {
    "duration": 6,
    "start_time": "2022-10-19T16:45:40.249Z"
   },
   {
    "duration": 4,
    "start_time": "2022-10-19T16:46:09.258Z"
   },
   {
    "duration": 94,
    "start_time": "2022-10-19T16:47:05.787Z"
   },
   {
    "duration": 241,
    "start_time": "2022-10-19T16:47:29.075Z"
   },
   {
    "duration": 271,
    "start_time": "2022-10-19T16:49:28.651Z"
   },
   {
    "duration": 187,
    "start_time": "2022-10-19T16:49:46.679Z"
   },
   {
    "duration": 298,
    "start_time": "2022-10-19T16:49:51.933Z"
   },
   {
    "duration": 181,
    "start_time": "2022-10-19T16:51:40.125Z"
   },
   {
    "duration": 171,
    "start_time": "2022-10-19T16:51:47.056Z"
   },
   {
    "duration": 150,
    "start_time": "2022-10-19T16:51:58.021Z"
   },
   {
    "duration": 219,
    "start_time": "2022-10-19T16:52:05.941Z"
   },
   {
    "duration": 125,
    "start_time": "2022-10-19T16:52:33.780Z"
   },
   {
    "duration": 651,
    "start_time": "2022-10-19T16:52:53.240Z"
   },
   {
    "duration": 55,
    "start_time": "2022-10-19T16:52:53.893Z"
   },
   {
    "duration": 27,
    "start_time": "2022-10-19T16:52:53.950Z"
   },
   {
    "duration": 10,
    "start_time": "2022-10-19T16:52:53.979Z"
   },
   {
    "duration": 6,
    "start_time": "2022-10-19T16:52:53.990Z"
   },
   {
    "duration": 15,
    "start_time": "2022-10-19T16:52:53.998Z"
   },
   {
    "duration": 14,
    "start_time": "2022-10-19T16:52:54.015Z"
   },
   {
    "duration": 14,
    "start_time": "2022-10-19T16:52:54.054Z"
   },
   {
    "duration": 4,
    "start_time": "2022-10-19T16:52:54.070Z"
   },
   {
    "duration": 21,
    "start_time": "2022-10-19T16:52:54.077Z"
   },
   {
    "duration": 56,
    "start_time": "2022-10-19T16:52:54.099Z"
   },
   {
    "duration": 22,
    "start_time": "2022-10-19T16:52:54.157Z"
   },
   {
    "duration": 8,
    "start_time": "2022-10-19T16:52:54.181Z"
   },
   {
    "duration": 9,
    "start_time": "2022-10-19T16:52:54.191Z"
   },
   {
    "duration": 131,
    "start_time": "2022-10-19T16:52:54.202Z"
   },
   {
    "duration": 266,
    "start_time": "2022-10-19T16:52:54.334Z"
   },
   {
    "duration": 211,
    "start_time": "2022-10-19T16:52:54.601Z"
   },
   {
    "duration": 233,
    "start_time": "2022-10-19T16:52:54.814Z"
   },
   {
    "duration": 173,
    "start_time": "2022-10-19T16:52:55.048Z"
   },
   {
    "duration": 7,
    "start_time": "2022-10-19T16:52:55.222Z"
   },
   {
    "duration": 271,
    "start_time": "2022-10-19T16:52:55.230Z"
   },
   {
    "duration": 120,
    "start_time": "2022-10-19T16:52:55.503Z"
   },
   {
    "duration": 283,
    "start_time": "2022-10-19T16:52:55.625Z"
   },
   {
    "duration": 178,
    "start_time": "2022-10-19T16:52:55.910Z"
   },
   {
    "duration": 136,
    "start_time": "2022-10-19T16:52:56.090Z"
   },
   {
    "duration": 124,
    "start_time": "2022-10-19T16:53:11.197Z"
   },
   {
    "duration": 6,
    "start_time": "2022-10-19T16:58:13.389Z"
   },
   {
    "duration": 6,
    "start_time": "2022-10-19T16:58:19.792Z"
   },
   {
    "duration": 6,
    "start_time": "2022-10-19T16:59:01.394Z"
   },
   {
    "duration": 7,
    "start_time": "2022-10-19T16:59:23.319Z"
   },
   {
    "duration": 6,
    "start_time": "2022-10-19T17:00:19.002Z"
   },
   {
    "duration": 336,
    "start_time": "2022-10-19T17:00:54.773Z"
   },
   {
    "duration": 260,
    "start_time": "2022-10-19T17:01:02.596Z"
   },
   {
    "duration": 710,
    "start_time": "2022-10-19T17:01:17.229Z"
   },
   {
    "duration": 58,
    "start_time": "2022-10-19T17:01:17.941Z"
   },
   {
    "duration": 29,
    "start_time": "2022-10-19T17:01:18.001Z"
   },
   {
    "duration": 22,
    "start_time": "2022-10-19T17:01:18.033Z"
   },
   {
    "duration": 6,
    "start_time": "2022-10-19T17:01:18.056Z"
   },
   {
    "duration": 16,
    "start_time": "2022-10-19T17:01:18.064Z"
   },
   {
    "duration": 15,
    "start_time": "2022-10-19T17:01:18.082Z"
   },
   {
    "duration": 23,
    "start_time": "2022-10-19T17:01:18.099Z"
   },
   {
    "duration": 7,
    "start_time": "2022-10-19T17:01:18.154Z"
   },
   {
    "duration": 33,
    "start_time": "2022-10-19T17:01:18.165Z"
   },
   {
    "duration": 28,
    "start_time": "2022-10-19T17:01:18.200Z"
   },
   {
    "duration": 46,
    "start_time": "2022-10-19T17:01:18.230Z"
   },
   {
    "duration": 5,
    "start_time": "2022-10-19T17:01:18.278Z"
   },
   {
    "duration": 11,
    "start_time": "2022-10-19T17:01:18.285Z"
   },
   {
    "duration": 140,
    "start_time": "2022-10-19T17:01:18.297Z"
   },
   {
    "duration": 323,
    "start_time": "2022-10-19T17:01:18.439Z"
   },
   {
    "duration": 242,
    "start_time": "2022-10-19T17:01:18.764Z"
   },
   {
    "duration": 278,
    "start_time": "2022-10-19T17:01:19.008Z"
   },
   {
    "duration": 185,
    "start_time": "2022-10-19T17:01:19.288Z"
   },
   {
    "duration": 6,
    "start_time": "2022-10-19T17:01:19.475Z"
   },
   {
    "duration": 287,
    "start_time": "2022-10-19T17:01:19.483Z"
   },
   {
    "duration": 127,
    "start_time": "2022-10-19T17:01:19.773Z"
   },
   {
    "duration": 269,
    "start_time": "2022-10-19T17:01:19.902Z"
   },
   {
    "duration": 183,
    "start_time": "2022-10-19T17:01:20.173Z"
   },
   {
    "duration": 128,
    "start_time": "2022-10-19T17:01:20.357Z"
   },
   {
    "duration": 5,
    "start_time": "2022-10-19T17:01:20.487Z"
   },
   {
    "duration": 294,
    "start_time": "2022-10-19T17:01:20.494Z"
   },
   {
    "duration": 331,
    "start_time": "2022-10-19T17:01:37.211Z"
   },
   {
    "duration": 159,
    "start_time": "2022-10-19T17:01:44.399Z"
   },
   {
    "duration": 104,
    "start_time": "2022-10-19T17:02:06.460Z"
   },
   {
    "duration": 105,
    "start_time": "2022-10-19T17:03:07.462Z"
   },
   {
    "duration": 234,
    "start_time": "2022-10-19T17:03:24.418Z"
   },
   {
    "duration": 255,
    "start_time": "2022-10-19T17:03:31.584Z"
   },
   {
    "duration": 206,
    "start_time": "2022-10-19T17:04:01.129Z"
   },
   {
    "duration": 202,
    "start_time": "2022-10-19T17:04:13.621Z"
   },
   {
    "duration": 169,
    "start_time": "2022-10-19T17:04:37.709Z"
   },
   {
    "duration": 234,
    "start_time": "2022-10-19T17:05:02.372Z"
   },
   {
    "duration": 177,
    "start_time": "2022-10-19T17:05:04.061Z"
   },
   {
    "duration": 168,
    "start_time": "2022-10-19T17:05:11.149Z"
   },
   {
    "duration": 49,
    "start_time": "2022-10-19T18:29:38.270Z"
   },
   {
    "duration": 647,
    "start_time": "2022-10-19T18:31:22.258Z"
   },
   {
    "duration": 56,
    "start_time": "2022-10-19T18:31:22.907Z"
   },
   {
    "duration": 30,
    "start_time": "2022-10-19T18:31:22.965Z"
   },
   {
    "duration": 29,
    "start_time": "2022-10-19T18:31:22.998Z"
   },
   {
    "duration": 26,
    "start_time": "2022-10-19T18:31:23.029Z"
   },
   {
    "duration": 27,
    "start_time": "2022-10-19T18:31:23.057Z"
   },
   {
    "duration": 20,
    "start_time": "2022-10-19T18:31:23.086Z"
   },
   {
    "duration": 21,
    "start_time": "2022-10-19T18:31:23.108Z"
   },
   {
    "duration": 10,
    "start_time": "2022-10-19T18:31:23.131Z"
   },
   {
    "duration": 27,
    "start_time": "2022-10-19T18:31:23.144Z"
   },
   {
    "duration": 32,
    "start_time": "2022-10-19T18:31:23.173Z"
   },
   {
    "duration": 30,
    "start_time": "2022-10-19T18:31:23.207Z"
   },
   {
    "duration": 33,
    "start_time": "2022-10-19T18:31:23.239Z"
   },
   {
    "duration": 10,
    "start_time": "2022-10-19T18:31:23.274Z"
   },
   {
    "duration": 142,
    "start_time": "2022-10-19T18:31:23.285Z"
   },
   {
    "duration": 275,
    "start_time": "2022-10-19T18:31:23.429Z"
   },
   {
    "duration": 219,
    "start_time": "2022-10-19T18:31:23.706Z"
   },
   {
    "duration": 250,
    "start_time": "2022-10-19T18:31:23.927Z"
   },
   {
    "duration": 184,
    "start_time": "2022-10-19T18:31:24.179Z"
   },
   {
    "duration": 7,
    "start_time": "2022-10-19T18:31:24.365Z"
   },
   {
    "duration": 287,
    "start_time": "2022-10-19T18:31:24.374Z"
   },
   {
    "duration": 108,
    "start_time": "2022-10-19T18:31:24.663Z"
   },
   {
    "duration": 271,
    "start_time": "2022-10-19T18:31:24.773Z"
   },
   {
    "duration": 193,
    "start_time": "2022-10-19T18:31:25.047Z"
   },
   {
    "duration": 132,
    "start_time": "2022-10-19T18:31:25.242Z"
   },
   {
    "duration": 6,
    "start_time": "2022-10-19T18:31:25.376Z"
   },
   {
    "duration": 218,
    "start_time": "2022-10-19T18:31:25.384Z"
   },
   {
    "duration": 117,
    "start_time": "2022-10-19T18:31:25.606Z"
   },
   {
    "duration": 301,
    "start_time": "2022-10-19T18:31:25.724Z"
   },
   {
    "duration": 168,
    "start_time": "2022-10-19T18:31:26.027Z"
   },
   {
    "duration": 202,
    "start_time": "2022-10-19T18:31:26.197Z"
   },
   {
    "duration": 39,
    "start_time": "2022-10-19T18:31:26.401Z"
   },
   {
    "duration": 0,
    "start_time": "2022-10-19T18:31:26.442Z"
   },
   {
    "duration": 0,
    "start_time": "2022-10-19T18:31:26.443Z"
   },
   {
    "duration": 194,
    "start_time": "2022-10-19T18:31:34.043Z"
   },
   {
    "duration": 161,
    "start_time": "2022-10-19T18:31:49.155Z"
   },
   {
    "duration": 183,
    "start_time": "2022-10-19T18:31:56.869Z"
   },
   {
    "duration": 179,
    "start_time": "2022-10-19T18:32:23.806Z"
   },
   {
    "duration": 6,
    "start_time": "2022-10-19T18:32:37.670Z"
   },
   {
    "duration": 195,
    "start_time": "2022-10-19T18:32:38.709Z"
   },
   {
    "duration": 205,
    "start_time": "2022-10-19T18:32:46.456Z"
   },
   {
    "duration": 109,
    "start_time": "2022-10-19T18:33:42.674Z"
   },
   {
    "duration": 221,
    "start_time": "2022-10-19T18:33:54.102Z"
   },
   {
    "duration": 369,
    "start_time": "2022-10-19T18:34:07.762Z"
   },
   {
    "duration": 183,
    "start_time": "2022-10-19T18:34:12.870Z"
   },
   {
    "duration": 223,
    "start_time": "2022-10-19T18:34:18.356Z"
   },
   {
    "duration": 196,
    "start_time": "2022-10-19T18:34:31.056Z"
   },
   {
    "duration": 245,
    "start_time": "2022-10-19T18:34:41.257Z"
   },
   {
    "duration": 192,
    "start_time": "2022-10-19T18:34:55.819Z"
   },
   {
    "duration": 237,
    "start_time": "2022-10-19T18:35:09.011Z"
   },
   {
    "duration": 7,
    "start_time": "2022-10-19T18:35:38.884Z"
   },
   {
    "duration": 6,
    "start_time": "2022-10-19T18:35:45.139Z"
   },
   {
    "duration": 115,
    "start_time": "2022-10-19T18:36:01.593Z"
   },
   {
    "duration": 208,
    "start_time": "2022-10-19T18:36:05.633Z"
   },
   {
    "duration": 352,
    "start_time": "2022-10-19T18:36:15.174Z"
   },
   {
    "duration": 149,
    "start_time": "2022-10-19T18:36:21.642Z"
   },
   {
    "duration": 197,
    "start_time": "2022-10-19T18:36:26.499Z"
   },
   {
    "duration": 6,
    "start_time": "2022-10-19T18:36:35.776Z"
   },
   {
    "duration": 6,
    "start_time": "2022-10-19T18:36:42.502Z"
   },
   {
    "duration": 6,
    "start_time": "2022-10-19T18:36:54.561Z"
   },
   {
    "duration": 201,
    "start_time": "2022-10-19T18:37:09.748Z"
   },
   {
    "duration": 699,
    "start_time": "2022-10-19T18:37:39.590Z"
   },
   {
    "duration": 60,
    "start_time": "2022-10-19T18:37:40.291Z"
   },
   {
    "duration": 29,
    "start_time": "2022-10-19T18:37:40.353Z"
   },
   {
    "duration": 18,
    "start_time": "2022-10-19T18:37:40.384Z"
   },
   {
    "duration": 29,
    "start_time": "2022-10-19T18:37:40.403Z"
   },
   {
    "duration": 27,
    "start_time": "2022-10-19T18:37:40.434Z"
   },
   {
    "duration": 29,
    "start_time": "2022-10-19T18:37:40.463Z"
   },
   {
    "duration": 43,
    "start_time": "2022-10-19T18:37:40.494Z"
   },
   {
    "duration": 19,
    "start_time": "2022-10-19T18:37:40.539Z"
   },
   {
    "duration": 49,
    "start_time": "2022-10-19T18:37:40.561Z"
   },
   {
    "duration": 53,
    "start_time": "2022-10-19T18:37:40.612Z"
   },
   {
    "duration": 38,
    "start_time": "2022-10-19T18:37:40.666Z"
   },
   {
    "duration": 39,
    "start_time": "2022-10-19T18:37:40.706Z"
   },
   {
    "duration": 37,
    "start_time": "2022-10-19T18:37:40.747Z"
   },
   {
    "duration": 122,
    "start_time": "2022-10-19T18:37:40.786Z"
   },
   {
    "duration": 268,
    "start_time": "2022-10-19T18:37:40.910Z"
   },
   {
    "duration": 204,
    "start_time": "2022-10-19T18:37:41.180Z"
   },
   {
    "duration": 256,
    "start_time": "2022-10-19T18:37:41.387Z"
   },
   {
    "duration": 202,
    "start_time": "2022-10-19T18:37:41.646Z"
   },
   {
    "duration": 10,
    "start_time": "2022-10-19T18:37:41.850Z"
   },
   {
    "duration": 270,
    "start_time": "2022-10-19T18:37:41.862Z"
   },
   {
    "duration": 114,
    "start_time": "2022-10-19T18:37:42.134Z"
   },
   {
    "duration": 288,
    "start_time": "2022-10-19T18:37:42.250Z"
   },
   {
    "duration": 208,
    "start_time": "2022-10-19T18:37:42.540Z"
   },
   {
    "duration": 137,
    "start_time": "2022-10-19T18:37:42.750Z"
   },
   {
    "duration": 7,
    "start_time": "2022-10-19T18:37:42.889Z"
   },
   {
    "duration": 211,
    "start_time": "2022-10-19T18:37:42.898Z"
   },
   {
    "duration": 122,
    "start_time": "2022-10-19T18:37:43.119Z"
   },
   {
    "duration": 302,
    "start_time": "2022-10-19T18:37:43.243Z"
   },
   {
    "duration": 186,
    "start_time": "2022-10-19T18:37:43.547Z"
   },
   {
    "duration": 219,
    "start_time": "2022-10-19T18:37:43.736Z"
   },
   {
    "duration": 8,
    "start_time": "2022-10-19T18:37:43.957Z"
   },
   {
    "duration": 242,
    "start_time": "2022-10-19T18:37:43.967Z"
   },
   {
    "duration": 122,
    "start_time": "2022-10-19T18:37:44.211Z"
   },
   {
    "duration": 273,
    "start_time": "2022-10-19T18:37:44.335Z"
   },
   {
    "duration": 174,
    "start_time": "2022-10-19T18:37:44.610Z"
   },
   {
    "duration": 206,
    "start_time": "2022-10-19T18:37:44.786Z"
   },
   {
    "duration": 5,
    "start_time": "2022-10-19T18:37:44.994Z"
   },
   {
    "duration": 228,
    "start_time": "2022-10-19T18:37:45.001Z"
   },
   {
    "duration": 11,
    "start_time": "2022-10-19T18:38:51.373Z"
   },
   {
    "duration": 205,
    "start_time": "2022-10-19T18:39:20.030Z"
   },
   {
    "duration": 286,
    "start_time": "2022-10-19T18:39:44.780Z"
   },
   {
    "duration": 211,
    "start_time": "2022-10-19T18:40:13.745Z"
   },
   {
    "duration": 78,
    "start_time": "2022-10-19T18:42:29.799Z"
   },
   {
    "duration": 7,
    "start_time": "2022-10-19T18:42:48.138Z"
   },
   {
    "duration": 5,
    "start_time": "2022-10-19T18:43:10.606Z"
   },
   {
    "duration": 9,
    "start_time": "2022-10-19T18:43:29.772Z"
   },
   {
    "duration": 6,
    "start_time": "2022-10-19T18:43:42.090Z"
   },
   {
    "duration": 7,
    "start_time": "2022-10-19T18:43:55.307Z"
   },
   {
    "duration": 7,
    "start_time": "2022-10-19T18:44:22.085Z"
   },
   {
    "duration": 8,
    "start_time": "2022-10-19T18:44:37.653Z"
   },
   {
    "duration": 22,
    "start_time": "2022-10-19T18:47:47.564Z"
   },
   {
    "duration": 26,
    "start_time": "2022-10-19T18:50:45.291Z"
   },
   {
    "duration": 21,
    "start_time": "2022-10-19T18:51:24.768Z"
   },
   {
    "duration": 4,
    "start_time": "2022-10-19T18:59:11.237Z"
   },
   {
    "duration": 49,
    "start_time": "2022-10-19T18:59:25.090Z"
   },
   {
    "duration": 48,
    "start_time": "2022-10-19T18:59:39.941Z"
   },
   {
    "duration": 33,
    "start_time": "2022-10-19T19:01:33.628Z"
   },
   {
    "duration": 30,
    "start_time": "2022-10-19T19:02:02.958Z"
   },
   {
    "duration": 27,
    "start_time": "2022-10-19T19:04:37.362Z"
   },
   {
    "duration": 984,
    "start_time": "2022-10-19T19:08:17.892Z"
   },
   {
    "duration": 30,
    "start_time": "2022-10-19T19:08:30.744Z"
   },
   {
    "duration": 13,
    "start_time": "2022-10-19T19:08:35.055Z"
   },
   {
    "duration": 8,
    "start_time": "2022-10-19T19:13:45.641Z"
   },
   {
    "duration": 10,
    "start_time": "2022-10-19T19:14:18.553Z"
   },
   {
    "duration": 236,
    "start_time": "2022-10-19T19:16:01.459Z"
   },
   {
    "duration": 171,
    "start_time": "2022-10-19T19:16:11.354Z"
   },
   {
    "duration": 186,
    "start_time": "2022-10-19T19:16:23.954Z"
   },
   {
    "duration": 201,
    "start_time": "2022-10-19T19:17:58.481Z"
   },
   {
    "duration": 10,
    "start_time": "2022-10-19T19:25:10.630Z"
   },
   {
    "duration": 5,
    "start_time": "2022-10-19T19:30:53.676Z"
   },
   {
    "duration": 13,
    "start_time": "2022-10-19T19:31:04.125Z"
   },
   {
    "duration": 13,
    "start_time": "2022-10-19T19:31:34.664Z"
   },
   {
    "duration": 10,
    "start_time": "2022-10-19T19:32:28.426Z"
   },
   {
    "duration": 12,
    "start_time": "2022-10-19T19:32:53.842Z"
   },
   {
    "duration": 21,
    "start_time": "2022-10-19T19:34:06.919Z"
   },
   {
    "duration": 14,
    "start_time": "2022-10-19T19:35:05.393Z"
   },
   {
    "duration": 14,
    "start_time": "2022-10-19T19:35:09.986Z"
   },
   {
    "duration": 9,
    "start_time": "2022-10-19T19:35:12.855Z"
   },
   {
    "duration": 8,
    "start_time": "2022-10-19T19:35:13.401Z"
   },
   {
    "duration": 25,
    "start_time": "2022-10-19T19:35:14.015Z"
   },
   {
    "duration": 650,
    "start_time": "2022-10-19T19:38:44.434Z"
   },
   {
    "duration": 62,
    "start_time": "2022-10-19T19:38:45.087Z"
   },
   {
    "duration": 26,
    "start_time": "2022-10-19T19:38:45.151Z"
   },
   {
    "duration": 9,
    "start_time": "2022-10-19T19:38:45.179Z"
   },
   {
    "duration": 17,
    "start_time": "2022-10-19T19:38:45.190Z"
   },
   {
    "duration": 25,
    "start_time": "2022-10-19T19:38:45.208Z"
   },
   {
    "duration": 18,
    "start_time": "2022-10-19T19:38:45.235Z"
   },
   {
    "duration": 16,
    "start_time": "2022-10-19T19:38:45.255Z"
   },
   {
    "duration": 5,
    "start_time": "2022-10-19T19:38:45.273Z"
   },
   {
    "duration": 21,
    "start_time": "2022-10-19T19:38:45.280Z"
   },
   {
    "duration": 52,
    "start_time": "2022-10-19T19:38:45.303Z"
   },
   {
    "duration": 22,
    "start_time": "2022-10-19T19:38:45.357Z"
   },
   {
    "duration": 9,
    "start_time": "2022-10-19T19:38:45.380Z"
   },
   {
    "duration": 11,
    "start_time": "2022-10-19T19:38:45.391Z"
   },
   {
    "duration": 145,
    "start_time": "2022-10-19T19:38:45.403Z"
   },
   {
    "duration": 292,
    "start_time": "2022-10-19T19:38:45.549Z"
   },
   {
    "duration": 208,
    "start_time": "2022-10-19T19:38:45.843Z"
   },
   {
    "duration": 300,
    "start_time": "2022-10-19T19:38:46.053Z"
   },
   {
    "duration": 218,
    "start_time": "2022-10-19T19:38:46.356Z"
   },
   {
    "duration": 7,
    "start_time": "2022-10-19T19:38:46.576Z"
   },
   {
    "duration": 271,
    "start_time": "2022-10-19T19:38:46.585Z"
   },
   {
    "duration": 109,
    "start_time": "2022-10-19T19:38:46.858Z"
   },
   {
    "duration": 263,
    "start_time": "2022-10-19T19:38:46.969Z"
   },
   {
    "duration": 174,
    "start_time": "2022-10-19T19:38:47.234Z"
   },
   {
    "duration": 133,
    "start_time": "2022-10-19T19:38:47.410Z"
   },
   {
    "duration": 6,
    "start_time": "2022-10-19T19:38:47.544Z"
   },
   {
    "duration": 185,
    "start_time": "2022-10-19T19:38:47.552Z"
   },
   {
    "duration": 117,
    "start_time": "2022-10-19T19:38:47.741Z"
   },
   {
    "duration": 296,
    "start_time": "2022-10-19T19:38:47.861Z"
   },
   {
    "duration": 181,
    "start_time": "2022-10-19T19:38:48.159Z"
   },
   {
    "duration": 196,
    "start_time": "2022-10-19T19:38:48.342Z"
   },
   {
    "duration": 5,
    "start_time": "2022-10-19T19:38:48.541Z"
   },
   {
    "duration": 206,
    "start_time": "2022-10-19T19:38:48.548Z"
   },
   {
    "duration": 122,
    "start_time": "2022-10-19T19:38:48.756Z"
   },
   {
    "duration": 358,
    "start_time": "2022-10-19T19:38:48.880Z"
   },
   {
    "duration": 169,
    "start_time": "2022-10-19T19:38:49.240Z"
   },
   {
    "duration": 195,
    "start_time": "2022-10-19T19:38:49.411Z"
   },
   {
    "duration": 25,
    "start_time": "2022-10-19T19:38:49.608Z"
   },
   {
    "duration": 206,
    "start_time": "2022-10-19T19:38:49.637Z"
   },
   {
    "duration": 12,
    "start_time": "2022-10-19T19:38:49.845Z"
   },
   {
    "duration": 200,
    "start_time": "2022-10-19T19:38:49.858Z"
   },
   {
    "duration": 304,
    "start_time": "2022-10-19T19:38:50.060Z"
   },
   {
    "duration": 210,
    "start_time": "2022-10-19T19:38:50.366Z"
   },
   {
    "duration": 31,
    "start_time": "2022-10-19T19:38:50.578Z"
   },
   {
    "duration": 32,
    "start_time": "2022-10-19T19:38:50.620Z"
   },
   {
    "duration": 25,
    "start_time": "2022-10-19T19:38:50.654Z"
   },
   {
    "duration": 55,
    "start_time": "2022-10-19T19:38:50.681Z"
   },
   {
    "duration": 47,
    "start_time": "2022-10-19T19:38:50.738Z"
   },
   {
    "duration": 29,
    "start_time": "2022-10-19T19:38:50.787Z"
   },
   {
    "duration": 234,
    "start_time": "2022-10-19T19:38:50.818Z"
   },
   {
    "duration": 10,
    "start_time": "2022-10-19T19:38:51.054Z"
   },
   {
    "duration": 21,
    "start_time": "2022-10-19T19:38:51.066Z"
   },
   {
    "duration": 25,
    "start_time": "2022-10-19T19:38:51.089Z"
   },
   {
    "duration": 37,
    "start_time": "2022-10-19T19:38:51.116Z"
   },
   {
    "duration": 23,
    "start_time": "2022-10-19T19:38:51.155Z"
   },
   {
    "duration": 44,
    "start_time": "2022-10-19T19:38:51.181Z"
   },
   {
    "duration": 13,
    "start_time": "2022-10-19T19:52:30.689Z"
   },
   {
    "duration": 615,
    "start_time": "2022-10-19T19:52:40.335Z"
   },
   {
    "duration": 56,
    "start_time": "2022-10-19T19:52:40.952Z"
   },
   {
    "duration": 29,
    "start_time": "2022-10-19T19:52:41.010Z"
   },
   {
    "duration": 9,
    "start_time": "2022-10-19T19:52:41.042Z"
   },
   {
    "duration": 11,
    "start_time": "2022-10-19T19:52:41.052Z"
   },
   {
    "duration": 17,
    "start_time": "2022-10-19T19:52:41.065Z"
   },
   {
    "duration": 14,
    "start_time": "2022-10-19T19:52:41.084Z"
   },
   {
    "duration": 13,
    "start_time": "2022-10-19T19:52:41.121Z"
   },
   {
    "duration": 5,
    "start_time": "2022-10-19T19:52:41.136Z"
   },
   {
    "duration": 26,
    "start_time": "2022-10-19T19:52:41.144Z"
   },
   {
    "duration": 13,
    "start_time": "2022-10-19T19:52:41.172Z"
   },
   {
    "duration": 36,
    "start_time": "2022-10-19T19:52:41.186Z"
   },
   {
    "duration": 29,
    "start_time": "2022-10-19T19:52:41.224Z"
   },
   {
    "duration": 110,
    "start_time": "2022-10-19T19:52:41.255Z"
   },
   {
    "duration": 249,
    "start_time": "2022-10-19T19:52:41.366Z"
   },
   {
    "duration": 220,
    "start_time": "2022-10-19T19:52:41.620Z"
   },
   {
    "duration": 241,
    "start_time": "2022-10-19T19:52:41.843Z"
   },
   {
    "duration": 177,
    "start_time": "2022-10-19T19:52:42.086Z"
   },
   {
    "duration": 6,
    "start_time": "2022-10-19T19:52:42.265Z"
   },
   {
    "duration": 276,
    "start_time": "2022-10-19T19:52:42.273Z"
   },
   {
    "duration": 108,
    "start_time": "2022-10-19T19:52:42.551Z"
   },
   {
    "duration": 274,
    "start_time": "2022-10-19T19:52:42.661Z"
   },
   {
    "duration": 168,
    "start_time": "2022-10-19T19:52:42.936Z"
   },
   {
    "duration": 147,
    "start_time": "2022-10-19T19:52:43.106Z"
   },
   {
    "duration": 7,
    "start_time": "2022-10-19T19:52:43.255Z"
   },
   {
    "duration": 180,
    "start_time": "2022-10-19T19:52:43.263Z"
   },
   {
    "duration": 109,
    "start_time": "2022-10-19T19:52:43.444Z"
   },
   {
    "duration": 271,
    "start_time": "2022-10-19T19:52:43.557Z"
   },
   {
    "duration": 165,
    "start_time": "2022-10-19T19:52:43.830Z"
   },
   {
    "duration": 183,
    "start_time": "2022-10-19T19:52:43.997Z"
   },
   {
    "duration": 6,
    "start_time": "2022-10-19T19:52:44.181Z"
   },
   {
    "duration": 199,
    "start_time": "2022-10-19T19:52:44.189Z"
   },
   {
    "duration": 114,
    "start_time": "2022-10-19T19:52:44.389Z"
   },
   {
    "duration": 240,
    "start_time": "2022-10-19T19:52:44.505Z"
   },
   {
    "duration": 150,
    "start_time": "2022-10-19T19:52:44.747Z"
   },
   {
    "duration": 179,
    "start_time": "2022-10-19T19:52:44.900Z"
   },
   {
    "duration": 5,
    "start_time": "2022-10-19T19:52:45.081Z"
   },
   {
    "duration": 199,
    "start_time": "2022-10-19T19:52:45.088Z"
   },
   {
    "duration": 11,
    "start_time": "2022-10-19T19:52:45.289Z"
   },
   {
    "duration": 200,
    "start_time": "2022-10-19T19:52:45.301Z"
   },
   {
    "duration": 289,
    "start_time": "2022-10-19T19:52:45.503Z"
   },
   {
    "duration": 257,
    "start_time": "2022-10-19T19:52:45.794Z"
   },
   {
    "duration": 22,
    "start_time": "2022-10-19T19:52:46.053Z"
   },
   {
    "duration": 63,
    "start_time": "2022-10-19T19:52:46.077Z"
   },
   {
    "duration": 23,
    "start_time": "2022-10-19T19:52:46.141Z"
   },
   {
    "duration": 42,
    "start_time": "2022-10-19T19:52:46.166Z"
   },
   {
    "duration": 38,
    "start_time": "2022-10-19T19:52:46.210Z"
   },
   {
    "duration": 12,
    "start_time": "2022-10-19T19:52:46.249Z"
   },
   {
    "duration": 179,
    "start_time": "2022-10-19T19:52:46.263Z"
   },
   {
    "duration": 11,
    "start_time": "2022-10-19T19:52:46.443Z"
   },
   {
    "duration": 24,
    "start_time": "2022-10-19T19:52:46.456Z"
   },
   {
    "duration": 20,
    "start_time": "2022-10-19T19:52:46.481Z"
   },
   {
    "duration": 13,
    "start_time": "2022-10-19T19:52:46.503Z"
   },
   {
    "duration": 24,
    "start_time": "2022-10-19T19:52:46.521Z"
   },
   {
    "duration": 44,
    "start_time": "2022-10-19T19:52:46.546Z"
   },
   {
    "duration": 636,
    "start_time": "2022-10-19T20:27:11.723Z"
   },
   {
    "duration": 62,
    "start_time": "2022-10-19T20:27:12.361Z"
   },
   {
    "duration": 25,
    "start_time": "2022-10-19T20:27:12.424Z"
   },
   {
    "duration": 9,
    "start_time": "2022-10-19T20:27:12.450Z"
   },
   {
    "duration": 5,
    "start_time": "2022-10-19T20:27:12.460Z"
   },
   {
    "duration": 11,
    "start_time": "2022-10-19T20:27:12.466Z"
   },
   {
    "duration": 46,
    "start_time": "2022-10-19T20:27:12.478Z"
   },
   {
    "duration": 17,
    "start_time": "2022-10-19T20:27:12.526Z"
   },
   {
    "duration": 6,
    "start_time": "2022-10-19T20:27:12.545Z"
   },
   {
    "duration": 28,
    "start_time": "2022-10-19T20:27:12.553Z"
   },
   {
    "duration": 28,
    "start_time": "2022-10-19T20:27:12.583Z"
   },
   {
    "duration": 16,
    "start_time": "2022-10-19T20:27:12.621Z"
   },
   {
    "duration": 17,
    "start_time": "2022-10-19T20:27:12.639Z"
   },
   {
    "duration": 124,
    "start_time": "2022-10-19T20:27:12.660Z"
   },
   {
    "duration": 252,
    "start_time": "2022-10-19T20:27:12.785Z"
   },
   {
    "duration": 183,
    "start_time": "2022-10-19T20:27:13.039Z"
   },
   {
    "duration": 212,
    "start_time": "2022-10-19T20:27:13.224Z"
   },
   {
    "duration": 155,
    "start_time": "2022-10-19T20:27:13.438Z"
   },
   {
    "duration": 21,
    "start_time": "2022-10-19T20:27:13.594Z"
   },
   {
    "duration": 229,
    "start_time": "2022-10-19T20:27:13.617Z"
   },
   {
    "duration": 108,
    "start_time": "2022-10-19T20:27:13.847Z"
   },
   {
    "duration": 225,
    "start_time": "2022-10-19T20:27:13.956Z"
   },
   {
    "duration": 160,
    "start_time": "2022-10-19T20:27:14.183Z"
   },
   {
    "duration": 103,
    "start_time": "2022-10-19T20:27:14.345Z"
   },
   {
    "duration": 5,
    "start_time": "2022-10-19T20:27:14.449Z"
   },
   {
    "duration": 168,
    "start_time": "2022-10-19T20:27:14.455Z"
   },
   {
    "duration": 114,
    "start_time": "2022-10-19T20:27:14.625Z"
   },
   {
    "duration": 247,
    "start_time": "2022-10-19T20:27:14.741Z"
   },
   {
    "duration": 148,
    "start_time": "2022-10-19T20:27:14.990Z"
   },
   {
    "duration": 164,
    "start_time": "2022-10-19T20:27:15.140Z"
   },
   {
    "duration": 13,
    "start_time": "2022-10-19T20:27:15.312Z"
   },
   {
    "duration": 166,
    "start_time": "2022-10-19T20:27:15.327Z"
   },
   {
    "duration": 99,
    "start_time": "2022-10-19T20:27:15.495Z"
   },
   {
    "duration": 232,
    "start_time": "2022-10-19T20:27:15.595Z"
   },
   {
    "duration": 132,
    "start_time": "2022-10-19T20:27:15.840Z"
   },
   {
    "duration": 163,
    "start_time": "2022-10-19T20:27:15.974Z"
   },
   {
    "duration": 5,
    "start_time": "2022-10-19T20:27:16.138Z"
   },
   {
    "duration": 190,
    "start_time": "2022-10-19T20:27:16.144Z"
   },
   {
    "duration": 13,
    "start_time": "2022-10-19T20:27:16.336Z"
   },
   {
    "duration": 184,
    "start_time": "2022-10-19T20:27:16.351Z"
   },
   {
    "duration": 245,
    "start_time": "2022-10-19T20:27:16.540Z"
   },
   {
    "duration": 189,
    "start_time": "2022-10-19T20:27:16.786Z"
   },
   {
    "duration": 19,
    "start_time": "2022-10-19T20:27:16.977Z"
   },
   {
    "duration": 32,
    "start_time": "2022-10-19T20:27:16.997Z"
   },
   {
    "duration": 40,
    "start_time": "2022-10-19T20:27:17.031Z"
   },
   {
    "duration": 26,
    "start_time": "2022-10-19T20:27:17.072Z"
   },
   {
    "duration": 28,
    "start_time": "2022-10-19T20:27:17.100Z"
   },
   {
    "duration": 26,
    "start_time": "2022-10-19T20:27:17.130Z"
   },
   {
    "duration": 166,
    "start_time": "2022-10-19T20:27:17.158Z"
   },
   {
    "duration": 9,
    "start_time": "2022-10-19T20:27:17.326Z"
   },
   {
    "duration": 15,
    "start_time": "2022-10-19T20:27:17.337Z"
   },
   {
    "duration": 10,
    "start_time": "2022-10-19T20:27:17.353Z"
   },
   {
    "duration": 34,
    "start_time": "2022-10-19T20:27:17.365Z"
   },
   {
    "duration": 29,
    "start_time": "2022-10-19T20:27:17.401Z"
   },
   {
    "duration": 17,
    "start_time": "2022-10-19T20:27:17.432Z"
   },
   {
    "duration": 49,
    "start_time": "2022-10-20T14:28:47.250Z"
   },
   {
    "duration": 6,
    "start_time": "2022-10-20T14:28:54.390Z"
   },
   {
    "duration": 894,
    "start_time": "2022-10-20T14:29:00.253Z"
   },
   {
    "duration": 208,
    "start_time": "2022-10-20T14:29:01.149Z"
   },
   {
    "duration": 30,
    "start_time": "2022-10-20T14:29:01.359Z"
   },
   {
    "duration": 11,
    "start_time": "2022-10-20T14:29:01.391Z"
   },
   {
    "duration": 17,
    "start_time": "2022-10-20T14:29:01.403Z"
   },
   {
    "duration": 42,
    "start_time": "2022-10-20T14:29:01.422Z"
   },
   {
    "duration": 37,
    "start_time": "2022-10-20T14:29:01.466Z"
   },
   {
    "duration": 40,
    "start_time": "2022-10-20T14:29:01.505Z"
   },
   {
    "duration": 5,
    "start_time": "2022-10-20T14:29:01.547Z"
   },
   {
    "duration": 44,
    "start_time": "2022-10-20T14:29:01.555Z"
   },
   {
    "duration": 29,
    "start_time": "2022-10-20T14:29:01.601Z"
   },
   {
    "duration": 12,
    "start_time": "2022-10-20T14:29:01.632Z"
   },
   {
    "duration": 18,
    "start_time": "2022-10-20T14:29:01.646Z"
   },
   {
    "duration": 125,
    "start_time": "2022-10-20T14:29:01.666Z"
   },
   {
    "duration": 269,
    "start_time": "2022-10-20T14:29:01.793Z"
   },
   {
    "duration": 197,
    "start_time": "2022-10-20T14:29:02.064Z"
   },
   {
    "duration": 255,
    "start_time": "2022-10-20T14:29:02.263Z"
   },
   {
    "duration": 181,
    "start_time": "2022-10-20T14:29:02.520Z"
   },
   {
    "duration": 6,
    "start_time": "2022-10-20T14:29:02.703Z"
   },
   {
    "duration": 264,
    "start_time": "2022-10-20T14:29:02.711Z"
   },
   {
    "duration": 115,
    "start_time": "2022-10-20T14:29:02.977Z"
   },
   {
    "duration": 252,
    "start_time": "2022-10-20T14:29:03.094Z"
   },
   {
    "duration": 167,
    "start_time": "2022-10-20T14:29:03.348Z"
   },
   {
    "duration": 134,
    "start_time": "2022-10-20T14:29:03.517Z"
   },
   {
    "duration": 5,
    "start_time": "2022-10-20T14:29:03.653Z"
   },
   {
    "duration": 183,
    "start_time": "2022-10-20T14:29:03.660Z"
   },
   {
    "duration": 110,
    "start_time": "2022-10-20T14:29:03.845Z"
   },
   {
    "duration": 308,
    "start_time": "2022-10-20T14:29:03.959Z"
   },
   {
    "duration": 187,
    "start_time": "2022-10-20T14:29:04.268Z"
   },
   {
    "duration": 201,
    "start_time": "2022-10-20T14:29:04.457Z"
   },
   {
    "duration": 6,
    "start_time": "2022-10-20T14:29:04.660Z"
   },
   {
    "duration": 204,
    "start_time": "2022-10-20T14:29:04.668Z"
   },
   {
    "duration": 109,
    "start_time": "2022-10-20T14:29:04.874Z"
   },
   {
    "duration": 262,
    "start_time": "2022-10-20T14:29:04.991Z"
   },
   {
    "duration": 173,
    "start_time": "2022-10-20T14:29:05.256Z"
   },
   {
    "duration": 194,
    "start_time": "2022-10-20T14:29:05.431Z"
   },
   {
    "duration": 5,
    "start_time": "2022-10-20T14:29:05.626Z"
   },
   {
    "duration": 201,
    "start_time": "2022-10-20T14:29:05.633Z"
   },
   {
    "duration": 11,
    "start_time": "2022-10-20T14:29:05.836Z"
   },
   {
    "duration": 192,
    "start_time": "2022-10-20T14:29:05.849Z"
   },
   {
    "duration": 320,
    "start_time": "2022-10-20T14:29:06.043Z"
   },
   {
    "duration": 216,
    "start_time": "2022-10-20T14:29:06.364Z"
   },
   {
    "duration": 36,
    "start_time": "2022-10-20T14:29:06.582Z"
   },
   {
    "duration": 29,
    "start_time": "2022-10-20T14:29:06.620Z"
   },
   {
    "duration": 54,
    "start_time": "2022-10-20T14:29:06.652Z"
   },
   {
    "duration": 37,
    "start_time": "2022-10-20T14:29:06.708Z"
   },
   {
    "duration": 56,
    "start_time": "2022-10-20T14:29:06.747Z"
   },
   {
    "duration": 14,
    "start_time": "2022-10-20T14:29:06.805Z"
   },
   {
    "duration": 226,
    "start_time": "2022-10-20T14:29:06.822Z"
   },
   {
    "duration": 12,
    "start_time": "2022-10-20T14:29:07.049Z"
   },
   {
    "duration": 29,
    "start_time": "2022-10-20T14:29:07.063Z"
   },
   {
    "duration": 13,
    "start_time": "2022-10-20T14:29:07.094Z"
   },
   {
    "duration": 10,
    "start_time": "2022-10-20T14:29:07.109Z"
   },
   {
    "duration": 29,
    "start_time": "2022-10-20T14:29:07.121Z"
   },
   {
    "duration": 27,
    "start_time": "2022-10-20T14:29:07.152Z"
   },
   {
    "duration": 279,
    "start_time": "2022-10-20T14:29:07.182Z"
   },
   {
    "duration": 325,
    "start_time": "2022-10-20T14:29:28.766Z"
   },
   {
    "duration": 218,
    "start_time": "2022-10-20T14:29:38.420Z"
   },
   {
    "duration": 195,
    "start_time": "2022-10-20T14:30:10.841Z"
   },
   {
    "duration": 12,
    "start_time": "2022-10-20T14:30:36.528Z"
   },
   {
    "duration": 87,
    "start_time": "2022-10-20T14:57:50.482Z"
   },
   {
    "duration": 299,
    "start_time": "2022-10-20T14:58:00.195Z"
   },
   {
    "duration": 310,
    "start_time": "2022-10-20T14:58:14.166Z"
   },
   {
    "duration": 16,
    "start_time": "2022-10-20T14:58:30.490Z"
   },
   {
    "duration": 318,
    "start_time": "2022-10-20T14:58:55.083Z"
   },
   {
    "duration": 305,
    "start_time": "2022-10-20T14:59:00.909Z"
   },
   {
    "duration": 298,
    "start_time": "2022-10-20T14:59:09.648Z"
   },
   {
    "duration": 24,
    "start_time": "2022-10-20T14:59:27.124Z"
   },
   {
    "duration": 10,
    "start_time": "2022-10-20T14:59:49.709Z"
   },
   {
    "duration": 13,
    "start_time": "2022-10-20T15:07:44.234Z"
   },
   {
    "duration": 9,
    "start_time": "2022-10-20T15:08:00.155Z"
   },
   {
    "duration": 6,
    "start_time": "2022-10-20T15:08:47.480Z"
   },
   {
    "duration": 14,
    "start_time": "2022-10-20T15:08:51.387Z"
   },
   {
    "duration": 18,
    "start_time": "2022-10-20T15:09:38.908Z"
   },
   {
    "duration": 88,
    "start_time": "2022-10-20T15:10:09.789Z"
   },
   {
    "duration": 24,
    "start_time": "2022-10-20T15:10:13.352Z"
   },
   {
    "duration": 27,
    "start_time": "2022-10-20T15:10:44.185Z"
   },
   {
    "duration": 1042,
    "start_time": "2022-10-20T15:12:20.223Z"
   },
   {
    "duration": 14,
    "start_time": "2022-10-20T15:14:08.607Z"
   },
   {
    "duration": 16,
    "start_time": "2022-10-20T15:14:22.080Z"
   },
   {
    "duration": 19,
    "start_time": "2022-10-20T15:14:44.475Z"
   },
   {
    "duration": 15,
    "start_time": "2022-10-20T15:15:17.688Z"
   },
   {
    "duration": 11,
    "start_time": "2022-10-20T15:16:36.216Z"
   },
   {
    "duration": 293,
    "start_time": "2022-10-20T15:16:37.469Z"
   },
   {
    "duration": 14,
    "start_time": "2022-10-20T15:16:45.661Z"
   },
   {
    "duration": 25,
    "start_time": "2022-10-20T15:16:55.448Z"
   },
   {
    "duration": 33,
    "start_time": "2022-10-20T15:19:01.712Z"
   },
   {
    "duration": 34,
    "start_time": "2022-10-20T15:19:15.772Z"
   },
   {
    "duration": 689,
    "start_time": "2022-10-20T15:23:23.591Z"
   },
   {
    "duration": 67,
    "start_time": "2022-10-20T15:23:24.281Z"
   },
   {
    "duration": 29,
    "start_time": "2022-10-20T15:23:24.350Z"
   },
   {
    "duration": 14,
    "start_time": "2022-10-20T15:23:24.381Z"
   },
   {
    "duration": 10,
    "start_time": "2022-10-20T15:23:24.397Z"
   },
   {
    "duration": 16,
    "start_time": "2022-10-20T15:23:24.409Z"
   },
   {
    "duration": 16,
    "start_time": "2022-10-20T15:23:24.428Z"
   },
   {
    "duration": 19,
    "start_time": "2022-10-20T15:23:24.446Z"
   },
   {
    "duration": 5,
    "start_time": "2022-10-20T15:23:24.492Z"
   },
   {
    "duration": 31,
    "start_time": "2022-10-20T15:23:24.500Z"
   },
   {
    "duration": 14,
    "start_time": "2022-10-20T15:23:24.533Z"
   },
   {
    "duration": 7,
    "start_time": "2022-10-20T15:23:24.550Z"
   },
   {
    "duration": 11,
    "start_time": "2022-10-20T15:23:24.590Z"
   },
   {
    "duration": 123,
    "start_time": "2022-10-20T15:23:24.603Z"
   },
   {
    "duration": 281,
    "start_time": "2022-10-20T15:23:24.728Z"
   },
   {
    "duration": 229,
    "start_time": "2022-10-20T15:23:25.011Z"
   },
   {
    "duration": 266,
    "start_time": "2022-10-20T15:23:25.241Z"
   },
   {
    "duration": 242,
    "start_time": "2022-10-20T15:23:25.509Z"
   },
   {
    "duration": 7,
    "start_time": "2022-10-20T15:23:25.753Z"
   },
   {
    "duration": 260,
    "start_time": "2022-10-20T15:23:25.761Z"
   },
   {
    "duration": 107,
    "start_time": "2022-10-20T15:23:26.022Z"
   },
   {
    "duration": 248,
    "start_time": "2022-10-20T15:23:26.131Z"
   },
   {
    "duration": 165,
    "start_time": "2022-10-20T15:23:26.381Z"
   },
   {
    "duration": 157,
    "start_time": "2022-10-20T15:23:26.548Z"
   },
   {
    "duration": 6,
    "start_time": "2022-10-20T15:23:26.707Z"
   },
   {
    "duration": 218,
    "start_time": "2022-10-20T15:23:26.715Z"
   },
   {
    "duration": 109,
    "start_time": "2022-10-20T15:23:26.935Z"
   },
   {
    "duration": 291,
    "start_time": "2022-10-20T15:23:27.048Z"
   },
   {
    "duration": 173,
    "start_time": "2022-10-20T15:23:27.341Z"
   },
   {
    "duration": 186,
    "start_time": "2022-10-20T15:23:27.515Z"
   },
   {
    "duration": 6,
    "start_time": "2022-10-20T15:23:27.703Z"
   },
   {
    "duration": 224,
    "start_time": "2022-10-20T15:23:27.711Z"
   },
   {
    "duration": 113,
    "start_time": "2022-10-20T15:23:27.937Z"
   },
   {
    "duration": 269,
    "start_time": "2022-10-20T15:23:28.051Z"
   },
   {
    "duration": 177,
    "start_time": "2022-10-20T15:23:28.322Z"
   },
   {
    "duration": 249,
    "start_time": "2022-10-20T15:23:28.501Z"
   },
   {
    "duration": 7,
    "start_time": "2022-10-20T15:23:28.752Z"
   },
   {
    "duration": 239,
    "start_time": "2022-10-20T15:23:28.760Z"
   },
   {
    "duration": 11,
    "start_time": "2022-10-20T15:23:29.000Z"
   },
   {
    "duration": 230,
    "start_time": "2022-10-20T15:23:29.013Z"
   },
   {
    "duration": 303,
    "start_time": "2022-10-20T15:23:29.245Z"
   },
   {
    "duration": 237,
    "start_time": "2022-10-20T15:23:29.550Z"
   },
   {
    "duration": 23,
    "start_time": "2022-10-20T15:23:29.791Z"
   },
   {
    "duration": 52,
    "start_time": "2022-10-20T15:23:29.816Z"
   },
   {
    "duration": 45,
    "start_time": "2022-10-20T15:23:29.870Z"
   },
   {
    "duration": 44,
    "start_time": "2022-10-20T15:23:29.917Z"
   },
   {
    "duration": 40,
    "start_time": "2022-10-20T15:23:29.963Z"
   },
   {
    "duration": 20,
    "start_time": "2022-10-20T15:23:30.005Z"
   },
   {
    "duration": 192,
    "start_time": "2022-10-20T15:23:30.027Z"
   },
   {
    "duration": 12,
    "start_time": "2022-10-20T15:23:30.221Z"
   },
   {
    "duration": 17,
    "start_time": "2022-10-20T15:23:30.235Z"
   },
   {
    "duration": 13,
    "start_time": "2022-10-20T15:23:30.254Z"
   },
   {
    "duration": 13,
    "start_time": "2022-10-20T15:23:30.290Z"
   },
   {
    "duration": 23,
    "start_time": "2022-10-20T15:23:30.306Z"
   },
   {
    "duration": 15,
    "start_time": "2022-10-20T15:23:30.333Z"
   },
   {
    "duration": 263,
    "start_time": "2022-10-20T15:23:30.350Z"
   },
   {
    "duration": 12,
    "start_time": "2022-10-20T15:23:30.615Z"
   },
   {
    "duration": 22,
    "start_time": "2022-10-20T15:23:30.628Z"
   },
   {
    "duration": 326,
    "start_time": "2022-10-20T15:23:30.652Z"
   },
   {
    "duration": 31805,
    "start_time": "2022-10-20T15:23:30.980Z"
   },
   {
    "duration": 106,
    "start_time": "2022-10-20T15:24:02.787Z"
   },
   {
    "duration": 140,
    "start_time": "2022-10-20T15:24:51.074Z"
   },
   {
    "duration": 142,
    "start_time": "2022-10-20T15:25:08.674Z"
   },
   {
    "duration": 205,
    "start_time": "2022-10-20T15:25:47.359Z"
   },
   {
    "duration": 30,
    "start_time": "2022-10-20T15:29:36.538Z"
   },
   {
    "duration": 23,
    "start_time": "2022-10-20T15:30:03.442Z"
   },
   {
    "duration": 159,
    "start_time": "2022-10-20T15:32:19.655Z"
   },
   {
    "duration": 140,
    "start_time": "2022-10-20T15:32:36.743Z"
   },
   {
    "duration": 137,
    "start_time": "2022-10-20T15:32:47.353Z"
   },
   {
    "duration": 133,
    "start_time": "2022-10-20T15:32:57.112Z"
   },
   {
    "duration": 131,
    "start_time": "2022-10-20T15:35:01.188Z"
   },
   {
    "duration": 750,
    "start_time": "2022-10-20T15:35:18.174Z"
   },
   {
    "duration": 64,
    "start_time": "2022-10-20T15:35:18.926Z"
   },
   {
    "duration": 26,
    "start_time": "2022-10-20T15:35:18.992Z"
   },
   {
    "duration": 9,
    "start_time": "2022-10-20T15:35:19.020Z"
   },
   {
    "duration": 5,
    "start_time": "2022-10-20T15:35:19.030Z"
   },
   {
    "duration": 11,
    "start_time": "2022-10-20T15:35:19.036Z"
   },
   {
    "duration": 42,
    "start_time": "2022-10-20T15:35:19.049Z"
   },
   {
    "duration": 13,
    "start_time": "2022-10-20T15:35:19.092Z"
   },
   {
    "duration": 4,
    "start_time": "2022-10-20T15:35:19.106Z"
   },
   {
    "duration": 20,
    "start_time": "2022-10-20T15:35:19.113Z"
   },
   {
    "duration": 11,
    "start_time": "2022-10-20T15:35:19.134Z"
   },
   {
    "duration": 4,
    "start_time": "2022-10-20T15:35:19.147Z"
   },
   {
    "duration": 41,
    "start_time": "2022-10-20T15:35:19.152Z"
   },
   {
    "duration": 115,
    "start_time": "2022-10-20T15:35:19.195Z"
   },
   {
    "duration": 263,
    "start_time": "2022-10-20T15:35:19.313Z"
   },
   {
    "duration": 201,
    "start_time": "2022-10-20T15:35:19.578Z"
   },
   {
    "duration": 218,
    "start_time": "2022-10-20T15:35:19.781Z"
   },
   {
    "duration": 177,
    "start_time": "2022-10-20T15:35:20.001Z"
   },
   {
    "duration": 11,
    "start_time": "2022-10-20T15:35:20.180Z"
   },
   {
    "duration": 241,
    "start_time": "2022-10-20T15:35:20.193Z"
   },
   {
    "duration": 101,
    "start_time": "2022-10-20T15:35:20.436Z"
   },
   {
    "duration": 231,
    "start_time": "2022-10-20T15:35:20.538Z"
   },
   {
    "duration": 161,
    "start_time": "2022-10-20T15:35:20.771Z"
   },
   {
    "duration": 119,
    "start_time": "2022-10-20T15:35:20.934Z"
   },
   {
    "duration": 4,
    "start_time": "2022-10-20T15:35:21.055Z"
   },
   {
    "duration": 165,
    "start_time": "2022-10-20T15:35:21.061Z"
   },
   {
    "duration": 110,
    "start_time": "2022-10-20T15:35:21.228Z"
   },
   {
    "duration": 263,
    "start_time": "2022-10-20T15:35:21.342Z"
   },
   {
    "duration": 150,
    "start_time": "2022-10-20T15:35:21.607Z"
   },
   {
    "duration": 188,
    "start_time": "2022-10-20T15:35:21.759Z"
   },
   {
    "duration": 6,
    "start_time": "2022-10-20T15:35:21.948Z"
   },
   {
    "duration": 189,
    "start_time": "2022-10-20T15:35:21.955Z"
   },
   {
    "duration": 108,
    "start_time": "2022-10-20T15:35:22.146Z"
   },
   {
    "duration": 248,
    "start_time": "2022-10-20T15:35:22.255Z"
   },
   {
    "duration": 145,
    "start_time": "2022-10-20T15:35:22.505Z"
   },
   {
    "duration": 171,
    "start_time": "2022-10-20T15:35:22.651Z"
   },
   {
    "duration": 5,
    "start_time": "2022-10-20T15:35:22.823Z"
   },
   {
    "duration": 190,
    "start_time": "2022-10-20T15:35:22.829Z"
   },
   {
    "duration": 10,
    "start_time": "2022-10-20T15:35:23.022Z"
   },
   {
    "duration": 174,
    "start_time": "2022-10-20T15:35:23.034Z"
   },
   {
    "duration": 285,
    "start_time": "2022-10-20T15:35:23.210Z"
   },
   {
    "duration": 190,
    "start_time": "2022-10-20T15:35:23.497Z"
   },
   {
    "duration": 20,
    "start_time": "2022-10-20T15:35:23.691Z"
   },
   {
    "duration": 20,
    "start_time": "2022-10-20T15:35:23.713Z"
   },
   {
    "duration": 20,
    "start_time": "2022-10-20T15:35:23.735Z"
   },
   {
    "duration": 51,
    "start_time": "2022-10-20T15:35:23.756Z"
   },
   {
    "duration": 25,
    "start_time": "2022-10-20T15:35:23.809Z"
   },
   {
    "duration": 10,
    "start_time": "2022-10-20T15:35:23.836Z"
   },
   {
    "duration": 177,
    "start_time": "2022-10-20T15:35:23.848Z"
   },
   {
    "duration": 9,
    "start_time": "2022-10-20T15:35:24.027Z"
   },
   {
    "duration": 15,
    "start_time": "2022-10-20T15:35:24.038Z"
   },
   {
    "duration": 10,
    "start_time": "2022-10-20T15:35:24.055Z"
   },
   {
    "duration": 27,
    "start_time": "2022-10-20T15:35:24.067Z"
   },
   {
    "duration": 8,
    "start_time": "2022-10-20T15:35:24.096Z"
   },
   {
    "duration": 17,
    "start_time": "2022-10-20T15:35:24.105Z"
   },
   {
    "duration": 237,
    "start_time": "2022-10-20T15:35:24.124Z"
   },
   {
    "duration": 12,
    "start_time": "2022-10-20T15:35:24.363Z"
   },
   {
    "duration": 30,
    "start_time": "2022-10-20T15:35:24.377Z"
   },
   {
    "duration": 285,
    "start_time": "2022-10-20T15:35:24.408Z"
   },
   {
    "duration": 191,
    "start_time": "2022-10-20T15:35:24.695Z"
   },
   {
    "duration": 160,
    "start_time": "2022-10-20T15:35:24.891Z"
   },
   {
    "duration": 616,
    "start_time": "2022-10-20T15:35:25.053Z"
   },
   {
    "duration": 69,
    "start_time": "2022-10-20T15:40:37.656Z"
   },
   {
    "duration": 1742,
    "start_time": "2022-10-20T15:40:49.472Z"
   },
   {
    "duration": 1467,
    "start_time": "2022-10-20T15:41:19.141Z"
   },
   {
    "duration": 1369,
    "start_time": "2022-10-20T15:41:36.239Z"
   },
   {
    "duration": 108,
    "start_time": "2022-10-20T15:42:06.935Z"
   },
   {
    "duration": 224,
    "start_time": "2022-10-20T15:43:03.153Z"
   },
   {
    "duration": 483,
    "start_time": "2022-10-20T15:43:24.175Z"
   },
   {
    "duration": 188,
    "start_time": "2022-10-20T15:43:30.221Z"
   },
   {
    "duration": 198,
    "start_time": "2022-10-20T15:43:39.784Z"
   },
   {
    "duration": 205,
    "start_time": "2022-10-20T15:43:50.715Z"
   },
   {
    "duration": 286,
    "start_time": "2022-10-20T15:44:23.143Z"
   },
   {
    "duration": 105,
    "start_time": "2022-10-20T15:44:44.914Z"
   },
   {
    "duration": 157,
    "start_time": "2022-10-20T15:45:07.076Z"
   },
   {
    "duration": 159,
    "start_time": "2022-10-20T15:47:36.876Z"
   },
   {
    "duration": 161,
    "start_time": "2022-10-20T15:47:39.787Z"
   },
   {
    "duration": 163,
    "start_time": "2022-10-20T15:53:28.431Z"
   },
   {
    "duration": 124,
    "start_time": "2022-10-20T15:54:23.812Z"
   },
   {
    "duration": 10,
    "start_time": "2022-10-20T15:55:07.818Z"
   },
   {
    "duration": 140,
    "start_time": "2022-10-20T15:56:59.298Z"
   },
   {
    "duration": 138,
    "start_time": "2022-10-20T15:57:29.565Z"
   },
   {
    "duration": 9,
    "start_time": "2022-10-20T16:00:58.096Z"
   },
   {
    "duration": 207,
    "start_time": "2022-10-20T16:01:03.907Z"
   },
   {
    "duration": 273,
    "start_time": "2022-10-20T16:01:38.140Z"
   },
   {
    "duration": 13,
    "start_time": "2022-10-20T16:12:03.349Z"
   },
   {
    "duration": 15,
    "start_time": "2022-10-20T16:13:02.021Z"
   },
   {
    "duration": 16,
    "start_time": "2022-10-20T16:14:41.525Z"
   },
   {
    "duration": 17,
    "start_time": "2022-10-20T16:14:55.340Z"
   },
   {
    "duration": 10,
    "start_time": "2022-10-20T16:17:56.390Z"
   },
   {
    "duration": 14,
    "start_time": "2022-10-20T16:18:21.773Z"
   },
   {
    "duration": 24,
    "start_time": "2022-10-20T16:18:45.713Z"
   },
   {
    "duration": 22,
    "start_time": "2022-10-20T16:18:55.666Z"
   },
   {
    "duration": 24,
    "start_time": "2022-10-20T16:19:36.705Z"
   },
   {
    "duration": 20,
    "start_time": "2022-10-20T16:19:53.022Z"
   },
   {
    "duration": 1414,
    "start_time": "2022-10-20T17:37:47.465Z"
   },
   {
    "duration": 1306,
    "start_time": "2022-10-20T17:38:47.512Z"
   },
   {
    "duration": 70,
    "start_time": "2022-10-20T17:38:48.820Z"
   },
   {
    "duration": 29,
    "start_time": "2022-10-20T17:38:48.892Z"
   },
   {
    "duration": 14,
    "start_time": "2022-10-20T17:38:48.924Z"
   },
   {
    "duration": 22,
    "start_time": "2022-10-20T17:38:48.940Z"
   },
   {
    "duration": 32,
    "start_time": "2022-10-20T17:38:48.964Z"
   },
   {
    "duration": 23,
    "start_time": "2022-10-20T17:38:48.998Z"
   },
   {
    "duration": 30,
    "start_time": "2022-10-20T17:38:49.022Z"
   },
   {
    "duration": 30,
    "start_time": "2022-10-20T17:38:49.054Z"
   },
   {
    "duration": 40,
    "start_time": "2022-10-20T17:38:49.086Z"
   },
   {
    "duration": 14,
    "start_time": "2022-10-20T17:38:49.128Z"
   },
   {
    "duration": 29,
    "start_time": "2022-10-20T17:38:49.144Z"
   },
   {
    "duration": 12,
    "start_time": "2022-10-20T17:38:49.175Z"
   },
   {
    "duration": 167,
    "start_time": "2022-10-20T17:38:49.189Z"
   },
   {
    "duration": 293,
    "start_time": "2022-10-20T17:38:49.359Z"
   },
   {
    "duration": 220,
    "start_time": "2022-10-20T17:38:49.654Z"
   },
   {
    "duration": 185,
    "start_time": "2022-10-20T17:38:49.876Z"
   },
   {
    "duration": 197,
    "start_time": "2022-10-20T17:38:50.063Z"
   },
   {
    "duration": 9,
    "start_time": "2022-10-20T17:38:50.262Z"
   },
   {
    "duration": 273,
    "start_time": "2022-10-20T17:38:50.272Z"
   },
   {
    "duration": 216,
    "start_time": "2022-10-20T17:38:50.546Z"
   },
   {
    "duration": 285,
    "start_time": "2022-10-20T17:38:50.764Z"
   },
   {
    "duration": 164,
    "start_time": "2022-10-20T17:38:51.052Z"
   },
   {
    "duration": 129,
    "start_time": "2022-10-20T17:38:51.219Z"
   },
   {
    "duration": 6,
    "start_time": "2022-10-20T17:38:51.350Z"
   },
   {
    "duration": 190,
    "start_time": "2022-10-20T17:38:51.358Z"
   },
   {
    "duration": 115,
    "start_time": "2022-10-20T17:38:51.550Z"
   },
   {
    "duration": 221,
    "start_time": "2022-10-20T17:38:51.671Z"
   },
   {
    "duration": 169,
    "start_time": "2022-10-20T17:38:51.893Z"
   },
   {
    "duration": 220,
    "start_time": "2022-10-20T17:38:52.065Z"
   },
   {
    "duration": 5,
    "start_time": "2022-10-20T17:38:52.290Z"
   },
   {
    "duration": 313,
    "start_time": "2022-10-20T17:38:52.297Z"
   },
   {
    "duration": 117,
    "start_time": "2022-10-20T17:38:52.612Z"
   },
   {
    "duration": 277,
    "start_time": "2022-10-20T17:38:52.731Z"
   },
   {
    "duration": 170,
    "start_time": "2022-10-20T17:38:53.010Z"
   },
   {
    "duration": 190,
    "start_time": "2022-10-20T17:38:53.181Z"
   },
   {
    "duration": 19,
    "start_time": "2022-10-20T17:38:53.372Z"
   },
   {
    "duration": 216,
    "start_time": "2022-10-20T17:38:53.393Z"
   },
   {
    "duration": 11,
    "start_time": "2022-10-20T17:38:53.611Z"
   },
   {
    "duration": 212,
    "start_time": "2022-10-20T17:38:53.624Z"
   },
   {
    "duration": 214,
    "start_time": "2022-10-20T17:38:53.838Z"
   },
   {
    "duration": 213,
    "start_time": "2022-10-20T17:38:54.054Z"
   },
   {
    "duration": 34,
    "start_time": "2022-10-20T17:38:54.268Z"
   },
   {
    "duration": 24,
    "start_time": "2022-10-20T17:38:54.304Z"
   },
   {
    "duration": 26,
    "start_time": "2022-10-20T17:38:54.329Z"
   },
   {
    "duration": 68,
    "start_time": "2022-10-20T17:38:54.358Z"
   },
   {
    "duration": 32,
    "start_time": "2022-10-20T17:38:54.429Z"
   },
   {
    "duration": 39,
    "start_time": "2022-10-20T17:38:54.463Z"
   },
   {
    "duration": 229,
    "start_time": "2022-10-20T17:38:54.504Z"
   },
   {
    "duration": 14,
    "start_time": "2022-10-20T17:38:54.736Z"
   },
   {
    "duration": 22,
    "start_time": "2022-10-20T17:38:54.752Z"
   },
   {
    "duration": 24,
    "start_time": "2022-10-20T17:38:54.791Z"
   },
   {
    "duration": 12,
    "start_time": "2022-10-20T17:38:54.817Z"
   },
   {
    "duration": 10,
    "start_time": "2022-10-20T17:38:54.830Z"
   },
   {
    "duration": 16,
    "start_time": "2022-10-20T17:38:54.842Z"
   },
   {
    "duration": 357,
    "start_time": "2022-10-20T17:38:54.890Z"
   },
   {
    "duration": 11,
    "start_time": "2022-10-20T17:38:55.249Z"
   },
   {
    "duration": 28,
    "start_time": "2022-10-20T17:38:55.263Z"
   },
   {
    "duration": 289,
    "start_time": "2022-10-20T17:38:55.293Z"
   },
   {
    "duration": 211,
    "start_time": "2022-10-20T17:38:55.591Z"
   },
   {
    "duration": 158,
    "start_time": "2022-10-20T17:38:55.804Z"
   },
   {
    "duration": 184,
    "start_time": "2022-10-20T17:38:55.964Z"
   },
   {
    "duration": 165,
    "start_time": "2022-10-20T17:38:56.150Z"
   },
   {
    "duration": 156,
    "start_time": "2022-10-20T17:38:56.317Z"
   },
   {
    "duration": 17,
    "start_time": "2022-10-20T17:38:56.476Z"
   },
   {
    "duration": 262,
    "start_time": "2022-10-20T17:38:56.495Z"
   },
   {
    "duration": 38,
    "start_time": "2022-10-20T17:38:56.759Z"
   },
   {
    "duration": 22,
    "start_time": "2022-10-20T17:38:56.799Z"
   },
   {
    "duration": 1263,
    "start_time": "2022-10-20T17:38:56.822Z"
   },
   {
    "duration": 1191,
    "start_time": "2022-10-20T17:39:51.877Z"
   },
   {
    "duration": 19,
    "start_time": "2022-10-20T17:40:51.945Z"
   },
   {
    "duration": 14,
    "start_time": "2022-10-20T17:42:21.480Z"
   },
   {
    "duration": 18,
    "start_time": "2022-10-20T17:43:56.372Z"
   },
   {
    "duration": 20,
    "start_time": "2022-10-20T17:44:26.134Z"
   },
   {
    "duration": 19,
    "start_time": "2022-10-20T17:46:38.377Z"
   },
   {
    "duration": 18,
    "start_time": "2022-10-20T17:46:51.397Z"
   },
   {
    "duration": 19,
    "start_time": "2022-10-20T17:47:47.556Z"
   },
   {
    "duration": 21,
    "start_time": "2022-10-20T17:47:54.770Z"
   },
   {
    "duration": 1198,
    "start_time": "2022-10-20T17:48:42.602Z"
   },
   {
    "duration": 68,
    "start_time": "2022-10-20T17:48:43.802Z"
   },
   {
    "duration": 29,
    "start_time": "2022-10-20T17:48:43.872Z"
   },
   {
    "duration": 9,
    "start_time": "2022-10-20T17:48:43.903Z"
   },
   {
    "duration": 6,
    "start_time": "2022-10-20T17:48:43.914Z"
   },
   {
    "duration": 13,
    "start_time": "2022-10-20T17:48:43.921Z"
   },
   {
    "duration": 14,
    "start_time": "2022-10-20T17:48:43.936Z"
   },
   {
    "duration": 47,
    "start_time": "2022-10-20T17:48:43.952Z"
   },
   {
    "duration": 5,
    "start_time": "2022-10-20T17:48:44.001Z"
   },
   {
    "duration": 22,
    "start_time": "2022-10-20T17:48:44.010Z"
   },
   {
    "duration": 13,
    "start_time": "2022-10-20T17:48:44.034Z"
   },
   {
    "duration": 5,
    "start_time": "2022-10-20T17:48:44.049Z"
   },
   {
    "duration": 10,
    "start_time": "2022-10-20T17:48:44.091Z"
   },
   {
    "duration": 131,
    "start_time": "2022-10-20T17:48:44.103Z"
   },
   {
    "duration": 305,
    "start_time": "2022-10-20T17:48:44.236Z"
   },
   {
    "duration": 200,
    "start_time": "2022-10-20T17:48:44.543Z"
   },
   {
    "duration": 176,
    "start_time": "2022-10-20T17:48:44.744Z"
   },
   {
    "duration": 174,
    "start_time": "2022-10-20T17:48:44.922Z"
   },
   {
    "duration": 7,
    "start_time": "2022-10-20T17:48:45.098Z"
   },
   {
    "duration": 307,
    "start_time": "2022-10-20T17:48:45.107Z"
   },
   {
    "duration": 199,
    "start_time": "2022-10-20T17:48:45.417Z"
   },
   {
    "duration": 268,
    "start_time": "2022-10-20T17:48:45.618Z"
   },
   {
    "duration": 171,
    "start_time": "2022-10-20T17:48:45.888Z"
   },
   {
    "duration": 143,
    "start_time": "2022-10-20T17:48:46.061Z"
   },
   {
    "duration": 5,
    "start_time": "2022-10-20T17:48:46.206Z"
   },
   {
    "duration": 183,
    "start_time": "2022-10-20T17:48:46.213Z"
   },
   {
    "duration": 127,
    "start_time": "2022-10-20T17:48:46.398Z"
   },
   {
    "duration": 241,
    "start_time": "2022-10-20T17:48:46.530Z"
   },
   {
    "duration": 168,
    "start_time": "2022-10-20T17:48:46.772Z"
   },
   {
    "duration": 195,
    "start_time": "2022-10-20T17:48:46.942Z"
   },
   {
    "duration": 7,
    "start_time": "2022-10-20T17:48:47.138Z"
   },
   {
    "duration": 291,
    "start_time": "2022-10-20T17:48:47.146Z"
   },
   {
    "duration": 113,
    "start_time": "2022-10-20T17:48:47.439Z"
   },
   {
    "duration": 249,
    "start_time": "2022-10-20T17:48:47.554Z"
   },
   {
    "duration": 177,
    "start_time": "2022-10-20T17:48:47.805Z"
   },
   {
    "duration": 207,
    "start_time": "2022-10-20T17:48:47.991Z"
   },
   {
    "duration": 6,
    "start_time": "2022-10-20T17:48:48.200Z"
   },
   {
    "duration": 226,
    "start_time": "2022-10-20T17:48:48.208Z"
   },
   {
    "duration": 16,
    "start_time": "2022-10-20T17:48:48.436Z"
   },
   {
    "duration": 186,
    "start_time": "2022-10-20T17:48:48.454Z"
   },
   {
    "duration": 194,
    "start_time": "2022-10-20T17:48:48.642Z"
   },
   {
    "duration": 223,
    "start_time": "2022-10-20T17:48:48.838Z"
   },
   {
    "duration": 32,
    "start_time": "2022-10-20T17:48:49.063Z"
   },
   {
    "duration": 34,
    "start_time": "2022-10-20T17:48:49.097Z"
   },
   {
    "duration": 58,
    "start_time": "2022-10-20T17:48:49.133Z"
   },
   {
    "duration": 33,
    "start_time": "2022-10-20T17:48:49.194Z"
   },
   {
    "duration": 35,
    "start_time": "2022-10-20T17:48:49.228Z"
   },
   {
    "duration": 36,
    "start_time": "2022-10-20T17:48:49.265Z"
   },
   {
    "duration": 194,
    "start_time": "2022-10-20T17:48:49.303Z"
   },
   {
    "duration": 10,
    "start_time": "2022-10-20T17:48:49.499Z"
   },
   {
    "duration": 14,
    "start_time": "2022-10-20T17:48:49.511Z"
   },
   {
    "duration": 13,
    "start_time": "2022-10-20T17:48:49.527Z"
   },
   {
    "duration": 9,
    "start_time": "2022-10-20T17:48:49.542Z"
   },
   {
    "duration": 42,
    "start_time": "2022-10-20T17:48:49.552Z"
   },
   {
    "duration": 16,
    "start_time": "2022-10-20T17:48:49.596Z"
   },
   {
    "duration": 381,
    "start_time": "2022-10-20T17:48:49.614Z"
   },
   {
    "duration": 13,
    "start_time": "2022-10-20T17:48:49.996Z"
   },
   {
    "duration": 17,
    "start_time": "2022-10-20T17:48:50.011Z"
   },
   {
    "duration": 320,
    "start_time": "2022-10-20T17:48:50.030Z"
   },
   {
    "duration": 201,
    "start_time": "2022-10-20T17:48:50.352Z"
   },
   {
    "duration": 148,
    "start_time": "2022-10-20T17:48:50.555Z"
   },
   {
    "duration": 192,
    "start_time": "2022-10-20T17:48:50.706Z"
   },
   {
    "duration": 157,
    "start_time": "2022-10-20T17:48:50.900Z"
   },
   {
    "duration": 147,
    "start_time": "2022-10-20T17:48:51.059Z"
   },
   {
    "duration": 13,
    "start_time": "2022-10-20T17:48:51.208Z"
   },
   {
    "duration": 247,
    "start_time": "2022-10-20T17:48:51.223Z"
   },
   {
    "duration": 28,
    "start_time": "2022-10-20T17:48:51.473Z"
   },
   {
    "duration": 15,
    "start_time": "2022-10-20T17:48:51.503Z"
   },
   {
    "duration": 21,
    "start_time": "2022-10-20T17:48:51.520Z"
   },
   {
    "duration": 16,
    "start_time": "2022-10-20T17:48:51.542Z"
   },
   {
    "duration": 47,
    "start_time": "2022-10-20T17:48:51.560Z"
   },
   {
    "duration": 15,
    "start_time": "2022-10-20T17:48:51.609Z"
   },
   {
    "duration": 349,
    "start_time": "2022-10-20T17:48:51.625Z"
   },
   {
    "duration": 0,
    "start_time": "2022-10-20T17:48:51.976Z"
   },
   {
    "duration": 0,
    "start_time": "2022-10-20T17:48:51.978Z"
   },
   {
    "duration": 71,
    "start_time": "2022-10-20T17:49:01.701Z"
   },
   {
    "duration": 17,
    "start_time": "2022-10-20T17:49:07.713Z"
   },
   {
    "duration": 16,
    "start_time": "2022-10-20T17:49:08.844Z"
   },
   {
    "duration": 115,
    "start_time": "2022-10-20T17:58:00.084Z"
   },
   {
    "duration": 3,
    "start_time": "2022-10-20T17:58:32.352Z"
   },
   {
    "duration": 10,
    "start_time": "2022-10-20T17:58:37.702Z"
   },
   {
    "duration": 8,
    "start_time": "2022-10-20T17:58:56.033Z"
   },
   {
    "duration": 33,
    "start_time": "2022-10-20T17:59:39.413Z"
   },
   {
    "duration": 5,
    "start_time": "2022-10-20T17:59:51.044Z"
   },
   {
    "duration": 14,
    "start_time": "2022-10-20T18:00:06.732Z"
   },
   {
    "duration": 18,
    "start_time": "2022-10-20T18:00:22.205Z"
   },
   {
    "duration": 1213,
    "start_time": "2022-10-20T18:00:55.965Z"
   },
   {
    "duration": 1277,
    "start_time": "2022-10-20T18:01:35.167Z"
   },
   {
    "duration": 24,
    "start_time": "2022-10-20T18:01:55.820Z"
   },
   {
    "duration": 12,
    "start_time": "2022-10-20T18:02:00.439Z"
   },
   {
    "duration": 10,
    "start_time": "2022-10-20T18:02:12.338Z"
   },
   {
    "duration": 11,
    "start_time": "2022-10-20T18:02:40.308Z"
   },
   {
    "duration": 9,
    "start_time": "2022-10-20T18:02:47.477Z"
   },
   {
    "duration": 6,
    "start_time": "2022-10-20T18:03:32.348Z"
   },
   {
    "duration": 17,
    "start_time": "2022-10-20T18:03:33.182Z"
   },
   {
    "duration": 8,
    "start_time": "2022-10-20T18:04:08.354Z"
   },
   {
    "duration": 9,
    "start_time": "2022-10-20T18:04:54.583Z"
   },
   {
    "duration": 11,
    "start_time": "2022-10-20T18:05:03.751Z"
   },
   {
    "duration": 10,
    "start_time": "2022-10-20T18:05:18.118Z"
   },
   {
    "duration": 5,
    "start_time": "2022-10-20T18:05:58.407Z"
   },
   {
    "duration": 41,
    "start_time": "2022-10-20T18:06:06.360Z"
   },
   {
    "duration": 47,
    "start_time": "2022-10-20T18:06:25.436Z"
   },
   {
    "duration": 31,
    "start_time": "2022-10-20T18:06:58.311Z"
   },
   {
    "duration": 42,
    "start_time": "2022-10-20T18:07:10.070Z"
   },
   {
    "duration": 31,
    "start_time": "2022-10-20T18:07:51.025Z"
   },
   {
    "duration": 56,
    "start_time": "2022-10-20T18:08:22.206Z"
   },
   {
    "duration": 13,
    "start_time": "2022-10-20T18:08:46.830Z"
   },
   {
    "duration": 20,
    "start_time": "2022-10-20T18:09:20.040Z"
   },
   {
    "duration": 29,
    "start_time": "2022-10-20T18:09:39.044Z"
   },
   {
    "duration": 29,
    "start_time": "2022-10-20T18:09:46.227Z"
   },
   {
    "duration": 28,
    "start_time": "2022-10-20T18:12:43.641Z"
   },
   {
    "duration": 1213,
    "start_time": "2022-10-20T18:18:42.723Z"
   },
   {
    "duration": 67,
    "start_time": "2022-10-20T18:18:43.938Z"
   },
   {
    "duration": 29,
    "start_time": "2022-10-20T18:18:44.007Z"
   },
   {
    "duration": 10,
    "start_time": "2022-10-20T18:18:44.039Z"
   },
   {
    "duration": 7,
    "start_time": "2022-10-20T18:18:44.051Z"
   },
   {
    "duration": 43,
    "start_time": "2022-10-20T18:18:44.060Z"
   },
   {
    "duration": 19,
    "start_time": "2022-10-20T18:18:44.105Z"
   },
   {
    "duration": 21,
    "start_time": "2022-10-20T18:18:44.126Z"
   },
   {
    "duration": 6,
    "start_time": "2022-10-20T18:18:44.149Z"
   },
   {
    "duration": 54,
    "start_time": "2022-10-20T18:18:44.158Z"
   },
   {
    "duration": 13,
    "start_time": "2022-10-20T18:18:44.214Z"
   },
   {
    "duration": 5,
    "start_time": "2022-10-20T18:18:44.229Z"
   },
   {
    "duration": 13,
    "start_time": "2022-10-20T18:18:44.236Z"
   },
   {
    "duration": 153,
    "start_time": "2022-10-20T18:18:44.251Z"
   },
   {
    "duration": 280,
    "start_time": "2022-10-20T18:18:44.406Z"
   },
   {
    "duration": 181,
    "start_time": "2022-10-20T18:18:44.691Z"
   },
   {
    "duration": 186,
    "start_time": "2022-10-20T18:18:44.874Z"
   },
   {
    "duration": 175,
    "start_time": "2022-10-20T18:18:45.062Z"
   },
   {
    "duration": 7,
    "start_time": "2022-10-20T18:18:45.240Z"
   },
   {
    "duration": 271,
    "start_time": "2022-10-20T18:18:45.249Z"
   },
   {
    "duration": 187,
    "start_time": "2022-10-20T18:18:45.522Z"
   },
   {
    "duration": 251,
    "start_time": "2022-10-20T18:18:45.710Z"
   },
   {
    "duration": 164,
    "start_time": "2022-10-20T18:18:45.963Z"
   },
   {
    "duration": 123,
    "start_time": "2022-10-20T18:18:46.129Z"
   },
   {
    "duration": 11,
    "start_time": "2022-10-20T18:18:46.254Z"
   },
   {
    "duration": 186,
    "start_time": "2022-10-20T18:18:46.266Z"
   },
   {
    "duration": 160,
    "start_time": "2022-10-20T18:18:46.454Z"
   },
   {
    "duration": 237,
    "start_time": "2022-10-20T18:18:46.619Z"
   },
   {
    "duration": 160,
    "start_time": "2022-10-20T18:18:46.858Z"
   },
   {
    "duration": 186,
    "start_time": "2022-10-20T18:18:47.020Z"
   },
   {
    "duration": 5,
    "start_time": "2022-10-20T18:18:47.208Z"
   },
   {
    "duration": 278,
    "start_time": "2022-10-20T18:18:47.215Z"
   },
   {
    "duration": 116,
    "start_time": "2022-10-20T18:18:47.495Z"
   },
   {
    "duration": 248,
    "start_time": "2022-10-20T18:18:47.613Z"
   },
   {
    "duration": 167,
    "start_time": "2022-10-20T18:18:47.863Z"
   },
   {
    "duration": 192,
    "start_time": "2022-10-20T18:18:48.031Z"
   },
   {
    "duration": 6,
    "start_time": "2022-10-20T18:18:48.225Z"
   },
   {
    "duration": 199,
    "start_time": "2022-10-20T18:18:48.233Z"
   },
   {
    "duration": 11,
    "start_time": "2022-10-20T18:18:48.434Z"
   },
   {
    "duration": 202,
    "start_time": "2022-10-20T18:18:48.447Z"
   },
   {
    "duration": 202,
    "start_time": "2022-10-20T18:18:48.650Z"
   },
   {
    "duration": 197,
    "start_time": "2022-10-20T18:18:48.853Z"
   },
   {
    "duration": 22,
    "start_time": "2022-10-20T18:18:49.052Z"
   },
   {
    "duration": 37,
    "start_time": "2022-10-20T18:18:49.075Z"
   },
   {
    "duration": 24,
    "start_time": "2022-10-20T18:18:49.113Z"
   },
   {
    "duration": 31,
    "start_time": "2022-10-20T18:18:49.138Z"
   },
   {
    "duration": 28,
    "start_time": "2022-10-20T18:18:49.192Z"
   },
   {
    "duration": 14,
    "start_time": "2022-10-20T18:18:49.223Z"
   },
   {
    "duration": 204,
    "start_time": "2022-10-20T18:18:49.239Z"
   },
   {
    "duration": 10,
    "start_time": "2022-10-20T18:18:49.445Z"
   },
   {
    "duration": 35,
    "start_time": "2022-10-20T18:18:49.457Z"
   },
   {
    "duration": 15,
    "start_time": "2022-10-20T18:18:49.494Z"
   },
   {
    "duration": 8,
    "start_time": "2022-10-20T18:18:49.511Z"
   },
   {
    "duration": 9,
    "start_time": "2022-10-20T18:18:49.521Z"
   },
   {
    "duration": 15,
    "start_time": "2022-10-20T18:18:49.532Z"
   },
   {
    "duration": 393,
    "start_time": "2022-10-20T18:18:49.548Z"
   },
   {
    "duration": 10,
    "start_time": "2022-10-20T18:18:49.943Z"
   },
   {
    "duration": 11,
    "start_time": "2022-10-20T18:18:49.955Z"
   },
   {
    "duration": 299,
    "start_time": "2022-10-20T18:18:49.968Z"
   },
   {
    "duration": 203,
    "start_time": "2022-10-20T18:18:50.269Z"
   },
   {
    "duration": 141,
    "start_time": "2022-10-20T18:18:50.474Z"
   },
   {
    "duration": 170,
    "start_time": "2022-10-20T18:18:50.617Z"
   },
   {
    "duration": 154,
    "start_time": "2022-10-20T18:18:50.789Z"
   },
   {
    "duration": 143,
    "start_time": "2022-10-20T18:18:50.944Z"
   },
   {
    "duration": 10,
    "start_time": "2022-10-20T18:18:51.091Z"
   },
   {
    "duration": 203,
    "start_time": "2022-10-20T18:18:51.103Z"
   },
   {
    "duration": 19,
    "start_time": "2022-10-20T18:18:51.308Z"
   },
   {
    "duration": 15,
    "start_time": "2022-10-20T18:18:51.329Z"
   },
   {
    "duration": 51,
    "start_time": "2022-10-20T18:18:51.346Z"
   },
   {
    "duration": 15,
    "start_time": "2022-10-20T18:18:51.399Z"
   },
   {
    "duration": 19,
    "start_time": "2022-10-20T18:18:51.415Z"
   },
   {
    "duration": 13,
    "start_time": "2022-10-20T18:18:51.436Z"
   },
   {
    "duration": 41,
    "start_time": "2022-10-20T18:18:51.451Z"
   },
   {
    "duration": 15,
    "start_time": "2022-10-20T18:18:51.493Z"
   },
   {
    "duration": 7,
    "start_time": "2022-10-20T18:18:51.509Z"
   },
   {
    "duration": 25,
    "start_time": "2022-10-20T18:18:51.519Z"
   },
   {
    "duration": 49,
    "start_time": "2022-10-20T18:18:51.545Z"
   },
   {
    "duration": 1362,
    "start_time": "2022-10-21T14:29:01.495Z"
   },
   {
    "duration": 73,
    "start_time": "2022-10-21T14:29:02.859Z"
   },
   {
    "duration": 30,
    "start_time": "2022-10-21T14:29:02.933Z"
   },
   {
    "duration": 33,
    "start_time": "2022-10-21T14:29:02.964Z"
   },
   {
    "duration": 11,
    "start_time": "2022-10-21T14:29:02.999Z"
   },
   {
    "duration": 15,
    "start_time": "2022-10-21T14:29:03.011Z"
   },
   {
    "duration": 14,
    "start_time": "2022-10-21T14:29:03.028Z"
   },
   {
    "duration": 26,
    "start_time": "2022-10-21T14:29:03.043Z"
   },
   {
    "duration": 6,
    "start_time": "2022-10-21T14:29:03.071Z"
   },
   {
    "duration": 48,
    "start_time": "2022-10-21T14:29:03.088Z"
   },
   {
    "duration": 11,
    "start_time": "2022-10-21T14:29:03.139Z"
   },
   {
    "duration": 7,
    "start_time": "2022-10-21T14:29:03.151Z"
   },
   {
    "duration": 14,
    "start_time": "2022-10-21T14:29:03.159Z"
   },
   {
    "duration": 158,
    "start_time": "2022-10-21T14:29:03.194Z"
   },
   {
    "duration": 268,
    "start_time": "2022-10-21T14:29:03.355Z"
   },
   {
    "duration": 194,
    "start_time": "2022-10-21T14:29:03.625Z"
   },
   {
    "duration": 186,
    "start_time": "2022-10-21T14:29:03.820Z"
   },
   {
    "duration": 162,
    "start_time": "2022-10-21T14:29:04.008Z"
   },
   {
    "duration": 13,
    "start_time": "2022-10-21T14:29:04.172Z"
   },
   {
    "duration": 285,
    "start_time": "2022-10-21T14:29:04.189Z"
   },
   {
    "duration": 232,
    "start_time": "2022-10-21T14:29:04.476Z"
   },
   {
    "duration": 238,
    "start_time": "2022-10-21T14:29:04.710Z"
   },
   {
    "duration": 243,
    "start_time": "2022-10-21T14:29:04.951Z"
   },
   {
    "duration": 121,
    "start_time": "2022-10-21T14:29:05.195Z"
   },
   {
    "duration": 7,
    "start_time": "2022-10-21T14:29:05.318Z"
   },
   {
    "duration": 193,
    "start_time": "2022-10-21T14:29:05.326Z"
   },
   {
    "duration": 114,
    "start_time": "2022-10-21T14:29:05.521Z"
   },
   {
    "duration": 211,
    "start_time": "2022-10-21T14:29:05.637Z"
   },
   {
    "duration": 174,
    "start_time": "2022-10-21T14:29:05.851Z"
   },
   {
    "duration": 209,
    "start_time": "2022-10-21T14:29:06.027Z"
   },
   {
    "duration": 7,
    "start_time": "2022-10-21T14:29:06.238Z"
   },
   {
    "duration": 225,
    "start_time": "2022-10-21T14:29:06.247Z"
   },
   {
    "duration": 193,
    "start_time": "2022-10-21T14:29:06.474Z"
   },
   {
    "duration": 265,
    "start_time": "2022-10-21T14:29:06.668Z"
   },
   {
    "duration": 189,
    "start_time": "2022-10-21T14:29:06.935Z"
   },
   {
    "duration": 200,
    "start_time": "2022-10-21T14:29:07.127Z"
   },
   {
    "duration": 6,
    "start_time": "2022-10-21T14:29:07.328Z"
   },
   {
    "duration": 189,
    "start_time": "2022-10-21T14:29:07.335Z"
   },
   {
    "duration": 13,
    "start_time": "2022-10-21T14:29:07.526Z"
   },
   {
    "duration": 174,
    "start_time": "2022-10-21T14:29:07.541Z"
   },
   {
    "duration": 200,
    "start_time": "2022-10-21T14:29:07.719Z"
   },
   {
    "duration": 190,
    "start_time": "2022-10-21T14:29:07.920Z"
   },
   {
    "duration": 30,
    "start_time": "2022-10-21T14:29:08.112Z"
   },
   {
    "duration": 24,
    "start_time": "2022-10-21T14:29:08.143Z"
   },
   {
    "duration": 50,
    "start_time": "2022-10-21T14:29:08.169Z"
   },
   {
    "duration": 33,
    "start_time": "2022-10-21T14:29:08.220Z"
   },
   {
    "duration": 50,
    "start_time": "2022-10-21T14:29:08.255Z"
   },
   {
    "duration": 11,
    "start_time": "2022-10-21T14:29:08.307Z"
   },
   {
    "duration": 192,
    "start_time": "2022-10-21T14:29:08.320Z"
   },
   {
    "duration": 16,
    "start_time": "2022-10-21T14:29:08.515Z"
   },
   {
    "duration": 16,
    "start_time": "2022-10-21T14:29:08.533Z"
   },
   {
    "duration": 35,
    "start_time": "2022-10-21T14:29:08.551Z"
   },
   {
    "duration": 14,
    "start_time": "2022-10-21T14:29:08.597Z"
   },
   {
    "duration": 17,
    "start_time": "2022-10-21T14:29:08.612Z"
   },
   {
    "duration": 17,
    "start_time": "2022-10-21T14:29:08.631Z"
   },
   {
    "duration": 315,
    "start_time": "2022-10-21T14:29:08.650Z"
   },
   {
    "duration": 19,
    "start_time": "2022-10-21T14:29:08.967Z"
   },
   {
    "duration": 22,
    "start_time": "2022-10-21T14:29:08.993Z"
   },
   {
    "duration": 318,
    "start_time": "2022-10-21T14:29:09.017Z"
   },
   {
    "duration": 190,
    "start_time": "2022-10-21T14:29:09.337Z"
   },
   {
    "duration": 139,
    "start_time": "2022-10-21T14:29:09.529Z"
   },
   {
    "duration": 158,
    "start_time": "2022-10-21T14:29:09.669Z"
   },
   {
    "duration": 149,
    "start_time": "2022-10-21T14:29:09.828Z"
   },
   {
    "duration": 130,
    "start_time": "2022-10-21T14:29:09.979Z"
   },
   {
    "duration": 11,
    "start_time": "2022-10-21T14:29:10.111Z"
   },
   {
    "duration": 194,
    "start_time": "2022-10-21T14:29:10.123Z"
   },
   {
    "duration": 19,
    "start_time": "2022-10-21T14:29:10.319Z"
   },
   {
    "duration": 16,
    "start_time": "2022-10-21T14:29:10.340Z"
   },
   {
    "duration": 45,
    "start_time": "2022-10-21T14:29:10.358Z"
   },
   {
    "duration": 14,
    "start_time": "2022-10-21T14:29:10.404Z"
   },
   {
    "duration": 28,
    "start_time": "2022-10-21T14:29:10.420Z"
   },
   {
    "duration": 22,
    "start_time": "2022-10-21T14:29:10.450Z"
   },
   {
    "duration": 44,
    "start_time": "2022-10-21T14:29:10.474Z"
   },
   {
    "duration": 13,
    "start_time": "2022-10-21T14:29:10.520Z"
   },
   {
    "duration": 7,
    "start_time": "2022-10-21T14:29:10.536Z"
   },
   {
    "duration": 27,
    "start_time": "2022-10-21T14:29:10.545Z"
   },
   {
    "duration": 30,
    "start_time": "2022-10-21T14:29:10.574Z"
   },
   {
    "duration": 82,
    "start_time": "2022-10-21T14:44:14.681Z"
   },
   {
    "duration": 1248,
    "start_time": "2022-10-21T14:44:49.599Z"
   },
   {
    "duration": 69,
    "start_time": "2022-10-21T14:44:50.848Z"
   },
   {
    "duration": 25,
    "start_time": "2022-10-21T14:44:50.919Z"
   },
   {
    "duration": 12,
    "start_time": "2022-10-21T14:44:50.946Z"
   },
   {
    "duration": 6,
    "start_time": "2022-10-21T14:44:50.960Z"
   },
   {
    "duration": 31,
    "start_time": "2022-10-21T14:44:50.968Z"
   },
   {
    "duration": 17,
    "start_time": "2022-10-21T14:44:51.001Z"
   },
   {
    "duration": 24,
    "start_time": "2022-10-21T14:44:51.019Z"
   },
   {
    "duration": 5,
    "start_time": "2022-10-21T14:44:51.045Z"
   },
   {
    "duration": 40,
    "start_time": "2022-10-21T14:44:51.053Z"
   },
   {
    "duration": 13,
    "start_time": "2022-10-21T14:44:51.099Z"
   },
   {
    "duration": 9,
    "start_time": "2022-10-21T14:44:51.114Z"
   },
   {
    "duration": 20,
    "start_time": "2022-10-21T14:44:51.125Z"
   },
   {
    "duration": 113,
    "start_time": "2022-10-21T14:44:51.147Z"
   },
   {
    "duration": 250,
    "start_time": "2022-10-21T14:44:51.262Z"
   },
   {
    "duration": 187,
    "start_time": "2022-10-21T14:44:51.514Z"
   },
   {
    "duration": 198,
    "start_time": "2022-10-21T14:44:51.703Z"
   },
   {
    "duration": 177,
    "start_time": "2022-10-21T14:44:51.903Z"
   },
   {
    "duration": 11,
    "start_time": "2022-10-21T14:44:52.086Z"
   },
   {
    "duration": 260,
    "start_time": "2022-10-21T14:44:52.099Z"
   },
   {
    "duration": 180,
    "start_time": "2022-10-21T14:44:52.360Z"
   },
   {
    "duration": 236,
    "start_time": "2022-10-21T14:44:52.542Z"
   },
   {
    "duration": 169,
    "start_time": "2022-10-21T14:44:52.779Z"
   },
   {
    "duration": 134,
    "start_time": "2022-10-21T14:44:52.952Z"
   },
   {
    "duration": 11,
    "start_time": "2022-10-21T14:44:53.087Z"
   },
   {
    "duration": 174,
    "start_time": "2022-10-21T14:44:53.100Z"
   },
   {
    "duration": 127,
    "start_time": "2022-10-21T14:44:53.276Z"
   },
   {
    "duration": 194,
    "start_time": "2022-10-21T14:44:53.408Z"
   },
   {
    "duration": 156,
    "start_time": "2022-10-21T14:44:53.604Z"
   },
   {
    "duration": 189,
    "start_time": "2022-10-21T14:44:53.762Z"
   },
   {
    "duration": 7,
    "start_time": "2022-10-21T14:44:53.953Z"
   },
   {
    "duration": 308,
    "start_time": "2022-10-21T14:44:53.962Z"
   },
   {
    "duration": 126,
    "start_time": "2022-10-21T14:44:54.271Z"
   },
   {
    "duration": 229,
    "start_time": "2022-10-21T14:44:54.401Z"
   },
   {
    "duration": 151,
    "start_time": "2022-10-21T14:44:54.631Z"
   },
   {
    "duration": 175,
    "start_time": "2022-10-21T14:44:54.784Z"
   },
   {
    "duration": 4,
    "start_time": "2022-10-21T14:44:54.961Z"
   },
   {
    "duration": 204,
    "start_time": "2022-10-21T14:44:54.967Z"
   },
   {
    "duration": 32,
    "start_time": "2022-10-21T14:44:55.173Z"
   },
   {
    "duration": 165,
    "start_time": "2022-10-21T14:44:55.206Z"
   },
   {
    "duration": 181,
    "start_time": "2022-10-21T14:44:55.373Z"
   },
   {
    "duration": 209,
    "start_time": "2022-10-21T14:44:55.556Z"
   },
   {
    "duration": 33,
    "start_time": "2022-10-21T14:44:55.767Z"
   },
   {
    "duration": 46,
    "start_time": "2022-10-21T14:44:55.801Z"
   },
   {
    "duration": 26,
    "start_time": "2022-10-21T14:44:55.849Z"
   },
   {
    "duration": 32,
    "start_time": "2022-10-21T14:44:55.876Z"
   },
   {
    "duration": 24,
    "start_time": "2022-10-21T14:44:55.910Z"
   },
   {
    "duration": 11,
    "start_time": "2022-10-21T14:44:55.935Z"
   },
   {
    "duration": 176,
    "start_time": "2022-10-21T14:44:55.948Z"
   },
   {
    "duration": 9,
    "start_time": "2022-10-21T14:44:56.126Z"
   },
   {
    "duration": 21,
    "start_time": "2022-10-21T14:44:56.137Z"
   },
   {
    "duration": 29,
    "start_time": "2022-10-21T14:44:56.160Z"
   },
   {
    "duration": 9,
    "start_time": "2022-10-21T14:44:56.198Z"
   },
   {
    "duration": 25,
    "start_time": "2022-10-21T14:44:56.209Z"
   },
   {
    "duration": 18,
    "start_time": "2022-10-21T14:44:56.235Z"
   },
   {
    "duration": 196,
    "start_time": "2022-10-21T14:44:56.255Z"
   },
   {
    "duration": 233,
    "start_time": "2022-10-21T14:44:56.453Z"
   },
   {
    "duration": 14,
    "start_time": "2022-10-21T14:44:56.688Z"
   },
   {
    "duration": 15,
    "start_time": "2022-10-21T14:44:56.704Z"
   },
   {
    "duration": 280,
    "start_time": "2022-10-21T14:44:56.721Z"
   },
   {
    "duration": 221,
    "start_time": "2022-10-21T14:44:57.003Z"
   },
   {
    "duration": 187,
    "start_time": "2022-10-21T14:44:57.230Z"
   },
   {
    "duration": 174,
    "start_time": "2022-10-21T14:44:57.419Z"
   },
   {
    "duration": 141,
    "start_time": "2022-10-21T14:44:57.595Z"
   },
   {
    "duration": 125,
    "start_time": "2022-10-21T14:44:57.738Z"
   },
   {
    "duration": 10,
    "start_time": "2022-10-21T14:44:57.865Z"
   },
   {
    "duration": 195,
    "start_time": "2022-10-21T14:44:57.893Z"
   },
   {
    "duration": 21,
    "start_time": "2022-10-21T14:44:58.096Z"
   },
   {
    "duration": 21,
    "start_time": "2022-10-21T14:44:58.119Z"
   },
   {
    "duration": 19,
    "start_time": "2022-10-21T14:44:58.142Z"
   },
   {
    "duration": 24,
    "start_time": "2022-10-21T14:44:58.162Z"
   },
   {
    "duration": 22,
    "start_time": "2022-10-21T14:44:58.191Z"
   },
   {
    "duration": 31,
    "start_time": "2022-10-21T14:44:58.215Z"
   },
   {
    "duration": 20,
    "start_time": "2022-10-21T14:44:58.248Z"
   },
   {
    "duration": 33,
    "start_time": "2022-10-21T14:44:58.269Z"
   },
   {
    "duration": 7,
    "start_time": "2022-10-21T14:44:58.304Z"
   },
   {
    "duration": 29,
    "start_time": "2022-10-21T14:44:58.314Z"
   },
   {
    "duration": 25,
    "start_time": "2022-10-21T14:44:58.344Z"
   },
   {
    "duration": 44,
    "start_time": "2022-10-22T09:37:42.985Z"
   },
   {
    "duration": 1277,
    "start_time": "2022-10-22T09:37:49.304Z"
   },
   {
    "duration": 205,
    "start_time": "2022-10-22T09:37:50.583Z"
   },
   {
    "duration": 23,
    "start_time": "2022-10-22T09:37:50.790Z"
   },
   {
    "duration": 8,
    "start_time": "2022-10-22T09:37:50.814Z"
   },
   {
    "duration": 5,
    "start_time": "2022-10-22T09:37:50.824Z"
   },
   {
    "duration": 11,
    "start_time": "2022-10-22T09:37:50.830Z"
   },
   {
    "duration": 12,
    "start_time": "2022-10-22T09:37:50.842Z"
   },
   {
    "duration": 12,
    "start_time": "2022-10-22T09:37:50.856Z"
   },
   {
    "duration": 37,
    "start_time": "2022-10-22T09:37:50.869Z"
   },
   {
    "duration": 20,
    "start_time": "2022-10-22T09:37:50.908Z"
   },
   {
    "duration": 22,
    "start_time": "2022-10-22T09:37:50.930Z"
   },
   {
    "duration": 4,
    "start_time": "2022-10-22T09:37:50.953Z"
   },
   {
    "duration": 12,
    "start_time": "2022-10-22T09:37:50.958Z"
   },
   {
    "duration": 105,
    "start_time": "2022-10-22T09:37:50.973Z"
   },
   {
    "duration": 219,
    "start_time": "2022-10-22T09:37:51.080Z"
   },
   {
    "duration": 154,
    "start_time": "2022-10-22T09:37:51.301Z"
   },
   {
    "duration": 145,
    "start_time": "2022-10-22T09:37:51.457Z"
   },
   {
    "duration": 141,
    "start_time": "2022-10-22T09:37:51.605Z"
   },
   {
    "duration": 5,
    "start_time": "2022-10-22T09:37:51.748Z"
   },
   {
    "duration": 220,
    "start_time": "2022-10-22T09:37:51.754Z"
   },
   {
    "duration": 160,
    "start_time": "2022-10-22T09:37:51.976Z"
   },
   {
    "duration": 204,
    "start_time": "2022-10-22T09:37:52.138Z"
   },
   {
    "duration": 138,
    "start_time": "2022-10-22T09:37:52.344Z"
   },
   {
    "duration": 105,
    "start_time": "2022-10-22T09:37:52.484Z"
   },
   {
    "duration": 5,
    "start_time": "2022-10-22T09:37:52.590Z"
   },
   {
    "duration": 198,
    "start_time": "2022-10-22T09:37:52.597Z"
   },
   {
    "duration": 124,
    "start_time": "2022-10-22T09:37:52.796Z"
   },
   {
    "duration": 218,
    "start_time": "2022-10-22T09:37:52.922Z"
   },
   {
    "duration": 182,
    "start_time": "2022-10-22T09:37:53.141Z"
   },
   {
    "duration": 161,
    "start_time": "2022-10-22T09:37:53.324Z"
   },
   {
    "duration": 5,
    "start_time": "2022-10-22T09:37:53.487Z"
   },
   {
    "duration": 172,
    "start_time": "2022-10-22T09:37:53.493Z"
   },
   {
    "duration": 177,
    "start_time": "2022-10-22T09:37:53.666Z"
   },
   {
    "duration": 205,
    "start_time": "2022-10-22T09:37:53.845Z"
   },
   {
    "duration": 133,
    "start_time": "2022-10-22T09:37:54.052Z"
   },
   {
    "duration": 158,
    "start_time": "2022-10-22T09:37:54.187Z"
   },
   {
    "duration": 4,
    "start_time": "2022-10-22T09:37:54.347Z"
   },
   {
    "duration": 165,
    "start_time": "2022-10-22T09:37:54.352Z"
   },
   {
    "duration": 9,
    "start_time": "2022-10-22T09:37:54.519Z"
   },
   {
    "duration": 152,
    "start_time": "2022-10-22T09:37:54.529Z"
   },
   {
    "duration": 157,
    "start_time": "2022-10-22T09:37:54.685Z"
   },
   {
    "duration": 174,
    "start_time": "2022-10-22T09:37:54.843Z"
   },
   {
    "duration": 28,
    "start_time": "2022-10-22T09:37:55.019Z"
   },
   {
    "duration": 21,
    "start_time": "2022-10-22T09:37:55.048Z"
   },
   {
    "duration": 35,
    "start_time": "2022-10-22T09:37:55.071Z"
   },
   {
    "duration": 26,
    "start_time": "2022-10-22T09:37:55.108Z"
   },
   {
    "duration": 25,
    "start_time": "2022-10-22T09:37:55.136Z"
   },
   {
    "duration": 10,
    "start_time": "2022-10-22T09:37:55.163Z"
   },
   {
    "duration": 172,
    "start_time": "2022-10-22T09:37:55.175Z"
   },
   {
    "duration": 10,
    "start_time": "2022-10-22T09:37:55.349Z"
   },
   {
    "duration": 15,
    "start_time": "2022-10-22T09:37:55.360Z"
   },
   {
    "duration": 9,
    "start_time": "2022-10-22T09:37:55.377Z"
   },
   {
    "duration": 7,
    "start_time": "2022-10-22T09:37:55.405Z"
   },
   {
    "duration": 12,
    "start_time": "2022-10-22T09:37:55.414Z"
   },
   {
    "duration": 13,
    "start_time": "2022-10-22T09:37:55.428Z"
   },
   {
    "duration": 70,
    "start_time": "2022-10-22T09:37:55.443Z"
   },
   {
    "duration": 288,
    "start_time": "2022-10-22T09:37:55.515Z"
   },
   {
    "duration": 9,
    "start_time": "2022-10-22T09:37:55.805Z"
   },
   {
    "duration": 11,
    "start_time": "2022-10-22T09:37:55.815Z"
   },
   {
    "duration": 242,
    "start_time": "2022-10-22T09:37:55.827Z"
   },
   {
    "duration": 163,
    "start_time": "2022-10-22T09:37:56.070Z"
   },
   {
    "duration": 119,
    "start_time": "2022-10-22T09:37:56.235Z"
   },
   {
    "duration": 141,
    "start_time": "2022-10-22T09:37:56.355Z"
   },
   {
    "duration": 124,
    "start_time": "2022-10-22T09:37:56.498Z"
   },
   {
    "duration": 113,
    "start_time": "2022-10-22T09:37:56.624Z"
   },
   {
    "duration": 9,
    "start_time": "2022-10-22T09:37:56.739Z"
   },
   {
    "duration": 169,
    "start_time": "2022-10-22T09:37:56.749Z"
   },
   {
    "duration": 16,
    "start_time": "2022-10-22T09:37:56.920Z"
   },
   {
    "duration": 19,
    "start_time": "2022-10-22T09:37:56.937Z"
   },
   {
    "duration": 16,
    "start_time": "2022-10-22T09:37:56.958Z"
   },
   {
    "duration": 11,
    "start_time": "2022-10-22T09:37:56.975Z"
   },
   {
    "duration": 29,
    "start_time": "2022-10-22T09:37:56.988Z"
   },
   {
    "duration": 12,
    "start_time": "2022-10-22T09:37:57.018Z"
   },
   {
    "duration": 21,
    "start_time": "2022-10-22T09:37:57.031Z"
   },
   {
    "duration": 11,
    "start_time": "2022-10-22T09:37:57.053Z"
   },
   {
    "duration": 7,
    "start_time": "2022-10-22T09:37:57.065Z"
   },
   {
    "duration": 41,
    "start_time": "2022-10-22T09:37:57.074Z"
   },
   {
    "duration": 23,
    "start_time": "2022-10-22T09:37:57.116Z"
   },
   {
    "duration": 160,
    "start_time": "2022-10-22T09:39:55.139Z"
   },
   {
    "duration": 284,
    "start_time": "2022-10-22T09:40:03.854Z"
   },
   {
    "duration": 1025,
    "start_time": "2022-10-22T09:40:15.255Z"
   },
   {
    "duration": 62,
    "start_time": "2022-10-22T09:40:16.282Z"
   },
   {
    "duration": 22,
    "start_time": "2022-10-22T09:40:16.346Z"
   },
   {
    "duration": 7,
    "start_time": "2022-10-22T09:40:16.370Z"
   },
   {
    "duration": 5,
    "start_time": "2022-10-22T09:40:16.379Z"
   },
   {
    "duration": 26,
    "start_time": "2022-10-22T09:40:16.386Z"
   },
   {
    "duration": 12,
    "start_time": "2022-10-22T09:40:16.414Z"
   },
   {
    "duration": 12,
    "start_time": "2022-10-22T09:40:16.428Z"
   },
   {
    "duration": 5,
    "start_time": "2022-10-22T09:40:16.441Z"
   },
   {
    "duration": 18,
    "start_time": "2022-10-22T09:40:16.449Z"
   },
   {
    "duration": 42,
    "start_time": "2022-10-22T09:40:16.469Z"
   },
   {
    "duration": 5,
    "start_time": "2022-10-22T09:40:16.512Z"
   },
   {
    "duration": 9,
    "start_time": "2022-10-22T09:40:16.519Z"
   },
   {
    "duration": 116,
    "start_time": "2022-10-22T09:40:16.529Z"
   },
   {
    "duration": 207,
    "start_time": "2022-10-22T09:40:16.646Z"
   },
   {
    "duration": 161,
    "start_time": "2022-10-22T09:40:16.854Z"
   },
   {
    "duration": 150,
    "start_time": "2022-10-22T09:40:17.016Z"
   },
   {
    "duration": 154,
    "start_time": "2022-10-22T09:40:17.167Z"
   },
   {
    "duration": 6,
    "start_time": "2022-10-22T09:40:17.322Z"
   },
   {
    "duration": 223,
    "start_time": "2022-10-22T09:40:17.329Z"
   },
   {
    "duration": 207,
    "start_time": "2022-10-22T09:40:17.554Z"
   },
   {
    "duration": 237,
    "start_time": "2022-10-22T09:40:17.763Z"
   },
   {
    "duration": 160,
    "start_time": "2022-10-22T09:40:18.001Z"
   },
   {
    "duration": 122,
    "start_time": "2022-10-22T09:40:18.163Z"
   },
   {
    "duration": 4,
    "start_time": "2022-10-22T09:40:18.287Z"
   },
   {
    "duration": 161,
    "start_time": "2022-10-22T09:40:18.293Z"
   },
   {
    "duration": 92,
    "start_time": "2022-10-22T09:40:18.455Z"
   },
   {
    "duration": 167,
    "start_time": "2022-10-22T09:40:18.550Z"
   },
   {
    "duration": 140,
    "start_time": "2022-10-22T09:40:18.719Z"
   },
   {
    "duration": 156,
    "start_time": "2022-10-22T09:40:18.861Z"
   },
   {
    "duration": 5,
    "start_time": "2022-10-22T09:40:19.019Z"
   },
   {
    "duration": 241,
    "start_time": "2022-10-22T09:40:19.025Z"
   },
   {
    "duration": 100,
    "start_time": "2022-10-22T09:40:19.267Z"
   },
   {
    "duration": 243,
    "start_time": "2022-10-22T09:40:19.369Z"
   },
   {
    "duration": 126,
    "start_time": "2022-10-22T09:40:19.614Z"
   },
   {
    "duration": 154,
    "start_time": "2022-10-22T09:40:19.742Z"
   },
   {
    "duration": 176,
    "start_time": "2022-10-22T09:40:19.898Z"
   },
   {
    "duration": 5,
    "start_time": "2022-10-22T09:40:20.076Z"
   },
   {
    "duration": 166,
    "start_time": "2022-10-22T09:40:20.083Z"
   },
   {
    "duration": 11,
    "start_time": "2022-10-22T09:40:20.251Z"
   },
   {
    "duration": 171,
    "start_time": "2022-10-22T09:40:20.264Z"
   },
   {
    "duration": 155,
    "start_time": "2022-10-22T09:40:20.436Z"
   },
   {
    "duration": 251,
    "start_time": "2022-10-22T09:40:20.593Z"
   },
   {
    "duration": 19,
    "start_time": "2022-10-22T09:40:20.845Z"
   },
   {
    "duration": 26,
    "start_time": "2022-10-22T09:40:20.865Z"
   },
   {
    "duration": 27,
    "start_time": "2022-10-22T09:40:20.893Z"
   },
   {
    "duration": 24,
    "start_time": "2022-10-22T09:40:20.921Z"
   },
   {
    "duration": 22,
    "start_time": "2022-10-22T09:40:20.947Z"
   },
   {
    "duration": 12,
    "start_time": "2022-10-22T09:40:20.970Z"
   },
   {
    "duration": 158,
    "start_time": "2022-10-22T09:40:20.983Z"
   },
   {
    "duration": 9,
    "start_time": "2022-10-22T09:40:21.143Z"
   },
   {
    "duration": 14,
    "start_time": "2022-10-22T09:40:21.154Z"
   },
   {
    "duration": 11,
    "start_time": "2022-10-22T09:40:21.170Z"
   },
   {
    "duration": 9,
    "start_time": "2022-10-22T09:40:21.205Z"
   },
   {
    "duration": 10,
    "start_time": "2022-10-22T09:40:21.215Z"
   },
   {
    "duration": 13,
    "start_time": "2022-10-22T09:40:21.226Z"
   },
   {
    "duration": 75,
    "start_time": "2022-10-22T09:40:21.241Z"
   },
   {
    "duration": 202,
    "start_time": "2022-10-22T09:40:21.317Z"
   },
   {
    "duration": 9,
    "start_time": "2022-10-22T09:40:21.521Z"
   },
   {
    "duration": 11,
    "start_time": "2022-10-22T09:40:21.531Z"
   },
   {
    "duration": 244,
    "start_time": "2022-10-22T09:40:21.543Z"
   },
   {
    "duration": 172,
    "start_time": "2022-10-22T09:40:21.789Z"
   },
   {
    "duration": 118,
    "start_time": "2022-10-22T09:40:21.962Z"
   },
   {
    "duration": 139,
    "start_time": "2022-10-22T09:40:22.081Z"
   },
   {
    "duration": 133,
    "start_time": "2022-10-22T09:40:22.222Z"
   },
   {
    "duration": 206,
    "start_time": "2022-10-22T09:40:22.357Z"
   },
   {
    "duration": 9,
    "start_time": "2022-10-22T09:40:22.565Z"
   },
   {
    "duration": 179,
    "start_time": "2022-10-22T09:40:22.576Z"
   },
   {
    "duration": 16,
    "start_time": "2022-10-22T09:40:22.756Z"
   },
   {
    "duration": 12,
    "start_time": "2022-10-22T09:40:22.774Z"
   },
   {
    "duration": 16,
    "start_time": "2022-10-22T09:40:22.804Z"
   },
   {
    "duration": 12,
    "start_time": "2022-10-22T09:40:22.821Z"
   },
   {
    "duration": 14,
    "start_time": "2022-10-22T09:40:22.834Z"
   },
   {
    "duration": 11,
    "start_time": "2022-10-22T09:40:22.850Z"
   },
   {
    "duration": 43,
    "start_time": "2022-10-22T09:40:22.863Z"
   },
   {
    "duration": 12,
    "start_time": "2022-10-22T09:40:22.908Z"
   },
   {
    "duration": 8,
    "start_time": "2022-10-22T09:40:22.921Z"
   },
   {
    "duration": 23,
    "start_time": "2022-10-22T09:40:22.931Z"
   },
   {
    "duration": 21,
    "start_time": "2022-10-22T09:40:22.956Z"
   },
   {
    "duration": 166,
    "start_time": "2022-10-22T09:43:19.421Z"
   },
   {
    "duration": 160,
    "start_time": "2022-10-22T09:43:20.411Z"
   },
   {
    "duration": 10,
    "start_time": "2022-10-22T09:43:28.258Z"
   },
   {
    "duration": 9,
    "start_time": "2022-10-22T09:43:28.540Z"
   },
   {
    "duration": 11,
    "start_time": "2022-10-22T09:43:28.953Z"
   },
   {
    "duration": 4,
    "start_time": "2022-10-22T09:43:29.586Z"
   },
   {
    "duration": 8,
    "start_time": "2022-10-22T09:43:30.425Z"
   },
   {
    "duration": 11,
    "start_time": "2022-10-22T09:43:30.889Z"
   },
   {
    "duration": 5,
    "start_time": "2022-10-22T09:43:31.581Z"
   },
   {
    "duration": 9,
    "start_time": "2022-10-22T09:43:31.800Z"
   },
   {
    "duration": 85,
    "start_time": "2022-10-22T09:43:32.477Z"
   },
   {
    "duration": 266,
    "start_time": "2022-10-22T09:43:32.782Z"
   },
   {
    "duration": 147,
    "start_time": "2022-10-22T09:43:34.880Z"
   },
   {
    "duration": 151,
    "start_time": "2022-10-22T09:43:35.576Z"
   },
   {
    "duration": 149,
    "start_time": "2022-10-22T09:43:35.728Z"
   },
   {
    "duration": 5,
    "start_time": "2022-10-22T09:43:56.405Z"
   },
   {
    "duration": 178,
    "start_time": "2022-10-22T09:44:01.880Z"
   },
   {
    "duration": 215,
    "start_time": "2022-10-22T09:44:03.170Z"
   },
   {
    "duration": 127,
    "start_time": "2022-10-22T09:44:04.202Z"
   },
   {
    "duration": 97,
    "start_time": "2022-10-22T09:44:05.242Z"
   },
   {
    "duration": 1038,
    "start_time": "2022-10-22T09:47:53.369Z"
   },
   {
    "duration": 63,
    "start_time": "2022-10-22T09:47:54.409Z"
   },
   {
    "duration": 22,
    "start_time": "2022-10-22T09:47:54.473Z"
   },
   {
    "duration": 7,
    "start_time": "2022-10-22T09:47:54.497Z"
   },
   {
    "duration": 6,
    "start_time": "2022-10-22T09:47:54.506Z"
   },
   {
    "duration": 12,
    "start_time": "2022-10-22T09:47:54.513Z"
   },
   {
    "duration": 11,
    "start_time": "2022-10-22T09:47:54.527Z"
   },
   {
    "duration": 14,
    "start_time": "2022-10-22T09:47:54.540Z"
   },
   {
    "duration": 4,
    "start_time": "2022-10-22T09:47:54.555Z"
   },
   {
    "duration": 20,
    "start_time": "2022-10-22T09:47:54.561Z"
   },
   {
    "duration": 11,
    "start_time": "2022-10-22T09:47:54.605Z"
   },
   {
    "duration": 4,
    "start_time": "2022-10-22T09:47:54.618Z"
   },
   {
    "duration": 8,
    "start_time": "2022-10-22T09:47:54.623Z"
   },
   {
    "duration": 117,
    "start_time": "2022-10-22T09:47:54.633Z"
   },
   {
    "duration": 220,
    "start_time": "2022-10-22T09:47:54.752Z"
   },
   {
    "duration": 169,
    "start_time": "2022-10-22T09:47:54.973Z"
   },
   {
    "duration": 149,
    "start_time": "2022-10-22T09:47:55.143Z"
   },
   {
    "duration": 151,
    "start_time": "2022-10-22T09:47:55.293Z"
   },
   {
    "duration": 6,
    "start_time": "2022-10-22T09:47:55.446Z"
   },
   {
    "duration": 96,
    "start_time": "2022-10-22T09:47:55.453Z"
   },
   {
    "duration": 294,
    "start_time": "2022-10-22T09:47:55.551Z"
   },
   {
    "duration": 131,
    "start_time": "2022-10-22T09:47:55.847Z"
   },
   {
    "duration": 106,
    "start_time": "2022-10-22T09:47:55.979Z"
   },
   {
    "duration": 86,
    "start_time": "2022-10-22T09:47:56.087Z"
   },
   {
    "duration": 177,
    "start_time": "2022-10-22T09:47:56.174Z"
   },
   {
    "duration": 144,
    "start_time": "2022-10-22T09:47:56.352Z"
   },
   {
    "duration": 165,
    "start_time": "2022-10-22T09:47:56.498Z"
   },
   {
    "duration": 87,
    "start_time": "2022-10-22T09:47:56.666Z"
   },
   {
    "duration": 212,
    "start_time": "2022-10-22T09:47:56.755Z"
   },
   {
    "duration": 124,
    "start_time": "2022-10-22T09:47:56.969Z"
   },
   {
    "duration": 266,
    "start_time": "2022-10-22T09:47:57.094Z"
   },
   {
    "duration": 227,
    "start_time": "2022-10-22T09:47:57.362Z"
   },
   {
    "duration": 15,
    "start_time": "2022-10-22T09:47:57.591Z"
   },
   {
    "duration": 146,
    "start_time": "2022-10-22T09:47:57.607Z"
   },
   {
    "duration": 163,
    "start_time": "2022-10-22T09:47:57.755Z"
   },
   {
    "duration": 185,
    "start_time": "2022-10-22T09:47:57.920Z"
   },
   {
    "duration": 19,
    "start_time": "2022-10-22T09:47:58.107Z"
   },
   {
    "duration": 18,
    "start_time": "2022-10-22T09:47:58.127Z"
   },
   {
    "duration": 21,
    "start_time": "2022-10-22T09:47:58.146Z"
   },
   {
    "duration": 49,
    "start_time": "2022-10-22T09:47:58.168Z"
   },
   {
    "duration": 24,
    "start_time": "2022-10-22T09:47:58.218Z"
   },
   {
    "duration": 11,
    "start_time": "2022-10-22T09:47:58.243Z"
   },
   {
    "duration": 181,
    "start_time": "2022-10-22T09:47:58.255Z"
   },
   {
    "duration": 9,
    "start_time": "2022-10-22T09:47:58.438Z"
   },
   {
    "duration": 22,
    "start_time": "2022-10-22T09:47:58.449Z"
   },
   {
    "duration": 11,
    "start_time": "2022-10-22T09:47:58.472Z"
   },
   {
    "duration": 7,
    "start_time": "2022-10-22T09:47:58.484Z"
   },
   {
    "duration": 7,
    "start_time": "2022-10-22T09:47:58.504Z"
   },
   {
    "duration": 13,
    "start_time": "2022-10-22T09:47:58.512Z"
   },
   {
    "duration": 58,
    "start_time": "2022-10-22T09:47:58.526Z"
   },
   {
    "duration": 194,
    "start_time": "2022-10-22T09:47:58.605Z"
   },
   {
    "duration": 9,
    "start_time": "2022-10-22T09:47:58.805Z"
   },
   {
    "duration": 11,
    "start_time": "2022-10-22T09:47:58.815Z"
   },
   {
    "duration": 249,
    "start_time": "2022-10-22T09:47:58.827Z"
   },
   {
    "duration": 562,
    "start_time": "2022-10-22T09:47:59.077Z"
   },
   {
    "duration": 279,
    "start_time": "2022-10-22T09:47:59.641Z"
   },
   {
    "duration": 292,
    "start_time": "2022-10-22T09:47:59.922Z"
   },
   {
    "duration": 307,
    "start_time": "2022-10-22T09:48:00.215Z"
   },
   {
    "duration": 207,
    "start_time": "2022-10-22T09:48:00.525Z"
   },
   {
    "duration": 9,
    "start_time": "2022-10-22T09:48:00.733Z"
   },
   {
    "duration": 215,
    "start_time": "2022-10-22T09:48:00.743Z"
   },
   {
    "duration": 16,
    "start_time": "2022-10-22T09:48:00.960Z"
   },
   {
    "duration": 46,
    "start_time": "2022-10-22T09:48:00.977Z"
   },
   {
    "duration": 33,
    "start_time": "2022-10-22T09:48:01.025Z"
   },
   {
    "duration": 24,
    "start_time": "2022-10-22T09:48:01.060Z"
   },
   {
    "duration": 32,
    "start_time": "2022-10-22T09:48:01.086Z"
   },
   {
    "duration": 16,
    "start_time": "2022-10-22T09:48:01.119Z"
   },
   {
    "duration": 38,
    "start_time": "2022-10-22T09:48:01.136Z"
   },
   {
    "duration": 25,
    "start_time": "2022-10-22T09:48:01.175Z"
   },
   {
    "duration": 29,
    "start_time": "2022-10-22T09:48:01.201Z"
   },
   {
    "duration": 47,
    "start_time": "2022-10-22T09:48:01.232Z"
   },
   {
    "duration": 33,
    "start_time": "2022-10-22T09:48:01.280Z"
   },
   {
    "duration": 10,
    "start_time": "2022-10-22T09:55:29.385Z"
   },
   {
    "duration": 174,
    "start_time": "2022-10-22T10:01:58.976Z"
   },
   {
    "duration": 136,
    "start_time": "2022-10-22T10:02:04.513Z"
   },
   {
    "duration": 231,
    "start_time": "2022-10-22T10:02:34.854Z"
   },
   {
    "duration": 156,
    "start_time": "2022-10-22T10:06:20.937Z"
   },
   {
    "duration": 369,
    "start_time": "2022-10-22T10:07:48.172Z"
   },
   {
    "duration": 302,
    "start_time": "2022-10-22T10:08:19.873Z"
   },
   {
    "duration": 162,
    "start_time": "2022-10-22T10:08:29.755Z"
   },
   {
    "duration": 119,
    "start_time": "2022-10-22T10:09:43.877Z"
   },
   {
    "duration": 137,
    "start_time": "2022-10-22T10:10:08.308Z"
   },
   {
    "duration": 129,
    "start_time": "2022-10-22T10:10:21.868Z"
   },
   {
    "duration": 119,
    "start_time": "2022-10-22T10:10:28.433Z"
   },
   {
    "duration": 173,
    "start_time": "2022-10-22T10:11:19.027Z"
   },
   {
    "duration": 8,
    "start_time": "2022-10-22T10:14:56.354Z"
   },
   {
    "duration": 9,
    "start_time": "2022-10-22T10:15:06.296Z"
   },
   {
    "duration": 172,
    "start_time": "2022-10-22T10:15:14.601Z"
   },
   {
    "duration": 149,
    "start_time": "2022-10-22T10:15:27.449Z"
   },
   {
    "duration": 308,
    "start_time": "2022-10-22T10:15:32.422Z"
   },
   {
    "duration": 135,
    "start_time": "2022-10-22T10:15:50.201Z"
   },
   {
    "duration": 266,
    "start_time": "2022-10-22T10:17:15.952Z"
   },
   {
    "duration": 225,
    "start_time": "2022-10-22T10:17:22.182Z"
   },
   {
    "duration": 223,
    "start_time": "2022-10-22T10:17:29.460Z"
   },
   {
    "duration": 272,
    "start_time": "2022-10-22T10:18:07.915Z"
   },
   {
    "duration": 336,
    "start_time": "2022-10-22T10:18:15.151Z"
   },
   {
    "duration": 127,
    "start_time": "2022-10-22T10:23:56.874Z"
   },
   {
    "duration": 182,
    "start_time": "2022-10-22T10:24:16.896Z"
   },
   {
    "duration": 139,
    "start_time": "2022-10-22T10:24:40.075Z"
   },
   {
    "duration": 150,
    "start_time": "2022-10-22T10:25:21.540Z"
   },
   {
    "duration": 127,
    "start_time": "2022-10-22T10:25:33.301Z"
   },
   {
    "duration": 112,
    "start_time": "2022-10-22T10:25:34.213Z"
   },
   {
    "duration": 9,
    "start_time": "2022-10-22T10:25:37.788Z"
   },
   {
    "duration": 127,
    "start_time": "2022-10-22T10:29:12.345Z"
   },
   {
    "duration": 117,
    "start_time": "2022-10-22T10:29:28.689Z"
   },
   {
    "duration": 8,
    "start_time": "2022-10-22T10:29:43.876Z"
   },
   {
    "duration": 1091,
    "start_time": "2022-10-22T10:30:38.257Z"
   },
   {
    "duration": 67,
    "start_time": "2022-10-22T10:30:39.350Z"
   },
   {
    "duration": 25,
    "start_time": "2022-10-22T10:30:39.419Z"
   },
   {
    "duration": 9,
    "start_time": "2022-10-22T10:30:39.446Z"
   },
   {
    "duration": 10,
    "start_time": "2022-10-22T10:30:39.456Z"
   },
   {
    "duration": 36,
    "start_time": "2022-10-22T10:30:39.468Z"
   },
   {
    "duration": 13,
    "start_time": "2022-10-22T10:30:39.506Z"
   },
   {
    "duration": 13,
    "start_time": "2022-10-22T10:30:39.520Z"
   },
   {
    "duration": 5,
    "start_time": "2022-10-22T10:30:39.535Z"
   },
   {
    "duration": 21,
    "start_time": "2022-10-22T10:30:39.542Z"
   },
   {
    "duration": 42,
    "start_time": "2022-10-22T10:30:39.565Z"
   },
   {
    "duration": 6,
    "start_time": "2022-10-22T10:30:39.609Z"
   },
   {
    "duration": 10,
    "start_time": "2022-10-22T10:30:39.616Z"
   },
   {
    "duration": 129,
    "start_time": "2022-10-22T10:30:39.627Z"
   },
   {
    "duration": 244,
    "start_time": "2022-10-22T10:30:39.757Z"
   },
   {
    "duration": 174,
    "start_time": "2022-10-22T10:30:40.004Z"
   },
   {
    "duration": 166,
    "start_time": "2022-10-22T10:30:40.179Z"
   },
   {
    "duration": 170,
    "start_time": "2022-10-22T10:30:40.346Z"
   },
   {
    "duration": 6,
    "start_time": "2022-10-22T10:30:40.518Z"
   },
   {
    "duration": 114,
    "start_time": "2022-10-22T10:30:40.526Z"
   },
   {
    "duration": 282,
    "start_time": "2022-10-22T10:30:40.641Z"
   },
   {
    "duration": 134,
    "start_time": "2022-10-22T10:30:40.924Z"
   },
   {
    "duration": 104,
    "start_time": "2022-10-22T10:30:41.059Z"
   },
   {
    "duration": 88,
    "start_time": "2022-10-22T10:30:41.165Z"
   },
   {
    "duration": 163,
    "start_time": "2022-10-22T10:30:41.254Z"
   },
   {
    "duration": 143,
    "start_time": "2022-10-22T10:30:41.418Z"
   },
   {
    "duration": 187,
    "start_time": "2022-10-22T10:30:41.562Z"
   },
   {
    "duration": 96,
    "start_time": "2022-10-22T10:30:41.753Z"
   },
   {
    "duration": 221,
    "start_time": "2022-10-22T10:30:41.851Z"
   },
   {
    "duration": 131,
    "start_time": "2022-10-22T10:30:42.074Z"
   },
   {
    "duration": 274,
    "start_time": "2022-10-22T10:30:42.207Z"
   },
   {
    "duration": 172,
    "start_time": "2022-10-22T10:30:42.483Z"
   },
   {
    "duration": 11,
    "start_time": "2022-10-22T10:30:42.656Z"
   },
   {
    "duration": 169,
    "start_time": "2022-10-22T10:30:42.669Z"
   },
   {
    "duration": 172,
    "start_time": "2022-10-22T10:30:42.840Z"
   },
   {
    "duration": 171,
    "start_time": "2022-10-22T10:30:43.013Z"
   },
   {
    "duration": 25,
    "start_time": "2022-10-22T10:30:43.185Z"
   },
   {
    "duration": 19,
    "start_time": "2022-10-22T10:30:43.212Z"
   },
   {
    "duration": 19,
    "start_time": "2022-10-22T10:30:43.233Z"
   },
   {
    "duration": 25,
    "start_time": "2022-10-22T10:30:43.253Z"
   },
   {
    "duration": 48,
    "start_time": "2022-10-22T10:30:43.279Z"
   },
   {
    "duration": 10,
    "start_time": "2022-10-22T10:30:43.329Z"
   },
   {
    "duration": 177,
    "start_time": "2022-10-22T10:30:43.340Z"
   },
   {
    "duration": 10,
    "start_time": "2022-10-22T10:30:43.518Z"
   },
   {
    "duration": 18,
    "start_time": "2022-10-22T10:30:43.529Z"
   },
   {
    "duration": 11,
    "start_time": "2022-10-22T10:30:43.548Z"
   },
   {
    "duration": 8,
    "start_time": "2022-10-22T10:30:43.560Z"
   },
   {
    "duration": 13,
    "start_time": "2022-10-22T10:30:43.570Z"
   },
   {
    "duration": 11,
    "start_time": "2022-10-22T10:30:43.605Z"
   },
   {
    "duration": 58,
    "start_time": "2022-10-22T10:30:43.618Z"
   },
   {
    "duration": 141,
    "start_time": "2022-10-22T10:30:43.678Z"
   },
   {
    "duration": 9,
    "start_time": "2022-10-22T10:30:43.821Z"
   },
   {
    "duration": 11,
    "start_time": "2022-10-22T10:30:43.832Z"
   },
   {
    "duration": 261,
    "start_time": "2022-10-22T10:30:43.845Z"
   },
   {
    "duration": 102,
    "start_time": "2022-10-22T10:30:44.108Z"
   },
   {
    "duration": 0,
    "start_time": "2022-10-22T10:30:44.211Z"
   },
   {
    "duration": 0,
    "start_time": "2022-10-22T10:30:44.212Z"
   },
   {
    "duration": 0,
    "start_time": "2022-10-22T10:30:44.213Z"
   },
   {
    "duration": 0,
    "start_time": "2022-10-22T10:30:44.214Z"
   },
   {
    "duration": 0,
    "start_time": "2022-10-22T10:30:44.215Z"
   },
   {
    "duration": 0,
    "start_time": "2022-10-22T10:30:44.216Z"
   },
   {
    "duration": 0,
    "start_time": "2022-10-22T10:30:44.217Z"
   },
   {
    "duration": 0,
    "start_time": "2022-10-22T10:30:44.218Z"
   },
   {
    "duration": 0,
    "start_time": "2022-10-22T10:30:44.219Z"
   },
   {
    "duration": 0,
    "start_time": "2022-10-22T10:30:44.220Z"
   },
   {
    "duration": 0,
    "start_time": "2022-10-22T10:30:44.221Z"
   },
   {
    "duration": 0,
    "start_time": "2022-10-22T10:30:44.222Z"
   },
   {
    "duration": 0,
    "start_time": "2022-10-22T10:30:44.224Z"
   },
   {
    "duration": 0,
    "start_time": "2022-10-22T10:30:44.225Z"
   },
   {
    "duration": 0,
    "start_time": "2022-10-22T10:30:44.226Z"
   },
   {
    "duration": 0,
    "start_time": "2022-10-22T10:30:44.227Z"
   },
   {
    "duration": 0,
    "start_time": "2022-10-22T10:30:44.228Z"
   },
   {
    "duration": 0,
    "start_time": "2022-10-22T10:30:44.229Z"
   },
   {
    "duration": 0,
    "start_time": "2022-10-22T10:30:44.230Z"
   },
   {
    "duration": 0,
    "start_time": "2022-10-22T10:30:44.231Z"
   },
   {
    "duration": 186,
    "start_time": "2022-10-22T10:31:12.638Z"
   },
   {
    "duration": 1094,
    "start_time": "2022-10-22T10:31:22.278Z"
   },
   {
    "duration": 61,
    "start_time": "2022-10-22T10:31:23.374Z"
   },
   {
    "duration": 23,
    "start_time": "2022-10-22T10:31:23.436Z"
   },
   {
    "duration": 7,
    "start_time": "2022-10-22T10:31:23.461Z"
   },
   {
    "duration": 9,
    "start_time": "2022-10-22T10:31:23.470Z"
   },
   {
    "duration": 25,
    "start_time": "2022-10-22T10:31:23.481Z"
   },
   {
    "duration": 12,
    "start_time": "2022-10-22T10:31:23.507Z"
   },
   {
    "duration": 13,
    "start_time": "2022-10-22T10:31:23.520Z"
   },
   {
    "duration": 4,
    "start_time": "2022-10-22T10:31:23.534Z"
   },
   {
    "duration": 21,
    "start_time": "2022-10-22T10:31:23.540Z"
   },
   {
    "duration": 9,
    "start_time": "2022-10-22T10:31:23.562Z"
   },
   {
    "duration": 4,
    "start_time": "2022-10-22T10:31:23.572Z"
   },
   {
    "duration": 8,
    "start_time": "2022-10-22T10:31:23.606Z"
   },
   {
    "duration": 108,
    "start_time": "2022-10-22T10:31:23.615Z"
   },
   {
    "duration": 213,
    "start_time": "2022-10-22T10:31:23.725Z"
   },
   {
    "duration": 161,
    "start_time": "2022-10-22T10:31:23.940Z"
   },
   {
    "duration": 148,
    "start_time": "2022-10-22T10:31:24.104Z"
   },
   {
    "duration": 151,
    "start_time": "2022-10-22T10:31:24.254Z"
   },
   {
    "duration": 5,
    "start_time": "2022-10-22T10:31:24.406Z"
   },
   {
    "duration": 100,
    "start_time": "2022-10-22T10:31:24.413Z"
   },
   {
    "duration": 297,
    "start_time": "2022-10-22T10:31:24.514Z"
   },
   {
    "duration": 130,
    "start_time": "2022-10-22T10:31:24.813Z"
   },
   {
    "duration": 102,
    "start_time": "2022-10-22T10:31:24.945Z"
   },
   {
    "duration": 92,
    "start_time": "2022-10-22T10:31:25.049Z"
   },
   {
    "duration": 169,
    "start_time": "2022-10-22T10:31:25.143Z"
   },
   {
    "duration": 135,
    "start_time": "2022-10-22T10:31:25.314Z"
   },
   {
    "duration": 163,
    "start_time": "2022-10-22T10:31:25.451Z"
   },
   {
    "duration": 94,
    "start_time": "2022-10-22T10:31:25.619Z"
   },
   {
    "duration": 217,
    "start_time": "2022-10-22T10:31:25.715Z"
   },
   {
    "duration": 129,
    "start_time": "2022-10-22T10:31:25.934Z"
   },
   {
    "duration": 264,
    "start_time": "2022-10-22T10:31:26.065Z"
   },
   {
    "duration": 162,
    "start_time": "2022-10-22T10:31:26.331Z"
   },
   {
    "duration": 16,
    "start_time": "2022-10-22T10:31:26.494Z"
   },
   {
    "duration": 146,
    "start_time": "2022-10-22T10:31:26.511Z"
   },
   {
    "duration": 157,
    "start_time": "2022-10-22T10:31:26.658Z"
   },
   {
    "duration": 162,
    "start_time": "2022-10-22T10:31:26.816Z"
   },
   {
    "duration": 26,
    "start_time": "2022-10-22T10:31:26.979Z"
   },
   {
    "duration": 19,
    "start_time": "2022-10-22T10:31:27.007Z"
   },
   {
    "duration": 21,
    "start_time": "2022-10-22T10:31:27.027Z"
   },
   {
    "duration": 26,
    "start_time": "2022-10-22T10:31:27.049Z"
   },
   {
    "duration": 50,
    "start_time": "2022-10-22T10:31:27.076Z"
   },
   {
    "duration": 10,
    "start_time": "2022-10-22T10:31:27.127Z"
   },
   {
    "duration": 168,
    "start_time": "2022-10-22T10:31:27.138Z"
   },
   {
    "duration": 9,
    "start_time": "2022-10-22T10:31:27.307Z"
   },
   {
    "duration": 17,
    "start_time": "2022-10-22T10:31:27.318Z"
   },
   {
    "duration": 10,
    "start_time": "2022-10-22T10:31:27.337Z"
   },
   {
    "duration": 8,
    "start_time": "2022-10-22T10:31:27.349Z"
   },
   {
    "duration": 14,
    "start_time": "2022-10-22T10:31:27.358Z"
   },
   {
    "duration": 34,
    "start_time": "2022-10-22T10:31:27.373Z"
   },
   {
    "duration": 73,
    "start_time": "2022-10-22T10:31:27.409Z"
   },
   {
    "duration": 172,
    "start_time": "2022-10-22T10:31:27.483Z"
   },
   {
    "duration": 14,
    "start_time": "2022-10-22T10:31:27.657Z"
   },
   {
    "duration": 10,
    "start_time": "2022-10-22T10:31:27.672Z"
   },
   {
    "duration": 261,
    "start_time": "2022-10-22T10:31:27.684Z"
   },
   {
    "duration": 198,
    "start_time": "2022-10-22T10:31:27.948Z"
   },
   {
    "duration": 230,
    "start_time": "2022-10-22T10:31:28.147Z"
   },
   {
    "duration": 249,
    "start_time": "2022-10-22T10:31:28.379Z"
   },
   {
    "duration": 140,
    "start_time": "2022-10-22T10:31:28.630Z"
   },
   {
    "duration": 116,
    "start_time": "2022-10-22T10:31:28.772Z"
   },
   {
    "duration": 16,
    "start_time": "2022-10-22T10:31:28.890Z"
   },
   {
    "duration": 129,
    "start_time": "2022-10-22T10:31:28.908Z"
   },
   {
    "duration": 120,
    "start_time": "2022-10-22T10:31:29.038Z"
   },
   {
    "duration": 8,
    "start_time": "2022-10-22T10:31:29.159Z"
   },
   {
    "duration": 96,
    "start_time": "2022-10-22T10:31:29.169Z"
   },
   {
    "duration": 0,
    "start_time": "2022-10-22T10:31:29.266Z"
   },
   {
    "duration": 0,
    "start_time": "2022-10-22T10:31:29.267Z"
   },
   {
    "duration": 0,
    "start_time": "2022-10-22T10:31:29.268Z"
   },
   {
    "duration": 0,
    "start_time": "2022-10-22T10:31:29.269Z"
   },
   {
    "duration": 0,
    "start_time": "2022-10-22T10:31:29.270Z"
   },
   {
    "duration": 0,
    "start_time": "2022-10-22T10:31:29.271Z"
   },
   {
    "duration": 0,
    "start_time": "2022-10-22T10:31:29.272Z"
   },
   {
    "duration": 0,
    "start_time": "2022-10-22T10:31:29.272Z"
   },
   {
    "duration": 0,
    "start_time": "2022-10-22T10:31:29.273Z"
   },
   {
    "duration": 0,
    "start_time": "2022-10-22T10:31:29.274Z"
   },
   {
    "duration": 0,
    "start_time": "2022-10-22T10:31:29.275Z"
   },
   {
    "duration": 124,
    "start_time": "2022-10-22T10:35:42.188Z"
   },
   {
    "duration": 111,
    "start_time": "2022-10-22T10:36:04.292Z"
   },
   {
    "duration": 9,
    "start_time": "2022-10-22T10:36:04.405Z"
   },
   {
    "duration": 120,
    "start_time": "2022-10-22T10:41:03.073Z"
   },
   {
    "duration": 132,
    "start_time": "2022-10-22T10:41:40.402Z"
   },
   {
    "duration": 10,
    "start_time": "2022-10-22T10:41:41.169Z"
   },
   {
    "duration": 100,
    "start_time": "2022-10-22T10:42:23.291Z"
   },
   {
    "duration": 184,
    "start_time": "2022-10-22T10:42:24.408Z"
   },
   {
    "duration": 9,
    "start_time": "2022-10-22T10:42:25.563Z"
   },
   {
    "duration": 117,
    "start_time": "2022-10-22T10:43:34.596Z"
   },
   {
    "duration": 121,
    "start_time": "2022-10-22T10:43:35.291Z"
   },
   {
    "duration": 10,
    "start_time": "2022-10-22T10:43:37.624Z"
   },
   {
    "duration": 169,
    "start_time": "2022-10-22T10:50:10.235Z"
   },
   {
    "duration": 5,
    "start_time": "2022-10-22T10:53:26.328Z"
   },
   {
    "duration": 166,
    "start_time": "2022-10-22T10:54:32.244Z"
   },
   {
    "duration": 178,
    "start_time": "2022-10-22T10:55:00.661Z"
   },
   {
    "duration": 181,
    "start_time": "2022-10-22T10:56:38.176Z"
   },
   {
    "duration": 166,
    "start_time": "2022-10-22T10:56:51.757Z"
   },
   {
    "duration": 9,
    "start_time": "2022-10-22T11:01:34.622Z"
   },
   {
    "duration": 1197,
    "start_time": "2022-10-22T11:01:50.294Z"
   },
   {
    "duration": 282,
    "start_time": "2022-10-22T11:02:15.805Z"
   },
   {
    "duration": 145,
    "start_time": "2022-10-22T11:09:33.529Z"
   },
   {
    "duration": 194,
    "start_time": "2022-10-22T11:10:50.082Z"
   },
   {
    "duration": 251,
    "start_time": "2022-10-22T11:11:00.435Z"
   },
   {
    "duration": 168,
    "start_time": "2022-10-22T11:12:08.595Z"
   },
   {
    "duration": 162,
    "start_time": "2022-10-22T11:12:51.401Z"
   },
   {
    "duration": 138,
    "start_time": "2022-10-22T11:13:55.806Z"
   },
   {
    "duration": 33,
    "start_time": "2022-10-22T11:16:51.891Z"
   },
   {
    "duration": 3,
    "start_time": "2022-10-22T11:17:15.252Z"
   },
   {
    "duration": 302,
    "start_time": "2022-10-22T11:17:16.050Z"
   },
   {
    "duration": 1242,
    "start_time": "2022-10-22T11:18:57.989Z"
   },
   {
    "duration": 1849,
    "start_time": "2022-10-22T11:20:35.611Z"
   },
   {
    "duration": 85,
    "start_time": "2022-10-22T11:21:59.982Z"
   },
   {
    "duration": 1280,
    "start_time": "2022-10-22T11:22:07.149Z"
   },
   {
    "duration": 1329,
    "start_time": "2022-10-22T11:22:50.629Z"
   },
   {
    "duration": 1247,
    "start_time": "2022-10-22T11:23:09.296Z"
   },
   {
    "duration": 295,
    "start_time": "2022-10-22T11:23:21.178Z"
   },
   {
    "duration": 1128,
    "start_time": "2022-10-22T11:24:10.889Z"
   },
   {
    "duration": 294,
    "start_time": "2022-10-22T11:25:45.036Z"
   },
   {
    "duration": 191,
    "start_time": "2022-10-22T11:27:15.836Z"
   },
   {
    "duration": 163,
    "start_time": "2022-10-22T11:28:23.974Z"
   },
   {
    "duration": 1171,
    "start_time": "2022-10-22T11:29:58.225Z"
   },
   {
    "duration": 20,
    "start_time": "2022-10-22T11:30:09.770Z"
   },
   {
    "duration": 155,
    "start_time": "2022-10-22T11:30:59.706Z"
   },
   {
    "duration": 19,
    "start_time": "2022-10-22T11:31:17.050Z"
   },
   {
    "duration": 212,
    "start_time": "2022-10-22T11:31:25.037Z"
   },
   {
    "duration": 249,
    "start_time": "2022-10-22T11:31:41.927Z"
   },
   {
    "duration": 168,
    "start_time": "2022-10-22T11:31:49.923Z"
   },
   {
    "duration": 165,
    "start_time": "2022-10-22T11:32:41.032Z"
   },
   {
    "duration": 173,
    "start_time": "2022-10-22T11:32:56.733Z"
   },
   {
    "duration": 167,
    "start_time": "2022-10-22T11:33:12.666Z"
   },
   {
    "duration": 157,
    "start_time": "2022-10-22T11:35:08.531Z"
   },
   {
    "duration": 28,
    "start_time": "2022-10-22T11:35:17.651Z"
   },
   {
    "duration": 151,
    "start_time": "2022-10-22T11:35:24.960Z"
   },
   {
    "duration": 17,
    "start_time": "2022-10-22T11:37:02.801Z"
   },
   {
    "duration": 18,
    "start_time": "2022-10-22T11:37:13.728Z"
   },
   {
    "duration": 14,
    "start_time": "2022-10-22T11:37:30.070Z"
   },
   {
    "duration": 17,
    "start_time": "2022-10-22T11:38:00.079Z"
   },
   {
    "duration": 14,
    "start_time": "2022-10-22T11:38:52.682Z"
   },
   {
    "duration": 24,
    "start_time": "2022-10-22T11:39:10.361Z"
   },
   {
    "duration": 21,
    "start_time": "2022-10-22T11:39:40.711Z"
   },
   {
    "duration": 20,
    "start_time": "2022-10-22T11:40:00.858Z"
   },
   {
    "duration": 25,
    "start_time": "2022-10-22T11:40:43.006Z"
   },
   {
    "duration": 13,
    "start_time": "2022-10-22T11:40:58.528Z"
   },
   {
    "duration": 16,
    "start_time": "2022-10-22T11:44:30.172Z"
   },
   {
    "duration": 160,
    "start_time": "2022-10-22T11:44:39.626Z"
   },
   {
    "duration": 140,
    "start_time": "2022-10-22T11:44:51.868Z"
   },
   {
    "duration": 19,
    "start_time": "2022-10-22T11:45:17.662Z"
   },
   {
    "duration": 163,
    "start_time": "2022-10-22T11:45:18.522Z"
   },
   {
    "duration": 243,
    "start_time": "2022-10-22T11:45:25.864Z"
   },
   {
    "duration": 16,
    "start_time": "2022-10-22T11:45:48.505Z"
   },
   {
    "duration": 143,
    "start_time": "2022-10-22T11:45:56.826Z"
   },
   {
    "duration": 9,
    "start_time": "2022-10-22T11:47:02.531Z"
   },
   {
    "duration": 11,
    "start_time": "2022-10-22T11:47:10.925Z"
   },
   {
    "duration": 17,
    "start_time": "2022-10-22T11:47:17.289Z"
   },
   {
    "duration": 1117,
    "start_time": "2022-10-22T11:47:41.729Z"
   },
   {
    "duration": 1117,
    "start_time": "2022-10-22T11:47:55.858Z"
   },
   {
    "duration": 230,
    "start_time": "2022-10-22T11:48:08.803Z"
   },
   {
    "duration": 20,
    "start_time": "2022-10-22T11:48:44.683Z"
   },
   {
    "duration": 153,
    "start_time": "2022-10-22T11:49:06.148Z"
   },
   {
    "duration": 13,
    "start_time": "2022-10-22T11:49:29.736Z"
   },
   {
    "duration": 1327,
    "start_time": "2022-10-22T11:49:55.279Z"
   },
   {
    "duration": 148,
    "start_time": "2022-10-22T11:50:01.367Z"
   },
   {
    "duration": 13,
    "start_time": "2022-10-22T11:55:41.824Z"
   },
   {
    "duration": 168,
    "start_time": "2022-10-22T11:55:47.865Z"
   },
   {
    "duration": 13,
    "start_time": "2022-10-22T12:01:28.879Z"
   },
   {
    "duration": 139,
    "start_time": "2022-10-22T12:01:46.689Z"
   },
   {
    "duration": 20,
    "start_time": "2022-10-22T12:03:12.248Z"
   },
   {
    "duration": 146,
    "start_time": "2022-10-22T12:03:24.204Z"
   },
   {
    "duration": 13,
    "start_time": "2022-10-22T12:03:42.279Z"
   },
   {
    "duration": 155,
    "start_time": "2022-10-22T12:04:03.369Z"
   },
   {
    "duration": 15,
    "start_time": "2022-10-22T12:04:50.326Z"
   },
   {
    "duration": 135,
    "start_time": "2022-10-22T12:05:13.963Z"
   },
   {
    "duration": 17,
    "start_time": "2022-10-22T12:06:05.459Z"
   },
   {
    "duration": 180,
    "start_time": "2022-10-22T12:06:20.693Z"
   },
   {
    "duration": 14,
    "start_time": "2022-10-22T12:06:50.210Z"
   },
   {
    "duration": 143,
    "start_time": "2022-10-22T12:07:29.672Z"
   },
   {
    "duration": 15,
    "start_time": "2022-10-22T12:08:24.763Z"
   },
   {
    "duration": 148,
    "start_time": "2022-10-22T12:08:50.547Z"
   },
   {
    "duration": 11,
    "start_time": "2022-10-22T12:11:06.828Z"
   },
   {
    "duration": 1121,
    "start_time": "2022-10-22T12:11:22.079Z"
   },
   {
    "duration": 64,
    "start_time": "2022-10-22T12:11:23.201Z"
   },
   {
    "duration": 24,
    "start_time": "2022-10-22T12:11:23.266Z"
   },
   {
    "duration": 8,
    "start_time": "2022-10-22T12:11:23.292Z"
   },
   {
    "duration": 8,
    "start_time": "2022-10-22T12:11:23.302Z"
   },
   {
    "duration": 13,
    "start_time": "2022-10-22T12:11:23.311Z"
   },
   {
    "duration": 12,
    "start_time": "2022-10-22T12:11:23.325Z"
   },
   {
    "duration": 14,
    "start_time": "2022-10-22T12:11:23.339Z"
   },
   {
    "duration": 5,
    "start_time": "2022-10-22T12:11:23.354Z"
   },
   {
    "duration": 21,
    "start_time": "2022-10-22T12:11:23.361Z"
   },
   {
    "duration": 12,
    "start_time": "2022-10-22T12:11:23.406Z"
   },
   {
    "duration": 5,
    "start_time": "2022-10-22T12:11:23.420Z"
   },
   {
    "duration": 13,
    "start_time": "2022-10-22T12:11:23.427Z"
   },
   {
    "duration": 121,
    "start_time": "2022-10-22T12:11:23.441Z"
   },
   {
    "duration": 233,
    "start_time": "2022-10-22T12:11:23.563Z"
   },
   {
    "duration": 180,
    "start_time": "2022-10-22T12:11:23.798Z"
   },
   {
    "duration": 167,
    "start_time": "2022-10-22T12:11:23.979Z"
   },
   {
    "duration": 157,
    "start_time": "2022-10-22T12:11:24.148Z"
   },
   {
    "duration": 6,
    "start_time": "2022-10-22T12:11:24.307Z"
   },
   {
    "duration": 118,
    "start_time": "2022-10-22T12:11:24.315Z"
   },
   {
    "duration": 305,
    "start_time": "2022-10-22T12:11:24.435Z"
   },
   {
    "duration": 139,
    "start_time": "2022-10-22T12:11:24.741Z"
   },
   {
    "duration": 114,
    "start_time": "2022-10-22T12:11:24.882Z"
   },
   {
    "duration": 93,
    "start_time": "2022-10-22T12:11:24.998Z"
   },
   {
    "duration": 179,
    "start_time": "2022-10-22T12:11:25.093Z"
   },
   {
    "duration": 148,
    "start_time": "2022-10-22T12:11:25.273Z"
   },
   {
    "duration": 167,
    "start_time": "2022-10-22T12:11:25.422Z"
   },
   {
    "duration": 97,
    "start_time": "2022-10-22T12:11:25.592Z"
   },
   {
    "duration": 232,
    "start_time": "2022-10-22T12:11:25.690Z"
   },
   {
    "duration": 144,
    "start_time": "2022-10-22T12:11:25.923Z"
   },
   {
    "duration": 271,
    "start_time": "2022-10-22T12:11:26.068Z"
   },
   {
    "duration": 180,
    "start_time": "2022-10-22T12:11:26.341Z"
   },
   {
    "duration": 10,
    "start_time": "2022-10-22T12:11:26.522Z"
   },
   {
    "duration": 166,
    "start_time": "2022-10-22T12:11:26.534Z"
   },
   {
    "duration": 172,
    "start_time": "2022-10-22T12:11:26.702Z"
   },
   {
    "duration": 176,
    "start_time": "2022-10-22T12:11:26.876Z"
   },
   {
    "duration": 19,
    "start_time": "2022-10-22T12:11:27.054Z"
   },
   {
    "duration": 32,
    "start_time": "2022-10-22T12:11:27.074Z"
   },
   {
    "duration": 29,
    "start_time": "2022-10-22T12:11:27.107Z"
   },
   {
    "duration": 38,
    "start_time": "2022-10-22T12:11:27.138Z"
   },
   {
    "duration": 43,
    "start_time": "2022-10-22T12:11:27.177Z"
   },
   {
    "duration": 11,
    "start_time": "2022-10-22T12:11:27.221Z"
   },
   {
    "duration": 242,
    "start_time": "2022-10-22T12:11:27.234Z"
   },
   {
    "duration": 12,
    "start_time": "2022-10-22T12:11:27.478Z"
   },
   {
    "duration": 26,
    "start_time": "2022-10-22T12:11:27.492Z"
   },
   {
    "duration": 15,
    "start_time": "2022-10-22T12:11:27.521Z"
   },
   {
    "duration": 12,
    "start_time": "2022-10-22T12:11:27.538Z"
   },
   {
    "duration": 20,
    "start_time": "2022-10-22T12:11:27.552Z"
   },
   {
    "duration": 34,
    "start_time": "2022-10-22T12:11:27.574Z"
   },
   {
    "duration": 74,
    "start_time": "2022-10-22T12:11:27.611Z"
   },
   {
    "duration": 173,
    "start_time": "2022-10-22T12:11:27.687Z"
   },
   {
    "duration": 10,
    "start_time": "2022-10-22T12:11:27.861Z"
   },
   {
    "duration": 11,
    "start_time": "2022-10-22T12:11:27.872Z"
   },
   {
    "duration": 280,
    "start_time": "2022-10-22T12:11:27.885Z"
   },
   {
    "duration": 184,
    "start_time": "2022-10-22T12:11:28.166Z"
   },
   {
    "duration": 236,
    "start_time": "2022-10-22T12:11:28.351Z"
   },
   {
    "duration": 253,
    "start_time": "2022-10-22T12:11:28.588Z"
   },
   {
    "duration": 157,
    "start_time": "2022-10-22T12:11:28.843Z"
   },
   {
    "duration": 128,
    "start_time": "2022-10-22T12:11:29.004Z"
   },
   {
    "duration": 9,
    "start_time": "2022-10-22T12:11:29.133Z"
   },
   {
    "duration": 137,
    "start_time": "2022-10-22T12:11:29.144Z"
   },
   {
    "duration": 124,
    "start_time": "2022-10-22T12:11:29.283Z"
   },
   {
    "duration": 10,
    "start_time": "2022-10-22T12:11:29.409Z"
   },
   {
    "duration": 132,
    "start_time": "2022-10-22T12:11:29.420Z"
   },
   {
    "duration": 124,
    "start_time": "2022-10-22T12:11:29.554Z"
   },
   {
    "duration": 9,
    "start_time": "2022-10-22T12:11:29.679Z"
   },
   {
    "duration": 112,
    "start_time": "2022-10-22T12:11:29.689Z"
   },
   {
    "duration": 111,
    "start_time": "2022-10-22T12:11:29.805Z"
   },
   {
    "duration": 10,
    "start_time": "2022-10-22T12:11:29.917Z"
   },
   {
    "duration": 139,
    "start_time": "2022-10-22T12:11:29.928Z"
   },
   {
    "duration": 221,
    "start_time": "2022-10-22T12:11:30.068Z"
   },
   {
    "duration": 8,
    "start_time": "2022-10-22T12:11:30.290Z"
   },
   {
    "duration": 184,
    "start_time": "2022-10-22T12:11:30.305Z"
   },
   {
    "duration": 175,
    "start_time": "2022-10-22T12:11:30.491Z"
   },
   {
    "duration": 81,
    "start_time": "2022-10-22T12:11:30.668Z"
   },
   {
    "duration": 0,
    "start_time": "2022-10-22T12:11:30.751Z"
   },
   {
    "duration": 0,
    "start_time": "2022-10-22T12:11:30.752Z"
   },
   {
    "duration": 0,
    "start_time": "2022-10-22T12:11:30.753Z"
   },
   {
    "duration": 0,
    "start_time": "2022-10-22T12:11:30.754Z"
   },
   {
    "duration": 0,
    "start_time": "2022-10-22T12:11:30.755Z"
   },
   {
    "duration": 0,
    "start_time": "2022-10-22T12:11:30.756Z"
   },
   {
    "duration": 0,
    "start_time": "2022-10-22T12:11:30.757Z"
   },
   {
    "duration": 0,
    "start_time": "2022-10-22T12:11:30.758Z"
   },
   {
    "duration": 0,
    "start_time": "2022-10-22T12:11:30.758Z"
   },
   {
    "duration": 0,
    "start_time": "2022-10-22T12:11:30.759Z"
   },
   {
    "duration": 0,
    "start_time": "2022-10-22T12:11:30.761Z"
   },
   {
    "duration": 0,
    "start_time": "2022-10-22T12:11:30.762Z"
   },
   {
    "duration": 0,
    "start_time": "2022-10-22T12:11:30.763Z"
   },
   {
    "duration": 0,
    "start_time": "2022-10-22T12:11:30.764Z"
   },
   {
    "duration": 0,
    "start_time": "2022-10-22T12:11:30.765Z"
   },
   {
    "duration": 0,
    "start_time": "2022-10-22T12:11:30.766Z"
   },
   {
    "duration": 0,
    "start_time": "2022-10-22T12:11:30.767Z"
   },
   {
    "duration": 0,
    "start_time": "2022-10-22T12:11:30.768Z"
   },
   {
    "duration": 1,
    "start_time": "2022-10-22T12:11:30.768Z"
   },
   {
    "duration": 0,
    "start_time": "2022-10-22T12:11:30.769Z"
   },
   {
    "duration": 0,
    "start_time": "2022-10-22T12:11:30.770Z"
   },
   {
    "duration": 0,
    "start_time": "2022-10-22T12:11:30.771Z"
   },
   {
    "duration": 0,
    "start_time": "2022-10-22T12:11:30.772Z"
   },
   {
    "duration": 0,
    "start_time": "2022-10-22T12:11:30.773Z"
   },
   {
    "duration": 0,
    "start_time": "2022-10-22T12:11:30.774Z"
   },
   {
    "duration": 0,
    "start_time": "2022-10-22T12:11:30.775Z"
   },
   {
    "duration": 0,
    "start_time": "2022-10-22T12:11:30.776Z"
   },
   {
    "duration": 0,
    "start_time": "2022-10-22T12:11:30.777Z"
   },
   {
    "duration": 0,
    "start_time": "2022-10-22T12:11:30.778Z"
   },
   {
    "duration": 1164,
    "start_time": "2022-10-22T12:11:47.338Z"
   },
   {
    "duration": 64,
    "start_time": "2022-10-22T12:11:48.505Z"
   },
   {
    "duration": 24,
    "start_time": "2022-10-22T12:11:48.571Z"
   },
   {
    "duration": 9,
    "start_time": "2022-10-22T12:11:48.597Z"
   },
   {
    "duration": 6,
    "start_time": "2022-10-22T12:11:48.608Z"
   },
   {
    "duration": 11,
    "start_time": "2022-10-22T12:11:48.615Z"
   },
   {
    "duration": 12,
    "start_time": "2022-10-22T12:11:48.628Z"
   },
   {
    "duration": 16,
    "start_time": "2022-10-22T12:11:48.641Z"
   },
   {
    "duration": 5,
    "start_time": "2022-10-22T12:11:48.658Z"
   },
   {
    "duration": 52,
    "start_time": "2022-10-22T12:11:48.664Z"
   },
   {
    "duration": 11,
    "start_time": "2022-10-22T12:11:48.717Z"
   },
   {
    "duration": 4,
    "start_time": "2022-10-22T12:11:48.729Z"
   },
   {
    "duration": 9,
    "start_time": "2022-10-22T12:11:48.735Z"
   },
   {
    "duration": 122,
    "start_time": "2022-10-22T12:11:48.747Z"
   },
   {
    "duration": 253,
    "start_time": "2022-10-22T12:11:48.871Z"
   },
   {
    "duration": 171,
    "start_time": "2022-10-22T12:11:49.125Z"
   },
   {
    "duration": 163,
    "start_time": "2022-10-22T12:11:49.298Z"
   },
   {
    "duration": 153,
    "start_time": "2022-10-22T12:11:49.463Z"
   },
   {
    "duration": 6,
    "start_time": "2022-10-22T12:11:49.618Z"
   },
   {
    "duration": 103,
    "start_time": "2022-10-22T12:11:49.626Z"
   },
   {
    "duration": 301,
    "start_time": "2022-10-22T12:11:49.731Z"
   },
   {
    "duration": 140,
    "start_time": "2022-10-22T12:11:50.034Z"
   },
   {
    "duration": 121,
    "start_time": "2022-10-22T12:11:50.176Z"
   },
   {
    "duration": 110,
    "start_time": "2022-10-22T12:11:50.305Z"
   },
   {
    "duration": 201,
    "start_time": "2022-10-22T12:11:50.417Z"
   },
   {
    "duration": 159,
    "start_time": "2022-10-22T12:11:50.619Z"
   },
   {
    "duration": 171,
    "start_time": "2022-10-22T12:11:50.779Z"
   },
   {
    "duration": 98,
    "start_time": "2022-10-22T12:11:50.952Z"
   },
   {
    "duration": 221,
    "start_time": "2022-10-22T12:11:51.052Z"
   },
   {
    "duration": 139,
    "start_time": "2022-10-22T12:11:51.274Z"
   },
   {
    "duration": 299,
    "start_time": "2022-10-22T12:11:51.414Z"
   },
   {
    "duration": 177,
    "start_time": "2022-10-22T12:11:51.714Z"
   },
   {
    "duration": 13,
    "start_time": "2022-10-22T12:11:51.893Z"
   },
   {
    "duration": 157,
    "start_time": "2022-10-22T12:11:51.908Z"
   },
   {
    "duration": 357,
    "start_time": "2022-10-22T12:11:52.067Z"
   },
   {
    "duration": 239,
    "start_time": "2022-10-22T12:11:52.426Z"
   },
   {
    "duration": 21,
    "start_time": "2022-10-22T12:11:52.667Z"
   },
   {
    "duration": 36,
    "start_time": "2022-10-22T12:11:52.689Z"
   },
   {
    "duration": 23,
    "start_time": "2022-10-22T12:11:52.727Z"
   },
   {
    "duration": 30,
    "start_time": "2022-10-22T12:11:52.752Z"
   },
   {
    "duration": 23,
    "start_time": "2022-10-22T12:11:52.805Z"
   },
   {
    "duration": 9,
    "start_time": "2022-10-22T12:11:52.830Z"
   },
   {
    "duration": 201,
    "start_time": "2022-10-22T12:11:52.841Z"
   },
   {
    "duration": 9,
    "start_time": "2022-10-22T12:11:53.044Z"
   },
   {
    "duration": 16,
    "start_time": "2022-10-22T12:11:53.055Z"
   },
   {
    "duration": 11,
    "start_time": "2022-10-22T12:11:53.073Z"
   },
   {
    "duration": 23,
    "start_time": "2022-10-22T12:11:53.085Z"
   },
   {
    "duration": 9,
    "start_time": "2022-10-22T12:11:53.110Z"
   },
   {
    "duration": 13,
    "start_time": "2022-10-22T12:11:53.121Z"
   },
   {
    "duration": 86,
    "start_time": "2022-10-22T12:11:53.135Z"
   },
   {
    "duration": 130,
    "start_time": "2022-10-22T12:11:53.223Z"
   },
   {
    "duration": 10,
    "start_time": "2022-10-22T12:11:53.355Z"
   },
   {
    "duration": 17,
    "start_time": "2022-10-22T12:11:53.367Z"
   },
   {
    "duration": 285,
    "start_time": "2022-10-22T12:11:53.386Z"
   },
   {
    "duration": 192,
    "start_time": "2022-10-22T12:11:53.673Z"
   },
   {
    "duration": 239,
    "start_time": "2022-10-22T12:11:53.867Z"
   },
   {
    "duration": 266,
    "start_time": "2022-10-22T12:11:54.108Z"
   },
   {
    "duration": 142,
    "start_time": "2022-10-22T12:11:54.376Z"
   },
   {
    "duration": 128,
    "start_time": "2022-10-22T12:11:54.520Z"
   },
   {
    "duration": 9,
    "start_time": "2022-10-22T12:11:54.650Z"
   },
   {
    "duration": 140,
    "start_time": "2022-10-22T12:11:54.660Z"
   },
   {
    "duration": 126,
    "start_time": "2022-10-22T12:11:54.805Z"
   },
   {
    "duration": 9,
    "start_time": "2022-10-22T12:11:54.932Z"
   },
   {
    "duration": 138,
    "start_time": "2022-10-22T12:11:54.942Z"
   },
   {
    "duration": 123,
    "start_time": "2022-10-22T12:11:55.082Z"
   },
   {
    "duration": 9,
    "start_time": "2022-10-22T12:11:55.207Z"
   },
   {
    "duration": 111,
    "start_time": "2022-10-22T12:11:55.217Z"
   },
   {
    "duration": 129,
    "start_time": "2022-10-22T12:11:55.329Z"
   },
   {
    "duration": 9,
    "start_time": "2022-10-22T12:11:55.460Z"
   },
   {
    "duration": 135,
    "start_time": "2022-10-22T12:11:55.470Z"
   },
   {
    "duration": 205,
    "start_time": "2022-10-22T12:11:55.607Z"
   },
   {
    "duration": 8,
    "start_time": "2022-10-22T12:11:55.814Z"
   },
   {
    "duration": 187,
    "start_time": "2022-10-22T12:11:55.824Z"
   },
   {
    "duration": 172,
    "start_time": "2022-10-22T12:11:56.013Z"
   },
   {
    "duration": 27,
    "start_time": "2022-10-22T12:11:56.186Z"
   },
   {
    "duration": 178,
    "start_time": "2022-10-22T12:11:56.214Z"
   },
   {
    "duration": 20,
    "start_time": "2022-10-22T12:11:56.393Z"
   },
   {
    "duration": 156,
    "start_time": "2022-10-22T12:11:56.414Z"
   },
   {
    "duration": 14,
    "start_time": "2022-10-22T12:11:56.572Z"
   },
   {
    "duration": 161,
    "start_time": "2022-10-22T12:11:56.587Z"
   },
   {
    "duration": 17,
    "start_time": "2022-10-22T12:11:56.750Z"
   },
   {
    "duration": 162,
    "start_time": "2022-10-22T12:11:56.768Z"
   },
   {
    "duration": 14,
    "start_time": "2022-10-22T12:11:56.932Z"
   },
   {
    "duration": 174,
    "start_time": "2022-10-22T12:11:56.947Z"
   },
   {
    "duration": 13,
    "start_time": "2022-10-22T12:11:57.123Z"
   },
   {
    "duration": 160,
    "start_time": "2022-10-22T12:11:57.138Z"
   },
   {
    "duration": 20,
    "start_time": "2022-10-22T12:11:57.300Z"
   },
   {
    "duration": 157,
    "start_time": "2022-10-22T12:11:57.322Z"
   },
   {
    "duration": 13,
    "start_time": "2022-10-22T12:11:57.481Z"
   },
   {
    "duration": 217,
    "start_time": "2022-10-22T12:11:57.506Z"
   },
   {
    "duration": 20,
    "start_time": "2022-10-22T12:11:57.725Z"
   },
   {
    "duration": 210,
    "start_time": "2022-10-22T12:11:57.748Z"
   },
   {
    "duration": 65,
    "start_time": "2022-10-22T12:11:57.960Z"
   },
   {
    "duration": 0,
    "start_time": "2022-10-22T12:11:58.027Z"
   },
   {
    "duration": 0,
    "start_time": "2022-10-22T12:11:58.028Z"
   },
   {
    "duration": 0,
    "start_time": "2022-10-22T12:11:58.030Z"
   },
   {
    "duration": 0,
    "start_time": "2022-10-22T12:11:58.031Z"
   },
   {
    "duration": 0,
    "start_time": "2022-10-22T12:11:58.033Z"
   },
   {
    "duration": 0,
    "start_time": "2022-10-22T12:11:58.034Z"
   },
   {
    "duration": 0,
    "start_time": "2022-10-22T12:11:58.035Z"
   },
   {
    "duration": 0,
    "start_time": "2022-10-22T12:11:58.036Z"
   },
   {
    "duration": 0,
    "start_time": "2022-10-22T12:11:58.038Z"
   },
   {
    "duration": 0,
    "start_time": "2022-10-22T12:11:58.039Z"
   },
   {
    "duration": 1152,
    "start_time": "2022-10-22T12:12:26.366Z"
   },
   {
    "duration": 76,
    "start_time": "2022-10-22T12:12:27.520Z"
   },
   {
    "duration": 27,
    "start_time": "2022-10-22T12:12:27.599Z"
   },
   {
    "duration": 9,
    "start_time": "2022-10-22T12:12:27.628Z"
   },
   {
    "duration": 9,
    "start_time": "2022-10-22T12:12:27.639Z"
   },
   {
    "duration": 29,
    "start_time": "2022-10-22T12:12:27.649Z"
   },
   {
    "duration": 18,
    "start_time": "2022-10-22T12:12:27.680Z"
   },
   {
    "duration": 14,
    "start_time": "2022-10-22T12:12:27.705Z"
   },
   {
    "duration": 4,
    "start_time": "2022-10-22T12:12:27.721Z"
   },
   {
    "duration": 22,
    "start_time": "2022-10-22T12:12:27.728Z"
   },
   {
    "duration": 12,
    "start_time": "2022-10-22T12:12:27.752Z"
   },
   {
    "duration": 5,
    "start_time": "2022-10-22T12:12:27.765Z"
   },
   {
    "duration": 8,
    "start_time": "2022-10-22T12:12:27.806Z"
   },
   {
    "duration": 112,
    "start_time": "2022-10-22T12:12:27.816Z"
   },
   {
    "duration": 257,
    "start_time": "2022-10-22T12:12:27.930Z"
   },
   {
    "duration": 193,
    "start_time": "2022-10-22T12:12:28.189Z"
   },
   {
    "duration": 156,
    "start_time": "2022-10-22T12:12:28.383Z"
   },
   {
    "duration": 153,
    "start_time": "2022-10-22T12:12:28.541Z"
   },
   {
    "duration": 11,
    "start_time": "2022-10-22T12:12:28.695Z"
   },
   {
    "duration": 101,
    "start_time": "2022-10-22T12:12:28.708Z"
   },
   {
    "duration": 322,
    "start_time": "2022-10-22T12:12:28.810Z"
   },
   {
    "duration": 133,
    "start_time": "2022-10-22T12:12:29.134Z"
   },
   {
    "duration": 122,
    "start_time": "2022-10-22T12:12:29.269Z"
   },
   {
    "duration": 135,
    "start_time": "2022-10-22T12:12:29.393Z"
   },
   {
    "duration": 177,
    "start_time": "2022-10-22T12:12:29.530Z"
   },
   {
    "duration": 151,
    "start_time": "2022-10-22T12:12:29.709Z"
   },
   {
    "duration": 169,
    "start_time": "2022-10-22T12:12:29.862Z"
   },
   {
    "duration": 97,
    "start_time": "2022-10-22T12:12:30.034Z"
   },
   {
    "duration": 233,
    "start_time": "2022-10-22T12:12:30.133Z"
   },
   {
    "duration": 140,
    "start_time": "2022-10-22T12:12:30.367Z"
   },
   {
    "duration": 287,
    "start_time": "2022-10-22T12:12:30.509Z"
   },
   {
    "duration": 176,
    "start_time": "2022-10-22T12:12:30.797Z"
   },
   {
    "duration": 9,
    "start_time": "2022-10-22T12:12:30.975Z"
   },
   {
    "duration": 168,
    "start_time": "2022-10-22T12:12:30.986Z"
   },
   {
    "duration": 161,
    "start_time": "2022-10-22T12:12:31.156Z"
   },
   {
    "duration": 166,
    "start_time": "2022-10-22T12:12:31.318Z"
   },
   {
    "duration": 25,
    "start_time": "2022-10-22T12:12:31.486Z"
   },
   {
    "duration": 21,
    "start_time": "2022-10-22T12:12:31.513Z"
   },
   {
    "duration": 23,
    "start_time": "2022-10-22T12:12:31.535Z"
   },
   {
    "duration": 47,
    "start_time": "2022-10-22T12:12:31.560Z"
   },
   {
    "duration": 24,
    "start_time": "2022-10-22T12:12:31.609Z"
   },
   {
    "duration": 10,
    "start_time": "2022-10-22T12:12:31.634Z"
   },
   {
    "duration": 178,
    "start_time": "2022-10-22T12:12:31.645Z"
   },
   {
    "duration": 9,
    "start_time": "2022-10-22T12:12:31.825Z"
   },
   {
    "duration": 15,
    "start_time": "2022-10-22T12:12:31.835Z"
   },
   {
    "duration": 11,
    "start_time": "2022-10-22T12:12:31.851Z"
   },
   {
    "duration": 8,
    "start_time": "2022-10-22T12:12:31.863Z"
   },
   {
    "duration": 37,
    "start_time": "2022-10-22T12:12:31.872Z"
   },
   {
    "duration": 14,
    "start_time": "2022-10-22T12:12:31.911Z"
   },
   {
    "duration": 60,
    "start_time": "2022-10-22T12:12:31.927Z"
   },
   {
    "duration": 128,
    "start_time": "2022-10-22T12:12:32.005Z"
   },
   {
    "duration": 10,
    "start_time": "2022-10-22T12:12:32.134Z"
   },
   {
    "duration": 13,
    "start_time": "2022-10-22T12:12:32.146Z"
   },
   {
    "duration": 254,
    "start_time": "2022-10-22T12:12:32.161Z"
   },
   {
    "duration": 199,
    "start_time": "2022-10-22T12:12:32.416Z"
   },
   {
    "duration": 252,
    "start_time": "2022-10-22T12:12:32.616Z"
   },
   {
    "duration": 256,
    "start_time": "2022-10-22T12:12:32.870Z"
   },
   {
    "duration": 140,
    "start_time": "2022-10-22T12:12:33.127Z"
   },
   {
    "duration": 118,
    "start_time": "2022-10-22T12:12:33.269Z"
   },
   {
    "duration": 18,
    "start_time": "2022-10-22T12:12:33.388Z"
   },
   {
    "duration": 128,
    "start_time": "2022-10-22T12:12:33.407Z"
   },
   {
    "duration": 128,
    "start_time": "2022-10-22T12:12:33.537Z"
   },
   {
    "duration": 9,
    "start_time": "2022-10-22T12:12:33.666Z"
   },
   {
    "duration": 142,
    "start_time": "2022-10-22T12:12:33.676Z"
   },
   {
    "duration": 121,
    "start_time": "2022-10-22T12:12:33.820Z"
   },
   {
    "duration": 10,
    "start_time": "2022-10-22T12:12:33.942Z"
   },
   {
    "duration": 133,
    "start_time": "2022-10-22T12:12:33.954Z"
   },
   {
    "duration": 109,
    "start_time": "2022-10-22T12:12:34.089Z"
   },
   {
    "duration": 12,
    "start_time": "2022-10-22T12:12:34.200Z"
   },
   {
    "duration": 141,
    "start_time": "2022-10-22T12:12:34.214Z"
   },
   {
    "duration": 219,
    "start_time": "2022-10-22T12:12:34.356Z"
   },
   {
    "duration": 9,
    "start_time": "2022-10-22T12:12:34.577Z"
   },
   {
    "duration": 203,
    "start_time": "2022-10-22T12:12:34.588Z"
   },
   {
    "duration": 176,
    "start_time": "2022-10-22T12:12:34.792Z"
   },
   {
    "duration": 18,
    "start_time": "2022-10-22T12:12:34.970Z"
   },
   {
    "duration": 179,
    "start_time": "2022-10-22T12:12:34.989Z"
   },
   {
    "duration": 15,
    "start_time": "2022-10-22T12:12:35.169Z"
   },
   {
    "duration": 175,
    "start_time": "2022-10-22T12:12:35.185Z"
   },
   {
    "duration": 13,
    "start_time": "2022-10-22T12:12:35.361Z"
   },
   {
    "duration": 154,
    "start_time": "2022-10-22T12:12:35.376Z"
   },
   {
    "duration": 23,
    "start_time": "2022-10-22T12:12:35.533Z"
   },
   {
    "duration": 164,
    "start_time": "2022-10-22T12:12:35.561Z"
   },
   {
    "duration": 14,
    "start_time": "2022-10-22T12:12:35.726Z"
   },
   {
    "duration": 181,
    "start_time": "2022-10-22T12:12:35.742Z"
   },
   {
    "duration": 15,
    "start_time": "2022-10-22T12:12:35.925Z"
   },
   {
    "duration": 165,
    "start_time": "2022-10-22T12:12:35.942Z"
   },
   {
    "duration": 18,
    "start_time": "2022-10-22T12:12:36.109Z"
   },
   {
    "duration": 171,
    "start_time": "2022-10-22T12:12:36.128Z"
   },
   {
    "duration": 13,
    "start_time": "2022-10-22T12:12:36.304Z"
   },
   {
    "duration": 170,
    "start_time": "2022-10-22T12:12:36.319Z"
   },
   {
    "duration": 15,
    "start_time": "2022-10-22T12:12:36.491Z"
   },
   {
    "duration": 168,
    "start_time": "2022-10-22T12:12:36.508Z"
   },
   {
    "duration": 16,
    "start_time": "2022-10-22T12:12:36.677Z"
   },
   {
    "duration": 260,
    "start_time": "2022-10-22T12:12:36.695Z"
   },
   {
    "duration": 14,
    "start_time": "2022-10-22T12:12:36.957Z"
   },
   {
    "duration": 166,
    "start_time": "2022-10-22T12:12:36.972Z"
   },
   {
    "duration": 16,
    "start_time": "2022-10-22T12:12:37.139Z"
   },
   {
    "duration": 156,
    "start_time": "2022-10-22T12:12:37.157Z"
   },
   {
    "duration": 68,
    "start_time": "2022-10-22T12:12:37.314Z"
   },
   {
    "duration": 0,
    "start_time": "2022-10-22T12:12:37.384Z"
   },
   {
    "duration": 0,
    "start_time": "2022-10-22T12:12:37.386Z"
   },
   {
    "duration": 0,
    "start_time": "2022-10-22T12:12:37.387Z"
   },
   {
    "duration": 1192,
    "start_time": "2022-10-22T12:12:56.909Z"
   },
   {
    "duration": 64,
    "start_time": "2022-10-22T12:12:58.103Z"
   },
   {
    "duration": 24,
    "start_time": "2022-10-22T12:12:58.168Z"
   },
   {
    "duration": 8,
    "start_time": "2022-10-22T12:12:58.194Z"
   },
   {
    "duration": 4,
    "start_time": "2022-10-22T12:12:58.204Z"
   },
   {
    "duration": 10,
    "start_time": "2022-10-22T12:12:58.210Z"
   },
   {
    "duration": 13,
    "start_time": "2022-10-22T12:12:58.222Z"
   },
   {
    "duration": 18,
    "start_time": "2022-10-22T12:12:58.237Z"
   },
   {
    "duration": 5,
    "start_time": "2022-10-22T12:12:58.257Z"
   },
   {
    "duration": 46,
    "start_time": "2022-10-22T12:12:58.264Z"
   },
   {
    "duration": 17,
    "start_time": "2022-10-22T12:12:58.311Z"
   },
   {
    "duration": 5,
    "start_time": "2022-10-22T12:12:58.329Z"
   },
   {
    "duration": 11,
    "start_time": "2022-10-22T12:12:58.336Z"
   },
   {
    "duration": 124,
    "start_time": "2022-10-22T12:12:58.349Z"
   },
   {
    "duration": 239,
    "start_time": "2022-10-22T12:12:58.475Z"
   },
   {
    "duration": 169,
    "start_time": "2022-10-22T12:12:58.715Z"
   },
   {
    "duration": 166,
    "start_time": "2022-10-22T12:12:58.885Z"
   },
   {
    "duration": 146,
    "start_time": "2022-10-22T12:12:59.052Z"
   },
   {
    "duration": 8,
    "start_time": "2022-10-22T12:12:59.200Z"
   },
   {
    "duration": 108,
    "start_time": "2022-10-22T12:12:59.210Z"
   },
   {
    "duration": 309,
    "start_time": "2022-10-22T12:12:59.319Z"
   },
   {
    "duration": 134,
    "start_time": "2022-10-22T12:12:59.630Z"
   },
   {
    "duration": 115,
    "start_time": "2022-10-22T12:12:59.766Z"
   },
   {
    "duration": 95,
    "start_time": "2022-10-22T12:12:59.883Z"
   },
   {
    "duration": 179,
    "start_time": "2022-10-22T12:12:59.979Z"
   },
   {
    "duration": 170,
    "start_time": "2022-10-22T12:13:00.159Z"
   },
   {
    "duration": 185,
    "start_time": "2022-10-22T12:13:00.330Z"
   },
   {
    "duration": 114,
    "start_time": "2022-10-22T12:13:00.519Z"
   },
   {
    "duration": 239,
    "start_time": "2022-10-22T12:13:00.635Z"
   },
   {
    "duration": 142,
    "start_time": "2022-10-22T12:13:00.876Z"
   },
   {
    "duration": 268,
    "start_time": "2022-10-22T12:13:01.019Z"
   },
   {
    "duration": 175,
    "start_time": "2022-10-22T12:13:01.289Z"
   },
   {
    "duration": 9,
    "start_time": "2022-10-22T12:13:01.466Z"
   },
   {
    "duration": 157,
    "start_time": "2022-10-22T12:13:01.477Z"
   },
   {
    "duration": 177,
    "start_time": "2022-10-22T12:13:01.635Z"
   },
   {
    "duration": 168,
    "start_time": "2022-10-22T12:13:01.814Z"
   },
   {
    "duration": 29,
    "start_time": "2022-10-22T12:13:01.984Z"
   },
   {
    "duration": 19,
    "start_time": "2022-10-22T12:13:02.014Z"
   },
   {
    "duration": 27,
    "start_time": "2022-10-22T12:13:02.035Z"
   },
   {
    "duration": 42,
    "start_time": "2022-10-22T12:13:02.064Z"
   },
   {
    "duration": 25,
    "start_time": "2022-10-22T12:13:02.108Z"
   },
   {
    "duration": 41,
    "start_time": "2022-10-22T12:13:02.134Z"
   },
   {
    "duration": 179,
    "start_time": "2022-10-22T12:13:02.177Z"
   },
   {
    "duration": 10,
    "start_time": "2022-10-22T12:13:02.357Z"
   },
   {
    "duration": 14,
    "start_time": "2022-10-22T12:13:02.369Z"
   },
   {
    "duration": 27,
    "start_time": "2022-10-22T12:13:02.384Z"
   },
   {
    "duration": 7,
    "start_time": "2022-10-22T12:13:02.413Z"
   },
   {
    "duration": 10,
    "start_time": "2022-10-22T12:13:02.422Z"
   },
   {
    "duration": 19,
    "start_time": "2022-10-22T12:13:02.434Z"
   },
   {
    "duration": 78,
    "start_time": "2022-10-22T12:13:02.454Z"
   },
   {
    "duration": 149,
    "start_time": "2022-10-22T12:13:02.533Z"
   },
   {
    "duration": 23,
    "start_time": "2022-10-22T12:13:02.684Z"
   },
   {
    "duration": 14,
    "start_time": "2022-10-22T12:13:02.708Z"
   },
   {
    "duration": 268,
    "start_time": "2022-10-22T12:13:02.724Z"
   },
   {
    "duration": 182,
    "start_time": "2022-10-22T12:13:02.994Z"
   },
   {
    "duration": 234,
    "start_time": "2022-10-22T12:13:03.178Z"
   },
   {
    "duration": 254,
    "start_time": "2022-10-22T12:13:03.413Z"
   },
   {
    "duration": 138,
    "start_time": "2022-10-22T12:13:03.669Z"
   },
   {
    "duration": 117,
    "start_time": "2022-10-22T12:13:03.809Z"
   },
   {
    "duration": 9,
    "start_time": "2022-10-22T12:13:03.928Z"
   },
   {
    "duration": 143,
    "start_time": "2022-10-22T12:13:03.939Z"
   },
   {
    "duration": 147,
    "start_time": "2022-10-22T12:13:04.084Z"
   },
   {
    "duration": 10,
    "start_time": "2022-10-22T12:13:04.233Z"
   },
   {
    "duration": 132,
    "start_time": "2022-10-22T12:13:04.245Z"
   },
   {
    "duration": 132,
    "start_time": "2022-10-22T12:13:04.379Z"
   },
   {
    "duration": 8,
    "start_time": "2022-10-22T12:13:04.513Z"
   },
   {
    "duration": 117,
    "start_time": "2022-10-22T12:13:04.523Z"
   },
   {
    "duration": 127,
    "start_time": "2022-10-22T12:13:04.641Z"
   },
   {
    "duration": 9,
    "start_time": "2022-10-22T12:13:04.770Z"
   },
   {
    "duration": 131,
    "start_time": "2022-10-22T12:13:04.781Z"
   },
   {
    "duration": 214,
    "start_time": "2022-10-22T12:13:04.914Z"
   },
   {
    "duration": 9,
    "start_time": "2022-10-22T12:13:05.129Z"
   },
   {
    "duration": 185,
    "start_time": "2022-10-22T12:13:05.139Z"
   },
   {
    "duration": 169,
    "start_time": "2022-10-22T12:13:05.326Z"
   },
   {
    "duration": 21,
    "start_time": "2022-10-22T12:13:05.497Z"
   },
   {
    "duration": 165,
    "start_time": "2022-10-22T12:13:05.520Z"
   },
   {
    "duration": 19,
    "start_time": "2022-10-22T12:13:05.687Z"
   },
   {
    "duration": 173,
    "start_time": "2022-10-22T12:13:05.708Z"
   },
   {
    "duration": 24,
    "start_time": "2022-10-22T12:13:05.883Z"
   },
   {
    "duration": 148,
    "start_time": "2022-10-22T12:13:05.909Z"
   },
   {
    "duration": 18,
    "start_time": "2022-10-22T12:13:06.059Z"
   },
   {
    "duration": 168,
    "start_time": "2022-10-22T12:13:06.082Z"
   },
   {
    "duration": 16,
    "start_time": "2022-10-22T12:13:06.252Z"
   },
   {
    "duration": 171,
    "start_time": "2022-10-22T12:13:06.270Z"
   },
   {
    "duration": 13,
    "start_time": "2022-10-22T12:13:06.443Z"
   },
   {
    "duration": 161,
    "start_time": "2022-10-22T12:13:06.458Z"
   },
   {
    "duration": 16,
    "start_time": "2022-10-22T12:13:06.621Z"
   },
   {
    "duration": 152,
    "start_time": "2022-10-22T12:13:06.639Z"
   },
   {
    "duration": 20,
    "start_time": "2022-10-22T12:13:06.792Z"
   },
   {
    "duration": 168,
    "start_time": "2022-10-22T12:13:06.814Z"
   },
   {
    "duration": 13,
    "start_time": "2022-10-22T12:13:06.983Z"
   },
   {
    "duration": 162,
    "start_time": "2022-10-22T12:13:07.005Z"
   },
   {
    "duration": 17,
    "start_time": "2022-10-22T12:13:07.168Z"
   },
   {
    "duration": 318,
    "start_time": "2022-10-22T12:13:07.186Z"
   },
   {
    "duration": 13,
    "start_time": "2022-10-22T12:13:07.505Z"
   },
   {
    "duration": 167,
    "start_time": "2022-10-22T12:13:07.520Z"
   },
   {
    "duration": 20,
    "start_time": "2022-10-22T12:13:07.689Z"
   },
   {
    "duration": 152,
    "start_time": "2022-10-22T12:13:07.710Z"
   },
   {
    "duration": 8,
    "start_time": "2022-10-22T12:13:07.864Z"
   },
   {
    "duration": 38,
    "start_time": "2022-10-22T12:13:07.873Z"
   },
   {
    "duration": 27,
    "start_time": "2022-10-22T12:13:07.913Z"
   },
   {
    "duration": 32,
    "start_time": "2022-10-22T12:13:53.226Z"
   },
   {
    "duration": 71,
    "start_time": "2022-10-22T12:27:58.864Z"
   },
   {
    "duration": 67,
    "start_time": "2022-10-22T12:28:04.077Z"
   },
   {
    "duration": 3,
    "start_time": "2022-10-22T12:31:30.823Z"
   },
   {
    "duration": 5,
    "start_time": "2022-10-22T12:31:37.511Z"
   },
   {
    "duration": 5,
    "start_time": "2022-10-22T12:32:49.615Z"
   },
   {
    "duration": 11,
    "start_time": "2022-10-22T12:33:18.993Z"
   },
   {
    "duration": 199,
    "start_time": "2022-10-22T12:34:42.163Z"
   },
   {
    "duration": 99,
    "start_time": "2022-10-22T12:35:05.587Z"
   },
   {
    "duration": 173,
    "start_time": "2022-10-22T12:38:01.299Z"
   },
   {
    "duration": 118,
    "start_time": "2022-10-22T12:38:25.315Z"
   },
   {
    "duration": 120,
    "start_time": "2022-10-22T12:38:41.144Z"
   },
   {
    "duration": 95,
    "start_time": "2022-10-22T12:38:47.257Z"
   },
   {
    "duration": 1061,
    "start_time": "2022-10-23T02:01:05.919Z"
   },
   {
    "duration": 60,
    "start_time": "2022-10-23T02:01:06.982Z"
   },
   {
    "duration": 23,
    "start_time": "2022-10-23T02:01:07.044Z"
   },
   {
    "duration": 8,
    "start_time": "2022-10-23T02:01:07.070Z"
   },
   {
    "duration": 5,
    "start_time": "2022-10-23T02:01:07.079Z"
   },
   {
    "duration": 9,
    "start_time": "2022-10-23T02:01:07.086Z"
   },
   {
    "duration": 11,
    "start_time": "2022-10-23T02:01:07.122Z"
   },
   {
    "duration": 12,
    "start_time": "2022-10-23T02:01:07.134Z"
   },
   {
    "duration": 3,
    "start_time": "2022-10-23T02:01:07.148Z"
   },
   {
    "duration": 19,
    "start_time": "2022-10-23T02:01:07.153Z"
   },
   {
    "duration": 9,
    "start_time": "2022-10-23T02:01:07.173Z"
   },
   {
    "duration": 4,
    "start_time": "2022-10-23T02:01:07.183Z"
   },
   {
    "duration": 34,
    "start_time": "2022-10-23T02:01:07.188Z"
   },
   {
    "duration": 91,
    "start_time": "2022-10-23T02:01:07.224Z"
   },
   {
    "duration": 202,
    "start_time": "2022-10-23T02:01:07.322Z"
   },
   {
    "duration": 152,
    "start_time": "2022-10-23T02:01:07.525Z"
   },
   {
    "duration": 146,
    "start_time": "2022-10-23T02:01:07.679Z"
   },
   {
    "duration": 148,
    "start_time": "2022-10-23T02:01:07.827Z"
   },
   {
    "duration": 5,
    "start_time": "2022-10-23T02:01:07.976Z"
   },
   {
    "duration": 88,
    "start_time": "2022-10-23T02:01:07.983Z"
   },
   {
    "duration": 277,
    "start_time": "2022-10-23T02:01:08.073Z"
   },
   {
    "duration": 123,
    "start_time": "2022-10-23T02:01:08.352Z"
   },
   {
    "duration": 100,
    "start_time": "2022-10-23T02:01:08.477Z"
   },
   {
    "duration": 83,
    "start_time": "2022-10-23T02:01:08.579Z"
   },
   {
    "duration": 153,
    "start_time": "2022-10-23T02:01:08.664Z"
   },
   {
    "duration": 136,
    "start_time": "2022-10-23T02:01:08.821Z"
   },
   {
    "duration": 154,
    "start_time": "2022-10-23T02:01:08.958Z"
   },
   {
    "duration": 82,
    "start_time": "2022-10-23T02:01:09.116Z"
   },
   {
    "duration": 216,
    "start_time": "2022-10-23T02:01:09.199Z"
   },
   {
    "duration": 126,
    "start_time": "2022-10-23T02:01:09.417Z"
   },
   {
    "duration": 258,
    "start_time": "2022-10-23T02:01:09.545Z"
   },
   {
    "duration": 160,
    "start_time": "2022-10-23T02:01:09.805Z"
   },
   {
    "duration": 8,
    "start_time": "2022-10-23T02:01:09.966Z"
   },
   {
    "duration": 157,
    "start_time": "2022-10-23T02:01:09.975Z"
   },
   {
    "duration": 166,
    "start_time": "2022-10-23T02:01:10.133Z"
   },
   {
    "duration": 159,
    "start_time": "2022-10-23T02:01:10.301Z"
   },
   {
    "duration": 19,
    "start_time": "2022-10-23T02:01:10.462Z"
   },
   {
    "duration": 18,
    "start_time": "2022-10-23T02:01:10.483Z"
   },
   {
    "duration": 38,
    "start_time": "2022-10-23T02:01:10.503Z"
   },
   {
    "duration": 25,
    "start_time": "2022-10-23T02:01:10.542Z"
   },
   {
    "duration": 23,
    "start_time": "2022-10-23T02:01:10.569Z"
   },
   {
    "duration": 37,
    "start_time": "2022-10-23T02:01:10.593Z"
   },
   {
    "duration": 157,
    "start_time": "2022-10-23T02:01:10.631Z"
   },
   {
    "duration": 8,
    "start_time": "2022-10-23T02:01:10.790Z"
   },
   {
    "duration": 22,
    "start_time": "2022-10-23T02:01:10.800Z"
   },
   {
    "duration": 11,
    "start_time": "2022-10-23T02:01:10.823Z"
   },
   {
    "duration": 6,
    "start_time": "2022-10-23T02:01:10.835Z"
   },
   {
    "duration": 8,
    "start_time": "2022-10-23T02:01:10.843Z"
   },
   {
    "duration": 9,
    "start_time": "2022-10-23T02:01:10.852Z"
   },
   {
    "duration": 11,
    "start_time": "2022-10-23T02:01:10.862Z"
   },
   {
    "duration": 84,
    "start_time": "2022-10-23T02:01:10.874Z"
   },
   {
    "duration": 128,
    "start_time": "2022-10-23T02:01:10.959Z"
   },
   {
    "duration": 9,
    "start_time": "2022-10-23T02:01:11.088Z"
   },
   {
    "duration": 12,
    "start_time": "2022-10-23T02:01:11.098Z"
   },
   {
    "duration": 223,
    "start_time": "2022-10-23T02:01:11.121Z"
   },
   {
    "duration": 175,
    "start_time": "2022-10-23T02:01:11.346Z"
   },
   {
    "duration": 225,
    "start_time": "2022-10-23T02:01:11.523Z"
   },
   {
    "duration": 246,
    "start_time": "2022-10-23T02:01:11.750Z"
   },
   {
    "duration": 130,
    "start_time": "2022-10-23T02:01:11.997Z"
   },
   {
    "duration": 108,
    "start_time": "2022-10-23T02:01:12.129Z"
   },
   {
    "duration": 8,
    "start_time": "2022-10-23T02:01:12.239Z"
   },
   {
    "duration": 122,
    "start_time": "2022-10-23T02:01:12.249Z"
   },
   {
    "duration": 123,
    "start_time": "2022-10-23T02:01:12.372Z"
   },
   {
    "duration": 8,
    "start_time": "2022-10-23T02:01:12.497Z"
   },
   {
    "duration": 121,
    "start_time": "2022-10-23T02:01:12.506Z"
   },
   {
    "duration": 117,
    "start_time": "2022-10-23T02:01:12.628Z"
   },
   {
    "duration": 8,
    "start_time": "2022-10-23T02:01:12.746Z"
   },
   {
    "duration": 105,
    "start_time": "2022-10-23T02:01:12.755Z"
   },
   {
    "duration": 103,
    "start_time": "2022-10-23T02:01:12.861Z"
   },
   {
    "duration": 8,
    "start_time": "2022-10-23T02:01:12.965Z"
   },
   {
    "duration": 119,
    "start_time": "2022-10-23T02:01:12.975Z"
   },
   {
    "duration": 189,
    "start_time": "2022-10-23T02:01:13.096Z"
   },
   {
    "duration": 8,
    "start_time": "2022-10-23T02:01:13.286Z"
   },
   {
    "duration": 179,
    "start_time": "2022-10-23T02:01:13.296Z"
   },
   {
    "duration": 167,
    "start_time": "2022-10-23T02:01:13.476Z"
   },
   {
    "duration": 15,
    "start_time": "2022-10-23T02:01:13.645Z"
   },
   {
    "duration": 152,
    "start_time": "2022-10-23T02:01:13.662Z"
   },
   {
    "duration": 16,
    "start_time": "2022-10-23T02:01:13.816Z"
   },
   {
    "duration": 155,
    "start_time": "2022-10-23T02:01:13.833Z"
   },
   {
    "duration": 12,
    "start_time": "2022-10-23T02:01:13.990Z"
   },
   {
    "duration": 145,
    "start_time": "2022-10-23T02:01:14.003Z"
   },
   {
    "duration": 15,
    "start_time": "2022-10-23T02:01:14.153Z"
   },
   {
    "duration": 144,
    "start_time": "2022-10-23T02:01:14.169Z"
   },
   {
    "duration": 15,
    "start_time": "2022-10-23T02:01:14.315Z"
   },
   {
    "duration": 151,
    "start_time": "2022-10-23T02:01:14.331Z"
   },
   {
    "duration": 13,
    "start_time": "2022-10-23T02:01:14.484Z"
   },
   {
    "duration": 141,
    "start_time": "2022-10-23T02:01:14.498Z"
   },
   {
    "duration": 16,
    "start_time": "2022-10-23T02:01:14.641Z"
   },
   {
    "duration": 138,
    "start_time": "2022-10-23T02:01:14.659Z"
   },
   {
    "duration": 23,
    "start_time": "2022-10-23T02:01:14.799Z"
   },
   {
    "duration": 144,
    "start_time": "2022-10-23T02:01:14.824Z"
   },
   {
    "duration": 13,
    "start_time": "2022-10-23T02:01:14.970Z"
   },
   {
    "duration": 152,
    "start_time": "2022-10-23T02:01:14.985Z"
   },
   {
    "duration": 17,
    "start_time": "2022-10-23T02:01:15.138Z"
   },
   {
    "duration": 229,
    "start_time": "2022-10-23T02:01:15.157Z"
   },
   {
    "duration": 14,
    "start_time": "2022-10-23T02:01:15.387Z"
   },
   {
    "duration": 161,
    "start_time": "2022-10-23T02:01:15.402Z"
   },
   {
    "duration": 12,
    "start_time": "2022-10-23T02:01:15.564Z"
   },
   {
    "duration": 144,
    "start_time": "2022-10-23T02:01:15.577Z"
   },
   {
    "duration": 4,
    "start_time": "2022-10-23T02:01:15.723Z"
   },
   {
    "duration": 32,
    "start_time": "2022-10-23T02:01:15.728Z"
   },
   {
    "duration": 22,
    "start_time": "2022-10-23T02:01:15.761Z"
   }
  ],
  "kernelspec": {
   "display_name": "Python 3 (ipykernel)",
   "language": "python",
   "name": "python3"
  },
  "language_info": {
   "codemirror_mode": {
    "name": "ipython",
    "version": 3
   },
   "file_extension": ".py",
   "mimetype": "text/x-python",
   "name": "python",
   "nbconvert_exporter": "python",
   "pygments_lexer": "ipython3",
   "version": "3.9.5"
  },
  "toc": {
   "base_numbering": 1,
   "nav_menu": {},
   "number_sections": true,
   "sideBar": true,
   "skip_h1_title": true,
   "title_cell": "Table of Contents",
   "title_sidebar": "Contents",
   "toc_cell": false,
   "toc_position": {},
   "toc_section_display": true,
   "toc_window_display": true
  }
 },
 "nbformat": 4,
 "nbformat_minor": 2
}
