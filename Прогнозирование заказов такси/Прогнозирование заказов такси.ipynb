{
 "cells": [
  {
   "cell_type": "markdown",
   "metadata": {
    "toc": true
   },
   "source": [
    "<h1>Содержание<span class=\"tocSkip\"></span></h1>\n",
    "<div class=\"toc\"><ul class=\"toc-item\"><li><ul class=\"toc-item\"><li><ul class=\"toc-item\"><li><span><a href=\"#Полезные-ссылки:\" data-toc-modified-id=\"Полезные-ссылки:-0.0.1\"><span class=\"toc-item-num\">0.0.1&nbsp;&nbsp;</span><font color=\"orange\">Полезные ссылки:</font></a></span></li></ul></li><li><span><a href=\"#Общее-впечатление\" data-toc-modified-id=\"Общее-впечатление-0.1\"><span class=\"toc-item-num\">0.1&nbsp;&nbsp;</span><font color=\"orange\">Общее впечатление</font></a></span></li><li><span><a href=\"#Общее-впечатление-(ревью-2)\" data-toc-modified-id=\"Общее-впечатление-(ревью-2)-0.2\"><span class=\"toc-item-num\">0.2&nbsp;&nbsp;</span><font color=\"orange\">Общее впечатление (ревью 2)</font></a></span></li></ul></li><li><span><a href=\"#Подготовка\" data-toc-modified-id=\"Подготовка-1\"><span class=\"toc-item-num\">1&nbsp;&nbsp;</span>Подготовка</a></span><ul class=\"toc-item\"><li><span><a href=\"#Загрузка-данных\" data-toc-modified-id=\"Загрузка-данных-1.1\"><span class=\"toc-item-num\">1.1&nbsp;&nbsp;</span>Загрузка данных</a></span></li><li><span><a href=\"#Ресемплирование-данных\" data-toc-modified-id=\"Ресемплирование-данных-1.2\"><span class=\"toc-item-num\">1.2&nbsp;&nbsp;</span>Ресемплирование данных</a></span></li></ul></li><li><span><a href=\"#Анализ\" data-toc-modified-id=\"Анализ-2\"><span class=\"toc-item-num\">2&nbsp;&nbsp;</span>Анализ</a></span></li><li><span><a href=\"#Обучение\" data-toc-modified-id=\"Обучение-3\"><span class=\"toc-item-num\">3&nbsp;&nbsp;</span>Обучение</a></span><ul class=\"toc-item\"><li><span><a href=\"#LinealRegression\" data-toc-modified-id=\"LinealRegression-3.1\"><span class=\"toc-item-num\">3.1&nbsp;&nbsp;</span>LinealRegression</a></span></li><li><span><a href=\"#RandomForestRegressor\" data-toc-modified-id=\"RandomForestRegressor-3.2\"><span class=\"toc-item-num\">3.2&nbsp;&nbsp;</span>RandomForestRegressor</a></span></li><li><span><a href=\"#CatBoostRegressor\" data-toc-modified-id=\"CatBoostRegressor-3.3\"><span class=\"toc-item-num\">3.3&nbsp;&nbsp;</span>CatBoostRegressor</a></span></li></ul></li><li><span><a href=\"#Тестирование\" data-toc-modified-id=\"Тестирование-4\"><span class=\"toc-item-num\">4&nbsp;&nbsp;</span>Тестирование</a></span><ul class=\"toc-item\"><li><span><a href=\"#Заключение\" data-toc-modified-id=\"Заключение-4.1\"><span class=\"toc-item-num\">4.1&nbsp;&nbsp;</span>Заключение</a></span></li></ul></li><li><span><a href=\"#Чек-лист-проверки\" data-toc-modified-id=\"Чек-лист-проверки-5\"><span class=\"toc-item-num\">5&nbsp;&nbsp;</span>Чек-лист проверки</a></span></li></ul></div>"
   ]
  },
  {
   "cell_type": "markdown",
   "metadata": {},
   "source": [
    "#  Прогнозирование заказов такси"
   ]
  },
  {
   "cell_type": "markdown",
   "metadata": {},
   "source": [
    "Компания «Чётенькое такси» собрала исторические данные о заказах такси в аэропортах. Чтобы привлекать больше водителей в период пиковой нагрузки, нужно спрогнозировать количество заказов такси на следующий час. Постройте модель для такого предсказания.\n",
    "\n",
    "Значение метрики *RMSE* на тестовой выборке должно быть не больше 48.\n",
    "\n",
    "Вам нужно:\n",
    "\n",
    "1. Загрузить данные и выполнить их ресемплирование по одному часу.\n",
    "2. Проанализировать данные.\n",
    "3. Обучить разные модели с различными гиперпараметрами. Сделать тестовую выборку размером 10% от исходных данных.\n",
    "4. Проверить данные на тестовой выборке и сделать выводы.\n",
    "\n",
    "\n",
    "Данные лежат в файле `taxi.csv`. Количество заказов находится в столбце `num_orders` (от англ. *number of orders*, «число заказов»)."
   ]
  },
  {
   "cell_type": "markdown",
   "metadata": {},
   "source": [
    "## Подготовка"
   ]
  },
  {
   "cell_type": "code",
   "execution_count": 1,
   "metadata": {},
   "outputs": [],
   "source": [
    "import pandas as pd\n",
    "from statsmodels.tsa.seasonal import seasonal_decompose\n",
    "import matplotlib.pyplot as plt\n",
    "from sklearn.model_selection import train_test_split\n",
    "from sklearn.metrics import mean_squared_error as mse\n",
    "from sklearn.linear_model import LinearRegression\n",
    "from sklearn.ensemble import RandomForestRegressor\n",
    "from catboost import CatBoostRegressor\n",
    "\n",
    "import warnings\n",
    "warnings.filterwarnings(\"ignore\")"
   ]
  },
  {
   "cell_type": "markdown",
   "metadata": {},
   "source": [
    "### Загрузка данных"
   ]
  },
  {
   "cell_type": "code",
   "execution_count": 2,
   "metadata": {},
   "outputs": [
    {
     "name": "stdout",
     "output_type": "stream",
     "text": [
      "<class 'pandas.core.frame.DataFrame'>\n",
      "DatetimeIndex: 26496 entries, 2018-03-01 00:00:00 to 2018-08-31 23:50:00\n",
      "Data columns (total 1 columns):\n",
      " #   Column      Non-Null Count  Dtype\n",
      "---  ------      --------------  -----\n",
      " 0   num_orders  26496 non-null  int64\n",
      "dtypes: int64(1)\n",
      "memory usage: 414.0 KB\n"
     ]
    }
   ],
   "source": [
    "data = pd.read_csv('/datasets/taxi.csv', index_col=[0], parse_dates=[0])\n",
    "data.info()"
   ]
  },
  {
   "cell_type": "code",
   "execution_count": 3,
   "metadata": {},
   "outputs": [
    {
     "data": {
      "text/html": [
       "<div>\n",
       "<style scoped>\n",
       "    .dataframe tbody tr th:only-of-type {\n",
       "        vertical-align: middle;\n",
       "    }\n",
       "\n",
       "    .dataframe tbody tr th {\n",
       "        vertical-align: top;\n",
       "    }\n",
       "\n",
       "    .dataframe thead th {\n",
       "        text-align: right;\n",
       "    }\n",
       "</style>\n",
       "<table border=\"1\" class=\"dataframe\">\n",
       "  <thead>\n",
       "    <tr style=\"text-align: right;\">\n",
       "      <th></th>\n",
       "      <th>num_orders</th>\n",
       "    </tr>\n",
       "  </thead>\n",
       "  <tbody>\n",
       "    <tr>\n",
       "      <th>count</th>\n",
       "      <td>26496.000000</td>\n",
       "    </tr>\n",
       "    <tr>\n",
       "      <th>mean</th>\n",
       "      <td>14.070463</td>\n",
       "    </tr>\n",
       "    <tr>\n",
       "      <th>std</th>\n",
       "      <td>9.211330</td>\n",
       "    </tr>\n",
       "    <tr>\n",
       "      <th>min</th>\n",
       "      <td>0.000000</td>\n",
       "    </tr>\n",
       "    <tr>\n",
       "      <th>25%</th>\n",
       "      <td>8.000000</td>\n",
       "    </tr>\n",
       "    <tr>\n",
       "      <th>50%</th>\n",
       "      <td>13.000000</td>\n",
       "    </tr>\n",
       "    <tr>\n",
       "      <th>75%</th>\n",
       "      <td>19.000000</td>\n",
       "    </tr>\n",
       "    <tr>\n",
       "      <th>max</th>\n",
       "      <td>119.000000</td>\n",
       "    </tr>\n",
       "  </tbody>\n",
       "</table>\n",
       "</div>"
      ],
      "text/plain": [
       "         num_orders\n",
       "count  26496.000000\n",
       "mean      14.070463\n",
       "std        9.211330\n",
       "min        0.000000\n",
       "25%        8.000000\n",
       "50%       13.000000\n",
       "75%       19.000000\n",
       "max      119.000000"
      ]
     },
     "execution_count": 3,
     "metadata": {},
     "output_type": "execute_result"
    }
   ],
   "source": [
    "data.describe()"
   ]
  },
  {
   "cell_type": "code",
   "execution_count": 4,
   "metadata": {},
   "outputs": [
    {
     "data": {
      "text/plain": [
       "num_orders    0\n",
       "dtype: int64"
      ]
     },
     "execution_count": 4,
     "metadata": {},
     "output_type": "execute_result"
    }
   ],
   "source": [
    "data.isna().sum()"
   ]
  },
  {
   "cell_type": "code",
   "execution_count": 5,
   "metadata": {},
   "outputs": [
    {
     "data": {
      "text/html": [
       "<div>\n",
       "<style scoped>\n",
       "    .dataframe tbody tr th:only-of-type {\n",
       "        vertical-align: middle;\n",
       "    }\n",
       "\n",
       "    .dataframe tbody tr th {\n",
       "        vertical-align: top;\n",
       "    }\n",
       "\n",
       "    .dataframe thead th {\n",
       "        text-align: right;\n",
       "    }\n",
       "</style>\n",
       "<table border=\"1\" class=\"dataframe\">\n",
       "  <thead>\n",
       "    <tr style=\"text-align: right;\">\n",
       "      <th></th>\n",
       "      <th>num_orders</th>\n",
       "    </tr>\n",
       "    <tr>\n",
       "      <th>datetime</th>\n",
       "      <th></th>\n",
       "    </tr>\n",
       "  </thead>\n",
       "  <tbody>\n",
       "    <tr>\n",
       "      <th>2018-03-01 00:00:00</th>\n",
       "      <td>9</td>\n",
       "    </tr>\n",
       "    <tr>\n",
       "      <th>2018-03-01 00:10:00</th>\n",
       "      <td>14</td>\n",
       "    </tr>\n",
       "    <tr>\n",
       "      <th>2018-03-01 00:20:00</th>\n",
       "      <td>28</td>\n",
       "    </tr>\n",
       "    <tr>\n",
       "      <th>2018-03-01 00:30:00</th>\n",
       "      <td>20</td>\n",
       "    </tr>\n",
       "    <tr>\n",
       "      <th>2018-03-01 00:40:00</th>\n",
       "      <td>32</td>\n",
       "    </tr>\n",
       "  </tbody>\n",
       "</table>\n",
       "</div>"
      ],
      "text/plain": [
       "                     num_orders\n",
       "datetime                       \n",
       "2018-03-01 00:00:00           9\n",
       "2018-03-01 00:10:00          14\n",
       "2018-03-01 00:20:00          28\n",
       "2018-03-01 00:30:00          20\n",
       "2018-03-01 00:40:00          32"
      ]
     },
     "execution_count": 5,
     "metadata": {},
     "output_type": "execute_result"
    }
   ],
   "source": [
    "data.head()"
   ]
  },
  {
   "cell_type": "markdown",
   "metadata": {},
   "source": [
    "Исходные данные загружены. Тип данных у признака 'datetime' был сменем с object на datetime64. Также по этому столбцу был установлен индекс. Пропусков в данных нет."
   ]
  },
  {
   "cell_type": "markdown",
   "metadata": {},
   "source": [
    "### Ресемплирование данных"
   ]
  },
  {
   "cell_type": "markdown",
   "metadata": {},
   "source": [
    "Проведем ресемплирование данных по одному часу, перед этим также проверим, что даты и время расположены в хронологическом порядке."
   ]
  },
  {
   "cell_type": "code",
   "execution_count": 6,
   "metadata": {},
   "outputs": [
    {
     "name": "stdout",
     "output_type": "stream",
     "text": [
      "True\n"
     ]
    }
   ],
   "source": [
    "data.sort_index(inplace=True)\n",
    "print(data.index.is_monotonic)"
   ]
  },
  {
   "cell_type": "code",
   "execution_count": 7,
   "metadata": {},
   "outputs": [],
   "source": [
    "data = data.resample('1H').sum()"
   ]
  },
  {
   "cell_type": "markdown",
   "metadata": {},
   "source": [
    "## Анализ"
   ]
  },
  {
   "cell_type": "markdown",
   "metadata": {},
   "source": [
    "Проведем анализ данных. Для этого построим по временному ряду графики тренд, сезонность и остаток декомпозиции. Определим, является ли ряд стационарным. "
   ]
  },
  {
   "cell_type": "code",
   "execution_count": 8,
   "metadata": {},
   "outputs": [],
   "source": [
    "decomposed = seasonal_decompose(data)"
   ]
  },
  {
   "cell_type": "code",
   "execution_count": 9,
   "metadata": {
    "scrolled": true
   },
   "outputs": [
    {
     "data": {
      "image/png": "[encoded data removed]",
      "text/plain": [
       "<Figure size 576x720 with 1 Axes>"
      ]
     },
     "metadata": {
      "needs_background": "light"
     },
     "output_type": "display_data"
    }
   ],
   "source": [
    "plt.figure(figsize=(8, 10))\n",
    "plt.subplot(311)\n",
    "decomposed.trend.plot(ax=plt.gca())\n",
    "plt.title('Trend');\n",
    "plt.ylabel('NumOrders');\n",
    "plt.xlabel('DateTime');"
   ]
  },
  {
   "cell_type": "code",
   "execution_count": 10,
   "metadata": {},
   "outputs": [
    {
     "data": {
      "image/png": "[encoded data removed]",
      "text/plain": [
       "<Figure size 576x720 with 1 Axes>"
      ]
     },
     "metadata": {
      "needs_background": "light"
     },
     "output_type": "display_data"
    }
   ],
   "source": [
    "plt.figure(figsize=(8, 10))\n",
    "plt.subplot(312)\n",
    "decomposed.seasonal.plot(ax=plt.gca())\n",
    "plt.title('Seasonality');\n",
    "plt.ylabel('NumOrders');\n",
    "plt.xlabel('DateTime');"
   ]
  },
  {
   "cell_type": "code",
   "execution_count": 11,
   "metadata": {},
   "outputs": [
    {
     "data": {
      "image/png": "[encoded data removed]",
      "text/plain": [
       "<Figure size 576x720 with 1 Axes>"
      ]
     },
     "metadata": {
      "needs_background": "light"
     },
     "output_type": "display_data"
    }
   ],
   "source": [
    "plt.figure(figsize=(8, 10))\n",
    "plt.subplot(313)\n",
    "decomposed.resid.plot(ax=plt.gca())\n",
    "plt.title('Residuals')\n",
    "plt.tight_layout()\n",
    "plt.ylabel('NumOrders');\n",
    "plt.xlabel('DateTime');"
   ]
  },
  {
   "cell_type": "markdown",
   "metadata": {},
   "source": [
    "По графикам можно сделать вывод, что тренд прослеживается: идет постепенное увеличение заказов; сезонность также прослеживается."
   ]
  },
  {
   "cell_type": "code",
   "execution_count": 12,
   "metadata": {
    "scrolled": true
   },
   "outputs": [
    {
     "data": {
      "image/png": "[encoded data removed]",
      "text/plain": [
       "<Figure size 432x288 with 1 Axes>"
      ]
     },
     "metadata": {
      "needs_background": "light"
     },
     "output_type": "display_data"
    }
   ],
   "source": [
    "data_shift = data.copy()\n",
    "data_shift['mean'] = data_shift['num_orders'].rolling(24).mean()\n",
    "data_shift['std'] = data_shift['num_orders'].rolling(24).std()\n",
    "data_shift.plot();\n",
    "plt.ylabel('NumOrders');\n",
    "plt.xlabel('DateTime');\n",
    "plt.title('Stochastic Process');"
   ]
  },
  {
   "cell_type": "markdown",
   "metadata": {},
   "source": [
    "Cреднее и стандартное отклонение меняются, а, значит, этот временной ряд является нестационнарным. Рассмотрим график разностей временного ряда."
   ]
  },
  {
   "cell_type": "code",
   "execution_count": 13,
   "metadata": {},
   "outputs": [
    {
     "data": {
      "image/png": "[encoded data removed]",
      "text/plain": [
       "<Figure size 432x288 with 1 Axes>"
      ]
     },
     "metadata": {
      "needs_background": "light"
     },
     "output_type": "display_data"
    }
   ],
   "source": [
    "data_shift = data_shift - data_shift.shift()\n",
    "data_shift['mean'] = data_shift['num_orders'].rolling(24).mean()\n",
    "data_shift['std'] = data_shift['num_orders'].rolling(24).std()\n",
    "data_shift.plot();\n",
    "plt.ylabel('NumOrders');\n",
    "plt.xlabel('DateTime');\n",
    "plt.title('Stochastic Process');"
   ]
  },
  {
   "cell_type": "markdown",
   "metadata": {},
   "source": [
    "Разности временного ряда более стационарны, чем сам ряд"
   ]
  },
  {
   "cell_type": "markdown",
   "metadata": {},
   "source": [
    "## Обучение"
   ]
  },
  {
   "cell_type": "markdown",
   "metadata": {},
   "source": [
    "Разделим все данные на три выборки: тренировочкую, валидационную и тестовую. На первых двух выборках рассчитаем значение меткири RMSE, используя три модели: LinealRegression, RandomForestRegerssor, CatBoostRegressor. Модель с наилучшим показателем будет выбрана для работы с тестовой выборкой."
   ]
  },
  {
   "cell_type": "code",
   "execution_count": 14,
   "metadata": {},
   "outputs": [],
   "source": [
    "def make_features(data, max_lag, rolling_mean_size):\n",
    "    data['year'] = data.index.year\n",
    "    data['month'] = data.index.month\n",
    "    data['day'] = data.index.day\n",
    "    data['dayofweek'] = data.index.dayofweek\n",
    "    \n",
    "    for lag in range(1, max_lag + 1):\n",
    "        data['lag_{}'.format(lag)] = data['num_orders'].shift(lag)\n",
    "\n",
    "    data['rolling_mean'] = data['num_orders'].shift().rolling(rolling_mean_size).mean()"
   ]
  },
  {
   "cell_type": "code",
   "execution_count": 15,
   "metadata": {},
   "outputs": [],
   "source": [
    "make_features(data, 24, 48)\n",
    "\n",
    "train, valitest = train_test_split(data, shuffle=False, train_size=0.75)\n",
    "train = train.dropna()\n",
    "valid, test = train_test_split(valitest, shuffle=False, test_size=0.4)\n",
    "\n",
    "features_train = train.drop('num_orders', axis=1)\n",
    "target_train = train['num_orders']\n",
    "features_valid = valid.drop('num_orders', axis=1)\n",
    "target_valid = valid['num_orders']\n",
    "features_test = test.drop('num_orders', axis=1)\n",
    "target_test = test['num_orders']"
   ]
  },
  {
   "cell_type": "markdown",
   "metadata": {},
   "source": [
    "### LinealRegression"
   ]
  },
  {
   "cell_type": "code",
   "execution_count": 16,
   "metadata": {},
   "outputs": [
    {
     "name": "stdout",
     "output_type": "stream",
     "text": [
      "CPU times: user 13.6 ms, sys: 6.64 ms, total: 20.2 ms\n",
      "Wall time: 9.78 ms\n"
     ]
    },
    {
     "data": {
      "text/plain": [
       "LinearRegression()"
      ]
     },
     "execution_count": 16,
     "metadata": {},
     "output_type": "execute_result"
    }
   ],
   "source": [
    "%%time\n",
    "model = LinearRegression()\n",
    "model.fit(features_train, target_train)"
   ]
  },
  {
   "cell_type": "code",
   "execution_count": 17,
   "metadata": {},
   "outputs": [
    {
     "name": "stdout",
     "output_type": "stream",
     "text": [
      "CPU times: user 40.4 ms, sys: 46.9 ms, total: 87.3 ms\n",
      "Wall time: 17.5 ms\n"
     ]
    },
    {
     "data": {
      "text/plain": [
       "33.47100888982541"
      ]
     },
     "execution_count": 17,
     "metadata": {},
     "output_type": "execute_result"
    }
   ],
   "source": [
    "%%time\n",
    "predicted = model.predict(features_valid)\n",
    "mse(predicted, target_valid) ** 0.5"
   ]
  },
  {
   "cell_type": "markdown",
   "metadata": {},
   "source": [
    "### RandomForestRegressor"
   ]
  },
  {
   "cell_type": "code",
   "execution_count": null,
   "metadata": {},
   "outputs": [],
   "source": [
    "%%time\n",
    "\n",
    "best_rmse = 50\n",
    "best_depth = None\n",
    "best_n_estimators = None\n",
    "\n",
    "for max_depth in range(10, 21, 2):\n",
    "    for n_estimators in range(100, 201, 20):\n",
    "        model = RandomForestRegressor(random_state=12345, \n",
    "                    max_depth=max_depth, n_estimators=n_estimators)\n",
    "        model.fit(features_train, target_train)\n",
    "        predicted = model.predict(features_valid)\n",
    "        result = mse(predicted, target_valid) ** 0.5\n",
    "        if result < best_rmse:\n",
    "            best_rmse = result\n",
    "            best_depth = max_depth\n",
    "            best_n_estimators = n_estimators\n",
    "print(f'Наилучший показатель RMSE: {best_rmse}')\n",
    "print(f'max_depth = {best_depth}')\n",
    "print(f'n_estimators = {best_n_estimators}')"
   ]
  },
  {
   "cell_type": "code",
   "execution_count": null,
   "metadata": {},
   "outputs": [],
   "source": [
    "%%time\n",
    "model = RandomForestRegressor(random_state=12345, max_depth=14, n_estimators=200)\n",
    "model.fit(features_train, target_train)"
   ]
  },
  {
   "cell_type": "code",
   "execution_count": null,
   "metadata": {},
   "outputs": [],
   "source": [
    "%%time\n",
    "predicted = model.predict(features_valid)\n",
    "mse(predicted, target_valid) ** 0.5"
   ]
  },
  {
   "cell_type": "markdown",
   "metadata": {},
   "source": [
    "### CatBoostRegressor"
   ]
  },
  {
   "cell_type": "code",
   "execution_count": null,
   "metadata": {
    "scrolled": true
   },
   "outputs": [],
   "source": [
    "%%time\n",
    "\n",
    "best_rmse = 59\n",
    "best_n_estimators = None\n",
    "\n",
    "for n_estimators in range(100, 201, 20):\n",
    "    model = CatBoostRegressor(learning_rate=0.5, random_state=12345, n_estimators=n_estimators, verbose=False)\n",
    "    model.fit(features_train, target_train)\n",
    "    predicted = model.predict(features_valid)\n",
    "    result = mse(predicted, target_valid) ** 0.5\n",
    "    if result < best_rmse:\n",
    "        best_rmse = result\n",
    "        best_n_estimators = n_estimators\n",
    "\n",
    "print(f'Наилучший показатель RMSE: {best_rmse}')\n",
    "print(f'n_estimators = {best_n_estimators}')"
   ]
  },
  {
   "cell_type": "code",
   "execution_count": null,
   "metadata": {},
   "outputs": [],
   "source": [
    "%%time\n",
    "model = CatBoostRegressor(learning_rate=0.5,random_state=12345, n_estimators=100, verbose=False)\n",
    "model.fit(features_train, target_train)"
   ]
  },
  {
   "cell_type": "code",
   "execution_count": null,
   "metadata": {},
   "outputs": [],
   "source": [
    "%%time\n",
    "predicted = model.predict(features_valid)\n",
    "mse(predicted, target_valid) ** 0.5"
   ]
  },
  {
   "cell_type": "markdown",
   "metadata": {},
   "source": [
    "Наилучший показатель метрики RMSE был у модели CatBoostRegressor. Эту модель используем для тестирования."
   ]
  },
  {
   "cell_type": "markdown",
   "metadata": {},
   "source": [
    "## Тестирование"
   ]
  },
  {
   "cell_type": "code",
   "execution_count": null,
   "metadata": {},
   "outputs": [],
   "source": [
    "%%time\n",
    "model = CatBoostRegressor(learning_rate=0.5, random_state=12345, n_estimators=100, verbose=False)\n",
    "model.fit(features_train, target_train)\n",
    "model.fit(features_valid, target_valid)\n",
    "predicted = model.predict(features_test)\n",
    "mse(predicted, target_test)**0.5"
   ]
  },
  {
   "cell_type": "markdown",
   "metadata": {},
   "source": [
    "### Заключение"
   ]
  },
  {
   "cell_type": "markdown",
   "metadata": {},
   "source": [
    "Необходимо было спрогнозировать количество заказов такси на следующий час. Для этого были проанализированы и ресеплированы входные данные.\n",
    "\n",
    "Для обучения рассмотрены три модели: LinealRegression, RandomForestRegerssor, CatBoostRegressor. Качество обучения оценивалось на валидационной выборке по получившемуся значению метрики RMSE.\n",
    "\n",
    "Наилучший показатель метрики RMSE был у модели CatBoostRegressor. Эта модел была рассмотрена для тестирования.\n",
    "\n",
    "В результате показатель RMSE = 44.7969112358653 на модели CatBoostRegressor с показателями: learning_rate=0.5, n_estimators=100."
   ]
  }
 ],
 "metadata": {
  "ExecuteTimeLog": [
   {
    "duration": 403,
    "start_time": "2023-02-14T15:06:25.560Z"
   },
   {
    "duration": 92,
    "start_time": "2023-02-14T15:06:26.376Z"
   },
   {
    "duration": 34,
    "start_time": "2023-02-14T15:06:38.205Z"
   },
   {
    "duration": 38,
    "start_time": "2023-02-14T15:07:05.065Z"
   },
   {
    "duration": 133,
    "start_time": "2023-02-14T15:08:33.625Z"
   },
   {
    "duration": 20,
    "start_time": "2023-02-14T15:08:38.462Z"
   },
   {
    "duration": 7,
    "start_time": "2023-02-14T15:08:47.810Z"
   },
   {
    "duration": 13,
    "start_time": "2023-02-14T15:10:03.059Z"
   },
   {
    "duration": 398,
    "start_time": "2023-02-14T15:15:30.669Z"
   },
   {
    "duration": 4,
    "start_time": "2023-02-14T15:15:31.069Z"
   },
   {
    "duration": 0,
    "start_time": "2023-02-14T15:15:31.074Z"
   },
   {
    "duration": 0,
    "start_time": "2023-02-14T15:15:31.075Z"
   },
   {
    "duration": 0,
    "start_time": "2023-02-14T15:15:31.076Z"
   },
   {
    "duration": 0,
    "start_time": "2023-02-14T15:15:31.077Z"
   },
   {
    "duration": 438,
    "start_time": "2023-02-14T15:15:42.231Z"
   },
   {
    "duration": 55,
    "start_time": "2023-02-14T15:15:42.670Z"
   },
   {
    "duration": 17,
    "start_time": "2023-02-14T15:15:42.727Z"
   },
   {
    "duration": 5,
    "start_time": "2023-02-14T15:15:42.746Z"
   },
   {
    "duration": 15,
    "start_time": "2023-02-14T15:15:42.753Z"
   },
   {
    "duration": 868,
    "start_time": "2023-02-14T15:15:42.770Z"
   },
   {
    "duration": 51,
    "start_time": "2023-02-14T15:16:08.242Z"
   },
   {
    "duration": 493,
    "start_time": "2023-02-14T15:16:21.386Z"
   },
   {
    "duration": 54,
    "start_time": "2023-02-14T15:16:21.881Z"
   },
   {
    "duration": 24,
    "start_time": "2023-02-14T15:16:21.937Z"
   },
   {
    "duration": 9,
    "start_time": "2023-02-14T15:16:21.963Z"
   },
   {
    "duration": 20,
    "start_time": "2023-02-14T15:16:21.974Z"
   },
   {
    "duration": 16,
    "start_time": "2023-02-14T15:16:21.996Z"
   },
   {
    "duration": 416,
    "start_time": "2023-02-14T15:17:39.796Z"
   },
   {
    "duration": 59,
    "start_time": "2023-02-14T15:17:40.214Z"
   },
   {
    "duration": 18,
    "start_time": "2023-02-14T15:17:40.274Z"
   },
   {
    "duration": 5,
    "start_time": "2023-02-14T15:17:40.293Z"
   },
   {
    "duration": 7,
    "start_time": "2023-02-14T15:17:40.300Z"
   },
   {
    "duration": 864,
    "start_time": "2023-02-14T15:17:40.309Z"
   },
   {
    "duration": 795,
    "start_time": "2023-02-14T15:19:23.643Z"
   },
   {
    "duration": 458,
    "start_time": "2023-02-14T15:19:33.150Z"
   },
   {
    "duration": 54,
    "start_time": "2023-02-14T15:19:33.610Z"
   },
   {
    "duration": 18,
    "start_time": "2023-02-14T15:19:33.666Z"
   },
   {
    "duration": 24,
    "start_time": "2023-02-14T15:19:33.685Z"
   },
   {
    "duration": 58,
    "start_time": "2023-02-14T15:19:33.711Z"
   },
   {
    "duration": 19,
    "start_time": "2023-02-14T15:19:33.771Z"
   },
   {
    "duration": 910,
    "start_time": "2023-02-14T15:20:50.899Z"
   },
   {
    "duration": 9,
    "start_time": "2023-02-14T15:21:10.725Z"
   },
   {
    "duration": 12,
    "start_time": "2023-02-14T15:21:15.910Z"
   },
   {
    "duration": 453,
    "start_time": "2023-02-14T15:22:36.345Z"
   },
   {
    "duration": 55,
    "start_time": "2023-02-14T15:22:36.800Z"
   },
   {
    "duration": 17,
    "start_time": "2023-02-14T15:22:36.856Z"
   },
   {
    "duration": 5,
    "start_time": "2023-02-14T15:22:36.875Z"
   },
   {
    "duration": 29,
    "start_time": "2023-02-14T15:22:36.881Z"
   },
   {
    "duration": 5,
    "start_time": "2023-02-14T15:22:36.912Z"
   },
   {
    "duration": 14,
    "start_time": "2023-02-14T15:22:36.919Z"
   },
   {
    "duration": 6,
    "start_time": "2023-02-14T15:23:44.797Z"
   },
   {
    "duration": 953,
    "start_time": "2023-02-14T16:12:00.712Z"
   },
   {
    "duration": 1006,
    "start_time": "2023-02-14T16:12:50.702Z"
   },
   {
    "duration": 106,
    "start_time": "2023-02-14T16:12:51.710Z"
   },
   {
    "duration": 16,
    "start_time": "2023-02-14T16:12:51.818Z"
   },
   {
    "duration": 5,
    "start_time": "2023-02-14T16:12:51.836Z"
   },
   {
    "duration": 20,
    "start_time": "2023-02-14T16:12:51.843Z"
   },
   {
    "duration": 10,
    "start_time": "2023-02-14T16:12:51.865Z"
   },
   {
    "duration": 11,
    "start_time": "2023-02-14T16:12:51.877Z"
   },
   {
    "duration": 18,
    "start_time": "2023-02-14T16:12:51.889Z"
   },
   {
    "duration": 733,
    "start_time": "2023-02-14T16:12:51.909Z"
   },
   {
    "duration": 274,
    "start_time": "2023-02-14T16:15:10.518Z"
   },
   {
    "duration": 280,
    "start_time": "2023-02-14T16:15:31.166Z"
   },
   {
    "duration": 356,
    "start_time": "2023-02-14T16:16:41.918Z"
   },
   {
    "duration": 1251,
    "start_time": "2023-02-14T17:07:25.632Z"
   },
   {
    "duration": 90,
    "start_time": "2023-02-14T17:07:26.886Z"
   },
   {
    "duration": 17,
    "start_time": "2023-02-14T17:07:26.979Z"
   },
   {
    "duration": 13,
    "start_time": "2023-02-14T17:07:26.999Z"
   },
   {
    "duration": 23,
    "start_time": "2023-02-14T17:07:27.013Z"
   },
   {
    "duration": 25,
    "start_time": "2023-02-14T17:07:27.038Z"
   },
   {
    "duration": 23,
    "start_time": "2023-02-14T17:07:27.065Z"
   },
   {
    "duration": 14,
    "start_time": "2023-02-14T17:07:27.090Z"
   },
   {
    "duration": 832,
    "start_time": "2023-02-14T17:07:27.106Z"
   },
   {
    "duration": 330,
    "start_time": "2023-02-14T17:07:27.950Z"
   },
   {
    "duration": 385,
    "start_time": "2023-02-14T17:07:28.282Z"
   },
   {
    "duration": 7,
    "start_time": "2023-02-14T17:07:28.670Z"
   },
   {
    "duration": 123,
    "start_time": "2023-02-14T17:07:28.679Z"
   },
   {
    "duration": 0,
    "start_time": "2023-02-14T17:07:28.804Z"
   },
   {
    "duration": 0,
    "start_time": "2023-02-14T17:07:28.805Z"
   },
   {
    "duration": 0,
    "start_time": "2023-02-14T17:07:28.806Z"
   },
   {
    "duration": 0,
    "start_time": "2023-02-14T17:07:28.807Z"
   },
   {
    "duration": 0,
    "start_time": "2023-02-14T17:07:28.809Z"
   },
   {
    "duration": 0,
    "start_time": "2023-02-14T17:07:28.811Z"
   },
   {
    "duration": 0,
    "start_time": "2023-02-14T17:07:28.812Z"
   },
   {
    "duration": 0,
    "start_time": "2023-02-14T17:07:28.813Z"
   },
   {
    "duration": 1141,
    "start_time": "2023-02-14T17:08:33.247Z"
   },
   {
    "duration": 115,
    "start_time": "2023-02-14T17:08:34.390Z"
   },
   {
    "duration": 16,
    "start_time": "2023-02-14T17:08:34.506Z"
   },
   {
    "duration": 5,
    "start_time": "2023-02-14T17:08:34.525Z"
   },
   {
    "duration": 24,
    "start_time": "2023-02-14T17:08:34.532Z"
   },
   {
    "duration": 6,
    "start_time": "2023-02-14T17:08:34.558Z"
   },
   {
    "duration": 11,
    "start_time": "2023-02-14T17:08:34.566Z"
   },
   {
    "duration": 9,
    "start_time": "2023-02-14T17:08:34.579Z"
   },
   {
    "duration": 817,
    "start_time": "2023-02-14T17:08:34.590Z"
   },
   {
    "duration": 334,
    "start_time": "2023-02-14T17:08:35.411Z"
   },
   {
    "duration": 343,
    "start_time": "2023-02-14T17:08:35.748Z"
   },
   {
    "duration": 4,
    "start_time": "2023-02-14T17:08:36.093Z"
   },
   {
    "duration": 115,
    "start_time": "2023-02-14T17:08:36.099Z"
   },
   {
    "duration": 0,
    "start_time": "2023-02-14T17:08:36.216Z"
   },
   {
    "duration": 0,
    "start_time": "2023-02-14T17:08:36.217Z"
   },
   {
    "duration": 0,
    "start_time": "2023-02-14T17:08:36.218Z"
   },
   {
    "duration": 0,
    "start_time": "2023-02-14T17:08:36.219Z"
   },
   {
    "duration": 0,
    "start_time": "2023-02-14T17:08:36.220Z"
   },
   {
    "duration": 0,
    "start_time": "2023-02-14T17:08:36.221Z"
   },
   {
    "duration": 0,
    "start_time": "2023-02-14T17:08:36.222Z"
   },
   {
    "duration": 0,
    "start_time": "2023-02-14T17:08:36.223Z"
   },
   {
    "duration": 1687,
    "start_time": "2023-02-14T17:10:11.051Z"
   },
   {
    "duration": 68,
    "start_time": "2023-02-14T17:10:12.740Z"
   },
   {
    "duration": 19,
    "start_time": "2023-02-14T17:10:12.810Z"
   },
   {
    "duration": 6,
    "start_time": "2023-02-14T17:10:12.831Z"
   },
   {
    "duration": 11,
    "start_time": "2023-02-14T17:10:12.838Z"
   },
   {
    "duration": 11,
    "start_time": "2023-02-14T17:10:12.851Z"
   },
   {
    "duration": 27,
    "start_time": "2023-02-14T17:10:12.864Z"
   },
   {
    "duration": 9,
    "start_time": "2023-02-14T17:10:12.893Z"
   },
   {
    "duration": 884,
    "start_time": "2023-02-14T17:10:12.904Z"
   },
   {
    "duration": 369,
    "start_time": "2023-02-14T17:10:13.791Z"
   },
   {
    "duration": 374,
    "start_time": "2023-02-14T17:10:14.162Z"
   },
   {
    "duration": 4,
    "start_time": "2023-02-14T17:10:14.537Z"
   },
   {
    "duration": 148,
    "start_time": "2023-02-14T17:10:14.551Z"
   },
   {
    "duration": 0,
    "start_time": "2023-02-14T17:10:14.701Z"
   },
   {
    "duration": 1,
    "start_time": "2023-02-14T17:10:14.702Z"
   },
   {
    "duration": 0,
    "start_time": "2023-02-14T17:10:14.704Z"
   },
   {
    "duration": 0,
    "start_time": "2023-02-14T17:10:14.705Z"
   },
   {
    "duration": 0,
    "start_time": "2023-02-14T17:10:14.707Z"
   },
   {
    "duration": 0,
    "start_time": "2023-02-14T17:10:14.708Z"
   },
   {
    "duration": 0,
    "start_time": "2023-02-14T17:10:14.709Z"
   },
   {
    "duration": 0,
    "start_time": "2023-02-14T17:10:14.711Z"
   },
   {
    "duration": 1444,
    "start_time": "2023-02-14T17:10:34.966Z"
   },
   {
    "duration": 76,
    "start_time": "2023-02-14T17:10:36.412Z"
   },
   {
    "duration": 21,
    "start_time": "2023-02-14T17:10:36.492Z"
   },
   {
    "duration": 8,
    "start_time": "2023-02-14T17:10:36.516Z"
   },
   {
    "duration": 28,
    "start_time": "2023-02-14T17:10:36.525Z"
   },
   {
    "duration": 41,
    "start_time": "2023-02-14T17:10:36.555Z"
   },
   {
    "duration": 30,
    "start_time": "2023-02-14T17:10:36.598Z"
   },
   {
    "duration": 15,
    "start_time": "2023-02-14T17:10:36.630Z"
   },
   {
    "duration": 756,
    "start_time": "2023-02-14T17:10:36.648Z"
   },
   {
    "duration": 344,
    "start_time": "2023-02-14T17:10:37.406Z"
   },
   {
    "duration": 324,
    "start_time": "2023-02-14T17:10:37.752Z"
   },
   {
    "duration": 6,
    "start_time": "2023-02-14T17:10:38.078Z"
   },
   {
    "duration": 13,
    "start_time": "2023-02-14T17:10:38.086Z"
   },
   {
    "duration": 182,
    "start_time": "2023-02-14T17:10:38.101Z"
   },
   {
    "duration": 52,
    "start_time": "2023-02-14T17:10:38.285Z"
   },
   {
    "duration": 532,
    "start_time": "2023-02-14T17:10:38.338Z"
   },
   {
    "duration": 601,
    "start_time": "2023-02-14T17:10:38.872Z"
   },
   {
    "duration": 58,
    "start_time": "2023-02-14T17:10:39.475Z"
   },
   {
    "duration": 49,
    "start_time": "2023-02-14T17:10:39.534Z"
   },
   {
    "duration": 1613,
    "start_time": "2023-02-14T17:12:17.513Z"
   },
   {
    "duration": 56,
    "start_time": "2023-02-14T17:12:19.128Z"
   },
   {
    "duration": 18,
    "start_time": "2023-02-14T17:12:19.185Z"
   },
   {
    "duration": 6,
    "start_time": "2023-02-14T17:12:19.205Z"
   },
   {
    "duration": 9,
    "start_time": "2023-02-14T17:12:19.213Z"
   },
   {
    "duration": 25,
    "start_time": "2023-02-14T17:12:19.224Z"
   },
   {
    "duration": 12,
    "start_time": "2023-02-14T17:12:19.250Z"
   },
   {
    "duration": 16,
    "start_time": "2023-02-14T17:12:19.265Z"
   },
   {
    "duration": 850,
    "start_time": "2023-02-14T17:12:19.282Z"
   },
   {
    "duration": 407,
    "start_time": "2023-02-14T17:12:20.135Z"
   },
   {
    "duration": 360,
    "start_time": "2023-02-14T17:12:20.548Z"
   },
   {
    "duration": 4,
    "start_time": "2023-02-14T17:12:20.910Z"
   },
   {
    "duration": 16,
    "start_time": "2023-02-14T17:12:20.915Z"
   },
   {
    "duration": 29,
    "start_time": "2023-02-14T17:12:20.932Z"
   },
   {
    "duration": 16,
    "start_time": "2023-02-14T17:12:20.963Z"
   },
   {
    "duration": 16944,
    "start_time": "2023-02-14T17:12:20.981Z"
   },
   {
    "duration": 1708,
    "start_time": "2023-02-14T17:12:37.927Z"
   },
   {
    "duration": 7,
    "start_time": "2023-02-14T17:12:39.636Z"
   },
   {
    "duration": 174,
    "start_time": "2023-02-14T17:12:39.645Z"
   },
   {
    "duration": 247044,
    "start_time": "2023-02-14T17:12:39.821Z"
   },
   {
    "duration": 88,
    "start_time": "2023-02-14T17:16:46.867Z"
   },
   {
    "duration": 428392,
    "start_time": "2023-02-14T17:16:46.963Z"
   },
   {
    "duration": 26293,
    "start_time": "2023-02-14T19:35:34.765Z"
   },
   {
    "duration": 17,
    "start_time": "2023-02-14T19:42:45.559Z"
   },
   {
    "duration": 24026,
    "start_time": "2023-02-14T19:43:36.234Z"
   },
   {
    "duration": 16,
    "start_time": "2023-02-14T19:44:05.202Z"
   },
   {
    "duration": 201,
    "start_time": "2023-02-14T19:47:59.015Z"
   },
   {
    "duration": 188,
    "start_time": "2023-02-14T19:48:08.159Z"
   },
   {
    "duration": 175,
    "start_time": "2023-02-14T19:48:24.359Z"
   },
   {
    "duration": 325,
    "start_time": "2023-02-14T19:48:46.504Z"
   },
   {
    "duration": 360,
    "start_time": "2023-02-14T19:48:48.941Z"
   },
   {
    "duration": 1365,
    "start_time": "2023-02-14T20:01:03.900Z"
   },
   {
    "duration": 56,
    "start_time": "2023-02-14T20:01:05.267Z"
   },
   {
    "duration": 16,
    "start_time": "2023-02-14T20:01:05.325Z"
   },
   {
    "duration": 9,
    "start_time": "2023-02-14T20:01:05.344Z"
   },
   {
    "duration": 25,
    "start_time": "2023-02-14T20:01:05.355Z"
   },
   {
    "duration": 7,
    "start_time": "2023-02-14T20:01:05.381Z"
   },
   {
    "duration": 20,
    "start_time": "2023-02-14T20:01:05.399Z"
   },
   {
    "duration": 25,
    "start_time": "2023-02-14T20:01:05.421Z"
   },
   {
    "duration": 225,
    "start_time": "2023-02-14T20:01:05.448Z"
   },
   {
    "duration": 235,
    "start_time": "2023-02-14T20:01:05.675Z"
   },
   {
    "duration": 429,
    "start_time": "2023-02-14T20:01:05.912Z"
   },
   {
    "duration": 298,
    "start_time": "2023-02-14T20:01:06.342Z"
   },
   {
    "duration": 367,
    "start_time": "2023-02-14T20:01:06.643Z"
   },
   {
    "duration": 4,
    "start_time": "2023-02-14T20:01:07.012Z"
   },
   {
    "duration": 21,
    "start_time": "2023-02-14T20:01:07.018Z"
   },
   {
    "duration": 18,
    "start_time": "2023-02-14T20:01:07.040Z"
   },
   {
    "duration": 9,
    "start_time": "2023-02-14T20:01:07.059Z"
   },
   {
    "duration": 24763,
    "start_time": "2023-02-14T20:01:07.069Z"
   },
   {
    "duration": 924,
    "start_time": "2023-02-14T20:01:31.834Z"
   },
   {
    "duration": 8,
    "start_time": "2023-02-14T20:01:32.759Z"
   },
   {
    "duration": 513899,
    "start_time": "2023-02-14T20:01:32.769Z"
   },
   {
    "duration": 24781,
    "start_time": "2023-02-14T20:10:06.670Z"
   },
   {
    "duration": 15,
    "start_time": "2023-02-14T20:10:31.453Z"
   },
   {
    "duration": 185,
    "start_time": "2023-02-14T20:10:31.470Z"
   },
   {
    "duration": 0,
    "start_time": "2023-02-14T20:10:31.656Z"
   },
   {
    "duration": 0,
    "start_time": "2023-02-14T20:10:31.657Z"
   },
   {
    "duration": 9,
    "start_time": "2023-02-14T20:10:43.833Z"
   },
   {
    "duration": 1235,
    "start_time": "2023-02-14T20:11:02.459Z"
   },
   {
    "duration": 8,
    "start_time": "2023-02-14T20:11:29.050Z"
   },
   {
    "duration": 28,
    "start_time": "2023-02-14T21:01:23.512Z"
   },
   {
    "duration": 1392,
    "start_time": "2023-02-14T21:02:01.273Z"
   },
   {
    "duration": 39,
    "start_time": "2023-02-14T21:02:47.614Z"
   },
   {
    "duration": 1471,
    "start_time": "2023-02-14T21:03:25.969Z"
   },
   {
    "duration": 1456,
    "start_time": "2023-02-14T21:03:39.108Z"
   },
   {
    "duration": 1439,
    "start_time": "2023-02-14T21:05:13.953Z"
   },
   {
    "duration": 61,
    "start_time": "2023-02-14T21:05:15.393Z"
   },
   {
    "duration": 15,
    "start_time": "2023-02-14T21:05:15.456Z"
   },
   {
    "duration": 8,
    "start_time": "2023-02-14T21:05:15.474Z"
   },
   {
    "duration": 15,
    "start_time": "2023-02-14T21:05:15.483Z"
   },
   {
    "duration": 13,
    "start_time": "2023-02-14T21:05:15.500Z"
   },
   {
    "duration": 19,
    "start_time": "2023-02-14T21:05:15.515Z"
   },
   {
    "duration": 7,
    "start_time": "2023-02-14T21:05:15.535Z"
   },
   {
    "duration": 222,
    "start_time": "2023-02-14T21:05:15.543Z"
   },
   {
    "duration": 219,
    "start_time": "2023-02-14T21:05:15.768Z"
   },
   {
    "duration": 437,
    "start_time": "2023-02-14T21:05:15.989Z"
   },
   {
    "duration": 306,
    "start_time": "2023-02-14T21:05:16.429Z"
   },
   {
    "duration": 309,
    "start_time": "2023-02-14T21:05:16.736Z"
   },
   {
    "duration": 4,
    "start_time": "2023-02-14T21:05:17.047Z"
   },
   {
    "duration": 41,
    "start_time": "2023-02-14T21:05:17.053Z"
   },
   {
    "duration": 4,
    "start_time": "2023-02-14T21:05:17.096Z"
   },
   {
    "duration": 51,
    "start_time": "2023-02-14T21:05:17.102Z"
   },
   {
    "duration": 101,
    "start_time": "2023-02-14T21:05:17.154Z"
   },
   {
    "duration": 4033,
    "start_time": "2023-02-14T21:05:17.257Z"
   },
   {
    "duration": 38,
    "start_time": "2023-02-14T21:05:21.292Z"
   },
   {
    "duration": 113829,
    "start_time": "2023-02-14T21:05:21.332Z"
   },
   {
    "duration": 1363,
    "start_time": "2023-02-14T21:07:15.163Z"
   },
   {
    "duration": 7,
    "start_time": "2023-02-14T21:07:16.528Z"
   },
   {
    "duration": 1381,
    "start_time": "2023-02-14T21:09:28.292Z"
   },
   {
    "duration": 55,
    "start_time": "2023-02-14T21:09:29.675Z"
   },
   {
    "duration": 14,
    "start_time": "2023-02-14T21:09:29.734Z"
   },
   {
    "duration": 5,
    "start_time": "2023-02-14T21:09:29.750Z"
   },
   {
    "duration": 12,
    "start_time": "2023-02-14T21:09:29.756Z"
   },
   {
    "duration": 6,
    "start_time": "2023-02-14T21:09:29.769Z"
   },
   {
    "duration": 11,
    "start_time": "2023-02-14T21:09:29.776Z"
   },
   {
    "duration": 6,
    "start_time": "2023-02-14T21:09:29.789Z"
   },
   {
    "duration": 220,
    "start_time": "2023-02-14T21:09:29.798Z"
   },
   {
    "duration": 225,
    "start_time": "2023-02-14T21:09:30.020Z"
   },
   {
    "duration": 385,
    "start_time": "2023-02-14T21:09:30.248Z"
   },
   {
    "duration": 283,
    "start_time": "2023-02-14T21:09:30.635Z"
   },
   {
    "duration": 323,
    "start_time": "2023-02-14T21:09:30.920Z"
   },
   {
    "duration": 6,
    "start_time": "2023-02-14T21:09:31.245Z"
   },
   {
    "duration": 54,
    "start_time": "2023-02-14T21:09:31.253Z"
   },
   {
    "duration": 8,
    "start_time": "2023-02-14T21:09:31.309Z"
   },
   {
    "duration": 57,
    "start_time": "2023-02-14T21:09:31.319Z"
   },
   {
    "duration": 179,
    "start_time": "2023-02-14T21:09:31.377Z"
   },
   {
    "duration": 5168,
    "start_time": "2023-02-14T21:09:31.558Z"
   },
   {
    "duration": 38,
    "start_time": "2023-02-14T21:09:36.727Z"
   },
   {
    "duration": 105542,
    "start_time": "2023-02-14T21:09:36.767Z"
   },
   {
    "duration": 1266,
    "start_time": "2023-02-14T21:11:22.311Z"
   },
   {
    "duration": 9,
    "start_time": "2023-02-14T21:11:23.578Z"
   },
   {
    "duration": 545173,
    "start_time": "2023-02-14T21:11:23.589Z"
   },
   {
    "duration": 26200,
    "start_time": "2023-02-14T21:20:28.764Z"
   },
   {
    "duration": 96,
    "start_time": "2023-02-14T21:20:54.966Z"
   },
   {
    "duration": 19,
    "start_time": "2023-02-14T21:20:55.066Z"
   },
   {
    "duration": 1650,
    "start_time": "2023-02-14T21:20:55.086Z"
   },
   {
    "duration": 8,
    "start_time": "2023-02-14T21:20:56.738Z"
   },
   {
    "duration": 5594,
    "start_time": "2023-02-14T21:20:56.747Z"
   },
   {
    "duration": 1362,
    "start_time": "2023-02-14T21:21:37.881Z"
   },
   {
    "duration": 58,
    "start_time": "2023-02-14T21:21:39.245Z"
   },
   {
    "duration": 15,
    "start_time": "2023-02-14T21:21:39.305Z"
   },
   {
    "duration": 5,
    "start_time": "2023-02-14T21:21:39.322Z"
   },
   {
    "duration": 9,
    "start_time": "2023-02-14T21:21:39.330Z"
   },
   {
    "duration": 5,
    "start_time": "2023-02-14T21:21:39.340Z"
   },
   {
    "duration": 10,
    "start_time": "2023-02-14T21:21:39.347Z"
   },
   {
    "duration": 6,
    "start_time": "2023-02-14T21:21:39.359Z"
   },
   {
    "duration": 215,
    "start_time": "2023-02-14T21:21:39.367Z"
   },
   {
    "duration": 215,
    "start_time": "2023-02-14T21:21:39.583Z"
   },
   {
    "duration": 438,
    "start_time": "2023-02-14T21:21:39.799Z"
   },
   {
    "duration": 265,
    "start_time": "2023-02-14T21:21:40.239Z"
   },
   {
    "duration": 282,
    "start_time": "2023-02-14T21:21:40.506Z"
   },
   {
    "duration": 4,
    "start_time": "2023-02-14T21:21:40.790Z"
   },
   {
    "duration": 51,
    "start_time": "2023-02-14T21:21:40.795Z"
   },
   {
    "duration": 262,
    "start_time": "2023-02-14T21:21:40.847Z"
   },
   {
    "duration": 11,
    "start_time": "2023-02-14T21:21:41.111Z"
   },
   {
    "duration": 28,
    "start_time": "2023-02-14T21:21:41.123Z"
   },
   {
    "duration": 1050,
    "start_time": "2023-02-14T21:21:41.152Z"
   },
   {
    "duration": 28,
    "start_time": "2023-02-14T21:21:42.204Z"
   },
   {
    "duration": 1461,
    "start_time": "2023-02-14T21:21:59.621Z"
   },
   {
    "duration": 56,
    "start_time": "2023-02-14T21:22:01.084Z"
   },
   {
    "duration": 15,
    "start_time": "2023-02-14T21:22:01.142Z"
   },
   {
    "duration": 78,
    "start_time": "2023-02-14T21:22:01.158Z"
   },
   {
    "duration": 35,
    "start_time": "2023-02-14T21:22:01.238Z"
   },
   {
    "duration": 33,
    "start_time": "2023-02-14T21:22:01.275Z"
   },
   {
    "duration": 27,
    "start_time": "2023-02-14T21:22:01.310Z"
   },
   {
    "duration": 32,
    "start_time": "2023-02-14T21:22:01.338Z"
   },
   {
    "duration": 227,
    "start_time": "2023-02-14T21:22:01.372Z"
   },
   {
    "duration": 217,
    "start_time": "2023-02-14T21:22:01.602Z"
   },
   {
    "duration": 427,
    "start_time": "2023-02-14T21:22:01.821Z"
   },
   {
    "duration": 263,
    "start_time": "2023-02-14T21:22:02.250Z"
   },
   {
    "duration": 302,
    "start_time": "2023-02-14T21:22:02.514Z"
   },
   {
    "duration": 4,
    "start_time": "2023-02-14T21:22:02.818Z"
   },
   {
    "duration": 28,
    "start_time": "2023-02-14T21:22:02.823Z"
   },
   {
    "duration": 7999,
    "start_time": "2023-02-14T21:22:02.852Z"
   },
   {
    "duration": 104,
    "start_time": "2023-02-14T21:22:10.854Z"
   },
   {
    "duration": 193,
    "start_time": "2023-02-14T21:22:10.960Z"
   },
   {
    "duration": 2726,
    "start_time": "2023-02-14T21:22:11.156Z"
   },
   {
    "duration": 30,
    "start_time": "2023-02-14T21:22:13.884Z"
   },
   {
    "duration": 24759,
    "start_time": "2023-02-14T21:22:13.915Z"
   },
   {
    "duration": 1140,
    "start_time": "2023-02-14T21:22:38.676Z"
   },
   {
    "duration": 7,
    "start_time": "2023-02-14T21:22:39.817Z"
   },
   {
    "duration": 462237,
    "start_time": "2023-02-14T21:22:39.826Z"
   },
   {
    "duration": 26595,
    "start_time": "2023-02-14T21:30:22.065Z"
   },
   {
    "duration": 96,
    "start_time": "2023-02-14T21:30:48.662Z"
   },
   {
    "duration": 9,
    "start_time": "2023-02-14T21:30:48.760Z"
   },
   {
    "duration": 1158,
    "start_time": "2023-02-14T21:30:48.772Z"
   },
   {
    "duration": 7,
    "start_time": "2023-02-14T21:30:49.932Z"
   },
   {
    "duration": 3141,
    "start_time": "2023-02-14T21:30:49.941Z"
   },
   {
    "duration": 245856,
    "start_time": "2023-02-14T21:30:53.086Z"
   },
   {
    "duration": 46793,
    "start_time": "2023-02-14T21:38:42.049Z"
   },
   {
    "duration": 46491,
    "start_time": "2023-02-14T21:40:29.955Z"
   },
   {
    "duration": 48475,
    "start_time": "2023-02-14T21:41:50.333Z"
   },
   {
    "duration": 4,
    "start_time": "2023-02-14T21:42:55.159Z"
   },
   {
    "duration": 48105,
    "start_time": "2023-02-14T21:44:59.649Z"
   },
   {
    "duration": 13,
    "start_time": "2023-02-14T21:46:32.041Z"
   },
   {
    "duration": 2265,
    "start_time": "2023-02-14T21:47:10.219Z"
   },
   {
    "duration": 2307,
    "start_time": "2023-02-14T21:47:22.624Z"
   },
   {
    "duration": 764,
    "start_time": "2023-02-14T21:49:17.571Z"
   },
   {
    "duration": 2300,
    "start_time": "2023-02-14T21:49:36.349Z"
   },
   {
    "duration": 893,
    "start_time": "2023-02-14T21:49:50.494Z"
   },
   {
    "duration": 1344,
    "start_time": "2023-02-14T21:50:13.104Z"
   },
   {
    "duration": 56,
    "start_time": "2023-02-14T21:50:14.450Z"
   },
   {
    "duration": 16,
    "start_time": "2023-02-14T21:50:14.507Z"
   },
   {
    "duration": 5,
    "start_time": "2023-02-14T21:50:14.525Z"
   },
   {
    "duration": 8,
    "start_time": "2023-02-14T21:50:14.532Z"
   },
   {
    "duration": 6,
    "start_time": "2023-02-14T21:50:14.542Z"
   },
   {
    "duration": 9,
    "start_time": "2023-02-14T21:50:14.550Z"
   },
   {
    "duration": 8,
    "start_time": "2023-02-14T21:50:14.561Z"
   },
   {
    "duration": 221,
    "start_time": "2023-02-14T21:50:14.570Z"
   },
   {
    "duration": 227,
    "start_time": "2023-02-14T21:50:14.795Z"
   },
   {
    "duration": 404,
    "start_time": "2023-02-14T21:50:15.024Z"
   },
   {
    "duration": 274,
    "start_time": "2023-02-14T21:50:15.430Z"
   },
   {
    "duration": 285,
    "start_time": "2023-02-14T21:50:15.705Z"
   },
   {
    "duration": 4,
    "start_time": "2023-02-14T21:50:15.991Z"
   },
   {
    "duration": 770,
    "start_time": "2023-02-14T21:50:15.997Z"
   },
   {
    "duration": 61082,
    "start_time": "2023-02-14T21:50:16.769Z"
   },
   {
    "duration": 31747,
    "start_time": "2023-02-14T21:51:17.852Z"
   },
   {
    "duration": 774,
    "start_time": "2023-02-14T21:51:49.601Z"
   },
   {
    "duration": 8,
    "start_time": "2023-02-14T21:51:50.377Z"
   },
   {
    "duration": 19,
    "start_time": "2023-02-14T21:51:50.386Z"
   },
   {
    "duration": 930,
    "start_time": "2023-02-14T21:51:50.406Z"
   },
   {
    "duration": 6,
    "start_time": "2023-02-14T21:51:51.337Z"
   },
   {
    "duration": 784,
    "start_time": "2023-02-14T21:51:51.345Z"
   },
   {
    "duration": 617,
    "start_time": "2023-02-14T21:51:52.130Z"
   },
   {
    "duration": 697,
    "start_time": "2023-02-14T21:53:09.697Z"
   },
   {
    "duration": 1425,
    "start_time": "2023-02-14T21:54:24.049Z"
   },
   {
    "duration": 55,
    "start_time": "2023-02-14T21:54:25.476Z"
   },
   {
    "duration": 14,
    "start_time": "2023-02-14T21:54:25.532Z"
   },
   {
    "duration": 5,
    "start_time": "2023-02-14T21:54:25.547Z"
   },
   {
    "duration": 8,
    "start_time": "2023-02-14T21:54:25.553Z"
   },
   {
    "duration": 6,
    "start_time": "2023-02-14T21:54:25.563Z"
   },
   {
    "duration": 12,
    "start_time": "2023-02-14T21:54:25.570Z"
   },
   {
    "duration": 7,
    "start_time": "2023-02-14T21:54:25.583Z"
   },
   {
    "duration": 212,
    "start_time": "2023-02-14T21:54:25.591Z"
   },
   {
    "duration": 208,
    "start_time": "2023-02-14T21:54:25.805Z"
   },
   {
    "duration": 434,
    "start_time": "2023-02-14T21:54:26.014Z"
   },
   {
    "duration": 257,
    "start_time": "2023-02-14T21:54:26.450Z"
   },
   {
    "duration": 295,
    "start_time": "2023-02-14T21:54:26.709Z"
   },
   {
    "duration": 6,
    "start_time": "2023-02-14T21:54:27.005Z"
   },
   {
    "duration": 227,
    "start_time": "2023-02-14T21:54:27.012Z"
   },
   {
    "duration": 143,
    "start_time": "2023-02-14T21:54:27.241Z"
   },
   {
    "duration": 83,
    "start_time": "2023-02-14T21:54:27.386Z"
   },
   {
    "duration": 54,
    "start_time": "2023-02-14T21:54:27.471Z"
   },
   {
    "duration": 55,
    "start_time": "2023-02-14T21:54:27.526Z"
   },
   {
    "duration": 8,
    "start_time": "2023-02-14T21:54:27.583Z"
   },
   {
    "duration": 69,
    "start_time": "2023-02-14T21:54:27.592Z"
   },
   {
    "duration": 52,
    "start_time": "2023-02-14T21:54:27.663Z"
   },
   {
    "duration": 78,
    "start_time": "2023-02-14T21:54:27.716Z"
   },
   {
    "duration": 0,
    "start_time": "2023-02-14T21:54:27.796Z"
   },
   {
    "duration": 1448,
    "start_time": "2023-02-14T21:55:05.622Z"
   },
   {
    "duration": 59,
    "start_time": "2023-02-14T21:55:07.072Z"
   },
   {
    "duration": 18,
    "start_time": "2023-02-14T21:55:07.133Z"
   },
   {
    "duration": 6,
    "start_time": "2023-02-14T21:55:07.153Z"
   },
   {
    "duration": 11,
    "start_time": "2023-02-14T21:55:07.160Z"
   },
   {
    "duration": 8,
    "start_time": "2023-02-14T21:55:07.173Z"
   },
   {
    "duration": 11,
    "start_time": "2023-02-14T21:55:07.183Z"
   },
   {
    "duration": 11,
    "start_time": "2023-02-14T21:55:07.195Z"
   },
   {
    "duration": 242,
    "start_time": "2023-02-14T21:55:07.208Z"
   },
   {
    "duration": 205,
    "start_time": "2023-02-14T21:55:07.452Z"
   },
   {
    "duration": 412,
    "start_time": "2023-02-14T21:55:07.658Z"
   },
   {
    "duration": 280,
    "start_time": "2023-02-14T21:55:08.072Z"
   },
   {
    "duration": 281,
    "start_time": "2023-02-14T21:55:08.353Z"
   },
   {
    "duration": 3,
    "start_time": "2023-02-14T21:55:08.636Z"
   },
   {
    "duration": 756,
    "start_time": "2023-02-14T21:55:08.641Z"
   },
   {
    "duration": 60854,
    "start_time": "2023-02-14T21:55:09.399Z"
   },
   {
    "duration": 30466,
    "start_time": "2023-02-14T21:56:10.255Z"
   },
   {
    "duration": 815,
    "start_time": "2023-02-14T21:56:40.722Z"
   },
   {
    "duration": 6,
    "start_time": "2023-02-14T21:56:41.538Z"
   },
   {
    "duration": 15,
    "start_time": "2023-02-14T21:56:41.545Z"
   },
   {
    "duration": 882,
    "start_time": "2023-02-14T21:56:41.561Z"
   },
   {
    "duration": 6,
    "start_time": "2023-02-14T21:56:42.444Z"
   },
   {
    "duration": 691,
    "start_time": "2023-02-14T21:56:42.452Z"
   },
   {
    "duration": 552,
    "start_time": "2023-02-14T21:56:43.145Z"
   },
   {
    "duration": 1357,
    "start_time": "2023-02-14T21:59:18.176Z"
   },
   {
    "duration": 58,
    "start_time": "2023-02-14T21:59:19.535Z"
   },
   {
    "duration": 15,
    "start_time": "2023-02-14T21:59:19.594Z"
   },
   {
    "duration": 7,
    "start_time": "2023-02-14T21:59:19.611Z"
   },
   {
    "duration": 7,
    "start_time": "2023-02-14T21:59:19.619Z"
   },
   {
    "duration": 44,
    "start_time": "2023-02-14T21:59:19.627Z"
   },
   {
    "duration": 13,
    "start_time": "2023-02-14T21:59:19.673Z"
   },
   {
    "duration": 10,
    "start_time": "2023-02-14T21:59:19.687Z"
   },
   {
    "duration": 473,
    "start_time": "2023-02-14T21:59:19.698Z"
   },
   {
    "duration": 415,
    "start_time": "2023-02-14T21:59:20.173Z"
   },
   {
    "duration": 704,
    "start_time": "2023-02-14T21:59:20.589Z"
   },
   {
    "duration": 287,
    "start_time": "2023-02-14T21:59:21.294Z"
   },
   {
    "duration": 306,
    "start_time": "2023-02-14T21:59:21.583Z"
   },
   {
    "duration": 3,
    "start_time": "2023-02-14T21:59:21.891Z"
   },
   {
    "duration": 122,
    "start_time": "2023-02-14T21:59:21.896Z"
   },
   {
    "duration": 0,
    "start_time": "2023-02-14T21:59:22.019Z"
   },
   {
    "duration": 0,
    "start_time": "2023-02-14T21:59:22.021Z"
   },
   {
    "duration": 0,
    "start_time": "2023-02-14T21:59:22.022Z"
   },
   {
    "duration": 0,
    "start_time": "2023-02-14T21:59:22.023Z"
   },
   {
    "duration": 0,
    "start_time": "2023-02-14T21:59:22.024Z"
   },
   {
    "duration": 0,
    "start_time": "2023-02-14T21:59:22.025Z"
   },
   {
    "duration": 0,
    "start_time": "2023-02-14T21:59:22.026Z"
   },
   {
    "duration": 0,
    "start_time": "2023-02-14T21:59:22.027Z"
   },
   {
    "duration": 0,
    "start_time": "2023-02-14T21:59:22.028Z"
   },
   {
    "duration": 11,
    "start_time": "2023-02-14T21:59:43.152Z"
   },
   {
    "duration": 12,
    "start_time": "2023-02-14T21:59:57.623Z"
   },
   {
    "duration": 30,
    "start_time": "2023-02-14T22:00:25.746Z"
   },
   {
    "duration": 11,
    "start_time": "2023-02-14T22:01:53.305Z"
   },
   {
    "duration": 58,
    "start_time": "2023-02-14T22:03:10.967Z"
   },
   {
    "duration": 45,
    "start_time": "2023-02-14T22:03:43.806Z"
   },
   {
    "duration": 61,
    "start_time": "2023-02-14T22:03:46.502Z"
   },
   {
    "duration": 11,
    "start_time": "2023-02-14T22:04:06.057Z"
   },
   {
    "duration": 25,
    "start_time": "2023-02-14T22:04:08.943Z"
   },
   {
    "duration": 10,
    "start_time": "2023-02-14T22:04:39.359Z"
   },
   {
    "duration": 150,
    "start_time": "2023-02-14T22:04:52.103Z"
   },
   {
    "duration": 1367,
    "start_time": "2023-02-14T22:38:37.732Z"
   },
   {
    "duration": 56,
    "start_time": "2023-02-14T22:38:39.100Z"
   },
   {
    "duration": 14,
    "start_time": "2023-02-14T22:38:39.157Z"
   },
   {
    "duration": 5,
    "start_time": "2023-02-14T22:38:39.172Z"
   },
   {
    "duration": 7,
    "start_time": "2023-02-14T22:38:39.179Z"
   },
   {
    "duration": 6,
    "start_time": "2023-02-14T22:38:39.187Z"
   },
   {
    "duration": 16,
    "start_time": "2023-02-14T22:38:39.195Z"
   },
   {
    "duration": 6,
    "start_time": "2023-02-14T22:38:39.212Z"
   },
   {
    "duration": 211,
    "start_time": "2023-02-14T22:38:39.219Z"
   },
   {
    "duration": 200,
    "start_time": "2023-02-14T22:38:39.432Z"
   },
   {
    "duration": 393,
    "start_time": "2023-02-14T22:38:39.634Z"
   },
   {
    "duration": 259,
    "start_time": "2023-02-14T22:38:40.029Z"
   },
   {
    "duration": 299,
    "start_time": "2023-02-14T22:38:40.290Z"
   },
   {
    "duration": 4,
    "start_time": "2023-02-14T22:38:40.590Z"
   },
   {
    "duration": 10,
    "start_time": "2023-02-14T22:38:40.595Z"
   },
   {
    "duration": 151,
    "start_time": "2023-02-14T22:38:40.607Z"
   },
   {
    "duration": 53,
    "start_time": "2023-02-14T22:38:40.759Z"
   },
   {
    "duration": 47,
    "start_time": "2023-02-14T22:38:40.813Z"
   },
   {
    "duration": 4,
    "start_time": "2023-02-14T22:38:40.861Z"
   },
   {
    "duration": 32075,
    "start_time": "2023-02-14T22:38:40.867Z"
   },
   {
    "duration": 793,
    "start_time": "2023-02-14T22:39:12.944Z"
   },
   {
    "duration": 8,
    "start_time": "2023-02-14T22:39:13.739Z"
   },
   {
    "duration": 13,
    "start_time": "2023-02-14T22:39:13.748Z"
   },
   {
    "duration": 896,
    "start_time": "2023-02-14T22:39:13.763Z"
   },
   {
    "duration": 6,
    "start_time": "2023-02-14T22:39:14.661Z"
   },
   {
    "duration": 706,
    "start_time": "2023-02-14T22:39:14.668Z"
   },
   {
    "duration": 555,
    "start_time": "2023-02-14T22:39:15.376Z"
   },
   {
    "duration": 9,
    "start_time": "2023-02-14T22:39:15.934Z"
   },
   {
    "duration": 65,
    "start_time": "2023-02-14T22:39:15.944Z"
   },
   {
    "duration": 11,
    "start_time": "2023-02-14T22:39:47.176Z"
   },
   {
    "duration": 11,
    "start_time": "2023-02-14T22:39:48.058Z"
   },
   {
    "duration": 7,
    "start_time": "2023-02-14T22:39:49.796Z"
   },
   {
    "duration": 9,
    "start_time": "2023-02-14T22:39:55.593Z"
   },
   {
    "duration": 1344,
    "start_time": "2023-02-14T22:40:11.791Z"
   },
   {
    "duration": 58,
    "start_time": "2023-02-14T22:40:13.137Z"
   },
   {
    "duration": 14,
    "start_time": "2023-02-14T22:40:13.196Z"
   },
   {
    "duration": 5,
    "start_time": "2023-02-14T22:40:13.212Z"
   },
   {
    "duration": 19,
    "start_time": "2023-02-14T22:40:13.218Z"
   },
   {
    "duration": 5,
    "start_time": "2023-02-14T22:40:13.239Z"
   },
   {
    "duration": 9,
    "start_time": "2023-02-14T22:40:13.246Z"
   },
   {
    "duration": 7,
    "start_time": "2023-02-14T22:40:13.256Z"
   },
   {
    "duration": 222,
    "start_time": "2023-02-14T22:40:13.264Z"
   },
   {
    "duration": 211,
    "start_time": "2023-02-14T22:40:13.489Z"
   },
   {
    "duration": 417,
    "start_time": "2023-02-14T22:40:13.702Z"
   },
   {
    "duration": 267,
    "start_time": "2023-02-14T22:40:14.120Z"
   },
   {
    "duration": 295,
    "start_time": "2023-02-14T22:40:14.389Z"
   },
   {
    "duration": 4,
    "start_time": "2023-02-14T22:40:14.686Z"
   },
   {
    "duration": 12,
    "start_time": "2023-02-14T22:40:14.691Z"
   },
   {
    "duration": 8,
    "start_time": "2023-02-14T22:40:14.705Z"
   },
   {
    "duration": 6,
    "start_time": "2023-02-14T22:40:14.715Z"
   },
   {
    "duration": 31,
    "start_time": "2023-02-14T22:40:14.722Z"
   },
   {
    "duration": 4,
    "start_time": "2023-02-14T22:40:14.754Z"
   },
   {
    "duration": 31193,
    "start_time": "2023-02-14T22:40:14.760Z"
   },
   {
    "duration": 805,
    "start_time": "2023-02-14T22:40:45.955Z"
   },
   {
    "duration": 6,
    "start_time": "2023-02-14T22:40:46.761Z"
   },
   {
    "duration": 7,
    "start_time": "2023-02-14T22:40:46.769Z"
   },
   {
    "duration": 877,
    "start_time": "2023-02-14T22:40:46.777Z"
   },
   {
    "duration": 6,
    "start_time": "2023-02-14T22:40:47.655Z"
   },
   {
    "duration": 704,
    "start_time": "2023-02-14T22:40:47.663Z"
   },
   {
    "duration": 646,
    "start_time": "2023-02-14T22:40:48.369Z"
   },
   {
    "duration": 1393,
    "start_time": "2023-02-14T22:40:51.118Z"
   },
   {
    "duration": 57,
    "start_time": "2023-02-14T22:40:52.513Z"
   },
   {
    "duration": 15,
    "start_time": "2023-02-14T22:40:52.572Z"
   },
   {
    "duration": 6,
    "start_time": "2023-02-14T22:40:52.589Z"
   },
   {
    "duration": 9,
    "start_time": "2023-02-14T22:40:52.597Z"
   },
   {
    "duration": 6,
    "start_time": "2023-02-14T22:40:52.608Z"
   },
   {
    "duration": 34,
    "start_time": "2023-02-14T22:40:52.615Z"
   },
   {
    "duration": 7,
    "start_time": "2023-02-14T22:40:52.650Z"
   },
   {
    "duration": 407,
    "start_time": "2023-02-14T22:40:52.659Z"
   },
   {
    "duration": 484,
    "start_time": "2023-02-14T22:40:53.068Z"
   },
   {
    "duration": 638,
    "start_time": "2023-02-14T22:40:53.553Z"
   },
   {
    "duration": 386,
    "start_time": "2023-02-14T22:40:54.248Z"
   },
   {
    "duration": 281,
    "start_time": "2023-02-14T22:40:54.636Z"
   },
   {
    "duration": 4,
    "start_time": "2023-02-14T22:40:54.919Z"
   },
   {
    "duration": 44,
    "start_time": "2023-02-14T22:40:54.924Z"
   },
   {
    "duration": 81,
    "start_time": "2023-02-14T22:40:54.970Z"
   },
   {
    "duration": 100,
    "start_time": "2023-02-14T22:40:55.053Z"
   },
   {
    "duration": 298,
    "start_time": "2023-02-14T22:40:55.155Z"
   },
   {
    "duration": 95,
    "start_time": "2023-02-14T22:40:55.455Z"
   },
   {
    "duration": 65474,
    "start_time": "2023-02-14T22:40:55.552Z"
   },
   {
    "duration": 1318,
    "start_time": "2023-02-14T22:42:01.028Z"
   },
   {
    "duration": 7,
    "start_time": "2023-02-14T22:42:02.347Z"
   },
   {
    "duration": 12,
    "start_time": "2023-02-14T22:42:02.356Z"
   },
   {
    "duration": 1402,
    "start_time": "2023-02-14T22:42:02.369Z"
   },
   {
    "duration": 8,
    "start_time": "2023-02-14T22:42:03.772Z"
   },
   {
    "duration": 5540,
    "start_time": "2023-02-14T22:42:03.781Z"
   },
   {
    "duration": 1186,
    "start_time": "2023-02-14T22:42:09.323Z"
   },
   {
    "duration": 118,
    "start_time": "2023-02-14T22:43:54.808Z"
   },
   {
    "duration": 17,
    "start_time": "2023-02-14T22:44:01.869Z"
   },
   {
    "duration": 16,
    "start_time": "2023-02-14T22:44:03.080Z"
   },
   {
    "duration": 11,
    "start_time": "2023-02-14T22:44:06.102Z"
   },
   {
    "duration": 1410,
    "start_time": "2023-02-14T22:44:14.168Z"
   },
   {
    "duration": 57,
    "start_time": "2023-02-14T22:44:15.580Z"
   },
   {
    "duration": 15,
    "start_time": "2023-02-14T22:44:15.638Z"
   },
   {
    "duration": 4,
    "start_time": "2023-02-14T22:44:15.655Z"
   },
   {
    "duration": 8,
    "start_time": "2023-02-14T22:44:15.661Z"
   },
   {
    "duration": 7,
    "start_time": "2023-02-14T22:44:15.671Z"
   },
   {
    "duration": 10,
    "start_time": "2023-02-14T22:44:15.679Z"
   },
   {
    "duration": 7,
    "start_time": "2023-02-14T22:44:15.691Z"
   },
   {
    "duration": 218,
    "start_time": "2023-02-14T22:44:15.699Z"
   },
   {
    "duration": 202,
    "start_time": "2023-02-14T22:44:15.919Z"
   },
   {
    "duration": 405,
    "start_time": "2023-02-14T22:44:16.123Z"
   },
   {
    "duration": 273,
    "start_time": "2023-02-14T22:44:16.530Z"
   },
   {
    "duration": 287,
    "start_time": "2023-02-14T22:44:16.805Z"
   },
   {
    "duration": 4,
    "start_time": "2023-02-14T22:44:17.094Z"
   },
   {
    "duration": 35,
    "start_time": "2023-02-14T22:44:17.100Z"
   },
   {
    "duration": 23,
    "start_time": "2023-02-14T22:44:17.137Z"
   },
   {
    "duration": 194,
    "start_time": "2023-02-14T22:44:17.161Z"
   },
   {
    "duration": 595,
    "start_time": "2023-02-14T22:44:17.357Z"
   },
   {
    "duration": 4,
    "start_time": "2023-02-14T22:44:17.954Z"
   },
   {
    "duration": 1353,
    "start_time": "2023-02-14T22:44:34.271Z"
   },
   {
    "duration": 57,
    "start_time": "2023-02-14T22:44:35.626Z"
   },
   {
    "duration": 16,
    "start_time": "2023-02-14T22:44:35.684Z"
   },
   {
    "duration": 5,
    "start_time": "2023-02-14T22:44:35.702Z"
   },
   {
    "duration": 11,
    "start_time": "2023-02-14T22:44:35.709Z"
   },
   {
    "duration": 5,
    "start_time": "2023-02-14T22:44:35.721Z"
   },
   {
    "duration": 24,
    "start_time": "2023-02-14T22:44:35.727Z"
   },
   {
    "duration": 7,
    "start_time": "2023-02-14T22:44:35.753Z"
   },
   {
    "duration": 209,
    "start_time": "2023-02-14T22:44:35.762Z"
   },
   {
    "duration": 205,
    "start_time": "2023-02-14T22:44:35.974Z"
   },
   {
    "duration": 453,
    "start_time": "2023-02-14T22:44:36.180Z"
   },
   {
    "duration": 256,
    "start_time": "2023-02-14T22:44:36.635Z"
   },
   {
    "duration": 282,
    "start_time": "2023-02-14T22:44:36.893Z"
   },
   {
    "duration": 5,
    "start_time": "2023-02-14T22:44:37.177Z"
   },
   {
    "duration": 399,
    "start_time": "2023-02-14T22:44:37.183Z"
   },
   {
    "duration": 876,
    "start_time": "2023-02-14T22:44:37.584Z"
   },
   {
    "duration": 104,
    "start_time": "2023-02-14T22:44:38.550Z"
   },
   {
    "duration": 1594,
    "start_time": "2023-02-14T22:44:38.656Z"
   },
   {
    "duration": 5,
    "start_time": "2023-02-14T22:44:40.251Z"
   },
   {
    "duration": 1437,
    "start_time": "2023-02-14T22:46:10.513Z"
   },
   {
    "duration": 57,
    "start_time": "2023-02-14T22:46:11.952Z"
   },
   {
    "duration": 14,
    "start_time": "2023-02-14T22:46:12.011Z"
   },
   {
    "duration": 9,
    "start_time": "2023-02-14T22:46:12.027Z"
   },
   {
    "duration": 14,
    "start_time": "2023-02-14T22:46:12.037Z"
   },
   {
    "duration": 8,
    "start_time": "2023-02-14T22:46:12.052Z"
   },
   {
    "duration": 10,
    "start_time": "2023-02-14T22:46:12.061Z"
   },
   {
    "duration": 10,
    "start_time": "2023-02-14T22:46:12.072Z"
   },
   {
    "duration": 216,
    "start_time": "2023-02-14T22:46:12.083Z"
   },
   {
    "duration": 348,
    "start_time": "2023-02-14T22:46:12.302Z"
   },
   {
    "duration": 697,
    "start_time": "2023-02-14T22:46:12.652Z"
   },
   {
    "duration": 540,
    "start_time": "2023-02-14T22:46:13.350Z"
   },
   {
    "duration": 488,
    "start_time": "2023-02-14T22:46:13.892Z"
   },
   {
    "duration": 4,
    "start_time": "2023-02-14T22:46:14.382Z"
   },
   {
    "duration": 34,
    "start_time": "2023-02-14T22:46:14.388Z"
   },
   {
    "duration": 126,
    "start_time": "2023-02-14T22:46:14.423Z"
   },
   {
    "duration": 0,
    "start_time": "2023-02-14T22:46:14.551Z"
   },
   {
    "duration": 0,
    "start_time": "2023-02-14T22:46:14.552Z"
   },
   {
    "duration": 0,
    "start_time": "2023-02-14T22:46:14.554Z"
   },
   {
    "duration": 0,
    "start_time": "2023-02-14T22:46:14.555Z"
   },
   {
    "duration": 0,
    "start_time": "2023-02-14T22:46:14.557Z"
   },
   {
    "duration": 1,
    "start_time": "2023-02-14T22:46:14.558Z"
   },
   {
    "duration": 0,
    "start_time": "2023-02-14T22:46:14.560Z"
   },
   {
    "duration": 0,
    "start_time": "2023-02-14T22:46:14.561Z"
   },
   {
    "duration": 0,
    "start_time": "2023-02-14T22:46:14.563Z"
   },
   {
    "duration": 0,
    "start_time": "2023-02-14T22:46:14.564Z"
   },
   {
    "duration": 0,
    "start_time": "2023-02-14T22:46:14.566Z"
   },
   {
    "duration": 0,
    "start_time": "2023-02-14T22:46:14.568Z"
   },
   {
    "duration": 1502,
    "start_time": "2023-02-14T22:47:36.514Z"
   },
   {
    "duration": 62,
    "start_time": "2023-02-14T22:47:38.017Z"
   },
   {
    "duration": 15,
    "start_time": "2023-02-14T22:47:38.081Z"
   },
   {
    "duration": 5,
    "start_time": "2023-02-14T22:47:38.098Z"
   },
   {
    "duration": 42,
    "start_time": "2023-02-14T22:47:38.105Z"
   },
   {
    "duration": 8,
    "start_time": "2023-02-14T22:47:38.149Z"
   },
   {
    "duration": 11,
    "start_time": "2023-02-14T22:47:38.159Z"
   },
   {
    "duration": 8,
    "start_time": "2023-02-14T22:47:38.171Z"
   },
   {
    "duration": 227,
    "start_time": "2023-02-14T22:47:38.181Z"
   },
   {
    "duration": 210,
    "start_time": "2023-02-14T22:47:38.410Z"
   },
   {
    "duration": 451,
    "start_time": "2023-02-14T22:47:38.622Z"
   },
   {
    "duration": 520,
    "start_time": "2023-02-14T22:47:39.074Z"
   },
   {
    "duration": 614,
    "start_time": "2023-02-14T22:47:39.648Z"
   },
   {
    "duration": 4,
    "start_time": "2023-02-14T22:47:40.263Z"
   },
   {
    "duration": 88,
    "start_time": "2023-02-14T22:47:40.268Z"
   },
   {
    "duration": 217,
    "start_time": "2023-02-14T22:47:40.357Z"
   },
   {
    "duration": 0,
    "start_time": "2023-02-14T22:47:40.576Z"
   },
   {
    "duration": 0,
    "start_time": "2023-02-14T22:47:40.577Z"
   },
   {
    "duration": 0,
    "start_time": "2023-02-14T22:47:40.578Z"
   },
   {
    "duration": 0,
    "start_time": "2023-02-14T22:47:40.579Z"
   },
   {
    "duration": 0,
    "start_time": "2023-02-14T22:47:40.580Z"
   },
   {
    "duration": 0,
    "start_time": "2023-02-14T22:47:40.581Z"
   },
   {
    "duration": 0,
    "start_time": "2023-02-14T22:47:40.582Z"
   },
   {
    "duration": 0,
    "start_time": "2023-02-14T22:47:40.583Z"
   },
   {
    "duration": 0,
    "start_time": "2023-02-14T22:47:40.584Z"
   },
   {
    "duration": 0,
    "start_time": "2023-02-14T22:47:40.585Z"
   },
   {
    "duration": 0,
    "start_time": "2023-02-14T22:47:40.586Z"
   },
   {
    "duration": 0,
    "start_time": "2023-02-14T22:47:40.587Z"
   },
   {
    "duration": 10,
    "start_time": "2023-02-14T22:49:02.275Z"
   },
   {
    "duration": 1218,
    "start_time": "2023-02-14T22:50:23.938Z"
   },
   {
    "duration": 1393,
    "start_time": "2023-02-14T22:52:54.789Z"
   },
   {
    "duration": 57,
    "start_time": "2023-02-14T22:52:56.184Z"
   },
   {
    "duration": 16,
    "start_time": "2023-02-14T22:52:56.245Z"
   },
   {
    "duration": 5,
    "start_time": "2023-02-14T22:52:56.264Z"
   },
   {
    "duration": 8,
    "start_time": "2023-02-14T22:52:56.271Z"
   },
   {
    "duration": 5,
    "start_time": "2023-02-14T22:52:56.281Z"
   },
   {
    "duration": 16,
    "start_time": "2023-02-14T22:52:56.287Z"
   },
   {
    "duration": 8,
    "start_time": "2023-02-14T22:52:56.305Z"
   },
   {
    "duration": 241,
    "start_time": "2023-02-14T22:52:56.315Z"
   },
   {
    "duration": 206,
    "start_time": "2023-02-14T22:52:56.558Z"
   },
   {
    "duration": 398,
    "start_time": "2023-02-14T22:52:56.766Z"
   },
   {
    "duration": 504,
    "start_time": "2023-02-14T22:52:57.166Z"
   },
   {
    "duration": 689,
    "start_time": "2023-02-14T22:52:57.672Z"
   },
   {
    "duration": 4,
    "start_time": "2023-02-14T22:52:58.363Z"
   },
   {
    "duration": 84,
    "start_time": "2023-02-14T22:52:58.368Z"
   },
   {
    "duration": 201,
    "start_time": "2023-02-14T22:52:58.454Z"
   },
   {
    "duration": 194,
    "start_time": "2023-02-14T22:52:58.657Z"
   },
   {
    "duration": 112,
    "start_time": "2023-02-14T22:52:58.853Z"
   },
   {
    "duration": 587,
    "start_time": "2023-02-14T22:52:58.967Z"
   },
   {
    "duration": 5,
    "start_time": "2023-02-14T22:52:59.555Z"
   },
   {
    "duration": 64688,
    "start_time": "2023-02-14T22:52:59.561Z"
   },
   {
    "duration": 1429,
    "start_time": "2023-02-14T22:54:04.251Z"
   },
   {
    "duration": 7,
    "start_time": "2023-02-14T22:54:05.682Z"
   },
   {
    "duration": 10,
    "start_time": "2023-02-14T22:54:05.691Z"
   },
   {
    "duration": 1446,
    "start_time": "2023-02-14T22:54:05.702Z"
   },
   {
    "duration": 7,
    "start_time": "2023-02-14T22:54:07.150Z"
   },
   {
    "duration": 5442,
    "start_time": "2023-02-14T22:54:07.159Z"
   },
   {
    "duration": 1251,
    "start_time": "2023-02-14T22:54:12.603Z"
   },
   {
    "duration": 1411,
    "start_time": "2023-02-14T22:54:30.539Z"
   },
   {
    "duration": 58,
    "start_time": "2023-02-14T22:54:31.952Z"
   },
   {
    "duration": 15,
    "start_time": "2023-02-14T22:54:32.011Z"
   },
   {
    "duration": 5,
    "start_time": "2023-02-14T22:54:32.028Z"
   },
   {
    "duration": 16,
    "start_time": "2023-02-14T22:54:32.034Z"
   },
   {
    "duration": 5,
    "start_time": "2023-02-14T22:54:32.052Z"
   },
   {
    "duration": 15,
    "start_time": "2023-02-14T22:54:32.058Z"
   },
   {
    "duration": 6,
    "start_time": "2023-02-14T22:54:32.074Z"
   },
   {
    "duration": 197,
    "start_time": "2023-02-14T22:54:32.081Z"
   },
   {
    "duration": 223,
    "start_time": "2023-02-14T22:54:32.281Z"
   },
   {
    "duration": 426,
    "start_time": "2023-02-14T22:54:32.506Z"
   },
   {
    "duration": 516,
    "start_time": "2023-02-14T22:54:32.933Z"
   },
   {
    "duration": 600,
    "start_time": "2023-02-14T22:54:33.451Z"
   },
   {
    "duration": 4,
    "start_time": "2023-02-14T22:54:34.053Z"
   },
   {
    "duration": 39,
    "start_time": "2023-02-14T22:54:34.058Z"
   },
   {
    "duration": 1802,
    "start_time": "2023-02-14T22:54:34.148Z"
   },
   {
    "duration": 103,
    "start_time": "2023-02-14T22:54:35.952Z"
   },
   {
    "duration": 348,
    "start_time": "2023-02-14T22:54:36.148Z"
   },
   {
    "duration": 58,
    "start_time": "2023-02-14T22:54:36.497Z"
   },
   {
    "duration": 94,
    "start_time": "2023-02-14T22:54:36.557Z"
   },
   {
    "duration": 1357,
    "start_time": "2023-02-14T22:55:41.176Z"
   },
   {
    "duration": 57,
    "start_time": "2023-02-14T22:55:42.535Z"
   },
   {
    "duration": 14,
    "start_time": "2023-02-14T22:55:42.594Z"
   },
   {
    "duration": 11,
    "start_time": "2023-02-14T22:55:42.610Z"
   },
   {
    "duration": 9,
    "start_time": "2023-02-14T22:55:42.623Z"
   },
   {
    "duration": 6,
    "start_time": "2023-02-14T22:55:42.633Z"
   },
   {
    "duration": 7,
    "start_time": "2023-02-14T22:55:42.649Z"
   },
   {
    "duration": 8,
    "start_time": "2023-02-14T22:55:42.658Z"
   },
   {
    "duration": 404,
    "start_time": "2023-02-14T22:55:42.667Z"
   },
   {
    "duration": 421,
    "start_time": "2023-02-14T22:55:43.073Z"
   },
   {
    "duration": 697,
    "start_time": "2023-02-14T22:55:43.495Z"
   },
   {
    "duration": 360,
    "start_time": "2023-02-14T22:55:44.248Z"
   },
   {
    "duration": 288,
    "start_time": "2023-02-14T22:55:44.610Z"
   },
   {
    "duration": 4,
    "start_time": "2023-02-14T22:55:44.899Z"
   },
   {
    "duration": 39,
    "start_time": "2023-02-14T22:55:44.904Z"
   },
   {
    "duration": 1400,
    "start_time": "2023-02-14T22:55:44.949Z"
   },
   {
    "duration": 105,
    "start_time": "2023-02-14T22:55:46.353Z"
   },
   {
    "duration": 327,
    "start_time": "2023-02-14T22:55:46.461Z"
   },
   {
    "duration": 187,
    "start_time": "2023-02-14T22:55:46.789Z"
   },
   {
    "duration": 4,
    "start_time": "2023-02-14T22:55:46.978Z"
   },
   {
    "duration": 1382,
    "start_time": "2023-02-14T22:56:44.478Z"
   },
   {
    "duration": 56,
    "start_time": "2023-02-14T22:56:45.861Z"
   },
   {
    "duration": 14,
    "start_time": "2023-02-14T22:56:45.919Z"
   },
   {
    "duration": 5,
    "start_time": "2023-02-14T22:56:45.935Z"
   },
   {
    "duration": 27,
    "start_time": "2023-02-14T22:56:45.941Z"
   },
   {
    "duration": 19,
    "start_time": "2023-02-14T22:56:45.970Z"
   },
   {
    "duration": 21,
    "start_time": "2023-02-14T22:56:45.990Z"
   },
   {
    "duration": 13,
    "start_time": "2023-02-14T22:56:46.012Z"
   },
   {
    "duration": 228,
    "start_time": "2023-02-14T22:56:46.026Z"
   },
   {
    "duration": 220,
    "start_time": "2023-02-14T22:56:46.257Z"
   },
   {
    "duration": 433,
    "start_time": "2023-02-14T22:56:46.479Z"
   },
   {
    "duration": 269,
    "start_time": "2023-02-14T22:56:46.915Z"
   },
   {
    "duration": 574,
    "start_time": "2023-02-14T22:56:47.186Z"
   },
   {
    "duration": 4,
    "start_time": "2023-02-14T22:56:47.762Z"
   },
   {
    "duration": 95,
    "start_time": "2023-02-14T22:56:47.767Z"
   },
   {
    "duration": 3,
    "start_time": "2023-02-14T22:56:47.864Z"
   },
   {
    "duration": 84,
    "start_time": "2023-02-14T22:56:47.869Z"
   },
   {
    "duration": 98,
    "start_time": "2023-02-14T22:56:47.955Z"
   },
   {
    "duration": 595,
    "start_time": "2023-02-14T22:56:48.055Z"
   },
   {
    "duration": 4,
    "start_time": "2023-02-14T22:56:48.651Z"
   },
   {
    "duration": 61509,
    "start_time": "2023-02-14T22:56:48.657Z"
   },
   {
    "duration": 1251,
    "start_time": "2023-02-14T22:57:50.168Z"
   },
   {
    "duration": 6,
    "start_time": "2023-02-14T22:57:51.421Z"
   },
   {
    "duration": 10,
    "start_time": "2023-02-14T22:57:51.429Z"
   },
   {
    "duration": 1410,
    "start_time": "2023-02-14T22:57:51.440Z"
   },
   {
    "duration": 8,
    "start_time": "2023-02-14T22:57:52.851Z"
   },
   {
    "duration": 5117,
    "start_time": "2023-02-14T22:57:52.860Z"
   },
   {
    "duration": 1136,
    "start_time": "2023-02-14T22:57:57.980Z"
   },
   {
    "duration": 31,
    "start_time": "2023-02-14T22:57:59.118Z"
   },
   {
    "duration": 1406,
    "start_time": "2023-02-14T22:58:25.433Z"
   },
   {
    "duration": 57,
    "start_time": "2023-02-14T22:58:26.841Z"
   },
   {
    "duration": 14,
    "start_time": "2023-02-14T22:58:26.900Z"
   },
   {
    "duration": 5,
    "start_time": "2023-02-14T22:58:26.916Z"
   },
   {
    "duration": 11,
    "start_time": "2023-02-14T22:58:26.922Z"
   },
   {
    "duration": 7,
    "start_time": "2023-02-14T22:58:26.934Z"
   },
   {
    "duration": 13,
    "start_time": "2023-02-14T22:58:26.943Z"
   },
   {
    "duration": 6,
    "start_time": "2023-02-14T22:58:26.957Z"
   },
   {
    "duration": 210,
    "start_time": "2023-02-14T22:58:26.965Z"
   },
   {
    "duration": 211,
    "start_time": "2023-02-14T22:58:27.177Z"
   },
   {
    "duration": 434,
    "start_time": "2023-02-14T22:58:27.389Z"
   },
   {
    "duration": 427,
    "start_time": "2023-02-14T22:58:27.825Z"
   },
   {
    "duration": 600,
    "start_time": "2023-02-14T22:58:28.253Z"
   },
   {
    "duration": 3,
    "start_time": "2023-02-14T22:58:28.855Z"
   },
   {
    "duration": 89,
    "start_time": "2023-02-14T22:58:28.860Z"
   },
   {
    "duration": 4,
    "start_time": "2023-02-14T22:58:28.950Z"
   },
   {
    "duration": 93,
    "start_time": "2023-02-14T22:58:28.955Z"
   },
   {
    "duration": 105,
    "start_time": "2023-02-14T22:58:29.051Z"
   },
   {
    "duration": 393,
    "start_time": "2023-02-14T22:58:29.157Z"
   },
   {
    "duration": 6,
    "start_time": "2023-02-14T22:58:29.552Z"
   },
   {
    "duration": 1331,
    "start_time": "2023-02-14T22:58:53.901Z"
   },
   {
    "duration": 64,
    "start_time": "2023-02-14T22:58:55.234Z"
   },
   {
    "duration": 15,
    "start_time": "2023-02-14T22:58:55.300Z"
   },
   {
    "duration": 5,
    "start_time": "2023-02-14T22:58:55.317Z"
   },
   {
    "duration": 10,
    "start_time": "2023-02-14T22:58:55.323Z"
   },
   {
    "duration": 7,
    "start_time": "2023-02-14T22:58:55.334Z"
   },
   {
    "duration": 10,
    "start_time": "2023-02-14T22:58:55.342Z"
   },
   {
    "duration": 7,
    "start_time": "2023-02-14T22:58:55.354Z"
   },
   {
    "duration": 216,
    "start_time": "2023-02-14T22:58:55.362Z"
   },
   {
    "duration": 216,
    "start_time": "2023-02-14T22:58:55.581Z"
   },
   {
    "duration": 575,
    "start_time": "2023-02-14T22:58:55.799Z"
   },
   {
    "duration": 277,
    "start_time": "2023-02-14T22:58:56.375Z"
   },
   {
    "duration": 287,
    "start_time": "2023-02-14T22:58:56.654Z"
   },
   {
    "duration": 6,
    "start_time": "2023-02-14T22:58:56.942Z"
   },
   {
    "duration": 34,
    "start_time": "2023-02-14T22:58:56.950Z"
   },
   {
    "duration": 4,
    "start_time": "2023-02-14T22:58:56.985Z"
   },
   {
    "duration": 65,
    "start_time": "2023-02-14T22:58:56.991Z"
   },
   {
    "duration": 190,
    "start_time": "2023-02-14T22:58:57.058Z"
   },
   {
    "duration": 201,
    "start_time": "2023-02-14T22:58:57.251Z"
   },
   {
    "duration": 96,
    "start_time": "2023-02-14T22:58:57.454Z"
   },
   {
    "duration": 60435,
    "start_time": "2023-02-14T22:58:57.552Z"
   },
   {
    "duration": 1368,
    "start_time": "2023-02-14T22:59:57.989Z"
   },
   {
    "duration": 6,
    "start_time": "2023-02-14T22:59:59.359Z"
   },
   {
    "duration": 23,
    "start_time": "2023-02-14T22:59:59.367Z"
   },
   {
    "duration": 1432,
    "start_time": "2023-02-14T22:59:59.392Z"
   },
   {
    "duration": 8,
    "start_time": "2023-02-14T23:00:00.825Z"
   },
   {
    "duration": 5150,
    "start_time": "2023-02-14T23:00:00.835Z"
   },
   {
    "duration": 1184,
    "start_time": "2023-02-14T23:00:05.988Z"
   },
   {
    "duration": 1392,
    "start_time": "2023-02-14T23:00:56.985Z"
   },
   {
    "duration": 59,
    "start_time": "2023-02-14T23:00:58.379Z"
   },
   {
    "duration": 15,
    "start_time": "2023-02-14T23:00:58.439Z"
   },
   {
    "duration": 6,
    "start_time": "2023-02-14T23:00:58.455Z"
   },
   {
    "duration": 10,
    "start_time": "2023-02-14T23:00:58.462Z"
   },
   {
    "duration": 5,
    "start_time": "2023-02-14T23:00:58.473Z"
   },
   {
    "duration": 17,
    "start_time": "2023-02-14T23:00:58.480Z"
   },
   {
    "duration": 8,
    "start_time": "2023-02-14T23:00:58.498Z"
   },
   {
    "duration": 219,
    "start_time": "2023-02-14T23:00:58.508Z"
   },
   {
    "duration": 204,
    "start_time": "2023-02-14T23:00:58.730Z"
   },
   {
    "duration": 407,
    "start_time": "2023-02-14T23:00:58.936Z"
   },
   {
    "duration": 249,
    "start_time": "2023-02-14T23:00:59.349Z"
   },
   {
    "duration": 291,
    "start_time": "2023-02-14T23:00:59.600Z"
   },
   {
    "duration": 4,
    "start_time": "2023-02-14T23:00:59.892Z"
   },
   {
    "duration": 32,
    "start_time": "2023-02-14T23:00:59.897Z"
   },
   {
    "duration": 25,
    "start_time": "2023-02-14T23:00:59.931Z"
   },
   {
    "duration": 195,
    "start_time": "2023-02-14T23:00:59.959Z"
   },
   {
    "duration": 396,
    "start_time": "2023-02-14T23:01:00.156Z"
   },
   {
    "duration": 50414,
    "start_time": "2023-02-14T23:01:00.555Z"
   },
   {
    "duration": 68731,
    "start_time": "2023-02-14T23:01:50.971Z"
   },
   {
    "duration": 1419,
    "start_time": "2023-02-14T23:02:59.703Z"
   },
   {
    "duration": 8,
    "start_time": "2023-02-14T23:03:01.124Z"
   },
   {
    "duration": 36,
    "start_time": "2023-02-14T23:03:01.133Z"
   },
   {
    "duration": 1716,
    "start_time": "2023-02-14T23:03:01.171Z"
   },
   {
    "duration": 7,
    "start_time": "2023-02-14T23:03:02.889Z"
   },
   {
    "duration": 5720,
    "start_time": "2023-02-14T23:03:02.898Z"
   },
   {
    "duration": 1745,
    "start_time": "2023-02-14T23:03:08.620Z"
   },
   {
    "duration": 83148,
    "start_time": "2023-02-14T23:03:10.369Z"
   },
   {
    "duration": 458181,
    "start_time": "2023-02-14T23:04:52.511Z"
   },
   {
    "duration": 11989,
    "start_time": "2023-02-14T23:13:24.151Z"
   },
   {
    "duration": 1661,
    "start_time": "2023-02-15T11:21:19.206Z"
   },
   {
    "duration": 174,
    "start_time": "2023-02-15T11:21:20.869Z"
   },
   {
    "duration": 17,
    "start_time": "2023-02-15T11:21:21.044Z"
   },
   {
    "duration": 9,
    "start_time": "2023-02-15T11:21:21.063Z"
   },
   {
    "duration": 9,
    "start_time": "2023-02-15T11:21:21.074Z"
   },
   {
    "duration": 6,
    "start_time": "2023-02-15T11:21:21.085Z"
   },
   {
    "duration": 14,
    "start_time": "2023-02-15T11:21:21.092Z"
   },
   {
    "duration": 8,
    "start_time": "2023-02-15T11:21:21.107Z"
   },
   {
    "duration": 231,
    "start_time": "2023-02-15T11:21:21.116Z"
   },
   {
    "duration": 292,
    "start_time": "2023-02-15T11:21:21.349Z"
   },
   {
    "duration": 375,
    "start_time": "2023-02-15T11:21:21.643Z"
   },
   {
    "duration": 300,
    "start_time": "2023-02-15T11:21:22.019Z"
   },
   {
    "duration": 312,
    "start_time": "2023-02-15T11:21:22.321Z"
   },
   {
    "duration": 4,
    "start_time": "2023-02-15T11:21:22.636Z"
   },
   {
    "duration": 34,
    "start_time": "2023-02-15T11:21:22.641Z"
   },
   {
    "duration": 27,
    "start_time": "2023-02-15T11:21:22.677Z"
   },
   {
    "duration": 96,
    "start_time": "2023-02-15T11:21:22.706Z"
   },
   {
    "duration": 396,
    "start_time": "2023-02-15T11:21:22.804Z"
   },
   {
    "duration": 195303,
    "start_time": "2023-02-15T11:21:23.202Z"
   },
   {
    "duration": 8884,
    "start_time": "2023-02-15T11:24:38.507Z"
   },
   {
    "duration": 1365,
    "start_time": "2023-02-15T11:24:47.400Z"
   },
   {
    "duration": 1433,
    "start_time": "2023-02-15T11:24:48.767Z"
   },
   {
    "duration": 6,
    "start_time": "2023-02-15T11:24:50.202Z"
   },
   {
    "duration": 15,
    "start_time": "2023-02-15T11:24:50.210Z"
   },
   {
    "duration": 1525,
    "start_time": "2023-02-15T11:24:50.227Z"
   },
   {
    "duration": 9,
    "start_time": "2023-02-15T11:24:51.753Z"
   },
   {
    "duration": 4852,
    "start_time": "2023-02-15T11:24:51.763Z"
   },
   {
    "duration": 1341,
    "start_time": "2023-02-15T11:24:56.618Z"
   },
   {
    "duration": 9053,
    "start_time": "2023-02-15T11:25:08.097Z"
   },
   {
    "duration": 9266,
    "start_time": "2023-02-15T11:25:28.393Z"
   },
   {
    "duration": 8947,
    "start_time": "2023-02-15T11:28:07.203Z"
   },
   {
    "duration": 3291,
    "start_time": "2023-02-15T11:28:20.803Z"
   },
   {
    "duration": 1501,
    "start_time": "2023-02-15T11:28:46.190Z"
   },
   {
    "duration": 54,
    "start_time": "2023-02-15T11:28:47.693Z"
   },
   {
    "duration": 17,
    "start_time": "2023-02-15T11:28:47.749Z"
   },
   {
    "duration": 7,
    "start_time": "2023-02-15T11:28:47.769Z"
   },
   {
    "duration": 14,
    "start_time": "2023-02-15T11:28:47.778Z"
   },
   {
    "duration": 11,
    "start_time": "2023-02-15T11:28:47.794Z"
   },
   {
    "duration": 12,
    "start_time": "2023-02-15T11:28:47.807Z"
   },
   {
    "duration": 14,
    "start_time": "2023-02-15T11:28:47.820Z"
   },
   {
    "duration": 237,
    "start_time": "2023-02-15T11:28:47.836Z"
   },
   {
    "duration": 233,
    "start_time": "2023-02-15T11:28:48.077Z"
   },
   {
    "duration": 434,
    "start_time": "2023-02-15T11:28:48.311Z"
   },
   {
    "duration": 287,
    "start_time": "2023-02-15T11:28:48.747Z"
   },
   {
    "duration": 324,
    "start_time": "2023-02-15T11:28:49.036Z"
   },
   {
    "duration": 5,
    "start_time": "2023-02-15T11:28:49.362Z"
   },
   {
    "duration": 43,
    "start_time": "2023-02-15T11:28:49.368Z"
   },
   {
    "duration": 15,
    "start_time": "2023-02-15T11:28:49.412Z"
   },
   {
    "duration": 106,
    "start_time": "2023-02-15T11:28:49.500Z"
   },
   {
    "duration": 292,
    "start_time": "2023-02-15T11:28:49.609Z"
   },
   {
    "duration": 196812,
    "start_time": "2023-02-15T11:28:49.903Z"
   },
   {
    "duration": 9010,
    "start_time": "2023-02-15T11:32:06.717Z"
   },
   {
    "duration": 8903,
    "start_time": "2023-02-15T11:32:15.728Z"
   },
   {
    "duration": 3215,
    "start_time": "2023-02-15T11:32:24.633Z"
   },
   {
    "duration": 15,
    "start_time": "2023-02-15T11:32:27.850Z"
   },
   {
    "duration": 1592,
    "start_time": "2023-02-15T11:32:27.867Z"
   },
   {
    "duration": 9,
    "start_time": "2023-02-15T11:32:29.461Z"
   },
   {
    "duration": 4868,
    "start_time": "2023-02-15T11:32:29.472Z"
   },
   {
    "duration": 1341,
    "start_time": "2023-02-15T11:32:34.341Z"
   },
   {
    "duration": 10071,
    "start_time": "2023-02-15T11:32:35.685Z"
   },
   {
    "duration": 1592,
    "start_time": "2023-02-15T11:35:36.158Z"
   },
   {
    "duration": 62,
    "start_time": "2023-02-15T11:35:37.753Z"
   },
   {
    "duration": 18,
    "start_time": "2023-02-15T11:35:37.817Z"
   },
   {
    "duration": 7,
    "start_time": "2023-02-15T11:35:37.838Z"
   },
   {
    "duration": 13,
    "start_time": "2023-02-15T11:35:37.847Z"
   },
   {
    "duration": 6,
    "start_time": "2023-02-15T11:35:37.862Z"
   },
   {
    "duration": 69,
    "start_time": "2023-02-15T11:35:37.869Z"
   },
   {
    "duration": 24,
    "start_time": "2023-02-15T11:35:37.940Z"
   },
   {
    "duration": 266,
    "start_time": "2023-02-15T11:35:37.967Z"
   },
   {
    "duration": 271,
    "start_time": "2023-02-15T11:35:38.236Z"
   },
   {
    "duration": 516,
    "start_time": "2023-02-15T11:35:38.510Z"
   },
   {
    "duration": 349,
    "start_time": "2023-02-15T11:35:39.028Z"
   },
   {
    "duration": 406,
    "start_time": "2023-02-15T11:35:39.379Z"
   },
   {
    "duration": 5,
    "start_time": "2023-02-15T11:35:39.786Z"
   },
   {
    "duration": 66,
    "start_time": "2023-02-15T11:35:39.792Z"
   },
   {
    "duration": 13,
    "start_time": "2023-02-15T11:35:39.860Z"
   },
   {
    "duration": 195,
    "start_time": "2023-02-15T11:35:39.904Z"
   },
   {
    "duration": 193215,
    "start_time": "2023-02-15T11:35:40.106Z"
   },
   {
    "duration": 8362,
    "start_time": "2023-02-15T11:38:53.323Z"
   },
   {
    "duration": 74,
    "start_time": "2023-02-15T11:39:01.687Z"
   },
   {
    "duration": 0,
    "start_time": "2023-02-15T11:39:01.763Z"
   },
   {
    "duration": 1606,
    "start_time": "2023-02-15T11:47:42.300Z"
   },
   {
    "duration": 57,
    "start_time": "2023-02-15T11:47:43.909Z"
   },
   {
    "duration": 20,
    "start_time": "2023-02-15T11:47:43.968Z"
   },
   {
    "duration": 7,
    "start_time": "2023-02-15T11:47:43.999Z"
   },
   {
    "duration": 27,
    "start_time": "2023-02-15T11:47:44.008Z"
   },
   {
    "duration": 13,
    "start_time": "2023-02-15T11:47:44.037Z"
   },
   {
    "duration": 13,
    "start_time": "2023-02-15T11:47:44.052Z"
   },
   {
    "duration": 9,
    "start_time": "2023-02-15T11:47:44.067Z"
   },
   {
    "duration": 223,
    "start_time": "2023-02-15T11:47:44.078Z"
   },
   {
    "duration": 206,
    "start_time": "2023-02-15T11:47:44.303Z"
   },
   {
    "duration": 427,
    "start_time": "2023-02-15T11:47:44.511Z"
   },
   {
    "duration": 283,
    "start_time": "2023-02-15T11:47:44.940Z"
   },
   {
    "duration": 296,
    "start_time": "2023-02-15T11:47:45.225Z"
   },
   {
    "duration": 4,
    "start_time": "2023-02-15T11:47:45.522Z"
   },
   {
    "duration": 44,
    "start_time": "2023-02-15T11:47:45.528Z"
   },
   {
    "duration": 27,
    "start_time": "2023-02-15T11:47:45.574Z"
   },
   {
    "duration": 104,
    "start_time": "2023-02-15T11:47:45.604Z"
   },
   {
    "duration": 190149,
    "start_time": "2023-02-15T11:47:45.800Z"
   },
   {
    "duration": 7338,
    "start_time": "2023-02-15T11:50:55.951Z"
   },
   {
    "duration": 55,
    "start_time": "2023-02-15T11:51:03.291Z"
   },
   {
    "duration": 9501,
    "start_time": "2023-02-15T11:51:03.348Z"
   },
   {
    "duration": 1079,
    "start_time": "2023-02-15T11:51:12.850Z"
   },
   {
    "duration": 8,
    "start_time": "2023-02-15T11:51:13.931Z"
   },
   {
    "duration": 72,
    "start_time": "2023-02-15T11:51:13.941Z"
   },
   {
    "duration": 0,
    "start_time": "2023-02-15T11:51:14.015Z"
   },
   {
    "duration": 1986,
    "start_time": "2023-02-15T11:51:48.656Z"
   },
   {
    "duration": 1491,
    "start_time": "2023-02-15T11:56:59.471Z"
   },
   {
    "duration": 55,
    "start_time": "2023-02-15T11:57:00.964Z"
   },
   {
    "duration": 19,
    "start_time": "2023-02-15T11:57:01.021Z"
   },
   {
    "duration": 67,
    "start_time": "2023-02-15T11:57:01.042Z"
   },
   {
    "duration": 59,
    "start_time": "2023-02-15T11:57:01.111Z"
   },
   {
    "duration": 44,
    "start_time": "2023-02-15T11:57:01.172Z"
   },
   {
    "duration": 56,
    "start_time": "2023-02-15T11:57:01.218Z"
   },
   {
    "duration": 48,
    "start_time": "2023-02-15T11:57:01.275Z"
   },
   {
    "duration": 287,
    "start_time": "2023-02-15T11:57:01.325Z"
   },
   {
    "duration": 272,
    "start_time": "2023-02-15T11:57:01.615Z"
   },
   {
    "duration": 510,
    "start_time": "2023-02-15T11:57:01.889Z"
   },
   {
    "duration": 337,
    "start_time": "2023-02-15T11:57:02.401Z"
   },
   {
    "duration": 403,
    "start_time": "2023-02-15T11:57:02.740Z"
   },
   {
    "duration": 5,
    "start_time": "2023-02-15T11:57:03.145Z"
   },
   {
    "duration": 49,
    "start_time": "2023-02-15T11:57:03.152Z"
   },
   {
    "duration": 17,
    "start_time": "2023-02-15T11:57:03.203Z"
   },
   {
    "duration": 109,
    "start_time": "2023-02-15T11:57:03.299Z"
   },
   {
    "duration": 191314,
    "start_time": "2023-02-15T11:57:03.411Z"
   },
   {
    "duration": 6856,
    "start_time": "2023-02-15T12:00:14.726Z"
   },
   {
    "duration": 54,
    "start_time": "2023-02-15T12:00:21.584Z"
   },
   {
    "duration": 8368,
    "start_time": "2023-02-15T12:00:21.640Z"
   },
   {
    "duration": 1139,
    "start_time": "2023-02-15T12:00:30.010Z"
   },
   {
    "duration": 8,
    "start_time": "2023-02-15T12:00:31.150Z"
   },
   {
    "duration": 2095,
    "start_time": "2023-02-15T12:00:31.159Z"
   },
   {
    "duration": 1451,
    "start_time": "2023-02-15T12:01:28.980Z"
   },
   {
    "duration": 1710,
    "start_time": "2023-02-15T12:01:36.409Z"
   },
   {
    "duration": 1371,
    "start_time": "2023-02-15T12:01:52.401Z"
   },
   {
    "duration": 1511,
    "start_time": "2023-02-15T12:02:00.643Z"
   },
   {
    "duration": 1681,
    "start_time": "2023-02-16T08:48:14.342Z"
   },
   {
    "duration": 153,
    "start_time": "2023-02-16T08:48:16.026Z"
   },
   {
    "duration": 16,
    "start_time": "2023-02-16T08:48:16.180Z"
   },
   {
    "duration": 5,
    "start_time": "2023-02-16T08:48:16.198Z"
   },
   {
    "duration": 9,
    "start_time": "2023-02-16T08:48:16.204Z"
   },
   {
    "duration": 5,
    "start_time": "2023-02-16T08:48:16.214Z"
   },
   {
    "duration": 10,
    "start_time": "2023-02-16T08:48:16.220Z"
   },
   {
    "duration": 23,
    "start_time": "2023-02-16T08:48:16.232Z"
   },
   {
    "duration": 233,
    "start_time": "2023-02-16T08:48:16.256Z"
   },
   {
    "duration": 306,
    "start_time": "2023-02-16T08:48:16.492Z"
   },
   {
    "duration": 381,
    "start_time": "2023-02-16T08:48:16.800Z"
   },
   {
    "duration": 306,
    "start_time": "2023-02-16T08:48:17.183Z"
   },
   {
    "duration": 319,
    "start_time": "2023-02-16T08:48:17.491Z"
   },
   {
    "duration": 3,
    "start_time": "2023-02-16T08:48:17.812Z"
   },
   {
    "duration": 45,
    "start_time": "2023-02-16T08:48:17.817Z"
   },
   {
    "duration": 13,
    "start_time": "2023-02-16T08:48:17.864Z"
   },
   {
    "duration": 103,
    "start_time": "2023-02-16T08:48:17.954Z"
   },
   {
    "duration": 204512,
    "start_time": "2023-02-16T08:48:18.059Z"
   },
   {
    "duration": 7925,
    "start_time": "2023-02-16T08:51:42.573Z"
   },
   {
    "duration": 59,
    "start_time": "2023-02-16T08:51:50.499Z"
   },
   {
    "duration": 11767,
    "start_time": "2023-02-16T08:51:50.560Z"
   },
   {
    "duration": 1058,
    "start_time": "2023-02-16T08:52:02.328Z"
   },
   {
    "duration": 6,
    "start_time": "2023-02-16T08:52:03.388Z"
   },
   {
    "duration": 2216,
    "start_time": "2023-02-16T08:52:03.396Z"
   },
   {
    "duration": 1450,
    "start_time": "2023-02-16T08:52:47.942Z"
   },
   {
    "duration": 52,
    "start_time": "2023-02-16T08:52:49.394Z"
   },
   {
    "duration": 15,
    "start_time": "2023-02-16T08:52:49.448Z"
   },
   {
    "duration": 6,
    "start_time": "2023-02-16T08:52:49.465Z"
   },
   {
    "duration": 8,
    "start_time": "2023-02-16T08:52:49.472Z"
   },
   {
    "duration": 8,
    "start_time": "2023-02-16T08:52:49.481Z"
   },
   {
    "duration": 15,
    "start_time": "2023-02-16T08:52:49.491Z"
   },
   {
    "duration": 8,
    "start_time": "2023-02-16T08:52:49.507Z"
   },
   {
    "duration": 278,
    "start_time": "2023-02-16T08:52:49.516Z"
   },
   {
    "duration": 227,
    "start_time": "2023-02-16T08:52:49.797Z"
   },
   {
    "duration": 414,
    "start_time": "2023-02-16T08:52:50.026Z"
   },
   {
    "duration": 279,
    "start_time": "2023-02-16T08:52:50.442Z"
   },
   {
    "duration": 319,
    "start_time": "2023-02-16T08:52:50.723Z"
   },
   {
    "duration": 10,
    "start_time": "2023-02-16T08:52:51.043Z"
   },
   {
    "duration": 32,
    "start_time": "2023-02-16T08:52:51.055Z"
   },
   {
    "duration": 72,
    "start_time": "2023-02-16T08:52:51.089Z"
   },
   {
    "duration": 105,
    "start_time": "2023-02-16T08:52:51.252Z"
   }
  ],
  "kernelspec": {
   "display_name": "Python 3 (ipykernel)",
   "language": "python",
   "name": "python3"
  },
  "language_info": {
   "codemirror_mode": {
    "name": "ipython",
    "version": 3
   },
   "file_extension": ".py",
   "mimetype": "text/x-python",
   "name": "python",
   "nbconvert_exporter": "python",
   "pygments_lexer": "ipython3",
   "version": "3.9.5"
  },
  "toc": {
   "base_numbering": 1,
   "nav_menu": {},
   "number_sections": true,
   "sideBar": true,
   "skip_h1_title": true,
   "title_cell": "Содержание",
   "title_sidebar": "Contents",
   "toc_cell": true,
   "toc_position": {
    "height": "calc(100% - 180px)",
    "left": "10px",
    "top": "150px",
    "width": "275.104px"
   },
   "toc_section_display": true,
   "toc_window_display": false
  }
 },
 "nbformat": 4,
 "nbformat_minor": 2
}
