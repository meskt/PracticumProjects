{
 "cells": [
  {
   "cell_type": "markdown",
   "metadata": {
    "toc": true
   },
   "source": [
    "<h1>Содержание<span class=\"tocSkip\"></span></h1>\n",
    "<div class=\"toc\"><ul class=\"toc-item\"><li><span><a href=\"#Подготовка-данных\" data-toc-modified-id=\"Подготовка-данных-1\"><span class=\"toc-item-num\">1&nbsp;&nbsp;</span>Подготовка данных</a></span><ul class=\"toc-item\"><li><span><a href=\"#Исходные-данные\" data-toc-modified-id=\"Исходные-данные-1.1\"><span class=\"toc-item-num\">1.1&nbsp;&nbsp;</span>Исходные данные</a></span></li><li><span><a href=\"#Обучающая-выборка\" data-toc-modified-id=\"Обучающая-выборка-1.2\"><span class=\"toc-item-num\">1.2&nbsp;&nbsp;</span>Обучающая выборка</a></span></li><li><span><a href=\"#Тестовая-выборка\" data-toc-modified-id=\"Тестовая-выборка-1.3\"><span class=\"toc-item-num\">1.3&nbsp;&nbsp;</span>Тестовая выборка</a></span></li><li><span><a href=\"#Эффективность-обогащения\" data-toc-modified-id=\"Эффективность-обогащения-1.4\"><span class=\"toc-item-num\">1.4&nbsp;&nbsp;</span>Эффективность обогащения</a></span></li><li><span><a href=\"#-Комментарий-ревьюера-v1\" data-toc-modified-id=\"-Комментарий-ревьюера-v1-1.5\"><span class=\"toc-item-num\">1.5&nbsp;&nbsp;</span> Комментарий ревьюера v1</a></span></li><li><span><a href=\"#Признаки-тестовой-выборки\" data-toc-modified-id=\"Признаки-тестовой-выборки-1.6\"><span class=\"toc-item-num\">1.6&nbsp;&nbsp;</span>Признаки тестовой выборки</a></span></li><li><span><a href=\"#-Комментарий-ревьюера-v1\" data-toc-modified-id=\"-Комментарий-ревьюера-v1-1.7\"><span class=\"toc-item-num\">1.7&nbsp;&nbsp;</span> Комментарий ревьюера v1</a></span></li><li><span><a href=\"#Предобработка-данных\" data-toc-modified-id=\"Предобработка-данных-1.8\"><span class=\"toc-item-num\">1.8&nbsp;&nbsp;</span>Предобработка данных</a></span></li><li><span><a href=\"#-Комментарий-ревьюера-v1\" data-toc-modified-id=\"-Комментарий-ревьюера-v1-1.9\"><span class=\"toc-item-num\">1.9&nbsp;&nbsp;</span> Комментарий ревьюера v1</a></span></li></ul></li><li><span><a href=\"#Анализ-данных\" data-toc-modified-id=\"Анализ-данных-2\"><span class=\"toc-item-num\">2&nbsp;&nbsp;</span>Анализ данных</a></span><ul class=\"toc-item\"><li><span><a href=\"#Анализ-концентрации-металлов-(Au,-Ag,-Pb)\" data-toc-modified-id=\"Анализ-концентрации-металлов-(Au,-Ag,-Pb)-2.1\"><span class=\"toc-item-num\">2.1&nbsp;&nbsp;</span>Анализ концентрации металлов (Au, Ag, Pb)</a></span></li><li><span><a href=\"#-Комментарий-ревьюера-v1\" data-toc-modified-id=\"-Комментарий-ревьюера-v1-2.2\"><span class=\"toc-item-num\">2.2&nbsp;&nbsp;</span> Комментарий ревьюера v1</a></span></li><li><span><a href=\"#Распределения-размеров-гранул-сырья\" data-toc-modified-id=\"Распределения-размеров-гранул-сырья-2.3\"><span class=\"toc-item-num\">2.3&nbsp;&nbsp;</span>Распределения размеров гранул сырья</a></span></li><li><span><a href=\"#-Комментарий-ревьюера-v1\" data-toc-modified-id=\"-Комментарий-ревьюера-v1-2.4\"><span class=\"toc-item-num\">2.4&nbsp;&nbsp;</span> Комментарий ревьюера v1</a></span></li><li><span><a href=\"#Суммарная-концентрация-всех-веществ-на-разных-стадиях\" data-toc-modified-id=\"Суммарная-концентрация-всех-веществ-на-разных-стадиях-2.5\"><span class=\"toc-item-num\">2.5&nbsp;&nbsp;</span>Суммарная концентрация всех веществ на разных стадиях</a></span></li><li><span><a href=\"#-Комментарий-ревьюера-v1\" data-toc-modified-id=\"-Комментарий-ревьюера-v1-2.6\"><span class=\"toc-item-num\">2.6&nbsp;&nbsp;</span> Комментарий ревьюера v1</a></span></li></ul></li><li><span><a href=\"#Модель\" data-toc-modified-id=\"Модель-3\"><span class=\"toc-item-num\">3&nbsp;&nbsp;</span>Модель</a></span><ul class=\"toc-item\"><li><span><a href=\"#Функции-для-вычисления-итоговой-sMAPE\" data-toc-modified-id=\"Функции-для-вычисления-итоговой-sMAPE-3.1\"><span class=\"toc-item-num\">3.1&nbsp;&nbsp;</span>Функции для вычисления итоговой sMAPE</a></span></li><li><span><a href=\"#-Комментарий-ревьюера-v1\" data-toc-modified-id=\"-Комментарий-ревьюера-v1-3.2\"><span class=\"toc-item-num\">3.2&nbsp;&nbsp;</span> Комментарий ревьюера v1</a></span></li><li><span><a href=\"#-Комментарий-ревьюера-v1\" data-toc-modified-id=\"-Комментарий-ревьюера-v1-3.3\"><span class=\"toc-item-num\">3.3&nbsp;&nbsp;</span> Комментарий ревьюера v1</a></span></li><li><span><a href=\"#Модель-LinearRegression\" data-toc-modified-id=\"Модель-LinearRegression-3.4\"><span class=\"toc-item-num\">3.4&nbsp;&nbsp;</span>Модель LinearRegression</a></span></li><li><span><a href=\"#Модель-DecisionTreeRegressor\" data-toc-modified-id=\"Модель-DecisionTreeRegressor-3.5\"><span class=\"toc-item-num\">3.5&nbsp;&nbsp;</span>Модель DecisionTreeRegressor</a></span></li><li><span><a href=\"#-Комментарий-ревьюера-v1\" data-toc-modified-id=\"-Комментарий-ревьюера-v1-3.6\"><span class=\"toc-item-num\">3.6&nbsp;&nbsp;</span> Комментарий ревьюера v1</a></span></li><li><span><a href=\"#Модель-RandomForestRegressor\" data-toc-modified-id=\"Модель-RandomForestRegressor-3.7\"><span class=\"toc-item-num\">3.7&nbsp;&nbsp;</span>Модель RandomForestRegressor</a></span></li><li><span><a href=\"#-Комментарий-ревьюера-v1\" data-toc-modified-id=\"-Комментарий-ревьюера-v1-3.8\"><span class=\"toc-item-num\">3.8&nbsp;&nbsp;</span> Комментарий ревьюера v1</a></span></li><li><span><a href=\"#Тестирование\" data-toc-modified-id=\"Тестирование-3.9\"><span class=\"toc-item-num\">3.9&nbsp;&nbsp;</span>Тестирование</a></span></li><li><span><a href=\"#-Комментарий-ревьюера-v1\" data-toc-modified-id=\"-Комментарий-ревьюера-v1-3.10\"><span class=\"toc-item-num\">3.10&nbsp;&nbsp;</span> Комментарий ревьюера v1</a></span></li><li><span><a href=\"#Константная-модель-DummyRegressor\" data-toc-modified-id=\"Константная-модель-DummyRegressor-3.11\"><span class=\"toc-item-num\">3.11&nbsp;&nbsp;</span>Константная модель DummyRegressor</a></span></li><li><span><a href=\"#-Комментарий-ревьюера-v1\" data-toc-modified-id=\"-Комментарий-ревьюера-v1-3.12\"><span class=\"toc-item-num\">3.12&nbsp;&nbsp;</span> Комментарий ревьюера v1</a></span></li></ul></li><li><span><a href=\"#Заключение\" data-toc-modified-id=\"Заключение-4\"><span class=\"toc-item-num\">4&nbsp;&nbsp;</span>Заключение</a></span></li><li><span><a href=\"#Чек-лист-готовности-проекта\" data-toc-modified-id=\"Чек-лист-готовности-проекта-5\"><span class=\"toc-item-num\">5&nbsp;&nbsp;</span>Чек-лист готовности проекта</a></span><ul class=\"toc-item\"><li><span><a href=\"#-Итоговый-комментарий\" data-toc-modified-id=\"-Итоговый-комментарий-5.1\"><span class=\"toc-item-num\">5.1&nbsp;&nbsp;</span> Итоговый комментарий</a></span></li><li><span><a href=\"#-Комментарий-ревьюера-v2\" data-toc-modified-id=\"-Комментарий-ревьюера-v2-5.2\"><span class=\"toc-item-num\">5.2&nbsp;&nbsp;</span> Комментарий ревьюера v2</a></span></li></ul></li></ul></div>"
   ]
  },
  {
   "cell_type": "markdown",
   "metadata": {},
   "source": [
    "# Восстановление золота из руды"
   ]
  },
  {
   "cell_type": "markdown",
   "metadata": {},
   "source": [
    "Подготовьте прототип модели машинного обучения для «Цифры». Компания разрабатывает решения для эффективной работы промышленных предприятий.\n",
    "\n",
    "Модель должна предсказать коэффициент восстановления золота из золотосодержащей руды. Используйте данные с параметрами добычи и очистки. \n",
    "\n",
    "Модель поможет оптимизировать производство, чтобы не запускать предприятие с убыточными характеристиками.\n",
    "\n",
    "Вам нужно:\n",
    "\n",
    "1. Подготовить данные;\n",
    "2. Провести исследовательский анализ данных;\n",
    "3. Построить и обучить модель.\n",
    "\n",
    "Чтобы выполнить проект, обращайтесь к библиотекам *pandas*, *matplotlib* и *sklearn.* Вам поможет их документация."
   ]
  },
  {
   "cell_type": "markdown",
   "metadata": {},
   "source": [
    "## Подготовка данных"
   ]
  },
  {
   "cell_type": "code",
   "execution_count": 1,
   "metadata": {},
   "outputs": [],
   "source": [
    "import pandas as pd\n",
    "from sklearn.metrics import mean_absolute_error, make_scorer\n",
    "from matplotlib import pyplot as plt\n",
    "import seaborn\n",
    "import warnings\n",
    "warnings.simplefilter('ignore')\n",
    "import numpy as np\n",
    "from sklearn.model_selection import cross_val_score\n",
    "from sklearn.linear_model import LinearRegression\n",
    "from sklearn.tree import DecisionTreeRegressor\n",
    "from sklearn.ensemble import RandomForestRegressor\n",
    "from sklearn.dummy import DummyRegressor"
   ]
  },
  {
   "cell_type": "code",
   "execution_count": 2,
   "metadata": {},
   "outputs": [],
   "source": [
    "train = pd.read_csv('/datasets/gold_recovery_train_new.csv')\n",
    "test = pd.read_csv('/datasets/gold_recovery_test_new.csv')\n",
    "full = pd.read_csv('/datasets/gold_recovery_full_new.csv')"
   ]
  },
  {
   "cell_type": "markdown",
   "metadata": {},
   "source": [
    "### Исходные данные"
   ]
  },
  {
   "cell_type": "code",
   "execution_count": 3,
   "metadata": {
    "scrolled": false
   },
   "outputs": [
    {
     "name": "stdout",
     "output_type": "stream",
     "text": [
      "<class 'pandas.core.frame.DataFrame'>\n",
      "RangeIndex: 19439 entries, 0 to 19438\n",
      "Data columns (total 87 columns):\n",
      " #   Column                                              Non-Null Count  Dtype  \n",
      "---  ------                                              --------------  -----  \n",
      " 0   date                                                19439 non-null  object \n",
      " 1   final.output.concentrate_ag                         19438 non-null  float64\n",
      " 2   final.output.concentrate_pb                         19438 non-null  float64\n",
      " 3   final.output.concentrate_sol                        19228 non-null  float64\n",
      " 4   final.output.concentrate_au                         19439 non-null  float64\n",
      " 5   final.output.recovery                               19439 non-null  float64\n",
      " 6   final.output.tail_ag                                19438 non-null  float64\n",
      " 7   final.output.tail_pb                                19338 non-null  float64\n",
      " 8   final.output.tail_sol                               19433 non-null  float64\n",
      " 9   final.output.tail_au                                19439 non-null  float64\n",
      " 10  primary_cleaner.input.sulfate                       19415 non-null  float64\n",
      " 11  primary_cleaner.input.depressant                    19402 non-null  float64\n",
      " 12  primary_cleaner.input.feed_size                     19439 non-null  float64\n",
      " 13  primary_cleaner.input.xanthate                      19335 non-null  float64\n",
      " 14  primary_cleaner.output.concentrate_ag               19439 non-null  float64\n",
      " 15  primary_cleaner.output.concentrate_pb               19323 non-null  float64\n",
      " 16  primary_cleaner.output.concentrate_sol              19069 non-null  float64\n",
      " 17  primary_cleaner.output.concentrate_au               19439 non-null  float64\n",
      " 18  primary_cleaner.output.tail_ag                      19435 non-null  float64\n",
      " 19  primary_cleaner.output.tail_pb                      19418 non-null  float64\n",
      " 20  primary_cleaner.output.tail_sol                     19377 non-null  float64\n",
      " 21  primary_cleaner.output.tail_au                      19439 non-null  float64\n",
      " 22  primary_cleaner.state.floatbank8_a_air              19435 non-null  float64\n",
      " 23  primary_cleaner.state.floatbank8_a_level            19438 non-null  float64\n",
      " 24  primary_cleaner.state.floatbank8_b_air              19435 non-null  float64\n",
      " 25  primary_cleaner.state.floatbank8_b_level            19438 non-null  float64\n",
      " 26  primary_cleaner.state.floatbank8_c_air              19437 non-null  float64\n",
      " 27  primary_cleaner.state.floatbank8_c_level            19438 non-null  float64\n",
      " 28  primary_cleaner.state.floatbank8_d_air              19436 non-null  float64\n",
      " 29  primary_cleaner.state.floatbank8_d_level            19438 non-null  float64\n",
      " 30  rougher.calculation.sulfate_to_au_concentrate       19437 non-null  float64\n",
      " 31  rougher.calculation.floatbank10_sulfate_to_au_feed  19437 non-null  float64\n",
      " 32  rougher.calculation.floatbank11_sulfate_to_au_feed  19437 non-null  float64\n",
      " 33  rougher.calculation.au_pb_ratio                     19439 non-null  float64\n",
      " 34  rougher.input.feed_ag                               19439 non-null  float64\n",
      " 35  rougher.input.feed_pb                               19339 non-null  float64\n",
      " 36  rougher.input.feed_rate                             19428 non-null  float64\n",
      " 37  rougher.input.feed_size                             19294 non-null  float64\n",
      " 38  rougher.input.feed_sol                              19340 non-null  float64\n",
      " 39  rougher.input.feed_au                               19439 non-null  float64\n",
      " 40  rougher.input.floatbank10_sulfate                   19405 non-null  float64\n",
      " 41  rougher.input.floatbank10_xanthate                  19431 non-null  float64\n",
      " 42  rougher.input.floatbank11_sulfate                   19395 non-null  float64\n",
      " 43  rougher.input.floatbank11_xanthate                  18986 non-null  float64\n",
      " 44  rougher.output.concentrate_ag                       19439 non-null  float64\n",
      " 45  rougher.output.concentrate_pb                       19439 non-null  float64\n",
      " 46  rougher.output.concentrate_sol                      19416 non-null  float64\n",
      " 47  rougher.output.concentrate_au                       19439 non-null  float64\n",
      " 48  rougher.output.recovery                             19439 non-null  float64\n",
      " 49  rougher.output.tail_ag                              19438 non-null  float64\n",
      " 50  rougher.output.tail_pb                              19439 non-null  float64\n",
      " 51  rougher.output.tail_sol                             19439 non-null  float64\n",
      " 52  rougher.output.tail_au                              19439 non-null  float64\n",
      " 53  rougher.state.floatbank10_a_air                     19438 non-null  float64\n",
      " 54  rougher.state.floatbank10_a_level                   19438 non-null  float64\n",
      " 55  rougher.state.floatbank10_b_air                     19438 non-null  float64\n",
      " 56  rougher.state.floatbank10_b_level                   19438 non-null  float64\n",
      " 57  rougher.state.floatbank10_c_air                     19438 non-null  float64\n",
      " 58  rougher.state.floatbank10_c_level                   19438 non-null  float64\n",
      " 59  rougher.state.floatbank10_d_air                     19439 non-null  float64\n",
      " 60  rougher.state.floatbank10_d_level                   19439 non-null  float64\n",
      " 61  rougher.state.floatbank10_e_air                     19003 non-null  float64\n",
      " 62  rougher.state.floatbank10_e_level                   19439 non-null  float64\n",
      " 63  rougher.state.floatbank10_f_air                     19439 non-null  float64\n",
      " 64  rougher.state.floatbank10_f_level                   19439 non-null  float64\n",
      " 65  secondary_cleaner.output.tail_ag                    19437 non-null  float64\n",
      " 66  secondary_cleaner.output.tail_pb                    19427 non-null  float64\n",
      " 67  secondary_cleaner.output.tail_sol                   17691 non-null  float64\n",
      " 68  secondary_cleaner.output.tail_au                    19439 non-null  float64\n",
      " 69  secondary_cleaner.state.floatbank2_a_air            19219 non-null  float64\n",
      " 70  secondary_cleaner.state.floatbank2_a_level          19438 non-null  float64\n",
      " 71  secondary_cleaner.state.floatbank2_b_air            19416 non-null  float64\n",
      " 72  secondary_cleaner.state.floatbank2_b_level          19438 non-null  float64\n",
      " 73  secondary_cleaner.state.floatbank3_a_air            19426 non-null  float64\n",
      " 74  secondary_cleaner.state.floatbank3_a_level          19438 non-null  float64\n",
      " 75  secondary_cleaner.state.floatbank3_b_air            19438 non-null  float64\n",
      " 76  secondary_cleaner.state.floatbank3_b_level          19438 non-null  float64\n",
      " 77  secondary_cleaner.state.floatbank4_a_air            19433 non-null  float64\n",
      " 78  secondary_cleaner.state.floatbank4_a_level          19438 non-null  float64\n",
      " 79  secondary_cleaner.state.floatbank4_b_air            19438 non-null  float64\n",
      " 80  secondary_cleaner.state.floatbank4_b_level          19438 non-null  float64\n",
      " 81  secondary_cleaner.state.floatbank5_a_air            19438 non-null  float64\n",
      " 82  secondary_cleaner.state.floatbank5_a_level          19438 non-null  float64\n",
      " 83  secondary_cleaner.state.floatbank5_b_air            19438 non-null  float64\n",
      " 84  secondary_cleaner.state.floatbank5_b_level          19438 non-null  float64\n",
      " 85  secondary_cleaner.state.floatbank6_a_air            19437 non-null  float64\n",
      " 86  secondary_cleaner.state.floatbank6_a_level          19438 non-null  float64\n",
      "dtypes: float64(86), object(1)\n",
      "memory usage: 12.9+ MB\n"
     ]
    }
   ],
   "source": [
    "full.info()"
   ]
  },
  {
   "cell_type": "code",
   "execution_count": 4,
   "metadata": {},
   "outputs": [
    {
     "data": {
      "text/html": [
       "<div>\n",
       "<style scoped>\n",
       "    .dataframe tbody tr th:only-of-type {\n",
       "        vertical-align: middle;\n",
       "    }\n",
       "\n",
       "    .dataframe tbody tr th {\n",
       "        vertical-align: top;\n",
       "    }\n",
       "\n",
       "    .dataframe thead th {\n",
       "        text-align: right;\n",
       "    }\n",
       "</style>\n",
       "<table border=\"1\" class=\"dataframe\">\n",
       "  <thead>\n",
       "    <tr style=\"text-align: right;\">\n",
       "      <th></th>\n",
       "      <th>date</th>\n",
       "      <th>final.output.concentrate_ag</th>\n",
       "      <th>final.output.concentrate_pb</th>\n",
       "      <th>final.output.concentrate_sol</th>\n",
       "      <th>final.output.concentrate_au</th>\n",
       "      <th>final.output.recovery</th>\n",
       "      <th>final.output.tail_ag</th>\n",
       "      <th>final.output.tail_pb</th>\n",
       "      <th>final.output.tail_sol</th>\n",
       "      <th>final.output.tail_au</th>\n",
       "      <th>...</th>\n",
       "      <th>secondary_cleaner.state.floatbank4_a_air</th>\n",
       "      <th>secondary_cleaner.state.floatbank4_a_level</th>\n",
       "      <th>secondary_cleaner.state.floatbank4_b_air</th>\n",
       "      <th>secondary_cleaner.state.floatbank4_b_level</th>\n",
       "      <th>secondary_cleaner.state.floatbank5_a_air</th>\n",
       "      <th>secondary_cleaner.state.floatbank5_a_level</th>\n",
       "      <th>secondary_cleaner.state.floatbank5_b_air</th>\n",
       "      <th>secondary_cleaner.state.floatbank5_b_level</th>\n",
       "      <th>secondary_cleaner.state.floatbank6_a_air</th>\n",
       "      <th>secondary_cleaner.state.floatbank6_a_level</th>\n",
       "    </tr>\n",
       "  </thead>\n",
       "  <tbody>\n",
       "    <tr>\n",
       "      <th>0</th>\n",
       "      <td>2016-01-15 00:00:00</td>\n",
       "      <td>6.055403</td>\n",
       "      <td>9.889648</td>\n",
       "      <td>5.507324</td>\n",
       "      <td>42.192020</td>\n",
       "      <td>70.541216</td>\n",
       "      <td>10.411962</td>\n",
       "      <td>0.895447</td>\n",
       "      <td>16.904297</td>\n",
       "      <td>2.143149</td>\n",
       "      <td>...</td>\n",
       "      <td>14.016835</td>\n",
       "      <td>-502.488007</td>\n",
       "      <td>12.099931</td>\n",
       "      <td>-504.715942</td>\n",
       "      <td>9.925633</td>\n",
       "      <td>-498.310211</td>\n",
       "      <td>8.079666</td>\n",
       "      <td>-500.470978</td>\n",
       "      <td>14.151341</td>\n",
       "      <td>-605.841980</td>\n",
       "    </tr>\n",
       "    <tr>\n",
       "      <th>1</th>\n",
       "      <td>2016-01-15 01:00:00</td>\n",
       "      <td>6.029369</td>\n",
       "      <td>9.968944</td>\n",
       "      <td>5.257781</td>\n",
       "      <td>42.701629</td>\n",
       "      <td>69.266198</td>\n",
       "      <td>10.462676</td>\n",
       "      <td>0.927452</td>\n",
       "      <td>16.634514</td>\n",
       "      <td>2.224930</td>\n",
       "      <td>...</td>\n",
       "      <td>13.992281</td>\n",
       "      <td>-505.503262</td>\n",
       "      <td>11.950531</td>\n",
       "      <td>-501.331529</td>\n",
       "      <td>10.039245</td>\n",
       "      <td>-500.169983</td>\n",
       "      <td>7.984757</td>\n",
       "      <td>-500.582168</td>\n",
       "      <td>13.998353</td>\n",
       "      <td>-599.787184</td>\n",
       "    </tr>\n",
       "    <tr>\n",
       "      <th>2</th>\n",
       "      <td>2016-01-15 02:00:00</td>\n",
       "      <td>6.055926</td>\n",
       "      <td>10.213995</td>\n",
       "      <td>5.383759</td>\n",
       "      <td>42.657501</td>\n",
       "      <td>68.116445</td>\n",
       "      <td>10.507046</td>\n",
       "      <td>0.953716</td>\n",
       "      <td>16.208849</td>\n",
       "      <td>2.257889</td>\n",
       "      <td>...</td>\n",
       "      <td>14.015015</td>\n",
       "      <td>-502.520901</td>\n",
       "      <td>11.912783</td>\n",
       "      <td>-501.133383</td>\n",
       "      <td>10.070913</td>\n",
       "      <td>-500.129135</td>\n",
       "      <td>8.013877</td>\n",
       "      <td>-500.517572</td>\n",
       "      <td>14.028663</td>\n",
       "      <td>-601.427363</td>\n",
       "    </tr>\n",
       "    <tr>\n",
       "      <th>3</th>\n",
       "      <td>2016-01-15 03:00:00</td>\n",
       "      <td>6.047977</td>\n",
       "      <td>9.977019</td>\n",
       "      <td>4.858634</td>\n",
       "      <td>42.689819</td>\n",
       "      <td>68.347543</td>\n",
       "      <td>10.422762</td>\n",
       "      <td>0.883763</td>\n",
       "      <td>16.532835</td>\n",
       "      <td>2.146849</td>\n",
       "      <td>...</td>\n",
       "      <td>14.036510</td>\n",
       "      <td>-500.857308</td>\n",
       "      <td>11.999550</td>\n",
       "      <td>-501.193686</td>\n",
       "      <td>9.970366</td>\n",
       "      <td>-499.201640</td>\n",
       "      <td>7.977324</td>\n",
       "      <td>-500.255908</td>\n",
       "      <td>14.005551</td>\n",
       "      <td>-599.996129</td>\n",
       "    </tr>\n",
       "    <tr>\n",
       "      <th>4</th>\n",
       "      <td>2016-01-15 04:00:00</td>\n",
       "      <td>6.148599</td>\n",
       "      <td>10.142511</td>\n",
       "      <td>4.939416</td>\n",
       "      <td>42.774141</td>\n",
       "      <td>66.927016</td>\n",
       "      <td>10.360302</td>\n",
       "      <td>0.792826</td>\n",
       "      <td>16.525686</td>\n",
       "      <td>2.055292</td>\n",
       "      <td>...</td>\n",
       "      <td>14.027298</td>\n",
       "      <td>-499.838632</td>\n",
       "      <td>11.953070</td>\n",
       "      <td>-501.053894</td>\n",
       "      <td>9.925709</td>\n",
       "      <td>-501.686727</td>\n",
       "      <td>7.894242</td>\n",
       "      <td>-500.356035</td>\n",
       "      <td>13.996647</td>\n",
       "      <td>-601.496691</td>\n",
       "    </tr>\n",
       "  </tbody>\n",
       "</table>\n",
       "<p>5 rows × 87 columns</p>\n",
       "</div>"
      ],
      "text/plain": [
       "                  date  final.output.concentrate_ag  \\\n",
       "0  2016-01-15 00:00:00                     6.055403   \n",
       "1  2016-01-15 01:00:00                     6.029369   \n",
       "2  2016-01-15 02:00:00                     6.055926   \n",
       "3  2016-01-15 03:00:00                     6.047977   \n",
       "4  2016-01-15 04:00:00                     6.148599   \n",
       "\n",
       "   final.output.concentrate_pb  final.output.concentrate_sol  \\\n",
       "0                     9.889648                      5.507324   \n",
       "1                     9.968944                      5.257781   \n",
       "2                    10.213995                      5.383759   \n",
       "3                     9.977019                      4.858634   \n",
       "4                    10.142511                      4.939416   \n",
       "\n",
       "   final.output.concentrate_au  final.output.recovery  final.output.tail_ag  \\\n",
       "0                    42.192020              70.541216             10.411962   \n",
       "1                    42.701629              69.266198             10.462676   \n",
       "2                    42.657501              68.116445             10.507046   \n",
       "3                    42.689819              68.347543             10.422762   \n",
       "4                    42.774141              66.927016             10.360302   \n",
       "\n",
       "   final.output.tail_pb  final.output.tail_sol  final.output.tail_au  ...  \\\n",
       "0              0.895447              16.904297              2.143149  ...   \n",
       "1              0.927452              16.634514              2.224930  ...   \n",
       "2              0.953716              16.208849              2.257889  ...   \n",
       "3              0.883763              16.532835              2.146849  ...   \n",
       "4              0.792826              16.525686              2.055292  ...   \n",
       "\n",
       "   secondary_cleaner.state.floatbank4_a_air  \\\n",
       "0                                 14.016835   \n",
       "1                                 13.992281   \n",
       "2                                 14.015015   \n",
       "3                                 14.036510   \n",
       "4                                 14.027298   \n",
       "\n",
       "   secondary_cleaner.state.floatbank4_a_level  \\\n",
       "0                                 -502.488007   \n",
       "1                                 -505.503262   \n",
       "2                                 -502.520901   \n",
       "3                                 -500.857308   \n",
       "4                                 -499.838632   \n",
       "\n",
       "   secondary_cleaner.state.floatbank4_b_air  \\\n",
       "0                                 12.099931   \n",
       "1                                 11.950531   \n",
       "2                                 11.912783   \n",
       "3                                 11.999550   \n",
       "4                                 11.953070   \n",
       "\n",
       "   secondary_cleaner.state.floatbank4_b_level  \\\n",
       "0                                 -504.715942   \n",
       "1                                 -501.331529   \n",
       "2                                 -501.133383   \n",
       "3                                 -501.193686   \n",
       "4                                 -501.053894   \n",
       "\n",
       "   secondary_cleaner.state.floatbank5_a_air  \\\n",
       "0                                  9.925633   \n",
       "1                                 10.039245   \n",
       "2                                 10.070913   \n",
       "3                                  9.970366   \n",
       "4                                  9.925709   \n",
       "\n",
       "   secondary_cleaner.state.floatbank5_a_level  \\\n",
       "0                                 -498.310211   \n",
       "1                                 -500.169983   \n",
       "2                                 -500.129135   \n",
       "3                                 -499.201640   \n",
       "4                                 -501.686727   \n",
       "\n",
       "   secondary_cleaner.state.floatbank5_b_air  \\\n",
       "0                                  8.079666   \n",
       "1                                  7.984757   \n",
       "2                                  8.013877   \n",
       "3                                  7.977324   \n",
       "4                                  7.894242   \n",
       "\n",
       "   secondary_cleaner.state.floatbank5_b_level  \\\n",
       "0                                 -500.470978   \n",
       "1                                 -500.582168   \n",
       "2                                 -500.517572   \n",
       "3                                 -500.255908   \n",
       "4                                 -500.356035   \n",
       "\n",
       "   secondary_cleaner.state.floatbank6_a_air  \\\n",
       "0                                 14.151341   \n",
       "1                                 13.998353   \n",
       "2                                 14.028663   \n",
       "3                                 14.005551   \n",
       "4                                 13.996647   \n",
       "\n",
       "   secondary_cleaner.state.floatbank6_a_level  \n",
       "0                                 -605.841980  \n",
       "1                                 -599.787184  \n",
       "2                                 -601.427363  \n",
       "3                                 -599.996129  \n",
       "4                                 -601.496691  \n",
       "\n",
       "[5 rows x 87 columns]"
      ]
     },
     "execution_count": 4,
     "metadata": {},
     "output_type": "execute_result"
    }
   ],
   "source": [
    "full.head()"
   ]
  },
  {
   "cell_type": "code",
   "execution_count": 5,
   "metadata": {},
   "outputs": [
    {
     "name": "stdout",
     "output_type": "stream",
     "text": [
      "date                                            0\n",
      "final.output.concentrate_ag                     1\n",
      "final.output.concentrate_pb                     1\n",
      "final.output.concentrate_sol                  211\n",
      "final.output.concentrate_au                     0\n",
      "                                             ... \n",
      "secondary_cleaner.state.floatbank5_a_level      1\n",
      "secondary_cleaner.state.floatbank5_b_air        1\n",
      "secondary_cleaner.state.floatbank5_b_level      1\n",
      "secondary_cleaner.state.floatbank6_a_air        2\n",
      "secondary_cleaner.state.floatbank6_a_level      1\n",
      "Length: 87, dtype: int64\n",
      "0\n"
     ]
    }
   ],
   "source": [
    "print(full.isna().sum())\n",
    "print(full.duplicated().sum())"
   ]
  },
  {
   "cell_type": "markdown",
   "metadata": {},
   "source": [
    "### Обучающая выборка"
   ]
  },
  {
   "cell_type": "code",
   "execution_count": 6,
   "metadata": {
    "scrolled": false
   },
   "outputs": [
    {
     "name": "stdout",
     "output_type": "stream",
     "text": [
      "<class 'pandas.core.frame.DataFrame'>\n",
      "RangeIndex: 14149 entries, 0 to 14148\n",
      "Data columns (total 87 columns):\n",
      " #   Column                                              Non-Null Count  Dtype  \n",
      "---  ------                                              --------------  -----  \n",
      " 0   date                                                14149 non-null  object \n",
      " 1   final.output.concentrate_ag                         14148 non-null  float64\n",
      " 2   final.output.concentrate_pb                         14148 non-null  float64\n",
      " 3   final.output.concentrate_sol                        13938 non-null  float64\n",
      " 4   final.output.concentrate_au                         14149 non-null  float64\n",
      " 5   final.output.recovery                               14149 non-null  float64\n",
      " 6   final.output.tail_ag                                14149 non-null  float64\n",
      " 7   final.output.tail_pb                                14049 non-null  float64\n",
      " 8   final.output.tail_sol                               14144 non-null  float64\n",
      " 9   final.output.tail_au                                14149 non-null  float64\n",
      " 10  primary_cleaner.input.sulfate                       14129 non-null  float64\n",
      " 11  primary_cleaner.input.depressant                    14117 non-null  float64\n",
      " 12  primary_cleaner.input.feed_size                     14149 non-null  float64\n",
      " 13  primary_cleaner.input.xanthate                      14049 non-null  float64\n",
      " 14  primary_cleaner.output.concentrate_ag               14149 non-null  float64\n",
      " 15  primary_cleaner.output.concentrate_pb               14063 non-null  float64\n",
      " 16  primary_cleaner.output.concentrate_sol              13863 non-null  float64\n",
      " 17  primary_cleaner.output.concentrate_au               14149 non-null  float64\n",
      " 18  primary_cleaner.output.tail_ag                      14148 non-null  float64\n",
      " 19  primary_cleaner.output.tail_pb                      14134 non-null  float64\n",
      " 20  primary_cleaner.output.tail_sol                     14103 non-null  float64\n",
      " 21  primary_cleaner.output.tail_au                      14149 non-null  float64\n",
      " 22  primary_cleaner.state.floatbank8_a_air              14145 non-null  float64\n",
      " 23  primary_cleaner.state.floatbank8_a_level            14148 non-null  float64\n",
      " 24  primary_cleaner.state.floatbank8_b_air              14145 non-null  float64\n",
      " 25  primary_cleaner.state.floatbank8_b_level            14148 non-null  float64\n",
      " 26  primary_cleaner.state.floatbank8_c_air              14147 non-null  float64\n",
      " 27  primary_cleaner.state.floatbank8_c_level            14148 non-null  float64\n",
      " 28  primary_cleaner.state.floatbank8_d_air              14146 non-null  float64\n",
      " 29  primary_cleaner.state.floatbank8_d_level            14148 non-null  float64\n",
      " 30  rougher.calculation.sulfate_to_au_concentrate       14148 non-null  float64\n",
      " 31  rougher.calculation.floatbank10_sulfate_to_au_feed  14148 non-null  float64\n",
      " 32  rougher.calculation.floatbank11_sulfate_to_au_feed  14148 non-null  float64\n",
      " 33  rougher.calculation.au_pb_ratio                     14149 non-null  float64\n",
      " 34  rougher.input.feed_ag                               14149 non-null  float64\n",
      " 35  rougher.input.feed_pb                               14049 non-null  float64\n",
      " 36  rougher.input.feed_rate                             14141 non-null  float64\n",
      " 37  rougher.input.feed_size                             14005 non-null  float64\n",
      " 38  rougher.input.feed_sol                              14071 non-null  float64\n",
      " 39  rougher.input.feed_au                               14149 non-null  float64\n",
      " 40  rougher.input.floatbank10_sulfate                   14120 non-null  float64\n",
      " 41  rougher.input.floatbank10_xanthate                  14141 non-null  float64\n",
      " 42  rougher.input.floatbank11_sulfate                   14113 non-null  float64\n",
      " 43  rougher.input.floatbank11_xanthate                  13721 non-null  float64\n",
      " 44  rougher.output.concentrate_ag                       14149 non-null  float64\n",
      " 45  rougher.output.concentrate_pb                       14149 non-null  float64\n",
      " 46  rougher.output.concentrate_sol                      14127 non-null  float64\n",
      " 47  rougher.output.concentrate_au                       14149 non-null  float64\n",
      " 48  rougher.output.recovery                             14149 non-null  float64\n",
      " 49  rougher.output.tail_ag                              14148 non-null  float64\n",
      " 50  rougher.output.tail_pb                              14149 non-null  float64\n",
      " 51  rougher.output.tail_sol                             14149 non-null  float64\n",
      " 52  rougher.output.tail_au                              14149 non-null  float64\n",
      " 53  rougher.state.floatbank10_a_air                     14148 non-null  float64\n",
      " 54  rougher.state.floatbank10_a_level                   14148 non-null  float64\n",
      " 55  rougher.state.floatbank10_b_air                     14148 non-null  float64\n",
      " 56  rougher.state.floatbank10_b_level                   14148 non-null  float64\n",
      " 57  rougher.state.floatbank10_c_air                     14148 non-null  float64\n",
      " 58  rougher.state.floatbank10_c_level                   14148 non-null  float64\n",
      " 59  rougher.state.floatbank10_d_air                     14149 non-null  float64\n",
      " 60  rougher.state.floatbank10_d_level                   14149 non-null  float64\n",
      " 61  rougher.state.floatbank10_e_air                     13713 non-null  float64\n",
      " 62  rougher.state.floatbank10_e_level                   14149 non-null  float64\n",
      " 63  rougher.state.floatbank10_f_air                     14149 non-null  float64\n",
      " 64  rougher.state.floatbank10_f_level                   14149 non-null  float64\n",
      " 65  secondary_cleaner.output.tail_ag                    14147 non-null  float64\n",
      " 66  secondary_cleaner.output.tail_pb                    14139 non-null  float64\n",
      " 67  secondary_cleaner.output.tail_sol                   12544 non-null  float64\n",
      " 68  secondary_cleaner.output.tail_au                    14149 non-null  float64\n",
      " 69  secondary_cleaner.state.floatbank2_a_air            13932 non-null  float64\n",
      " 70  secondary_cleaner.state.floatbank2_a_level          14148 non-null  float64\n",
      " 71  secondary_cleaner.state.floatbank2_b_air            14128 non-null  float64\n",
      " 72  secondary_cleaner.state.floatbank2_b_level          14148 non-null  float64\n",
      " 73  secondary_cleaner.state.floatbank3_a_air            14145 non-null  float64\n",
      " 74  secondary_cleaner.state.floatbank3_a_level          14148 non-null  float64\n",
      " 75  secondary_cleaner.state.floatbank3_b_air            14148 non-null  float64\n",
      " 76  secondary_cleaner.state.floatbank3_b_level          14148 non-null  float64\n",
      " 77  secondary_cleaner.state.floatbank4_a_air            14143 non-null  float64\n",
      " 78  secondary_cleaner.state.floatbank4_a_level          14148 non-null  float64\n",
      " 79  secondary_cleaner.state.floatbank4_b_air            14148 non-null  float64\n",
      " 80  secondary_cleaner.state.floatbank4_b_level          14148 non-null  float64\n",
      " 81  secondary_cleaner.state.floatbank5_a_air            14148 non-null  float64\n",
      " 82  secondary_cleaner.state.floatbank5_a_level          14148 non-null  float64\n",
      " 83  secondary_cleaner.state.floatbank5_b_air            14148 non-null  float64\n",
      " 84  secondary_cleaner.state.floatbank5_b_level          14148 non-null  float64\n",
      " 85  secondary_cleaner.state.floatbank6_a_air            14147 non-null  float64\n",
      " 86  secondary_cleaner.state.floatbank6_a_level          14148 non-null  float64\n",
      "dtypes: float64(86), object(1)\n",
      "memory usage: 9.4+ MB\n"
     ]
    }
   ],
   "source": [
    "train.info()"
   ]
  },
  {
   "cell_type": "code",
   "execution_count": 7,
   "metadata": {},
   "outputs": [
    {
     "data": {
      "text/html": [
       "<div>\n",
       "<style scoped>\n",
       "    .dataframe tbody tr th:only-of-type {\n",
       "        vertical-align: middle;\n",
       "    }\n",
       "\n",
       "    .dataframe tbody tr th {\n",
       "        vertical-align: top;\n",
       "    }\n",
       "\n",
       "    .dataframe thead th {\n",
       "        text-align: right;\n",
       "    }\n",
       "</style>\n",
       "<table border=\"1\" class=\"dataframe\">\n",
       "  <thead>\n",
       "    <tr style=\"text-align: right;\">\n",
       "      <th></th>\n",
       "      <th>date</th>\n",
       "      <th>final.output.concentrate_ag</th>\n",
       "      <th>final.output.concentrate_pb</th>\n",
       "      <th>final.output.concentrate_sol</th>\n",
       "      <th>final.output.concentrate_au</th>\n",
       "      <th>final.output.recovery</th>\n",
       "      <th>final.output.tail_ag</th>\n",
       "      <th>final.output.tail_pb</th>\n",
       "      <th>final.output.tail_sol</th>\n",
       "      <th>final.output.tail_au</th>\n",
       "      <th>...</th>\n",
       "      <th>secondary_cleaner.state.floatbank4_a_air</th>\n",
       "      <th>secondary_cleaner.state.floatbank4_a_level</th>\n",
       "      <th>secondary_cleaner.state.floatbank4_b_air</th>\n",
       "      <th>secondary_cleaner.state.floatbank4_b_level</th>\n",
       "      <th>secondary_cleaner.state.floatbank5_a_air</th>\n",
       "      <th>secondary_cleaner.state.floatbank5_a_level</th>\n",
       "      <th>secondary_cleaner.state.floatbank5_b_air</th>\n",
       "      <th>secondary_cleaner.state.floatbank5_b_level</th>\n",
       "      <th>secondary_cleaner.state.floatbank6_a_air</th>\n",
       "      <th>secondary_cleaner.state.floatbank6_a_level</th>\n",
       "    </tr>\n",
       "  </thead>\n",
       "  <tbody>\n",
       "    <tr>\n",
       "      <th>0</th>\n",
       "      <td>2016-01-15 00:00:00</td>\n",
       "      <td>6.055403</td>\n",
       "      <td>9.889648</td>\n",
       "      <td>5.507324</td>\n",
       "      <td>42.192020</td>\n",
       "      <td>70.541216</td>\n",
       "      <td>10.411962</td>\n",
       "      <td>0.895447</td>\n",
       "      <td>16.904297</td>\n",
       "      <td>2.143149</td>\n",
       "      <td>...</td>\n",
       "      <td>14.016835</td>\n",
       "      <td>-502.488007</td>\n",
       "      <td>12.099931</td>\n",
       "      <td>-504.715942</td>\n",
       "      <td>9.925633</td>\n",
       "      <td>-498.310211</td>\n",
       "      <td>8.079666</td>\n",
       "      <td>-500.470978</td>\n",
       "      <td>14.151341</td>\n",
       "      <td>-605.841980</td>\n",
       "    </tr>\n",
       "    <tr>\n",
       "      <th>1</th>\n",
       "      <td>2016-01-15 01:00:00</td>\n",
       "      <td>6.029369</td>\n",
       "      <td>9.968944</td>\n",
       "      <td>5.257781</td>\n",
       "      <td>42.701629</td>\n",
       "      <td>69.266198</td>\n",
       "      <td>10.462676</td>\n",
       "      <td>0.927452</td>\n",
       "      <td>16.634514</td>\n",
       "      <td>2.224930</td>\n",
       "      <td>...</td>\n",
       "      <td>13.992281</td>\n",
       "      <td>-505.503262</td>\n",
       "      <td>11.950531</td>\n",
       "      <td>-501.331529</td>\n",
       "      <td>10.039245</td>\n",
       "      <td>-500.169983</td>\n",
       "      <td>7.984757</td>\n",
       "      <td>-500.582168</td>\n",
       "      <td>13.998353</td>\n",
       "      <td>-599.787184</td>\n",
       "    </tr>\n",
       "    <tr>\n",
       "      <th>2</th>\n",
       "      <td>2016-01-15 02:00:00</td>\n",
       "      <td>6.055926</td>\n",
       "      <td>10.213995</td>\n",
       "      <td>5.383759</td>\n",
       "      <td>42.657501</td>\n",
       "      <td>68.116445</td>\n",
       "      <td>10.507046</td>\n",
       "      <td>0.953716</td>\n",
       "      <td>16.208849</td>\n",
       "      <td>2.257889</td>\n",
       "      <td>...</td>\n",
       "      <td>14.015015</td>\n",
       "      <td>-502.520901</td>\n",
       "      <td>11.912783</td>\n",
       "      <td>-501.133383</td>\n",
       "      <td>10.070913</td>\n",
       "      <td>-500.129135</td>\n",
       "      <td>8.013877</td>\n",
       "      <td>-500.517572</td>\n",
       "      <td>14.028663</td>\n",
       "      <td>-601.427363</td>\n",
       "    </tr>\n",
       "    <tr>\n",
       "      <th>3</th>\n",
       "      <td>2016-01-15 03:00:00</td>\n",
       "      <td>6.047977</td>\n",
       "      <td>9.977019</td>\n",
       "      <td>4.858634</td>\n",
       "      <td>42.689819</td>\n",
       "      <td>68.347543</td>\n",
       "      <td>10.422762</td>\n",
       "      <td>0.883763</td>\n",
       "      <td>16.532835</td>\n",
       "      <td>2.146849</td>\n",
       "      <td>...</td>\n",
       "      <td>14.036510</td>\n",
       "      <td>-500.857308</td>\n",
       "      <td>11.999550</td>\n",
       "      <td>-501.193686</td>\n",
       "      <td>9.970366</td>\n",
       "      <td>-499.201640</td>\n",
       "      <td>7.977324</td>\n",
       "      <td>-500.255908</td>\n",
       "      <td>14.005551</td>\n",
       "      <td>-599.996129</td>\n",
       "    </tr>\n",
       "    <tr>\n",
       "      <th>4</th>\n",
       "      <td>2016-01-15 04:00:00</td>\n",
       "      <td>6.148599</td>\n",
       "      <td>10.142511</td>\n",
       "      <td>4.939416</td>\n",
       "      <td>42.774141</td>\n",
       "      <td>66.927016</td>\n",
       "      <td>10.360302</td>\n",
       "      <td>0.792826</td>\n",
       "      <td>16.525686</td>\n",
       "      <td>2.055292</td>\n",
       "      <td>...</td>\n",
       "      <td>14.027298</td>\n",
       "      <td>-499.838632</td>\n",
       "      <td>11.953070</td>\n",
       "      <td>-501.053894</td>\n",
       "      <td>9.925709</td>\n",
       "      <td>-501.686727</td>\n",
       "      <td>7.894242</td>\n",
       "      <td>-500.356035</td>\n",
       "      <td>13.996647</td>\n",
       "      <td>-601.496691</td>\n",
       "    </tr>\n",
       "  </tbody>\n",
       "</table>\n",
       "<p>5 rows × 87 columns</p>\n",
       "</div>"
      ],
      "text/plain": [
       "                  date  final.output.concentrate_ag  \\\n",
       "0  2016-01-15 00:00:00                     6.055403   \n",
       "1  2016-01-15 01:00:00                     6.029369   \n",
       "2  2016-01-15 02:00:00                     6.055926   \n",
       "3  2016-01-15 03:00:00                     6.047977   \n",
       "4  2016-01-15 04:00:00                     6.148599   \n",
       "\n",
       "   final.output.concentrate_pb  final.output.concentrate_sol  \\\n",
       "0                     9.889648                      5.507324   \n",
       "1                     9.968944                      5.257781   \n",
       "2                    10.213995                      5.383759   \n",
       "3                     9.977019                      4.858634   \n",
       "4                    10.142511                      4.939416   \n",
       "\n",
       "   final.output.concentrate_au  final.output.recovery  final.output.tail_ag  \\\n",
       "0                    42.192020              70.541216             10.411962   \n",
       "1                    42.701629              69.266198             10.462676   \n",
       "2                    42.657501              68.116445             10.507046   \n",
       "3                    42.689819              68.347543             10.422762   \n",
       "4                    42.774141              66.927016             10.360302   \n",
       "\n",
       "   final.output.tail_pb  final.output.tail_sol  final.output.tail_au  ...  \\\n",
       "0              0.895447              16.904297              2.143149  ...   \n",
       "1              0.927452              16.634514              2.224930  ...   \n",
       "2              0.953716              16.208849              2.257889  ...   \n",
       "3              0.883763              16.532835              2.146849  ...   \n",
       "4              0.792826              16.525686              2.055292  ...   \n",
       "\n",
       "   secondary_cleaner.state.floatbank4_a_air  \\\n",
       "0                                 14.016835   \n",
       "1                                 13.992281   \n",
       "2                                 14.015015   \n",
       "3                                 14.036510   \n",
       "4                                 14.027298   \n",
       "\n",
       "   secondary_cleaner.state.floatbank4_a_level  \\\n",
       "0                                 -502.488007   \n",
       "1                                 -505.503262   \n",
       "2                                 -502.520901   \n",
       "3                                 -500.857308   \n",
       "4                                 -499.838632   \n",
       "\n",
       "   secondary_cleaner.state.floatbank4_b_air  \\\n",
       "0                                 12.099931   \n",
       "1                                 11.950531   \n",
       "2                                 11.912783   \n",
       "3                                 11.999550   \n",
       "4                                 11.953070   \n",
       "\n",
       "   secondary_cleaner.state.floatbank4_b_level  \\\n",
       "0                                 -504.715942   \n",
       "1                                 -501.331529   \n",
       "2                                 -501.133383   \n",
       "3                                 -501.193686   \n",
       "4                                 -501.053894   \n",
       "\n",
       "   secondary_cleaner.state.floatbank5_a_air  \\\n",
       "0                                  9.925633   \n",
       "1                                 10.039245   \n",
       "2                                 10.070913   \n",
       "3                                  9.970366   \n",
       "4                                  9.925709   \n",
       "\n",
       "   secondary_cleaner.state.floatbank5_a_level  \\\n",
       "0                                 -498.310211   \n",
       "1                                 -500.169983   \n",
       "2                                 -500.129135   \n",
       "3                                 -499.201640   \n",
       "4                                 -501.686727   \n",
       "\n",
       "   secondary_cleaner.state.floatbank5_b_air  \\\n",
       "0                                  8.079666   \n",
       "1                                  7.984757   \n",
       "2                                  8.013877   \n",
       "3                                  7.977324   \n",
       "4                                  7.894242   \n",
       "\n",
       "   secondary_cleaner.state.floatbank5_b_level  \\\n",
       "0                                 -500.470978   \n",
       "1                                 -500.582168   \n",
       "2                                 -500.517572   \n",
       "3                                 -500.255908   \n",
       "4                                 -500.356035   \n",
       "\n",
       "   secondary_cleaner.state.floatbank6_a_air  \\\n",
       "0                                 14.151341   \n",
       "1                                 13.998353   \n",
       "2                                 14.028663   \n",
       "3                                 14.005551   \n",
       "4                                 13.996647   \n",
       "\n",
       "   secondary_cleaner.state.floatbank6_a_level  \n",
       "0                                 -605.841980  \n",
       "1                                 -599.787184  \n",
       "2                                 -601.427363  \n",
       "3                                 -599.996129  \n",
       "4                                 -601.496691  \n",
       "\n",
       "[5 rows x 87 columns]"
      ]
     },
     "execution_count": 7,
     "metadata": {},
     "output_type": "execute_result"
    }
   ],
   "source": [
    "train.head()"
   ]
  },
  {
   "cell_type": "code",
   "execution_count": 8,
   "metadata": {
    "scrolled": false
   },
   "outputs": [
    {
     "name": "stdout",
     "output_type": "stream",
     "text": [
      "date                                            0\n",
      "final.output.concentrate_ag                     1\n",
      "final.output.concentrate_pb                     1\n",
      "final.output.concentrate_sol                  211\n",
      "final.output.concentrate_au                     0\n",
      "                                             ... \n",
      "secondary_cleaner.state.floatbank5_a_level      1\n",
      "secondary_cleaner.state.floatbank5_b_air        1\n",
      "secondary_cleaner.state.floatbank5_b_level      1\n",
      "secondary_cleaner.state.floatbank6_a_air        2\n",
      "secondary_cleaner.state.floatbank6_a_level      1\n",
      "Length: 87, dtype: int64\n",
      "0\n"
     ]
    }
   ],
   "source": [
    "print(train.isna().sum())\n",
    "print(train.duplicated().sum())"
   ]
  },
  {
   "cell_type": "markdown",
   "metadata": {},
   "source": [
    "### Тестовая выборка"
   ]
  },
  {
   "cell_type": "code",
   "execution_count": 9,
   "metadata": {
    "scrolled": true
   },
   "outputs": [
    {
     "name": "stdout",
     "output_type": "stream",
     "text": [
      "<class 'pandas.core.frame.DataFrame'>\n",
      "RangeIndex: 5290 entries, 0 to 5289\n",
      "Data columns (total 53 columns):\n",
      " #   Column                                      Non-Null Count  Dtype  \n",
      "---  ------                                      --------------  -----  \n",
      " 0   date                                        5290 non-null   object \n",
      " 1   primary_cleaner.input.sulfate               5286 non-null   float64\n",
      " 2   primary_cleaner.input.depressant            5285 non-null   float64\n",
      " 3   primary_cleaner.input.feed_size             5290 non-null   float64\n",
      " 4   primary_cleaner.input.xanthate              5286 non-null   float64\n",
      " 5   primary_cleaner.state.floatbank8_a_air      5290 non-null   float64\n",
      " 6   primary_cleaner.state.floatbank8_a_level    5290 non-null   float64\n",
      " 7   primary_cleaner.state.floatbank8_b_air      5290 non-null   float64\n",
      " 8   primary_cleaner.state.floatbank8_b_level    5290 non-null   float64\n",
      " 9   primary_cleaner.state.floatbank8_c_air      5290 non-null   float64\n",
      " 10  primary_cleaner.state.floatbank8_c_level    5290 non-null   float64\n",
      " 11  primary_cleaner.state.floatbank8_d_air      5290 non-null   float64\n",
      " 12  primary_cleaner.state.floatbank8_d_level    5290 non-null   float64\n",
      " 13  rougher.input.feed_ag                       5290 non-null   float64\n",
      " 14  rougher.input.feed_pb                       5290 non-null   float64\n",
      " 15  rougher.input.feed_rate                     5287 non-null   float64\n",
      " 16  rougher.input.feed_size                     5289 non-null   float64\n",
      " 17  rougher.input.feed_sol                      5269 non-null   float64\n",
      " 18  rougher.input.feed_au                       5290 non-null   float64\n",
      " 19  rougher.input.floatbank10_sulfate           5285 non-null   float64\n",
      " 20  rougher.input.floatbank10_xanthate          5290 non-null   float64\n",
      " 21  rougher.input.floatbank11_sulfate           5282 non-null   float64\n",
      " 22  rougher.input.floatbank11_xanthate          5265 non-null   float64\n",
      " 23  rougher.state.floatbank10_a_air             5290 non-null   float64\n",
      " 24  rougher.state.floatbank10_a_level           5290 non-null   float64\n",
      " 25  rougher.state.floatbank10_b_air             5290 non-null   float64\n",
      " 26  rougher.state.floatbank10_b_level           5290 non-null   float64\n",
      " 27  rougher.state.floatbank10_c_air             5290 non-null   float64\n",
      " 28  rougher.state.floatbank10_c_level           5290 non-null   float64\n",
      " 29  rougher.state.floatbank10_d_air             5290 non-null   float64\n",
      " 30  rougher.state.floatbank10_d_level           5290 non-null   float64\n",
      " 31  rougher.state.floatbank10_e_air             5290 non-null   float64\n",
      " 32  rougher.state.floatbank10_e_level           5290 non-null   float64\n",
      " 33  rougher.state.floatbank10_f_air             5290 non-null   float64\n",
      " 34  rougher.state.floatbank10_f_level           5290 non-null   float64\n",
      " 35  secondary_cleaner.state.floatbank2_a_air    5287 non-null   float64\n",
      " 36  secondary_cleaner.state.floatbank2_a_level  5290 non-null   float64\n",
      " 37  secondary_cleaner.state.floatbank2_b_air    5288 non-null   float64\n",
      " 38  secondary_cleaner.state.floatbank2_b_level  5290 non-null   float64\n",
      " 39  secondary_cleaner.state.floatbank3_a_air    5281 non-null   float64\n",
      " 40  secondary_cleaner.state.floatbank3_a_level  5290 non-null   float64\n",
      " 41  secondary_cleaner.state.floatbank3_b_air    5290 non-null   float64\n",
      " 42  secondary_cleaner.state.floatbank3_b_level  5290 non-null   float64\n",
      " 43  secondary_cleaner.state.floatbank4_a_air    5290 non-null   float64\n",
      " 44  secondary_cleaner.state.floatbank4_a_level  5290 non-null   float64\n",
      " 45  secondary_cleaner.state.floatbank4_b_air    5290 non-null   float64\n",
      " 46  secondary_cleaner.state.floatbank4_b_level  5290 non-null   float64\n",
      " 47  secondary_cleaner.state.floatbank5_a_air    5290 non-null   float64\n",
      " 48  secondary_cleaner.state.floatbank5_a_level  5290 non-null   float64\n",
      " 49  secondary_cleaner.state.floatbank5_b_air    5290 non-null   float64\n",
      " 50  secondary_cleaner.state.floatbank5_b_level  5290 non-null   float64\n",
      " 51  secondary_cleaner.state.floatbank6_a_air    5290 non-null   float64\n",
      " 52  secondary_cleaner.state.floatbank6_a_level  5290 non-null   float64\n",
      "dtypes: float64(52), object(1)\n",
      "memory usage: 2.1+ MB\n"
     ]
    }
   ],
   "source": [
    "test.info()"
   ]
  },
  {
   "cell_type": "code",
   "execution_count": 10,
   "metadata": {},
   "outputs": [
    {
     "data": {
      "text/html": [
       "<div>\n",
       "<style scoped>\n",
       "    .dataframe tbody tr th:only-of-type {\n",
       "        vertical-align: middle;\n",
       "    }\n",
       "\n",
       "    .dataframe tbody tr th {\n",
       "        vertical-align: top;\n",
       "    }\n",
       "\n",
       "    .dataframe thead th {\n",
       "        text-align: right;\n",
       "    }\n",
       "</style>\n",
       "<table border=\"1\" class=\"dataframe\">\n",
       "  <thead>\n",
       "    <tr style=\"text-align: right;\">\n",
       "      <th></th>\n",
       "      <th>date</th>\n",
       "      <th>primary_cleaner.input.sulfate</th>\n",
       "      <th>primary_cleaner.input.depressant</th>\n",
       "      <th>primary_cleaner.input.feed_size</th>\n",
       "      <th>primary_cleaner.input.xanthate</th>\n",
       "      <th>primary_cleaner.state.floatbank8_a_air</th>\n",
       "      <th>primary_cleaner.state.floatbank8_a_level</th>\n",
       "      <th>primary_cleaner.state.floatbank8_b_air</th>\n",
       "      <th>primary_cleaner.state.floatbank8_b_level</th>\n",
       "      <th>primary_cleaner.state.floatbank8_c_air</th>\n",
       "      <th>...</th>\n",
       "      <th>secondary_cleaner.state.floatbank4_a_air</th>\n",
       "      <th>secondary_cleaner.state.floatbank4_a_level</th>\n",
       "      <th>secondary_cleaner.state.floatbank4_b_air</th>\n",
       "      <th>secondary_cleaner.state.floatbank4_b_level</th>\n",
       "      <th>secondary_cleaner.state.floatbank5_a_air</th>\n",
       "      <th>secondary_cleaner.state.floatbank5_a_level</th>\n",
       "      <th>secondary_cleaner.state.floatbank5_b_air</th>\n",
       "      <th>secondary_cleaner.state.floatbank5_b_level</th>\n",
       "      <th>secondary_cleaner.state.floatbank6_a_air</th>\n",
       "      <th>secondary_cleaner.state.floatbank6_a_level</th>\n",
       "    </tr>\n",
       "  </thead>\n",
       "  <tbody>\n",
       "    <tr>\n",
       "      <th>0</th>\n",
       "      <td>2016-09-01 00:59:59</td>\n",
       "      <td>210.800909</td>\n",
       "      <td>14.993118</td>\n",
       "      <td>8.080000</td>\n",
       "      <td>1.005021</td>\n",
       "      <td>1398.981301</td>\n",
       "      <td>-500.225577</td>\n",
       "      <td>1399.144926</td>\n",
       "      <td>-499.919735</td>\n",
       "      <td>1400.102998</td>\n",
       "      <td>...</td>\n",
       "      <td>12.023554</td>\n",
       "      <td>-497.795834</td>\n",
       "      <td>8.016656</td>\n",
       "      <td>-501.289139</td>\n",
       "      <td>7.946562</td>\n",
       "      <td>-432.317850</td>\n",
       "      <td>4.872511</td>\n",
       "      <td>-500.037437</td>\n",
       "      <td>26.705889</td>\n",
       "      <td>-499.709414</td>\n",
       "    </tr>\n",
       "    <tr>\n",
       "      <th>1</th>\n",
       "      <td>2016-09-01 01:59:59</td>\n",
       "      <td>215.392455</td>\n",
       "      <td>14.987471</td>\n",
       "      <td>8.080000</td>\n",
       "      <td>0.990469</td>\n",
       "      <td>1398.777912</td>\n",
       "      <td>-500.057435</td>\n",
       "      <td>1398.055362</td>\n",
       "      <td>-499.778182</td>\n",
       "      <td>1396.151033</td>\n",
       "      <td>...</td>\n",
       "      <td>12.058140</td>\n",
       "      <td>-498.695773</td>\n",
       "      <td>8.130979</td>\n",
       "      <td>-499.634209</td>\n",
       "      <td>7.958270</td>\n",
       "      <td>-525.839648</td>\n",
       "      <td>4.878850</td>\n",
       "      <td>-500.162375</td>\n",
       "      <td>25.019940</td>\n",
       "      <td>-499.819438</td>\n",
       "    </tr>\n",
       "    <tr>\n",
       "      <th>2</th>\n",
       "      <td>2016-09-01 02:59:59</td>\n",
       "      <td>215.259946</td>\n",
       "      <td>12.884934</td>\n",
       "      <td>7.786667</td>\n",
       "      <td>0.996043</td>\n",
       "      <td>1398.493666</td>\n",
       "      <td>-500.868360</td>\n",
       "      <td>1398.860436</td>\n",
       "      <td>-499.764529</td>\n",
       "      <td>1398.075709</td>\n",
       "      <td>...</td>\n",
       "      <td>11.962366</td>\n",
       "      <td>-498.767484</td>\n",
       "      <td>8.096893</td>\n",
       "      <td>-500.827423</td>\n",
       "      <td>8.071056</td>\n",
       "      <td>-500.801673</td>\n",
       "      <td>4.905125</td>\n",
       "      <td>-499.828510</td>\n",
       "      <td>24.994862</td>\n",
       "      <td>-500.622559</td>\n",
       "    </tr>\n",
       "    <tr>\n",
       "      <th>3</th>\n",
       "      <td>2016-09-01 03:59:59</td>\n",
       "      <td>215.336236</td>\n",
       "      <td>12.006805</td>\n",
       "      <td>7.640000</td>\n",
       "      <td>0.863514</td>\n",
       "      <td>1399.618111</td>\n",
       "      <td>-498.863574</td>\n",
       "      <td>1397.440120</td>\n",
       "      <td>-499.211024</td>\n",
       "      <td>1400.129303</td>\n",
       "      <td>...</td>\n",
       "      <td>12.033091</td>\n",
       "      <td>-498.350935</td>\n",
       "      <td>8.074946</td>\n",
       "      <td>-499.474407</td>\n",
       "      <td>7.897085</td>\n",
       "      <td>-500.868509</td>\n",
       "      <td>4.931400</td>\n",
       "      <td>-499.963623</td>\n",
       "      <td>24.948919</td>\n",
       "      <td>-498.709987</td>\n",
       "    </tr>\n",
       "    <tr>\n",
       "      <th>4</th>\n",
       "      <td>2016-09-01 04:59:59</td>\n",
       "      <td>199.099327</td>\n",
       "      <td>10.682530</td>\n",
       "      <td>7.530000</td>\n",
       "      <td>0.805575</td>\n",
       "      <td>1401.268123</td>\n",
       "      <td>-500.808305</td>\n",
       "      <td>1398.128818</td>\n",
       "      <td>-499.504543</td>\n",
       "      <td>1402.172226</td>\n",
       "      <td>...</td>\n",
       "      <td>12.025367</td>\n",
       "      <td>-500.786497</td>\n",
       "      <td>8.054678</td>\n",
       "      <td>-500.397500</td>\n",
       "      <td>8.107890</td>\n",
       "      <td>-509.526725</td>\n",
       "      <td>4.957674</td>\n",
       "      <td>-500.360026</td>\n",
       "      <td>25.003331</td>\n",
       "      <td>-500.856333</td>\n",
       "    </tr>\n",
       "  </tbody>\n",
       "</table>\n",
       "<p>5 rows × 53 columns</p>\n",
       "</div>"
      ],
      "text/plain": [
       "                  date  primary_cleaner.input.sulfate  \\\n",
       "0  2016-09-01 00:59:59                     210.800909   \n",
       "1  2016-09-01 01:59:59                     215.392455   \n",
       "2  2016-09-01 02:59:59                     215.259946   \n",
       "3  2016-09-01 03:59:59                     215.336236   \n",
       "4  2016-09-01 04:59:59                     199.099327   \n",
       "\n",
       "   primary_cleaner.input.depressant  primary_cleaner.input.feed_size  \\\n",
       "0                         14.993118                         8.080000   \n",
       "1                         14.987471                         8.080000   \n",
       "2                         12.884934                         7.786667   \n",
       "3                         12.006805                         7.640000   \n",
       "4                         10.682530                         7.530000   \n",
       "\n",
       "   primary_cleaner.input.xanthate  primary_cleaner.state.floatbank8_a_air  \\\n",
       "0                        1.005021                             1398.981301   \n",
       "1                        0.990469                             1398.777912   \n",
       "2                        0.996043                             1398.493666   \n",
       "3                        0.863514                             1399.618111   \n",
       "4                        0.805575                             1401.268123   \n",
       "\n",
       "   primary_cleaner.state.floatbank8_a_level  \\\n",
       "0                               -500.225577   \n",
       "1                               -500.057435   \n",
       "2                               -500.868360   \n",
       "3                               -498.863574   \n",
       "4                               -500.808305   \n",
       "\n",
       "   primary_cleaner.state.floatbank8_b_air  \\\n",
       "0                             1399.144926   \n",
       "1                             1398.055362   \n",
       "2                             1398.860436   \n",
       "3                             1397.440120   \n",
       "4                             1398.128818   \n",
       "\n",
       "   primary_cleaner.state.floatbank8_b_level  \\\n",
       "0                               -499.919735   \n",
       "1                               -499.778182   \n",
       "2                               -499.764529   \n",
       "3                               -499.211024   \n",
       "4                               -499.504543   \n",
       "\n",
       "   primary_cleaner.state.floatbank8_c_air  ...  \\\n",
       "0                             1400.102998  ...   \n",
       "1                             1396.151033  ...   \n",
       "2                             1398.075709  ...   \n",
       "3                             1400.129303  ...   \n",
       "4                             1402.172226  ...   \n",
       "\n",
       "   secondary_cleaner.state.floatbank4_a_air  \\\n",
       "0                                 12.023554   \n",
       "1                                 12.058140   \n",
       "2                                 11.962366   \n",
       "3                                 12.033091   \n",
       "4                                 12.025367   \n",
       "\n",
       "   secondary_cleaner.state.floatbank4_a_level  \\\n",
       "0                                 -497.795834   \n",
       "1                                 -498.695773   \n",
       "2                                 -498.767484   \n",
       "3                                 -498.350935   \n",
       "4                                 -500.786497   \n",
       "\n",
       "   secondary_cleaner.state.floatbank4_b_air  \\\n",
       "0                                  8.016656   \n",
       "1                                  8.130979   \n",
       "2                                  8.096893   \n",
       "3                                  8.074946   \n",
       "4                                  8.054678   \n",
       "\n",
       "   secondary_cleaner.state.floatbank4_b_level  \\\n",
       "0                                 -501.289139   \n",
       "1                                 -499.634209   \n",
       "2                                 -500.827423   \n",
       "3                                 -499.474407   \n",
       "4                                 -500.397500   \n",
       "\n",
       "   secondary_cleaner.state.floatbank5_a_air  \\\n",
       "0                                  7.946562   \n",
       "1                                  7.958270   \n",
       "2                                  8.071056   \n",
       "3                                  7.897085   \n",
       "4                                  8.107890   \n",
       "\n",
       "   secondary_cleaner.state.floatbank5_a_level  \\\n",
       "0                                 -432.317850   \n",
       "1                                 -525.839648   \n",
       "2                                 -500.801673   \n",
       "3                                 -500.868509   \n",
       "4                                 -509.526725   \n",
       "\n",
       "   secondary_cleaner.state.floatbank5_b_air  \\\n",
       "0                                  4.872511   \n",
       "1                                  4.878850   \n",
       "2                                  4.905125   \n",
       "3                                  4.931400   \n",
       "4                                  4.957674   \n",
       "\n",
       "   secondary_cleaner.state.floatbank5_b_level  \\\n",
       "0                                 -500.037437   \n",
       "1                                 -500.162375   \n",
       "2                                 -499.828510   \n",
       "3                                 -499.963623   \n",
       "4                                 -500.360026   \n",
       "\n",
       "   secondary_cleaner.state.floatbank6_a_air  \\\n",
       "0                                 26.705889   \n",
       "1                                 25.019940   \n",
       "2                                 24.994862   \n",
       "3                                 24.948919   \n",
       "4                                 25.003331   \n",
       "\n",
       "   secondary_cleaner.state.floatbank6_a_level  \n",
       "0                                 -499.709414  \n",
       "1                                 -499.819438  \n",
       "2                                 -500.622559  \n",
       "3                                 -498.709987  \n",
       "4                                 -500.856333  \n",
       "\n",
       "[5 rows x 53 columns]"
      ]
     },
     "execution_count": 10,
     "metadata": {},
     "output_type": "execute_result"
    }
   ],
   "source": [
    "test.head()"
   ]
  },
  {
   "cell_type": "code",
   "execution_count": 11,
   "metadata": {
    "scrolled": true
   },
   "outputs": [
    {
     "name": "stdout",
     "output_type": "stream",
     "text": [
      "date                                           0\n",
      "primary_cleaner.input.sulfate                  4\n",
      "primary_cleaner.input.depressant               5\n",
      "primary_cleaner.input.feed_size                0\n",
      "primary_cleaner.input.xanthate                 4\n",
      "primary_cleaner.state.floatbank8_a_air         0\n",
      "primary_cleaner.state.floatbank8_a_level       0\n",
      "primary_cleaner.state.floatbank8_b_air         0\n",
      "primary_cleaner.state.floatbank8_b_level       0\n",
      "primary_cleaner.state.floatbank8_c_air         0\n",
      "primary_cleaner.state.floatbank8_c_level       0\n",
      "primary_cleaner.state.floatbank8_d_air         0\n",
      "primary_cleaner.state.floatbank8_d_level       0\n",
      "rougher.input.feed_ag                          0\n",
      "rougher.input.feed_pb                          0\n",
      "rougher.input.feed_rate                        3\n",
      "rougher.input.feed_size                        1\n",
      "rougher.input.feed_sol                        21\n",
      "rougher.input.feed_au                          0\n",
      "rougher.input.floatbank10_sulfate              5\n",
      "rougher.input.floatbank10_xanthate             0\n",
      "rougher.input.floatbank11_sulfate              8\n",
      "rougher.input.floatbank11_xanthate            25\n",
      "rougher.state.floatbank10_a_air                0\n",
      "rougher.state.floatbank10_a_level              0\n",
      "rougher.state.floatbank10_b_air                0\n",
      "rougher.state.floatbank10_b_level              0\n",
      "rougher.state.floatbank10_c_air                0\n",
      "rougher.state.floatbank10_c_level              0\n",
      "rougher.state.floatbank10_d_air                0\n",
      "rougher.state.floatbank10_d_level              0\n",
      "rougher.state.floatbank10_e_air                0\n",
      "rougher.state.floatbank10_e_level              0\n",
      "rougher.state.floatbank10_f_air                0\n",
      "rougher.state.floatbank10_f_level              0\n",
      "secondary_cleaner.state.floatbank2_a_air       3\n",
      "secondary_cleaner.state.floatbank2_a_level     0\n",
      "secondary_cleaner.state.floatbank2_b_air       2\n",
      "secondary_cleaner.state.floatbank2_b_level     0\n",
      "secondary_cleaner.state.floatbank3_a_air       9\n",
      "secondary_cleaner.state.floatbank3_a_level     0\n",
      "secondary_cleaner.state.floatbank3_b_air       0\n",
      "secondary_cleaner.state.floatbank3_b_level     0\n",
      "secondary_cleaner.state.floatbank4_a_air       0\n",
      "secondary_cleaner.state.floatbank4_a_level     0\n",
      "secondary_cleaner.state.floatbank4_b_air       0\n",
      "secondary_cleaner.state.floatbank4_b_level     0\n",
      "secondary_cleaner.state.floatbank5_a_air       0\n",
      "secondary_cleaner.state.floatbank5_a_level     0\n",
      "secondary_cleaner.state.floatbank5_b_air       0\n",
      "secondary_cleaner.state.floatbank5_b_level     0\n",
      "secondary_cleaner.state.floatbank6_a_air       0\n",
      "secondary_cleaner.state.floatbank6_a_level     0\n",
      "dtype: int64\n",
      "0\n"
     ]
    }
   ],
   "source": [
    "print(test.isna().sum())\n",
    "print(test.duplicated().sum())"
   ]
  },
  {
   "cell_type": "markdown",
   "metadata": {},
   "source": [
    "### Эффективность обогащения"
   ]
  },
  {
   "cell_type": "code",
   "execution_count": 12,
   "metadata": {},
   "outputs": [
    {
     "name": "stdout",
     "output_type": "stream",
     "text": [
      "MAE: 9.73512347450521e-15\n"
     ]
    }
   ],
   "source": [
    "c = train['rougher.output.concentrate_au']\n",
    "f = train['rougher.input.feed_au']\n",
    "t = train['rougher.output.tail_au']\n",
    "recovery = (c * (f - t)) / (f * (c - t)) * 100\n",
    "mae = mean_absolute_error(recovery, train['rougher.output.recovery'])\n",
    "print(f'MAE: {mae}')"
   ]
  },
  {
   "cell_type": "markdown",
   "metadata": {},
   "source": [
    "Значение средней абсолютной ошибки вышло достаточно низким, можно сказать, что вычисления верны."
   ]
  },
  {
   "cell_type": "markdown",
   "metadata": {},
   "source": [
    "### Признаки тестовой выборки"
   ]
  },
  {
   "cell_type": "code",
   "execution_count": 13,
   "metadata": {
    "scrolled": true
   },
   "outputs": [
    {
     "name": "stdout",
     "output_type": "stream",
     "text": [
      "final.output.concentrate_ag\n",
      "final.output.concentrate_pb\n",
      "final.output.concentrate_sol\n",
      "final.output.concentrate_au\n",
      "final.output.recovery\n",
      "final.output.tail_ag\n",
      "final.output.tail_pb\n",
      "final.output.tail_sol\n",
      "final.output.tail_au\n",
      "primary_cleaner.output.concentrate_ag\n",
      "primary_cleaner.output.concentrate_pb\n",
      "primary_cleaner.output.concentrate_sol\n",
      "primary_cleaner.output.concentrate_au\n",
      "primary_cleaner.output.tail_ag\n",
      "primary_cleaner.output.tail_pb\n",
      "primary_cleaner.output.tail_sol\n",
      "primary_cleaner.output.tail_au\n",
      "rougher.calculation.sulfate_to_au_concentrate\n",
      "rougher.calculation.floatbank10_sulfate_to_au_feed\n",
      "rougher.calculation.floatbank11_sulfate_to_au_feed\n",
      "rougher.calculation.au_pb_ratio\n",
      "rougher.output.concentrate_ag\n",
      "rougher.output.concentrate_pb\n",
      "rougher.output.concentrate_sol\n",
      "rougher.output.concentrate_au\n",
      "rougher.output.recovery\n",
      "rougher.output.tail_ag\n",
      "rougher.output.tail_pb\n",
      "rougher.output.tail_sol\n",
      "rougher.output.tail_au\n",
      "secondary_cleaner.output.tail_ag\n",
      "secondary_cleaner.output.tail_pb\n",
      "secondary_cleaner.output.tail_sol\n",
      "secondary_cleaner.output.tail_au\n",
      "Количество: 34\n"
     ]
    }
   ],
   "source": [
    "different_columns = []\n",
    "for col in full.columns:\n",
    "    if col not in test.columns:\n",
    "        different_columns.append(col)\n",
    "print('\\n'.join(name for name in different_columns))\n",
    "print(f'Количество: {len(different_columns)}')"
   ]
  },
  {
   "cell_type": "markdown",
   "metadata": {},
   "source": [
    "Всего было найдено 34 признака, недоступных в тестовой выборке. Это final.output, primary_cleaner.output, rougher.calculation/output, secondary_cleaner.output. Все это связано с параметрами продукта и расчетными характеристиками на всех 4 этапах."
   ]
  },
  {
   "cell_type": "markdown",
   "metadata": {},
   "source": [
    "### Предобработка данных"
   ]
  },
  {
   "cell_type": "code",
   "execution_count": 14,
   "metadata": {
    "scrolled": false
   },
   "outputs": [
    {
     "name": "stdout",
     "output_type": "stream",
     "text": [
      "(14149, 87)\n",
      "(5290, 53)\n",
      "(19439, 87)\n"
     ]
    }
   ],
   "source": [
    "print(train.shape)\n",
    "print(test.shape)\n",
    "print(full.shape)"
   ]
  },
  {
   "cell_type": "markdown",
   "metadata": {},
   "source": [
    "Размеры выборок разные, так как некоторые параметры недоступны, потому что замеряются и/или рассчитываются значительно позже."
   ]
  },
  {
   "cell_type": "markdown",
   "metadata": {},
   "source": [
    "По первоначальноу анализу данных было выявлено много пропусков во всех датасетах. Следовательно, просто удалить их нельзя. Так как данные индексируются датой и временем получения информации (признак date), а соседние по времени параметры часто похожи, заполним пропуски с помощью метода ffil."
   ]
  },
  {
   "cell_type": "code",
   "execution_count": 15,
   "metadata": {},
   "outputs": [],
   "source": [
    "train = train.ffill(axis=0)\n",
    "test = test.ffill(axis=0)\n",
    "full = full.ffill(axis=0)"
   ]
  },
  {
   "cell_type": "markdown",
   "metadata": {},
   "source": [
    "## Анализ данных"
   ]
  },
  {
   "cell_type": "markdown",
   "metadata": {},
   "source": [
    "### Анализ концентрации металлов (Au, Ag, Pb)"
   ]
  },
  {
   "cell_type": "markdown",
   "metadata": {},
   "source": [
    "Проанализируем, как меняется концентрация металлов (Au, Ag, Pb) на различных этапах очистки"
   ]
  },
  {
   "cell_type": "code",
   "execution_count": 16,
   "metadata": {
    "scrolled": true
   },
   "outputs": [
    {
     "data": {
      "image/png": "[encoded data removed]",
      "text/plain": [
       "<Figure size 576x504 with 1 Axes>"
      ]
     },
     "metadata": {
      "needs_background": "light"
     },
     "output_type": "display_data"
    }
   ],
   "source": [
    "plt.figure(figsize=(8, 7))\n",
    "full['rougher.output.concentrate_au'].hist(bins=100, label='AU')\n",
    "full['rougher.output.concentrate_pb'].hist(bins=100, label='PB')\n",
    "full['rougher.output.concentrate_ag'].hist(bins=100, label='AG')\n",
    "plt.title('Концентрация металлов после флотации')\n",
    "plt.legend()\n",
    "plt.show()"
   ]
  },
  {
   "cell_type": "code",
   "execution_count": 17,
   "metadata": {},
   "outputs": [
    {
     "data": {
      "image/png": "[encoded data removed]",
      "text/plain": [
       "<Figure size 576x504 with 1 Axes>"
      ]
     },
     "metadata": {
      "needs_background": "light"
     },
     "output_type": "display_data"
    }
   ],
   "source": [
    "plt.figure(figsize=(8, 7))\n",
    "full['primary_cleaner.output.concentrate_au'].hist(bins=100, label='AU')\n",
    "full['primary_cleaner.output.concentrate_pb'].hist(bins=100, label='PB')\n",
    "full['primary_cleaner.output.concentrate_ag'].hist(bins=100, label='AG')\n",
    "plt.title('Концентрация металлов после первичной очистки')\n",
    "plt.legend()\n",
    "plt.show()"
   ]
  },
  {
   "cell_type": "code",
   "execution_count": 18,
   "metadata": {
    "scrolled": true
   },
   "outputs": [
    {
     "data": {
      "image/png": "[encoded data removed]",
      "text/plain": [
       "<Figure size 576x504 with 1 Axes>"
      ]
     },
     "metadata": {
      "needs_background": "light"
     },
     "output_type": "display_data"
    }
   ],
   "source": [
    "plt.figure(figsize=(8, 7))\n",
    "full['final.output.concentrate_au'].hist(bins=100, label='AU')\n",
    "full['final.output.concentrate_pb'].hist(bins=100, label='PB')\n",
    "full['final.output.concentrate_ag'].hist(bins=100, label='AG')\n",
    "plt.title('Концентрация металлов после вторичной очистки')\n",
    "plt.legend()\n",
    "plt.show()"
   ]
  },
  {
   "cell_type": "markdown",
   "metadata": {},
   "source": [
    "Можно заметить, что концентрация всех металлов изменяется на каждом этапе чистки. При этом показатели у серебра и свинца падают, а у золота - растут, что в принципе нам и необходимо."
   ]
  },
  {
   "cell_type": "markdown",
   "metadata": {},
   "source": [
    "### Распределения размеров гранул сырья"
   ]
  },
  {
   "cell_type": "markdown",
   "metadata": {},
   "source": [
    "Рассмотрим распределения размеров гранул сырья на обучающей и тестовой выборках."
   ]
  },
  {
   "cell_type": "code",
   "execution_count": 19,
   "metadata": {
    "scrolled": true
   },
   "outputs": [
    {
     "data": {
      "image/png": "[encoded data removed]",
      "text/plain": [
       "<Figure size 720x432 with 1 Axes>"
      ]
     },
     "metadata": {
      "needs_background": "light"
     },
     "output_type": "display_data"
    }
   ],
   "source": [
    "plt.figure(figsize=(10, 6))\n",
    "seaborn.distplot(test['rougher.input.feed_size'], label='TEST')\n",
    "seaborn.distplot(train['rougher.input.feed_size'], label='TRAIN')\n",
    "plt.title('Распределения размеров гранул сырья')\n",
    "plt.legend()\n",
    "plt.show()"
   ]
  },
  {
   "cell_type": "markdown",
   "metadata": {},
   "source": [
    "По графику сильных различий в распределении размеров гранул сырья на обучающей и тестовой выборках не наблюдаются. Следовательно, сделать вывод о том, что оценка модели будет неправильной, нельзя."
   ]
  },
  {
   "cell_type": "markdown",
   "metadata": {},
   "source": [
    "### Суммарная концентрация всех веществ на разных стадиях"
   ]
  },
  {
   "cell_type": "markdown",
   "metadata": {},
   "source": [
    "Для анализа рассмотрим также суммарную концентрацию по всем металлам на 3 этапах очистки."
   ]
  },
  {
   "cell_type": "code",
   "execution_count": 20,
   "metadata": {
    "scrolled": true
   },
   "outputs": [
    {
     "data": {
      "image/png": "[encoded data removed]",
      "text/plain": [
       "<Figure size 720x432 with 1 Axes>"
      ]
     },
     "metadata": {
      "needs_background": "light"
     },
     "output_type": "display_data"
    }
   ],
   "source": [
    "full_sum_roughet = full['rougher.input.feed_ag'] +\\\n",
    "            full['rougher.input.feed_pb'] +\\\n",
    "            full['rougher.input.feed_sol'] +\\\n",
    "            full['rougher.input.feed_au']\n",
    "full_sum_primary = full['rougher.output.concentrate_ag'] +\\\n",
    "            full['rougher.output.concentrate_pb'] +\\\n",
    "            full['rougher.output.concentrate_sol'] +\\\n",
    "            full['rougher.output.concentrate_au']\n",
    "full_sum_final = full['final.output.concentrate_ag'] +\\\n",
    "            full['final.output.concentrate_pb'] +\\\n",
    "            full['final.output.concentrate_sol'] +\\\n",
    "            full['final.output.concentrate_au']\n",
    "\n",
    "plt.figure(figsize=(10, 6))\n",
    "seaborn.distplot(full_sum_roughet, label='ROUGHET')\n",
    "seaborn.distplot(full_sum_primary, label='PRIMARY')\n",
    "seaborn.distplot(full_sum_final, label='FINAL')\n",
    "plt.title('Суммарная концентрация всех веществ на разных стадиях')\n",
    "plt.legend()\n",
    "plt.show()"
   ]
  },
  {
   "cell_type": "markdown",
   "metadata": {},
   "source": [
    "Для анализа суммарной концентрации были посчитаны показатели всех металлов на трех этапах. По графику можно сделать вывол, что наименьшая концентрация была на этапе флотации, затем она растет на этапе первичной очистки и на финальной очистки мы видим наибольший показатель концентрации.\n",
    "\n",
    "Также на графике можно заменить значения в районе 0. Их мало и по логике там ничего не должно быть, поэтому удалим их из исходных данных и обучающей выборки."
   ]
  },
  {
   "cell_type": "code",
   "execution_count": 21,
   "metadata": {},
   "outputs": [],
   "source": [
    "def delete_zero(data, sign_1, sign_2, sign_3, sign_4):\n",
    "    data = data[\n",
    "            (data[sign_1] > 0) &\\\n",
    "            (data[sign_2] > 0) &\\\n",
    "            (data[sign_3] > 0) &\\\n",
    "            (data[sign_4] > 0)]\n",
    "    return data"
   ]
  },
  {
   "cell_type": "code",
   "execution_count": 22,
   "metadata": {},
   "outputs": [],
   "source": [
    "full = delete_zero(\n",
    "                    full, 'rougher.input.feed_ag', 'rougher.input.feed_pb',\n",
    "                    'rougher.input.feed_sol', 'rougher.input.feed_au')\n",
    "full = delete_zero(\n",
    "                    full, 'rougher.output.concentrate_ag', 'rougher.output.concentrate_pb',\n",
    "                    'rougher.output.concentrate_sol', 'rougher.output.concentrate_au')\n",
    "\n",
    "full = delete_zero(\n",
    "                    full, 'final.output.concentrate_ag', 'final.output.concentrate_pb',\n",
    "                    'final.output.concentrate_sol', 'final.output.concentrate_au')"
   ]
  },
  {
   "cell_type": "code",
   "execution_count": 23,
   "metadata": {},
   "outputs": [],
   "source": [
    "train = delete_zero(\n",
    "                    train, 'rougher.input.feed_ag', 'rougher.input.feed_pb',\n",
    "                    'rougher.input.feed_sol', 'rougher.input.feed_au')\n",
    "train = delete_zero(\n",
    "                    train, 'rougher.output.concentrate_ag', 'rougher.output.concentrate_pb',\n",
    "                    'rougher.output.concentrate_sol', 'rougher.output.concentrate_au')\n",
    "\n",
    "train = delete_zero(\n",
    "                    train, 'final.output.concentrate_ag', 'final.output.concentrate_pb',\n",
    "                    'final.output.concentrate_sol', 'final.output.concentrate_au')"
   ]
  },
  {
   "cell_type": "code",
   "execution_count": 24,
   "metadata": {
    "scrolled": true
   },
   "outputs": [
    {
     "data": {
      "image/png": "[encoded data removed]",
      "text/plain": [
       "<Figure size 720x432 with 1 Axes>"
      ]
     },
     "metadata": {
      "needs_background": "light"
     },
     "output_type": "display_data"
    }
   ],
   "source": [
    "full_sum_roughet = full['rougher.input.feed_ag'] +\\\n",
    "            full['rougher.input.feed_pb'] +\\\n",
    "            full['rougher.input.feed_sol'] +\\\n",
    "            full['rougher.input.feed_au']\n",
    "full_sum_primary = full['rougher.output.concentrate_ag'] +\\\n",
    "            full['rougher.output.concentrate_pb'] +\\\n",
    "            full['rougher.output.concentrate_sol'] +\\\n",
    "            full['rougher.output.concentrate_au']\n",
    "full_sum_final = full['final.output.concentrate_ag'] +\\\n",
    "            full['final.output.concentrate_pb'] +\\\n",
    "            full['final.output.concentrate_sol'] +\\\n",
    "            full['final.output.concentrate_au']\n",
    "\n",
    "plt.figure(figsize=(10, 6))\n",
    "seaborn.distplot(full_sum_roughet, label='ROUGHET')\n",
    "seaborn.distplot(full_sum_primary, label='PRIMARY')\n",
    "seaborn.distplot(full_sum_final, label='FINAL')\n",
    "plt.title('Суммарная концентрация всех веществ на разных стадиях')\n",
    "plt.legend()\n",
    "plt.show()"
   ]
  },
  {
   "cell_type": "markdown",
   "metadata": {},
   "source": [
    "## Модель"
   ]
  },
  {
   "cell_type": "markdown",
   "metadata": {},
   "source": [
    "### Функции для вычисления итоговой sMAPE"
   ]
  },
  {
   "cell_type": "code",
   "execution_count": 25,
   "metadata": {},
   "outputs": [],
   "source": [
    "def smape_calculation(target, predict):\n",
    "    return (1 / len(target)) * np.sum((np.abs(target - predict)) / ( (np.abs(target) + np.abs(predict)) / 2)) * 100"
   ]
  },
  {
   "cell_type": "code",
   "execution_count": 26,
   "metadata": {},
   "outputs": [],
   "source": [
    "def final_smape(rougher, final):\n",
    "    return 0.25 * rougher + 0.75 * final\n",
    "\n",
    "smape_scorer = make_scorer(smape_calculation, greater_is_better = False)"
   ]
  },
  {
   "cell_type": "code",
   "execution_count": 27,
   "metadata": {},
   "outputs": [],
   "source": [
    "features = train[test.columns]\n",
    "features = features.drop(['date'], axis=1)\n",
    "target_rougher = train['rougher.output.recovery']\n",
    "target_final = train['final.output.recovery']\n",
    "\n",
    "\n",
    "test = (test.merge(full[['date', 'rougher.output.recovery']], on='date')\n",
    "            .merge(full[['date', 'final.output.recovery']], on='date'))\n",
    "\n",
    "test = test.dropna().reset_index(drop=True)"
   ]
  },
  {
   "cell_type": "markdown",
   "metadata": {},
   "source": [
    "Для обучения будут рассмотрены три модели: LinearRegression, DecisionTreeRegressor, RandomForestRegressor. Модель с наилучшим показателем sMAPE будет выбрана для проверки на тестовой выборке. Так как признаки у обучающей и тестовой выборки отличаются, у обучающей выборки удалим столбцы, которых нет в тестовой. В тестовую, наоборот, необходимо будет добавить целевые признаки. По формулам, которые были даны в начале проекта, были созданы две функции, вычисляющие значение sMAPE и итоговое значение sMAPE.\n",
    "\n",
    "Обучим все три модели и оценим их качество кросс-валидацией."
   ]
  },
  {
   "cell_type": "markdown",
   "metadata": {},
   "source": [
    "### Модель LinearRegression"
   ]
  },
  {
   "cell_type": "code",
   "execution_count": 28,
   "metadata": {},
   "outputs": [
    {
     "name": "stdout",
     "output_type": "stream",
     "text": [
      "Модель LinearRegression\n",
      "sMAPE: 10.059261443482796\n"
     ]
    }
   ],
   "source": [
    "model = LinearRegression()\n",
    "scores_rougher = cross_val_score(model, features, target_rougher, scoring=smape_scorer, cv=5)\n",
    "final_score_roughet = sum(scores_rougher) / len(scores_rougher)\n",
    "\n",
    "model = LinearRegression()\n",
    "scores_final = cross_val_score(model, features, target_final, scoring=smape_scorer, cv=5)\n",
    "final_score = sum(scores_final) / len(scores_final)\n",
    "\n",
    "smape = final_smape(final_score_roughet, final_score) * (-1)\n",
    "print('Модель LinearRegression')\n",
    "print('sMAPE:', smape)"
   ]
  },
  {
   "cell_type": "markdown",
   "metadata": {},
   "source": [
    "### Модель DecisionTreeRegressor"
   ]
  },
  {
   "cell_type": "code",
   "execution_count": 29,
   "metadata": {},
   "outputs": [
    {
     "name": "stdout",
     "output_type": "stream",
     "text": [
      "Модель DecisionTreeRegressor\n",
      "depth: 3\n",
      "sMAPE: 12.16942264381531\n"
     ]
    }
   ],
   "source": [
    "best_result = 100\n",
    "best_depth = 0\n",
    "for n in range(1, 10, 1):\n",
    "    model = DecisionTreeRegressor(max_depth=n, random_state=0)\n",
    "    scores_rougher = cross_val_score(model, features, target_rougher, scoring=smape_scorer, cv=5)\n",
    "    final_score_roughet = sum(scores_rougher) / len(scores_rougher)\n",
    "    model = DecisionTreeRegressor(max_depth=n, random_state=0)\n",
    "    scores_final = cross_val_score(model, features, target_final, scoring=smape_scorer, cv=5)\n",
    "    final_score = sum(scores_final) / len(scores_final)\n",
    "    smape = final_smape(final_score_roughet, final_score) * (-1)\n",
    "    if smape < best_result:\n",
    "        best_result = smape\n",
    "        best_depth = n\n",
    "print('Модель DecisionTreeRegressor')\n",
    "print('depth:', best_depth)\n",
    "print('sMAPE:', smape)"
   ]
  },
  {
   "cell_type": "markdown",
   "metadata": {},
   "source": [
    "### Модель RandomForestRegressor"
   ]
  },
  {
   "cell_type": "code",
   "execution_count": 30,
   "metadata": {},
   "outputs": [
    {
     "data": {
      "text/plain": [
       "\"\\n#код работает около 20-30 минут\\nbest_result = 100\\nbest_depth = 0\\nbest_estimators = 0\\nfor n in range(10, 100, 30):\\n    for d in range(2,10,2):\\n        model = RandomForestRegressor(n_estimators=n, max_depth=d, random_state=0)\\n        scores_rougher = cross_val_score(model, features, target_rougher, scoring=smape_scorer, cv=3)\\n        final_score_roughet = sum(scores_rougher) / len(scores_rougher)\\n        model = RandomForestRegressor(max_depth=n, random_state=0)\\n        scores_final = cross_val_score(model, features, target_final, scoring=smape_scorer, cv=3)\\n        final_score = sum(scores_final) / len(scores_final)\\n        smape = final_smape(final_score_roughet, final_score) * (-1)\\n        if smape < best_result:\\n            best_result = smape\\n            best_depth = d\\n            best_estimators = n\\nprint('Модель RandomForestRegressor')\\nprint('depth:', best_depth)\\nprint('estimators:', best_estimators)\\nprint('sMAPE:', smape)\\n\""
      ]
     },
     "execution_count": 30,
     "metadata": {},
     "output_type": "execute_result"
    }
   ],
   "source": [
    "#код работает около 20-30 минут\n",
    "best_result = 100\n",
    "best_depth = 0\n",
    "best_estimators = 0\n",
    "for n in range(10, 100, 30):\n",
    "    for d in range(2,10,2):\n",
    "        model = RandomForestRegressor(n_estimators=n, max_depth=d, random_state=0)\n",
    "        scores_rougher = cross_val_score(model, features, target_rougher, scoring=smape_scorer, cv=3)\n",
    "        final_score_roughet = sum(scores_rougher) / len(scores_rougher)\n",
    "        model = RandomForestRegressor(max_depth=n, random_state=0)\n",
    "        scores_final = cross_val_score(model, features, target_final, scoring=smape_scorer, cv=3)\n",
    "        final_score = sum(scores_final) / len(scores_final)\n",
    "        smape = final_smape(final_score_roughet, final_score) * (-1)\n",
    "        if smape < best_result:\n",
    "            best_result = smape\n",
    "            best_depth = d\n",
    "            best_estimators = n\n",
    "print('Модель RandomForestRegressor')\n",
    "print('depth:', best_depth)\n",
    "print('estimators:', best_estimators)\n",
    "print('sMAPE:', smape)"
   ]
  },
  {
   "cell_type": "markdown",
   "metadata": {},
   "source": [
    "Исходя из результатов обучения разных моделей, наилучший показатель был у модели RandomForestRegressor с показателями depth = 2, estimators = 10. Именно ее мы будем использоватьт для тестовой выборки."
   ]
  },
  {
   "cell_type": "markdown",
   "metadata": {},
   "source": [
    "### Тестирование"
   ]
  },
  {
   "cell_type": "code",
   "execution_count": 31,
   "metadata": {
    "scrolled": false
   },
   "outputs": [
    {
     "name": "stdout",
     "output_type": "stream",
     "text": [
      "Модель RandomForestRegressor\n",
      "depth: 6\n",
      "estimators: 10\n",
      "sMAPE: 6.935776737693852\n"
     ]
    }
   ],
   "source": [
    "features_test = test.drop(['date','rougher.output.recovery','final.output.recovery'],axis=1)\n",
    "target_rougher_test = test['rougher.output.recovery']\n",
    "target_final_test = test['final.output.recovery']\n",
    "\n",
    "model = RandomForestRegressor(n_estimators=10, max_depth=2, random_state=0)\n",
    "model.fit(features, target_rougher)\n",
    "pred_rougher = model.predict(features_test)\n",
    "smape_rougher = smape_calculation(target_rougher_test, pred_rougher)\n",
    "\n",
    "model = RandomForestRegressor(n_estimators=10, max_depth=2, random_state=0)\n",
    "model.fit(features, target_final)\n",
    "pred_test = model.predict(features_test)\n",
    "smape_final = smape_calculation(target_final_test, pred_test)\n",
    "\n",
    "smape = final_smape(smape_rougher, smape_final)\n",
    "\n",
    "print('Модель RandomForestRegressor')\n",
    "print('depth: 6')\n",
    "print('estimators: 10')\n",
    "print('sMAPE:', smape)"
   ]
  },
  {
   "cell_type": "markdown",
   "metadata": {},
   "source": [
    "### Константная модель DummyRegressor"
   ]
  },
  {
   "cell_type": "code",
   "execution_count": 32,
   "metadata": {},
   "outputs": [
    {
     "name": "stdout",
     "output_type": "stream",
     "text": [
      "Модель DummyRegressor\n",
      "sMAPE: 7.76520854085413\n"
     ]
    }
   ],
   "source": [
    "model = DummyRegressor(strategy=\"mean\")\n",
    "model.fit(features, target_rougher)\n",
    "pred_rougher = model.predict(features_test)\n",
    "smape_rougher = smape_calculation(target_rougher_test, pred_rougher)\n",
    "\n",
    "model = DummyRegressor(strategy=\"mean\")\n",
    "model.fit(features, target_final)\n",
    "pred_test = model.predict(features_test)\n",
    "smape_final = smape_calculation(target_final_test, pred_test)\n",
    "\n",
    "smape = final_smape(smape_rougher, smape_final)\n",
    "\n",
    "print('Модель DummyRegressor')\n",
    "print('sMAPE:', smape)"
   ]
  },
  {
   "cell_type": "markdown",
   "metadata": {},
   "source": [
    "Для проверки корректности предсказания константная модель DummyRegressor была также обучена на исходных данных, а затем протестирована. Показатель sMAPE у константной модели выше, чем у выбранной модели RandomForestRegressor, что говорит о том, что найденные предсказания модели RandomForestRegressor адекватны."
   ]
  },
  {
   "cell_type": "markdown",
   "metadata": {},
   "source": [
    "## Заключение"
   ]
  },
  {
   "cell_type": "markdown",
   "metadata": {},
   "source": [
    "Необходимо было построить модель, которая должна предсказать коэффициент восстановления золота из золотосодержащей руды.\n",
    "\n",
    "\n",
    "Для этого на всех датасетах были заполнены пустые значения и проверено, что эффективность обогащения рассчитана правильно. Также перед обучением из-за отличающегося количества признаков в тестовой и обучающей выборках, было сделано:\n",
    "- из обучающей выборки удалены признаки, которых нет в тестовой выборке\n",
    "- в тестовую выборку добавлены целевые признаки\n",
    "Это необходимо для улучшения качества моделей.\n",
    "\n",
    "Для обучения были выбраны три модели: LinearRegression, DecisionTreeRegressor, RandomForestRegressor. Наилучший показатель был у модели RandomForestRegressor с показателями depth = 2, estimators = 10. Эта модель была выбрана для тестовой выборке.\n",
    "\n",
    "Результат, который в итоге получилось достичь, sMAPE = 6.935776737693852%.\n",
    "Этот покзатель был также проверен в сравнении с константной моделью DummyRegressor, у которой sMAPE = 7.765208540%\n"
   ]
  }
 ],
 "metadata": {
  "ExecuteTimeLog": [
   {
    "duration": 51,
    "start_time": "2022-12-19T19:43:47.644Z"
   },
   {
    "duration": 405,
    "start_time": "2022-12-19T19:43:49.967Z"
   },
   {
    "duration": 3502,
    "start_time": "2022-12-19T19:43:50.580Z"
   },
   {
    "duration": 46,
    "start_time": "2022-12-19T19:43:54.084Z"
   },
   {
    "duration": 117,
    "start_time": "2022-12-19T19:44:52.910Z"
   },
   {
    "duration": 114,
    "start_time": "2022-12-19T19:45:07.512Z"
   },
   {
    "duration": 48,
    "start_time": "2022-12-19T19:45:27.019Z"
   },
   {
    "duration": 37,
    "start_time": "2022-12-19T19:45:34.813Z"
   },
   {
    "duration": 105,
    "start_time": "2022-12-19T19:45:49.219Z"
   },
   {
    "duration": 105,
    "start_time": "2022-12-19T19:46:56.379Z"
   },
   {
    "duration": 36,
    "start_time": "2022-12-19T19:47:23.385Z"
   },
   {
    "duration": 130,
    "start_time": "2022-12-19T19:47:51.585Z"
   },
   {
    "duration": 33,
    "start_time": "2022-12-19T19:48:14.877Z"
   },
   {
    "duration": 29,
    "start_time": "2022-12-19T19:48:57.524Z"
   },
   {
    "duration": 3,
    "start_time": "2022-12-19T19:50:21.173Z"
   },
   {
    "duration": 18,
    "start_time": "2022-12-19T20:00:36.737Z"
   },
   {
    "duration": 30,
    "start_time": "2022-12-19T20:00:52.441Z"
   },
   {
    "duration": 429,
    "start_time": "2022-12-19T20:02:20.220Z"
   },
   {
    "duration": 748,
    "start_time": "2022-12-19T20:02:20.651Z"
   },
   {
    "duration": 62,
    "start_time": "2022-12-19T20:02:21.402Z"
   },
   {
    "duration": 120,
    "start_time": "2022-12-19T20:02:21.466Z"
   },
   {
    "duration": 57,
    "start_time": "2022-12-19T20:02:21.588Z"
   },
   {
    "duration": 172,
    "start_time": "2022-12-19T20:02:21.647Z"
   },
   {
    "duration": 35,
    "start_time": "2022-12-19T20:02:21.822Z"
   },
   {
    "duration": 55,
    "start_time": "2022-12-19T20:02:21.859Z"
   },
   {
    "duration": 26,
    "start_time": "2022-12-19T20:02:21.916Z"
   },
   {
    "duration": 58,
    "start_time": "2022-12-19T20:02:21.945Z"
   },
   {
    "duration": 109,
    "start_time": "2022-12-19T20:03:36.505Z"
   },
   {
    "duration": 781,
    "start_time": "2022-12-19T20:04:27.822Z"
   },
   {
    "duration": 76,
    "start_time": "2022-12-19T20:04:30.957Z"
   },
   {
    "duration": 75,
    "start_time": "2022-12-19T20:04:36.373Z"
   },
   {
    "duration": 19,
    "start_time": "2022-12-19T20:04:41.861Z"
   },
   {
    "duration": 3,
    "start_time": "2022-12-19T20:07:53.478Z"
   },
   {
    "duration": 9,
    "start_time": "2022-12-19T20:07:57.397Z"
   },
   {
    "duration": 10,
    "start_time": "2022-12-19T20:08:05.939Z"
   },
   {
    "duration": 4,
    "start_time": "2022-12-19T20:14:11.248Z"
   },
   {
    "duration": 4,
    "start_time": "2022-12-19T20:14:42.589Z"
   },
   {
    "duration": 5,
    "start_time": "2022-12-19T20:15:15.634Z"
   },
   {
    "duration": 28,
    "start_time": "2022-12-19T20:29:50.614Z"
   },
   {
    "duration": 1150,
    "start_time": "2022-12-19T20:30:05.490Z"
   },
   {
    "duration": 737,
    "start_time": "2022-12-19T20:30:06.642Z"
   },
   {
    "duration": 60,
    "start_time": "2022-12-19T20:30:07.381Z"
   },
   {
    "duration": 113,
    "start_time": "2022-12-19T20:30:07.443Z"
   },
   {
    "duration": 51,
    "start_time": "2022-12-19T20:30:07.558Z"
   },
   {
    "duration": 126,
    "start_time": "2022-12-19T20:30:07.620Z"
   },
   {
    "duration": 29,
    "start_time": "2022-12-19T20:30:07.748Z"
   },
   {
    "duration": 50,
    "start_time": "2022-12-19T20:30:07.778Z"
   },
   {
    "duration": 3,
    "start_time": "2022-12-19T20:30:07.830Z"
   },
   {
    "duration": 10,
    "start_time": "2022-12-19T20:30:07.835Z"
   },
   {
    "duration": 3,
    "start_time": "2022-12-19T20:30:07.847Z"
   },
   {
    "duration": 54,
    "start_time": "2022-12-19T20:30:07.852Z"
   },
   {
    "duration": 61,
    "start_time": "2022-12-19T20:31:26.514Z"
   },
   {
    "duration": 108,
    "start_time": "2022-12-19T20:38:42.713Z"
   },
   {
    "duration": 443,
    "start_time": "2022-12-19T20:39:12.274Z"
   },
   {
    "duration": 723,
    "start_time": "2022-12-19T20:39:22.341Z"
   },
   {
    "duration": 652,
    "start_time": "2022-12-19T20:39:43.140Z"
   },
   {
    "duration": 555,
    "start_time": "2022-12-19T20:39:53.727Z"
   },
   {
    "duration": 415,
    "start_time": "2022-12-19T20:40:05.578Z"
   },
   {
    "duration": 813,
    "start_time": "2022-12-19T20:40:19.016Z"
   },
   {
    "duration": 728,
    "start_time": "2022-12-19T20:40:35.863Z"
   },
   {
    "duration": 792,
    "start_time": "2022-12-19T20:40:48.528Z"
   },
   {
    "duration": 705,
    "start_time": "2022-12-19T20:42:03.813Z"
   },
   {
    "duration": 1378,
    "start_time": "2022-12-19T20:42:20.084Z"
   },
   {
    "duration": 770,
    "start_time": "2022-12-19T20:42:21.464Z"
   },
   {
    "duration": 40,
    "start_time": "2022-12-19T20:42:22.237Z"
   },
   {
    "duration": 114,
    "start_time": "2022-12-19T20:42:22.295Z"
   },
   {
    "duration": 38,
    "start_time": "2022-12-19T20:42:22.414Z"
   },
   {
    "duration": 152,
    "start_time": "2022-12-19T20:42:22.454Z"
   },
   {
    "duration": 47,
    "start_time": "2022-12-19T20:42:22.617Z"
   },
   {
    "duration": 21,
    "start_time": "2022-12-19T20:42:22.666Z"
   },
   {
    "duration": 12,
    "start_time": "2022-12-19T20:42:22.688Z"
   },
   {
    "duration": 24,
    "start_time": "2022-12-19T20:42:22.713Z"
   },
   {
    "duration": 28,
    "start_time": "2022-12-19T20:42:22.738Z"
   },
   {
    "duration": 55,
    "start_time": "2022-12-19T20:42:22.767Z"
   },
   {
    "duration": 709,
    "start_time": "2022-12-19T20:42:22.825Z"
   },
   {
    "duration": 771,
    "start_time": "2022-12-19T20:42:23.536Z"
   },
   {
    "duration": 721,
    "start_time": "2022-12-19T20:42:24.309Z"
   },
   {
    "duration": 597,
    "start_time": "2022-12-19T20:50:34.519Z"
   },
   {
    "duration": 142,
    "start_time": "2022-12-19T20:51:34.821Z"
   },
   {
    "duration": 67,
    "start_time": "2022-12-19T20:51:42.796Z"
   },
   {
    "duration": 24,
    "start_time": "2022-12-19T20:51:50.980Z"
   },
   {
    "duration": 293,
    "start_time": "2022-12-19T20:52:19.780Z"
   },
   {
    "duration": 4,
    "start_time": "2022-12-19T20:52:44.964Z"
   },
   {
    "duration": 542,
    "start_time": "2022-12-19T20:52:50.721Z"
   },
   {
    "duration": 12,
    "start_time": "2022-12-19T20:53:02.721Z"
   },
   {
    "duration": 1307,
    "start_time": "2022-12-19T20:53:43.338Z"
   },
   {
    "duration": 17,
    "start_time": "2022-12-19T20:54:27.292Z"
   },
   {
    "duration": 756,
    "start_time": "2022-12-19T20:54:45.646Z"
   },
   {
    "duration": 1126,
    "start_time": "2022-12-19T20:54:58.130Z"
   },
   {
    "duration": 1232,
    "start_time": "2022-12-19T20:55:08.523Z"
   },
   {
    "duration": 1332,
    "start_time": "2022-12-19T20:55:15.694Z"
   },
   {
    "duration": 1085,
    "start_time": "2022-12-19T20:55:24.549Z"
   },
   {
    "duration": 1096,
    "start_time": "2022-12-19T20:55:33.351Z"
   },
   {
    "duration": 1291,
    "start_time": "2022-12-19T20:55:41.425Z"
   },
   {
    "duration": 1145,
    "start_time": "2022-12-19T20:55:49.965Z"
   },
   {
    "duration": 1050,
    "start_time": "2022-12-19T20:56:16.515Z"
   },
   {
    "duration": 1269,
    "start_time": "2022-12-19T20:56:25.285Z"
   },
   {
    "duration": 922,
    "start_time": "2022-12-19T20:57:13.622Z"
   },
   {
    "duration": 987,
    "start_time": "2022-12-19T20:57:22.322Z"
   },
   {
    "duration": 1282,
    "start_time": "2022-12-19T20:57:58.571Z"
   },
   {
    "duration": 1883,
    "start_time": "2022-12-19T20:58:20.945Z"
   },
   {
    "duration": 815,
    "start_time": "2022-12-19T20:58:45.628Z"
   },
   {
    "duration": 769,
    "start_time": "2022-12-19T20:58:56.522Z"
   },
   {
    "duration": 698,
    "start_time": "2022-12-19T20:59:06.731Z"
   },
   {
    "duration": 635,
    "start_time": "2022-12-19T20:59:17.085Z"
   },
   {
    "duration": 3,
    "start_time": "2022-12-19T21:00:22.855Z"
   },
   {
    "duration": 672,
    "start_time": "2022-12-19T21:00:35.051Z"
   },
   {
    "duration": 590,
    "start_time": "2022-12-19T21:00:40.594Z"
   },
   {
    "duration": 774,
    "start_time": "2022-12-19T21:00:49.137Z"
   },
   {
    "duration": 3,
    "start_time": "2022-12-19T21:07:44.425Z"
   },
   {
    "duration": 5,
    "start_time": "2022-12-19T21:08:18.755Z"
   },
   {
    "duration": 5,
    "start_time": "2022-12-19T21:11:33.070Z"
   },
   {
    "duration": 689,
    "start_time": "2022-12-19T21:11:37.565Z"
   },
   {
    "duration": 670,
    "start_time": "2022-12-19T21:12:24.572Z"
   },
   {
    "duration": 702,
    "start_time": "2022-12-19T21:12:36.725Z"
   },
   {
    "duration": 1314,
    "start_time": "2022-12-19T21:13:29.325Z"
   },
   {
    "duration": 615,
    "start_time": "2022-12-19T21:13:47.254Z"
   },
   {
    "duration": 1385,
    "start_time": "2022-12-19T21:16:46.621Z"
   },
   {
    "duration": 805,
    "start_time": "2022-12-19T21:16:48.008Z"
   },
   {
    "duration": 44,
    "start_time": "2022-12-19T21:16:48.814Z"
   },
   {
    "duration": 114,
    "start_time": "2022-12-19T21:16:48.860Z"
   },
   {
    "duration": 56,
    "start_time": "2022-12-19T21:16:48.976Z"
   },
   {
    "duration": 153,
    "start_time": "2022-12-19T21:16:49.037Z"
   },
   {
    "duration": 42,
    "start_time": "2022-12-19T21:16:49.192Z"
   },
   {
    "duration": 26,
    "start_time": "2022-12-19T21:16:49.236Z"
   },
   {
    "duration": 4,
    "start_time": "2022-12-19T21:16:49.264Z"
   },
   {
    "duration": 39,
    "start_time": "2022-12-19T21:16:49.269Z"
   },
   {
    "duration": 23,
    "start_time": "2022-12-19T21:16:49.315Z"
   },
   {
    "duration": 31,
    "start_time": "2022-12-19T21:16:49.340Z"
   },
   {
    "duration": 686,
    "start_time": "2022-12-19T21:16:49.373Z"
   },
   {
    "duration": 772,
    "start_time": "2022-12-19T21:16:50.062Z"
   },
   {
    "duration": 680,
    "start_time": "2022-12-19T21:16:50.836Z"
   },
   {
    "duration": 735,
    "start_time": "2022-12-19T21:16:51.517Z"
   },
   {
    "duration": 1206,
    "start_time": "2022-12-19T21:16:52.254Z"
   },
   {
    "duration": 1481,
    "start_time": "2022-12-19T21:32:54.624Z"
   },
   {
    "duration": 778,
    "start_time": "2022-12-19T21:32:56.108Z"
   },
   {
    "duration": 54,
    "start_time": "2022-12-19T21:32:56.888Z"
   },
   {
    "duration": 145,
    "start_time": "2022-12-19T21:32:56.944Z"
   },
   {
    "duration": 59,
    "start_time": "2022-12-19T21:32:57.097Z"
   },
   {
    "duration": 188,
    "start_time": "2022-12-19T21:32:57.158Z"
   },
   {
    "duration": 30,
    "start_time": "2022-12-19T21:32:57.347Z"
   },
   {
    "duration": 40,
    "start_time": "2022-12-19T21:32:57.379Z"
   },
   {
    "duration": 21,
    "start_time": "2022-12-19T21:32:57.421Z"
   },
   {
    "duration": 12,
    "start_time": "2022-12-19T21:32:57.444Z"
   },
   {
    "duration": 9,
    "start_time": "2022-12-19T21:32:57.457Z"
   },
   {
    "duration": 36,
    "start_time": "2022-12-19T21:32:57.468Z"
   },
   {
    "duration": 699,
    "start_time": "2022-12-19T21:32:57.513Z"
   },
   {
    "duration": 785,
    "start_time": "2022-12-19T21:32:58.214Z"
   },
   {
    "duration": 669,
    "start_time": "2022-12-19T21:32:59.003Z"
   },
   {
    "duration": 772,
    "start_time": "2022-12-19T21:32:59.674Z"
   },
   {
    "duration": 1274,
    "start_time": "2022-12-19T21:33:00.447Z"
   },
   {
    "duration": 4,
    "start_time": "2022-12-19T21:33:01.728Z"
   },
   {
    "duration": 116,
    "start_time": "2022-12-19T21:33:01.733Z"
   },
   {
    "duration": 123,
    "start_time": "2022-12-19T21:33:01.850Z"
   },
   {
    "duration": 126,
    "start_time": "2022-12-19T21:47:51.822Z"
   },
   {
    "duration": 55,
    "start_time": "2022-12-19T21:48:29.558Z"
   },
   {
    "duration": 20,
    "start_time": "2022-12-19T21:48:45.051Z"
   },
   {
    "duration": 1512,
    "start_time": "2022-12-19T21:49:00.581Z"
   },
   {
    "duration": 826,
    "start_time": "2022-12-19T21:49:02.097Z"
   },
   {
    "duration": 45,
    "start_time": "2022-12-19T21:49:02.924Z"
   },
   {
    "duration": 118,
    "start_time": "2022-12-19T21:49:02.971Z"
   },
   {
    "duration": 41,
    "start_time": "2022-12-19T21:49:03.090Z"
   },
   {
    "duration": 147,
    "start_time": "2022-12-19T21:49:03.133Z"
   },
   {
    "duration": 46,
    "start_time": "2022-12-19T21:49:03.281Z"
   },
   {
    "duration": 27,
    "start_time": "2022-12-19T21:49:03.336Z"
   },
   {
    "duration": 3,
    "start_time": "2022-12-19T21:49:03.365Z"
   },
   {
    "duration": 81,
    "start_time": "2022-12-19T21:49:03.371Z"
   },
   {
    "duration": 17,
    "start_time": "2022-12-19T21:49:03.453Z"
   },
   {
    "duration": 55,
    "start_time": "2022-12-19T21:49:03.471Z"
   },
   {
    "duration": 788,
    "start_time": "2022-12-19T21:49:03.529Z"
   },
   {
    "duration": 687,
    "start_time": "2022-12-19T21:49:04.320Z"
   },
   {
    "duration": 843,
    "start_time": "2022-12-19T21:49:05.012Z"
   },
   {
    "duration": 768,
    "start_time": "2022-12-19T21:49:05.857Z"
   },
   {
    "duration": 1237,
    "start_time": "2022-12-19T21:49:06.626Z"
   },
   {
    "duration": 3,
    "start_time": "2022-12-19T21:49:07.865Z"
   },
   {
    "duration": 17,
    "start_time": "2022-12-19T21:49:07.870Z"
   },
   {
    "duration": 159,
    "start_time": "2022-12-19T21:49:07.889Z"
   },
   {
    "duration": 0,
    "start_time": "2022-12-19T21:49:08.050Z"
   },
   {
    "duration": 13,
    "start_time": "2022-12-19T21:49:20.150Z"
   },
   {
    "duration": 10,
    "start_time": "2022-12-19T21:49:23.882Z"
   },
   {
    "duration": 24,
    "start_time": "2022-12-19T21:49:36.430Z"
   },
   {
    "duration": 1418,
    "start_time": "2022-12-19T21:49:47.261Z"
   },
   {
    "duration": 829,
    "start_time": "2022-12-19T21:49:48.681Z"
   },
   {
    "duration": 50,
    "start_time": "2022-12-19T21:49:49.511Z"
   },
   {
    "duration": 118,
    "start_time": "2022-12-19T21:49:49.563Z"
   },
   {
    "duration": 55,
    "start_time": "2022-12-19T21:49:49.683Z"
   },
   {
    "duration": 137,
    "start_time": "2022-12-19T21:49:49.740Z"
   },
   {
    "duration": 68,
    "start_time": "2022-12-19T21:49:49.879Z"
   },
   {
    "duration": 30,
    "start_time": "2022-12-19T21:49:49.955Z"
   },
   {
    "duration": 4,
    "start_time": "2022-12-19T21:49:49.986Z"
   },
   {
    "duration": 64,
    "start_time": "2022-12-19T21:49:49.992Z"
   },
   {
    "duration": 13,
    "start_time": "2022-12-19T21:49:50.058Z"
   },
   {
    "duration": 50,
    "start_time": "2022-12-19T21:49:50.072Z"
   },
   {
    "duration": 761,
    "start_time": "2022-12-19T21:49:50.128Z"
   },
   {
    "duration": 692,
    "start_time": "2022-12-19T21:49:50.891Z"
   },
   {
    "duration": 838,
    "start_time": "2022-12-19T21:49:51.585Z"
   },
   {
    "duration": 654,
    "start_time": "2022-12-19T21:49:52.431Z"
   },
   {
    "duration": 1218,
    "start_time": "2022-12-19T21:49:53.087Z"
   },
   {
    "duration": 7,
    "start_time": "2022-12-19T21:49:54.306Z"
   },
   {
    "duration": 34,
    "start_time": "2022-12-19T21:49:54.317Z"
   },
   {
    "duration": 134,
    "start_time": "2022-12-19T21:49:54.353Z"
   },
   {
    "duration": 0,
    "start_time": "2022-12-19T21:49:54.489Z"
   },
   {
    "duration": 18,
    "start_time": "2022-12-19T21:50:01.725Z"
   },
   {
    "duration": 5281,
    "start_time": "2022-12-19T21:50:04.149Z"
   },
   {
    "duration": 6250,
    "start_time": "2022-12-19T21:50:50.874Z"
   },
   {
    "duration": 6799,
    "start_time": "2022-12-19T21:51:13.646Z"
   },
   {
    "duration": 9230,
    "start_time": "2022-12-19T21:51:30.622Z"
   },
   {
    "duration": 7405,
    "start_time": "2022-12-19T21:52:35.292Z"
   },
   {
    "duration": 7917,
    "start_time": "2022-12-19T21:52:55.219Z"
   },
   {
    "duration": 11,
    "start_time": "2022-12-19T22:04:25.502Z"
   },
   {
    "duration": 4,
    "start_time": "2022-12-19T22:04:26.962Z"
   },
   {
    "duration": 11,
    "start_time": "2022-12-19T22:04:28.374Z"
   },
   {
    "duration": 12,
    "start_time": "2022-12-19T22:04:30.331Z"
   },
   {
    "duration": 12,
    "start_time": "2022-12-19T22:04:32.044Z"
   },
   {
    "duration": 1241,
    "start_time": "2022-12-19T22:04:49.357Z"
   },
   {
    "duration": 1070,
    "start_time": "2022-12-19T22:05:03.376Z"
   },
   {
    "duration": 911,
    "start_time": "2022-12-19T22:05:14.465Z"
   },
   {
    "duration": 4,
    "start_time": "2022-12-19T22:07:27.857Z"
   },
   {
    "duration": 3,
    "start_time": "2022-12-19T22:07:28.491Z"
   },
   {
    "duration": 18,
    "start_time": "2022-12-19T22:07:29.121Z"
   },
   {
    "duration": 4,
    "start_time": "2022-12-19T22:08:16.164Z"
   },
   {
    "duration": 8,
    "start_time": "2022-12-19T22:08:23.333Z"
   },
   {
    "duration": 9776,
    "start_time": "2022-12-19T22:08:25.121Z"
   },
   {
    "duration": 12,
    "start_time": "2022-12-19T22:12:46.160Z"
   },
   {
    "duration": 17,
    "start_time": "2022-12-19T22:13:14.725Z"
   },
   {
    "duration": 3,
    "start_time": "2022-12-19T22:13:18.546Z"
   },
   {
    "duration": 10,
    "start_time": "2022-12-19T22:13:19.452Z"
   },
   {
    "duration": 8158,
    "start_time": "2022-12-19T22:13:20.653Z"
   },
   {
    "duration": 28066,
    "start_time": "2022-12-19T22:19:13.941Z"
   },
   {
    "duration": 4770,
    "start_time": "2022-12-19T22:20:00.258Z"
   },
   {
    "duration": 16,
    "start_time": "2022-12-19T22:24:06.105Z"
   },
   {
    "duration": 256511,
    "start_time": "2022-12-19T22:24:13.667Z"
   },
   {
    "duration": 11,
    "start_time": "2022-12-19T22:39:01.730Z"
   },
   {
    "duration": 17,
    "start_time": "2022-12-19T22:39:13.678Z"
   },
   {
    "duration": 18,
    "start_time": "2022-12-19T22:41:45.985Z"
   },
   {
    "duration": 1020,
    "start_time": "2022-12-19T22:42:12.630Z"
   },
   {
    "duration": 1230,
    "start_time": "2022-12-19T22:45:45.216Z"
   },
   {
    "duration": 1013,
    "start_time": "2022-12-19T22:47:05.434Z"
   },
   {
    "duration": 1356,
    "start_time": "2022-12-19T22:48:13.403Z"
   },
   {
    "duration": 744,
    "start_time": "2022-12-19T22:48:14.761Z"
   },
   {
    "duration": 44,
    "start_time": "2022-12-19T22:48:15.509Z"
   },
   {
    "duration": 103,
    "start_time": "2022-12-19T22:48:15.555Z"
   },
   {
    "duration": 50,
    "start_time": "2022-12-19T22:48:15.660Z"
   },
   {
    "duration": 126,
    "start_time": "2022-12-19T22:48:15.721Z"
   },
   {
    "duration": 58,
    "start_time": "2022-12-19T22:48:15.849Z"
   },
   {
    "duration": 32,
    "start_time": "2022-12-19T22:48:15.918Z"
   },
   {
    "duration": 4,
    "start_time": "2022-12-19T22:48:15.952Z"
   },
   {
    "duration": 12,
    "start_time": "2022-12-19T22:48:15.958Z"
   },
   {
    "duration": 4,
    "start_time": "2022-12-19T22:48:15.971Z"
   },
   {
    "duration": 46,
    "start_time": "2022-12-19T22:48:15.976Z"
   },
   {
    "duration": 799,
    "start_time": "2022-12-19T22:48:16.027Z"
   },
   {
    "duration": 635,
    "start_time": "2022-12-19T22:48:16.828Z"
   },
   {
    "duration": 762,
    "start_time": "2022-12-19T22:48:17.465Z"
   },
   {
    "duration": 650,
    "start_time": "2022-12-19T22:48:18.229Z"
   },
   {
    "duration": 1398,
    "start_time": "2022-12-19T22:48:18.881Z"
   },
   {
    "duration": 4,
    "start_time": "2022-12-19T22:48:20.280Z"
   },
   {
    "duration": 35,
    "start_time": "2022-12-19T22:48:20.301Z"
   },
   {
    "duration": 20,
    "start_time": "2022-12-19T22:48:20.337Z"
   },
   {
    "duration": 4953,
    "start_time": "2022-12-19T22:48:20.359Z"
   },
   {
    "duration": 24084,
    "start_time": "2022-12-19T22:48:25.320Z"
   },
   {
    "duration": 245329,
    "start_time": "2022-12-19T22:48:49.405Z"
   },
   {
    "duration": 962,
    "start_time": "2022-12-19T22:52:54.736Z"
   },
   {
    "duration": 0,
    "start_time": "2022-12-20T09:58:06.268Z"
   },
   {
    "duration": 0,
    "start_time": "2022-12-20T09:58:06.269Z"
   },
   {
    "duration": 0,
    "start_time": "2022-12-20T09:58:06.271Z"
   },
   {
    "duration": 0,
    "start_time": "2022-12-20T09:58:06.273Z"
   },
   {
    "duration": 0,
    "start_time": "2022-12-20T09:58:06.274Z"
   },
   {
    "duration": 0,
    "start_time": "2022-12-20T09:58:06.276Z"
   },
   {
    "duration": 0,
    "start_time": "2022-12-20T09:58:06.277Z"
   },
   {
    "duration": 0,
    "start_time": "2022-12-20T09:58:06.279Z"
   },
   {
    "duration": 0,
    "start_time": "2022-12-20T09:58:06.280Z"
   },
   {
    "duration": 0,
    "start_time": "2022-12-20T09:58:06.282Z"
   },
   {
    "duration": 0,
    "start_time": "2022-12-20T09:58:06.283Z"
   },
   {
    "duration": 0,
    "start_time": "2022-12-20T09:58:06.285Z"
   },
   {
    "duration": 0,
    "start_time": "2022-12-20T09:58:06.286Z"
   },
   {
    "duration": 0,
    "start_time": "2022-12-20T09:58:06.288Z"
   },
   {
    "duration": 0,
    "start_time": "2022-12-20T09:58:06.289Z"
   },
   {
    "duration": 0,
    "start_time": "2022-12-20T09:58:06.291Z"
   },
   {
    "duration": 0,
    "start_time": "2022-12-20T09:58:06.292Z"
   },
   {
    "duration": 0,
    "start_time": "2022-12-20T09:58:06.294Z"
   },
   {
    "duration": 0,
    "start_time": "2022-12-20T09:58:06.295Z"
   },
   {
    "duration": 0,
    "start_time": "2022-12-20T09:58:06.337Z"
   },
   {
    "duration": 0,
    "start_time": "2022-12-20T09:58:06.338Z"
   },
   {
    "duration": 0,
    "start_time": "2022-12-20T09:58:06.339Z"
   },
   {
    "duration": 0,
    "start_time": "2022-12-20T09:58:06.340Z"
   },
   {
    "duration": 0,
    "start_time": "2022-12-20T09:58:06.341Z"
   },
   {
    "duration": 0,
    "start_time": "2022-12-20T09:58:06.342Z"
   },
   {
    "duration": 0,
    "start_time": "2022-12-20T09:58:06.343Z"
   },
   {
    "duration": 0,
    "start_time": "2022-12-20T09:58:06.344Z"
   },
   {
    "duration": 0,
    "start_time": "2022-12-20T09:58:06.345Z"
   },
   {
    "duration": 1383,
    "start_time": "2022-12-20T09:58:38.186Z"
   },
   {
    "duration": 707,
    "start_time": "2022-12-20T09:58:39.571Z"
   },
   {
    "duration": 19,
    "start_time": "2022-12-20T09:58:40.280Z"
   },
   {
    "duration": 36,
    "start_time": "2022-12-20T09:58:40.301Z"
   },
   {
    "duration": 109,
    "start_time": "2022-12-20T09:58:40.339Z"
   },
   {
    "duration": 16,
    "start_time": "2022-12-20T09:58:40.450Z"
   },
   {
    "duration": 21,
    "start_time": "2022-12-20T09:58:40.468Z"
   },
   {
    "duration": 158,
    "start_time": "2022-12-20T09:58:40.490Z"
   },
   {
    "duration": 13,
    "start_time": "2022-12-20T09:58:40.649Z"
   },
   {
    "duration": 22,
    "start_time": "2022-12-20T09:58:40.666Z"
   },
   {
    "duration": 51,
    "start_time": "2022-12-20T09:58:40.690Z"
   },
   {
    "duration": 8,
    "start_time": "2022-12-20T09:58:40.744Z"
   },
   {
    "duration": 11,
    "start_time": "2022-12-20T09:58:40.753Z"
   },
   {
    "duration": 8,
    "start_time": "2022-12-20T09:58:40.765Z"
   },
   {
    "duration": 37,
    "start_time": "2022-12-20T09:58:40.775Z"
   },
   {
    "duration": 740,
    "start_time": "2022-12-20T09:58:40.814Z"
   },
   {
    "duration": 647,
    "start_time": "2022-12-20T09:58:41.556Z"
   },
   {
    "duration": 862,
    "start_time": "2022-12-20T09:58:42.205Z"
   },
   {
    "duration": 655,
    "start_time": "2022-12-20T09:58:43.069Z"
   },
   {
    "duration": 45,
    "start_time": "2022-12-20T09:58:43.725Z"
   },
   {
    "duration": 0,
    "start_time": "2022-12-20T09:58:43.772Z"
   },
   {
    "duration": 0,
    "start_time": "2022-12-20T09:58:43.774Z"
   },
   {
    "duration": 0,
    "start_time": "2022-12-20T09:58:43.775Z"
   },
   {
    "duration": 0,
    "start_time": "2022-12-20T09:58:43.776Z"
   },
   {
    "duration": 0,
    "start_time": "2022-12-20T09:58:43.777Z"
   },
   {
    "duration": 0,
    "start_time": "2022-12-20T09:58:43.778Z"
   },
   {
    "duration": 1,
    "start_time": "2022-12-20T09:58:43.779Z"
   },
   {
    "duration": 0,
    "start_time": "2022-12-20T09:58:43.781Z"
   },
   {
    "duration": 1396,
    "start_time": "2022-12-20T09:59:03.579Z"
   },
   {
    "duration": 705,
    "start_time": "2022-12-20T09:59:04.977Z"
   },
   {
    "duration": 19,
    "start_time": "2022-12-20T09:59:05.684Z"
   },
   {
    "duration": 37,
    "start_time": "2022-12-20T09:59:05.705Z"
   },
   {
    "duration": 115,
    "start_time": "2022-12-20T09:59:05.744Z"
   },
   {
    "duration": 17,
    "start_time": "2022-12-20T09:59:05.861Z"
   },
   {
    "duration": 30,
    "start_time": "2022-12-20T09:59:05.880Z"
   },
   {
    "duration": 155,
    "start_time": "2022-12-20T09:59:05.912Z"
   },
   {
    "duration": 13,
    "start_time": "2022-12-20T09:59:06.069Z"
   },
   {
    "duration": 34,
    "start_time": "2022-12-20T09:59:06.085Z"
   },
   {
    "duration": 52,
    "start_time": "2022-12-20T09:59:06.121Z"
   },
   {
    "duration": 19,
    "start_time": "2022-12-20T09:59:06.175Z"
   },
   {
    "duration": 16,
    "start_time": "2022-12-20T09:59:06.195Z"
   },
   {
    "duration": 10,
    "start_time": "2022-12-20T09:59:06.213Z"
   },
   {
    "duration": 50,
    "start_time": "2022-12-20T09:59:06.225Z"
   },
   {
    "duration": 734,
    "start_time": "2022-12-20T09:59:06.277Z"
   },
   {
    "duration": 611,
    "start_time": "2022-12-20T09:59:07.013Z"
   },
   {
    "duration": 742,
    "start_time": "2022-12-20T09:59:07.625Z"
   },
   {
    "duration": 646,
    "start_time": "2022-12-20T09:59:08.369Z"
   },
   {
    "duration": 1189,
    "start_time": "2022-12-20T09:59:09.017Z"
   },
   {
    "duration": 4,
    "start_time": "2022-12-20T09:59:10.208Z"
   },
   {
    "duration": 176,
    "start_time": "2022-12-20T09:59:10.214Z"
   },
   {
    "duration": 0,
    "start_time": "2022-12-20T09:59:10.392Z"
   },
   {
    "duration": 0,
    "start_time": "2022-12-20T09:59:10.393Z"
   },
   {
    "duration": 0,
    "start_time": "2022-12-20T09:59:10.394Z"
   },
   {
    "duration": 0,
    "start_time": "2022-12-20T09:59:10.396Z"
   },
   {
    "duration": 0,
    "start_time": "2022-12-20T09:59:10.397Z"
   },
   {
    "duration": 1450,
    "start_time": "2022-12-20T09:59:56.739Z"
   },
   {
    "duration": 696,
    "start_time": "2022-12-20T09:59:58.191Z"
   },
   {
    "duration": 20,
    "start_time": "2022-12-20T09:59:58.888Z"
   },
   {
    "duration": 38,
    "start_time": "2022-12-20T09:59:58.910Z"
   },
   {
    "duration": 114,
    "start_time": "2022-12-20T09:59:58.950Z"
   },
   {
    "duration": 17,
    "start_time": "2022-12-20T09:59:59.066Z"
   },
   {
    "duration": 20,
    "start_time": "2022-12-20T09:59:59.085Z"
   },
   {
    "duration": 158,
    "start_time": "2022-12-20T09:59:59.107Z"
   },
   {
    "duration": 14,
    "start_time": "2022-12-20T09:59:59.267Z"
   },
   {
    "duration": 27,
    "start_time": "2022-12-20T09:59:59.284Z"
   },
   {
    "duration": 58,
    "start_time": "2022-12-20T09:59:59.313Z"
   },
   {
    "duration": 9,
    "start_time": "2022-12-20T09:59:59.373Z"
   },
   {
    "duration": 30,
    "start_time": "2022-12-20T09:59:59.384Z"
   },
   {
    "duration": 54,
    "start_time": "2022-12-20T09:59:59.416Z"
   },
   {
    "duration": 59,
    "start_time": "2022-12-20T09:59:59.472Z"
   },
   {
    "duration": 720,
    "start_time": "2022-12-20T09:59:59.533Z"
   },
   {
    "duration": 625,
    "start_time": "2022-12-20T10:00:00.255Z"
   },
   {
    "duration": 774,
    "start_time": "2022-12-20T10:00:00.882Z"
   },
   {
    "duration": 550,
    "start_time": "2022-12-20T10:00:01.657Z"
   },
   {
    "duration": 1173,
    "start_time": "2022-12-20T10:00:02.209Z"
   },
   {
    "duration": 4,
    "start_time": "2022-12-20T10:00:03.384Z"
   },
   {
    "duration": 15,
    "start_time": "2022-12-20T10:00:03.390Z"
   },
   {
    "duration": 149,
    "start_time": "2022-12-20T10:00:03.407Z"
   },
   {
    "duration": 0,
    "start_time": "2022-12-20T10:00:03.558Z"
   },
   {
    "duration": 0,
    "start_time": "2022-12-20T10:00:03.560Z"
   },
   {
    "duration": 0,
    "start_time": "2022-12-20T10:00:03.561Z"
   },
   {
    "duration": 0,
    "start_time": "2022-12-20T10:00:03.562Z"
   },
   {
    "duration": 1543,
    "start_time": "2022-12-20T10:00:21.874Z"
   },
   {
    "duration": 765,
    "start_time": "2022-12-20T10:00:23.419Z"
   },
   {
    "duration": 22,
    "start_time": "2022-12-20T10:00:24.186Z"
   },
   {
    "duration": 39,
    "start_time": "2022-12-20T10:00:24.215Z"
   },
   {
    "duration": 128,
    "start_time": "2022-12-20T10:00:24.256Z"
   },
   {
    "duration": 17,
    "start_time": "2022-12-20T10:00:24.387Z"
   },
   {
    "duration": 46,
    "start_time": "2022-12-20T10:00:24.407Z"
   },
   {
    "duration": 149,
    "start_time": "2022-12-20T10:00:24.455Z"
   },
   {
    "duration": 13,
    "start_time": "2022-12-20T10:00:24.606Z"
   },
   {
    "duration": 20,
    "start_time": "2022-12-20T10:00:24.636Z"
   },
   {
    "duration": 38,
    "start_time": "2022-12-20T10:00:24.658Z"
   },
   {
    "duration": 8,
    "start_time": "2022-12-20T10:00:24.698Z"
   },
   {
    "duration": 12,
    "start_time": "2022-12-20T10:00:24.707Z"
   },
   {
    "duration": 25,
    "start_time": "2022-12-20T10:00:24.721Z"
   },
   {
    "duration": 35,
    "start_time": "2022-12-20T10:00:24.748Z"
   },
   {
    "duration": 743,
    "start_time": "2022-12-20T10:00:24.785Z"
   },
   {
    "duration": 670,
    "start_time": "2022-12-20T10:00:25.530Z"
   },
   {
    "duration": 802,
    "start_time": "2022-12-20T10:00:26.201Z"
   },
   {
    "duration": 638,
    "start_time": "2022-12-20T10:00:27.005Z"
   },
   {
    "duration": 1259,
    "start_time": "2022-12-20T10:00:27.645Z"
   },
   {
    "duration": 4,
    "start_time": "2022-12-20T10:00:28.905Z"
   },
   {
    "duration": 38,
    "start_time": "2022-12-20T10:00:28.910Z"
   },
   {
    "duration": 56,
    "start_time": "2022-12-20T10:00:28.950Z"
   },
   {
    "duration": 4235,
    "start_time": "2022-12-20T10:00:29.008Z"
   },
   {
    "duration": 26577,
    "start_time": "2022-12-20T10:00:33.245Z"
   },
   {
    "duration": 256723,
    "start_time": "2022-12-20T10:00:59.823Z"
   },
   {
    "duration": 2693,
    "start_time": "2022-12-20T10:05:16.548Z"
   },
   {
    "duration": 5311,
    "start_time": "2022-12-20T10:06:40.792Z"
   },
   {
    "duration": 5105,
    "start_time": "2022-12-20T10:07:07.008Z"
   },
   {
    "duration": 1387,
    "start_time": "2022-12-20T10:22:30.148Z"
   },
   {
    "duration": 773,
    "start_time": "2022-12-20T10:22:31.537Z"
   },
   {
    "duration": 25,
    "start_time": "2022-12-20T10:22:32.311Z"
   },
   {
    "duration": 32,
    "start_time": "2022-12-20T10:22:32.338Z"
   },
   {
    "duration": 144,
    "start_time": "2022-12-20T10:22:32.371Z"
   },
   {
    "duration": 27,
    "start_time": "2022-12-20T10:22:32.517Z"
   },
   {
    "duration": 27,
    "start_time": "2022-12-20T10:22:32.546Z"
   },
   {
    "duration": 164,
    "start_time": "2022-12-20T10:22:32.576Z"
   },
   {
    "duration": 14,
    "start_time": "2022-12-20T10:22:32.742Z"
   },
   {
    "duration": 21,
    "start_time": "2022-12-20T10:22:32.759Z"
   },
   {
    "duration": 53,
    "start_time": "2022-12-20T10:22:32.782Z"
   },
   {
    "duration": 8,
    "start_time": "2022-12-20T10:22:32.838Z"
   },
   {
    "duration": 10,
    "start_time": "2022-12-20T10:22:32.847Z"
   },
   {
    "duration": 15,
    "start_time": "2022-12-20T10:22:32.859Z"
   },
   {
    "duration": 45,
    "start_time": "2022-12-20T10:22:32.875Z"
   },
   {
    "duration": 718,
    "start_time": "2022-12-20T10:22:32.922Z"
   },
   {
    "duration": 631,
    "start_time": "2022-12-20T10:22:33.642Z"
   },
   {
    "duration": 748,
    "start_time": "2022-12-20T10:22:34.274Z"
   },
   {
    "duration": 575,
    "start_time": "2022-12-20T10:22:35.023Z"
   },
   {
    "duration": 1217,
    "start_time": "2022-12-20T10:22:35.600Z"
   },
   {
    "duration": 3,
    "start_time": "2022-12-20T10:22:36.819Z"
   },
   {
    "duration": 14,
    "start_time": "2022-12-20T10:22:36.824Z"
   },
   {
    "duration": 46,
    "start_time": "2022-12-20T10:22:36.840Z"
   },
   {
    "duration": 3158,
    "start_time": "2022-12-20T10:22:36.888Z"
   },
   {
    "duration": 25844,
    "start_time": "2022-12-20T10:22:40.136Z"
   },
   {
    "duration": 257849,
    "start_time": "2022-12-20T10:23:05.981Z"
   },
   {
    "duration": 5319,
    "start_time": "2022-12-20T10:27:23.834Z"
   },
   {
    "duration": 1491,
    "start_time": "2022-12-20T20:01:20.335Z"
   },
   {
    "duration": 1989,
    "start_time": "2022-12-20T20:01:21.828Z"
   },
   {
    "duration": 18,
    "start_time": "2022-12-20T20:01:23.819Z"
   },
   {
    "duration": 23,
    "start_time": "2022-12-20T20:01:23.839Z"
   },
   {
    "duration": 127,
    "start_time": "2022-12-20T20:01:23.864Z"
   },
   {
    "duration": 20,
    "start_time": "2022-12-20T20:01:23.993Z"
   },
   {
    "duration": 28,
    "start_time": "2022-12-20T20:01:24.016Z"
   },
   {
    "duration": 158,
    "start_time": "2022-12-20T20:01:24.046Z"
   },
   {
    "duration": 12,
    "start_time": "2022-12-20T20:01:24.206Z"
   },
   {
    "duration": 21,
    "start_time": "2022-12-20T20:01:24.221Z"
   },
   {
    "duration": 39,
    "start_time": "2022-12-20T20:01:24.243Z"
   },
   {
    "duration": 7,
    "start_time": "2022-12-20T20:01:24.284Z"
   },
   {
    "duration": 7,
    "start_time": "2022-12-20T20:01:24.292Z"
   },
   {
    "duration": 6,
    "start_time": "2022-12-20T20:01:24.301Z"
   },
   {
    "duration": 25,
    "start_time": "2022-12-20T20:01:24.308Z"
   },
   {
    "duration": 667,
    "start_time": "2022-12-20T20:01:24.335Z"
   },
   {
    "duration": 583,
    "start_time": "2022-12-20T20:01:25.004Z"
   },
   {
    "duration": 754,
    "start_time": "2022-12-20T20:01:25.588Z"
   },
   {
    "duration": 572,
    "start_time": "2022-12-20T20:01:26.344Z"
   },
   {
    "duration": 1181,
    "start_time": "2022-12-20T20:01:26.917Z"
   },
   {
    "duration": 3,
    "start_time": "2022-12-20T20:01:28.099Z"
   },
   {
    "duration": 8,
    "start_time": "2022-12-20T20:01:28.104Z"
   },
   {
    "duration": 53,
    "start_time": "2022-12-20T20:01:28.114Z"
   },
   {
    "duration": 2813,
    "start_time": "2022-12-20T20:01:28.168Z"
   },
   {
    "duration": 23517,
    "start_time": "2022-12-20T20:01:30.983Z"
   },
   {
    "duration": 228379,
    "start_time": "2022-12-20T20:01:54.502Z"
   },
   {
    "duration": 4930,
    "start_time": "2022-12-20T20:05:42.883Z"
   },
   {
    "duration": 1370,
    "start_time": "2022-12-20T20:10:29.500Z"
   },
   {
    "duration": 621,
    "start_time": "2022-12-20T20:10:30.872Z"
   },
   {
    "duration": 19,
    "start_time": "2022-12-20T20:10:31.495Z"
   },
   {
    "duration": 24,
    "start_time": "2022-12-20T20:10:31.516Z"
   },
   {
    "duration": 118,
    "start_time": "2022-12-20T20:10:31.542Z"
   },
   {
    "duration": 27,
    "start_time": "2022-12-20T20:10:31.661Z"
   },
   {
    "duration": 21,
    "start_time": "2022-12-20T20:10:31.690Z"
   },
   {
    "duration": 133,
    "start_time": "2022-12-20T20:10:31.713Z"
   },
   {
    "duration": 12,
    "start_time": "2022-12-20T20:10:31.848Z"
   },
   {
    "duration": 30,
    "start_time": "2022-12-20T20:10:31.864Z"
   },
   {
    "duration": 22,
    "start_time": "2022-12-20T20:10:31.896Z"
   },
   {
    "duration": 7,
    "start_time": "2022-12-20T20:10:31.920Z"
   },
   {
    "duration": 5,
    "start_time": "2022-12-20T20:10:31.929Z"
   },
   {
    "duration": 17,
    "start_time": "2022-12-20T20:10:31.935Z"
   },
   {
    "duration": 46,
    "start_time": "2022-12-20T20:10:31.954Z"
   },
   {
    "duration": 670,
    "start_time": "2022-12-20T20:10:32.002Z"
   },
   {
    "duration": 604,
    "start_time": "2022-12-20T20:10:32.673Z"
   },
   {
    "duration": 691,
    "start_time": "2022-12-20T20:10:33.279Z"
   },
   {
    "duration": 630,
    "start_time": "2022-12-20T20:10:33.972Z"
   },
   {
    "duration": 1211,
    "start_time": "2022-12-20T20:10:34.604Z"
   },
   {
    "duration": 31,
    "start_time": "2022-12-20T20:10:35.817Z"
   },
   {
    "duration": 36,
    "start_time": "2022-12-20T20:10:35.849Z"
   },
   {
    "duration": 4,
    "start_time": "2022-12-20T20:10:35.886Z"
   },
   {
    "duration": 8,
    "start_time": "2022-12-20T20:10:35.892Z"
   },
   {
    "duration": 32,
    "start_time": "2022-12-20T20:10:35.902Z"
   },
   {
    "duration": 2343,
    "start_time": "2022-12-20T20:10:35.936Z"
   },
   {
    "duration": 22204,
    "start_time": "2022-12-20T20:10:38.282Z"
   },
   {
    "duration": 1324,
    "start_time": "2022-12-20T20:17:29.025Z"
   },
   {
    "duration": 679,
    "start_time": "2022-12-20T20:17:30.351Z"
   },
   {
    "duration": 20,
    "start_time": "2022-12-20T20:17:31.033Z"
   },
   {
    "duration": 40,
    "start_time": "2022-12-20T20:17:31.055Z"
   },
   {
    "duration": 128,
    "start_time": "2022-12-20T20:17:31.097Z"
   },
   {
    "duration": 16,
    "start_time": "2022-12-20T20:17:31.226Z"
   },
   {
    "duration": 48,
    "start_time": "2022-12-20T20:17:31.244Z"
   },
   {
    "duration": 155,
    "start_time": "2022-12-20T20:17:31.294Z"
   },
   {
    "duration": 16,
    "start_time": "2022-12-20T20:17:31.451Z"
   },
   {
    "duration": 53,
    "start_time": "2022-12-20T20:17:31.477Z"
   },
   {
    "duration": 81,
    "start_time": "2022-12-20T20:17:31.532Z"
   },
   {
    "duration": 35,
    "start_time": "2022-12-20T20:17:31.615Z"
   },
   {
    "duration": 45,
    "start_time": "2022-12-20T20:17:31.652Z"
   },
   {
    "duration": 33,
    "start_time": "2022-12-20T20:17:31.698Z"
   },
   {
    "duration": 38,
    "start_time": "2022-12-20T20:17:31.733Z"
   },
   {
    "duration": 657,
    "start_time": "2022-12-20T20:17:31.772Z"
   },
   {
    "duration": 634,
    "start_time": "2022-12-20T20:17:32.431Z"
   },
   {
    "duration": 741,
    "start_time": "2022-12-20T20:17:33.067Z"
   },
   {
    "duration": 531,
    "start_time": "2022-12-20T20:17:33.811Z"
   },
   {
    "duration": 1189,
    "start_time": "2022-12-20T20:17:34.344Z"
   },
   {
    "duration": 4,
    "start_time": "2022-12-20T20:17:35.535Z"
   },
   {
    "duration": 7,
    "start_time": "2022-12-20T20:17:35.540Z"
   },
   {
    "duration": 0,
    "start_time": "2022-12-20T20:17:35.549Z"
   },
   {
    "duration": 0,
    "start_time": "2022-12-20T20:17:35.551Z"
   },
   {
    "duration": 0,
    "start_time": "2022-12-20T20:17:35.552Z"
   },
   {
    "duration": 0,
    "start_time": "2022-12-20T20:17:35.553Z"
   },
   {
    "duration": 0,
    "start_time": "2022-12-20T20:17:35.553Z"
   },
   {
    "duration": 0,
    "start_time": "2022-12-20T20:17:35.555Z"
   },
   {
    "duration": 0,
    "start_time": "2022-12-20T20:17:35.577Z"
   },
   {
    "duration": 0,
    "start_time": "2022-12-20T20:17:35.579Z"
   },
   {
    "duration": 0,
    "start_time": "2022-12-20T20:17:35.580Z"
   },
   {
    "duration": 1386,
    "start_time": "2022-12-20T20:18:03.026Z"
   },
   {
    "duration": 662,
    "start_time": "2022-12-20T20:18:04.414Z"
   },
   {
    "duration": 20,
    "start_time": "2022-12-20T20:18:05.078Z"
   },
   {
    "duration": 24,
    "start_time": "2022-12-20T20:18:05.101Z"
   },
   {
    "duration": 119,
    "start_time": "2022-12-20T20:18:05.127Z"
   },
   {
    "duration": 16,
    "start_time": "2022-12-20T20:18:05.248Z"
   },
   {
    "duration": 31,
    "start_time": "2022-12-20T20:18:05.265Z"
   },
   {
    "duration": 132,
    "start_time": "2022-12-20T20:18:05.297Z"
   },
   {
    "duration": 16,
    "start_time": "2022-12-20T20:18:05.432Z"
   },
   {
    "duration": 31,
    "start_time": "2022-12-20T20:18:05.451Z"
   },
   {
    "duration": 22,
    "start_time": "2022-12-20T20:18:05.483Z"
   },
   {
    "duration": 7,
    "start_time": "2022-12-20T20:18:05.506Z"
   },
   {
    "duration": 6,
    "start_time": "2022-12-20T20:18:05.515Z"
   },
   {
    "duration": 7,
    "start_time": "2022-12-20T20:18:05.523Z"
   },
   {
    "duration": 58,
    "start_time": "2022-12-20T20:18:05.532Z"
   },
   {
    "duration": 729,
    "start_time": "2022-12-20T20:18:05.592Z"
   },
   {
    "duration": 605,
    "start_time": "2022-12-20T20:18:06.323Z"
   },
   {
    "duration": 709,
    "start_time": "2022-12-20T20:18:06.931Z"
   },
   {
    "duration": 577,
    "start_time": "2022-12-20T20:18:07.641Z"
   },
   {
    "duration": 1201,
    "start_time": "2022-12-20T20:18:08.219Z"
   },
   {
    "duration": 5,
    "start_time": "2022-12-20T20:18:09.422Z"
   },
   {
    "duration": 36,
    "start_time": "2022-12-20T20:18:09.429Z"
   },
   {
    "duration": 1275,
    "start_time": "2022-12-20T20:18:09.467Z"
   },
   {
    "duration": 0,
    "start_time": "2022-12-20T20:18:10.744Z"
   },
   {
    "duration": 0,
    "start_time": "2022-12-20T20:18:10.745Z"
   },
   {
    "duration": 0,
    "start_time": "2022-12-20T20:18:10.747Z"
   },
   {
    "duration": 0,
    "start_time": "2022-12-20T20:18:10.748Z"
   },
   {
    "duration": 0,
    "start_time": "2022-12-20T20:18:10.750Z"
   },
   {
    "duration": 0,
    "start_time": "2022-12-20T20:18:10.751Z"
   },
   {
    "duration": 0,
    "start_time": "2022-12-20T20:18:10.752Z"
   },
   {
    "duration": 0,
    "start_time": "2022-12-20T20:18:10.753Z"
   },
   {
    "duration": 1400,
    "start_time": "2022-12-20T20:19:55.169Z"
   },
   {
    "duration": 653,
    "start_time": "2022-12-20T20:19:56.571Z"
   },
   {
    "duration": 22,
    "start_time": "2022-12-20T20:19:57.226Z"
   },
   {
    "duration": 36,
    "start_time": "2022-12-20T20:19:57.251Z"
   },
   {
    "duration": 102,
    "start_time": "2022-12-20T20:19:57.288Z"
   },
   {
    "duration": 15,
    "start_time": "2022-12-20T20:19:57.392Z"
   },
   {
    "duration": 25,
    "start_time": "2022-12-20T20:19:57.409Z"
   },
   {
    "duration": 144,
    "start_time": "2022-12-20T20:19:57.435Z"
   },
   {
    "duration": 12,
    "start_time": "2022-12-20T20:19:57.581Z"
   },
   {
    "duration": 24,
    "start_time": "2022-12-20T20:19:57.595Z"
   },
   {
    "duration": 27,
    "start_time": "2022-12-20T20:19:57.621Z"
   },
   {
    "duration": 7,
    "start_time": "2022-12-20T20:19:57.649Z"
   },
   {
    "duration": 4,
    "start_time": "2022-12-20T20:19:57.679Z"
   },
   {
    "duration": 7,
    "start_time": "2022-12-20T20:19:57.684Z"
   },
   {
    "duration": 29,
    "start_time": "2022-12-20T20:19:57.693Z"
   },
   {
    "duration": 706,
    "start_time": "2022-12-20T20:19:57.724Z"
   },
   {
    "duration": 563,
    "start_time": "2022-12-20T20:19:58.432Z"
   },
   {
    "duration": 712,
    "start_time": "2022-12-20T20:19:58.996Z"
   },
   {
    "duration": 549,
    "start_time": "2022-12-20T20:19:59.709Z"
   },
   {
    "duration": 1173,
    "start_time": "2022-12-20T20:20:00.260Z"
   },
   {
    "duration": 4,
    "start_time": "2022-12-20T20:20:01.435Z"
   },
   {
    "duration": 58,
    "start_time": "2022-12-20T20:20:01.441Z"
   },
   {
    "duration": 51,
    "start_time": "2022-12-20T20:20:01.501Z"
   },
   {
    "duration": 1145,
    "start_time": "2022-12-20T20:20:01.554Z"
   },
   {
    "duration": 3,
    "start_time": "2022-12-20T20:20:02.700Z"
   },
   {
    "duration": 35,
    "start_time": "2022-12-20T20:20:02.705Z"
   },
   {
    "duration": 50,
    "start_time": "2022-12-20T20:20:02.742Z"
   },
   {
    "duration": 2687,
    "start_time": "2022-12-20T20:20:02.794Z"
   },
   {
    "duration": 22705,
    "start_time": "2022-12-20T20:20:05.483Z"
   },
   {
    "duration": 1328062,
    "start_time": "2022-12-20T20:20:28.189Z"
   },
   {
    "duration": 4455,
    "start_time": "2022-12-20T20:42:36.253Z"
   },
   {
    "duration": 1575,
    "start_time": "2022-12-20T20:43:17.308Z"
   },
   {
    "duration": 107,
    "start_time": "2022-12-20T20:48:20.910Z"
   },
   {
    "duration": 3,
    "start_time": "2022-12-20T20:48:45.383Z"
   },
   {
    "duration": 10,
    "start_time": "2022-12-20T20:48:51.191Z"
   },
   {
    "duration": 68,
    "start_time": "2022-12-20T20:51:57.003Z"
   },
   {
    "duration": 1456,
    "start_time": "2022-12-20T20:52:58.846Z"
   },
   {
    "duration": 688,
    "start_time": "2022-12-20T20:53:00.304Z"
   },
   {
    "duration": 20,
    "start_time": "2022-12-20T20:53:00.994Z"
   },
   {
    "duration": 33,
    "start_time": "2022-12-20T20:53:01.016Z"
   },
   {
    "duration": 112,
    "start_time": "2022-12-20T20:53:01.050Z"
   },
   {
    "duration": 19,
    "start_time": "2022-12-20T20:53:01.163Z"
   },
   {
    "duration": 57,
    "start_time": "2022-12-20T20:53:01.184Z"
   },
   {
    "duration": 127,
    "start_time": "2022-12-20T20:53:01.242Z"
   },
   {
    "duration": 17,
    "start_time": "2022-12-20T20:53:01.370Z"
   },
   {
    "duration": 30,
    "start_time": "2022-12-20T20:53:01.389Z"
   },
   {
    "duration": 35,
    "start_time": "2022-12-20T20:53:01.420Z"
   },
   {
    "duration": 11,
    "start_time": "2022-12-20T20:53:01.457Z"
   },
   {
    "duration": 15,
    "start_time": "2022-12-20T20:53:01.469Z"
   },
   {
    "duration": 23,
    "start_time": "2022-12-20T20:53:01.486Z"
   },
   {
    "duration": 37,
    "start_time": "2022-12-20T20:53:01.511Z"
   },
   {
    "duration": 668,
    "start_time": "2022-12-20T20:53:01.550Z"
   },
   {
    "duration": 576,
    "start_time": "2022-12-20T20:53:02.220Z"
   },
   {
    "duration": 751,
    "start_time": "2022-12-20T20:53:02.798Z"
   },
   {
    "duration": 661,
    "start_time": "2022-12-20T20:53:03.551Z"
   },
   {
    "duration": 1202,
    "start_time": "2022-12-20T20:53:04.213Z"
   },
   {
    "duration": 3,
    "start_time": "2022-12-20T20:53:05.416Z"
   },
   {
    "duration": 33,
    "start_time": "2022-12-20T20:53:05.421Z"
   },
   {
    "duration": 32,
    "start_time": "2022-12-20T20:53:05.456Z"
   },
   {
    "duration": 1206,
    "start_time": "2022-12-20T20:53:05.489Z"
   },
   {
    "duration": 3,
    "start_time": "2022-12-20T20:53:06.697Z"
   },
   {
    "duration": 8,
    "start_time": "2022-12-20T20:53:06.702Z"
   },
   {
    "duration": 38,
    "start_time": "2022-12-20T20:53:06.711Z"
   },
   {
    "duration": 2930,
    "start_time": "2022-12-20T20:53:06.752Z"
   },
   {
    "duration": 21861,
    "start_time": "2022-12-20T20:53:09.684Z"
   },
   {
    "duration": 5,
    "start_time": "2022-12-20T20:53:31.546Z"
   },
   {
    "duration": 1626,
    "start_time": "2022-12-20T20:53:31.553Z"
   },
   {
    "duration": 8,
    "start_time": "2022-12-20T20:53:33.181Z"
   }
  ],
  "kernelspec": {
   "display_name": "Python 3 (ipykernel)",
   "language": "python",
   "name": "python3"
  },
  "language_info": {
   "codemirror_mode": {
    "name": "ipython",
    "version": 3
   },
   "file_extension": ".py",
   "mimetype": "text/x-python",
   "name": "python",
   "nbconvert_exporter": "python",
   "pygments_lexer": "ipython3",
   "version": "3.9.5"
  },
  "toc": {
   "base_numbering": 1,
   "nav_menu": {},
   "number_sections": true,
   "sideBar": true,
   "skip_h1_title": true,
   "title_cell": "Содержание",
   "title_sidebar": "Contents",
   "toc_cell": true,
   "toc_position": {
    "height": "calc(100% - 180px)",
    "left": "10px",
    "top": "150px",
    "width": "275.104px"
   },
   "toc_section_display": true,
   "toc_window_display": true
  }
 },
 "nbformat": 4,
 "nbformat_minor": 2
}
