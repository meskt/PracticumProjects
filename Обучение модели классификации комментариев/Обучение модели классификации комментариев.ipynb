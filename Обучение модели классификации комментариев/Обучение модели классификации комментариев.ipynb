{
 "cells": [
  {
   "cell_type": "markdown",
   "metadata": {
    "toc": true
   },
   "source": [
    "<h1>Содержание<span class=\"tocSkip\"></span></h1>\n",
    "<div class=\"toc\"><ul class=\"toc-item\"><li><ul class=\"toc-item\"><li><span><a href=\"#Общее-впечатление\" data-toc-modified-id=\"Общее-впечатление-0.1\"><span class=\"toc-item-num\">0.1&nbsp;&nbsp;</span><font color=\"orange\">Общее впечатление</font></a></span></li><li><span><a href=\"#Общее-впечатление-(ревью-2)\" data-toc-modified-id=\"Общее-впечатление-(ревью-2)-0.2\"><span class=\"toc-item-num\">0.2&nbsp;&nbsp;</span><font color=\"orange\">Общее впечатление (ревью 2)</font></a></span></li></ul></li><li><span><a href=\"#Подготовка\" data-toc-modified-id=\"Подготовка-1\"><span class=\"toc-item-num\">1&nbsp;&nbsp;</span>Подготовка</a></span><ul class=\"toc-item\"><li><span><a href=\"#Загрузка-данных\" data-toc-modified-id=\"Загрузка-данных-1.1\"><span class=\"toc-item-num\">1.1&nbsp;&nbsp;</span>Загрузка данных</a></span></li><li><span><a href=\"#Обработка-текста\" data-toc-modified-id=\"Обработка-текста-1.2\"><span class=\"toc-item-num\">1.2&nbsp;&nbsp;</span>Обработка текста</a></span></li></ul></li><li><span><a href=\"#Обучение\" data-toc-modified-id=\"Обучение-2\"><span class=\"toc-item-num\">2&nbsp;&nbsp;</span>Обучение</a></span><ul class=\"toc-item\"><li><span><a href=\"#LogisticRegression\" data-toc-modified-id=\"LogisticRegression-2.1\"><span class=\"toc-item-num\">2.1&nbsp;&nbsp;</span>LogisticRegression</a></span></li><li><span><a href=\"#RandomForestClassifier\" data-toc-modified-id=\"RandomForestClassifier-2.2\"><span class=\"toc-item-num\">2.2&nbsp;&nbsp;</span>RandomForestClassifier</a></span></li><li><span><a href=\"#CatBoostClassifier\" data-toc-modified-id=\"CatBoostClassifier-2.3\"><span class=\"toc-item-num\">2.3&nbsp;&nbsp;</span>CatBoostClassifier</a></span></li></ul></li><li><span><a href=\"#Тестирование\" data-toc-modified-id=\"Тестирование-3\"><span class=\"toc-item-num\">3&nbsp;&nbsp;</span>Тестирование</a></span></li><li><span><a href=\"#Выводы\" data-toc-modified-id=\"Выводы-4\"><span class=\"toc-item-num\">4&nbsp;&nbsp;</span>Выводы</a></span></li><li><span><a href=\"#Чек-лист-проверки\" data-toc-modified-id=\"Чек-лист-проверки-5\"><span class=\"toc-item-num\">5&nbsp;&nbsp;</span>Чек-лист проверки</a></span></li></ul></div>"
   ]
  },
  {
   "cell_type": "markdown",
   "metadata": {},
   "source": [
    "# Проект для «Викишоп»"
   ]
  },
  {
   "cell_type": "markdown",
   "metadata": {},
   "source": [
    "Интернет-магазин «Викишоп» запускает новый сервис. Теперь пользователи могут редактировать и дополнять описания товаров, как в вики-сообществах. То есть клиенты предлагают свои правки и комментируют изменения других. Магазину нужен инструмент, который будет искать токсичные комментарии и отправлять их на модерацию. \n",
    "\n",
    "Обучите модель классифицировать комментарии на позитивные и негативные. В вашем распоряжении набор данных с разметкой о токсичности правок.\n",
    "\n",
    "Постройте модель со значением метрики качества *F1* не меньше 0.75. \n",
    "\n",
    "**Инструкция по выполнению проекта**\n",
    "\n",
    "1. Загрузите и подготовьте данные.\n",
    "2. Обучите разные модели. \n",
    "3. Сделайте выводы.\n",
    "\n",
    "Для выполнения проекта применять *BERT* необязательно, но вы можете попробовать.\n",
    "\n",
    "**Описание данных**\n",
    "\n",
    "Данные находятся в файле `toxic_comments.csv`. Столбец *text* в нём содержит текст комментария, а *toxic* — целевой признак."
   ]
  },
  {
   "cell_type": "markdown",
   "metadata": {},
   "source": [
    "## Подготовка"
   ]
  },
  {
   "cell_type": "markdown",
   "metadata": {},
   "source": [
    "### Загрузка данных"
   ]
  },
  {
   "cell_type": "code",
   "execution_count": 1,
   "metadata": {},
   "outputs": [],
   "source": [
    "import pandas as pd\n",
    "import re\n",
    "from nltk.stem.wordnet import WordNetLemmatizer\n",
    "from nltk.corpus import stopwords\n",
    "import nltk\n",
    "from sklearn.feature_extraction.text import TfidfVectorizer\n",
    "from sklearn.model_selection import train_test_split, GridSearchCV\n",
    "from sklearn.linear_model import LogisticRegression\n",
    "from sklearn.metrics import f1_score\n",
    "from sklearn.ensemble import RandomForestClassifier\n",
    "from catboost import CatBoostClassifier\n",
    "from sklearn.metrics import f1_score\n",
    "\n",
    "import warnings\n",
    "warnings.filterwarnings('ignore')"
   ]
  },
  {
   "cell_type": "code",
   "execution_count": 2,
   "metadata": {},
   "outputs": [
    {
     "name": "stdout",
     "output_type": "stream",
     "text": [
      "<class 'pandas.core.frame.DataFrame'>\n",
      "RangeIndex: 159292 entries, 0 to 159291\n",
      "Data columns (total 3 columns):\n",
      " #   Column      Non-Null Count   Dtype \n",
      "---  ------      --------------   ----- \n",
      " 0   Unnamed: 0  159292 non-null  int64 \n",
      " 1   text        159292 non-null  object\n",
      " 2   toxic       159292 non-null  int64 \n",
      "dtypes: int64(2), object(1)\n",
      "memory usage: 3.6+ MB\n"
     ]
    }
   ],
   "source": [
    "data = pd.read_csv('/datasets/toxic_comments.csv')\n",
    "data.info()"
   ]
  },
  {
   "cell_type": "code",
   "execution_count": 3,
   "metadata": {},
   "outputs": [
    {
     "data": {
      "text/plain": [
       "Unnamed: 0    0\n",
       "text          0\n",
       "toxic         0\n",
       "dtype: int64"
      ]
     },
     "execution_count": 3,
     "metadata": {},
     "output_type": "execute_result"
    }
   ],
   "source": [
    "data.isna().sum()"
   ]
  },
  {
   "cell_type": "code",
   "execution_count": 4,
   "metadata": {},
   "outputs": [
    {
     "data": {
      "text/plain": [
       "0"
      ]
     },
     "execution_count": 4,
     "metadata": {},
     "output_type": "execute_result"
    }
   ],
   "source": [
    "data.duplicated().sum()"
   ]
  },
  {
   "cell_type": "code",
   "execution_count": 5,
   "metadata": {
    "scrolled": true
   },
   "outputs": [
    {
     "data": {
      "text/html": [
       "<div>\n",
       "<style scoped>\n",
       "    .dataframe tbody tr th:only-of-type {\n",
       "        vertical-align: middle;\n",
       "    }\n",
       "\n",
       "    .dataframe tbody tr th {\n",
       "        vertical-align: top;\n",
       "    }\n",
       "\n",
       "    .dataframe thead th {\n",
       "        text-align: right;\n",
       "    }\n",
       "</style>\n",
       "<table border=\"1\" class=\"dataframe\">\n",
       "  <thead>\n",
       "    <tr style=\"text-align: right;\">\n",
       "      <th></th>\n",
       "      <th>Unnamed: 0</th>\n",
       "      <th>toxic</th>\n",
       "    </tr>\n",
       "  </thead>\n",
       "  <tbody>\n",
       "    <tr>\n",
       "      <th>count</th>\n",
       "      <td>159292.000000</td>\n",
       "      <td>159292.000000</td>\n",
       "    </tr>\n",
       "    <tr>\n",
       "      <th>mean</th>\n",
       "      <td>79725.697242</td>\n",
       "      <td>0.101612</td>\n",
       "    </tr>\n",
       "    <tr>\n",
       "      <th>std</th>\n",
       "      <td>46028.837471</td>\n",
       "      <td>0.302139</td>\n",
       "    </tr>\n",
       "    <tr>\n",
       "      <th>min</th>\n",
       "      <td>0.000000</td>\n",
       "      <td>0.000000</td>\n",
       "    </tr>\n",
       "    <tr>\n",
       "      <th>25%</th>\n",
       "      <td>39872.750000</td>\n",
       "      <td>0.000000</td>\n",
       "    </tr>\n",
       "    <tr>\n",
       "      <th>50%</th>\n",
       "      <td>79721.500000</td>\n",
       "      <td>0.000000</td>\n",
       "    </tr>\n",
       "    <tr>\n",
       "      <th>75%</th>\n",
       "      <td>119573.250000</td>\n",
       "      <td>0.000000</td>\n",
       "    </tr>\n",
       "    <tr>\n",
       "      <th>max</th>\n",
       "      <td>159450.000000</td>\n",
       "      <td>1.000000</td>\n",
       "    </tr>\n",
       "  </tbody>\n",
       "</table>\n",
       "</div>"
      ],
      "text/plain": [
       "          Unnamed: 0          toxic\n",
       "count  159292.000000  159292.000000\n",
       "mean    79725.697242       0.101612\n",
       "std     46028.837471       0.302139\n",
       "min         0.000000       0.000000\n",
       "25%     39872.750000       0.000000\n",
       "50%     79721.500000       0.000000\n",
       "75%    119573.250000       0.000000\n",
       "max    159450.000000       1.000000"
      ]
     },
     "execution_count": 5,
     "metadata": {},
     "output_type": "execute_result"
    }
   ],
   "source": [
    "data.describe()"
   ]
  },
  {
   "cell_type": "code",
   "execution_count": 6,
   "metadata": {
    "scrolled": true
   },
   "outputs": [
    {
     "data": {
      "text/html": [
       "<div>\n",
       "<style scoped>\n",
       "    .dataframe tbody tr th:only-of-type {\n",
       "        vertical-align: middle;\n",
       "    }\n",
       "\n",
       "    .dataframe tbody tr th {\n",
       "        vertical-align: top;\n",
       "    }\n",
       "\n",
       "    .dataframe thead th {\n",
       "        text-align: right;\n",
       "    }\n",
       "</style>\n",
       "<table border=\"1\" class=\"dataframe\">\n",
       "  <thead>\n",
       "    <tr style=\"text-align: right;\">\n",
       "      <th></th>\n",
       "      <th>Unnamed: 0</th>\n",
       "      <th>text</th>\n",
       "      <th>toxic</th>\n",
       "    </tr>\n",
       "  </thead>\n",
       "  <tbody>\n",
       "    <tr>\n",
       "      <th>0</th>\n",
       "      <td>0</td>\n",
       "      <td>Explanation\\nWhy the edits made under my usern...</td>\n",
       "      <td>0</td>\n",
       "    </tr>\n",
       "    <tr>\n",
       "      <th>1</th>\n",
       "      <td>1</td>\n",
       "      <td>D'aww! He matches this background colour I'm s...</td>\n",
       "      <td>0</td>\n",
       "    </tr>\n",
       "    <tr>\n",
       "      <th>2</th>\n",
       "      <td>2</td>\n",
       "      <td>Hey man, I'm really not trying to edit war. It...</td>\n",
       "      <td>0</td>\n",
       "    </tr>\n",
       "    <tr>\n",
       "      <th>3</th>\n",
       "      <td>3</td>\n",
       "      <td>\"\\nMore\\nI can't make any real suggestions on ...</td>\n",
       "      <td>0</td>\n",
       "    </tr>\n",
       "    <tr>\n",
       "      <th>4</th>\n",
       "      <td>4</td>\n",
       "      <td>You, sir, are my hero. Any chance you remember...</td>\n",
       "      <td>0</td>\n",
       "    </tr>\n",
       "  </tbody>\n",
       "</table>\n",
       "</div>"
      ],
      "text/plain": [
       "   Unnamed: 0                                               text  toxic\n",
       "0           0  Explanation\\nWhy the edits made under my usern...      0\n",
       "1           1  D'aww! He matches this background colour I'm s...      0\n",
       "2           2  Hey man, I'm really not trying to edit war. It...      0\n",
       "3           3  \"\\nMore\\nI can't make any real suggestions on ...      0\n",
       "4           4  You, sir, are my hero. Any chance you remember...      0"
      ]
     },
     "execution_count": 6,
     "metadata": {},
     "output_type": "execute_result"
    }
   ],
   "source": [
    "data.head()"
   ]
  },
  {
   "cell_type": "markdown",
   "metadata": {},
   "source": [
    "Данные загружены. Проведем обработку текстовых данных."
   ]
  },
  {
   "cell_type": "markdown",
   "metadata": {},
   "source": [
    "### Обработка текста"
   ]
  },
  {
   "cell_type": "markdown",
   "metadata": {},
   "source": [
    "Необходимо очистить текст от нежелательных символов и провести токенизацию и лемматизацию."
   ]
  },
  {
   "cell_type": "code",
   "execution_count": 7,
   "metadata": {},
   "outputs": [],
   "source": [
    "def clear_text(text):\n",
    "    text = re.sub(r'[^a-zA-Z ]', ' ', text).split()\n",
    "    return ' '.join(text)"
   ]
  },
  {
   "cell_type": "code",
   "execution_count": 8,
   "metadata": {},
   "outputs": [],
   "source": [
    "def lemmatize(text):\n",
    "    lemmatizer = WordNetLemmatizer()\n",
    "    text = [lemmatizer.lemmatize(i) for i in nltk.word_tokenize(text.lower())]\n",
    "    return ' '.join(text)"
   ]
  },
  {
   "cell_type": "code",
   "execution_count": 9,
   "metadata": {
    "scrolled": true
   },
   "outputs": [
    {
     "name": "stdout",
     "output_type": "stream",
     "text": [
      "CPU times: user 1min 24s, sys: 413 ms, total: 1min 24s\n",
      "Wall time: 1min 24s\n"
     ]
    },
    {
     "data": {
      "text/html": [
       "<div>\n",
       "<style scoped>\n",
       "    .dataframe tbody tr th:only-of-type {\n",
       "        vertical-align: middle;\n",
       "    }\n",
       "\n",
       "    .dataframe tbody tr th {\n",
       "        vertical-align: top;\n",
       "    }\n",
       "\n",
       "    .dataframe thead th {\n",
       "        text-align: right;\n",
       "    }\n",
       "</style>\n",
       "<table border=\"1\" class=\"dataframe\">\n",
       "  <thead>\n",
       "    <tr style=\"text-align: right;\">\n",
       "      <th></th>\n",
       "      <th>Unnamed: 0</th>\n",
       "      <th>text</th>\n",
       "      <th>toxic</th>\n",
       "    </tr>\n",
       "  </thead>\n",
       "  <tbody>\n",
       "    <tr>\n",
       "      <th>0</th>\n",
       "      <td>0</td>\n",
       "      <td>explanation why the edits made under my userna...</td>\n",
       "      <td>0</td>\n",
       "    </tr>\n",
       "    <tr>\n",
       "      <th>1</th>\n",
       "      <td>1</td>\n",
       "      <td>d aww he match this background colour i m seem...</td>\n",
       "      <td>0</td>\n",
       "    </tr>\n",
       "    <tr>\n",
       "      <th>2</th>\n",
       "      <td>2</td>\n",
       "      <td>hey man i m really not trying to edit war it s...</td>\n",
       "      <td>0</td>\n",
       "    </tr>\n",
       "    <tr>\n",
       "      <th>3</th>\n",
       "      <td>3</td>\n",
       "      <td>more i can t make any real suggestion on impro...</td>\n",
       "      <td>0</td>\n",
       "    </tr>\n",
       "    <tr>\n",
       "      <th>4</th>\n",
       "      <td>4</td>\n",
       "      <td>you sir are my hero any chance you remember wh...</td>\n",
       "      <td>0</td>\n",
       "    </tr>\n",
       "  </tbody>\n",
       "</table>\n",
       "</div>"
      ],
      "text/plain": [
       "   Unnamed: 0                                               text  toxic\n",
       "0           0  explanation why the edits made under my userna...      0\n",
       "1           1  d aww he match this background colour i m seem...      0\n",
       "2           2  hey man i m really not trying to edit war it s...      0\n",
       "3           3  more i can t make any real suggestion on impro...      0\n",
       "4           4  you sir are my hero any chance you remember wh...      0"
      ]
     },
     "execution_count": 9,
     "metadata": {},
     "output_type": "execute_result"
    }
   ],
   "source": [
    "%%time\n",
    "data['text'] = data['text'].apply(clear_text)\n",
    "data['text'] = data['text'].apply(lemmatize)\n",
    "data.head()"
   ]
  },
  {
   "cell_type": "markdown",
   "metadata": {},
   "source": [
    "## Обучение"
   ]
  },
  {
   "cell_type": "markdown",
   "metadata": {},
   "source": [
    "Разделим наши данные на две выборки: тренировочную и тестовую. При создании признаков необходимо убрать стоп-слова. \n",
    "\n",
    "\n",
    "Для обучения будут рассмотрены три модели: LogisticRegression, RandomForestClassifier, CatBoostClassifier. Для каждой обученной модели будет рассчитано значение метрики F1. Модель с наилучшим значением метрики качества F1 не меньше 0.75 будет выбрана для тестирования."
   ]
  },
  {
   "cell_type": "code",
   "execution_count": 10,
   "metadata": {},
   "outputs": [],
   "source": [
    "stopwords = set(stopwords.words('english'))"
   ]
  },
  {
   "cell_type": "code",
   "execution_count": 11,
   "metadata": {},
   "outputs": [],
   "source": [
    "features_train, features_test, target_train, target_test = train_test_split(\n",
    "    data['text'], data['toxic'], random_state=12345, test_size=0.25)"
   ]
  },
  {
   "cell_type": "code",
   "execution_count": 12,
   "metadata": {},
   "outputs": [],
   "source": [
    "count_tf_idf = TfidfVectorizer(stop_words=stopwords)\n",
    "tf_idf = count_tf_idf.fit(features_train)\n",
    "features_train = tf_idf.transform(features_train)\n",
    "features_test = tf_idf.transform(features_test)"
   ]
  },
  {
   "cell_type": "markdown",
   "metadata": {},
   "source": [
    "### LogisticRegression"
   ]
  },
  {
   "cell_type": "code",
   "execution_count": 13,
   "metadata": {},
   "outputs": [
    {
     "name": "stdout",
     "output_type": "stream",
     "text": [
      "{'C': 9, 'max_iter': 9}\n",
      "0.7546708240508062\n",
      "CPU times: user 2min 12s, sys: 3min 35s, total: 5min 47s\n",
      "Wall time: 5min 48s\n"
     ]
    }
   ],
   "source": [
    "%%time\n",
    "parameters = {'C': range(1, 10), 'max_iter': range(1, 10, 2)}\n",
    "model = LogisticRegression(random_state=12345, solver='liblinear')\n",
    "grid_lr = GridSearchCV(model, parameters, cv=3, scoring='f1')\n",
    "grid_lr.fit(features_train, target_train)\n",
    "print(grid_lr.best_params_)\n",
    "print(grid_lr.best_score_)"
   ]
  },
  {
   "cell_type": "markdown",
   "metadata": {},
   "source": [
    "### RandomForestClassifier"
   ]
  },
  {
   "cell_type": "code",
   "execution_count": 14,
   "metadata": {},
   "outputs": [
    {
     "name": "stdout",
     "output_type": "stream",
     "text": [
      "{'max_depth': 208, 'n_estimators': 9}\n",
      "0.5086097160452248\n",
      "CPU times: user 20min 2s, sys: 0 ns, total: 20min 2s\n",
      "Wall time: 20min 3s\n"
     ]
    }
   ],
   "source": [
    "%%time\n",
    "parameters = {'n_estimators': range(5, 10, 2), 'max_depth': range(200, 211, 2)}\n",
    "model = RandomForestClassifier(random_state=12345)\n",
    "grid_rfc = GridSearchCV(model, parameters, cv=3, scoring='f1')\n",
    "grid_rfc.fit(features_train, target_train)\n",
    "print(grid_rfc.best_params_)\n",
    "print(grid_rfc.best_score_)"
   ]
  },
  {
   "cell_type": "markdown",
   "metadata": {},
   "source": [
    "### CatBoostClassifier"
   ]
  },
  {
   "cell_type": "code",
   "execution_count": null,
   "metadata": {},
   "outputs": [],
   "source": [
    "%%time\n",
    "parameters = {'iterations': [200], 'verbose': [False]}\n",
    "model = CatBoostClassifier(random_state=12345)\n",
    "grid_rfc = GridSearchCV(model, parameters, cv=3, scoring='f1')\n",
    "grid_rfc.fit(features_train, target_train)\n",
    "print(grid_rfc.best_params_)\n",
    "print(grid_rfc.best_score_)"
   ]
  },
  {
   "cell_type": "markdown",
   "metadata": {},
   "source": [
    "Для обучения будут рассмотрены три модели: LogisticRegression, RandomForestClassifier, CatBoostClassifier.\n",
    "Результаты:\n",
    "- LogisticRegression: \n",
    "    * f_1 score = 0.7546708240508062\n",
    "    * parametrs = {'C': 9, 'max_iter': 9}\n",
    "    * time = 5min 48s\n",
    "- RandomForestClassifier: \n",
    "    * f_1 score = 0.5086097160452248\n",
    "    * parametrs = {'max_depth': 208, 'n_estimators': 9}\n",
    "    * time = 20min 3s\n",
    "- CatBoostClassifier: \n",
    "    * f_1 score = 0.7320620491209784\n",
    "    * parametrs = {'iterations': 200}\n",
    "    * time = 25min 50s\n",
    "\n",
    "Для тестирования будет использована LogisticRegression, так как показатель метрики f1 удовлетворяет условию задачи."
   ]
  },
  {
   "cell_type": "markdown",
   "metadata": {},
   "source": [
    "## Тестирование"
   ]
  },
  {
   "cell_type": "code",
   "execution_count": 16,
   "metadata": {},
   "outputs": [
    {
     "name": "stdout",
     "output_type": "stream",
     "text": [
      "CPU times: user 2.42 s, sys: 3.46 s, total: 5.88 s\n",
      "Wall time: 5.89 s\n"
     ]
    },
    {
     "data": {
      "text/plain": [
       "0.7859804056851111"
      ]
     },
     "execution_count": 16,
     "metadata": {},
     "output_type": "execute_result"
    }
   ],
   "source": [
    "%%time\n",
    "parameters = {'C': [9], 'max_iter': [9]}\n",
    "model = LogisticRegression(random_state=12345, solver='liblinear', C=9, max_iter=9)\n",
    "model.fit(features_train, target_train)\n",
    "predicted = model.predict(features_test)\n",
    "f1_score(target_test, predicted)"
   ]
  },
  {
   "cell_type": "markdown",
   "metadata": {},
   "source": [
    "LogisticRegression: \n",
    "* f_1 score = 0.7859804056851111\n",
    "* parametrs = {'C': 9, 'max_iter': 9}\n",
    "* time = 5.89 s"
   ]
  },
  {
   "cell_type": "markdown",
   "metadata": {},
   "source": [
    "## Выводы"
   ]
  },
  {
   "cell_type": "markdown",
   "metadata": {},
   "source": [
    "В ходе поставленной задачи необходимый результат обучения был достигнут на модели LogisticRegression."
   ]
  }
 ],
 "metadata": {
  "ExecuteTimeLog": [
   {
    "duration": 362,
    "start_time": "2023-02-17T21:19:26.492Z"
   },
   {
    "duration": 2570,
    "start_time": "2023-02-17T21:19:26.855Z"
   },
   {
    "duration": 262,
    "start_time": "2023-02-17T21:19:35.394Z"
   },
   {
    "duration": 37,
    "start_time": "2023-02-17T21:19:49.737Z"
   },
   {
    "duration": 215,
    "start_time": "2023-02-17T21:20:03.498Z"
   },
   {
    "duration": 23,
    "start_time": "2023-02-17T21:20:17.735Z"
   },
   {
    "duration": 7,
    "start_time": "2023-02-17T21:20:29.693Z"
   },
   {
    "duration": 5,
    "start_time": "2023-02-17T21:38:04.214Z"
   },
   {
    "duration": 65,
    "start_time": "2023-02-17T21:40:09.620Z"
   },
   {
    "duration": 4,
    "start_time": "2023-02-17T21:40:15.031Z"
   },
   {
    "duration": 4,
    "start_time": "2023-02-17T21:40:15.769Z"
   },
   {
    "duration": 7717,
    "start_time": "2023-02-17T21:40:16.633Z"
   },
   {
    "duration": 402,
    "start_time": "2023-02-17T21:41:08.273Z"
   },
   {
    "duration": 901,
    "start_time": "2023-02-17T21:41:08.677Z"
   },
   {
    "duration": 36,
    "start_time": "2023-02-17T21:41:09.579Z"
   },
   {
    "duration": 262,
    "start_time": "2023-02-17T21:41:09.618Z"
   },
   {
    "duration": 23,
    "start_time": "2023-02-17T21:41:09.882Z"
   },
   {
    "duration": 7,
    "start_time": "2023-02-17T21:41:09.907Z"
   },
   {
    "duration": 22,
    "start_time": "2023-02-17T21:41:09.916Z"
   },
   {
    "duration": 10,
    "start_time": "2023-02-17T21:41:09.940Z"
   },
   {
    "duration": 2036,
    "start_time": "2023-02-17T21:41:09.952Z"
   },
   {
    "duration": 3,
    "start_time": "2023-02-17T21:46:25.351Z"
   },
   {
    "duration": 1260,
    "start_time": "2023-02-17T21:46:26.504Z"
   },
   {
    "duration": 71,
    "start_time": "2023-02-17T21:46:27.766Z"
   },
   {
    "duration": 188,
    "start_time": "2023-02-17T21:46:37.669Z"
   },
   {
    "duration": 939,
    "start_time": "2023-02-17T21:46:49.577Z"
   },
   {
    "duration": 79822,
    "start_time": "2023-02-17T21:46:58.525Z"
   },
   {
    "duration": 10,
    "start_time": "2023-02-17T21:49:02.304Z"
   },
   {
    "duration": 3,
    "start_time": "2023-02-17T21:49:15.352Z"
   },
   {
    "duration": 77867,
    "start_time": "2023-02-17T21:49:26.432Z"
   },
   {
    "duration": 8,
    "start_time": "2023-02-17T21:50:44.301Z"
   },
   {
    "duration": 1432,
    "start_time": "2023-02-18T20:03:38.241Z"
   },
   {
    "duration": 3654,
    "start_time": "2023-02-18T20:03:39.675Z"
   },
   {
    "duration": 31,
    "start_time": "2023-02-18T20:03:43.338Z"
   },
   {
    "duration": 228,
    "start_time": "2023-02-18T20:03:43.370Z"
   },
   {
    "duration": 29,
    "start_time": "2023-02-18T20:03:43.601Z"
   },
   {
    "duration": 13,
    "start_time": "2023-02-18T20:03:43.631Z"
   },
   {
    "duration": 3,
    "start_time": "2023-02-18T20:03:43.647Z"
   },
   {
    "duration": 6,
    "start_time": "2023-02-18T20:03:43.651Z"
   },
   {
    "duration": 83786,
    "start_time": "2023-02-18T20:03:43.659Z"
   },
   {
    "duration": 267,
    "start_time": "2023-02-18T20:05:07.447Z"
   },
   {
    "duration": 0,
    "start_time": "2023-02-18T20:05:07.715Z"
   },
   {
    "duration": 0,
    "start_time": "2023-02-18T20:05:07.716Z"
   },
   {
    "duration": 0,
    "start_time": "2023-02-18T20:05:07.718Z"
   },
   {
    "duration": 4,
    "start_time": "2023-02-18T20:05:30.621Z"
   },
   {
    "duration": 46,
    "start_time": "2023-02-18T20:05:32.539Z"
   },
   {
    "duration": 10354,
    "start_time": "2023-02-18T20:05:34.140Z"
   },
   {
    "duration": 32,
    "start_time": "2023-02-18T20:06:16.466Z"
   },
   {
    "duration": 12286,
    "start_time": "2023-02-18T20:06:17.493Z"
   },
   {
    "duration": 813960,
    "start_time": "2023-02-18T20:06:32.816Z"
   },
   {
    "duration": 0,
    "start_time": "2023-02-18T20:20:06.778Z"
   },
   {
    "duration": 4,
    "start_time": "2023-02-18T20:20:13.024Z"
   },
   {
    "duration": 1483,
    "start_time": "2023-02-18T20:25:55.696Z"
   },
   {
    "duration": 901,
    "start_time": "2023-02-18T20:25:57.181Z"
   },
   {
    "duration": 31,
    "start_time": "2023-02-18T20:25:58.084Z"
   },
   {
    "duration": 259,
    "start_time": "2023-02-18T20:25:58.117Z"
   },
   {
    "duration": 21,
    "start_time": "2023-02-18T20:25:58.377Z"
   },
   {
    "duration": 8,
    "start_time": "2023-02-18T20:25:58.400Z"
   },
   {
    "duration": 4,
    "start_time": "2023-02-18T20:25:58.410Z"
   },
   {
    "duration": 9,
    "start_time": "2023-02-18T20:25:58.431Z"
   },
   {
    "duration": 87132,
    "start_time": "2023-02-18T20:25:58.452Z"
   },
   {
    "duration": 4,
    "start_time": "2023-02-18T20:27:25.587Z"
   },
   {
    "duration": 49,
    "start_time": "2023-02-18T20:27:25.593Z"
   },
   {
    "duration": 12064,
    "start_time": "2023-02-18T20:27:25.645Z"
   },
   {
    "duration": 371045,
    "start_time": "2023-02-18T20:27:37.711Z"
   },
   {
    "duration": 212,
    "start_time": "2023-02-18T20:33:48.758Z"
   },
   {
    "duration": 3,
    "start_time": "2023-02-18T20:33:48.971Z"
   },
   {
    "duration": 108,
    "start_time": "2023-02-18T20:34:28.281Z"
   },
   {
    "duration": 825804,
    "start_time": "2023-02-18T20:36:07.683Z"
   },
   {
    "duration": 2351950,
    "start_time": "2023-02-18T20:50:35.274Z"
   },
   {
    "duration": 1539052,
    "start_time": "2023-02-18T21:30:25.959Z"
   },
   {
    "duration": 4,
    "start_time": "2023-02-18T21:58:55.822Z"
   },
   {
    "duration": 8976,
    "start_time": "2023-02-18T21:59:02.685Z"
   },
   {
    "duration": 8980,
    "start_time": "2023-02-18T21:59:18.979Z"
   },
   {
    "duration": 6540,
    "start_time": "2023-02-18T22:00:19.220Z"
   },
   {
    "duration": 1378,
    "start_time": "2023-02-18T22:02:08.783Z"
   },
   {
    "duration": 891,
    "start_time": "2023-02-18T22:02:10.163Z"
   },
   {
    "duration": 32,
    "start_time": "2023-02-18T22:02:11.056Z"
   },
   {
    "duration": 260,
    "start_time": "2023-02-18T22:02:11.091Z"
   },
   {
    "duration": 25,
    "start_time": "2023-02-18T22:02:11.353Z"
   },
   {
    "duration": 8,
    "start_time": "2023-02-18T22:02:11.380Z"
   },
   {
    "duration": 7,
    "start_time": "2023-02-18T22:02:11.390Z"
   },
   {
    "duration": 40,
    "start_time": "2023-02-18T22:02:11.399Z"
   },
   {
    "duration": 1571,
    "start_time": "2023-02-19T18:10:20.114Z"
   },
   {
    "duration": 3489,
    "start_time": "2023-02-19T18:10:21.687Z"
   },
   {
    "duration": 31,
    "start_time": "2023-02-19T18:10:25.178Z"
   },
   {
    "duration": 274,
    "start_time": "2023-02-19T18:10:25.211Z"
   },
   {
    "duration": 25,
    "start_time": "2023-02-19T18:10:25.486Z"
   },
   {
    "duration": 17,
    "start_time": "2023-02-19T18:10:25.513Z"
   },
   {
    "duration": 4,
    "start_time": "2023-02-19T18:10:25.539Z"
   },
   {
    "duration": 13,
    "start_time": "2023-02-19T18:10:25.545Z"
   },
   {
    "duration": 84619,
    "start_time": "2023-02-19T18:10:25.560Z"
   },
   {
    "duration": 4,
    "start_time": "2023-02-19T18:11:50.183Z"
   },
   {
    "duration": 42,
    "start_time": "2023-02-19T18:11:50.188Z"
   },
   {
    "duration": 11969,
    "start_time": "2023-02-19T18:11:50.231Z"
   },
   {
    "duration": 348238,
    "start_time": "2023-02-19T18:12:02.201Z"
   },
   {
    "duration": 1203188,
    "start_time": "2023-02-19T18:17:50.442Z"
   },
   {
    "duration": 1550439,
    "start_time": "2023-02-19T18:37:53.632Z"
   },
   {
    "duration": 5892,
    "start_time": "2023-02-19T19:03:44.073Z"
   },
   {
    "duration": 91,
    "start_time": "2023-02-19T19:03:49.966Z"
   }
  ],
  "kernelspec": {
   "display_name": "Python 3 (ipykernel)",
   "language": "python",
   "name": "python3"
  },
  "language_info": {
   "codemirror_mode": {
    "name": "ipython",
    "version": 3
   },
   "file_extension": ".py",
   "mimetype": "text/x-python",
   "name": "python",
   "nbconvert_exporter": "python",
   "pygments_lexer": "ipython3",
   "version": "3.9.5"
  },
  "toc": {
   "base_numbering": 1,
   "nav_menu": {},
   "number_sections": true,
   "sideBar": true,
   "skip_h1_title": true,
   "title_cell": "Содержание",
   "title_sidebar": "Contents",
   "toc_cell": true,
   "toc_position": {
    "height": "calc(100% - 180px)",
    "left": "10px",
    "top": "150px",
    "width": "302.391px"
   },
   "toc_section_display": true,
   "toc_window_display": false
  }
 },
 "nbformat": 4,
 "nbformat_minor": 2
}
