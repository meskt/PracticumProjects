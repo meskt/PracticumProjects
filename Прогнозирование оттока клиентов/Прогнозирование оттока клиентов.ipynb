{
 "cells": [
  {
   "cell_type": "markdown",
   "metadata": {
    "toc": true
   },
   "source": [
    "<h1>Содержание<span class=\"tocSkip\"></span></h1>\n",
    "<div class=\"toc\"><ul class=\"toc-item\"><li><span><a href=\"#Подготовка-данных\" data-toc-modified-id=\"Подготовка-данных-1\"><span class=\"toc-item-num\">1&nbsp;&nbsp;</span>Подготовка данных</a></span></li><li><span><a href=\"#Исследование-задачи\" data-toc-modified-id=\"Исследование-задачи-2\"><span class=\"toc-item-num\">2&nbsp;&nbsp;</span>Исследование задачи</a></span><ul class=\"toc-item\"><li><span><a href=\"#Исследование-целевого-признака\" data-toc-modified-id=\"Исследование-целевого-признака-2.1\"><span class=\"toc-item-num\">2.1&nbsp;&nbsp;</span>Исследование целевого признака</a></span></li><li><span><a href=\"#Разделение-данных\" data-toc-modified-id=\"Разделение-данных-2.2\"><span class=\"toc-item-num\">2.2&nbsp;&nbsp;</span>Разделение данных</a></span></li><li><span><a href=\"#Масштабирование-признаков\" data-toc-modified-id=\"Масштабирование-признаков-2.3\"><span class=\"toc-item-num\">2.3&nbsp;&nbsp;</span>Масштабирование признаков</a></span></li><li><span><a href=\"#DecisionTreeClassifier\" data-toc-modified-id=\"DecisionTreeClassifier-2.4\"><span class=\"toc-item-num\">2.4&nbsp;&nbsp;</span>DecisionTreeClassifier</a></span></li><li><span><a href=\"#RandomForestClassifier\" data-toc-modified-id=\"RandomForestClassifier-2.5\"><span class=\"toc-item-num\">2.5&nbsp;&nbsp;</span>RandomForestClassifier</a></span></li><li><span><a href=\"#LogisticRegression\" data-toc-modified-id=\"LogisticRegression-2.6\"><span class=\"toc-item-num\">2.6&nbsp;&nbsp;</span>LogisticRegression</a></span><ul class=\"toc-item\"><li><span><a href=\"#Вывод\" data-toc-modified-id=\"Вывод-2.6.1\"><span class=\"toc-item-num\">2.6.1&nbsp;&nbsp;</span>Вывод</a></span></li></ul></li></ul></li><li><span><a href=\"#Борьба-с-дисбалансом\" data-toc-modified-id=\"Борьба-с-дисбалансом-3\"><span class=\"toc-item-num\">3&nbsp;&nbsp;</span>Борьба с дисбалансом</a></span><ul class=\"toc-item\"><li><span><a href=\"#Увеличение-выборки\" data-toc-modified-id=\"Увеличение-выборки-3.1\"><span class=\"toc-item-num\">3.1&nbsp;&nbsp;</span>Увеличение выборки</a></span><ul class=\"toc-item\"><li><span><a href=\"#DecisionTreeClassifier\" data-toc-modified-id=\"DecisionTreeClassifier-3.1.1\"><span class=\"toc-item-num\">3.1.1&nbsp;&nbsp;</span>DecisionTreeClassifier</a></span></li><li><span><a href=\"#RandomForestClassifier\" data-toc-modified-id=\"RandomForestClassifier-3.1.2\"><span class=\"toc-item-num\">3.1.2&nbsp;&nbsp;</span>RandomForestClassifier</a></span></li><li><span><a href=\"#LogisticRegression\" data-toc-modified-id=\"LogisticRegression-3.1.3\"><span class=\"toc-item-num\">3.1.3&nbsp;&nbsp;</span>LogisticRegression</a></span></li><li><span><a href=\"#Вывод\" data-toc-modified-id=\"Вывод-3.1.4\"><span class=\"toc-item-num\">3.1.4&nbsp;&nbsp;</span>Вывод</a></span></li></ul></li><li><span><a href=\"#Уменьшение-выборки\" data-toc-modified-id=\"Уменьшение-выборки-3.2\"><span class=\"toc-item-num\">3.2&nbsp;&nbsp;</span>Уменьшение выборки</a></span><ul class=\"toc-item\"><li><span><a href=\"#DecisionTreeClassifier\" data-toc-modified-id=\"DecisionTreeClassifier-3.2.1\"><span class=\"toc-item-num\">3.2.1&nbsp;&nbsp;</span>DecisionTreeClassifier</a></span></li><li><span><a href=\"#RandomForestClassifier\" data-toc-modified-id=\"RandomForestClassifier-3.2.2\"><span class=\"toc-item-num\">3.2.2&nbsp;&nbsp;</span>RandomForestClassifier</a></span></li><li><span><a href=\"#LogisticRegression\" data-toc-modified-id=\"LogisticRegression-3.2.3\"><span class=\"toc-item-num\">3.2.3&nbsp;&nbsp;</span>LogisticRegression</a></span></li><li><span><a href=\"#Вывод\" data-toc-modified-id=\"Вывод-3.2.4\"><span class=\"toc-item-num\">3.2.4&nbsp;&nbsp;</span>Вывод</a></span></li></ul></li><li><span><a href=\"#Вывод\" data-toc-modified-id=\"Вывод-3.3\"><span class=\"toc-item-num\">3.3&nbsp;&nbsp;</span>Вывод</a></span></li></ul></li><li><span><a href=\"#Тестирование-модели\" data-toc-modified-id=\"Тестирование-модели-4\"><span class=\"toc-item-num\">4&nbsp;&nbsp;</span>Тестирование модели</a></span></li><li><span><a href=\"#Вывод\" data-toc-modified-id=\"Вывод-5\"><span class=\"toc-item-num\">5&nbsp;&nbsp;</span>Вывод</a></span></li><li><span><a href=\"#Чек-лист-готовности-проекта\" data-toc-modified-id=\"Чек-лист-готовности-проекта-6\"><span class=\"toc-item-num\">6&nbsp;&nbsp;</span>Чек-лист готовности проекта</a></span></li></ul></div>"
   ]
  },
  {
   "cell_type": "markdown",
   "metadata": {},
   "source": [
    "# Отток клиентов"
   ]
  },
  {
   "cell_type": "markdown",
   "metadata": {},
   "source": [
    "Из «Бета-Банка» стали уходить клиенты. Каждый месяц. Немного, но заметно. Банковские маркетологи посчитали: сохранять текущих клиентов дешевле, чем привлекать новых.\n",
    "\n",
    "Нужно спрогнозировать, уйдёт клиент из банка в ближайшее время или нет. Вам предоставлены исторические данные о поведении клиентов и расторжении договоров с банком. \n",
    "\n",
    "Постройте модель с предельно большим значением *F1*-меры. Чтобы сдать проект успешно, нужно довести метрику до 0.59. Проверьте *F1*-меру на тестовой выборке самостоятельно.\n",
    "\n",
    "Дополнительно измеряйте *AUC-ROC*, сравнивайте её значение с *F1*-мерой.\n",
    "\n",
    "Источник данных: [https://www.kaggle.com/barelydedicated/bank-customer-churn-modeling](https://www.kaggle.com/barelydedicated/bank-customer-churn-modeling)"
   ]
  },
  {
   "cell_type": "markdown",
   "metadata": {},
   "source": [
    "## Подготовка данных"
   ]
  },
  {
   "cell_type": "code",
   "execution_count": 1,
   "metadata": {},
   "outputs": [],
   "source": [
    "import pandas as pd\n",
    "from sklearn.preprocessing import OneHotEncoder\n",
    "from sklearn.preprocessing import StandardScaler\n",
    "from sklearn.model_selection import train_test_split\n",
    "from sklearn.tree import DecisionTreeClassifier\n",
    "from sklearn.ensemble import RandomForestClassifier\n",
    "from sklearn.linear_model import LogisticRegression\n",
    "from sklearn.metrics import f1_score\n",
    "from sklearn.metrics import roc_auc_score\n",
    "from sklearn.utils import shuffle\n",
    "from sklearn.metrics import roc_curve\n",
    "import matplotlib.pyplot as plt\n",
    "import warnings\n",
    "warnings.simplefilter('ignore')"
   ]
  },
  {
   "cell_type": "code",
   "execution_count": 2,
   "metadata": {},
   "outputs": [
    {
     "name": "stdout",
     "output_type": "stream",
     "text": [
      "<class 'pandas.core.frame.DataFrame'>\n",
      "RangeIndex: 10000 entries, 0 to 9999\n",
      "Data columns (total 14 columns):\n",
      " #   Column           Non-Null Count  Dtype  \n",
      "---  ------           --------------  -----  \n",
      " 0   RowNumber        10000 non-null  int64  \n",
      " 1   CustomerId       10000 non-null  int64  \n",
      " 2   Surname          10000 non-null  object \n",
      " 3   CreditScore      10000 non-null  int64  \n",
      " 4   Geography        10000 non-null  object \n",
      " 5   Gender           10000 non-null  object \n",
      " 6   Age              10000 non-null  int64  \n",
      " 7   Tenure           9091 non-null   float64\n",
      " 8   Balance          10000 non-null  float64\n",
      " 9   NumOfProducts    10000 non-null  int64  \n",
      " 10  HasCrCard        10000 non-null  int64  \n",
      " 11  IsActiveMember   10000 non-null  int64  \n",
      " 12  EstimatedSalary  10000 non-null  float64\n",
      " 13  Exited           10000 non-null  int64  \n",
      "dtypes: float64(3), int64(8), object(3)\n",
      "memory usage: 1.1+ MB\n"
     ]
    }
   ],
   "source": [
    "data = pd.read_csv('/datasets/Churn.csv')\n",
    "data.info()"
   ]
  },
  {
   "cell_type": "code",
   "execution_count": 3,
   "metadata": {
    "scrolled": true
   },
   "outputs": [
    {
     "data": {
      "text/html": [
       "<div>\n",
       "<style scoped>\n",
       "    .dataframe tbody tr th:only-of-type {\n",
       "        vertical-align: middle;\n",
       "    }\n",
       "\n",
       "    .dataframe tbody tr th {\n",
       "        vertical-align: top;\n",
       "    }\n",
       "\n",
       "    .dataframe thead th {\n",
       "        text-align: right;\n",
       "    }\n",
       "</style>\n",
       "<table border=\"1\" class=\"dataframe\">\n",
       "  <thead>\n",
       "    <tr style=\"text-align: right;\">\n",
       "      <th></th>\n",
       "      <th>RowNumber</th>\n",
       "      <th>CustomerId</th>\n",
       "      <th>Surname</th>\n",
       "      <th>CreditScore</th>\n",
       "      <th>Geography</th>\n",
       "      <th>Gender</th>\n",
       "      <th>Age</th>\n",
       "      <th>Tenure</th>\n",
       "      <th>Balance</th>\n",
       "      <th>NumOfProducts</th>\n",
       "      <th>HasCrCard</th>\n",
       "      <th>IsActiveMember</th>\n",
       "      <th>EstimatedSalary</th>\n",
       "      <th>Exited</th>\n",
       "    </tr>\n",
       "  </thead>\n",
       "  <tbody>\n",
       "    <tr>\n",
       "      <th>0</th>\n",
       "      <td>1</td>\n",
       "      <td>15634602</td>\n",
       "      <td>Hargrave</td>\n",
       "      <td>619</td>\n",
       "      <td>France</td>\n",
       "      <td>Female</td>\n",
       "      <td>42</td>\n",
       "      <td>2.0</td>\n",
       "      <td>0.00</td>\n",
       "      <td>1</td>\n",
       "      <td>1</td>\n",
       "      <td>1</td>\n",
       "      <td>101348.88</td>\n",
       "      <td>1</td>\n",
       "    </tr>\n",
       "    <tr>\n",
       "      <th>1</th>\n",
       "      <td>2</td>\n",
       "      <td>15647311</td>\n",
       "      <td>Hill</td>\n",
       "      <td>608</td>\n",
       "      <td>Spain</td>\n",
       "      <td>Female</td>\n",
       "      <td>41</td>\n",
       "      <td>1.0</td>\n",
       "      <td>83807.86</td>\n",
       "      <td>1</td>\n",
       "      <td>0</td>\n",
       "      <td>1</td>\n",
       "      <td>112542.58</td>\n",
       "      <td>0</td>\n",
       "    </tr>\n",
       "    <tr>\n",
       "      <th>2</th>\n",
       "      <td>3</td>\n",
       "      <td>15619304</td>\n",
       "      <td>Onio</td>\n",
       "      <td>502</td>\n",
       "      <td>France</td>\n",
       "      <td>Female</td>\n",
       "      <td>42</td>\n",
       "      <td>8.0</td>\n",
       "      <td>159660.80</td>\n",
       "      <td>3</td>\n",
       "      <td>1</td>\n",
       "      <td>0</td>\n",
       "      <td>113931.57</td>\n",
       "      <td>1</td>\n",
       "    </tr>\n",
       "    <tr>\n",
       "      <th>3</th>\n",
       "      <td>4</td>\n",
       "      <td>15701354</td>\n",
       "      <td>Boni</td>\n",
       "      <td>699</td>\n",
       "      <td>France</td>\n",
       "      <td>Female</td>\n",
       "      <td>39</td>\n",
       "      <td>1.0</td>\n",
       "      <td>0.00</td>\n",
       "      <td>2</td>\n",
       "      <td>0</td>\n",
       "      <td>0</td>\n",
       "      <td>93826.63</td>\n",
       "      <td>0</td>\n",
       "    </tr>\n",
       "    <tr>\n",
       "      <th>4</th>\n",
       "      <td>5</td>\n",
       "      <td>15737888</td>\n",
       "      <td>Mitchell</td>\n",
       "      <td>850</td>\n",
       "      <td>Spain</td>\n",
       "      <td>Female</td>\n",
       "      <td>43</td>\n",
       "      <td>2.0</td>\n",
       "      <td>125510.82</td>\n",
       "      <td>1</td>\n",
       "      <td>1</td>\n",
       "      <td>1</td>\n",
       "      <td>79084.10</td>\n",
       "      <td>0</td>\n",
       "    </tr>\n",
       "  </tbody>\n",
       "</table>\n",
       "</div>"
      ],
      "text/plain": [
       "   RowNumber  CustomerId   Surname  CreditScore Geography  Gender  Age  \\\n",
       "0          1    15634602  Hargrave          619    France  Female   42   \n",
       "1          2    15647311      Hill          608     Spain  Female   41   \n",
       "2          3    15619304      Onio          502    France  Female   42   \n",
       "3          4    15701354      Boni          699    France  Female   39   \n",
       "4          5    15737888  Mitchell          850     Spain  Female   43   \n",
       "\n",
       "   Tenure    Balance  NumOfProducts  HasCrCard  IsActiveMember  \\\n",
       "0     2.0       0.00              1          1               1   \n",
       "1     1.0   83807.86              1          0               1   \n",
       "2     8.0  159660.80              3          1               0   \n",
       "3     1.0       0.00              2          0               0   \n",
       "4     2.0  125510.82              1          1               1   \n",
       "\n",
       "   EstimatedSalary  Exited  \n",
       "0        101348.88       1  \n",
       "1        112542.58       0  \n",
       "2        113931.57       1  \n",
       "3         93826.63       0  \n",
       "4         79084.10       0  "
      ]
     },
     "execution_count": 3,
     "metadata": {},
     "output_type": "execute_result"
    }
   ],
   "source": [
    "data.head()"
   ]
  },
  {
   "cell_type": "markdown",
   "metadata": {},
   "source": [
    "В таблице данных представлено 12 признаков. Приведем названия столбцов в более удобный формат записи."
   ]
  },
  {
   "cell_type": "code",
   "execution_count": 4,
   "metadata": {},
   "outputs": [],
   "source": [
    "data.columns = data.columns.str.lower()"
   ]
  },
  {
   "cell_type": "code",
   "execution_count": 5,
   "metadata": {},
   "outputs": [],
   "source": [
    "data = data.rename(columns={'customerId': 'customer_id', \n",
    "                            'creditscore': 'credit_score', \n",
    "                            'numofproducts': 'num_of_products', \n",
    "                            'hascrcard': 'has_cr_card', \n",
    "                            'isactivemember': 'is_active_member', \n",
    "                            'estimatedsalary': 'estimated_salary',\n",
    "                            'rownumber': 'row_number',\n",
    "                            'estimatedsalary': 'estimated_salary',\n",
    "                            'customerid': 'customer_id'})"
   ]
  },
  {
   "cell_type": "code",
   "execution_count": 6,
   "metadata": {},
   "outputs": [
    {
     "data": {
      "text/html": [
       "<div>\n",
       "<style scoped>\n",
       "    .dataframe tbody tr th:only-of-type {\n",
       "        vertical-align: middle;\n",
       "    }\n",
       "\n",
       "    .dataframe tbody tr th {\n",
       "        vertical-align: top;\n",
       "    }\n",
       "\n",
       "    .dataframe thead th {\n",
       "        text-align: right;\n",
       "    }\n",
       "</style>\n",
       "<table border=\"1\" class=\"dataframe\">\n",
       "  <thead>\n",
       "    <tr style=\"text-align: right;\">\n",
       "      <th></th>\n",
       "      <th>row_number</th>\n",
       "      <th>customer_id</th>\n",
       "      <th>surname</th>\n",
       "      <th>credit_score</th>\n",
       "      <th>geography</th>\n",
       "      <th>gender</th>\n",
       "      <th>age</th>\n",
       "      <th>tenure</th>\n",
       "      <th>balance</th>\n",
       "      <th>num_of_products</th>\n",
       "      <th>has_cr_card</th>\n",
       "      <th>is_active_member</th>\n",
       "      <th>estimated_salary</th>\n",
       "      <th>exited</th>\n",
       "    </tr>\n",
       "  </thead>\n",
       "  <tbody>\n",
       "    <tr>\n",
       "      <th>0</th>\n",
       "      <td>1</td>\n",
       "      <td>15634602</td>\n",
       "      <td>Hargrave</td>\n",
       "      <td>619</td>\n",
       "      <td>France</td>\n",
       "      <td>Female</td>\n",
       "      <td>42</td>\n",
       "      <td>2.0</td>\n",
       "      <td>0.00</td>\n",
       "      <td>1</td>\n",
       "      <td>1</td>\n",
       "      <td>1</td>\n",
       "      <td>101348.88</td>\n",
       "      <td>1</td>\n",
       "    </tr>\n",
       "    <tr>\n",
       "      <th>1</th>\n",
       "      <td>2</td>\n",
       "      <td>15647311</td>\n",
       "      <td>Hill</td>\n",
       "      <td>608</td>\n",
       "      <td>Spain</td>\n",
       "      <td>Female</td>\n",
       "      <td>41</td>\n",
       "      <td>1.0</td>\n",
       "      <td>83807.86</td>\n",
       "      <td>1</td>\n",
       "      <td>0</td>\n",
       "      <td>1</td>\n",
       "      <td>112542.58</td>\n",
       "      <td>0</td>\n",
       "    </tr>\n",
       "    <tr>\n",
       "      <th>2</th>\n",
       "      <td>3</td>\n",
       "      <td>15619304</td>\n",
       "      <td>Onio</td>\n",
       "      <td>502</td>\n",
       "      <td>France</td>\n",
       "      <td>Female</td>\n",
       "      <td>42</td>\n",
       "      <td>8.0</td>\n",
       "      <td>159660.80</td>\n",
       "      <td>3</td>\n",
       "      <td>1</td>\n",
       "      <td>0</td>\n",
       "      <td>113931.57</td>\n",
       "      <td>1</td>\n",
       "    </tr>\n",
       "    <tr>\n",
       "      <th>3</th>\n",
       "      <td>4</td>\n",
       "      <td>15701354</td>\n",
       "      <td>Boni</td>\n",
       "      <td>699</td>\n",
       "      <td>France</td>\n",
       "      <td>Female</td>\n",
       "      <td>39</td>\n",
       "      <td>1.0</td>\n",
       "      <td>0.00</td>\n",
       "      <td>2</td>\n",
       "      <td>0</td>\n",
       "      <td>0</td>\n",
       "      <td>93826.63</td>\n",
       "      <td>0</td>\n",
       "    </tr>\n",
       "    <tr>\n",
       "      <th>4</th>\n",
       "      <td>5</td>\n",
       "      <td>15737888</td>\n",
       "      <td>Mitchell</td>\n",
       "      <td>850</td>\n",
       "      <td>Spain</td>\n",
       "      <td>Female</td>\n",
       "      <td>43</td>\n",
       "      <td>2.0</td>\n",
       "      <td>125510.82</td>\n",
       "      <td>1</td>\n",
       "      <td>1</td>\n",
       "      <td>1</td>\n",
       "      <td>79084.10</td>\n",
       "      <td>0</td>\n",
       "    </tr>\n",
       "  </tbody>\n",
       "</table>\n",
       "</div>"
      ],
      "text/plain": [
       "   row_number  customer_id   surname  credit_score geography  gender  age  \\\n",
       "0           1     15634602  Hargrave           619    France  Female   42   \n",
       "1           2     15647311      Hill           608     Spain  Female   41   \n",
       "2           3     15619304      Onio           502    France  Female   42   \n",
       "3           4     15701354      Boni           699    France  Female   39   \n",
       "4           5     15737888  Mitchell           850     Spain  Female   43   \n",
       "\n",
       "   tenure    balance  num_of_products  has_cr_card  is_active_member  \\\n",
       "0     2.0       0.00                1            1                 1   \n",
       "1     1.0   83807.86                1            0                 1   \n",
       "2     8.0  159660.80                3            1                 0   \n",
       "3     1.0       0.00                2            0                 0   \n",
       "4     2.0  125510.82                1            1                 1   \n",
       "\n",
       "   estimated_salary  exited  \n",
       "0         101348.88       1  \n",
       "1         112542.58       0  \n",
       "2         113931.57       1  \n",
       "3          93826.63       0  \n",
       "4          79084.10       0  "
      ]
     },
     "execution_count": 6,
     "metadata": {},
     "output_type": "execute_result"
    }
   ],
   "source": [
    "data.head()"
   ]
  },
  {
   "cell_type": "code",
   "execution_count": 7,
   "metadata": {},
   "outputs": [
    {
     "data": {
      "text/plain": [
       "0"
      ]
     },
     "execution_count": 7,
     "metadata": {},
     "output_type": "execute_result"
    }
   ],
   "source": [
    "data.duplicated().sum()"
   ]
  },
  {
   "cell_type": "code",
   "execution_count": 8,
   "metadata": {},
   "outputs": [
    {
     "data": {
      "text/plain": [
       "row_number            0\n",
       "customer_id           0\n",
       "surname               0\n",
       "credit_score          0\n",
       "geography             0\n",
       "gender                0\n",
       "age                   0\n",
       "tenure              909\n",
       "balance               0\n",
       "num_of_products       0\n",
       "has_cr_card           0\n",
       "is_active_member      0\n",
       "estimated_salary      0\n",
       "exited                0\n",
       "dtype: int64"
      ]
     },
     "execution_count": 8,
     "metadata": {},
     "output_type": "execute_result"
    }
   ],
   "source": [
    "data.isna().sum()"
   ]
  },
  {
   "cell_type": "markdown",
   "metadata": {},
   "source": [
    "По большей части данные находятся в корректном состоянии. Дубликатов и пропусков в таблице нет, кроме столбца 'tenure'."
   ]
  },
  {
   "cell_type": "code",
   "execution_count": 9,
   "metadata": {},
   "outputs": [
    {
     "data": {
      "text/plain": [
       "11"
      ]
     },
     "metadata": {},
     "output_type": "display_data"
    },
    {
     "data": {
      "text/plain": [
       "array([ 2.,  1.,  8.,  7.,  4.,  6.,  3., 10.,  5.,  9.,  0., nan])"
      ]
     },
     "metadata": {},
     "output_type": "display_data"
    }
   ],
   "source": [
    "display(data['tenure'].nunique())\n",
    "display(data['tenure'].unique())"
   ]
  },
  {
   "cell_type": "markdown",
   "metadata": {},
   "source": [
    "По значениям в таблице обозначено количество лет, где минимальное значение - 0 лет, а максимальное - 10 лет. Вероятнее всего, в строках, где стоят пропуски, стоит информация о недавно появившихся клиентах. Поэтому количество лет не указано. Предположим, что это так и заменим все пропуски на значение 0. Также поменяем тип данных на целочисленный."
   ]
  },
  {
   "cell_type": "code",
   "execution_count": 10,
   "metadata": {},
   "outputs": [],
   "source": [
    "data['tenure'] = data['tenure'].fillna(0)\n",
    "data['tenure'] = data['tenure'].astype('int64')"
   ]
  },
  {
   "cell_type": "code",
   "execution_count": 11,
   "metadata": {},
   "outputs": [
    {
     "data": {
      "text/plain": [
       "0        2\n",
       "1        1\n",
       "2        8\n",
       "3        1\n",
       "4        2\n",
       "        ..\n",
       "9995     5\n",
       "9996    10\n",
       "9997     7\n",
       "9998     3\n",
       "9999     0\n",
       "Name: tenure, Length: 10000, dtype: int64"
      ]
     },
     "execution_count": 11,
     "metadata": {},
     "output_type": "execute_result"
    }
   ],
   "source": [
    "data['tenure'].fillna(0).astype('int64')"
   ]
  },
  {
   "cell_type": "markdown",
   "metadata": {},
   "source": [
    "Обратим внимание, что в таблице есть признаки, которые для анализа данных не понадобятся. Удалим столбцы с индексом строк, фамилией и уникальным идентификатором клиента."
   ]
  },
  {
   "cell_type": "code",
   "execution_count": 12,
   "metadata": {},
   "outputs": [],
   "source": [
    "data = data.drop(['row_number', 'customer_id', 'surname'], axis=1)"
   ]
  },
  {
   "cell_type": "code",
   "execution_count": 13,
   "metadata": {},
   "outputs": [
    {
     "name": "stdout",
     "output_type": "stream",
     "text": [
      "<class 'pandas.core.frame.DataFrame'>\n",
      "RangeIndex: 10000 entries, 0 to 9999\n",
      "Data columns (total 11 columns):\n",
      " #   Column            Non-Null Count  Dtype  \n",
      "---  ------            --------------  -----  \n",
      " 0   credit_score      10000 non-null  int64  \n",
      " 1   geography         10000 non-null  object \n",
      " 2   gender            10000 non-null  object \n",
      " 3   age               10000 non-null  int64  \n",
      " 4   tenure            10000 non-null  int64  \n",
      " 5   balance           10000 non-null  float64\n",
      " 6   num_of_products   10000 non-null  int64  \n",
      " 7   has_cr_card       10000 non-null  int64  \n",
      " 8   is_active_member  10000 non-null  int64  \n",
      " 9   estimated_salary  10000 non-null  float64\n",
      " 10  exited            10000 non-null  int64  \n",
      "dtypes: float64(2), int64(7), object(2)\n",
      "memory usage: 859.5+ KB\n"
     ]
    }
   ],
   "source": [
    "data.info()"
   ]
  },
  {
   "cell_type": "markdown",
   "metadata": {},
   "source": [
    "В данных есть два категориальных признака. Пропусков в этих колонках нет. Проверим на количество уникальных значений и преобразуем их в численные признаки через технику прямого кодирования OHE."
   ]
  },
  {
   "cell_type": "code",
   "execution_count": 14,
   "metadata": {},
   "outputs": [
    {
     "data": {
      "text/plain": [
       "array(['France', 'Spain', 'Germany'], dtype=object)"
      ]
     },
     "metadata": {},
     "output_type": "display_data"
    },
    {
     "data": {
      "text/plain": [
       "array(['Female', 'Male'], dtype=object)"
      ]
     },
     "metadata": {},
     "output_type": "display_data"
    }
   ],
   "source": [
    "display(data['geography'].unique())\n",
    "display(data['gender'].unique())"
   ]
  },
  {
   "cell_type": "code",
   "execution_count": 15,
   "metadata": {},
   "outputs": [
    {
     "data": {
      "text/html": [
       "<div>\n",
       "<style scoped>\n",
       "    .dataframe tbody tr th:only-of-type {\n",
       "        vertical-align: middle;\n",
       "    }\n",
       "\n",
       "    .dataframe tbody tr th {\n",
       "        vertical-align: top;\n",
       "    }\n",
       "\n",
       "    .dataframe thead th {\n",
       "        text-align: right;\n",
       "    }\n",
       "</style>\n",
       "<table border=\"1\" class=\"dataframe\">\n",
       "  <thead>\n",
       "    <tr style=\"text-align: right;\">\n",
       "      <th></th>\n",
       "      <th>credit_score</th>\n",
       "      <th>age</th>\n",
       "      <th>tenure</th>\n",
       "      <th>balance</th>\n",
       "      <th>num_of_products</th>\n",
       "      <th>has_cr_card</th>\n",
       "      <th>is_active_member</th>\n",
       "      <th>estimated_salary</th>\n",
       "      <th>exited</th>\n",
       "      <th>geography_germany</th>\n",
       "      <th>geography_spain</th>\n",
       "      <th>gender_male</th>\n",
       "    </tr>\n",
       "  </thead>\n",
       "  <tbody>\n",
       "    <tr>\n",
       "      <th>0</th>\n",
       "      <td>619</td>\n",
       "      <td>42</td>\n",
       "      <td>2</td>\n",
       "      <td>0.00</td>\n",
       "      <td>1</td>\n",
       "      <td>1</td>\n",
       "      <td>1</td>\n",
       "      <td>101348.88</td>\n",
       "      <td>1</td>\n",
       "      <td>0</td>\n",
       "      <td>0</td>\n",
       "      <td>0</td>\n",
       "    </tr>\n",
       "    <tr>\n",
       "      <th>1</th>\n",
       "      <td>608</td>\n",
       "      <td>41</td>\n",
       "      <td>1</td>\n",
       "      <td>83807.86</td>\n",
       "      <td>1</td>\n",
       "      <td>0</td>\n",
       "      <td>1</td>\n",
       "      <td>112542.58</td>\n",
       "      <td>0</td>\n",
       "      <td>0</td>\n",
       "      <td>1</td>\n",
       "      <td>0</td>\n",
       "    </tr>\n",
       "    <tr>\n",
       "      <th>2</th>\n",
       "      <td>502</td>\n",
       "      <td>42</td>\n",
       "      <td>8</td>\n",
       "      <td>159660.80</td>\n",
       "      <td>3</td>\n",
       "      <td>1</td>\n",
       "      <td>0</td>\n",
       "      <td>113931.57</td>\n",
       "      <td>1</td>\n",
       "      <td>0</td>\n",
       "      <td>0</td>\n",
       "      <td>0</td>\n",
       "    </tr>\n",
       "    <tr>\n",
       "      <th>3</th>\n",
       "      <td>699</td>\n",
       "      <td>39</td>\n",
       "      <td>1</td>\n",
       "      <td>0.00</td>\n",
       "      <td>2</td>\n",
       "      <td>0</td>\n",
       "      <td>0</td>\n",
       "      <td>93826.63</td>\n",
       "      <td>0</td>\n",
       "      <td>0</td>\n",
       "      <td>0</td>\n",
       "      <td>0</td>\n",
       "    </tr>\n",
       "    <tr>\n",
       "      <th>4</th>\n",
       "      <td>850</td>\n",
       "      <td>43</td>\n",
       "      <td>2</td>\n",
       "      <td>125510.82</td>\n",
       "      <td>1</td>\n",
       "      <td>1</td>\n",
       "      <td>1</td>\n",
       "      <td>79084.10</td>\n",
       "      <td>0</td>\n",
       "      <td>0</td>\n",
       "      <td>1</td>\n",
       "      <td>0</td>\n",
       "    </tr>\n",
       "  </tbody>\n",
       "</table>\n",
       "</div>"
      ],
      "text/plain": [
       "   credit_score  age  tenure    balance  num_of_products  has_cr_card  \\\n",
       "0           619   42       2       0.00                1            1   \n",
       "1           608   41       1   83807.86                1            0   \n",
       "2           502   42       8  159660.80                3            1   \n",
       "3           699   39       1       0.00                2            0   \n",
       "4           850   43       2  125510.82                1            1   \n",
       "\n",
       "   is_active_member  estimated_salary  exited  geography_germany  \\\n",
       "0                 1         101348.88       1                  0   \n",
       "1                 1         112542.58       0                  0   \n",
       "2                 0         113931.57       1                  0   \n",
       "3                 0          93826.63       0                  0   \n",
       "4                 1          79084.10       0                  0   \n",
       "\n",
       "   geography_spain  gender_male  \n",
       "0                0            0  \n",
       "1                1            0  \n",
       "2                0            0  \n",
       "3                0            0  \n",
       "4                1            0  "
      ]
     },
     "execution_count": 15,
     "metadata": {},
     "output_type": "execute_result"
    }
   ],
   "source": [
    "data = pd.get_dummies(data,drop_first=True)\n",
    "data.columns = data.columns.str.lower()\n",
    "data.head()"
   ]
  },
  {
   "cell_type": "markdown",
   "metadata": {},
   "source": [
    "Данные готовы для анализа."
   ]
  },
  {
   "cell_type": "markdown",
   "metadata": {},
   "source": [
    "## Исследование задачи"
   ]
  },
  {
   "cell_type": "markdown",
   "metadata": {},
   "source": [
    "### Исследование целевого признака"
   ]
  },
  {
   "cell_type": "markdown",
   "metadata": {},
   "source": [
    "Рассмотрим целевой признак."
   ]
  },
  {
   "cell_type": "code",
   "execution_count": 16,
   "metadata": {},
   "outputs": [
    {
     "data": {
      "image/png": "[encoded data removed]",
      "text/plain": [
       "<Figure size 720x360 with 1 Axes>"
      ]
     },
     "metadata": {
      "needs_background": "light"
     },
     "output_type": "display_data"
    }
   ],
   "source": [
    "data['exited'].hist(figsize=(10, 5), bins=5)\n",
    "plt.title('Распределение значений в целевом признаке')\n",
    "plt.show()"
   ]
  },
  {
   "cell_type": "code",
   "execution_count": 17,
   "metadata": {},
   "outputs": [
    {
     "data": {
      "text/plain": [
       "7963"
      ]
     },
     "metadata": {},
     "output_type": "display_data"
    },
    {
     "data": {
      "text/plain": [
       "2037"
      ]
     },
     "metadata": {},
     "output_type": "display_data"
    }
   ],
   "source": [
    "display(len(data[data.exited == 0]))\n",
    "display(len(data[data.exited == 1]))"
   ]
  },
  {
   "cell_type": "markdown",
   "metadata": {},
   "source": [
    "По данным, количество оставшихся клиентов и клиентов, которые ушли, отличается почти в 4 раза, что говорит нам о дисбалансе. \n",
    "\n",
    "Для начала попробуем обучить модель на текущих данных."
   ]
  },
  {
   "cell_type": "markdown",
   "metadata": {},
   "source": [
    "### Разделение данных"
   ]
  },
  {
   "cell_type": "code",
   "execution_count": 18,
   "metadata": {},
   "outputs": [],
   "source": [
    "features = data.drop('exited', axis=1)\n",
    "target = data['exited']\n",
    "features_train, features_valid, target_train,target_valid = train_test_split(\n",
    "    features, target, test_size=0.4, random_state=12345)\n",
    "features_valid, features_test, target_valid, target_test = train_test_split(\n",
    "    features_valid, target_valid, test_size=0.5, random_state=12345)"
   ]
  },
  {
   "cell_type": "markdown",
   "metadata": {},
   "source": [
    "Все данные разделены на три выборки (тренировочная, валидационная и тестовая) в отношении 60%/20%/20%. Для дальнейшего обучения моделей необходимо масштабировать данные, так как на линейных моделях это может привести к некорректным результатам."
   ]
  },
  {
   "cell_type": "markdown",
   "metadata": {},
   "source": [
    "### Масштабирование признаков"
   ]
  },
  {
   "cell_type": "code",
   "execution_count": 19,
   "metadata": {},
   "outputs": [],
   "source": [
    "numeric = ['credit_score', 'age', 'tenure', 'balance', 'estimated_salary']\n",
    "scaler = StandardScaler()\n",
    "scaler.fit(features_train[numeric])\n",
    "features_train[numeric] = scaler.transform(features_train[numeric])\n",
    "features_valid[numeric] = scaler.transform(features_valid[numeric])\n",
    "features_test[numeric] = scaler.transform(features_test[numeric])\n",
    "pd.options.mode.chained_assignment = None"
   ]
  },
  {
   "cell_type": "markdown",
   "metadata": {},
   "source": [
    "Обучим модели на текущих данных и посмотрим результаты."
   ]
  },
  {
   "cell_type": "markdown",
   "metadata": {},
   "source": [
    "### DecisionTreeClassifier"
   ]
  },
  {
   "cell_type": "code",
   "execution_count": 20,
   "metadata": {},
   "outputs": [
    {
     "name": "stdout",
     "output_type": "stream",
     "text": [
      "DecisionTreeClassifier: depth = 9, f1_score = 0.5786516853932585\n"
     ]
    }
   ],
   "source": [
    "f1_best = 0\n",
    "best_depth = 0\n",
    "for depth in range(1, 20):\n",
    "    model = DecisionTreeClassifier(max_depth=depth, random_state=12345)\n",
    "    model.fit(features_train, target_train)\n",
    "    predicted_valid = model.predict(features_valid)\n",
    "    f1 = f1_score(target_valid, predicted_valid)\n",
    "    if f1 > f1_best:\n",
    "        f1_best = f1\n",
    "        best_depth = depth\n",
    "print(f'DecisionTreeClassifier: depth = {best_depth}, f1_score = {f1_best}')"
   ]
  },
  {
   "cell_type": "markdown",
   "metadata": {},
   "source": [
    "### RandomForestClassifier"
   ]
  },
  {
   "cell_type": "code",
   "execution_count": 21,
   "metadata": {},
   "outputs": [
    {
     "name": "stdout",
     "output_type": "stream",
     "text": [
      "RandomForestClassifier: depth = 17, f1_score = 0.6, estimators = 25\n"
     ]
    }
   ],
   "source": [
    "f1_best = 0\n",
    "best_depth = 0\n",
    "for depth in range(1, 20):\n",
    "    for estimators in range(5, 50, 5):\n",
    "        model = RandomForestClassifier(n_estimators=estimators, max_depth=depth, random_state=12345)\n",
    "        model.fit(features_train, target_train)\n",
    "        predicted_valid = model.predict(features_valid)\n",
    "        f1 = f1_score(target_valid, predicted_valid)\n",
    "        if f1 > f1_best:\n",
    "            f1_best = f1\n",
    "            best_depth = depth\n",
    "            best_estimators = estimators\n",
    "print(f'RandomForestClassifier: depth = {best_depth}, f1_score = {f1_best}, estimators = {best_estimators}')"
   ]
  },
  {
   "cell_type": "markdown",
   "metadata": {},
   "source": [
    "### LogisticRegression"
   ]
  },
  {
   "cell_type": "code",
   "execution_count": 22,
   "metadata": {},
   "outputs": [
    {
     "name": "stdout",
     "output_type": "stream",
     "text": [
      "LogisticRegression: f1_score = 0.33389544688026984\n"
     ]
    }
   ],
   "source": [
    "model = LogisticRegression()\n",
    "model.fit(features_train, target_train)\n",
    "predicted_valid = model.predict(features_valid)\n",
    "f1 = f1_score(target_valid, predicted_valid)\n",
    "print(f'LogisticRegression: f1_score = {f1}')"
   ]
  },
  {
   "cell_type": "markdown",
   "metadata": {},
   "source": [
    "#### Вывод"
   ]
  },
  {
   "cell_type": "markdown",
   "metadata": {},
   "source": [
    "Стоит учитывать, что все модели были обучены на данных с дисболансом. Очень хороших результатов они не достигли. Наилучший показатель был у модели Случайный лес с показателями depth = 17, estimators = 25. Близкое значение f1 метрики было у модели Дерево Решений, при этом параметр depth = 9, что значительно меньше. Наихудший результат был у модели Логистическая регрессия.\n",
    "\n",
    "Далее попробуем избавиться от дисбаланса и обучить модели на более нормализованных данных."
   ]
  },
  {
   "cell_type": "markdown",
   "metadata": {},
   "source": [
    "## Борьба с дисбалансом"
   ]
  },
  {
   "cell_type": "markdown",
   "metadata": {},
   "source": [
    "На данный момент мы знаем, что количество оставшихся покупателей почти в 4 раза больше, чем количество ушедших. Для сбалансирования данных есть два способа: увеличение количества значений \"1\" в целовом признаке exited; уменьшение количества значений \"0\". Для более точной картины применим оба способа и выберем наилучшие показатели у моделей."
   ]
  },
  {
   "cell_type": "markdown",
   "metadata": {},
   "source": [
    "### Увеличение выборки"
   ]
  },
  {
   "cell_type": "code",
   "execution_count": 23,
   "metadata": {},
   "outputs": [],
   "source": [
    "def upsample(features, target, repeat):\n",
    "    features_zeros = features[target == 0]\n",
    "    features_ones = features[target == 1]\n",
    "    target_zeros = target[target == 0]\n",
    "    target_ones = target[target == 1]\n",
    "\n",
    "    features_upsampled = pd.concat([features_zeros] + [features_ones] * repeat)\n",
    "    target_upsampled = pd.concat([target_zeros] + [target_ones] * repeat)\n",
    "    \n",
    "    features_upsampled, target_upsampled = shuffle(\n",
    "        features_upsampled, target_upsampled, random_state=12345)\n",
    "    \n",
    "    return features_upsampled, target_upsampled\n",
    "\n",
    "features_upsampled, target_upsampled = upsample(features_train, target_train, 4)"
   ]
  },
  {
   "cell_type": "markdown",
   "metadata": {},
   "source": [
    "#### DecisionTreeClassifier"
   ]
  },
  {
   "cell_type": "code",
   "execution_count": 24,
   "metadata": {},
   "outputs": [
    {
     "name": "stdout",
     "output_type": "stream",
     "text": [
      "DecisionTreeClassifier: depth = 5, f1_score = 0.5963791267305644\n"
     ]
    }
   ],
   "source": [
    "f1_best = 0\n",
    "best_depth = 0\n",
    "for depth in range(1, 20):\n",
    "    model = DecisionTreeClassifier(max_depth=depth, random_state=12345)\n",
    "    model.fit(features_upsampled, target_upsampled)\n",
    "    predicted_valid = model.predict(features_valid)\n",
    "    f1 = f1_score(target_valid, predicted_valid)\n",
    "    if f1 > f1_best:\n",
    "        f1_best = f1\n",
    "        best_depth = depth\n",
    "print(f'DecisionTreeClassifier: depth = {best_depth}, f1_score = {f1_best}')"
   ]
  },
  {
   "cell_type": "markdown",
   "metadata": {},
   "source": [
    "#### RandomForestClassifier"
   ]
  },
  {
   "cell_type": "code",
   "execution_count": 25,
   "metadata": {},
   "outputs": [
    {
     "name": "stdout",
     "output_type": "stream",
     "text": [
      "RandomForestClassifier: depth = 13, f1_score = 0.6329723225030085, estimators = 35\n"
     ]
    }
   ],
   "source": [
    "f1_best = 0\n",
    "best_depth = 0\n",
    "for depth in range(1, 20):\n",
    "    for estimators in range(5, 50, 5):\n",
    "        model = RandomForestClassifier(n_estimators=estimators, max_depth=depth, random_state=12345)\n",
    "        model.fit(features_upsampled, target_upsampled)\n",
    "        predicted_valid = model.predict(features_valid)\n",
    "        f1 = f1_score(target_valid, predicted_valid)\n",
    "        if f1 > f1_best:\n",
    "            f1_best = f1\n",
    "            best_depth = depth\n",
    "            best_estimators = estimators\n",
    "print(f'RandomForestClassifier: depth = {best_depth}, f1_score = {f1_best}, estimators = {best_estimators}')"
   ]
  },
  {
   "cell_type": "markdown",
   "metadata": {},
   "source": [
    "#### LogisticRegression"
   ]
  },
  {
   "cell_type": "code",
   "execution_count": 26,
   "metadata": {},
   "outputs": [
    {
     "name": "stdout",
     "output_type": "stream",
     "text": [
      "LogisticRegression: f1_score = 0.4888888888888888\n"
     ]
    }
   ],
   "source": [
    "model = LogisticRegression()\n",
    "model.fit(features_upsampled, target_upsampled)\n",
    "predicted_valid = model.predict(features_valid)\n",
    "f1 = f1_score(target_valid, predicted_valid)\n",
    "print(f'LogisticRegression: f1_score = {f1}')"
   ]
  },
  {
   "cell_type": "markdown",
   "metadata": {},
   "source": [
    "#### Вывод"
   ]
  },
  {
   "cell_type": "markdown",
   "metadata": {},
   "source": [
    "Показатели улучшились, но не сильно. Наилучшее значение также показывает метрика Случайный Лес, но уже с показателями depth = 13, estimators = 35"
   ]
  },
  {
   "cell_type": "markdown",
   "metadata": {},
   "source": [
    "### Уменьшение выборки"
   ]
  },
  {
   "cell_type": "code",
   "execution_count": 27,
   "metadata": {},
   "outputs": [],
   "source": [
    "def downsample(features, target, fraction):\n",
    "    features_zeros = features[target == 0]\n",
    "    features_ones = features[target == 1]\n",
    "    target_zeros = target[target == 0]\n",
    "    target_ones = target[target == 1]\n",
    "\n",
    "    features_downsampled = pd.concat(\n",
    "        [features_zeros.sample(frac=fraction, random_state=12345)] + [features_ones])\n",
    "    target_downsampled = pd.concat(\n",
    "        [target_zeros.sample(frac=fraction, random_state=12345)] + [target_ones])\n",
    "    \n",
    "    features_downsampled, target_downsampled = shuffle(\n",
    "        features_downsampled, target_downsampled, random_state=12345)\n",
    "    \n",
    "    return features_downsampled, target_downsampled\n",
    "\n",
    "features_downsampled, target_downsampled = downsample(features_train, target_train, 0.25)"
   ]
  },
  {
   "cell_type": "markdown",
   "metadata": {},
   "source": [
    "#### DecisionTreeClassifier"
   ]
  },
  {
   "cell_type": "code",
   "execution_count": 28,
   "metadata": {},
   "outputs": [
    {
     "name": "stdout",
     "output_type": "stream",
     "text": [
      "DecisionTreeClassifier: depth = 5, f1_score = 0.5931174089068827\n"
     ]
    }
   ],
   "source": [
    "f1_best = 0\n",
    "best_depth = 0\n",
    "for depth in range(1, 20):\n",
    "    model = DecisionTreeClassifier(max_depth=depth, random_state=12345)\n",
    "    model.fit(features_downsampled, target_downsampled)\n",
    "    predicted_valid = model.predict(features_valid)\n",
    "    f1 = f1_score(target_valid, predicted_valid)\n",
    "    if f1 > f1_best:\n",
    "        f1_best = f1\n",
    "        best_depth = depth\n",
    "print(f'DecisionTreeClassifier: depth = {best_depth}, f1_score = {f1_best}')"
   ]
  },
  {
   "cell_type": "markdown",
   "metadata": {},
   "source": [
    "#### RandomForestClassifier"
   ]
  },
  {
   "cell_type": "code",
   "execution_count": 29,
   "metadata": {},
   "outputs": [
    {
     "name": "stdout",
     "output_type": "stream",
     "text": [
      "RandomForestClassifier: depth = 4, f1_score = 0.6036217303822937, estimators = 10\n"
     ]
    }
   ],
   "source": [
    "f1_best = 0\n",
    "best_depth = 0\n",
    "for depth in range(1, 20):\n",
    "    for estimators in range(5, 50, 5):\n",
    "        model = RandomForestClassifier(n_estimators=estimators, max_depth=depth, random_state=12345)\n",
    "        model.fit(features_downsampled, target_downsampled)\n",
    "        predicted_valid = model.predict(features_valid)\n",
    "        f1 = f1_score(target_valid, predicted_valid)\n",
    "        if f1 > f1_best:\n",
    "            f1_best = f1\n",
    "            best_depth = depth\n",
    "            best_estimators = estimators\n",
    "print(f'RandomForestClassifier: depth = {best_depth}, f1_score = {f1_best}, estimators = {best_estimators}')"
   ]
  },
  {
   "cell_type": "markdown",
   "metadata": {},
   "source": [
    "#### LogisticRegression"
   ]
  },
  {
   "cell_type": "code",
   "execution_count": 30,
   "metadata": {},
   "outputs": [
    {
     "name": "stdout",
     "output_type": "stream",
     "text": [
      "LogisticRegression: f1_score = 0.4892703862660944\n"
     ]
    }
   ],
   "source": [
    "model = LogisticRegression()\n",
    "model.fit(features_downsampled, target_downsampled)\n",
    "predicted_valid = model.predict(features_valid)\n",
    "f1 = f1_score(target_valid, predicted_valid)\n",
    "print(f'LogisticRegression: f1_score = {f1}')"
   ]
  },
  {
   "cell_type": "markdown",
   "metadata": {},
   "source": [
    "#### Вывод"
   ]
  },
  {
   "cell_type": "markdown",
   "metadata": {},
   "source": [
    "Показатели улучшились, но не сильно. Наилучшее значение также показывает модель Случайный Лес, но уже с показателями depth = 13, estimators = 35"
   ]
  },
  {
   "cell_type": "markdown",
   "metadata": {},
   "source": [
    "### Вывод"
   ]
  },
  {
   "cell_type": "markdown",
   "metadata": {},
   "source": [
    "Уменьшение выборки не показало более лучшие результаты. Все значения примерно как и увеличения выборки, уступают на несколько сотых."
   ]
  },
  {
   "cell_type": "markdown",
   "metadata": {},
   "source": [
    "Наилучшие показатели были у модели Случайный Лес с показателями depth = 13, estimators = 35. Протестируем ее на увеличенной выборке."
   ]
  },
  {
   "cell_type": "markdown",
   "metadata": {},
   "source": [
    "## Тестирование модели"
   ]
  },
  {
   "cell_type": "code",
   "execution_count": 31,
   "metadata": {},
   "outputs": [],
   "source": [
    "model = RandomForestClassifier(n_estimators=35, max_depth=13, random_state=12345)\n",
    "model.fit(features_upsampled, target_upsampled)\n",
    "predicted_test = model.predict(features_test)\n",
    "probabilities_test = model.predict_proba(features_test)\n",
    "probabilities_one_test = probabilities_test[:, 1]\n",
    "fpr, tpr, thresholds = roc_curve(target_test, probabilities_one_test)"
   ]
  },
  {
   "cell_type": "code",
   "execution_count": 32,
   "metadata": {
    "scrolled": true
   },
   "outputs": [
    {
     "name": "stdout",
     "output_type": "stream",
     "text": [
      "f1_score: 0.6\n",
      "AUC-ROC: 0.8527997769352887\n"
     ]
    }
   ],
   "source": [
    "print(f'f1_score: {f1_score(target_test, predicted_test)}')\n",
    "print(f'AUC-ROC: {roc_auc_score(target_test, model.predict_proba(features_test)[:, 1])}')"
   ]
  },
  {
   "cell_type": "code",
   "execution_count": 33,
   "metadata": {
    "scrolled": true
   },
   "outputs": [
    {
     "data": {
      "image/png": "[encoded data removed]",
      "text/plain": [
       "<Figure size 720x504 with 1 Axes>"
      ]
     },
     "metadata": {
      "needs_background": "light"
     },
     "output_type": "display_data"
    }
   ],
   "source": [
    "plt.figure(figsize=(10, 7))\n",
    "plt.plot(fpr, tpr)\n",
    "plt.plot([0, 1], [0, 1], linestyle='--')\n",
    "plt.xlim([0.0, 1.0])\n",
    "plt.ylim([0.0, 1.0])\n",
    "plt.xlabel('False Positive Rate')\n",
    "plt.ylabel('True Positive Rate')\n",
    "plt.title('ROC-кривая')\n",
    "plt.show()"
   ]
  },
  {
   "cell_type": "markdown",
   "metadata": {},
   "source": [
    "По графику кривой можно сказать, что площадь под графиком занимает большую часть, а это означает, что модель ошибается редко."
   ]
  },
  {
   "cell_type": "markdown",
   "metadata": {},
   "source": [
    "## Вывод"
   ]
  },
  {
   "cell_type": "markdown",
   "metadata": {},
   "source": [
    "Для создания прогноза, уйдёт ли клиент из банка в ближайшее время или нет, были рассмотрены данные о поведении клиентов и расторжении договоров с банком. В начале работы исходные данные были отредактированы: изменены названия признаков, удалены лишние признаки и категориальные признаки переведены в количественные. \n",
    "\n",
    "В ходе исследования данных был найден дисбаланс по целевому признаку. Для сравнения модели были обучены на исходных данных, а затем на сбалансированных данных. Наилучшие показатели были у модели Случайный лес. Достигнуто необходимое значение F1-метрики, равное 0.6. Также рассмотрено значение метрики AUC ROC, равное 0.8527997769352887, и построена ROC-кривая. "
   ]
  }
 ],
 "metadata": {
  "ExecuteTimeLog": [
   {
    "duration": 1542,
    "start_time": "2022-12-08T18:55:34.795Z"
   },
   {
    "duration": 150,
    "start_time": "2022-12-08T18:55:36.748Z"
   },
   {
    "duration": 165,
    "start_time": "2022-12-08T18:55:52.618Z"
   },
   {
    "duration": 17,
    "start_time": "2022-12-08T18:56:04.672Z"
   },
   {
    "duration": 15,
    "start_time": "2022-12-08T18:56:24.917Z"
   },
   {
    "duration": 13,
    "start_time": "2022-12-08T18:56:52.957Z"
   },
   {
    "duration": 12,
    "start_time": "2022-12-08T18:58:40.481Z"
   },
   {
    "duration": 8,
    "start_time": "2022-12-08T18:58:54.793Z"
   },
   {
    "duration": 8,
    "start_time": "2022-12-08T19:03:04.906Z"
   },
   {
    "duration": 1445,
    "start_time": "2022-12-08T19:12:13.401Z"
   },
   {
    "duration": 40,
    "start_time": "2022-12-08T19:12:14.848Z"
   },
   {
    "duration": 14,
    "start_time": "2022-12-08T19:12:14.890Z"
   },
   {
    "duration": 17,
    "start_time": "2022-12-08T19:12:14.906Z"
   },
   {
    "duration": 3,
    "start_time": "2022-12-08T19:12:14.925Z"
   },
   {
    "duration": 4,
    "start_time": "2022-12-08T19:12:14.938Z"
   },
   {
    "duration": 15,
    "start_time": "2022-12-08T19:12:14.944Z"
   },
   {
    "duration": 131,
    "start_time": "2022-12-08T19:12:14.961Z"
   },
   {
    "duration": 0,
    "start_time": "2022-12-08T19:12:15.093Z"
   },
   {
    "duration": 0,
    "start_time": "2022-12-08T19:12:15.094Z"
   },
   {
    "duration": 0,
    "start_time": "2022-12-08T19:12:15.095Z"
   },
   {
    "duration": 13,
    "start_time": "2022-12-08T19:12:47.321Z"
   },
   {
    "duration": 1356,
    "start_time": "2022-12-08T19:12:58.381Z"
   },
   {
    "duration": 43,
    "start_time": "2022-12-08T19:12:59.739Z"
   },
   {
    "duration": 14,
    "start_time": "2022-12-08T19:12:59.783Z"
   },
   {
    "duration": 16,
    "start_time": "2022-12-08T19:12:59.799Z"
   },
   {
    "duration": 4,
    "start_time": "2022-12-08T19:12:59.818Z"
   },
   {
    "duration": 13,
    "start_time": "2022-12-08T19:12:59.824Z"
   },
   {
    "duration": 15,
    "start_time": "2022-12-08T19:12:59.839Z"
   },
   {
    "duration": 131,
    "start_time": "2022-12-08T19:12:59.856Z"
   },
   {
    "duration": 0,
    "start_time": "2022-12-08T19:12:59.989Z"
   },
   {
    "duration": 0,
    "start_time": "2022-12-08T19:12:59.990Z"
   },
   {
    "duration": 0,
    "start_time": "2022-12-08T19:12:59.991Z"
   },
   {
    "duration": 1401,
    "start_time": "2022-12-08T19:13:57.033Z"
   },
   {
    "duration": 41,
    "start_time": "2022-12-08T19:13:58.436Z"
   },
   {
    "duration": 14,
    "start_time": "2022-12-08T19:13:58.479Z"
   },
   {
    "duration": 18,
    "start_time": "2022-12-08T19:13:58.495Z"
   },
   {
    "duration": 3,
    "start_time": "2022-12-08T19:13:58.514Z"
   },
   {
    "duration": 7,
    "start_time": "2022-12-08T19:13:58.519Z"
   },
   {
    "duration": 18,
    "start_time": "2022-12-08T19:13:58.527Z"
   },
   {
    "duration": 129,
    "start_time": "2022-12-08T19:13:58.547Z"
   },
   {
    "duration": 0,
    "start_time": "2022-12-08T19:13:58.678Z"
   },
   {
    "duration": 0,
    "start_time": "2022-12-08T19:13:58.679Z"
   },
   {
    "duration": 0,
    "start_time": "2022-12-08T19:13:58.680Z"
   },
   {
    "duration": 1353,
    "start_time": "2022-12-08T19:14:24.061Z"
   },
   {
    "duration": 42,
    "start_time": "2022-12-08T19:14:25.416Z"
   },
   {
    "duration": 14,
    "start_time": "2022-12-08T19:14:25.460Z"
   },
   {
    "duration": 16,
    "start_time": "2022-12-08T19:14:25.477Z"
   },
   {
    "duration": 4,
    "start_time": "2022-12-08T19:14:25.494Z"
   },
   {
    "duration": 10,
    "start_time": "2022-12-08T19:14:25.499Z"
   },
   {
    "duration": 32,
    "start_time": "2022-12-08T19:14:25.510Z"
   },
   {
    "duration": 7,
    "start_time": "2022-12-08T19:14:25.543Z"
   },
   {
    "duration": 33,
    "start_time": "2022-12-08T19:14:25.551Z"
   },
   {
    "duration": 8,
    "start_time": "2022-12-08T19:14:25.587Z"
   },
   {
    "duration": 8,
    "start_time": "2022-12-08T19:14:25.597Z"
   },
   {
    "duration": 1354,
    "start_time": "2022-12-08T19:15:40.576Z"
   },
   {
    "duration": 44,
    "start_time": "2022-12-08T19:15:41.932Z"
   },
   {
    "duration": 14,
    "start_time": "2022-12-08T19:15:41.978Z"
   },
   {
    "duration": 16,
    "start_time": "2022-12-08T19:15:41.995Z"
   },
   {
    "duration": 3,
    "start_time": "2022-12-08T19:15:42.012Z"
   },
   {
    "duration": 8,
    "start_time": "2022-12-08T19:15:42.017Z"
   },
   {
    "duration": 19,
    "start_time": "2022-12-08T19:15:42.027Z"
   },
   {
    "duration": 7,
    "start_time": "2022-12-08T19:15:42.047Z"
   },
   {
    "duration": 12,
    "start_time": "2022-12-08T19:15:42.056Z"
   },
   {
    "duration": 7,
    "start_time": "2022-12-08T19:15:42.070Z"
   },
   {
    "duration": 6,
    "start_time": "2022-12-08T19:15:42.079Z"
   },
   {
    "duration": 1344,
    "start_time": "2022-12-08T19:18:00.670Z"
   },
   {
    "duration": 51,
    "start_time": "2022-12-08T19:18:02.016Z"
   },
   {
    "duration": 17,
    "start_time": "2022-12-08T19:18:02.069Z"
   },
   {
    "duration": 4,
    "start_time": "2022-12-08T19:18:02.088Z"
   },
   {
    "duration": 36,
    "start_time": "2022-12-08T19:18:02.093Z"
   },
   {
    "duration": 30,
    "start_time": "2022-12-08T19:18:02.131Z"
   },
   {
    "duration": 23,
    "start_time": "2022-12-08T19:18:02.163Z"
   },
   {
    "duration": 27,
    "start_time": "2022-12-08T19:18:02.188Z"
   },
   {
    "duration": 12,
    "start_time": "2022-12-08T19:18:02.217Z"
   },
   {
    "duration": 23,
    "start_time": "2022-12-08T19:18:02.231Z"
   },
   {
    "duration": 5,
    "start_time": "2022-12-08T19:18:02.256Z"
   },
   {
    "duration": 14,
    "start_time": "2022-12-08T19:28:35.578Z"
   },
   {
    "duration": 18,
    "start_time": "2022-12-08T19:38:39.440Z"
   },
   {
    "duration": 15,
    "start_time": "2022-12-08T19:39:01.630Z"
   },
   {
    "duration": 2785,
    "start_time": "2022-12-08T19:40:01.851Z"
   },
   {
    "duration": 1896,
    "start_time": "2022-12-08T19:40:11.849Z"
   },
   {
    "duration": 51,
    "start_time": "2022-12-08T19:40:13.747Z"
   },
   {
    "duration": 18,
    "start_time": "2022-12-08T19:40:13.800Z"
   },
   {
    "duration": 3,
    "start_time": "2022-12-08T19:40:13.821Z"
   },
   {
    "duration": 10,
    "start_time": "2022-12-08T19:40:13.827Z"
   },
   {
    "duration": 16,
    "start_time": "2022-12-08T19:40:13.839Z"
   },
   {
    "duration": 19,
    "start_time": "2022-12-08T19:40:13.857Z"
   },
   {
    "duration": 9,
    "start_time": "2022-12-08T19:40:13.878Z"
   },
   {
    "duration": 11,
    "start_time": "2022-12-08T19:40:13.889Z"
   },
   {
    "duration": 37,
    "start_time": "2022-12-08T19:40:13.904Z"
   },
   {
    "duration": 9,
    "start_time": "2022-12-08T19:40:13.943Z"
   },
   {
    "duration": 20,
    "start_time": "2022-12-08T19:40:13.954Z"
   },
   {
    "duration": 8,
    "start_time": "2022-12-08T19:40:13.976Z"
   },
   {
    "duration": 20,
    "start_time": "2022-12-08T19:40:13.986Z"
   },
   {
    "duration": 1340,
    "start_time": "2022-12-08T19:47:09.277Z"
   },
   {
    "duration": 52,
    "start_time": "2022-12-08T19:47:10.619Z"
   },
   {
    "duration": 16,
    "start_time": "2022-12-08T19:47:10.673Z"
   },
   {
    "duration": 4,
    "start_time": "2022-12-08T19:47:10.691Z"
   },
   {
    "duration": 6,
    "start_time": "2022-12-08T19:47:10.696Z"
   },
   {
    "duration": 13,
    "start_time": "2022-12-08T19:47:10.703Z"
   },
   {
    "duration": 27,
    "start_time": "2022-12-08T19:47:10.718Z"
   },
   {
    "duration": 7,
    "start_time": "2022-12-08T19:47:10.747Z"
   },
   {
    "duration": 7,
    "start_time": "2022-12-08T19:47:10.755Z"
   },
   {
    "duration": 4,
    "start_time": "2022-12-08T19:47:10.765Z"
   },
   {
    "duration": 5,
    "start_time": "2022-12-08T19:47:10.771Z"
   },
   {
    "duration": 11,
    "start_time": "2022-12-08T19:47:10.778Z"
   },
   {
    "duration": 7,
    "start_time": "2022-12-08T19:47:10.791Z"
   },
   {
    "duration": 56,
    "start_time": "2022-12-08T19:47:10.799Z"
   },
   {
    "duration": 384,
    "start_time": "2022-12-08T19:49:15.711Z"
   },
   {
    "duration": 160,
    "start_time": "2022-12-08T19:49:36.861Z"
   },
   {
    "duration": 134,
    "start_time": "2022-12-08T19:49:51.926Z"
   },
   {
    "duration": 138,
    "start_time": "2022-12-08T19:50:51.558Z"
   },
   {
    "duration": 1242,
    "start_time": "2022-12-08T19:51:56.675Z"
   },
   {
    "duration": 1297,
    "start_time": "2022-12-08T19:52:20.699Z"
   },
   {
    "duration": 69,
    "start_time": "2022-12-08T19:52:45.373Z"
   },
   {
    "duration": 9,
    "start_time": "2022-12-08T19:52:50.981Z"
   },
   {
    "duration": 1138,
    "start_time": "2022-12-08T19:54:15.135Z"
   },
   {
    "duration": 4,
    "start_time": "2022-12-08T19:54:45.511Z"
   },
   {
    "duration": 8,
    "start_time": "2022-12-08T19:54:56.158Z"
   },
   {
    "duration": 1120,
    "start_time": "2022-12-08T20:02:15.972Z"
   },
   {
    "duration": 6,
    "start_time": "2022-12-08T20:02:28.977Z"
   },
   {
    "duration": 7,
    "start_time": "2022-12-08T20:02:47.378Z"
   },
   {
    "duration": 1432,
    "start_time": "2022-12-08T20:02:55.732Z"
   },
   {
    "duration": 51,
    "start_time": "2022-12-08T20:02:57.166Z"
   },
   {
    "duration": 17,
    "start_time": "2022-12-08T20:02:57.219Z"
   },
   {
    "duration": 4,
    "start_time": "2022-12-08T20:02:57.238Z"
   },
   {
    "duration": 6,
    "start_time": "2022-12-08T20:02:57.244Z"
   },
   {
    "duration": 18,
    "start_time": "2022-12-08T20:02:57.251Z"
   },
   {
    "duration": 15,
    "start_time": "2022-12-08T20:02:57.271Z"
   },
   {
    "duration": 7,
    "start_time": "2022-12-08T20:02:57.287Z"
   },
   {
    "duration": 7,
    "start_time": "2022-12-08T20:02:57.295Z"
   },
   {
    "duration": 35,
    "start_time": "2022-12-08T20:02:57.303Z"
   },
   {
    "duration": 5,
    "start_time": "2022-12-08T20:02:57.340Z"
   },
   {
    "duration": 12,
    "start_time": "2022-12-08T20:02:57.346Z"
   },
   {
    "duration": 6,
    "start_time": "2022-12-08T20:02:57.360Z"
   },
   {
    "duration": 21,
    "start_time": "2022-12-08T20:02:57.368Z"
   },
   {
    "duration": 179,
    "start_time": "2022-12-08T20:02:57.391Z"
   },
   {
    "duration": 10,
    "start_time": "2022-12-08T20:02:57.572Z"
   },
   {
    "duration": 8,
    "start_time": "2022-12-08T20:02:57.583Z"
   },
   {
    "duration": 1383,
    "start_time": "2022-12-08T20:15:53.944Z"
   },
   {
    "duration": 50,
    "start_time": "2022-12-08T20:15:55.329Z"
   },
   {
    "duration": 16,
    "start_time": "2022-12-08T20:15:55.381Z"
   },
   {
    "duration": 3,
    "start_time": "2022-12-08T20:15:55.399Z"
   },
   {
    "duration": 8,
    "start_time": "2022-12-08T20:15:55.404Z"
   },
   {
    "duration": 13,
    "start_time": "2022-12-08T20:15:55.413Z"
   },
   {
    "duration": 19,
    "start_time": "2022-12-08T20:15:55.427Z"
   },
   {
    "duration": 7,
    "start_time": "2022-12-08T20:15:55.447Z"
   },
   {
    "duration": 6,
    "start_time": "2022-12-08T20:15:55.455Z"
   },
   {
    "duration": 5,
    "start_time": "2022-12-08T20:15:55.463Z"
   },
   {
    "duration": 6,
    "start_time": "2022-12-08T20:15:55.469Z"
   },
   {
    "duration": 10,
    "start_time": "2022-12-08T20:15:55.477Z"
   },
   {
    "duration": 6,
    "start_time": "2022-12-08T20:15:55.488Z"
   },
   {
    "duration": 53,
    "start_time": "2022-12-08T20:15:55.495Z"
   },
   {
    "duration": 151,
    "start_time": "2022-12-08T20:15:55.550Z"
   },
   {
    "duration": 11,
    "start_time": "2022-12-08T20:15:55.702Z"
   },
   {
    "duration": 26,
    "start_time": "2022-12-08T20:15:55.714Z"
   },
   {
    "duration": 137,
    "start_time": "2022-12-08T20:15:55.741Z"
   },
   {
    "duration": 1409,
    "start_time": "2022-12-08T20:16:23.933Z"
   },
   {
    "duration": 52,
    "start_time": "2022-12-08T20:16:25.344Z"
   },
   {
    "duration": 16,
    "start_time": "2022-12-08T20:16:25.398Z"
   },
   {
    "duration": 3,
    "start_time": "2022-12-08T20:16:25.417Z"
   },
   {
    "duration": 6,
    "start_time": "2022-12-08T20:16:25.421Z"
   },
   {
    "duration": 17,
    "start_time": "2022-12-08T20:16:25.428Z"
   },
   {
    "duration": 18,
    "start_time": "2022-12-08T20:16:25.447Z"
   },
   {
    "duration": 8,
    "start_time": "2022-12-08T20:16:25.466Z"
   },
   {
    "duration": 7,
    "start_time": "2022-12-08T20:16:25.475Z"
   },
   {
    "duration": 4,
    "start_time": "2022-12-08T20:16:25.484Z"
   },
   {
    "duration": 10,
    "start_time": "2022-12-08T20:16:25.490Z"
   },
   {
    "duration": 37,
    "start_time": "2022-12-08T20:16:25.502Z"
   },
   {
    "duration": 6,
    "start_time": "2022-12-08T20:16:25.541Z"
   },
   {
    "duration": 17,
    "start_time": "2022-12-08T20:16:25.549Z"
   },
   {
    "duration": 179,
    "start_time": "2022-12-08T20:16:25.567Z"
   },
   {
    "duration": 10,
    "start_time": "2022-12-08T20:16:25.747Z"
   },
   {
    "duration": 10,
    "start_time": "2022-12-08T20:16:25.758Z"
   },
   {
    "duration": 147,
    "start_time": "2022-12-08T20:16:25.770Z"
   },
   {
    "duration": 1345,
    "start_time": "2022-12-08T20:17:09.071Z"
   },
   {
    "duration": 51,
    "start_time": "2022-12-08T20:17:10.419Z"
   },
   {
    "duration": 19,
    "start_time": "2022-12-08T20:17:10.472Z"
   },
   {
    "duration": 4,
    "start_time": "2022-12-08T20:17:10.493Z"
   },
   {
    "duration": 6,
    "start_time": "2022-12-08T20:17:10.499Z"
   },
   {
    "duration": 33,
    "start_time": "2022-12-08T20:17:10.506Z"
   },
   {
    "duration": 15,
    "start_time": "2022-12-08T20:17:10.541Z"
   },
   {
    "duration": 8,
    "start_time": "2022-12-08T20:17:10.558Z"
   },
   {
    "duration": 8,
    "start_time": "2022-12-08T20:17:10.568Z"
   },
   {
    "duration": 4,
    "start_time": "2022-12-08T20:17:10.579Z"
   },
   {
    "duration": 7,
    "start_time": "2022-12-08T20:17:10.585Z"
   },
   {
    "duration": 52,
    "start_time": "2022-12-08T20:17:10.594Z"
   },
   {
    "duration": 6,
    "start_time": "2022-12-08T20:17:10.648Z"
   },
   {
    "duration": 19,
    "start_time": "2022-12-08T20:17:10.655Z"
   },
   {
    "duration": 172,
    "start_time": "2022-12-08T20:17:10.675Z"
   },
   {
    "duration": 9,
    "start_time": "2022-12-08T20:17:10.849Z"
   },
   {
    "duration": 9,
    "start_time": "2022-12-08T20:17:10.860Z"
   },
   {
    "duration": 21,
    "start_time": "2022-12-08T20:17:10.871Z"
   },
   {
    "duration": 126,
    "start_time": "2022-12-08T20:18:14.851Z"
   },
   {
    "duration": 1357,
    "start_time": "2022-12-08T20:20:33.077Z"
   },
   {
    "duration": 49,
    "start_time": "2022-12-08T20:20:34.436Z"
   },
   {
    "duration": 17,
    "start_time": "2022-12-08T20:20:34.487Z"
   },
   {
    "duration": 3,
    "start_time": "2022-12-08T20:20:34.506Z"
   },
   {
    "duration": 8,
    "start_time": "2022-12-08T20:20:34.510Z"
   },
   {
    "duration": 13,
    "start_time": "2022-12-08T20:20:34.520Z"
   },
   {
    "duration": 15,
    "start_time": "2022-12-08T20:20:34.534Z"
   },
   {
    "duration": 7,
    "start_time": "2022-12-08T20:20:34.551Z"
   },
   {
    "duration": 7,
    "start_time": "2022-12-08T20:20:34.559Z"
   },
   {
    "duration": 4,
    "start_time": "2022-12-08T20:20:34.568Z"
   },
   {
    "duration": 5,
    "start_time": "2022-12-08T20:20:34.573Z"
   },
   {
    "duration": 11,
    "start_time": "2022-12-08T20:20:34.579Z"
   },
   {
    "duration": 46,
    "start_time": "2022-12-08T20:20:34.591Z"
   },
   {
    "duration": 18,
    "start_time": "2022-12-08T20:20:34.639Z"
   },
   {
    "duration": 163,
    "start_time": "2022-12-08T20:20:34.658Z"
   },
   {
    "duration": 16,
    "start_time": "2022-12-08T20:20:34.822Z"
   },
   {
    "duration": 8,
    "start_time": "2022-12-08T20:20:34.840Z"
   },
   {
    "duration": 22,
    "start_time": "2022-12-08T20:20:34.850Z"
   },
   {
    "duration": 1378,
    "start_time": "2022-12-08T20:22:36.739Z"
   },
   {
    "duration": 48,
    "start_time": "2022-12-08T20:22:38.119Z"
   },
   {
    "duration": 16,
    "start_time": "2022-12-08T20:22:38.169Z"
   },
   {
    "duration": 3,
    "start_time": "2022-12-08T20:22:38.187Z"
   },
   {
    "duration": 6,
    "start_time": "2022-12-08T20:22:38.191Z"
   },
   {
    "duration": 15,
    "start_time": "2022-12-08T20:22:38.199Z"
   },
   {
    "duration": 32,
    "start_time": "2022-12-08T20:22:38.216Z"
   },
   {
    "duration": 8,
    "start_time": "2022-12-08T20:22:38.250Z"
   },
   {
    "duration": 26,
    "start_time": "2022-12-08T20:22:38.260Z"
   },
   {
    "duration": 7,
    "start_time": "2022-12-08T20:22:38.288Z"
   },
   {
    "duration": 7,
    "start_time": "2022-12-08T20:22:38.296Z"
   },
   {
    "duration": 12,
    "start_time": "2022-12-08T20:22:38.305Z"
   },
   {
    "duration": 19,
    "start_time": "2022-12-08T20:22:38.318Z"
   },
   {
    "duration": 21,
    "start_time": "2022-12-08T20:22:38.339Z"
   },
   {
    "duration": 165,
    "start_time": "2022-12-08T20:22:38.361Z"
   },
   {
    "duration": 16,
    "start_time": "2022-12-08T20:22:38.528Z"
   },
   {
    "duration": 8,
    "start_time": "2022-12-08T20:22:38.545Z"
   },
   {
    "duration": 28,
    "start_time": "2022-12-08T20:22:38.555Z"
   },
   {
    "duration": 1568,
    "start_time": "2022-12-12T20:18:26.061Z"
   },
   {
    "duration": 186,
    "start_time": "2022-12-12T20:18:27.631Z"
   },
   {
    "duration": 19,
    "start_time": "2022-12-12T20:18:27.827Z"
   },
   {
    "duration": 3,
    "start_time": "2022-12-12T20:18:27.848Z"
   },
   {
    "duration": 5,
    "start_time": "2022-12-12T20:18:27.853Z"
   },
   {
    "duration": 12,
    "start_time": "2022-12-12T20:18:27.860Z"
   },
   {
    "duration": 13,
    "start_time": "2022-12-12T20:18:27.873Z"
   },
   {
    "duration": 30,
    "start_time": "2022-12-12T20:18:27.888Z"
   },
   {
    "duration": 9,
    "start_time": "2022-12-12T20:18:27.922Z"
   },
   {
    "duration": 6,
    "start_time": "2022-12-12T20:18:27.934Z"
   },
   {
    "duration": 7,
    "start_time": "2022-12-12T20:18:27.941Z"
   },
   {
    "duration": 12,
    "start_time": "2022-12-12T20:18:27.949Z"
   },
   {
    "duration": 6,
    "start_time": "2022-12-12T20:18:27.963Z"
   },
   {
    "duration": 58,
    "start_time": "2022-12-12T20:18:27.970Z"
   },
   {
    "duration": 168,
    "start_time": "2022-12-12T20:18:28.030Z"
   },
   {
    "duration": 21,
    "start_time": "2022-12-12T20:18:28.199Z"
   },
   {
    "duration": 12,
    "start_time": "2022-12-12T20:18:28.223Z"
   },
   {
    "duration": 29,
    "start_time": "2022-12-12T20:18:28.237Z"
   },
   {
    "duration": 160,
    "start_time": "2022-12-12T20:18:28.268Z"
   },
   {
    "duration": 1454,
    "start_time": "2022-12-12T20:20:00.504Z"
   },
   {
    "duration": 50,
    "start_time": "2022-12-12T20:20:01.960Z"
   },
   {
    "duration": 20,
    "start_time": "2022-12-12T20:20:02.013Z"
   },
   {
    "duration": 3,
    "start_time": "2022-12-12T20:20:02.036Z"
   },
   {
    "duration": 7,
    "start_time": "2022-12-12T20:20:02.041Z"
   },
   {
    "duration": 17,
    "start_time": "2022-12-12T20:20:02.050Z"
   },
   {
    "duration": 14,
    "start_time": "2022-12-12T20:20:02.069Z"
   },
   {
    "duration": 33,
    "start_time": "2022-12-12T20:20:02.085Z"
   },
   {
    "duration": 17,
    "start_time": "2022-12-12T20:20:02.120Z"
   },
   {
    "duration": 4,
    "start_time": "2022-12-12T20:20:02.140Z"
   },
   {
    "duration": 11,
    "start_time": "2022-12-12T20:20:02.145Z"
   },
   {
    "duration": 12,
    "start_time": "2022-12-12T20:20:02.158Z"
   },
   {
    "duration": 7,
    "start_time": "2022-12-12T20:20:02.171Z"
   },
   {
    "duration": 49,
    "start_time": "2022-12-12T20:20:02.179Z"
   },
   {
    "duration": 166,
    "start_time": "2022-12-12T20:20:02.230Z"
   },
   {
    "duration": 25,
    "start_time": "2022-12-12T20:20:02.398Z"
   },
   {
    "duration": 12,
    "start_time": "2022-12-12T20:20:02.428Z"
   },
   {
    "duration": 40,
    "start_time": "2022-12-12T20:20:02.442Z"
   },
   {
    "duration": 507,
    "start_time": "2022-12-12T20:20:02.484Z"
   },
   {
    "duration": 1403,
    "start_time": "2022-12-12T20:24:42.519Z"
   },
   {
    "duration": 50,
    "start_time": "2022-12-12T20:24:43.924Z"
   },
   {
    "duration": 17,
    "start_time": "2022-12-12T20:24:43.976Z"
   },
   {
    "duration": 3,
    "start_time": "2022-12-12T20:24:43.995Z"
   },
   {
    "duration": 7,
    "start_time": "2022-12-12T20:24:44.000Z"
   },
   {
    "duration": 16,
    "start_time": "2022-12-12T20:24:44.009Z"
   },
   {
    "duration": 15,
    "start_time": "2022-12-12T20:24:44.027Z"
   },
   {
    "duration": 7,
    "start_time": "2022-12-12T20:24:44.043Z"
   },
   {
    "duration": 6,
    "start_time": "2022-12-12T20:24:44.052Z"
   },
   {
    "duration": 6,
    "start_time": "2022-12-12T20:24:44.061Z"
   },
   {
    "duration": 7,
    "start_time": "2022-12-12T20:24:44.069Z"
   },
   {
    "duration": 37,
    "start_time": "2022-12-12T20:24:44.078Z"
   },
   {
    "duration": 7,
    "start_time": "2022-12-12T20:24:44.116Z"
   },
   {
    "duration": 29,
    "start_time": "2022-12-12T20:24:44.125Z"
   },
   {
    "duration": 173,
    "start_time": "2022-12-12T20:24:44.155Z"
   },
   {
    "duration": 10,
    "start_time": "2022-12-12T20:24:44.329Z"
   },
   {
    "duration": 10,
    "start_time": "2022-12-12T20:24:44.340Z"
   },
   {
    "duration": 29,
    "start_time": "2022-12-12T20:24:44.352Z"
   },
   {
    "duration": 479,
    "start_time": "2022-12-12T20:24:44.383Z"
   },
   {
    "duration": 136,
    "start_time": "2022-12-12T20:24:44.865Z"
   },
   {
    "duration": 0,
    "start_time": "2022-12-12T20:24:45.003Z"
   },
   {
    "duration": 1346,
    "start_time": "2022-12-12T20:25:02.430Z"
   },
   {
    "duration": 49,
    "start_time": "2022-12-12T20:25:03.777Z"
   },
   {
    "duration": 16,
    "start_time": "2022-12-12T20:25:03.827Z"
   },
   {
    "duration": 29,
    "start_time": "2022-12-12T20:25:03.845Z"
   },
   {
    "duration": 14,
    "start_time": "2022-12-12T20:25:03.876Z"
   },
   {
    "duration": 25,
    "start_time": "2022-12-12T20:25:03.891Z"
   },
   {
    "duration": 27,
    "start_time": "2022-12-12T20:25:03.918Z"
   },
   {
    "duration": 13,
    "start_time": "2022-12-12T20:25:03.946Z"
   },
   {
    "duration": 19,
    "start_time": "2022-12-12T20:25:03.960Z"
   },
   {
    "duration": 10,
    "start_time": "2022-12-12T20:25:03.982Z"
   },
   {
    "duration": 26,
    "start_time": "2022-12-12T20:25:03.994Z"
   },
   {
    "duration": 39,
    "start_time": "2022-12-12T20:25:04.021Z"
   },
   {
    "duration": 24,
    "start_time": "2022-12-12T20:25:04.061Z"
   },
   {
    "duration": 32,
    "start_time": "2022-12-12T20:25:04.086Z"
   },
   {
    "duration": 151,
    "start_time": "2022-12-12T20:25:04.120Z"
   },
   {
    "duration": 9,
    "start_time": "2022-12-12T20:25:04.272Z"
   },
   {
    "duration": 32,
    "start_time": "2022-12-12T20:25:04.282Z"
   },
   {
    "duration": 34,
    "start_time": "2022-12-12T20:25:04.316Z"
   },
   {
    "duration": 425,
    "start_time": "2022-12-12T20:25:04.352Z"
   },
   {
    "duration": 104121,
    "start_time": "2022-12-12T20:25:04.778Z"
   },
   {
    "duration": 213,
    "start_time": "2022-12-12T20:26:48.901Z"
   },
   {
    "duration": 1437,
    "start_time": "2022-12-12T20:27:00.243Z"
   },
   {
    "duration": 50,
    "start_time": "2022-12-12T20:27:01.682Z"
   },
   {
    "duration": 17,
    "start_time": "2022-12-12T20:27:01.734Z"
   },
   {
    "duration": 9,
    "start_time": "2022-12-12T20:27:01.754Z"
   },
   {
    "duration": 9,
    "start_time": "2022-12-12T20:27:01.765Z"
   },
   {
    "duration": 16,
    "start_time": "2022-12-12T20:27:01.775Z"
   },
   {
    "duration": 29,
    "start_time": "2022-12-12T20:27:01.793Z"
   },
   {
    "duration": 7,
    "start_time": "2022-12-12T20:27:01.824Z"
   },
   {
    "duration": 19,
    "start_time": "2022-12-12T20:27:01.833Z"
   },
   {
    "duration": 15,
    "start_time": "2022-12-12T20:27:01.855Z"
   },
   {
    "duration": 6,
    "start_time": "2022-12-12T20:27:01.872Z"
   },
   {
    "duration": 14,
    "start_time": "2022-12-12T20:27:01.879Z"
   },
   {
    "duration": 22,
    "start_time": "2022-12-12T20:27:01.895Z"
   },
   {
    "duration": 19,
    "start_time": "2022-12-12T20:27:01.919Z"
   },
   {
    "duration": 180,
    "start_time": "2022-12-12T20:27:01.940Z"
   },
   {
    "duration": 10,
    "start_time": "2022-12-12T20:27:02.122Z"
   },
   {
    "duration": 9,
    "start_time": "2022-12-12T20:27:02.134Z"
   },
   {
    "duration": 29,
    "start_time": "2022-12-12T20:27:02.145Z"
   },
   {
    "duration": 453,
    "start_time": "2022-12-12T20:27:02.176Z"
   },
   {
    "duration": 22944,
    "start_time": "2022-12-12T20:27:02.630Z"
   },
   {
    "duration": 351,
    "start_time": "2022-12-12T20:27:25.575Z"
   },
   {
    "duration": 1514,
    "start_time": "2022-12-12T20:44:25.902Z"
   },
   {
    "duration": 62,
    "start_time": "2022-12-12T20:44:27.419Z"
   },
   {
    "duration": 19,
    "start_time": "2022-12-12T20:44:27.484Z"
   },
   {
    "duration": 27,
    "start_time": "2022-12-12T20:44:27.505Z"
   },
   {
    "duration": 22,
    "start_time": "2022-12-12T20:44:27.534Z"
   },
   {
    "duration": 43,
    "start_time": "2022-12-12T20:44:27.557Z"
   },
   {
    "duration": 16,
    "start_time": "2022-12-12T20:44:27.602Z"
   },
   {
    "duration": 8,
    "start_time": "2022-12-12T20:44:27.620Z"
   },
   {
    "duration": 11,
    "start_time": "2022-12-12T20:44:27.630Z"
   },
   {
    "duration": 8,
    "start_time": "2022-12-12T20:44:27.644Z"
   },
   {
    "duration": 11,
    "start_time": "2022-12-12T20:44:27.654Z"
   },
   {
    "duration": 14,
    "start_time": "2022-12-12T20:44:27.666Z"
   },
   {
    "duration": 6,
    "start_time": "2022-12-12T20:44:27.682Z"
   },
   {
    "duration": 21,
    "start_time": "2022-12-12T20:44:27.713Z"
   },
   {
    "duration": 178,
    "start_time": "2022-12-12T20:44:27.736Z"
   },
   {
    "duration": 10,
    "start_time": "2022-12-12T20:44:27.916Z"
   },
   {
    "duration": 8,
    "start_time": "2022-12-12T20:44:27.928Z"
   },
   {
    "duration": 28,
    "start_time": "2022-12-12T20:44:27.938Z"
   },
   {
    "duration": 459,
    "start_time": "2022-12-12T20:44:27.968Z"
   },
   {
    "duration": 23232,
    "start_time": "2022-12-12T20:44:28.429Z"
   },
   {
    "duration": 258,
    "start_time": "2022-12-12T20:44:51.663Z"
   },
   {
    "duration": 192,
    "start_time": "2022-12-12T20:44:51.923Z"
   },
   {
    "duration": 441,
    "start_time": "2022-12-12T20:44:52.117Z"
   },
   {
    "duration": 22421,
    "start_time": "2022-12-12T20:44:52.559Z"
   },
   {
    "duration": 139,
    "start_time": "2022-12-12T20:45:14.982Z"
   },
   {
    "duration": 1412,
    "start_time": "2022-12-12T20:48:41.082Z"
   },
   {
    "duration": 49,
    "start_time": "2022-12-12T20:48:42.496Z"
   },
   {
    "duration": 17,
    "start_time": "2022-12-12T20:48:42.547Z"
   },
   {
    "duration": 4,
    "start_time": "2022-12-12T20:48:42.566Z"
   },
   {
    "duration": 12,
    "start_time": "2022-12-12T20:48:42.572Z"
   },
   {
    "duration": 14,
    "start_time": "2022-12-12T20:48:42.586Z"
   },
   {
    "duration": 20,
    "start_time": "2022-12-12T20:48:42.601Z"
   },
   {
    "duration": 7,
    "start_time": "2022-12-12T20:48:42.622Z"
   },
   {
    "duration": 9,
    "start_time": "2022-12-12T20:48:42.630Z"
   },
   {
    "duration": 5,
    "start_time": "2022-12-12T20:48:42.641Z"
   },
   {
    "duration": 6,
    "start_time": "2022-12-12T20:48:42.647Z"
   },
   {
    "duration": 13,
    "start_time": "2022-12-12T20:48:42.654Z"
   },
   {
    "duration": 6,
    "start_time": "2022-12-12T20:48:42.669Z"
   },
   {
    "duration": 19,
    "start_time": "2022-12-12T20:48:42.712Z"
   },
   {
    "duration": 153,
    "start_time": "2022-12-12T20:48:42.733Z"
   },
   {
    "duration": 10,
    "start_time": "2022-12-12T20:48:42.888Z"
   },
   {
    "duration": 25,
    "start_time": "2022-12-12T20:48:42.900Z"
   },
   {
    "duration": 33,
    "start_time": "2022-12-12T20:48:42.927Z"
   },
   {
    "duration": 453,
    "start_time": "2022-12-12T20:48:42.962Z"
   },
   {
    "duration": 22567,
    "start_time": "2022-12-12T20:48:43.417Z"
   },
   {
    "duration": 135,
    "start_time": "2022-12-12T20:49:05.986Z"
   },
   {
    "duration": 100,
    "start_time": "2022-12-12T20:49:06.123Z"
   },
   {
    "duration": 511,
    "start_time": "2022-12-12T20:49:06.314Z"
   },
   {
    "duration": 30281,
    "start_time": "2022-12-12T20:49:06.827Z"
   },
   {
    "duration": 213,
    "start_time": "2022-12-12T20:49:37.109Z"
   },
   {
    "duration": 1304,
    "start_time": "2022-12-12T20:53:15.166Z"
   },
   {
    "duration": 49,
    "start_time": "2022-12-12T20:53:16.472Z"
   },
   {
    "duration": 18,
    "start_time": "2022-12-12T20:53:16.523Z"
   },
   {
    "duration": 4,
    "start_time": "2022-12-12T20:53:16.543Z"
   },
   {
    "duration": 9,
    "start_time": "2022-12-12T20:53:16.549Z"
   },
   {
    "duration": 21,
    "start_time": "2022-12-12T20:53:16.560Z"
   },
   {
    "duration": 31,
    "start_time": "2022-12-12T20:53:16.583Z"
   },
   {
    "duration": 9,
    "start_time": "2022-12-12T20:53:16.616Z"
   },
   {
    "duration": 6,
    "start_time": "2022-12-12T20:53:16.627Z"
   },
   {
    "duration": 8,
    "start_time": "2022-12-12T20:53:16.636Z"
   },
   {
    "duration": 8,
    "start_time": "2022-12-12T20:53:16.645Z"
   },
   {
    "duration": 13,
    "start_time": "2022-12-12T20:53:16.655Z"
   },
   {
    "duration": 6,
    "start_time": "2022-12-12T20:53:16.670Z"
   },
   {
    "duration": 19,
    "start_time": "2022-12-12T20:53:16.713Z"
   },
   {
    "duration": 156,
    "start_time": "2022-12-12T20:53:16.734Z"
   },
   {
    "duration": 21,
    "start_time": "2022-12-12T20:53:16.892Z"
   },
   {
    "duration": 10,
    "start_time": "2022-12-12T20:53:16.915Z"
   },
   {
    "duration": 45,
    "start_time": "2022-12-12T20:53:16.927Z"
   },
   {
    "duration": 436,
    "start_time": "2022-12-12T20:53:16.974Z"
   },
   {
    "duration": 22766,
    "start_time": "2022-12-12T20:53:17.411Z"
   },
   {
    "duration": 235,
    "start_time": "2022-12-12T20:53:40.179Z"
   },
   {
    "duration": 98,
    "start_time": "2022-12-12T20:53:40.416Z"
   },
   {
    "duration": 512,
    "start_time": "2022-12-12T20:53:40.516Z"
   },
   {
    "duration": 30302,
    "start_time": "2022-12-12T20:53:41.029Z"
   },
   {
    "duration": 189,
    "start_time": "2022-12-12T20:54:11.333Z"
   },
   {
    "duration": 99,
    "start_time": "2022-12-12T20:54:11.614Z"
   },
   {
    "duration": 220,
    "start_time": "2022-12-12T20:54:11.715Z"
   },
   {
    "duration": 13026,
    "start_time": "2022-12-12T20:54:11.938Z"
   },
   {
    "duration": 148,
    "start_time": "2022-12-12T20:54:24.966Z"
   },
   {
    "duration": 1454,
    "start_time": "2022-12-12T21:11:13.287Z"
   },
   {
    "duration": 48,
    "start_time": "2022-12-12T21:11:14.744Z"
   },
   {
    "duration": 16,
    "start_time": "2022-12-12T21:11:14.794Z"
   },
   {
    "duration": 6,
    "start_time": "2022-12-12T21:11:14.812Z"
   },
   {
    "duration": 8,
    "start_time": "2022-12-12T21:11:14.819Z"
   },
   {
    "duration": 33,
    "start_time": "2022-12-12T21:11:14.828Z"
   },
   {
    "duration": 37,
    "start_time": "2022-12-12T21:11:14.863Z"
   },
   {
    "duration": 33,
    "start_time": "2022-12-12T21:11:14.901Z"
   },
   {
    "duration": 16,
    "start_time": "2022-12-12T21:11:14.939Z"
   },
   {
    "duration": 27,
    "start_time": "2022-12-12T21:11:14.958Z"
   },
   {
    "duration": 12,
    "start_time": "2022-12-12T21:11:14.987Z"
   },
   {
    "duration": 42,
    "start_time": "2022-12-12T21:11:15.001Z"
   },
   {
    "duration": 18,
    "start_time": "2022-12-12T21:11:15.045Z"
   },
   {
    "duration": 29,
    "start_time": "2022-12-12T21:11:15.065Z"
   },
   {
    "duration": 151,
    "start_time": "2022-12-12T21:11:15.096Z"
   },
   {
    "duration": 10,
    "start_time": "2022-12-12T21:11:15.249Z"
   },
   {
    "duration": 17,
    "start_time": "2022-12-12T21:11:15.261Z"
   },
   {
    "duration": 38,
    "start_time": "2022-12-12T21:11:15.280Z"
   },
   {
    "duration": 416,
    "start_time": "2022-12-12T21:11:15.320Z"
   },
   {
    "duration": 22293,
    "start_time": "2022-12-12T21:11:15.738Z"
   },
   {
    "duration": 184,
    "start_time": "2022-12-12T21:11:38.033Z"
   },
   {
    "duration": 105,
    "start_time": "2022-12-12T21:11:38.218Z"
   },
   {
    "duration": 579,
    "start_time": "2022-12-12T21:11:38.325Z"
   },
   {
    "duration": 30037,
    "start_time": "2022-12-12T21:11:38.906Z"
   },
   {
    "duration": 269,
    "start_time": "2022-12-12T21:12:08.945Z"
   },
   {
    "duration": 105,
    "start_time": "2022-12-12T21:12:09.216Z"
   },
   {
    "duration": 216,
    "start_time": "2022-12-12T21:12:09.323Z"
   },
   {
    "duration": 13014,
    "start_time": "2022-12-12T21:12:09.543Z"
   },
   {
    "duration": 262,
    "start_time": "2022-12-12T21:12:22.559Z"
   },
   {
    "duration": 15,
    "start_time": "2022-12-12T21:12:22.913Z"
   },
   {
    "duration": 510,
    "start_time": "2022-12-12T21:12:23.013Z"
   },
   {
    "duration": 30055,
    "start_time": "2022-12-12T21:12:23.525Z"
   },
   {
    "duration": 233,
    "start_time": "2022-12-12T21:12:53.582Z"
   },
   {
    "duration": 416,
    "start_time": "2022-12-12T21:12:53.817Z"
   },
   {
    "duration": 26,
    "start_time": "2022-12-12T21:12:54.234Z"
   },
   {
    "duration": 131,
    "start_time": "2022-12-12T21:12:54.262Z"
   },
   {
    "duration": 129,
    "start_time": "2022-12-12T21:14:36.626Z"
   },
   {
    "duration": 144,
    "start_time": "2022-12-12T21:14:44.894Z"
   },
   {
    "duration": 234,
    "start_time": "2022-12-12T21:15:42.759Z"
   },
   {
    "duration": 139,
    "start_time": "2022-12-12T21:16:12.143Z"
   },
   {
    "duration": 138,
    "start_time": "2022-12-12T21:17:05.411Z"
   },
   {
    "duration": 1445,
    "start_time": "2022-12-12T21:26:08.184Z"
   },
   {
    "duration": 51,
    "start_time": "2022-12-12T21:26:09.631Z"
   },
   {
    "duration": 17,
    "start_time": "2022-12-12T21:26:09.684Z"
   },
   {
    "duration": 3,
    "start_time": "2022-12-12T21:26:09.703Z"
   },
   {
    "duration": 9,
    "start_time": "2022-12-12T21:26:09.708Z"
   },
   {
    "duration": 21,
    "start_time": "2022-12-12T21:26:09.718Z"
   },
   {
    "duration": 16,
    "start_time": "2022-12-12T21:26:09.741Z"
   },
   {
    "duration": 7,
    "start_time": "2022-12-12T21:26:09.758Z"
   },
   {
    "duration": 6,
    "start_time": "2022-12-12T21:26:09.767Z"
   },
   {
    "duration": 4,
    "start_time": "2022-12-12T21:26:09.776Z"
   },
   {
    "duration": 31,
    "start_time": "2022-12-12T21:26:09.782Z"
   },
   {
    "duration": 14,
    "start_time": "2022-12-12T21:26:09.815Z"
   },
   {
    "duration": 7,
    "start_time": "2022-12-12T21:26:09.830Z"
   },
   {
    "duration": 23,
    "start_time": "2022-12-12T21:26:09.839Z"
   },
   {
    "duration": 206,
    "start_time": "2022-12-12T21:26:09.864Z"
   },
   {
    "duration": 11,
    "start_time": "2022-12-12T21:26:10.072Z"
   },
   {
    "duration": 28,
    "start_time": "2022-12-12T21:26:10.085Z"
   },
   {
    "duration": 35,
    "start_time": "2022-12-12T21:26:10.115Z"
   },
   {
    "duration": 465,
    "start_time": "2022-12-12T21:26:10.152Z"
   },
   {
    "duration": 22446,
    "start_time": "2022-12-12T21:26:10.619Z"
   },
   {
    "duration": 155,
    "start_time": "2022-12-12T21:26:33.066Z"
   },
   {
    "duration": 102,
    "start_time": "2022-12-12T21:26:33.222Z"
   },
   {
    "duration": 638,
    "start_time": "2022-12-12T21:26:33.326Z"
   },
   {
    "duration": 31195,
    "start_time": "2022-12-12T21:26:33.966Z"
   },
   {
    "duration": 257,
    "start_time": "2022-12-12T21:27:05.162Z"
   },
   {
    "duration": 98,
    "start_time": "2022-12-12T21:27:05.422Z"
   },
   {
    "duration": 214,
    "start_time": "2022-12-12T21:27:05.522Z"
   },
   {
    "duration": 13031,
    "start_time": "2022-12-12T21:27:05.739Z"
   },
   {
    "duration": 252,
    "start_time": "2022-12-12T21:27:18.771Z"
   },
   {
    "duration": 99,
    "start_time": "2022-12-12T21:27:19.114Z"
   },
   {
    "duration": 505,
    "start_time": "2022-12-12T21:27:19.215Z"
   },
   {
    "duration": 30185,
    "start_time": "2022-12-12T21:27:19.722Z"
   },
   {
    "duration": 205,
    "start_time": "2022-12-12T21:27:49.909Z"
   },
   {
    "duration": 461,
    "start_time": "2022-12-12T21:27:50.116Z"
   },
   {
    "duration": 25,
    "start_time": "2022-12-12T21:27:50.578Z"
   },
   {
    "duration": 146,
    "start_time": "2022-12-12T21:27:50.605Z"
   },
   {
    "duration": 1679,
    "start_time": "2022-12-13T18:59:16.694Z"
   },
   {
    "duration": 178,
    "start_time": "2022-12-13T18:59:18.374Z"
   },
   {
    "duration": 16,
    "start_time": "2022-12-13T18:59:18.554Z"
   },
   {
    "duration": 3,
    "start_time": "2022-12-13T18:59:18.572Z"
   },
   {
    "duration": 12,
    "start_time": "2022-12-13T18:59:18.577Z"
   },
   {
    "duration": 14,
    "start_time": "2022-12-13T18:59:18.590Z"
   },
   {
    "duration": 15,
    "start_time": "2022-12-13T18:59:18.606Z"
   },
   {
    "duration": 6,
    "start_time": "2022-12-13T18:59:18.622Z"
   },
   {
    "duration": 7,
    "start_time": "2022-12-13T18:59:18.629Z"
   },
   {
    "duration": 7,
    "start_time": "2022-12-13T18:59:18.637Z"
   },
   {
    "duration": 7,
    "start_time": "2022-12-13T18:59:18.645Z"
   },
   {
    "duration": 32,
    "start_time": "2022-12-13T18:59:18.653Z"
   },
   {
    "duration": 5,
    "start_time": "2022-12-13T18:59:18.687Z"
   },
   {
    "duration": 23,
    "start_time": "2022-12-13T18:59:18.695Z"
   },
   {
    "duration": 158,
    "start_time": "2022-12-13T18:59:18.720Z"
   },
   {
    "duration": 9,
    "start_time": "2022-12-13T18:59:18.879Z"
   },
   {
    "duration": 10,
    "start_time": "2022-12-13T18:59:18.890Z"
   },
   {
    "duration": 27,
    "start_time": "2022-12-13T18:59:18.901Z"
   },
   {
    "duration": 460,
    "start_time": "2022-12-13T18:59:18.929Z"
   },
   {
    "duration": 22981,
    "start_time": "2022-12-13T18:59:19.391Z"
   },
   {
    "duration": 208,
    "start_time": "2022-12-13T18:59:42.373Z"
   },
   {
    "duration": 98,
    "start_time": "2022-12-13T18:59:42.583Z"
   },
   {
    "duration": 552,
    "start_time": "2022-12-13T18:59:42.682Z"
   },
   {
    "duration": 29237,
    "start_time": "2022-12-13T18:59:43.236Z"
   },
   {
    "duration": 308,
    "start_time": "2022-12-13T19:00:12.477Z"
   },
   {
    "duration": 98,
    "start_time": "2022-12-13T19:00:12.788Z"
   },
   {
    "duration": 223,
    "start_time": "2022-12-13T19:00:12.888Z"
   },
   {
    "duration": 12626,
    "start_time": "2022-12-13T19:00:13.113Z"
   },
   {
    "duration": 242,
    "start_time": "2022-12-13T19:00:25.741Z"
   },
   {
    "duration": 101,
    "start_time": "2022-12-13T19:00:25.985Z"
   },
   {
    "duration": 511,
    "start_time": "2022-12-13T19:00:26.088Z"
   },
   {
    "duration": 29813,
    "start_time": "2022-12-13T19:00:26.600Z"
   },
   {
    "duration": 271,
    "start_time": "2022-12-13T19:00:56.415Z"
   },
   {
    "duration": 428,
    "start_time": "2022-12-13T19:00:56.778Z"
   },
   {
    "duration": 25,
    "start_time": "2022-12-13T19:00:57.207Z"
   },
   {
    "duration": 145,
    "start_time": "2022-12-13T19:00:57.234Z"
   },
   {
    "duration": 51,
    "start_time": "2022-12-14T10:06:46.231Z"
   },
   {
    "duration": 1653,
    "start_time": "2022-12-14T10:06:52.109Z"
   },
   {
    "duration": 103,
    "start_time": "2022-12-14T10:06:53.764Z"
   },
   {
    "duration": 19,
    "start_time": "2022-12-14T10:06:53.868Z"
   },
   {
    "duration": 14,
    "start_time": "2022-12-14T10:06:53.889Z"
   },
   {
    "duration": 17,
    "start_time": "2022-12-14T10:06:53.905Z"
   },
   {
    "duration": 17,
    "start_time": "2022-12-14T10:06:53.924Z"
   },
   {
    "duration": 25,
    "start_time": "2022-12-14T10:06:53.942Z"
   },
   {
    "duration": 9,
    "start_time": "2022-12-14T10:06:53.968Z"
   },
   {
    "duration": 11,
    "start_time": "2022-12-14T10:06:53.979Z"
   },
   {
    "duration": 6,
    "start_time": "2022-12-14T10:06:53.994Z"
   },
   {
    "duration": 11,
    "start_time": "2022-12-14T10:06:54.002Z"
   },
   {
    "duration": 45,
    "start_time": "2022-12-14T10:06:54.015Z"
   },
   {
    "duration": 24,
    "start_time": "2022-12-14T10:06:54.062Z"
   },
   {
    "duration": 10,
    "start_time": "2022-12-14T10:06:54.088Z"
   },
   {
    "duration": 26,
    "start_time": "2022-12-14T10:06:54.100Z"
   },
   {
    "duration": 305,
    "start_time": "2022-12-14T10:06:54.156Z"
   },
   {
    "duration": 0,
    "start_time": "2022-12-14T10:06:54.463Z"
   },
   {
    "duration": 0,
    "start_time": "2022-12-14T10:06:54.465Z"
   },
   {
    "duration": 0,
    "start_time": "2022-12-14T10:06:54.466Z"
   },
   {
    "duration": 0,
    "start_time": "2022-12-14T10:06:54.468Z"
   },
   {
    "duration": 0,
    "start_time": "2022-12-14T10:06:54.469Z"
   },
   {
    "duration": 0,
    "start_time": "2022-12-14T10:06:54.470Z"
   },
   {
    "duration": 0,
    "start_time": "2022-12-14T10:06:54.471Z"
   },
   {
    "duration": 0,
    "start_time": "2022-12-14T10:06:54.472Z"
   },
   {
    "duration": 0,
    "start_time": "2022-12-14T10:06:54.474Z"
   },
   {
    "duration": 0,
    "start_time": "2022-12-14T10:06:54.475Z"
   },
   {
    "duration": 0,
    "start_time": "2022-12-14T10:06:54.476Z"
   },
   {
    "duration": 0,
    "start_time": "2022-12-14T10:06:54.477Z"
   },
   {
    "duration": 0,
    "start_time": "2022-12-14T10:06:54.478Z"
   },
   {
    "duration": 0,
    "start_time": "2022-12-14T10:06:54.479Z"
   },
   {
    "duration": 0,
    "start_time": "2022-12-14T10:06:54.480Z"
   },
   {
    "duration": 0,
    "start_time": "2022-12-14T10:06:54.481Z"
   },
   {
    "duration": 0,
    "start_time": "2022-12-14T10:06:54.483Z"
   },
   {
    "duration": 1509,
    "start_time": "2022-12-14T10:07:36.033Z"
   },
   {
    "duration": 53,
    "start_time": "2022-12-14T10:07:37.544Z"
   },
   {
    "duration": 19,
    "start_time": "2022-12-14T10:07:37.599Z"
   },
   {
    "duration": 4,
    "start_time": "2022-12-14T10:07:37.621Z"
   },
   {
    "duration": 10,
    "start_time": "2022-12-14T10:07:37.627Z"
   },
   {
    "duration": 22,
    "start_time": "2022-12-14T10:07:37.639Z"
   },
   {
    "duration": 16,
    "start_time": "2022-12-14T10:07:37.663Z"
   },
   {
    "duration": 8,
    "start_time": "2022-12-14T10:07:37.680Z"
   },
   {
    "duration": 12,
    "start_time": "2022-12-14T10:07:37.690Z"
   },
   {
    "duration": 5,
    "start_time": "2022-12-14T10:07:37.706Z"
   },
   {
    "duration": 13,
    "start_time": "2022-12-14T10:07:37.713Z"
   },
   {
    "duration": 8,
    "start_time": "2022-12-14T10:07:37.756Z"
   },
   {
    "duration": 27,
    "start_time": "2022-12-14T10:07:37.766Z"
   },
   {
    "duration": 9,
    "start_time": "2022-12-14T10:07:37.795Z"
   },
   {
    "duration": 22,
    "start_time": "2022-12-14T10:07:37.806Z"
   },
   {
    "duration": 197,
    "start_time": "2022-12-14T10:07:37.830Z"
   },
   {
    "duration": 26,
    "start_time": "2022-12-14T10:07:38.029Z"
   },
   {
    "duration": 10,
    "start_time": "2022-12-14T10:07:38.058Z"
   },
   {
    "duration": 30,
    "start_time": "2022-12-14T10:07:38.070Z"
   },
   {
    "duration": 511,
    "start_time": "2022-12-14T10:07:38.101Z"
   },
   {
    "duration": 26032,
    "start_time": "2022-12-14T10:07:38.614Z"
   },
   {
    "duration": 608,
    "start_time": "2022-12-14T10:08:04.648Z"
   },
   {
    "duration": 107,
    "start_time": "2022-12-14T10:08:05.258Z"
   },
   {
    "duration": 625,
    "start_time": "2022-12-14T10:08:05.367Z"
   },
   {
    "duration": 35234,
    "start_time": "2022-12-14T10:08:05.994Z"
   },
   {
    "duration": 528,
    "start_time": "2022-12-14T10:08:41.230Z"
   },
   {
    "duration": 101,
    "start_time": "2022-12-14T10:08:41.761Z"
   },
   {
    "duration": 267,
    "start_time": "2022-12-14T10:08:41.865Z"
   },
   {
    "duration": 15141,
    "start_time": "2022-12-14T10:08:42.133Z"
   },
   {
    "duration": 190,
    "start_time": "2022-12-14T10:08:57.276Z"
   },
   {
    "duration": 558,
    "start_time": "2022-12-14T10:08:57.469Z"
   },
   {
    "duration": 34,
    "start_time": "2022-12-14T10:08:58.029Z"
   },
   {
    "duration": 165,
    "start_time": "2022-12-14T10:08:58.065Z"
   },
   {
    "duration": 1471,
    "start_time": "2022-12-14T10:15:33.698Z"
   },
   {
    "duration": 52,
    "start_time": "2022-12-14T10:15:35.171Z"
   },
   {
    "duration": 19,
    "start_time": "2022-12-14T10:15:35.226Z"
   },
   {
    "duration": 5,
    "start_time": "2022-12-14T10:15:35.248Z"
   },
   {
    "duration": 7,
    "start_time": "2022-12-14T10:15:35.255Z"
   },
   {
    "duration": 19,
    "start_time": "2022-12-14T10:15:35.264Z"
   },
   {
    "duration": 19,
    "start_time": "2022-12-14T10:15:35.285Z"
   },
   {
    "duration": 8,
    "start_time": "2022-12-14T10:15:35.306Z"
   },
   {
    "duration": 16,
    "start_time": "2022-12-14T10:15:35.316Z"
   },
   {
    "duration": 5,
    "start_time": "2022-12-14T10:15:35.357Z"
   },
   {
    "duration": 10,
    "start_time": "2022-12-14T10:15:35.364Z"
   },
   {
    "duration": 10,
    "start_time": "2022-12-14T10:15:35.375Z"
   },
   {
    "duration": 15,
    "start_time": "2022-12-14T10:15:35.387Z"
   },
   {
    "duration": 6,
    "start_time": "2022-12-14T10:15:35.404Z"
   },
   {
    "duration": 55,
    "start_time": "2022-12-14T10:15:35.412Z"
   },
   {
    "duration": 180,
    "start_time": "2022-12-14T10:15:35.469Z"
   },
   {
    "duration": 12,
    "start_time": "2022-12-14T10:15:35.651Z"
   },
   {
    "duration": 10,
    "start_time": "2022-12-14T10:15:35.665Z"
   },
   {
    "duration": 38,
    "start_time": "2022-12-14T10:15:35.677Z"
   },
   {
    "duration": 521,
    "start_time": "2022-12-14T10:15:35.717Z"
   },
   {
    "duration": 26472,
    "start_time": "2022-12-14T10:15:36.240Z"
   },
   {
    "duration": 555,
    "start_time": "2022-12-14T10:16:02.714Z"
   },
   {
    "duration": 97,
    "start_time": "2022-12-14T10:16:03.358Z"
   },
   {
    "duration": 627,
    "start_time": "2022-12-14T10:16:03.457Z"
   },
   {
    "duration": 35607,
    "start_time": "2022-12-14T10:16:04.087Z"
   },
   {
    "duration": 759,
    "start_time": "2022-12-14T10:16:39.696Z"
   },
   {
    "duration": 13,
    "start_time": "2022-12-14T10:16:40.458Z"
   },
   {
    "duration": 277,
    "start_time": "2022-12-14T10:16:40.474Z"
   },
   {
    "duration": 15584,
    "start_time": "2022-12-14T10:16:40.753Z"
   },
   {
    "duration": 225,
    "start_time": "2022-12-14T10:16:56.339Z"
   },
   {
    "duration": 369,
    "start_time": "2022-12-14T10:16:56.654Z"
   },
   {
    "duration": 34,
    "start_time": "2022-12-14T10:16:57.025Z"
   },
   {
    "duration": 167,
    "start_time": "2022-12-14T10:16:57.061Z"
   }
  ],
  "kernelspec": {
   "display_name": "Python 3 (ipykernel)",
   "language": "python",
   "name": "python3"
  },
  "language_info": {
   "codemirror_mode": {
    "name": "ipython",
    "version": 3
   },
   "file_extension": ".py",
   "mimetype": "text/x-python",
   "name": "python",
   "nbconvert_exporter": "python",
   "pygments_lexer": "ipython3",
   "version": "3.9.5"
  },
  "toc": {
   "base_numbering": 1,
   "nav_menu": {},
   "number_sections": true,
   "sideBar": true,
   "skip_h1_title": true,
   "title_cell": "Содержание",
   "title_sidebar": "Contents",
   "toc_cell": true,
   "toc_position": {
    "height": "calc(100% - 180px)",
    "left": "10px",
    "top": "150px",
    "width": "251.797px"
   },
   "toc_section_display": true,
   "toc_window_display": false
  }
 },
 "nbformat": 4,
 "nbformat_minor": 2
}
