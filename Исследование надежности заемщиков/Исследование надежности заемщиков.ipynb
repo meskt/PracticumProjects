{
 "cells": [
  {
   "cell_type": "markdown",
   "id": "bbcb614b",
   "metadata": {
    "deletable": false,
    "editable": false,
    "id": "c81daeeb"
   },
   "source": [
    "# Исследование надежности заемщиков\n"
   ]
  },
  {
   "cell_type": "markdown",
   "id": "bf77680e",
   "metadata": {
    "deletable": false,
    "editable": false,
    "id": "827c20bf"
   },
   "source": [
    "Во второй части проекта вы выполните шаги 3 и 4. Их вручную проверит ревьюер.\n",
    "Чтобы вам не пришлось писать код заново для шагов 1 и 2, мы добавили авторские решения в ячейки с кодом. \n",
    "\n"
   ]
  },
  {
   "cell_type": "markdown",
   "id": "108b5fb3",
   "metadata": {
    "deletable": false,
    "editable": false,
    "id": "744d7639"
   },
   "source": [
    "## Откройте таблицу и изучите общую информацию о данных"
   ]
  },
  {
   "cell_type": "markdown",
   "id": "654a5ff7",
   "metadata": {
    "deletable": false,
    "editable": false,
    "id": "e7a14c31"
   },
   "source": [
    "**Задание 1. Импортируйте библиотеку pandas. Считайте данные из csv-файла в датафрейм и сохраните в переменную `data`. Путь к файлу:**\n",
    "\n",
    "`/datasets/data.csv`"
   ]
  },
  {
   "cell_type": "code",
   "execution_count": 1,
   "id": "5d08fa6e",
   "metadata": {
    "deletable": false,
    "id": "7bcf75c9"
   },
   "outputs": [],
   "source": [
    "import pandas as pd\n",
    "\n",
    "try:\n",
    "    data = pd.read_csv('/datasets/data.csv')\n",
    "except:\n",
    "    data = pd.read_csv('https://code.s3.yandex.net/datasets/data.csv')"
   ]
  },
  {
   "cell_type": "markdown",
   "id": "964a5ff0",
   "metadata": {
    "deletable": false,
    "editable": false,
    "id": "b8038fe3"
   },
   "source": [
    "**Задание 2. Выведите первые 20 строчек датафрейма `data` на экран.**"
   ]
  },
  {
   "cell_type": "code",
   "execution_count": 2,
   "id": "ce9da574",
   "metadata": {
    "deletable": false,
    "id": "2a7cab99",
    "outputId": "1a8f3ef2-d323-4ec2-ddf7-89670b5944c4"
   },
   "outputs": [
    {
     "data": {
      "text/html": [
       "<div>\n",
       "<style scoped>\n",
       "    .dataframe tbody tr th:only-of-type {\n",
       "        vertical-align: middle;\n",
       "    }\n",
       "\n",
       "    .dataframe tbody tr th {\n",
       "        vertical-align: top;\n",
       "    }\n",
       "\n",
       "    .dataframe thead th {\n",
       "        text-align: right;\n",
       "    }\n",
       "</style>\n",
       "<table border=\"1\" class=\"dataframe\">\n",
       "  <thead>\n",
       "    <tr style=\"text-align: right;\">\n",
       "      <th></th>\n",
       "      <th>children</th>\n",
       "      <th>days_employed</th>\n",
       "      <th>dob_years</th>\n",
       "      <th>education</th>\n",
       "      <th>education_id</th>\n",
       "      <th>family_status</th>\n",
       "      <th>family_status_id</th>\n",
       "      <th>gender</th>\n",
       "      <th>income_type</th>\n",
       "      <th>debt</th>\n",
       "      <th>total_income</th>\n",
       "      <th>purpose</th>\n",
       "    </tr>\n",
       "  </thead>\n",
       "  <tbody>\n",
       "    <tr>\n",
       "      <th>0</th>\n",
       "      <td>1</td>\n",
       "      <td>-8437.673028</td>\n",
       "      <td>42</td>\n",
       "      <td>высшее</td>\n",
       "      <td>0</td>\n",
       "      <td>женат / замужем</td>\n",
       "      <td>0</td>\n",
       "      <td>F</td>\n",
       "      <td>сотрудник</td>\n",
       "      <td>0</td>\n",
       "      <td>253875.639453</td>\n",
       "      <td>покупка жилья</td>\n",
       "    </tr>\n",
       "    <tr>\n",
       "      <th>1</th>\n",
       "      <td>1</td>\n",
       "      <td>-4024.803754</td>\n",
       "      <td>36</td>\n",
       "      <td>среднее</td>\n",
       "      <td>1</td>\n",
       "      <td>женат / замужем</td>\n",
       "      <td>0</td>\n",
       "      <td>F</td>\n",
       "      <td>сотрудник</td>\n",
       "      <td>0</td>\n",
       "      <td>112080.014102</td>\n",
       "      <td>приобретение автомобиля</td>\n",
       "    </tr>\n",
       "    <tr>\n",
       "      <th>2</th>\n",
       "      <td>0</td>\n",
       "      <td>-5623.422610</td>\n",
       "      <td>33</td>\n",
       "      <td>Среднее</td>\n",
       "      <td>1</td>\n",
       "      <td>женат / замужем</td>\n",
       "      <td>0</td>\n",
       "      <td>M</td>\n",
       "      <td>сотрудник</td>\n",
       "      <td>0</td>\n",
       "      <td>145885.952297</td>\n",
       "      <td>покупка жилья</td>\n",
       "    </tr>\n",
       "    <tr>\n",
       "      <th>3</th>\n",
       "      <td>3</td>\n",
       "      <td>-4124.747207</td>\n",
       "      <td>32</td>\n",
       "      <td>среднее</td>\n",
       "      <td>1</td>\n",
       "      <td>женат / замужем</td>\n",
       "      <td>0</td>\n",
       "      <td>M</td>\n",
       "      <td>сотрудник</td>\n",
       "      <td>0</td>\n",
       "      <td>267628.550329</td>\n",
       "      <td>дополнительное образование</td>\n",
       "    </tr>\n",
       "    <tr>\n",
       "      <th>4</th>\n",
       "      <td>0</td>\n",
       "      <td>340266.072047</td>\n",
       "      <td>53</td>\n",
       "      <td>среднее</td>\n",
       "      <td>1</td>\n",
       "      <td>гражданский брак</td>\n",
       "      <td>1</td>\n",
       "      <td>F</td>\n",
       "      <td>пенсионер</td>\n",
       "      <td>0</td>\n",
       "      <td>158616.077870</td>\n",
       "      <td>сыграть свадьбу</td>\n",
       "    </tr>\n",
       "    <tr>\n",
       "      <th>5</th>\n",
       "      <td>0</td>\n",
       "      <td>-926.185831</td>\n",
       "      <td>27</td>\n",
       "      <td>высшее</td>\n",
       "      <td>0</td>\n",
       "      <td>гражданский брак</td>\n",
       "      <td>1</td>\n",
       "      <td>M</td>\n",
       "      <td>компаньон</td>\n",
       "      <td>0</td>\n",
       "      <td>255763.565419</td>\n",
       "      <td>покупка жилья</td>\n",
       "    </tr>\n",
       "    <tr>\n",
       "      <th>6</th>\n",
       "      <td>0</td>\n",
       "      <td>-2879.202052</td>\n",
       "      <td>43</td>\n",
       "      <td>высшее</td>\n",
       "      <td>0</td>\n",
       "      <td>женат / замужем</td>\n",
       "      <td>0</td>\n",
       "      <td>F</td>\n",
       "      <td>компаньон</td>\n",
       "      <td>0</td>\n",
       "      <td>240525.971920</td>\n",
       "      <td>операции с жильем</td>\n",
       "    </tr>\n",
       "    <tr>\n",
       "      <th>7</th>\n",
       "      <td>0</td>\n",
       "      <td>-152.779569</td>\n",
       "      <td>50</td>\n",
       "      <td>СРЕДНЕЕ</td>\n",
       "      <td>1</td>\n",
       "      <td>женат / замужем</td>\n",
       "      <td>0</td>\n",
       "      <td>M</td>\n",
       "      <td>сотрудник</td>\n",
       "      <td>0</td>\n",
       "      <td>135823.934197</td>\n",
       "      <td>образование</td>\n",
       "    </tr>\n",
       "    <tr>\n",
       "      <th>8</th>\n",
       "      <td>2</td>\n",
       "      <td>-6929.865299</td>\n",
       "      <td>35</td>\n",
       "      <td>ВЫСШЕЕ</td>\n",
       "      <td>0</td>\n",
       "      <td>гражданский брак</td>\n",
       "      <td>1</td>\n",
       "      <td>F</td>\n",
       "      <td>сотрудник</td>\n",
       "      <td>0</td>\n",
       "      <td>95856.832424</td>\n",
       "      <td>на проведение свадьбы</td>\n",
       "    </tr>\n",
       "    <tr>\n",
       "      <th>9</th>\n",
       "      <td>0</td>\n",
       "      <td>-2188.756445</td>\n",
       "      <td>41</td>\n",
       "      <td>среднее</td>\n",
       "      <td>1</td>\n",
       "      <td>женат / замужем</td>\n",
       "      <td>0</td>\n",
       "      <td>M</td>\n",
       "      <td>сотрудник</td>\n",
       "      <td>0</td>\n",
       "      <td>144425.938277</td>\n",
       "      <td>покупка жилья для семьи</td>\n",
       "    </tr>\n",
       "    <tr>\n",
       "      <th>10</th>\n",
       "      <td>2</td>\n",
       "      <td>-4171.483647</td>\n",
       "      <td>36</td>\n",
       "      <td>высшее</td>\n",
       "      <td>0</td>\n",
       "      <td>женат / замужем</td>\n",
       "      <td>0</td>\n",
       "      <td>M</td>\n",
       "      <td>компаньон</td>\n",
       "      <td>0</td>\n",
       "      <td>113943.491460</td>\n",
       "      <td>покупка недвижимости</td>\n",
       "    </tr>\n",
       "    <tr>\n",
       "      <th>11</th>\n",
       "      <td>0</td>\n",
       "      <td>-792.701887</td>\n",
       "      <td>40</td>\n",
       "      <td>среднее</td>\n",
       "      <td>1</td>\n",
       "      <td>женат / замужем</td>\n",
       "      <td>0</td>\n",
       "      <td>F</td>\n",
       "      <td>сотрудник</td>\n",
       "      <td>0</td>\n",
       "      <td>77069.234271</td>\n",
       "      <td>покупка коммерческой недвижимости</td>\n",
       "    </tr>\n",
       "    <tr>\n",
       "      <th>12</th>\n",
       "      <td>0</td>\n",
       "      <td>NaN</td>\n",
       "      <td>65</td>\n",
       "      <td>среднее</td>\n",
       "      <td>1</td>\n",
       "      <td>гражданский брак</td>\n",
       "      <td>1</td>\n",
       "      <td>M</td>\n",
       "      <td>пенсионер</td>\n",
       "      <td>0</td>\n",
       "      <td>NaN</td>\n",
       "      <td>сыграть свадьбу</td>\n",
       "    </tr>\n",
       "    <tr>\n",
       "      <th>13</th>\n",
       "      <td>0</td>\n",
       "      <td>-1846.641941</td>\n",
       "      <td>54</td>\n",
       "      <td>неоконченное высшее</td>\n",
       "      <td>2</td>\n",
       "      <td>женат / замужем</td>\n",
       "      <td>0</td>\n",
       "      <td>F</td>\n",
       "      <td>сотрудник</td>\n",
       "      <td>0</td>\n",
       "      <td>130458.228857</td>\n",
       "      <td>приобретение автомобиля</td>\n",
       "    </tr>\n",
       "    <tr>\n",
       "      <th>14</th>\n",
       "      <td>0</td>\n",
       "      <td>-1844.956182</td>\n",
       "      <td>56</td>\n",
       "      <td>высшее</td>\n",
       "      <td>0</td>\n",
       "      <td>гражданский брак</td>\n",
       "      <td>1</td>\n",
       "      <td>F</td>\n",
       "      <td>компаньон</td>\n",
       "      <td>1</td>\n",
       "      <td>165127.911772</td>\n",
       "      <td>покупка жилой недвижимости</td>\n",
       "    </tr>\n",
       "    <tr>\n",
       "      <th>15</th>\n",
       "      <td>1</td>\n",
       "      <td>-972.364419</td>\n",
       "      <td>26</td>\n",
       "      <td>среднее</td>\n",
       "      <td>1</td>\n",
       "      <td>женат / замужем</td>\n",
       "      <td>0</td>\n",
       "      <td>F</td>\n",
       "      <td>сотрудник</td>\n",
       "      <td>0</td>\n",
       "      <td>116820.904450</td>\n",
       "      <td>строительство собственной недвижимости</td>\n",
       "    </tr>\n",
       "    <tr>\n",
       "      <th>16</th>\n",
       "      <td>0</td>\n",
       "      <td>-1719.934226</td>\n",
       "      <td>35</td>\n",
       "      <td>среднее</td>\n",
       "      <td>1</td>\n",
       "      <td>женат / замужем</td>\n",
       "      <td>0</td>\n",
       "      <td>F</td>\n",
       "      <td>сотрудник</td>\n",
       "      <td>0</td>\n",
       "      <td>289202.704229</td>\n",
       "      <td>недвижимость</td>\n",
       "    </tr>\n",
       "    <tr>\n",
       "      <th>17</th>\n",
       "      <td>0</td>\n",
       "      <td>-2369.999720</td>\n",
       "      <td>33</td>\n",
       "      <td>высшее</td>\n",
       "      <td>0</td>\n",
       "      <td>гражданский брак</td>\n",
       "      <td>1</td>\n",
       "      <td>M</td>\n",
       "      <td>сотрудник</td>\n",
       "      <td>0</td>\n",
       "      <td>90410.586745</td>\n",
       "      <td>строительство недвижимости</td>\n",
       "    </tr>\n",
       "    <tr>\n",
       "      <th>18</th>\n",
       "      <td>0</td>\n",
       "      <td>400281.136913</td>\n",
       "      <td>53</td>\n",
       "      <td>среднее</td>\n",
       "      <td>1</td>\n",
       "      <td>вдовец / вдова</td>\n",
       "      <td>2</td>\n",
       "      <td>F</td>\n",
       "      <td>пенсионер</td>\n",
       "      <td>0</td>\n",
       "      <td>56823.777243</td>\n",
       "      <td>на покупку подержанного автомобиля</td>\n",
       "    </tr>\n",
       "    <tr>\n",
       "      <th>19</th>\n",
       "      <td>0</td>\n",
       "      <td>-10038.818549</td>\n",
       "      <td>48</td>\n",
       "      <td>СРЕДНЕЕ</td>\n",
       "      <td>1</td>\n",
       "      <td>в разводе</td>\n",
       "      <td>3</td>\n",
       "      <td>F</td>\n",
       "      <td>сотрудник</td>\n",
       "      <td>0</td>\n",
       "      <td>242831.107982</td>\n",
       "      <td>на покупку своего автомобиля</td>\n",
       "    </tr>\n",
       "  </tbody>\n",
       "</table>\n",
       "</div>"
      ],
      "text/plain": [
       "    children  days_employed  dob_years            education  education_id  \\\n",
       "0          1   -8437.673028         42               высшее             0   \n",
       "1          1   -4024.803754         36              среднее             1   \n",
       "2          0   -5623.422610         33              Среднее             1   \n",
       "3          3   -4124.747207         32              среднее             1   \n",
       "4          0  340266.072047         53              среднее             1   \n",
       "5          0    -926.185831         27               высшее             0   \n",
       "6          0   -2879.202052         43               высшее             0   \n",
       "7          0    -152.779569         50              СРЕДНЕЕ             1   \n",
       "8          2   -6929.865299         35               ВЫСШЕЕ             0   \n",
       "9          0   -2188.756445         41              среднее             1   \n",
       "10         2   -4171.483647         36               высшее             0   \n",
       "11         0    -792.701887         40              среднее             1   \n",
       "12         0            NaN         65              среднее             1   \n",
       "13         0   -1846.641941         54  неоконченное высшее             2   \n",
       "14         0   -1844.956182         56               высшее             0   \n",
       "15         1    -972.364419         26              среднее             1   \n",
       "16         0   -1719.934226         35              среднее             1   \n",
       "17         0   -2369.999720         33               высшее             0   \n",
       "18         0  400281.136913         53              среднее             1   \n",
       "19         0  -10038.818549         48              СРЕДНЕЕ             1   \n",
       "\n",
       "       family_status  family_status_id gender income_type  debt  \\\n",
       "0    женат / замужем                 0      F   сотрудник     0   \n",
       "1    женат / замужем                 0      F   сотрудник     0   \n",
       "2    женат / замужем                 0      M   сотрудник     0   \n",
       "3    женат / замужем                 0      M   сотрудник     0   \n",
       "4   гражданский брак                 1      F   пенсионер     0   \n",
       "5   гражданский брак                 1      M   компаньон     0   \n",
       "6    женат / замужем                 0      F   компаньон     0   \n",
       "7    женат / замужем                 0      M   сотрудник     0   \n",
       "8   гражданский брак                 1      F   сотрудник     0   \n",
       "9    женат / замужем                 0      M   сотрудник     0   \n",
       "10   женат / замужем                 0      M   компаньон     0   \n",
       "11   женат / замужем                 0      F   сотрудник     0   \n",
       "12  гражданский брак                 1      M   пенсионер     0   \n",
       "13   женат / замужем                 0      F   сотрудник     0   \n",
       "14  гражданский брак                 1      F   компаньон     1   \n",
       "15   женат / замужем                 0      F   сотрудник     0   \n",
       "16   женат / замужем                 0      F   сотрудник     0   \n",
       "17  гражданский брак                 1      M   сотрудник     0   \n",
       "18    вдовец / вдова                 2      F   пенсионер     0   \n",
       "19         в разводе                 3      F   сотрудник     0   \n",
       "\n",
       "     total_income                                 purpose  \n",
       "0   253875.639453                           покупка жилья  \n",
       "1   112080.014102                 приобретение автомобиля  \n",
       "2   145885.952297                           покупка жилья  \n",
       "3   267628.550329              дополнительное образование  \n",
       "4   158616.077870                         сыграть свадьбу  \n",
       "5   255763.565419                           покупка жилья  \n",
       "6   240525.971920                       операции с жильем  \n",
       "7   135823.934197                             образование  \n",
       "8    95856.832424                   на проведение свадьбы  \n",
       "9   144425.938277                 покупка жилья для семьи  \n",
       "10  113943.491460                    покупка недвижимости  \n",
       "11   77069.234271       покупка коммерческой недвижимости  \n",
       "12            NaN                         сыграть свадьбу  \n",
       "13  130458.228857                 приобретение автомобиля  \n",
       "14  165127.911772              покупка жилой недвижимости  \n",
       "15  116820.904450  строительство собственной недвижимости  \n",
       "16  289202.704229                            недвижимость  \n",
       "17   90410.586745              строительство недвижимости  \n",
       "18   56823.777243      на покупку подержанного автомобиля  \n",
       "19  242831.107982            на покупку своего автомобиля  "
      ]
     },
     "execution_count": 2,
     "metadata": {},
     "output_type": "execute_result"
    }
   ],
   "source": [
    "data.head(20)"
   ]
  },
  {
   "cell_type": "markdown",
   "id": "7dac232e",
   "metadata": {
    "deletable": false,
    "editable": false,
    "id": "1c12e233"
   },
   "source": [
    "**Задание 3. Выведите основную информацию о датафрейме с помощью метода `info()`.**"
   ]
  },
  {
   "cell_type": "code",
   "execution_count": 3,
   "id": "bfdb902a",
   "metadata": {
    "deletable": false,
    "id": "2b757bca",
    "outputId": "15376089-8dad-46c9-b520-c05248d43158"
   },
   "outputs": [
    {
     "name": "stdout",
     "output_type": "stream",
     "text": [
      "<class 'pandas.core.frame.DataFrame'>\n",
      "RangeIndex: 21525 entries, 0 to 21524\n",
      "Data columns (total 12 columns):\n",
      " #   Column            Non-Null Count  Dtype  \n",
      "---  ------            --------------  -----  \n",
      " 0   children          21525 non-null  int64  \n",
      " 1   days_employed     19351 non-null  float64\n",
      " 2   dob_years         21525 non-null  int64  \n",
      " 3   education         21525 non-null  object \n",
      " 4   education_id      21525 non-null  int64  \n",
      " 5   family_status     21525 non-null  object \n",
      " 6   family_status_id  21525 non-null  int64  \n",
      " 7   gender            21525 non-null  object \n",
      " 8   income_type       21525 non-null  object \n",
      " 9   debt              21525 non-null  int64  \n",
      " 10  total_income      19351 non-null  float64\n",
      " 11  purpose           21525 non-null  object \n",
      "dtypes: float64(2), int64(5), object(5)\n",
      "memory usage: 2.0+ MB\n"
     ]
    }
   ],
   "source": [
    "data.info()"
   ]
  },
  {
   "cell_type": "markdown",
   "id": "edf519b2",
   "metadata": {
    "deletable": false,
    "editable": false,
    "id": "333ec665"
   },
   "source": [
    "## Предобработка данных"
   ]
  },
  {
   "cell_type": "markdown",
   "id": "5113490c",
   "metadata": {
    "deletable": false,
    "editable": false,
    "id": "02d92d53"
   },
   "source": [
    "### Удаление пропусков"
   ]
  },
  {
   "cell_type": "markdown",
   "id": "53baf30b",
   "metadata": {
    "deletable": false,
    "editable": false,
    "id": "cd84967c"
   },
   "source": [
    "**Задание 4. Выведите количество пропущенных значений для каждого столбца. Используйте комбинацию двух методов.**"
   ]
  },
  {
   "cell_type": "code",
   "execution_count": 4,
   "id": "0019bae9",
   "metadata": {
    "deletable": false,
    "id": "7f9b2309",
    "outputId": "81f4d817-781c-465c-ed15-91ce4446810d"
   },
   "outputs": [
    {
     "data": {
      "text/plain": [
       "children               0\n",
       "days_employed       2174\n",
       "dob_years              0\n",
       "education              0\n",
       "education_id           0\n",
       "family_status          0\n",
       "family_status_id       0\n",
       "gender                 0\n",
       "income_type            0\n",
       "debt                   0\n",
       "total_income        2174\n",
       "purpose                0\n",
       "dtype: int64"
      ]
     },
     "execution_count": 4,
     "metadata": {},
     "output_type": "execute_result"
    }
   ],
   "source": [
    "data.isna().sum()"
   ]
  },
  {
   "cell_type": "markdown",
   "id": "38d01a1f",
   "metadata": {
    "deletable": false,
    "editable": false,
    "id": "db86e27b"
   },
   "source": [
    "**Задание 5. В двух столбцах есть пропущенные значения. Один из них — `days_employed`. Пропуски в этом столбце вы обработаете на следующем этапе. Другой столбец с пропущенными значениями — `total_income` — хранит данные о доходах. На сумму дохода сильнее всего влияет тип занятости, поэтому заполнить пропуски в этом столбце нужно медианным значением по каждому типу из столбца `income_type`. Например, у человека с типом занятости `сотрудник` пропуск в столбце `total_income` должен быть заполнен медианным доходом среди всех записей с тем же типом.**"
   ]
  },
  {
   "cell_type": "code",
   "execution_count": 5,
   "id": "f5ff37e4",
   "metadata": {
    "deletable": false,
    "id": "42006a93"
   },
   "outputs": [],
   "source": [
    "for t in data['income_type'].unique():\n",
    "    data.loc[(data['income_type'] == t) & (data['total_income'].isna()), 'total_income'] = \\\n",
    "    data.loc[(data['income_type'] == t), 'total_income'].median()"
   ]
  },
  {
   "cell_type": "markdown",
   "id": "05d175bb",
   "metadata": {
    "deletable": false,
    "editable": false,
    "id": "89da5ece"
   },
   "source": [
    "### Обработка аномальных значений"
   ]
  },
  {
   "cell_type": "markdown",
   "id": "e59e3913",
   "metadata": {
    "deletable": false,
    "editable": false,
    "id": "57964554"
   },
   "source": [
    "**Задание 6. В данных могут встречаться артефакты (аномалии) — значения, которые не отражают действительность и появились по какой-то ошибке. таким артефактом будет отрицательное количество дней трудового стажа в столбце `days_employed`. Для реальных данных это нормально. Обработайте значения в этом столбце: замените все отрицательные значения положительными с помощью метода `abs()`.**"
   ]
  },
  {
   "cell_type": "code",
   "execution_count": 6,
   "id": "0816edea",
   "metadata": {
    "deletable": false,
    "id": "f6f055bf"
   },
   "outputs": [],
   "source": [
    "data['days_employed'] = data['days_employed'].abs()"
   ]
  },
  {
   "cell_type": "markdown",
   "id": "4000574a",
   "metadata": {
    "deletable": false,
    "editable": false,
    "id": "6107dd2f"
   },
   "source": [
    "**Задание 7. Для каждого типа занятости выведите медианное значение трудового стажа `days_employed` в днях.**"
   ]
  },
  {
   "cell_type": "code",
   "execution_count": 7,
   "id": "ca4363dc",
   "metadata": {
    "deletable": false,
    "id": "85a5faf6",
    "outputId": "801ef80e-522b-4668-f34e-565af7432bcf"
   },
   "outputs": [
    {
     "data": {
      "text/plain": [
       "income_type\n",
       "безработный        366413.652744\n",
       "в декрете            3296.759962\n",
       "госслужащий          2689.368353\n",
       "компаньон            1547.382223\n",
       "пенсионер          365213.306266\n",
       "предприниматель       520.848083\n",
       "сотрудник            1574.202821\n",
       "студент               578.751554\n",
       "Name: days_employed, dtype: float64"
      ]
     },
     "execution_count": 7,
     "metadata": {},
     "output_type": "execute_result"
    }
   ],
   "source": [
    "data.groupby('income_type')['days_employed'].agg('median')"
   ]
  },
  {
   "cell_type": "markdown",
   "id": "5a97a709",
   "metadata": {
    "deletable": false,
    "editable": false,
    "id": "38d1a030"
   },
   "source": [
    "У двух типов (безработные и пенсионеры) получатся аномально большие значения. Исправить такие значения сложно, поэтому оставьте их как есть. Тем более этот столбец не понадобится вам для исследования."
   ]
  },
  {
   "cell_type": "markdown",
   "id": "05f899b4",
   "metadata": {
    "deletable": false,
    "editable": false,
    "id": "d8a9f147"
   },
   "source": [
    "**Задание 8. Выведите перечень уникальных значений столбца `children`.**"
   ]
  },
  {
   "cell_type": "code",
   "execution_count": 8,
   "id": "b82009ca",
   "metadata": {
    "deletable": false,
    "id": "ef5056eb",
    "outputId": "6975b15c-7f95-4697-d16d-a0c79b657b03"
   },
   "outputs": [
    {
     "data": {
      "text/plain": [
       "array([ 1,  0,  3,  2, -1,  4, 20,  5])"
      ]
     },
     "execution_count": 8,
     "metadata": {},
     "output_type": "execute_result"
    }
   ],
   "source": [
    "data['children'].unique()"
   ]
  },
  {
   "cell_type": "markdown",
   "id": "e62b0c90",
   "metadata": {
    "deletable": false,
    "editable": false,
    "id": "40b9ebf2"
   },
   "source": [
    "**Задание 9. В столбце `children` есть два аномальных значения. Удалите строки, в которых встречаются такие аномальные значения из датафрейма `data`.**"
   ]
  },
  {
   "cell_type": "code",
   "execution_count": 9,
   "id": "96e6e107",
   "metadata": {
    "deletable": false,
    "id": "3ff9801d"
   },
   "outputs": [],
   "source": [
    "data = data[(data['children'] != -1) & (data['children'] != 20)]"
   ]
  },
  {
   "cell_type": "markdown",
   "id": "601df431",
   "metadata": {
    "deletable": false,
    "editable": false,
    "id": "bbc4d0ce"
   },
   "source": [
    "**Задание 10. Ещё раз выведите перечень уникальных значений столбца `children`, чтобы убедиться, что артефакты удалены.**"
   ]
  },
  {
   "cell_type": "code",
   "execution_count": 10,
   "id": "174677d6",
   "metadata": {
    "deletable": false,
    "id": "ad4fa8b7",
    "outputId": "b2097101-d49d-44d9-901b-32a65c9463d1"
   },
   "outputs": [
    {
     "data": {
      "text/plain": [
       "array([1, 0, 3, 2, 4, 5])"
      ]
     },
     "execution_count": 10,
     "metadata": {},
     "output_type": "execute_result"
    }
   ],
   "source": [
    "data['children'].unique()"
   ]
  },
  {
   "cell_type": "markdown",
   "id": "d5678420",
   "metadata": {
    "deletable": false,
    "editable": false,
    "id": "75440b63"
   },
   "source": [
    "### Удаление пропусков (продолжение)"
   ]
  },
  {
   "cell_type": "markdown",
   "id": "955f668c",
   "metadata": {
    "deletable": false,
    "editable": false,
    "id": "f4ea573f"
   },
   "source": [
    "**Задание 11. Заполните пропуски в столбце `days_employed` медианными значениями по каждого типа занятости `income_type`.**"
   ]
  },
  {
   "cell_type": "code",
   "execution_count": 11,
   "id": "806f41fd",
   "metadata": {
    "deletable": false,
    "id": "af6b1a7e"
   },
   "outputs": [],
   "source": [
    "for t in data['income_type'].unique():\n",
    "    data.loc[(data['income_type'] == t) & (data['days_employed'].isna()), 'days_employed'] = \\\n",
    "    data.loc[(data['income_type'] == t), 'days_employed'].median()"
   ]
  },
  {
   "cell_type": "markdown",
   "id": "d0e68009",
   "metadata": {
    "deletable": false,
    "editable": false,
    "id": "2753f40d"
   },
   "source": [
    "**Задание 12. Убедитесь, что все пропуски заполнены. Проверьте себя и ещё раз выведите количество пропущенных значений для каждого столбца с помощью двух методов.**"
   ]
  },
  {
   "cell_type": "code",
   "execution_count": 12,
   "id": "be27a436",
   "metadata": {
    "deletable": false,
    "id": "55f78bc2",
    "outputId": "8da1e4e1-358e-4e87-98c9-f261bce0a7b2"
   },
   "outputs": [
    {
     "data": {
      "text/plain": [
       "children            0\n",
       "days_employed       0\n",
       "dob_years           0\n",
       "education           0\n",
       "education_id        0\n",
       "family_status       0\n",
       "family_status_id    0\n",
       "gender              0\n",
       "income_type         0\n",
       "debt                0\n",
       "total_income        0\n",
       "purpose             0\n",
       "dtype: int64"
      ]
     },
     "execution_count": 12,
     "metadata": {},
     "output_type": "execute_result"
    }
   ],
   "source": [
    "data.isna().sum()"
   ]
  },
  {
   "cell_type": "markdown",
   "id": "c28738ec",
   "metadata": {
    "deletable": false,
    "editable": false,
    "id": "ddc81e43"
   },
   "source": [
    "### Изменение типов данных"
   ]
  },
  {
   "cell_type": "markdown",
   "id": "77884728",
   "metadata": {
    "deletable": false,
    "editable": false,
    "id": "42d19d24"
   },
   "source": [
    "**Задание 13. Замените вещественный тип данных в столбце `total_income` на целочисленный с помощью метода `astype()`.**"
   ]
  },
  {
   "cell_type": "code",
   "execution_count": 13,
   "id": "bbcac00a",
   "metadata": {
    "deletable": false,
    "id": "920b65ad"
   },
   "outputs": [],
   "source": [
    "data['total_income'] = data['total_income'].astype(int)"
   ]
  },
  {
   "cell_type": "markdown",
   "id": "b5c92072",
   "metadata": {
    "deletable": false,
    "editable": false,
    "id": "80c420ba"
   },
   "source": [
    "### Обработка дубликатов"
   ]
  },
  {
   "cell_type": "markdown",
   "id": "fe305591",
   "metadata": {
    "deletable": false,
    "editable": false
   },
   "source": [
    "**Задание 14. Обработайте неявные дубликаты в столбце `education`. В этом столбце есть одни и те же значения, но записанные по-разному: с использованием заглавных и строчных букв. Приведите их к нижнему регистру. Проверьте остальные столбцы.**"
   ]
  },
  {
   "cell_type": "code",
   "execution_count": 14,
   "id": "49188077",
   "metadata": {
    "deletable": false
   },
   "outputs": [],
   "source": [
    "data['education'] = data['education'].str.lower()"
   ]
  },
  {
   "cell_type": "markdown",
   "id": "f4085912",
   "metadata": {
    "deletable": false,
    "editable": false,
    "id": "dc587695"
   },
   "source": [
    "**Задание 15. Выведите на экран количество строк-дубликатов в данных. Если такие строки присутствуют, удалите их.**"
   ]
  },
  {
   "cell_type": "code",
   "execution_count": 15,
   "id": "ad9cc0b5",
   "metadata": {
    "deletable": false,
    "id": "3ee445e4",
    "outputId": "9684deba-1934-42d1-99e1-cda61740f822"
   },
   "outputs": [
    {
     "data": {
      "text/plain": [
       "71"
      ]
     },
     "execution_count": 15,
     "metadata": {},
     "output_type": "execute_result"
    }
   ],
   "source": [
    "data.duplicated().sum()"
   ]
  },
  {
   "cell_type": "code",
   "execution_count": 16,
   "id": "be75954f",
   "metadata": {
    "deletable": false,
    "id": "8575fe05"
   },
   "outputs": [],
   "source": [
    "data = data.drop_duplicates()"
   ]
  },
  {
   "cell_type": "markdown",
   "id": "fe860027",
   "metadata": {
    "deletable": false,
    "editable": false,
    "id": "9904cf55"
   },
   "source": [
    "### Категоризация данных"
   ]
  },
  {
   "cell_type": "markdown",
   "id": "87221812",
   "metadata": {
    "deletable": false,
    "editable": false,
    "id": "72fcc8a2"
   },
   "source": [
    "**Задание 16. На основании диапазонов, указанных ниже, создайте в датафрейме `data` столбец `total_income_category` с категориями:**\n",
    "\n",
    "- 0–30000 — `'E'`;\n",
    "- 30001–50000 — `'D'`;\n",
    "- 50001–200000 — `'C'`;\n",
    "- 200001–1000000 — `'B'`;\n",
    "- 1000001 и выше — `'A'`.\n",
    "\n",
    "\n",
    "**Например, кредитополучателю с доходом 25000 нужно назначить категорию `'E'`, а клиенту, получающему 235000, — `'B'`. Используйте собственную функцию с именем `categorize_income()` и метод `apply()`.**"
   ]
  },
  {
   "cell_type": "code",
   "execution_count": 17,
   "id": "40dd25bf",
   "metadata": {
    "deletable": false,
    "id": "e1771346"
   },
   "outputs": [],
   "source": [
    "def categorize_income(income):\n",
    "    try:\n",
    "        if 0 <= income <= 30000:\n",
    "            return 'E'\n",
    "        elif 30001 <= income <= 50000:\n",
    "            return 'D'\n",
    "        elif 50001 <= income <= 200000:\n",
    "            return 'C'\n",
    "        elif 200001 <= income <= 1000000:\n",
    "            return 'B'\n",
    "        elif income >= 1000001:\n",
    "            return 'A'\n",
    "    except:\n",
    "        pass"
   ]
  },
  {
   "cell_type": "code",
   "execution_count": 18,
   "id": "723c8030",
   "metadata": {
    "deletable": false,
    "id": "d5f3586d"
   },
   "outputs": [],
   "source": [
    "data['total_income_category'] = data['total_income'].apply(categorize_income)"
   ]
  },
  {
   "cell_type": "markdown",
   "id": "cf582966",
   "metadata": {
    "deletable": false,
    "editable": false,
    "id": "dde49b5c"
   },
   "source": [
    "**Задание 17. Выведите на экран перечень уникальных целей взятия кредита из столбца `purpose`.**"
   ]
  },
  {
   "cell_type": "code",
   "execution_count": 19,
   "id": "abc19da4",
   "metadata": {
    "deletable": false,
    "id": "f67ce9b3",
    "outputId": "673c12d9-7d7e-4ae0-9812-c622c89dd244"
   },
   "outputs": [
    {
     "data": {
      "text/plain": [
       "array(['покупка жилья', 'приобретение автомобиля',\n",
       "       'дополнительное образование', 'сыграть свадьбу',\n",
       "       'операции с жильем', 'образование', 'на проведение свадьбы',\n",
       "       'покупка жилья для семьи', 'покупка недвижимости',\n",
       "       'покупка коммерческой недвижимости', 'покупка жилой недвижимости',\n",
       "       'строительство собственной недвижимости', 'недвижимость',\n",
       "       'строительство недвижимости', 'на покупку подержанного автомобиля',\n",
       "       'на покупку своего автомобиля',\n",
       "       'операции с коммерческой недвижимостью',\n",
       "       'строительство жилой недвижимости', 'жилье',\n",
       "       'операции со своей недвижимостью', 'автомобили',\n",
       "       'заняться образованием', 'сделка с подержанным автомобилем',\n",
       "       'получение образования', 'автомобиль', 'свадьба',\n",
       "       'получение дополнительного образования', 'покупка своего жилья',\n",
       "       'операции с недвижимостью', 'получение высшего образования',\n",
       "       'свой автомобиль', 'сделка с автомобилем',\n",
       "       'профильное образование', 'высшее образование',\n",
       "       'покупка жилья для сдачи', 'на покупку автомобиля', 'ремонт жилью',\n",
       "       'заняться высшим образованием'], dtype=object)"
      ]
     },
     "execution_count": 19,
     "metadata": {},
     "output_type": "execute_result"
    }
   ],
   "source": [
    "data['purpose'].unique()"
   ]
  },
  {
   "cell_type": "markdown",
   "id": "76ac8de0",
   "metadata": {
    "deletable": false,
    "editable": false,
    "id": "85d0aef0"
   },
   "source": [
    "**Задание 18. Создайте функцию, которая на основании данных из столбца `purpose` сформирует новый столбец `purpose_category`, в который войдут следующие категории:**\n",
    "\n",
    "- `'операции с автомобилем'`,\n",
    "- `'операции с недвижимостью'`,\n",
    "- `'проведение свадьбы'`,\n",
    "- `'получение образования'`.\n",
    "\n",
    "**Например, если в столбце `purpose` находится подстрока `'на покупку автомобиля'`, то в столбце `purpose_category` должна появиться строка `'операции с автомобилем'`.**\n",
    "\n",
    "**Используйте собственную функцию с именем `categorize_purpose()` и метод `apply()`. Изучите данные в столбце `purpose` и определите, какие подстроки помогут вам правильно определить категорию.**"
   ]
  },
  {
   "cell_type": "code",
   "execution_count": 20,
   "id": "72447f52",
   "metadata": {
    "deletable": false,
    "id": "e149fab4"
   },
   "outputs": [],
   "source": [
    "def categorize_purpose(row):\n",
    "    try:\n",
    "        if 'автом' in row:\n",
    "            return 'операции с автомобилем'\n",
    "        elif 'жил' in row or 'недвиж' in row:\n",
    "            return 'операции с недвижимостью'\n",
    "        elif 'свад' in row:\n",
    "            return 'проведение свадьбы'\n",
    "        elif 'образов' in row:\n",
    "            return 'получение образования'\n",
    "    except:\n",
    "        return 'нет категории'"
   ]
  },
  {
   "cell_type": "code",
   "execution_count": 21,
   "id": "36aa234d",
   "metadata": {
    "deletable": false,
    "id": "bf36e69b"
   },
   "outputs": [],
   "source": [
    "data['purpose_category'] = data['purpose'].apply(categorize_purpose)"
   ]
  },
  {
   "cell_type": "markdown",
   "id": "282df919",
   "metadata": {
    "deletable": false,
    "editable": false,
    "id": "09b242bf"
   },
   "source": [
    "### Шаг 3. Исследуйте данные и ответьте на вопросы"
   ]
  },
  {
   "cell_type": "markdown",
   "id": "ba49e242",
   "metadata": {
    "deletable": false,
    "editable": false,
    "id": "c5d66278"
   },
   "source": [
    "#### 3.1 Есть ли зависимость между количеством детей и возвратом кредита в срок?"
   ]
  },
  {
   "cell_type": "code",
   "execution_count": 22,
   "id": "05d2a16c",
   "metadata": {
    "deletable": false,
    "id": "2cacfc4a"
   },
   "outputs": [
    {
     "data": {
      "text/html": [
       "<style  type=\"text/css\" >\n",
       "</style><table id=\"T_3c959_\" ><thead>    <tr>        <th class=\"blank level0\" ></th>        <th class=\"col_heading level0 col0\" >count</th>        <th class=\"col_heading level0 col1\" >mean</th>        <th class=\"col_heading level0 col2\" >sum</th>    </tr>    <tr>        <th class=\"index_name level0\" >children</th>        <th class=\"blank\" ></th>        <th class=\"blank\" ></th>        <th class=\"blank\" ></th>    </tr></thead><tbody>\n",
       "                <tr>\n",
       "                        <th id=\"T_3c959_level0_row0\" class=\"row_heading level0 row0\" >5</th>\n",
       "                        <td id=\"T_3c959_row0_col0\" class=\"data row0 col0\" >9</td>\n",
       "                        <td id=\"T_3c959_row0_col1\" class=\"data row0 col1\" >0.00%</td>\n",
       "                        <td id=\"T_3c959_row0_col2\" class=\"data row0 col2\" >0</td>\n",
       "            </tr>\n",
       "            <tr>\n",
       "                        <th id=\"T_3c959_level0_row1\" class=\"row_heading level0 row1\" >0</th>\n",
       "                        <td id=\"T_3c959_row1_col0\" class=\"data row1 col0\" >14091</td>\n",
       "                        <td id=\"T_3c959_row1_col1\" class=\"data row1 col1\" >7.54%</td>\n",
       "                        <td id=\"T_3c959_row1_col2\" class=\"data row1 col2\" >1063</td>\n",
       "            </tr>\n",
       "            <tr>\n",
       "                        <th id=\"T_3c959_level0_row2\" class=\"row_heading level0 row2\" >3</th>\n",
       "                        <td id=\"T_3c959_row2_col0\" class=\"data row2 col0\" >330</td>\n",
       "                        <td id=\"T_3c959_row2_col1\" class=\"data row2 col1\" >8.18%</td>\n",
       "                        <td id=\"T_3c959_row2_col2\" class=\"data row2 col2\" >27</td>\n",
       "            </tr>\n",
       "            <tr>\n",
       "                        <th id=\"T_3c959_level0_row3\" class=\"row_heading level0 row3\" >1</th>\n",
       "                        <td id=\"T_3c959_row3_col0\" class=\"data row3 col0\" >4808</td>\n",
       "                        <td id=\"T_3c959_row3_col1\" class=\"data row3 col1\" >9.23%</td>\n",
       "                        <td id=\"T_3c959_row3_col2\" class=\"data row3 col2\" >444</td>\n",
       "            </tr>\n",
       "            <tr>\n",
       "                        <th id=\"T_3c959_level0_row4\" class=\"row_heading level0 row4\" >2</th>\n",
       "                        <td id=\"T_3c959_row4_col0\" class=\"data row4 col0\" >2052</td>\n",
       "                        <td id=\"T_3c959_row4_col1\" class=\"data row4 col1\" >9.45%</td>\n",
       "                        <td id=\"T_3c959_row4_col2\" class=\"data row4 col2\" >194</td>\n",
       "            </tr>\n",
       "            <tr>\n",
       "                        <th id=\"T_3c959_level0_row5\" class=\"row_heading level0 row5\" >4</th>\n",
       "                        <td id=\"T_3c959_row5_col0\" class=\"data row5 col0\" >41</td>\n",
       "                        <td id=\"T_3c959_row5_col1\" class=\"data row5 col1\" >9.76%</td>\n",
       "                        <td id=\"T_3c959_row5_col2\" class=\"data row5 col2\" >4</td>\n",
       "            </tr>\n",
       "    </tbody></table>"
      ],
      "text/plain": [
       "<pandas.io.formats.style.Styler at 0x7f25f6476ee0>"
      ]
     },
     "metadata": {},
     "output_type": "display_data"
    }
   ],
   "source": [
    "# Ваш код будет здесь. Вы можете создавать новые ячейки.\n",
    "#data_pivot_1 = data.pivot_table(index='children', columns='debt', values='income_type', aggfunc='count')\n",
    "#data_pivot = data.pivot_table(index='children', values='debt', aggfunc='mean').sort_values(by='debt')\n",
    "#display(data_pivot_1)\n",
    "data_pivot = data.pivot_table(index='children', values='debt', aggfunc={'debt': ['count', 'sum', 'mean']}).sort_values(by='mean')\n",
    "data_pivot = data_pivot.style.format({'mean': '{:,.2%}', 'count': '{:.0f}', 'sum': '{:.0f}'})\n",
    "display(data_pivot)"
   ]
  },
  {
   "cell_type": "markdown",
   "id": "fea2d7ab",
   "metadata": {
    "deletable": false,
    "id": "3a6b99ec"
   },
   "source": [
    "**Вывод:для анализа зависимости между количеством детей и возвратом кредита в срок построем сводную таблицу и для удобства отсортируем ее в порядке возрастания. Для полноты картины рассмотрим таблицу с тремя показателями: с количеством людей, которые задерживали/не задерживали оплату, общим количеством и со средним показателем. Если принять во внимание только первый показатель, кажется, что люди без детей чаще всего возвращали кредит не в срок. Но для объективной картины нам нужно рассмотреть процентное соотношение, поэтому анализ сделаем по процентному соотношению.\n",
    "\n",
    "Как можно заметить, самые ответсвенные налогоплательщики - люди с 5ю детьми. По таблице у них не было задержек с оплатой. Но также мы видим, что по данным было всего 9 таких семей, что очень мало по сравнению с остальными категориями. Поэтому здесь объективнее принять во внимание, что у семей без детей наилучший показатель по выплате кредита вовремя.\n",
    "\n",
    "Далее идут люди с 3мя детьми, 1 и 2 детьми. Список заканчивают люди, в семье которых 4 ребенка. Но здесь также очень маленькая категория. Поэтому обращаем внимание на семьи с двумя детьми. У них показатель выше. ** "
   ]
  },
  {
   "cell_type": "markdown",
   "id": "8c0fba1f",
   "metadata": {
    "deletable": false,
    "editable": false,
    "id": "97be82ca"
   },
   "source": [
    "#### 3.2 Есть ли зависимость между семейным положением и возвратом кредита в срок?"
   ]
  },
  {
   "cell_type": "code",
   "execution_count": 23,
   "id": "73a7ccbc",
   "metadata": {
    "deletable": false,
    "id": "dc3f7ee8"
   },
   "outputs": [
    {
     "data": {
      "text/html": [
       "<style  type=\"text/css\" >\n",
       "</style><table id=\"T_08f50_\" ><thead>    <tr>        <th class=\"blank level0\" ></th>        <th class=\"col_heading level0 col0\" >count</th>        <th class=\"col_heading level0 col1\" >mean</th>        <th class=\"col_heading level0 col2\" >sum</th>    </tr>    <tr>        <th class=\"index_name level0\" >family_status</th>        <th class=\"blank\" ></th>        <th class=\"blank\" ></th>        <th class=\"blank\" ></th>    </tr></thead><tbody>\n",
       "                <tr>\n",
       "                        <th id=\"T_08f50_level0_row0\" class=\"row_heading level0 row0\" >вдовец / вдова</th>\n",
       "                        <td id=\"T_08f50_row0_col0\" class=\"data row0 col0\" >951</td>\n",
       "                        <td id=\"T_08f50_row0_col1\" class=\"data row0 col1\" >6.62%</td>\n",
       "                        <td id=\"T_08f50_row0_col2\" class=\"data row0 col2\" >63</td>\n",
       "            </tr>\n",
       "            <tr>\n",
       "                        <th id=\"T_08f50_level0_row1\" class=\"row_heading level0 row1\" >в разводе</th>\n",
       "                        <td id=\"T_08f50_row1_col0\" class=\"data row1 col0\" >1189</td>\n",
       "                        <td id=\"T_08f50_row1_col1\" class=\"data row1 col1\" >7.06%</td>\n",
       "                        <td id=\"T_08f50_row1_col2\" class=\"data row1 col2\" >84</td>\n",
       "            </tr>\n",
       "            <tr>\n",
       "                        <th id=\"T_08f50_level0_row2\" class=\"row_heading level0 row2\" >женат / замужем</th>\n",
       "                        <td id=\"T_08f50_row2_col0\" class=\"data row2 col0\" >12261</td>\n",
       "                        <td id=\"T_08f50_row2_col1\" class=\"data row2 col1\" >7.56%</td>\n",
       "                        <td id=\"T_08f50_row2_col2\" class=\"data row2 col2\" >927</td>\n",
       "            </tr>\n",
       "            <tr>\n",
       "                        <th id=\"T_08f50_level0_row3\" class=\"row_heading level0 row3\" >гражданский брак</th>\n",
       "                        <td id=\"T_08f50_row3_col0\" class=\"data row3 col0\" >4134</td>\n",
       "                        <td id=\"T_08f50_row3_col1\" class=\"data row3 col1\" >9.31%</td>\n",
       "                        <td id=\"T_08f50_row3_col2\" class=\"data row3 col2\" >385</td>\n",
       "            </tr>\n",
       "            <tr>\n",
       "                        <th id=\"T_08f50_level0_row4\" class=\"row_heading level0 row4\" >Не женат / не замужем</th>\n",
       "                        <td id=\"T_08f50_row4_col0\" class=\"data row4 col0\" >2796</td>\n",
       "                        <td id=\"T_08f50_row4_col1\" class=\"data row4 col1\" >9.76%</td>\n",
       "                        <td id=\"T_08f50_row4_col2\" class=\"data row4 col2\" >273</td>\n",
       "            </tr>\n",
       "    </tbody></table>"
      ],
      "text/plain": [
       "<pandas.io.formats.style.Styler at 0x7f258b8cf220>"
      ]
     },
     "metadata": {},
     "output_type": "display_data"
    }
   ],
   "source": [
    "# Ваш код будет здесь. Вы можете создавать новые ячейки.\n",
    "data_pivot = data.pivot_table(index='family_status', values='debt', aggfunc={'debt': ['count', 'sum', 'mean']}).sort_values(by='mean')\n",
    "data_pivot = data_pivot.style.format({'mean': '{:,.2%}', 'count': '{:.0f}', 'sum': '{:.0f}'})\n",
    "display(data_pivot)"
   ]
  },
  {
   "cell_type": "markdown",
   "id": "c2fb9181",
   "metadata": {
    "deletable": false,
    "id": "1cef7837"
   },
   "source": [
    "**Вывод:здесь аналогично построим таблицу по категориям семейного положения. Видим, что более ответственные налогоплательщики - это люди разведенные или овдовевшие. Люди, не состоящие в браке, имеют больший процент по задолженности возврата кредитов.** "
   ]
  },
  {
   "cell_type": "markdown",
   "id": "0bfb416e",
   "metadata": {
    "deletable": false,
    "editable": false,
    "id": "1e8b2fca"
   },
   "source": [
    "#### 3.3 Есть ли зависимость между уровнем дохода и возвратом кредита в срок?"
   ]
  },
  {
   "cell_type": "code",
   "execution_count": 24,
   "id": "8263378f",
   "metadata": {
    "deletable": false,
    "id": "cd7e3720"
   },
   "outputs": [
    {
     "data": {
      "text/html": [
       "<style  type=\"text/css\" >\n",
       "</style><table id=\"T_84448_\" ><thead>    <tr>        <th class=\"blank level0\" ></th>        <th class=\"col_heading level0 col0\" >count</th>        <th class=\"col_heading level0 col1\" >mean</th>        <th class=\"col_heading level0 col2\" >sum</th>    </tr>    <tr>        <th class=\"index_name level0\" >total_income_category</th>        <th class=\"blank\" ></th>        <th class=\"blank\" ></th>        <th class=\"blank\" ></th>    </tr></thead><tbody>\n",
       "                <tr>\n",
       "                        <th id=\"T_84448_level0_row0\" class=\"row_heading level0 row0\" >D</th>\n",
       "                        <td id=\"T_84448_row0_col0\" class=\"data row0 col0\" >349</td>\n",
       "                        <td id=\"T_84448_row0_col1\" class=\"data row0 col1\" >6.02%</td>\n",
       "                        <td id=\"T_84448_row0_col2\" class=\"data row0 col2\" >21</td>\n",
       "            </tr>\n",
       "            <tr>\n",
       "                        <th id=\"T_84448_level0_row1\" class=\"row_heading level0 row1\" >B</th>\n",
       "                        <td id=\"T_84448_row1_col0\" class=\"data row1 col0\" >5014</td>\n",
       "                        <td id=\"T_84448_row1_col1\" class=\"data row1 col1\" >7.06%</td>\n",
       "                        <td id=\"T_84448_row1_col2\" class=\"data row1 col2\" >354</td>\n",
       "            </tr>\n",
       "            <tr>\n",
       "                        <th id=\"T_84448_level0_row2\" class=\"row_heading level0 row2\" >A</th>\n",
       "                        <td id=\"T_84448_row2_col0\" class=\"data row2 col0\" >25</td>\n",
       "                        <td id=\"T_84448_row2_col1\" class=\"data row2 col1\" >8.00%</td>\n",
       "                        <td id=\"T_84448_row2_col2\" class=\"data row2 col2\" >2</td>\n",
       "            </tr>\n",
       "            <tr>\n",
       "                        <th id=\"T_84448_level0_row3\" class=\"row_heading level0 row3\" >C</th>\n",
       "                        <td id=\"T_84448_row3_col0\" class=\"data row3 col0\" >15921</td>\n",
       "                        <td id=\"T_84448_row3_col1\" class=\"data row3 col1\" >8.50%</td>\n",
       "                        <td id=\"T_84448_row3_col2\" class=\"data row3 col2\" >1353</td>\n",
       "            </tr>\n",
       "            <tr>\n",
       "                        <th id=\"T_84448_level0_row4\" class=\"row_heading level0 row4\" >E</th>\n",
       "                        <td id=\"T_84448_row4_col0\" class=\"data row4 col0\" >22</td>\n",
       "                        <td id=\"T_84448_row4_col1\" class=\"data row4 col1\" >9.09%</td>\n",
       "                        <td id=\"T_84448_row4_col2\" class=\"data row4 col2\" >2</td>\n",
       "            </tr>\n",
       "    </tbody></table>"
      ],
      "text/plain": [
       "<pandas.io.formats.style.Styler at 0x7f25cb883040>"
      ]
     },
     "metadata": {},
     "output_type": "display_data"
    }
   ],
   "source": [
    "# Ваш код будет здесь. Вы можете создавать новые ячейки.\n",
    "data_pivot = data.pivot_table(index='total_income_category', values='debt', aggfunc={'debt': ['count', 'sum', 'mean']}).sort_values(by='mean')\n",
    "data_pivot = data_pivot.style.format({'mean': '{:,.2%}', 'count': '{:.0f}', 'sum': '{:.0f}'})\n",
    "display(data_pivot)"
   ]
  },
  {
   "cell_type": "markdown",
   "id": "36be3d88",
   "metadata": {
    "deletable": false,
    "id": "e8593def"
   },
   "source": [
    "**Вывод:здесь мы видим, что проблемы с погашением задолжности происходили у людей из низшей категории доходов (до 30000), но это немногочисленная категория и здесь лучше отметить категорию 'C' (доход 50001–200000). \n",
    "\n",
    "Также можно обратить внимание, что самый малый процент погашения кредита не вовремя у категории 'D', но при этом ситуация такая же, как и у категории 'E'. Выборка слишком маленькая по сравнению, например, с категорией 'B', где доход людей 200001–1000000.\n",
    "\n",
    "Также для обобщения картины здесь стоит сказать, что мы не рассматриваем все доходы представленные в таблице, а обращаемся к уже сформированным категориям** "
   ]
  },
  {
   "cell_type": "markdown",
   "id": "c3506710",
   "metadata": {
    "deletable": false,
    "editable": false,
    "id": "99ecbd1f"
   },
   "source": [
    "#### 3.4 Как разные цели кредита влияют на его возврат в срок?"
   ]
  },
  {
   "cell_type": "code",
   "execution_count": 25,
   "id": "25fa6f67",
   "metadata": {
    "deletable": false,
    "id": "2b687290"
   },
   "outputs": [
    {
     "data": {
      "text/html": [
       "<div>\n",
       "<style scoped>\n",
       "    .dataframe tbody tr th:only-of-type {\n",
       "        vertical-align: middle;\n",
       "    }\n",
       "\n",
       "    .dataframe tbody tr th {\n",
       "        vertical-align: top;\n",
       "    }\n",
       "\n",
       "    .dataframe thead th {\n",
       "        text-align: right;\n",
       "    }\n",
       "</style>\n",
       "<table border=\"1\" class=\"dataframe\">\n",
       "  <thead>\n",
       "    <tr style=\"text-align: right;\">\n",
       "      <th></th>\n",
       "      <th>debt</th>\n",
       "    </tr>\n",
       "    <tr>\n",
       "      <th>purpose_category</th>\n",
       "      <th></th>\n",
       "    </tr>\n",
       "  </thead>\n",
       "  <tbody>\n",
       "    <tr>\n",
       "      <th>операции с недвижимостью</th>\n",
       "      <td>0.072551</td>\n",
       "    </tr>\n",
       "    <tr>\n",
       "      <th>проведение свадьбы</th>\n",
       "      <td>0.079118</td>\n",
       "    </tr>\n",
       "    <tr>\n",
       "      <th>получение образования</th>\n",
       "      <td>0.092528</td>\n",
       "    </tr>\n",
       "    <tr>\n",
       "      <th>операции с автомобилем</th>\n",
       "      <td>0.093480</td>\n",
       "    </tr>\n",
       "  </tbody>\n",
       "</table>\n",
       "</div>"
      ],
      "text/plain": [
       "                              debt\n",
       "purpose_category                  \n",
       "операции с недвижимостью  0.072551\n",
       "проведение свадьбы        0.079118\n",
       "получение образования     0.092528\n",
       "операции с автомобилем    0.093480"
      ]
     },
     "metadata": {},
     "output_type": "display_data"
    }
   ],
   "source": [
    "# Ваш код будет здесь. Вы можете создавать новые ячейки.\n",
    "data_pivot = data.pivot_table(index='purpose_category', values='debt', aggfunc='mean').sort_values(by='debt')\n",
    "display(data_pivot)"
   ]
  },
  {
   "cell_type": "markdown",
   "id": "01f6b6dc",
   "metadata": {
    "deletable": false,
    "id": "b4bb2ce6"
   },
   "source": [
    "**Вывод:аналогично анализу доходов, анализ цели кредита и возврата кредита в срок рассматриваем уже по сформированным категориям. Это дает сделать вывод, что люди, взявшие кредит на жилье или проведение свадьбы (их показатели близки по значению) имеют меньше проблем с погашением кредита, нежели люди выплачивающие стоимость автомобиля или образования. Их показатели также близки, но на первое место выходит категория \"операции с автомобилем\".** "
   ]
  },
  {
   "cell_type": "markdown",
   "id": "98e9d13b",
   "metadata": {
    "deletable": false,
    "editable": false,
    "id": "09c3ac4c"
   },
   "source": [
    "#### 3.5 Приведите возможные причины появления пропусков в исходных данных."
   ]
  },
  {
   "cell_type": "markdown",
   "id": "7ce8a2d8",
   "metadata": {
    "deletable": false,
    "id": "9da2ceda"
   },
   "source": [
    "*Ответ: проблемы с выгрузкой данных, изначально некорретное заполнение данных* "
   ]
  },
  {
   "cell_type": "markdown",
   "id": "b5cc5655",
   "metadata": {
    "deletable": false,
    "editable": false,
    "id": "7b0487d6"
   },
   "source": [
    "#### 3.6 Объясните, почему заполнить пропуски медианным значением — лучшее решение для количественных переменных."
   ]
  },
  {
   "cell_type": "markdown",
   "id": "0144c10d",
   "metadata": {
    "deletable": false,
    "id": "7ecf2b8e"
   },
   "source": [
    "*Ответ:количественные переменные - это переменные, которые могут принимать любое числовое значение в диапазоне. Нельхя выбрать самое популярное число - анализ будет нарушен. Поэтому мы берем медианное значение или среднее.\n",
    "Если данных много и они не имеюют резких отличий, то медиана и среднее значение будут одинаковы. Но если ситуация противоположная, то лучше использовать медиану, так как она даст более объективное представление о всех данных* "
   ]
  },
  {
   "cell_type": "markdown",
   "id": "f1132a50",
   "metadata": {
    "deletable": false,
    "editable": false,
    "id": "6db5255a"
   },
   "source": [
    "### Шаг 4: общий вывод."
   ]
  },
  {
   "cell_type": "markdown",
   "id": "35a21ad6",
   "metadata": {
    "deletable": false,
    "id": "bad65432"
   },
   "source": [
    "Мы рассмотрели несколько зависимостей между категориями и возвратом кредита в срок. Некоторые категории мы не рассматривали, как основные, из-за их небольшого количества (например, зависимость в аналихе между уровнем дохода и возвратом кредита в срок), но тем не менее, везде можно выделить более ответсвенных и менее ответственных людей.\n",
    "\n",
    "Топ значений в категориях, имеющих проблемы с погашением кредита в срок:\n",
    "- в семье 4 ребенка\n",
    "- не замужем/не женат\n",
    "- доход от 50001 до 200000\n",
    "- кредит был взят на автомобиль\n",
    "\n",
    "Топ значений в категориях, зачастую не имеющих проблем с погашением кредита в срок:\n",
    "- в семье нет детей\n",
    "- вдова/вдовец\n",
    "- доход от 200001 до 1000000\n",
    "- кредит был взят на недвижимость\n",
    "\n",
    "Общий вывод: все рассмотренные показатели в большей или меньшей степени влияют на возврат кредита в срок. Самые \"положительные\" и \"отрицательные\" категории людей описаны выше."
   ]
  },
  {
   "cell_type": "code",
   "execution_count": null,
   "id": "926fddae",
   "metadata": {},
   "outputs": [],
   "source": []
  }
 ],
 "metadata": {
  "ExecuteTimeLog": [
   {
    "duration": 582,
    "start_time": "2022-09-18T15:36:42.620Z"
   },
   {
    "duration": 29,
    "start_time": "2022-09-18T15:36:43.204Z"
   },
   {
    "duration": 70,
    "start_time": "2022-09-18T15:36:43.235Z"
   },
   {
    "duration": 18,
    "start_time": "2022-09-18T15:36:43.309Z"
   },
   {
    "duration": 124,
    "start_time": "2022-09-18T15:36:43.330Z"
   },
   {
    "duration": 9,
    "start_time": "2022-09-18T15:36:43.462Z"
   },
   {
    "duration": 32,
    "start_time": "2022-09-18T15:36:43.473Z"
   },
   {
    "duration": 6,
    "start_time": "2022-09-18T15:36:43.507Z"
   },
   {
    "duration": 43,
    "start_time": "2022-09-18T15:36:43.515Z"
   },
   {
    "duration": 26,
    "start_time": "2022-09-18T15:36:43.568Z"
   },
   {
    "duration": 57,
    "start_time": "2022-09-18T15:36:43.596Z"
   },
   {
    "duration": 28,
    "start_time": "2022-09-18T15:36:43.654Z"
   },
   {
    "duration": 18,
    "start_time": "2022-09-18T15:36:43.683Z"
   },
   {
    "duration": 29,
    "start_time": "2022-09-18T15:36:43.704Z"
   },
   {
    "duration": 89,
    "start_time": "2022-09-18T15:36:43.735Z"
   },
   {
    "duration": 31,
    "start_time": "2022-09-18T15:36:43.826Z"
   },
   {
    "duration": 53,
    "start_time": "2022-09-18T15:36:43.859Z"
   },
   {
    "duration": 19,
    "start_time": "2022-09-18T15:36:43.914Z"
   },
   {
    "duration": 71,
    "start_time": "2022-09-18T15:36:43.936Z"
   },
   {
    "duration": 5,
    "start_time": "2022-09-18T15:36:44.009Z"
   },
   {
    "duration": 54,
    "start_time": "2022-09-18T15:36:44.015Z"
   },
   {
    "duration": 22,
    "start_time": "2022-09-18T15:36:44.070Z"
   },
   {
    "duration": 10,
    "start_time": "2022-09-18T15:36:44.095Z"
   },
   {
    "duration": 9,
    "start_time": "2022-09-18T15:36:44.107Z"
   },
   {
    "duration": 75,
    "start_time": "2022-09-18T15:36:44.119Z"
   },
   {
    "duration": 23,
    "start_time": "2022-09-18T15:53:30.262Z"
   },
   {
    "duration": 18,
    "start_time": "2022-09-18T15:53:33.400Z"
   },
   {
    "duration": 19,
    "start_time": "2022-09-18T15:53:43.055Z"
   },
   {
    "duration": 32,
    "start_time": "2022-09-18T15:53:51.948Z"
   },
   {
    "duration": 106,
    "start_time": "2022-09-18T15:54:32.375Z"
   },
   {
    "duration": 34,
    "start_time": "2022-09-18T15:54:37.900Z"
   },
   {
    "duration": 46,
    "start_time": "2022-09-18T15:55:12.506Z"
   },
   {
    "duration": 30,
    "start_time": "2022-09-18T15:55:27.272Z"
   },
   {
    "duration": 17,
    "start_time": "2022-09-18T15:55:55.161Z"
   },
   {
    "duration": 17,
    "start_time": "2022-09-18T15:57:43.758Z"
   },
   {
    "duration": 32,
    "start_time": "2022-09-18T16:03:25.959Z"
   },
   {
    "duration": 21,
    "start_time": "2022-09-18T16:05:38.659Z"
   },
   {
    "duration": 21,
    "start_time": "2022-09-18T16:05:58.584Z"
   },
   {
    "duration": 33,
    "start_time": "2022-09-18T16:06:05.059Z"
   },
   {
    "duration": 38,
    "start_time": "2022-09-18T16:06:22.298Z"
   },
   {
    "duration": 29,
    "start_time": "2022-09-18T16:06:55.263Z"
   },
   {
    "duration": 16,
    "start_time": "2022-09-18T16:07:10.789Z"
   },
   {
    "duration": 16,
    "start_time": "2022-09-18T16:07:23.355Z"
   },
   {
    "duration": 32,
    "start_time": "2022-09-18T16:08:16.620Z"
   },
   {
    "duration": 25,
    "start_time": "2022-09-18T16:08:45.287Z"
   },
   {
    "duration": 27,
    "start_time": "2022-09-18T16:09:07.886Z"
   },
   {
    "duration": 32,
    "start_time": "2022-09-18T16:09:32.580Z"
   },
   {
    "duration": 41,
    "start_time": "2022-09-18T16:13:51.454Z"
   },
   {
    "duration": 16,
    "start_time": "2022-09-18T16:14:06.661Z"
   },
   {
    "duration": 17,
    "start_time": "2022-09-18T16:20:19.486Z"
   },
   {
    "duration": 34,
    "start_time": "2022-09-18T16:23:59.221Z"
   },
   {
    "duration": 39,
    "start_time": "2022-09-18T16:25:07.810Z"
   },
   {
    "duration": 393,
    "start_time": "2022-09-18T17:17:37.653Z"
   },
   {
    "duration": 21,
    "start_time": "2022-09-18T17:17:38.048Z"
   },
   {
    "duration": 13,
    "start_time": "2022-09-18T17:17:38.071Z"
   },
   {
    "duration": 19,
    "start_time": "2022-09-18T17:17:38.086Z"
   },
   {
    "duration": 30,
    "start_time": "2022-09-18T17:17:38.106Z"
   },
   {
    "duration": 3,
    "start_time": "2022-09-18T17:17:38.137Z"
   },
   {
    "duration": 13,
    "start_time": "2022-09-18T17:17:38.142Z"
   },
   {
    "duration": 4,
    "start_time": "2022-09-18T17:17:38.156Z"
   },
   {
    "duration": 7,
    "start_time": "2022-09-18T17:17:38.162Z"
   },
   {
    "duration": 4,
    "start_time": "2022-09-18T17:17:38.171Z"
   },
   {
    "duration": 54,
    "start_time": "2022-09-18T17:17:38.176Z"
   },
   {
    "duration": 9,
    "start_time": "2022-09-18T17:17:38.232Z"
   },
   {
    "duration": 6,
    "start_time": "2022-09-18T17:17:38.243Z"
   },
   {
    "duration": 12,
    "start_time": "2022-09-18T17:17:38.250Z"
   },
   {
    "duration": 38,
    "start_time": "2022-09-18T17:17:38.263Z"
   },
   {
    "duration": 15,
    "start_time": "2022-09-18T17:17:38.303Z"
   },
   {
    "duration": 3,
    "start_time": "2022-09-18T17:17:38.320Z"
   },
   {
    "duration": 12,
    "start_time": "2022-09-18T17:17:38.324Z"
   },
   {
    "duration": 6,
    "start_time": "2022-09-18T17:17:38.337Z"
   },
   {
    "duration": 4,
    "start_time": "2022-09-18T17:17:38.344Z"
   },
   {
    "duration": 14,
    "start_time": "2022-09-18T17:17:38.349Z"
   },
   {
    "duration": 58,
    "start_time": "2022-09-18T17:17:38.364Z"
   },
   {
    "duration": 13,
    "start_time": "2022-09-18T17:17:38.423Z"
   },
   {
    "duration": 12,
    "start_time": "2022-09-18T17:17:38.437Z"
   },
   {
    "duration": 15,
    "start_time": "2022-09-18T17:17:38.450Z"
   },
   {
    "duration": 388,
    "start_time": "2022-09-18T17:36:31.543Z"
   },
   {
    "duration": 19,
    "start_time": "2022-09-18T17:36:31.933Z"
   },
   {
    "duration": 15,
    "start_time": "2022-09-18T17:36:31.954Z"
   },
   {
    "duration": 9,
    "start_time": "2022-09-18T17:36:31.971Z"
   },
   {
    "duration": 47,
    "start_time": "2022-09-18T17:36:31.981Z"
   },
   {
    "duration": 3,
    "start_time": "2022-09-18T17:36:32.030Z"
   },
   {
    "duration": 9,
    "start_time": "2022-09-18T17:36:32.035Z"
   },
   {
    "duration": 4,
    "start_time": "2022-09-18T17:36:32.046Z"
   },
   {
    "duration": 8,
    "start_time": "2022-09-18T17:36:32.051Z"
   },
   {
    "duration": 4,
    "start_time": "2022-09-18T17:36:32.061Z"
   },
   {
    "duration": 62,
    "start_time": "2022-09-18T17:36:32.066Z"
   },
   {
    "duration": 8,
    "start_time": "2022-09-18T17:36:32.130Z"
   },
   {
    "duration": 6,
    "start_time": "2022-09-18T17:36:32.140Z"
   },
   {
    "duration": 11,
    "start_time": "2022-09-18T17:36:32.148Z"
   },
   {
    "duration": 23,
    "start_time": "2022-09-18T17:36:32.161Z"
   },
   {
    "duration": 17,
    "start_time": "2022-09-18T17:36:32.200Z"
   },
   {
    "duration": 3,
    "start_time": "2022-09-18T17:36:32.219Z"
   },
   {
    "duration": 14,
    "start_time": "2022-09-18T17:36:32.223Z"
   },
   {
    "duration": 12,
    "start_time": "2022-09-18T17:36:32.238Z"
   },
   {
    "duration": 5,
    "start_time": "2022-09-18T17:36:32.252Z"
   },
   {
    "duration": 11,
    "start_time": "2022-09-18T17:36:32.258Z"
   },
   {
    "duration": 43,
    "start_time": "2022-09-18T17:36:32.271Z"
   },
   {
    "duration": 15,
    "start_time": "2022-09-18T17:36:32.315Z"
   },
   {
    "duration": 13,
    "start_time": "2022-09-18T17:36:32.332Z"
   },
   {
    "duration": 14,
    "start_time": "2022-09-18T17:36:32.347Z"
   },
   {
    "duration": 93,
    "start_time": "2022-09-18T17:42:32.478Z"
   },
   {
    "duration": 26,
    "start_time": "2022-09-18T17:42:40.178Z"
   },
   {
    "duration": 81,
    "start_time": "2022-09-18T17:43:34.005Z"
   },
   {
    "duration": 25,
    "start_time": "2022-09-18T17:43:58.052Z"
   },
   {
    "duration": 24,
    "start_time": "2022-09-18T17:44:07.658Z"
   },
   {
    "duration": 31,
    "start_time": "2022-09-18T17:44:24.986Z"
   },
   {
    "duration": 21,
    "start_time": "2022-09-18T17:44:31.549Z"
   },
   {
    "duration": 36,
    "start_time": "2022-09-18T17:44:41.742Z"
   },
   {
    "duration": 21,
    "start_time": "2022-09-18T17:45:09.783Z"
   },
   {
    "duration": 729,
    "start_time": "2022-09-18T17:45:16.890Z"
   },
   {
    "duration": 28,
    "start_time": "2022-09-18T17:45:34.314Z"
   },
   {
    "duration": 19,
    "start_time": "2022-09-18T17:45:48.787Z"
   },
   {
    "duration": 22,
    "start_time": "2022-09-18T18:40:59.297Z"
   },
   {
    "duration": 22,
    "start_time": "2022-09-18T18:41:04.499Z"
   },
   {
    "duration": 29,
    "start_time": "2022-09-18T18:41:12.701Z"
   },
   {
    "duration": 470,
    "start_time": "2022-09-18T18:41:20.581Z"
   },
   {
    "duration": 29,
    "start_time": "2022-09-18T18:41:21.054Z"
   },
   {
    "duration": 16,
    "start_time": "2022-09-18T18:41:21.085Z"
   },
   {
    "duration": 13,
    "start_time": "2022-09-18T18:41:21.121Z"
   },
   {
    "duration": 43,
    "start_time": "2022-09-18T18:41:21.136Z"
   },
   {
    "duration": 4,
    "start_time": "2022-09-18T18:41:21.181Z"
   },
   {
    "duration": 12,
    "start_time": "2022-09-18T18:41:21.186Z"
   },
   {
    "duration": 24,
    "start_time": "2022-09-18T18:41:21.200Z"
   },
   {
    "duration": 15,
    "start_time": "2022-09-18T18:41:21.226Z"
   },
   {
    "duration": 4,
    "start_time": "2022-09-18T18:41:21.244Z"
   },
   {
    "duration": 35,
    "start_time": "2022-09-18T18:41:21.250Z"
   },
   {
    "duration": 10,
    "start_time": "2022-09-18T18:41:21.287Z"
   },
   {
    "duration": 24,
    "start_time": "2022-09-18T18:41:21.299Z"
   },
   {
    "duration": 30,
    "start_time": "2022-09-18T18:41:21.325Z"
   },
   {
    "duration": 28,
    "start_time": "2022-09-18T18:41:21.357Z"
   },
   {
    "duration": 18,
    "start_time": "2022-09-18T18:41:21.387Z"
   },
   {
    "duration": 3,
    "start_time": "2022-09-18T18:41:21.407Z"
   },
   {
    "duration": 31,
    "start_time": "2022-09-18T18:41:21.412Z"
   },
   {
    "duration": 9,
    "start_time": "2022-09-18T18:41:21.445Z"
   },
   {
    "duration": 4,
    "start_time": "2022-09-18T18:41:21.455Z"
   },
   {
    "duration": 13,
    "start_time": "2022-09-18T18:41:21.460Z"
   },
   {
    "duration": 316,
    "start_time": "2022-09-18T18:41:21.475Z"
   },
   {
    "duration": 22,
    "start_time": "2022-09-18T18:41:21.793Z"
   },
   {
    "duration": 26,
    "start_time": "2022-09-18T18:41:21.820Z"
   },
   {
    "duration": 20,
    "start_time": "2022-09-18T18:41:21.848Z"
   },
   {
    "duration": 8,
    "start_time": "2022-09-18T18:41:52.432Z"
   },
   {
    "duration": 21,
    "start_time": "2022-09-18T18:41:58.238Z"
   },
   {
    "duration": 22,
    "start_time": "2022-09-18T18:42:39.848Z"
   },
   {
    "duration": 98,
    "start_time": "2022-09-18T18:44:15.398Z"
   },
   {
    "duration": 21,
    "start_time": "2022-09-18T18:44:23.782Z"
   },
   {
    "duration": 21,
    "start_time": "2022-09-18T18:44:33.591Z"
   },
   {
    "duration": 25,
    "start_time": "2022-09-18T18:44:43.187Z"
   },
   {
    "duration": 21,
    "start_time": "2022-09-18T18:44:47.955Z"
   },
   {
    "duration": 496,
    "start_time": "2022-09-18T18:48:41.524Z"
   },
   {
    "duration": 25,
    "start_time": "2022-09-18T18:48:42.022Z"
   },
   {
    "duration": 20,
    "start_time": "2022-09-18T18:48:42.048Z"
   },
   {
    "duration": 14,
    "start_time": "2022-09-18T18:48:42.070Z"
   },
   {
    "duration": 65,
    "start_time": "2022-09-18T18:48:42.086Z"
   },
   {
    "duration": 3,
    "start_time": "2022-09-18T18:48:42.153Z"
   },
   {
    "duration": 15,
    "start_time": "2022-09-18T18:48:42.158Z"
   },
   {
    "duration": 7,
    "start_time": "2022-09-18T18:48:42.175Z"
   },
   {
    "duration": 10,
    "start_time": "2022-09-18T18:48:42.183Z"
   },
   {
    "duration": 6,
    "start_time": "2022-09-18T18:48:42.196Z"
   },
   {
    "duration": 34,
    "start_time": "2022-09-18T18:48:42.221Z"
   },
   {
    "duration": 14,
    "start_time": "2022-09-18T18:48:42.256Z"
   },
   {
    "duration": 4,
    "start_time": "2022-09-18T18:48:42.272Z"
   },
   {
    "duration": 43,
    "start_time": "2022-09-18T18:48:42.278Z"
   },
   {
    "duration": 21,
    "start_time": "2022-09-18T18:48:42.323Z"
   },
   {
    "duration": 19,
    "start_time": "2022-09-18T18:48:42.346Z"
   },
   {
    "duration": 4,
    "start_time": "2022-09-18T18:48:42.367Z"
   },
   {
    "duration": 13,
    "start_time": "2022-09-18T18:48:42.373Z"
   },
   {
    "duration": 34,
    "start_time": "2022-09-18T18:48:42.388Z"
   },
   {
    "duration": 3,
    "start_time": "2022-09-18T18:48:42.424Z"
   },
   {
    "duration": 13,
    "start_time": "2022-09-18T18:48:42.429Z"
   },
   {
    "duration": 333,
    "start_time": "2022-09-18T18:48:42.444Z"
   },
   {
    "duration": 17,
    "start_time": "2022-09-18T18:48:42.779Z"
   },
   {
    "duration": 33,
    "start_time": "2022-09-18T18:48:42.798Z"
   },
   {
    "duration": 17,
    "start_time": "2022-09-18T18:48:42.833Z"
   },
   {
    "duration": 546,
    "start_time": "2022-09-18T18:49:07.419Z"
   },
   {
    "duration": 24,
    "start_time": "2022-09-18T18:49:07.967Z"
   },
   {
    "duration": 29,
    "start_time": "2022-09-18T18:49:07.992Z"
   },
   {
    "duration": 14,
    "start_time": "2022-09-18T18:49:08.023Z"
   },
   {
    "duration": 48,
    "start_time": "2022-09-18T18:49:08.039Z"
   },
   {
    "duration": 4,
    "start_time": "2022-09-18T18:49:08.089Z"
   },
   {
    "duration": 15,
    "start_time": "2022-09-18T18:49:08.094Z"
   },
   {
    "duration": 12,
    "start_time": "2022-09-18T18:49:08.111Z"
   },
   {
    "duration": 26,
    "start_time": "2022-09-18T18:49:08.126Z"
   },
   {
    "duration": 6,
    "start_time": "2022-09-18T18:49:08.156Z"
   },
   {
    "duration": 56,
    "start_time": "2022-09-18T18:49:08.164Z"
   },
   {
    "duration": 16,
    "start_time": "2022-09-18T18:49:08.222Z"
   },
   {
    "duration": 8,
    "start_time": "2022-09-18T18:49:08.240Z"
   },
   {
    "duration": 21,
    "start_time": "2022-09-18T18:49:08.251Z"
   },
   {
    "duration": 22,
    "start_time": "2022-09-18T18:49:08.273Z"
   },
   {
    "duration": 42,
    "start_time": "2022-09-18T18:49:08.296Z"
   },
   {
    "duration": 4,
    "start_time": "2022-09-18T18:49:08.341Z"
   },
   {
    "duration": 18,
    "start_time": "2022-09-18T18:49:08.347Z"
   },
   {
    "duration": 16,
    "start_time": "2022-09-18T18:49:08.367Z"
   },
   {
    "duration": 4,
    "start_time": "2022-09-18T18:49:08.385Z"
   },
   {
    "duration": 30,
    "start_time": "2022-09-18T18:49:08.391Z"
   },
   {
    "duration": 352,
    "start_time": "2022-09-18T18:49:08.423Z"
   },
   {
    "duration": 71,
    "start_time": "2022-09-18T18:49:08.777Z"
   },
   {
    "duration": 0,
    "start_time": "2022-09-18T18:49:08.850Z"
   },
   {
    "duration": 0,
    "start_time": "2022-09-18T18:49:08.852Z"
   },
   {
    "duration": 0,
    "start_time": "2022-09-18T18:49:08.854Z"
   },
   {
    "duration": 97,
    "start_time": "2022-09-18T18:53:36.597Z"
   },
   {
    "duration": 19,
    "start_time": "2022-09-18T18:53:44.994Z"
   },
   {
    "duration": 23,
    "start_time": "2022-09-18T18:53:58.063Z"
   },
   {
    "duration": 31,
    "start_time": "2022-09-18T18:54:57.264Z"
   },
   {
    "duration": 30,
    "start_time": "2022-09-18T18:55:47.957Z"
   },
   {
    "duration": 515,
    "start_time": "2022-09-18T19:03:28.784Z"
   },
   {
    "duration": 25,
    "start_time": "2022-09-18T19:03:29.301Z"
   },
   {
    "duration": 17,
    "start_time": "2022-09-18T19:03:29.328Z"
   },
   {
    "duration": 10,
    "start_time": "2022-09-18T19:03:29.347Z"
   },
   {
    "duration": 43,
    "start_time": "2022-09-18T19:03:29.359Z"
   },
   {
    "duration": 18,
    "start_time": "2022-09-18T19:03:29.404Z"
   },
   {
    "duration": 15,
    "start_time": "2022-09-18T19:03:29.424Z"
   },
   {
    "duration": 10,
    "start_time": "2022-09-18T19:03:29.441Z"
   },
   {
    "duration": 8,
    "start_time": "2022-09-18T19:03:29.453Z"
   },
   {
    "duration": 4,
    "start_time": "2022-09-18T19:03:29.463Z"
   },
   {
    "duration": 58,
    "start_time": "2022-09-18T19:03:29.469Z"
   },
   {
    "duration": 9,
    "start_time": "2022-09-18T19:03:29.529Z"
   },
   {
    "duration": 5,
    "start_time": "2022-09-18T19:03:29.539Z"
   },
   {
    "duration": 11,
    "start_time": "2022-09-18T19:03:29.546Z"
   },
   {
    "duration": 22,
    "start_time": "2022-09-18T19:03:29.559Z"
   },
   {
    "duration": 45,
    "start_time": "2022-09-18T19:03:29.582Z"
   },
   {
    "duration": 3,
    "start_time": "2022-09-18T19:03:29.629Z"
   },
   {
    "duration": 20,
    "start_time": "2022-09-18T19:03:29.634Z"
   },
   {
    "duration": 12,
    "start_time": "2022-09-18T19:03:29.656Z"
   },
   {
    "duration": 4,
    "start_time": "2022-09-18T19:03:29.670Z"
   },
   {
    "duration": 12,
    "start_time": "2022-09-18T19:03:29.675Z"
   },
   {
    "duration": 321,
    "start_time": "2022-09-18T19:03:29.689Z"
   },
   {
    "duration": 157,
    "start_time": "2022-09-18T19:03:30.012Z"
   },
   {
    "duration": 0,
    "start_time": "2022-09-18T19:03:30.170Z"
   },
   {
    "duration": 0,
    "start_time": "2022-09-18T19:03:30.172Z"
   },
   {
    "duration": 0,
    "start_time": "2022-09-18T19:03:30.173Z"
   },
   {
    "duration": 0,
    "start_time": "2022-09-18T19:03:30.174Z"
   },
   {
    "duration": 0,
    "start_time": "2022-09-18T19:03:30.175Z"
   },
   {
    "duration": 24,
    "start_time": "2022-09-18T19:07:55.706Z"
   },
   {
    "duration": 449,
    "start_time": "2022-09-18T19:11:35.189Z"
   },
   {
    "duration": 23,
    "start_time": "2022-09-18T19:11:35.640Z"
   },
   {
    "duration": 14,
    "start_time": "2022-09-18T19:11:35.665Z"
   },
   {
    "duration": 10,
    "start_time": "2022-09-18T19:11:35.680Z"
   },
   {
    "duration": 62,
    "start_time": "2022-09-18T19:11:35.692Z"
   },
   {
    "duration": 3,
    "start_time": "2022-09-18T19:11:35.756Z"
   },
   {
    "duration": 10,
    "start_time": "2022-09-18T19:11:35.761Z"
   },
   {
    "duration": 4,
    "start_time": "2022-09-18T19:11:35.772Z"
   },
   {
    "duration": 9,
    "start_time": "2022-09-18T19:11:35.778Z"
   },
   {
    "duration": 4,
    "start_time": "2022-09-18T19:11:35.788Z"
   },
   {
    "duration": 73,
    "start_time": "2022-09-18T19:11:35.794Z"
   },
   {
    "duration": 10,
    "start_time": "2022-09-18T19:11:35.868Z"
   },
   {
    "duration": 7,
    "start_time": "2022-09-18T19:11:35.880Z"
   },
   {
    "duration": 13,
    "start_time": "2022-09-18T19:11:35.889Z"
   },
   {
    "duration": 32,
    "start_time": "2022-09-18T19:11:35.904Z"
   },
   {
    "duration": 17,
    "start_time": "2022-09-18T19:11:35.937Z"
   },
   {
    "duration": 3,
    "start_time": "2022-09-18T19:11:35.956Z"
   },
   {
    "duration": 12,
    "start_time": "2022-09-18T19:11:35.961Z"
   },
   {
    "duration": 6,
    "start_time": "2022-09-18T19:11:35.974Z"
   },
   {
    "duration": 7,
    "start_time": "2022-09-18T19:11:35.981Z"
   },
   {
    "duration": 33,
    "start_time": "2022-09-18T19:11:35.990Z"
   },
   {
    "duration": 325,
    "start_time": "2022-09-18T19:11:36.024Z"
   },
   {
    "duration": 22,
    "start_time": "2022-09-18T19:11:36.351Z"
   },
   {
    "duration": 21,
    "start_time": "2022-09-18T19:11:36.375Z"
   },
   {
    "duration": 40,
    "start_time": "2022-09-18T19:11:36.398Z"
   },
   {
    "duration": 917,
    "start_time": "2022-09-18T19:37:40.718Z"
   },
   {
    "duration": 27,
    "start_time": "2022-09-18T19:37:41.637Z"
   },
   {
    "duration": 18,
    "start_time": "2022-09-18T19:37:41.666Z"
   },
   {
    "duration": 18,
    "start_time": "2022-09-18T19:37:41.687Z"
   },
   {
    "duration": 53,
    "start_time": "2022-09-18T19:37:41.707Z"
   },
   {
    "duration": 4,
    "start_time": "2022-09-18T19:37:41.761Z"
   },
   {
    "duration": 23,
    "start_time": "2022-09-18T19:37:41.766Z"
   },
   {
    "duration": 30,
    "start_time": "2022-09-18T19:37:41.791Z"
   },
   {
    "duration": 24,
    "start_time": "2022-09-18T19:37:41.823Z"
   },
   {
    "duration": 41,
    "start_time": "2022-09-18T19:37:41.849Z"
   },
   {
    "duration": 53,
    "start_time": "2022-09-18T19:37:41.892Z"
   },
   {
    "duration": 9,
    "start_time": "2022-09-18T19:37:41.947Z"
   },
   {
    "duration": 25,
    "start_time": "2022-09-18T19:37:41.958Z"
   },
   {
    "duration": 28,
    "start_time": "2022-09-18T19:37:41.984Z"
   },
   {
    "duration": 36,
    "start_time": "2022-09-18T19:37:42.013Z"
   },
   {
    "duration": 17,
    "start_time": "2022-09-18T19:37:42.050Z"
   },
   {
    "duration": 4,
    "start_time": "2022-09-18T19:37:42.069Z"
   },
   {
    "duration": 23,
    "start_time": "2022-09-18T19:37:42.075Z"
   },
   {
    "duration": 24,
    "start_time": "2022-09-18T19:37:42.100Z"
   },
   {
    "duration": 22,
    "start_time": "2022-09-18T19:37:42.126Z"
   },
   {
    "duration": 19,
    "start_time": "2022-09-18T19:37:42.150Z"
   },
   {
    "duration": 418,
    "start_time": "2022-09-18T19:37:42.171Z"
   },
   {
    "duration": 21,
    "start_time": "2022-09-18T19:37:42.591Z"
   },
   {
    "duration": 17,
    "start_time": "2022-09-18T19:37:42.614Z"
   },
   {
    "duration": 27,
    "start_time": "2022-09-18T19:37:42.632Z"
   }
  ],
  "colab": {
   "name": "dpp_template_part2.ipynb",
   "provenance": []
  },
  "kernelspec": {
   "display_name": "Python 3 (ipykernel)",
   "language": "python",
   "name": "python3"
  },
  "language_info": {
   "codemirror_mode": {
    "name": "ipython",
    "version": 3
   },
   "file_extension": ".py",
   "mimetype": "text/x-python",
   "name": "python",
   "nbconvert_exporter": "python",
   "pygments_lexer": "ipython3",
   "version": "3.9.5"
  },
  "toc": {
   "base_numbering": 1,
   "nav_menu": {},
   "number_sections": true,
   "sideBar": true,
   "skip_h1_title": true,
   "title_cell": "Table of Contents",
   "title_sidebar": "Contents",
   "toc_cell": false,
   "toc_position": {},
   "toc_section_display": true,
   "toc_window_display": false
  }
 },
 "nbformat": 4,
 "nbformat_minor": 5
}
