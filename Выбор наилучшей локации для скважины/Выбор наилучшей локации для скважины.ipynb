{
 "cells": [
  {
   "cell_type": "markdown",
   "metadata": {},
   "source": [
    "# Выбор локации для скважины"
   ]
  },
  {
   "cell_type": "markdown",
   "metadata": {},
   "source": [
    "Допустим, вы работаете в добывающей компании «ГлавРосГосНефть». Нужно решить, где бурить новую скважину.\n",
    "\n",
    "Вам предоставлены пробы нефти в трёх регионах: в каждом 10 000 месторождений, где измерили качество нефти и объём её запасов. Постройте модель машинного обучения, которая поможет определить регион, где добыча принесёт наибольшую прибыль. Проанализируйте возможную прибыль и риски техникой *Bootstrap.*\n",
    "\n",
    "Шаги для выбора локации:\n",
    "\n",
    "- В избранном регионе ищут месторождения, для каждого определяют значения признаков;\n",
    "- Строят модель и оценивают объём запасов;\n",
    "- Выбирают месторождения с самым высокими оценками значений. Количество месторождений зависит от бюджета компании и стоимости разработки одной скважины;\n",
    "- Прибыль равна суммарной прибыли отобранных месторождений."
   ]
  },
  {
   "cell_type": "markdown",
   "metadata": {},
   "source": [
    "## Загрузка и подготовка данных"
   ]
  },
  {
   "cell_type": "code",
   "execution_count": 1,
   "metadata": {},
   "outputs": [],
   "source": [
    "import pandas as pd\n",
    "from sklearn.model_selection import train_test_split\n",
    "from sklearn.linear_model import LinearRegression\n",
    "from sklearn.preprocessing import StandardScaler\n",
    "from sklearn.metrics import mean_squared_error\n",
    "import numpy as np"
   ]
  },
  {
   "cell_type": "code",
   "execution_count": 2,
   "metadata": {},
   "outputs": [],
   "source": [
    "data_0 = pd.read_csv('/datasets/geo_data_0.csv')\n",
    "data_1 = pd.read_csv('/datasets/geo_data_1.csv')\n",
    "data_2 = pd.read_csv('/datasets/geo_data_2.csv')"
   ]
  },
  {
   "cell_type": "code",
   "execution_count": 3,
   "metadata": {},
   "outputs": [],
   "source": [
    "def information(data):\n",
    "    print('    Первые 5 строк данных')\n",
    "    print(data.head())\n",
    "    print('\\n')\n",
    "    print('    Информация о таблице с данными')\n",
    "    print(data.info())\n",
    "    print('\\n')\n",
    "    print('    Наличие пропусков:')\n",
    "    print(data.isna().sum())\n",
    "    print('\\n')\n",
    "    print(f'Наличие дубликатов: {data_0.duplicated().sum()}')"
   ]
  },
  {
   "cell_type": "markdown",
   "metadata": {},
   "source": [
    "### Данные о геологоразведки первого региона"
   ]
  },
  {
   "cell_type": "code",
   "execution_count": 4,
   "metadata": {},
   "outputs": [
    {
     "name": "stdout",
     "output_type": "stream",
     "text": [
      "    Первые 5 строк данных\n",
      "      id        f0        f1        f2     product\n",
      "0  txEyH  0.705745 -0.497823  1.221170  105.280062\n",
      "1  2acmU  1.334711 -0.340164  4.365080   73.037750\n",
      "2  409Wp  1.022732  0.151990  1.419926   85.265647\n",
      "3  iJLyR -0.032172  0.139033  2.978566  168.620776\n",
      "4  Xdl7t  1.988431  0.155413  4.751769  154.036647\n",
      "\n",
      "\n",
      "    Информация о таблице с данными\n",
      "<class 'pandas.core.frame.DataFrame'>\n",
      "RangeIndex: 100000 entries, 0 to 99999\n",
      "Data columns (total 5 columns):\n",
      " #   Column   Non-Null Count   Dtype  \n",
      "---  ------   --------------   -----  \n",
      " 0   id       100000 non-null  object \n",
      " 1   f0       100000 non-null  float64\n",
      " 2   f1       100000 non-null  float64\n",
      " 3   f2       100000 non-null  float64\n",
      " 4   product  100000 non-null  float64\n",
      "dtypes: float64(4), object(1)\n",
      "memory usage: 3.8+ MB\n",
      "None\n",
      "\n",
      "\n",
      "    Наличие пропусков:\n",
      "id         0\n",
      "f0         0\n",
      "f1         0\n",
      "f2         0\n",
      "product    0\n",
      "dtype: int64\n",
      "\n",
      "\n",
      "Наличие дубликатов: 0\n"
     ]
    }
   ],
   "source": [
    "information(data_0)"
   ]
  },
  {
   "cell_type": "markdown",
   "metadata": {},
   "source": [
    "### Данные о геологоразведки второго региона"
   ]
  },
  {
   "cell_type": "code",
   "execution_count": 5,
   "metadata": {},
   "outputs": [
    {
     "name": "stdout",
     "output_type": "stream",
     "text": [
      "    Первые 5 строк данных\n",
      "      id         f0         f1        f2     product\n",
      "0  kBEdx -15.001348  -8.276000 -0.005876    3.179103\n",
      "1  62mP7  14.272088  -3.475083  0.999183   26.953261\n",
      "2  vyE1P   6.263187  -5.948386  5.001160  134.766305\n",
      "3  KcrkZ -13.081196 -11.506057  4.999415  137.945408\n",
      "4  AHL4O  12.702195  -8.147433  5.004363  134.766305\n",
      "\n",
      "\n",
      "    Информация о таблице с данными\n",
      "<class 'pandas.core.frame.DataFrame'>\n",
      "RangeIndex: 100000 entries, 0 to 99999\n",
      "Data columns (total 5 columns):\n",
      " #   Column   Non-Null Count   Dtype  \n",
      "---  ------   --------------   -----  \n",
      " 0   id       100000 non-null  object \n",
      " 1   f0       100000 non-null  float64\n",
      " 2   f1       100000 non-null  float64\n",
      " 3   f2       100000 non-null  float64\n",
      " 4   product  100000 non-null  float64\n",
      "dtypes: float64(4), object(1)\n",
      "memory usage: 3.8+ MB\n",
      "None\n",
      "\n",
      "\n",
      "    Наличие пропусков:\n",
      "id         0\n",
      "f0         0\n",
      "f1         0\n",
      "f2         0\n",
      "product    0\n",
      "dtype: int64\n",
      "\n",
      "\n",
      "Наличие дубликатов: 0\n"
     ]
    }
   ],
   "source": [
    "information(data_1)"
   ]
  },
  {
   "cell_type": "markdown",
   "metadata": {},
   "source": [
    "### Данные о геологоразведки третьего региона"
   ]
  },
  {
   "cell_type": "code",
   "execution_count": 6,
   "metadata": {},
   "outputs": [
    {
     "name": "stdout",
     "output_type": "stream",
     "text": [
      "    Первые 5 строк данных\n",
      "      id        f0        f1        f2     product\n",
      "0  fwXo0 -1.146987  0.963328 -0.828965   27.758673\n",
      "1  WJtFt  0.262778  0.269839 -2.530187   56.069697\n",
      "2  ovLUW  0.194587  0.289035 -5.586433   62.871910\n",
      "3  q6cA6  2.236060 -0.553760  0.930038  114.572842\n",
      "4  WPMUX -0.515993  1.716266  5.899011  149.600746\n",
      "\n",
      "\n",
      "    Информация о таблице с данными\n",
      "<class 'pandas.core.frame.DataFrame'>\n",
      "RangeIndex: 100000 entries, 0 to 99999\n",
      "Data columns (total 5 columns):\n",
      " #   Column   Non-Null Count   Dtype  \n",
      "---  ------   --------------   -----  \n",
      " 0   id       100000 non-null  object \n",
      " 1   f0       100000 non-null  float64\n",
      " 2   f1       100000 non-null  float64\n",
      " 3   f2       100000 non-null  float64\n",
      " 4   product  100000 non-null  float64\n",
      "dtypes: float64(4), object(1)\n",
      "memory usage: 3.8+ MB\n",
      "None\n",
      "\n",
      "\n",
      "    Наличие пропусков:\n",
      "id         0\n",
      "f0         0\n",
      "f1         0\n",
      "f2         0\n",
      "product    0\n",
      "dtype: int64\n",
      "\n",
      "\n",
      "Наличие дубликатов: 0\n"
     ]
    }
   ],
   "source": [
    "information(data_2)"
   ]
  },
  {
   "cell_type": "markdown",
   "metadata": {},
   "source": [
    "Были загружены данные всех трех регионов. Пропусков, дубликатов, некорректных наименований и не соответствующих типо данных не было обнаружено. Данные готовы для анализа."
   ]
  },
  {
   "cell_type": "markdown",
   "metadata": {},
   "source": [
    "## Обучение и проверка модели"
   ]
  },
  {
   "cell_type": "markdown",
   "metadata": {},
   "source": [
    "Каждый датасет разобьем на обучающую и валидационную выборки в соотношении 75:25. Для обучения будет использована модель LinearRegression. Так как в данных присутствуют количественные признаки, проведем стандартизацию данных. После этого по всем данным на валидационной выборке сделаем обучение. В результате найдем предсказанного сырья и RMSE модели."
   ]
  },
  {
   "cell_type": "code",
   "execution_count": 7,
   "metadata": {},
   "outputs": [],
   "source": [
    "def model_training(data):\n",
    "    features = data.drop([\"product\",\"id\"], axis=1)\n",
    "    target = data[\"product\"]\n",
    "    features_train, features_valid, target_train, target_valid = train_test_split(features, target, test_size=0.25, random_state=1)\n",
    "\n",
    "    scaler = StandardScaler().fit(features_train)\n",
    "\n",
    "    features_train = scaler.fit_transform(features_train)\n",
    "    features_valid = scaler.transform(features_valid)\n",
    "\n",
    "    model = LinearRegression()\n",
    "    model.fit(features_train, target_train)\n",
    "    pred_valid = model.predict(features_valid)\n",
    "\n",
    "    pred_valid_mean = pred_valid.mean()\n",
    "    rmse = mean_squared_error(pred_valid, target_valid) ** 0.5\n",
    "    \n",
    "    return target_valid, pred_valid, pred_valid_mean, rmse"
   ]
  },
  {
   "cell_type": "markdown",
   "metadata": {},
   "source": [
    "### Первый регион"
   ]
  },
  {
   "cell_type": "code",
   "execution_count": 8,
   "metadata": {},
   "outputs": [],
   "source": [
    "target_valid_0, pred_valid_0, pred_valid_mean_0, rmse_0 = model_training(data_0)"
   ]
  },
  {
   "cell_type": "markdown",
   "metadata": {},
   "source": [
    "### Второй регион"
   ]
  },
  {
   "cell_type": "code",
   "execution_count": 9,
   "metadata": {},
   "outputs": [],
   "source": [
    "target_valid_1, pred_valid_1, pred_valid_mean_1, rmse_1 = model_training(data_1)"
   ]
  },
  {
   "cell_type": "markdown",
   "metadata": {},
   "source": [
    "### Третий регион"
   ]
  },
  {
   "cell_type": "code",
   "execution_count": 10,
   "metadata": {
    "scrolled": true
   },
   "outputs": [],
   "source": [
    "target_valid_2, pred_valid_2, pred_valid_mean_2, rmse_2 = model_training(data_2)"
   ]
  },
  {
   "cell_type": "markdown",
   "metadata": {},
   "source": [
    "### Вывод"
   ]
  },
  {
   "cell_type": "code",
   "execution_count": 11,
   "metadata": {},
   "outputs": [
    {
     "name": "stdout",
     "output_type": "stream",
     "text": [
      "Первый регион\n",
      "Средний запас предсказанного сырья: 92.49262459838863\n",
      "RMSE модели: 37.74258669996437\n",
      "\n",
      "\n",
      "Второй регион\n",
      "Средний запас предсказанного сырья: 69.12040524285558\n",
      "RMSE модели: 0.8943375629130574\n",
      "\n",
      "\n",
      "Третий регион\n",
      "Средний запас предсказанного сырья: 94.9568304858529\n",
      "RMSE модели: 39.86671127773423\n"
     ]
    }
   ],
   "source": [
    "print('Первый регион')\n",
    "print(f'Средний запас предсказанного сырья: {pred_valid_mean_0}')\n",
    "print(f'RMSE модели: {rmse_0}')\n",
    "print('\\n')\n",
    "print('Второй регион')\n",
    "print(f'Средний запас предсказанного сырья: {pred_valid_mean_1}')\n",
    "print(f'RMSE модели: {rmse_1}')\n",
    "print('\\n')\n",
    "print('Третий регион')\n",
    "print(f'Средний запас предсказанного сырья: {pred_valid_mean_2}')\n",
    "print(f'RMSE модели: {rmse_2}')"
   ]
  },
  {
   "cell_type": "markdown",
   "metadata": {},
   "source": [
    "Рассмотрим показатели у всех трех регионов. Предсказанный средний запас сырья у первого и третьего региона почти на одном уровне. Но показатель RMSE у этих регионов слишком велик. Особенно выделяется третий регион: у него самый большой показатель запасы сырья, а также самое большое значение среднеквадратичной ошибки.\n",
    "\n",
    "\n",
    "Что нельзя сказать про второй регион. Среднее расстояние между прогнозируемыми значениями из модели и фактическими значениями в наборе данных меньше 1. Это говорит о том, что в данном случае модель лучше всего можем предсказать результат.Но при этом средний запас сырья на 20 - 25 тыс. баррелей меньше по сравнению с другими регионами."
   ]
  },
  {
   "cell_type": "markdown",
   "metadata": {},
   "source": [
    "## Подготовка к расчёту прибыли"
   ]
  },
  {
   "cell_type": "markdown",
   "metadata": {},
   "source": [
    "При разведке региона исследуют 500 точек, из которых с помощью машинного обучения выбирают 200 лучших для разработки.\n",
    "Бюджет на разработку скважин в регионе — 10 млрд рублей.\n",
    "При нынешних ценах один баррель сырья приносит 450 рублей дохода. Доход с каждой единицы продукта составляет 450 тыс. рублей, поскольку объём указан в тысячах баррелей.\n",
    "\n",
    "Нас интересует оставить лишь те регионы, в которых вероятность убытков меньше 2.5%. Среди них выбирем регион с наибольшей средней прибылью.\n",
    "\n",
    "Для этого подготовим все данные для расчета прибыли и рисков и проведем вычисления."
   ]
  },
  {
   "cell_type": "code",
   "execution_count": 12,
   "metadata": {},
   "outputs": [],
   "source": [
    "BUDGET = 10000000000\n",
    "REVENUE_UNIT_PRODUCTION = 450000\n",
    "NUMBER_DEVELOPMENT_POINTS = 200\n",
    "NUMBER_POINTS= 500"
   ]
  },
  {
   "cell_type": "markdown",
   "metadata": {},
   "source": [
    "Чтобы возможно было оценить риски, необходимо посчитать достаточный объём сырья для безубыточной разработки новой скважины. Для этого определим, сколько тысяч баррелей рассчитано на регион и затем рассчитаем средний показатель для 200 точек добычи."
   ]
  },
  {
   "cell_type": "code",
   "execution_count": 13,
   "metadata": {},
   "outputs": [
    {
     "name": "stdout",
     "output_type": "stream",
     "text": [
      "Для безубыточной разработки новой скважины необходимо (в тыс. баррелях) :\n",
      "Объем добываемого сырья в регионе:  22222.222222222223\n",
      "Средний объем добываемого сырья с одной точки добычи: 111.11111111111111\n"
     ]
    }
   ],
   "source": [
    "value = BUDGET / REVENUE_UNIT_PRODUCTION\n",
    "average = value / NUMBER_DEVELOPMENT_POINTS\n",
    "print('Для безубыточной разработки новой скважины необходимо (в тыс. баррелях) :')\n",
    "print('Объем добываемого сырья в регионе: ', value)\n",
    "print('Средний объем добываемого сырья с одной точки добычи:', average)"
   ]
  },
  {
   "cell_type": "markdown",
   "metadata": {},
   "source": [
    "## Расчёт прибыли и рисков "
   ]
  },
  {
   "cell_type": "code",
   "execution_count": 14,
   "metadata": {},
   "outputs": [],
   "source": [
    "'''\n",
    "Функция для расчёта прибыли по предсказаниям модели\n",
    "'''\n",
    "def profit_calculation(target, pred):\n",
    "    pred = pred.sort_values(ascending=False)\n",
    "    target = target[pred.index][:NUMBER_DEVELOPMENT_POINTS]\n",
    "    return target.sum() * REVENUE_UNIT_PRODUCTION - BUDGET"
   ]
  },
  {
   "cell_type": "code",
   "execution_count": 15,
   "metadata": {},
   "outputs": [],
   "source": [
    "'''\n",
    "Функция для нахождения распределение прибыли, доверительного интервала с помощью техники Bootstrap с 1000 выборок\n",
    "'''\n",
    "def profit_distribution(target, pred):\n",
    "    state = np.random.RandomState(12345)\n",
    "    bootstrap_samples = 1000\n",
    "    values = []\n",
    "    target = pd.Series(target).reset_index(drop=True)\n",
    "    pred = pd.Series(pred)\n",
    "    for i in range(bootstrap_samples):\n",
    "        subsample = target.sample(NUMBER_POINTS, replace=True, random_state=state)\n",
    "        pred_s = pred[subsample.index]\n",
    "        values.append(profit_calculation(subsample, pred_s))\n",
    "\n",
    "    values = pd.Series(values)\n",
    "    lower = values.quantile(0.025)\n",
    "    upper = values.quantile(0.975)\n",
    "    risks = (values < 0).mean()* 100\n",
    "    return values, lower, upper, risks"
   ]
  },
  {
   "cell_type": "code",
   "execution_count": 16,
   "metadata": {},
   "outputs": [],
   "source": [
    "profit_0, lower_0, upper_0, risks_0 = profit_distribution(target_valid_0, pred_valid_0)\n",
    "profit_1, lower_1, upper_1, risks_1 = profit_distribution(target_valid_1, pred_valid_1)\n",
    "profit_2, lower_2, upper_2, risks_2 = profit_distribution(target_valid_2, pred_valid_2)"
   ]
  },
  {
   "cell_type": "code",
   "execution_count": 17,
   "metadata": {},
   "outputs": [
    {
     "name": "stdout",
     "output_type": "stream",
     "text": [
      "Данные по регионам\n",
      "Первый регион\n",
      "Средняя прибыль: 458100401.7997511\n",
      "95%-й доверительный интервал: -91938453.32589239 1015824888.6825125\n",
      "1107763342.008405\n",
      "Риск убытков в процентах: 4.6\n",
      "\n",
      "\n",
      "Второй регион\n",
      "Средняя прибыль: 533609292.92167586\n",
      "95%-й доверительный интервал: 98001407.23450962 966461912.599809\n",
      "868460505.3652995\n",
      "Риск убытков в процентах: 0.1\n",
      "\n",
      "\n",
      "Третий регион\n",
      "Средняя прибыль: 426348386.1666254\n",
      "95%-й доверительный интервал: -116622627.7963096 980501749.734359\n",
      "1097124377.5306687\n",
      "Риск убытков в процентах: 6.1\n"
     ]
    }
   ],
   "source": [
    "print('Данные по регионам')\n",
    "print('Первый регион')\n",
    "print('Средняя прибыль:', profit_0.mean())\n",
    "print('95%-й доверительный интервал:', lower_0, upper_0)\n",
    "print(upper_0 - lower_0)\n",
    "print('Риск убытков в процентах:', risks_0)\n",
    "print('\\n')\n",
    "print('Второй регион')\n",
    "print('Средняя прибыль:', profit_1.mean())\n",
    "print('95%-й доверительный интервал:', lower_1, upper_1)\n",
    "print(upper_1 - lower_1)\n",
    "print('Риск убытков в процентах:', risks_1)\n",
    "print('\\n')\n",
    "print('Третий регион')\n",
    "print('Средняя прибыль:', profit_2.mean())\n",
    "print('95%-й доверительный интервал:', lower_2, upper_2)\n",
    "print(upper_2 - lower_2)\n",
    "print('Риск убытков в процентах:', risks_2)"
   ]
  },
  {
   "cell_type": "markdown",
   "metadata": {},
   "source": [
    "## Заключение "
   ]
  },
  {
   "cell_type": "markdown",
   "metadata": {},
   "source": [
    "Была поставлена задача по выбору одного региона из трех представленных для бурения новой скважины. \n",
    "\n",
    "Для анализа данные были разбиты на обучающую и валидационную выборки в соотношении 75:25. Для обучения была выбрана модель линейная регрессия. По результатам обучения наибольший показатель предсказанного среднего запаса сырья был у третьего региона (94.9568304858529). Это самое близкое значение к рассчитанному достаточному объёму сырья для безубыточной разработки новой скважины (111). При этом лучший показатель RMSE был у второго региона.\n",
    "\n",
    "При расчете прибыли для каждого региона было выявлено, что в во втором регионе наибольший показатель по значениям средней прибыли (533609292.92167586), в третьем регионе -  95%-й доверительного интервала (1097124377.5306687).\n",
    "\n",
    "Также был посчитан риск убытков. Наилучший показатель был у второго региона - 0.1 %, далее идет первый регион - 4.6 % и третий регион - 6.1 %\n",
    "\n",
    "Можно сделать вывод, что наиболее выгодным регионом для бурения новой скважины является второй регион."
   ]
  }
 ],
 "metadata": {
  "ExecuteTimeLog": [
   {
    "duration": 48,
    "start_time": "2022-12-15T19:31:37.451Z"
   },
   {
    "duration": 5,
    "start_time": "2022-12-15T19:31:43.509Z"
   },
   {
    "duration": 377,
    "start_time": "2022-12-15T19:31:47.762Z"
   },
   {
    "duration": 1593,
    "start_time": "2022-12-15T19:31:48.440Z"
   },
   {
    "duration": 40,
    "start_time": "2022-12-15T19:31:50.035Z"
   },
   {
    "duration": 85,
    "start_time": "2022-12-15T19:33:24.056Z"
   },
   {
    "duration": 74,
    "start_time": "2022-12-15T19:33:40.450Z"
   },
   {
    "duration": 83,
    "start_time": "2022-12-15T19:33:58.773Z"
   },
   {
    "duration": 75,
    "start_time": "2022-12-15T19:34:15.700Z"
   },
   {
    "duration": 76,
    "start_time": "2022-12-15T19:36:16.821Z"
   },
   {
    "duration": 77,
    "start_time": "2022-12-15T19:36:48.870Z"
   },
   {
    "duration": 75,
    "start_time": "2022-12-15T19:36:57.379Z"
   },
   {
    "duration": 64,
    "start_time": "2022-12-15T19:37:45.483Z"
   },
   {
    "duration": 67,
    "start_time": "2022-12-15T19:38:25.120Z"
   },
   {
    "duration": 63,
    "start_time": "2022-12-15T19:39:02.576Z"
   },
   {
    "duration": 70,
    "start_time": "2022-12-15T19:39:13.957Z"
   },
   {
    "duration": 400,
    "start_time": "2022-12-15T19:40:05.728Z"
   },
   {
    "duration": 342,
    "start_time": "2022-12-15T19:40:06.130Z"
   },
   {
    "duration": 78,
    "start_time": "2022-12-15T19:40:06.474Z"
   },
   {
    "duration": 77,
    "start_time": "2022-12-15T19:40:06.554Z"
   },
   {
    "duration": 67,
    "start_time": "2022-12-15T19:40:06.633Z"
   },
   {
    "duration": 371,
    "start_time": "2022-12-15T19:44:41.739Z"
   },
   {
    "duration": 340,
    "start_time": "2022-12-15T19:44:42.112Z"
   },
   {
    "duration": 72,
    "start_time": "2022-12-15T19:44:42.454Z"
   },
   {
    "duration": 64,
    "start_time": "2022-12-15T19:44:42.528Z"
   },
   {
    "duration": 75,
    "start_time": "2022-12-15T19:44:42.593Z"
   },
   {
    "duration": 69,
    "start_time": "2022-12-15T20:07:37.180Z"
   },
   {
    "duration": 11,
    "start_time": "2022-12-15T20:07:49.921Z"
   },
   {
    "duration": 1036,
    "start_time": "2022-12-15T20:09:14.363Z"
   },
   {
    "duration": 344,
    "start_time": "2022-12-15T20:09:15.401Z"
   },
   {
    "duration": 64,
    "start_time": "2022-12-15T20:09:15.747Z"
   },
   {
    "duration": 73,
    "start_time": "2022-12-15T20:09:15.822Z"
   },
   {
    "duration": 76,
    "start_time": "2022-12-15T20:09:15.898Z"
   },
   {
    "duration": 113,
    "start_time": "2022-12-15T20:09:15.976Z"
   },
   {
    "duration": 79,
    "start_time": "2022-12-15T20:10:40.444Z"
   },
   {
    "duration": 94,
    "start_time": "2022-12-15T20:10:52.631Z"
   },
   {
    "duration": 1013,
    "start_time": "2022-12-15T20:11:56.980Z"
   },
   {
    "duration": 341,
    "start_time": "2022-12-15T20:11:57.996Z"
   },
   {
    "duration": 67,
    "start_time": "2022-12-15T20:11:58.339Z"
   },
   {
    "duration": 71,
    "start_time": "2022-12-15T20:11:58.407Z"
   },
   {
    "duration": 77,
    "start_time": "2022-12-15T20:11:58.480Z"
   },
   {
    "duration": 277,
    "start_time": "2022-12-15T20:11:58.559Z"
   },
   {
    "duration": 38,
    "start_time": "2022-12-15T20:12:12.701Z"
   },
   {
    "duration": 36,
    "start_time": "2022-12-15T20:12:29.218Z"
   },
   {
    "duration": 104,
    "start_time": "2022-12-15T20:17:12.720Z"
   },
   {
    "duration": 35,
    "start_time": "2022-12-15T20:17:20.601Z"
   },
   {
    "duration": 34,
    "start_time": "2022-12-15T20:19:41.189Z"
   },
   {
    "duration": 5,
    "start_time": "2022-12-15T20:22:21.449Z"
   },
   {
    "duration": 1152,
    "start_time": "2022-12-16T19:56:53.320Z"
   },
   {
    "duration": 1701,
    "start_time": "2022-12-16T19:56:54.474Z"
   },
   {
    "duration": 69,
    "start_time": "2022-12-16T19:56:56.177Z"
   },
   {
    "duration": 69,
    "start_time": "2022-12-16T19:56:56.248Z"
   },
   {
    "duration": 81,
    "start_time": "2022-12-16T19:56:56.319Z"
   },
   {
    "duration": 55,
    "start_time": "2022-12-16T19:56:56.401Z"
   },
   {
    "duration": 212,
    "start_time": "2022-12-16T19:56:56.458Z"
   },
   {
    "duration": 201,
    "start_time": "2022-12-16T19:56:56.673Z"
   },
   {
    "duration": 78,
    "start_time": "2022-12-16T19:56:56.877Z"
   },
   {
    "duration": 99,
    "start_time": "2022-12-16T19:56:56.958Z"
   },
   {
    "duration": 5,
    "start_time": "2022-12-16T19:56:57.059Z"
   },
   {
    "duration": 4,
    "start_time": "2022-12-16T19:57:25.915Z"
   },
   {
    "duration": 4,
    "start_time": "2022-12-16T19:58:39.985Z"
   },
   {
    "duration": 4,
    "start_time": "2022-12-16T19:58:51.057Z"
   },
   {
    "duration": 1217,
    "start_time": "2022-12-16T20:39:59.468Z"
   },
   {
    "duration": 409,
    "start_time": "2022-12-16T20:40:00.688Z"
   },
   {
    "duration": 84,
    "start_time": "2022-12-16T20:40:01.099Z"
   },
   {
    "duration": 87,
    "start_time": "2022-12-16T20:40:01.186Z"
   },
   {
    "duration": 82,
    "start_time": "2022-12-16T20:40:01.275Z"
   },
   {
    "duration": 51,
    "start_time": "2022-12-16T20:40:01.359Z"
   },
   {
    "duration": 138,
    "start_time": "2022-12-16T20:40:01.452Z"
   },
   {
    "duration": 129,
    "start_time": "2022-12-16T20:40:01.652Z"
   },
   {
    "duration": 73,
    "start_time": "2022-12-16T20:40:01.783Z"
   },
   {
    "duration": 103,
    "start_time": "2022-12-16T20:40:01.859Z"
   },
   {
    "duration": 19,
    "start_time": "2022-12-16T20:40:01.964Z"
   },
   {
    "duration": 5,
    "start_time": "2022-12-16T20:40:01.985Z"
   },
   {
    "duration": 76,
    "start_time": "2022-12-16T20:40:01.992Z"
   },
   {
    "duration": 0,
    "start_time": "2022-12-16T20:40:02.069Z"
   },
   {
    "duration": 0,
    "start_time": "2022-12-16T20:40:02.071Z"
   },
   {
    "duration": 1122,
    "start_time": "2022-12-16T20:40:16.789Z"
   },
   {
    "duration": 429,
    "start_time": "2022-12-16T20:40:17.913Z"
   },
   {
    "duration": 94,
    "start_time": "2022-12-16T20:40:18.343Z"
   },
   {
    "duration": 81,
    "start_time": "2022-12-16T20:40:18.439Z"
   },
   {
    "duration": 93,
    "start_time": "2022-12-16T20:40:18.522Z"
   },
   {
    "duration": 71,
    "start_time": "2022-12-16T20:40:18.617Z"
   },
   {
    "duration": 184,
    "start_time": "2022-12-16T20:40:18.690Z"
   },
   {
    "duration": 204,
    "start_time": "2022-12-16T20:40:18.877Z"
   },
   {
    "duration": 69,
    "start_time": "2022-12-16T20:40:19.083Z"
   },
   {
    "duration": 97,
    "start_time": "2022-12-16T20:40:19.155Z"
   },
   {
    "duration": 21,
    "start_time": "2022-12-16T20:40:19.254Z"
   },
   {
    "duration": 31,
    "start_time": "2022-12-16T20:40:19.277Z"
   },
   {
    "duration": 24,
    "start_time": "2022-12-16T20:40:19.310Z"
   },
   {
    "duration": 79,
    "start_time": "2022-12-16T20:40:19.337Z"
   },
   {
    "duration": 0,
    "start_time": "2022-12-16T20:40:19.418Z"
   },
   {
    "duration": 1168,
    "start_time": "2022-12-16T20:40:33.250Z"
   },
   {
    "duration": 409,
    "start_time": "2022-12-16T20:40:34.420Z"
   },
   {
    "duration": 82,
    "start_time": "2022-12-16T20:40:34.831Z"
   },
   {
    "duration": 83,
    "start_time": "2022-12-16T20:40:34.915Z"
   },
   {
    "duration": 86,
    "start_time": "2022-12-16T20:40:35.000Z"
   },
   {
    "duration": 70,
    "start_time": "2022-12-16T20:40:35.088Z"
   },
   {
    "duration": 210,
    "start_time": "2022-12-16T20:40:35.162Z"
   },
   {
    "duration": 277,
    "start_time": "2022-12-16T20:40:35.374Z"
   },
   {
    "duration": 7,
    "start_time": "2022-12-16T20:40:35.653Z"
   },
   {
    "duration": 102,
    "start_time": "2022-12-16T20:40:35.662Z"
   },
   {
    "duration": 9,
    "start_time": "2022-12-16T20:40:35.766Z"
   },
   {
    "duration": 21,
    "start_time": "2022-12-16T20:40:35.776Z"
   },
   {
    "duration": 9,
    "start_time": "2022-12-16T20:40:35.799Z"
   },
   {
    "duration": 106,
    "start_time": "2022-12-16T20:40:35.810Z"
   },
   {
    "duration": 0,
    "start_time": "2022-12-16T20:40:35.918Z"
   },
   {
    "duration": 1190,
    "start_time": "2022-12-16T20:41:08.161Z"
   },
   {
    "duration": 451,
    "start_time": "2022-12-16T20:41:09.356Z"
   },
   {
    "duration": 105,
    "start_time": "2022-12-16T20:41:09.809Z"
   },
   {
    "duration": 90,
    "start_time": "2022-12-16T20:41:09.917Z"
   },
   {
    "duration": 91,
    "start_time": "2022-12-16T20:41:10.010Z"
   },
   {
    "duration": 148,
    "start_time": "2022-12-16T20:41:10.103Z"
   },
   {
    "duration": 131,
    "start_time": "2022-12-16T20:41:10.253Z"
   },
   {
    "duration": 188,
    "start_time": "2022-12-16T20:41:10.387Z"
   },
   {
    "duration": 7,
    "start_time": "2022-12-16T20:41:10.577Z"
   },
   {
    "duration": 7,
    "start_time": "2022-12-16T20:41:10.660Z"
   },
   {
    "duration": 86,
    "start_time": "2022-12-16T20:41:10.672Z"
   },
   {
    "duration": 4,
    "start_time": "2022-12-16T20:41:10.761Z"
   },
   {
    "duration": 9,
    "start_time": "2022-12-16T20:41:10.767Z"
   },
   {
    "duration": 483,
    "start_time": "2022-12-16T20:41:10.778Z"
   },
   {
    "duration": 111,
    "start_time": "2022-12-16T20:41:11.263Z"
   },
   {
    "duration": 1287,
    "start_time": "2022-12-16T20:43:18.326Z"
   },
   {
    "duration": 485,
    "start_time": "2022-12-16T20:43:19.616Z"
   },
   {
    "duration": 99,
    "start_time": "2022-12-16T20:43:20.105Z"
   },
   {
    "duration": 89,
    "start_time": "2022-12-16T20:43:20.206Z"
   },
   {
    "duration": 89,
    "start_time": "2022-12-16T20:43:20.297Z"
   },
   {
    "duration": 66,
    "start_time": "2022-12-16T20:43:20.388Z"
   },
   {
    "duration": 195,
    "start_time": "2022-12-16T20:43:20.456Z"
   },
   {
    "duration": 148,
    "start_time": "2022-12-16T20:43:20.653Z"
   },
   {
    "duration": 8,
    "start_time": "2022-12-16T20:43:20.853Z"
   },
   {
    "duration": 89,
    "start_time": "2022-12-16T20:43:20.863Z"
   },
   {
    "duration": 6,
    "start_time": "2022-12-16T20:43:20.954Z"
   },
   {
    "duration": 5,
    "start_time": "2022-12-16T20:43:20.962Z"
   },
   {
    "duration": 9,
    "start_time": "2022-12-16T20:43:20.968Z"
   },
   {
    "duration": 494,
    "start_time": "2022-12-16T20:43:20.979Z"
   },
   {
    "duration": 117,
    "start_time": "2022-12-16T20:43:21.475Z"
   },
   {
    "duration": 14,
    "start_time": "2022-12-16T20:43:37.808Z"
   },
   {
    "duration": 12,
    "start_time": "2022-12-16T20:44:38.428Z"
   },
   {
    "duration": 1404,
    "start_time": "2022-12-16T20:46:34.269Z"
   },
   {
    "duration": 9,
    "start_time": "2022-12-16T20:46:38.312Z"
   },
   {
    "duration": 496,
    "start_time": "2022-12-16T21:05:15.620Z"
   },
   {
    "duration": 441,
    "start_time": "2022-12-16T21:06:10.095Z"
   },
   {
    "duration": 1330,
    "start_time": "2022-12-16T21:07:03.015Z"
   },
   {
    "duration": 1139,
    "start_time": "2022-12-16T21:08:27.417Z"
   },
   {
    "duration": 423,
    "start_time": "2022-12-16T21:08:28.558Z"
   },
   {
    "duration": 83,
    "start_time": "2022-12-16T21:08:28.983Z"
   },
   {
    "duration": 89,
    "start_time": "2022-12-16T21:08:29.069Z"
   },
   {
    "duration": 102,
    "start_time": "2022-12-16T21:08:29.160Z"
   },
   {
    "duration": 87,
    "start_time": "2022-12-16T21:08:29.264Z"
   },
   {
    "duration": 132,
    "start_time": "2022-12-16T21:08:29.354Z"
   },
   {
    "duration": 202,
    "start_time": "2022-12-16T21:08:29.489Z"
   },
   {
    "duration": 64,
    "start_time": "2022-12-16T21:08:29.693Z"
   },
   {
    "duration": 105,
    "start_time": "2022-12-16T21:08:29.761Z"
   },
   {
    "duration": 18,
    "start_time": "2022-12-16T21:08:29.868Z"
   },
   {
    "duration": 13,
    "start_time": "2022-12-16T21:08:29.889Z"
   },
   {
    "duration": 24,
    "start_time": "2022-12-16T21:08:29.905Z"
   },
   {
    "duration": 1309,
    "start_time": "2022-12-16T21:08:29.931Z"
   },
   {
    "duration": 113,
    "start_time": "2022-12-16T21:08:31.242Z"
   },
   {
    "duration": 11,
    "start_time": "2022-12-16T21:09:00.669Z"
   },
   {
    "duration": 1119,
    "start_time": "2022-12-16T21:12:42.087Z"
   },
   {
    "duration": 456,
    "start_time": "2022-12-16T21:12:43.209Z"
   },
   {
    "duration": 113,
    "start_time": "2022-12-16T21:12:43.667Z"
   },
   {
    "duration": 94,
    "start_time": "2022-12-16T21:12:43.783Z"
   },
   {
    "duration": 92,
    "start_time": "2022-12-16T21:12:43.879Z"
   },
   {
    "duration": 87,
    "start_time": "2022-12-16T21:12:43.973Z"
   },
   {
    "duration": 67,
    "start_time": "2022-12-16T21:12:44.150Z"
   },
   {
    "duration": 134,
    "start_time": "2022-12-16T21:12:44.250Z"
   },
   {
    "duration": 8,
    "start_time": "2022-12-16T21:12:44.452Z"
   },
   {
    "duration": 89,
    "start_time": "2022-12-16T21:12:44.463Z"
   },
   {
    "duration": 11,
    "start_time": "2022-12-16T21:12:44.554Z"
   },
   {
    "duration": 12,
    "start_time": "2022-12-16T21:12:44.566Z"
   },
   {
    "duration": 8,
    "start_time": "2022-12-16T21:12:44.580Z"
   },
   {
    "duration": 1346,
    "start_time": "2022-12-16T21:12:44.589Z"
   },
   {
    "duration": 13,
    "start_time": "2022-12-16T21:12:45.937Z"
   },
   {
    "duration": 1073,
    "start_time": "2022-12-18T12:23:29.943Z"
   },
   {
    "duration": 1687,
    "start_time": "2022-12-18T12:23:31.018Z"
   },
   {
    "duration": 66,
    "start_time": "2022-12-18T12:23:32.707Z"
   },
   {
    "duration": 60,
    "start_time": "2022-12-18T12:23:32.775Z"
   },
   {
    "duration": 72,
    "start_time": "2022-12-18T12:23:32.837Z"
   },
   {
    "duration": 54,
    "start_time": "2022-12-18T12:23:32.910Z"
   },
   {
    "duration": 205,
    "start_time": "2022-12-18T12:23:32.966Z"
   },
   {
    "duration": 193,
    "start_time": "2022-12-18T12:23:33.173Z"
   },
   {
    "duration": 84,
    "start_time": "2022-12-18T12:23:33.368Z"
   },
   {
    "duration": 3,
    "start_time": "2022-12-18T12:23:33.456Z"
   },
   {
    "duration": 94,
    "start_time": "2022-12-18T12:23:33.460Z"
   },
   {
    "duration": 8,
    "start_time": "2022-12-18T12:23:33.555Z"
   },
   {
    "duration": 7,
    "start_time": "2022-12-18T12:23:33.564Z"
   },
   {
    "duration": 1803,
    "start_time": "2022-12-18T12:23:33.573Z"
   },
   {
    "duration": 6,
    "start_time": "2022-12-18T12:23:35.378Z"
   },
   {
    "duration": 1144,
    "start_time": "2022-12-18T12:33:54.356Z"
   },
   {
    "duration": 345,
    "start_time": "2022-12-18T12:33:55.502Z"
   },
   {
    "duration": 63,
    "start_time": "2022-12-18T12:33:55.848Z"
   },
   {
    "duration": 82,
    "start_time": "2022-12-18T12:33:55.914Z"
   },
   {
    "duration": 73,
    "start_time": "2022-12-18T12:33:55.998Z"
   },
   {
    "duration": 82,
    "start_time": "2022-12-18T12:33:56.073Z"
   },
   {
    "duration": 117,
    "start_time": "2022-12-18T12:33:56.156Z"
   },
   {
    "duration": 196,
    "start_time": "2022-12-18T12:33:56.275Z"
   },
   {
    "duration": 6,
    "start_time": "2022-12-18T12:33:56.472Z"
   },
   {
    "duration": 80,
    "start_time": "2022-12-18T12:33:56.480Z"
   },
   {
    "duration": 95,
    "start_time": "2022-12-18T12:33:56.562Z"
   },
   {
    "duration": 7,
    "start_time": "2022-12-18T12:33:56.659Z"
   },
   {
    "duration": 8,
    "start_time": "2022-12-18T12:33:56.668Z"
   },
   {
    "duration": 1757,
    "start_time": "2022-12-18T12:33:56.678Z"
   },
   {
    "duration": 9,
    "start_time": "2022-12-18T12:33:58.436Z"
   },
   {
    "duration": 1031,
    "start_time": "2022-12-18T12:36:59.813Z"
   },
   {
    "duration": 346,
    "start_time": "2022-12-18T12:37:00.846Z"
   },
   {
    "duration": 69,
    "start_time": "2022-12-18T12:37:01.194Z"
   },
   {
    "duration": 61,
    "start_time": "2022-12-18T12:37:01.265Z"
   },
   {
    "duration": 76,
    "start_time": "2022-12-18T12:37:01.328Z"
   },
   {
    "duration": 61,
    "start_time": "2022-12-18T12:37:01.405Z"
   },
   {
    "duration": 194,
    "start_time": "2022-12-18T12:37:01.557Z"
   },
   {
    "duration": 119,
    "start_time": "2022-12-18T12:37:01.754Z"
   },
   {
    "duration": 5,
    "start_time": "2022-12-18T12:37:01.875Z"
   },
   {
    "duration": 171,
    "start_time": "2022-12-18T12:37:01.882Z"
   },
   {
    "duration": 11,
    "start_time": "2022-12-18T12:37:02.055Z"
   },
   {
    "duration": 13,
    "start_time": "2022-12-18T12:37:02.068Z"
   },
   {
    "duration": 24,
    "start_time": "2022-12-18T12:37:02.082Z"
   },
   {
    "duration": 1826,
    "start_time": "2022-12-18T12:37:02.108Z"
   },
   {
    "duration": 18,
    "start_time": "2022-12-18T12:37:03.936Z"
   },
   {
    "duration": 8,
    "start_time": "2022-12-18T12:37:25.912Z"
   },
   {
    "duration": 128,
    "start_time": "2022-12-18T12:38:47.041Z"
   },
   {
    "duration": 1114,
    "start_time": "2022-12-18T12:41:46.148Z"
   },
   {
    "duration": 379,
    "start_time": "2022-12-18T12:41:47.264Z"
   },
   {
    "duration": 72,
    "start_time": "2022-12-18T12:41:47.646Z"
   },
   {
    "duration": 78,
    "start_time": "2022-12-18T12:41:47.719Z"
   },
   {
    "duration": 73,
    "start_time": "2022-12-18T12:41:47.800Z"
   },
   {
    "duration": 36,
    "start_time": "2022-12-18T12:41:47.875Z"
   },
   {
    "duration": 160,
    "start_time": "2022-12-18T12:41:47.913Z"
   },
   {
    "duration": 188,
    "start_time": "2022-12-18T12:41:48.075Z"
   },
   {
    "duration": 7,
    "start_time": "2022-12-18T12:41:48.265Z"
   },
   {
    "duration": 13,
    "start_time": "2022-12-18T12:41:48.353Z"
   },
   {
    "duration": 5,
    "start_time": "2022-12-18T12:41:48.452Z"
   },
   {
    "duration": 6,
    "start_time": "2022-12-18T12:41:48.458Z"
   },
   {
    "duration": 15,
    "start_time": "2022-12-18T12:41:48.466Z"
   },
   {
    "duration": 69,
    "start_time": "2022-12-18T12:41:48.483Z"
   },
   {
    "duration": 0,
    "start_time": "2022-12-18T12:41:48.553Z"
   },
   {
    "duration": 1094,
    "start_time": "2022-12-18T12:43:06.043Z"
   },
   {
    "duration": 347,
    "start_time": "2022-12-18T12:43:07.139Z"
   },
   {
    "duration": 68,
    "start_time": "2022-12-18T12:43:07.487Z"
   },
   {
    "duration": 62,
    "start_time": "2022-12-18T12:43:07.557Z"
   },
   {
    "duration": 82,
    "start_time": "2022-12-18T12:43:07.622Z"
   },
   {
    "duration": 147,
    "start_time": "2022-12-18T12:43:07.705Z"
   },
   {
    "duration": 199,
    "start_time": "2022-12-18T12:43:07.854Z"
   },
   {
    "duration": 126,
    "start_time": "2022-12-18T12:43:08.056Z"
   },
   {
    "duration": 6,
    "start_time": "2022-12-18T12:43:08.184Z"
   },
   {
    "duration": 3,
    "start_time": "2022-12-18T12:43:08.253Z"
   },
   {
    "duration": 103,
    "start_time": "2022-12-18T12:43:08.257Z"
   },
   {
    "duration": 11,
    "start_time": "2022-12-18T12:43:08.362Z"
   },
   {
    "duration": 10,
    "start_time": "2022-12-18T12:43:08.375Z"
   },
   {
    "duration": 105,
    "start_time": "2022-12-18T12:43:08.387Z"
   },
   {
    "duration": 0,
    "start_time": "2022-12-18T12:43:08.493Z"
   },
   {
    "duration": 1149,
    "start_time": "2022-12-18T12:45:46.045Z"
   },
   {
    "duration": 365,
    "start_time": "2022-12-18T12:45:47.197Z"
   },
   {
    "duration": 68,
    "start_time": "2022-12-18T12:45:47.564Z"
   },
   {
    "duration": 76,
    "start_time": "2022-12-18T12:45:47.634Z"
   },
   {
    "duration": 81,
    "start_time": "2022-12-18T12:45:47.713Z"
   },
   {
    "duration": 59,
    "start_time": "2022-12-18T12:45:47.795Z"
   },
   {
    "duration": 197,
    "start_time": "2022-12-18T12:45:47.856Z"
   },
   {
    "duration": 146,
    "start_time": "2022-12-18T12:45:48.055Z"
   },
   {
    "duration": 7,
    "start_time": "2022-12-18T12:45:48.254Z"
   },
   {
    "duration": 29,
    "start_time": "2022-12-18T12:45:48.353Z"
   },
   {
    "duration": 28,
    "start_time": "2022-12-18T12:45:48.384Z"
   },
   {
    "duration": 17,
    "start_time": "2022-12-18T12:45:48.414Z"
   },
   {
    "duration": 47,
    "start_time": "2022-12-18T12:45:48.433Z"
   },
   {
    "duration": 125,
    "start_time": "2022-12-18T12:45:48.482Z"
   },
   {
    "duration": 0,
    "start_time": "2022-12-18T12:45:48.609Z"
   },
   {
    "duration": 1102,
    "start_time": "2022-12-18T12:46:16.441Z"
   },
   {
    "duration": 367,
    "start_time": "2022-12-18T12:46:17.545Z"
   },
   {
    "duration": 72,
    "start_time": "2022-12-18T12:46:17.914Z"
   },
   {
    "duration": 76,
    "start_time": "2022-12-18T12:46:17.987Z"
   },
   {
    "duration": 62,
    "start_time": "2022-12-18T12:46:18.066Z"
   },
   {
    "duration": 52,
    "start_time": "2022-12-18T12:46:18.130Z"
   },
   {
    "duration": 190,
    "start_time": "2022-12-18T12:46:18.183Z"
   },
   {
    "duration": 191,
    "start_time": "2022-12-18T12:46:18.377Z"
   },
   {
    "duration": 5,
    "start_time": "2022-12-18T12:46:18.570Z"
   },
   {
    "duration": 88,
    "start_time": "2022-12-18T12:46:18.577Z"
   },
   {
    "duration": 96,
    "start_time": "2022-12-18T12:46:18.667Z"
   },
   {
    "duration": 16,
    "start_time": "2022-12-18T12:46:18.765Z"
   },
   {
    "duration": 18,
    "start_time": "2022-12-18T12:46:18.782Z"
   },
   {
    "duration": 124,
    "start_time": "2022-12-18T12:46:18.803Z"
   },
   {
    "duration": 0,
    "start_time": "2022-12-18T12:46:18.929Z"
   },
   {
    "duration": 1089,
    "start_time": "2022-12-18T12:47:45.775Z"
   },
   {
    "duration": 369,
    "start_time": "2022-12-18T12:47:46.866Z"
   },
   {
    "duration": 64,
    "start_time": "2022-12-18T12:47:47.236Z"
   },
   {
    "duration": 72,
    "start_time": "2022-12-18T12:47:47.302Z"
   },
   {
    "duration": 59,
    "start_time": "2022-12-18T12:47:47.375Z"
   },
   {
    "duration": 49,
    "start_time": "2022-12-18T12:47:47.436Z"
   },
   {
    "duration": 187,
    "start_time": "2022-12-18T12:47:47.487Z"
   },
   {
    "duration": 191,
    "start_time": "2022-12-18T12:47:47.676Z"
   },
   {
    "duration": 6,
    "start_time": "2022-12-18T12:47:47.868Z"
   },
   {
    "duration": 3,
    "start_time": "2022-12-18T12:47:47.954Z"
   },
   {
    "duration": 95,
    "start_time": "2022-12-18T12:47:47.958Z"
   },
   {
    "duration": 3,
    "start_time": "2022-12-18T12:47:48.055Z"
   },
   {
    "duration": 23,
    "start_time": "2022-12-18T12:47:48.060Z"
   },
   {
    "duration": 677,
    "start_time": "2022-12-18T12:47:48.084Z"
   },
   {
    "duration": 98,
    "start_time": "2022-12-18T12:47:48.762Z"
   },
   {
    "duration": 1082,
    "start_time": "2022-12-18T12:51:32.720Z"
   },
   {
    "duration": 333,
    "start_time": "2022-12-18T12:51:33.804Z"
   },
   {
    "duration": 69,
    "start_time": "2022-12-18T12:51:34.138Z"
   },
   {
    "duration": 80,
    "start_time": "2022-12-18T12:51:34.208Z"
   },
   {
    "duration": 68,
    "start_time": "2022-12-18T12:51:34.291Z"
   },
   {
    "duration": 102,
    "start_time": "2022-12-18T12:51:34.361Z"
   },
   {
    "duration": 124,
    "start_time": "2022-12-18T12:51:34.465Z"
   },
   {
    "duration": 184,
    "start_time": "2022-12-18T12:51:34.592Z"
   },
   {
    "duration": 74,
    "start_time": "2022-12-18T12:51:34.778Z"
   },
   {
    "duration": 97,
    "start_time": "2022-12-18T12:51:34.855Z"
   },
   {
    "duration": 4,
    "start_time": "2022-12-18T12:51:34.954Z"
   },
   {
    "duration": 10,
    "start_time": "2022-12-18T12:51:34.960Z"
   },
   {
    "duration": 6,
    "start_time": "2022-12-18T12:51:34.972Z"
   },
   {
    "duration": 1912,
    "start_time": "2022-12-18T12:51:34.981Z"
   },
   {
    "duration": 9,
    "start_time": "2022-12-18T12:51:36.895Z"
   },
   {
    "duration": 93,
    "start_time": "2022-12-18T12:53:36.213Z"
   },
   {
    "duration": 1063,
    "start_time": "2022-12-18T12:56:36.435Z"
   },
   {
    "duration": 377,
    "start_time": "2022-12-18T12:56:37.500Z"
   },
   {
    "duration": 75,
    "start_time": "2022-12-18T12:56:37.879Z"
   },
   {
    "duration": 100,
    "start_time": "2022-12-18T12:56:37.957Z"
   },
   {
    "duration": 119,
    "start_time": "2022-12-18T12:56:38.059Z"
   },
   {
    "duration": 81,
    "start_time": "2022-12-18T12:56:38.179Z"
   },
   {
    "duration": 129,
    "start_time": "2022-12-18T12:56:38.263Z"
   },
   {
    "duration": 185,
    "start_time": "2022-12-18T12:56:38.394Z"
   },
   {
    "duration": 72,
    "start_time": "2022-12-18T12:56:38.582Z"
   },
   {
    "duration": 105,
    "start_time": "2022-12-18T12:56:38.656Z"
   },
   {
    "duration": 8,
    "start_time": "2022-12-18T12:56:38.764Z"
   },
   {
    "duration": 5,
    "start_time": "2022-12-18T12:56:38.774Z"
   },
   {
    "duration": 7,
    "start_time": "2022-12-18T12:56:38.781Z"
   },
   {
    "duration": 3842,
    "start_time": "2022-12-18T12:56:38.790Z"
   },
   {
    "duration": 9,
    "start_time": "2022-12-18T12:56:42.634Z"
   },
   {
    "duration": 1064,
    "start_time": "2022-12-18T12:57:40.146Z"
   },
   {
    "duration": 352,
    "start_time": "2022-12-18T12:57:41.214Z"
   },
   {
    "duration": 96,
    "start_time": "2022-12-18T12:57:41.567Z"
   },
   {
    "duration": 99,
    "start_time": "2022-12-18T12:57:41.666Z"
   },
   {
    "duration": 62,
    "start_time": "2022-12-18T12:57:41.767Z"
   },
   {
    "duration": 63,
    "start_time": "2022-12-18T12:57:41.831Z"
   },
   {
    "duration": 190,
    "start_time": "2022-12-18T12:57:41.896Z"
   },
   {
    "duration": 194,
    "start_time": "2022-12-18T12:57:42.088Z"
   },
   {
    "duration": 7,
    "start_time": "2022-12-18T12:57:42.353Z"
   },
   {
    "duration": 103,
    "start_time": "2022-12-18T12:57:42.362Z"
   },
   {
    "duration": 8,
    "start_time": "2022-12-18T12:57:42.468Z"
   },
   {
    "duration": 8,
    "start_time": "2022-12-18T12:57:42.478Z"
   },
   {
    "duration": 10,
    "start_time": "2022-12-18T12:57:42.488Z"
   },
   {
    "duration": 152,
    "start_time": "2022-12-18T12:57:42.500Z"
   },
   {
    "duration": 0,
    "start_time": "2022-12-18T12:57:42.658Z"
   },
   {
    "duration": 1045,
    "start_time": "2022-12-18T13:00:45.796Z"
   },
   {
    "duration": 395,
    "start_time": "2022-12-18T13:00:46.844Z"
   },
   {
    "duration": 76,
    "start_time": "2022-12-18T13:00:47.245Z"
   },
   {
    "duration": 79,
    "start_time": "2022-12-18T13:00:47.323Z"
   },
   {
    "duration": 76,
    "start_time": "2022-12-18T13:00:47.404Z"
   },
   {
    "duration": 78,
    "start_time": "2022-12-18T13:00:47.482Z"
   },
   {
    "duration": 120,
    "start_time": "2022-12-18T13:00:47.562Z"
   },
   {
    "duration": 183,
    "start_time": "2022-12-18T13:00:47.684Z"
   },
   {
    "duration": 6,
    "start_time": "2022-12-18T13:00:47.869Z"
   },
   {
    "duration": 97,
    "start_time": "2022-12-18T13:00:47.955Z"
   },
   {
    "duration": 11,
    "start_time": "2022-12-18T13:00:48.054Z"
   },
   {
    "duration": 9,
    "start_time": "2022-12-18T13:00:48.067Z"
   },
   {
    "duration": 10,
    "start_time": "2022-12-18T13:00:48.077Z"
   },
   {
    "duration": 126,
    "start_time": "2022-12-18T13:00:48.088Z"
   },
   {
    "duration": 0,
    "start_time": "2022-12-18T13:00:48.215Z"
   },
   {
    "duration": 1188,
    "start_time": "2022-12-18T13:01:48.954Z"
   },
   {
    "duration": 366,
    "start_time": "2022-12-18T13:01:50.144Z"
   },
   {
    "duration": 77,
    "start_time": "2022-12-18T13:01:50.512Z"
   },
   {
    "duration": 82,
    "start_time": "2022-12-18T13:01:50.591Z"
   },
   {
    "duration": 79,
    "start_time": "2022-12-18T13:01:50.676Z"
   },
   {
    "duration": 98,
    "start_time": "2022-12-18T13:01:50.757Z"
   },
   {
    "duration": 198,
    "start_time": "2022-12-18T13:01:50.857Z"
   },
   {
    "duration": 120,
    "start_time": "2022-12-18T13:01:51.057Z"
   },
   {
    "duration": 80,
    "start_time": "2022-12-18T13:01:51.179Z"
   },
   {
    "duration": 90,
    "start_time": "2022-12-18T13:01:51.263Z"
   },
   {
    "duration": 8,
    "start_time": "2022-12-18T13:01:51.355Z"
   },
   {
    "duration": 6,
    "start_time": "2022-12-18T13:01:51.364Z"
   },
   {
    "duration": 10,
    "start_time": "2022-12-18T13:01:51.372Z"
   },
   {
    "duration": 137,
    "start_time": "2022-12-18T13:01:51.385Z"
   },
   {
    "duration": 0,
    "start_time": "2022-12-18T13:01:51.524Z"
   },
   {
    "duration": 1071,
    "start_time": "2022-12-18T13:02:26.935Z"
   },
   {
    "duration": 334,
    "start_time": "2022-12-18T13:02:28.009Z"
   },
   {
    "duration": 67,
    "start_time": "2022-12-18T13:02:28.345Z"
   },
   {
    "duration": 72,
    "start_time": "2022-12-18T13:02:28.414Z"
   },
   {
    "duration": 67,
    "start_time": "2022-12-18T13:02:28.487Z"
   },
   {
    "duration": 98,
    "start_time": "2022-12-18T13:02:28.555Z"
   },
   {
    "duration": 123,
    "start_time": "2022-12-18T13:02:28.655Z"
   },
   {
    "duration": 200,
    "start_time": "2022-12-18T13:02:28.780Z"
   },
   {
    "duration": 71,
    "start_time": "2022-12-18T13:02:28.985Z"
   },
   {
    "duration": 90,
    "start_time": "2022-12-18T13:02:29.063Z"
   },
   {
    "duration": 8,
    "start_time": "2022-12-18T13:02:29.155Z"
   },
   {
    "duration": 4,
    "start_time": "2022-12-18T13:02:29.165Z"
   },
   {
    "duration": 6,
    "start_time": "2022-12-18T13:02:29.170Z"
   },
   {
    "duration": 3879,
    "start_time": "2022-12-18T13:02:29.178Z"
   },
   {
    "duration": 9,
    "start_time": "2022-12-18T13:02:33.059Z"
   },
   {
    "duration": 90,
    "start_time": "2022-12-18T13:04:10.688Z"
   },
   {
    "duration": 3,
    "start_time": "2022-12-18T13:04:14.581Z"
   },
   {
    "duration": 60,
    "start_time": "2022-12-18T13:04:16.538Z"
   },
   {
    "duration": 1096,
    "start_time": "2022-12-18T13:07:46.544Z"
   },
   {
    "duration": 371,
    "start_time": "2022-12-18T13:07:47.642Z"
   },
   {
    "duration": 4,
    "start_time": "2022-12-18T13:07:48.015Z"
   },
   {
    "duration": 78,
    "start_time": "2022-12-18T13:07:48.020Z"
   },
   {
    "duration": 82,
    "start_time": "2022-12-18T13:07:48.100Z"
   },
   {
    "duration": 77,
    "start_time": "2022-12-18T13:07:48.183Z"
   },
   {
    "duration": 5,
    "start_time": "2022-12-18T13:07:48.262Z"
   },
   {
    "duration": 262,
    "start_time": "2022-12-18T13:07:48.268Z"
   },
   {
    "duration": 0,
    "start_time": "2022-12-18T13:07:48.533Z"
   },
   {
    "duration": 0,
    "start_time": "2022-12-18T13:07:48.534Z"
   },
   {
    "duration": 0,
    "start_time": "2022-12-18T13:07:48.551Z"
   },
   {
    "duration": 0,
    "start_time": "2022-12-18T13:07:48.553Z"
   },
   {
    "duration": 0,
    "start_time": "2022-12-18T13:07:48.554Z"
   },
   {
    "duration": 0,
    "start_time": "2022-12-18T13:07:48.555Z"
   },
   {
    "duration": 0,
    "start_time": "2022-12-18T13:07:48.556Z"
   },
   {
    "duration": 0,
    "start_time": "2022-12-18T13:07:48.558Z"
   },
   {
    "duration": 0,
    "start_time": "2022-12-18T13:07:48.559Z"
   },
   {
    "duration": 1031,
    "start_time": "2022-12-18T13:08:23.179Z"
   },
   {
    "duration": 346,
    "start_time": "2022-12-18T13:08:24.212Z"
   },
   {
    "duration": 4,
    "start_time": "2022-12-18T13:08:24.560Z"
   },
   {
    "duration": 86,
    "start_time": "2022-12-18T13:08:24.566Z"
   },
   {
    "duration": 61,
    "start_time": "2022-12-18T13:08:24.653Z"
   },
   {
    "duration": 75,
    "start_time": "2022-12-18T13:08:24.716Z"
   },
   {
    "duration": 4,
    "start_time": "2022-12-18T13:08:24.793Z"
   },
   {
    "duration": 55,
    "start_time": "2022-12-18T13:08:24.799Z"
   },
   {
    "duration": 125,
    "start_time": "2022-12-18T13:08:24.858Z"
   },
   {
    "duration": 188,
    "start_time": "2022-12-18T13:08:24.986Z"
   },
   {
    "duration": 6,
    "start_time": "2022-12-18T13:08:25.176Z"
   },
   {
    "duration": 8,
    "start_time": "2022-12-18T13:08:25.253Z"
   },
   {
    "duration": 99,
    "start_time": "2022-12-18T13:08:25.263Z"
   },
   {
    "duration": 10,
    "start_time": "2022-12-18T13:08:25.364Z"
   },
   {
    "duration": 8,
    "start_time": "2022-12-18T13:08:25.375Z"
   },
   {
    "duration": 97,
    "start_time": "2022-12-18T13:08:25.384Z"
   },
   {
    "duration": 0,
    "start_time": "2022-12-18T13:08:25.483Z"
   },
   {
    "duration": 1060,
    "start_time": "2022-12-18T13:09:18.838Z"
   },
   {
    "duration": 342,
    "start_time": "2022-12-18T13:09:19.899Z"
   },
   {
    "duration": 4,
    "start_time": "2022-12-18T13:09:20.243Z"
   },
   {
    "duration": 68,
    "start_time": "2022-12-18T13:09:20.248Z"
   },
   {
    "duration": 75,
    "start_time": "2022-12-18T13:09:20.318Z"
   },
   {
    "duration": 66,
    "start_time": "2022-12-18T13:09:20.394Z"
   },
   {
    "duration": 5,
    "start_time": "2022-12-18T13:09:20.462Z"
   },
   {
    "duration": 90,
    "start_time": "2022-12-18T13:09:20.468Z"
   },
   {
    "duration": 122,
    "start_time": "2022-12-18T13:09:20.560Z"
   },
   {
    "duration": 197,
    "start_time": "2022-12-18T13:09:20.684Z"
   },
   {
    "duration": 74,
    "start_time": "2022-12-18T13:09:20.883Z"
   },
   {
    "duration": 100,
    "start_time": "2022-12-18T13:09:20.959Z"
   },
   {
    "duration": 5,
    "start_time": "2022-12-18T13:09:21.061Z"
   },
   {
    "duration": 7,
    "start_time": "2022-12-18T13:09:21.068Z"
   },
   {
    "duration": 8,
    "start_time": "2022-12-18T13:09:21.077Z"
   },
   {
    "duration": 3897,
    "start_time": "2022-12-18T13:09:21.087Z"
   },
   {
    "duration": 10,
    "start_time": "2022-12-18T13:09:24.986Z"
   },
   {
    "duration": 1138,
    "start_time": "2022-12-18T13:10:26.221Z"
   },
   {
    "duration": 344,
    "start_time": "2022-12-18T13:10:27.362Z"
   },
   {
    "duration": 4,
    "start_time": "2022-12-18T13:10:27.708Z"
   },
   {
    "duration": 95,
    "start_time": "2022-12-18T13:10:27.713Z"
   },
   {
    "duration": 90,
    "start_time": "2022-12-18T13:10:27.811Z"
   },
   {
    "duration": 81,
    "start_time": "2022-12-18T13:10:27.903Z"
   },
   {
    "duration": 6,
    "start_time": "2022-12-18T13:10:27.987Z"
   },
   {
    "duration": 59,
    "start_time": "2022-12-18T13:10:27.994Z"
   },
   {
    "duration": 124,
    "start_time": "2022-12-18T13:10:28.055Z"
   },
   {
    "duration": 182,
    "start_time": "2022-12-18T13:10:28.181Z"
   },
   {
    "duration": 5,
    "start_time": "2022-12-18T13:10:28.364Z"
   },
   {
    "duration": 85,
    "start_time": "2022-12-18T13:10:28.373Z"
   },
   {
    "duration": 97,
    "start_time": "2022-12-18T13:10:28.460Z"
   },
   {
    "duration": 7,
    "start_time": "2022-12-18T13:10:28.560Z"
   },
   {
    "duration": 13,
    "start_time": "2022-12-18T13:10:28.569Z"
   },
   {
    "duration": 3799,
    "start_time": "2022-12-18T13:10:28.584Z"
   },
   {
    "duration": 12,
    "start_time": "2022-12-18T13:10:32.386Z"
   },
   {
    "duration": 1028,
    "start_time": "2022-12-18T13:16:49.888Z"
   },
   {
    "duration": 361,
    "start_time": "2022-12-18T13:16:50.918Z"
   },
   {
    "duration": 4,
    "start_time": "2022-12-18T13:16:51.280Z"
   },
   {
    "duration": 68,
    "start_time": "2022-12-18T13:16:51.286Z"
   },
   {
    "duration": 65,
    "start_time": "2022-12-18T13:16:51.355Z"
   },
   {
    "duration": 82,
    "start_time": "2022-12-18T13:16:51.421Z"
   },
   {
    "duration": 5,
    "start_time": "2022-12-18T13:16:51.504Z"
   },
   {
    "duration": 54,
    "start_time": "2022-12-18T13:16:51.511Z"
   },
   {
    "duration": 201,
    "start_time": "2022-12-18T13:16:51.567Z"
   },
   {
    "duration": 201,
    "start_time": "2022-12-18T13:16:51.770Z"
   },
   {
    "duration": 6,
    "start_time": "2022-12-18T13:16:51.973Z"
   },
   {
    "duration": 3,
    "start_time": "2022-12-18T13:16:52.054Z"
   },
   {
    "duration": 96,
    "start_time": "2022-12-18T13:16:52.059Z"
   },
   {
    "duration": 29,
    "start_time": "2022-12-18T13:16:52.157Z"
   },
   {
    "duration": 12,
    "start_time": "2022-12-18T13:16:52.188Z"
   },
   {
    "duration": 3953,
    "start_time": "2022-12-18T13:16:52.202Z"
   },
   {
    "duration": 8,
    "start_time": "2022-12-18T13:16:56.157Z"
   },
   {
    "duration": 1073,
    "start_time": "2022-12-18T13:22:50.643Z"
   },
   {
    "duration": 387,
    "start_time": "2022-12-18T13:22:51.718Z"
   },
   {
    "duration": 4,
    "start_time": "2022-12-18T13:22:52.107Z"
   },
   {
    "duration": 77,
    "start_time": "2022-12-18T13:22:52.112Z"
   },
   {
    "duration": 70,
    "start_time": "2022-12-18T13:22:52.191Z"
   },
   {
    "duration": 63,
    "start_time": "2022-12-18T13:22:52.263Z"
   },
   {
    "duration": 4,
    "start_time": "2022-12-18T13:22:52.328Z"
   },
   {
    "duration": 106,
    "start_time": "2022-12-18T13:22:52.353Z"
   },
   {
    "duration": 116,
    "start_time": "2022-12-18T13:22:52.460Z"
   },
   {
    "duration": 189,
    "start_time": "2022-12-18T13:22:52.579Z"
   },
   {
    "duration": 88,
    "start_time": "2022-12-18T13:22:52.770Z"
   },
   {
    "duration": 90,
    "start_time": "2022-12-18T13:22:52.863Z"
   },
   {
    "duration": 7,
    "start_time": "2022-12-18T13:22:52.955Z"
   },
   {
    "duration": 10,
    "start_time": "2022-12-18T13:22:52.965Z"
   },
   {
    "duration": 14,
    "start_time": "2022-12-18T13:22:52.977Z"
   },
   {
    "duration": 4164,
    "start_time": "2022-12-18T13:22:52.993Z"
   },
   {
    "duration": 9,
    "start_time": "2022-12-18T13:22:57.159Z"
   }
  ],
  "kernelspec": {
   "display_name": "Python 3 (ipykernel)",
   "language": "python",
   "name": "python3"
  },
  "language_info": {
   "codemirror_mode": {
    "name": "ipython",
    "version": 3
   },
   "file_extension": ".py",
   "mimetype": "text/x-python",
   "name": "python",
   "nbconvert_exporter": "python",
   "pygments_lexer": "ipython3",
   "version": "3.9.5"
  },
  "toc": {
   "base_numbering": 1,
   "nav_menu": {},
   "number_sections": true,
   "sideBar": true,
   "skip_h1_title": true,
   "title_cell": "Table of Contents",
   "title_sidebar": "Contents",
   "toc_cell": false,
   "toc_position": {},
   "toc_section_display": true,
   "toc_window_display": false
  }
 },
 "nbformat": 4,
 "nbformat_minor": 2
}
